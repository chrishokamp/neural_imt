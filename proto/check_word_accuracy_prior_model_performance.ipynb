{
 "cells": [
  {
   "cell_type": "code",
   "execution_count": 1,
   "metadata": {
    "collapsed": true
   },
   "outputs": [],
   "source": [
    "# Evaluate the baseline model -- simply the prior probability of the predicted word being correct\n",
    "# How well can we do with just this simple model?\n",
    "\n",
    "# THOUGHTS:\n",
    "# - the assumption is that the word confidence prediction model was trained on data that is similar to the \n",
    "#   data used to train the system producing the translations"
   ]
  },
  {
   "cell_type": "code",
   "execution_count": 2,
   "metadata": {
    "collapsed": false
   },
   "outputs": [
    {
     "name": "stderr",
     "output_type": "stream",
     "text": [
      "Using gpu device 0: GeForce GTX TITAN X (CNMeM is disabled, cuDNN 5103)\n"
     ]
    }
   ],
   "source": [
    "from __future__ import print_function, division\n",
    "\n",
    "import cPickle\n",
    "import os\n",
    "\n",
    "import codecs\n",
    "import numpy as np\n",
    "\n",
    "from nn_imt.evaluation import imt_f1"
   ]
  },
  {
   "cell_type": "code",
   "execution_count": 3,
   "metadata": {
    "collapsed": true
   },
   "outputs": [],
   "source": [
    "EXPERIMENT_DIR = '/media/1tb_drive/imt_models/word_prediction_accuracy_experiments/en-de/exp_1'\n",
    "word_acc_priors_file = os.path.join(EXPERIMENT_DIR, 'word_accuracy_priors.pkl')"
   ]
  },
  {
   "cell_type": "code",
   "execution_count": 4,
   "metadata": {
    "collapsed": true
   },
   "outputs": [],
   "source": [
    "# newstest 2014\n",
    "BASEDIR ='/media/1tb_drive/imt_models/newstest_2014_evaluation/'\n",
    "\n",
    "hyps_file = os.path.join(BASEDIR, 'newstest2014.de.500.bpe.imt-hyps.out')\n",
    "glimpse_file = os.path.join(BASEDIR, 'newstest2014.de.500.bpe.imt-glimpses.out')\n",
    "source_file = os.path.join(BASEDIR, 'newstest2014.de.500.bpe.imt-sources.out')\n",
    "refs_file = os.path.join(BASEDIR, 'reference_suffixes.generated')\n",
    "\n",
    "# newstest 2015\n",
    "BASEDIR ='/media/1tb_drive/imt_models/newstest_2015_evaluation/'\n",
    "\n",
    "hyps_file = os.path.join(BASEDIR, 'newstest2015.de.500.bpe.imt-hyps.out')\n",
    "glimpse_file = os.path.join(BASEDIR, 'newstest2015.de.500.bpe.imt-glimpses.out')\n",
    "source_file = os.path.join(BASEDIR, 'newstest2015.de.500.bpe.imt-sources.out')\n",
    "refs_file = os.path.join(BASEDIR, 'reference_suffixes.generated')"
   ]
  },
  {
   "cell_type": "code",
   "execution_count": 5,
   "metadata": {
    "collapsed": true
   },
   "outputs": [],
   "source": [
    "def get_lines(filename, lower=False, cutoff=None):\n",
    "    with codecs.open(filename, encoding='utf8') as inp:\n",
    "        lines = [l.split() for l in inp.read().strip().split('\\n')][:cutoff]\n",
    "        if lower:\n",
    "            lines = [[w.lower() for w in l] for l in lines]\n",
    "        return lines"
   ]
  },
  {
   "cell_type": "code",
   "execution_count": 6,
   "metadata": {
    "collapsed": true
   },
   "outputs": [],
   "source": [
    "def avg_imtF1(hyps, refs):\n",
    "    f1s, ps, rs = tuple(np.mean(m) for m in zip(*[imt_f1(h,r) for h,r in zip(hyps,refs)]))\n",
    "    return f1s, ps, rs"
   ]
  },
  {
   "cell_type": "code",
   "execution_count": 7,
   "metadata": {
    "collapsed": true
   },
   "outputs": [],
   "source": [
    "hyp_lines = get_lines(hyps_file)\n",
    "ref_lines = get_lines(refs_file)\n",
    "source_lines = get_lines(source_file)\n",
    "# glimpses = numpy.load(glimpse_file)\n",
    "\n",
    "trans_tups = zip(source_lines, hyp_lines, ref_lines)"
   ]
  },
  {
   "cell_type": "code",
   "execution_count": 66,
   "metadata": {
    "collapsed": true
   },
   "outputs": [],
   "source": [
    "# read the hyp, once you get to a word with prediction accuracy <0.5, stop\n",
    "def prune_hyps_with_prior(threshold, tups, prior_prob_index):\n",
    "    pruned_hyps = []\n",
    "    for source, hyp, ref in tups:\n",
    "#         pruned_hyp = hyp[:cutoff]\n",
    "        pruned_hyp = []\n",
    "#         for w, weights in zip(hyp[cutoff:], glimpse[cutoff:]):\n",
    "\n",
    "        for w in hyp:\n",
    "            if w in prior_prob_index:\n",
    "                if prior_prob_index[w] >= threshold:\n",
    "                    pruned_hyp.append(w)\n",
    "                else:\n",
    "                    break\n",
    "            else:\n",
    "#                 break\n",
    "                pruned_hyp.append(w)\n",
    "                \n",
    "\n",
    "        pruned_hyps.append(pruned_hyp)\n",
    "#         if len(pruned_hyp) < len(hyp):\n",
    "#             print('original hyp: {}'.format(hyp))\n",
    "#             print('pruned hyp: {}'.format(pruned_hyp))\n",
    "    return pruned_hyps"
   ]
  },
  {
   "cell_type": "code",
   "execution_count": 67,
   "metadata": {
    "collapsed": true
   },
   "outputs": [],
   "source": [
    "word_prior_map = cPickle.load(open(word_acc_priors_file))"
   ]
  },
  {
   "cell_type": "code",
   "execution_count": 77,
   "metadata": {
    "collapsed": false
   },
   "outputs": [],
   "source": [
    "t = prune_hyps_with_prior(0.1, trans_tups, word_prior_map)"
   ]
  },
  {
   "cell_type": "code",
   "execution_count": 79,
   "metadata": {
    "collapsed": false
   },
   "outputs": [
    {
     "data": {
      "text/plain": [
       "0.16798375890368175"
      ]
     },
     "execution_count": 79,
     "metadata": {},
     "output_type": "execute_result"
    }
   ],
   "source": [
    "raw_f1s, raw_ps, raw_rs = avg_imtF1(t, ref_lines)\n",
    "raw_f1s"
   ]
  },
  {
   "cell_type": "code",
   "execution_count": 78,
   "metadata": {
    "collapsed": false
   },
   "outputs": [
    {
     "data": {
      "text/plain": [
       "[[u'Indien', u'und', u'Japan'],\n",
       " [],\n",
       " [u'Indiens',\n",
       "  u'und',\n",
       "  u'Japans',\n",
       "  u'treffen',\n",
       "  u'sich',\n",
       "  u'in',\n",
       "  u'Tokio',\n",
       "  u'</S>'],\n",
       " [u'und', u'Japans', u'treffen', u'sich', u'in', u'Tokio', u'</S>'],\n",
       " [u'Japans', u'treffen', u'sich', u'in', u'Tokio', u'</S>'],\n",
       " [u'treffen', u'sich', u'in', u'Tokio', u'</S>'],\n",
       " [u'sich', u'in', u'Tokio', u'</S>'],\n",
       " [u'in', u'Tokio', u'</S>'],\n",
       " [u'Tokio', u'</S>'],\n",
       " [u'</S>']]"
      ]
     },
     "execution_count": 78,
     "metadata": {},
     "output_type": "execute_result"
    }
   ],
   "source": [
    "t[:10]"
   ]
  },
  {
   "cell_type": "code",
   "execution_count": 80,
   "metadata": {
    "collapsed": false
   },
   "outputs": [
    {
     "data": {
      "text/plain": [
       "0.16918903995065657"
      ]
     },
     "execution_count": 80,
     "metadata": {},
     "output_type": "execute_result"
    }
   ],
   "source": [
    "raw_f1s, raw_ps, raw_rs = avg_imtF1(hyp_lines, ref_lines)\n",
    "raw_f1s"
   ]
  },
  {
   "cell_type": "code",
   "execution_count": 10,
   "metadata": {
    "collapsed": false
   },
   "outputs": [],
   "source": [
    "thresholds = np.linspace(0.0, 1.0, num=50)\n",
    "\n",
    "pruned_sets = [prune_hyps_with_prior(thresh, trans_tups, word_prior_map) for thresh in thresholds]\n",
    "# t_f1s, t_ps, t_rs = zip(*[avg_imtF1(pruned_set, ref_lines) for pruned_set in pruned_sets])"
   ]
  },
  {
   "cell_type": "code",
   "execution_count": 11,
   "metadata": {
    "collapsed": true
   },
   "outputs": [],
   "source": [
    "raw_f1s, raw_ps, raw_rs = avg_imtF1(hyp_lines, ref_lines)"
   ]
  },
  {
   "cell_type": "code",
   "execution_count": 12,
   "metadata": {
    "collapsed": false
   },
   "outputs": [
    {
     "data": {
      "text/plain": [
       "0.16918903995065657"
      ]
     },
     "execution_count": 12,
     "metadata": {},
     "output_type": "execute_result"
    }
   ],
   "source": [
    "raw_f1s"
   ]
  },
  {
   "cell_type": "code",
   "execution_count": 5,
   "metadata": {
    "collapsed": false
   },
   "outputs": [
    {
     "data": {
      "text/plain": [
       "0.5324615526291555"
      ]
     },
     "execution_count": 5,
     "metadata": {},
     "output_type": "execute_result"
    }
   ],
   "source": [
    "word_prior_map['der']"
   ]
  },
  {
   "cell_type": "code",
   "execution_count": null,
   "metadata": {
    "collapsed": true
   },
   "outputs": [],
   "source": []
  }
 ],
 "metadata": {
  "kernelspec": {
   "display_name": "Python 2",
   "language": "python",
   "name": "python2"
  },
  "language_info": {
   "codemirror_mode": {
    "name": "ipython",
    "version": 2
   },
   "file_extension": ".py",
   "mimetype": "text/x-python",
   "name": "python",
   "nbconvert_exporter": "python",
   "pygments_lexer": "ipython2",
   "version": "2.7.11"
  }
 },
 "nbformat": 4,
 "nbformat_minor": 0
}
