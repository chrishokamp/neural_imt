{
 "cells": [
  {
   "cell_type": "code",
   "execution_count": 1,
   "metadata": {
    "collapsed": true
   },
   "outputs": [],
   "source": [
    "# use a single feature linear model to classify words as {'BAD'; 'OK'}\n",
    "\n",
    "import numpy as np\n",
    "import codecs\n",
    "\n",
    "from sklearn.metrics import f1_score\n"
   ]
  },
  {
   "cell_type": "code",
   "execution_count": 2,
   "metadata": {
    "collapsed": true
   },
   "outputs": [],
   "source": [
    "# Original Basedir: /media/1tb_drive/imt_models/EN-DE-confidence-baseline-PREDICTION_internal_data_dropout1.0_src_vocab80000_trg_vocab90000_emb300_rec1000_batch50/\n",
    "\n",
    "# with open('newstest2014.500.bpe_imt_test_en-de.tercom.out.pra.tags') as inp:\n",
    "#     ts = [l.split() for l in inp.read().strip().split('\\n')]\n",
    "\n",
    "with open('/home/chris/projects/neural_qe/data/wmt16/task2_en-de_dev/dev.tags.bpe') as inp:\n",
    "    ts = [l.split() for l in inp.read().strip().split('\\n')]"
   ]
  },
  {
   "cell_type": "code",
   "execution_count": 3,
   "metadata": {
    "collapsed": true
   },
   "outputs": [],
   "source": [
    "with codecs.open('/home/chris/projects/neural_qe/data/wmt16/task2_en-de_dev/dev.mt.bpe', encoding='utf8') as inp:\n",
    "    ps = [l.split() for l in inp.read().strip().split('\\n')]\n"
   ]
  },
  {
   "cell_type": "code",
   "execution_count": 5,
   "metadata": {
    "collapsed": false
   },
   "outputs": [],
   "source": [
    "# Evaluating different confidence models\n",
    "cs = [l[0] for l in np.load(open('/home/chris/projects/neural_qe/data/wmt16/task2_en-de_dev/wmt2016_qe.dev.bpe.imt-confidences.prediction_trained_final.npz'))]\n",
    "# orig_word_level_confs = [l[0] for l in numpy.load(open(confidences_file))]\n",
    "\n",
    "# cs = [l[0] for l in np.load(open('newstest2014.de.500.bpe.imt-confidences.npz'))]\n",
    "# cs = [l[0] for l in np.load(open('/media/1tb_drive/imt_models/EN-DE-confidence-3layer-baseline-PREDICTION_internal_data_dropout1.0_src_vocab80000_trg_vocab90000_emb300_rec1000_batch50/' + \\\n",
    "#                                  'newstest2014.de.500.bpe.imt-confidences.npz'))]\n",
    "# cs = [l[0] for l in np.load(open('/media/1tb_drive/imt_models/EN-DE-confidence-3layer_FINAL_STATES_PREDICTION_model_baseline_internal_data_dropout1.0_src_vocab80000_trg_vocab90000_emb300_rec1000_batch50/' + \\\n",
    "#                                  'newstest2014.de.500.bpe.imt-confidences.npz'))]\n",
    "\n",
    "# WORKING: evaluate pure confidence output\n",
    "# cs = [l[0] for l in np.load(open('/media/1tb_drive/imt_models/EN-DE-confidence-3layer_FINAL_STATES_PREDICTION_65000_iters_model_baseline_internal_data_dropout1.0_src_vocab80000_trg_vocab90000_emb300_rec1000_batch50/' + \\\n",
    "#                                  'newstest2014.de.500.bpe.imt-confidences.npz'))]\n",
    "\n",
    "# cs = [l[0] for l in np.load(open('/media/1tb_drive/imt_models/EN-DE-confidence-3layer_FINAL_STATES_l2_reg_model_baseline_internal_data_dropout0.5_src_vocab80000_trg_vocab90000_emb300_rec1000_batch50/' + \\\n",
    "#                                  'newstest2014.de.500.bpe.imt-confidences.15000_iters.npz'))]\n",
    "\n",
    "# cs = [l[0] for l in np.load(open('/media/1tb_drive/imt_models/EN-DE-confidence-3layer_FINAL_STATES_l2_reg_model_baseline_internal_data_dropout0.5_src_vocab80000_trg_vocab90000_emb300_rec1000_batch50/' + \\\n",
    "#                                  'newstest2014.de.500.bpe.imt-confidences.75000_iters.npz'))]\n",
    "\n"
   ]
  },
  {
   "cell_type": "code",
   "execution_count": 6,
   "metadata": {
    "collapsed": true
   },
   "outputs": [],
   "source": [
    "for p,c,t in zip(ps,cs,ts):               \n",
    "    try:\n",
    "        assert len(p) == len(c) == len(t)\n",
    "    except AssertionError:\n",
    "        print('P: {}, C: {}, T: {}'.format(p,c,t))\n"
   ]
  },
  {
   "cell_type": "code",
   "execution_count": 7,
   "metadata": {
    "collapsed": true
   },
   "outputs": [],
   "source": [
    "good_tag_confs = [t[1] for tags, confs in zip(ts, cs) for t in zip(tags, confs) if t[0] == 'OK']\n",
    "bad_tag_confs = [t[1] for tags, confs in zip(ts, cs) for t in zip(tags, confs) if t[0] == 'BAD']"
   ]
  },
  {
   "cell_type": "code",
   "execution_count": 8,
   "metadata": {
    "collapsed": false
   },
   "outputs": [],
   "source": [
    "# get p,r and f1\n",
    "tag_map = {'OK': 1, 'BAD': 0}\n",
    "mapped_ts = np.array([tag_map[t] for r in ts for t in r]).astype('float32')"
   ]
  },
  {
   "cell_type": "code",
   "execution_count": 9,
   "metadata": {
    "collapsed": false
   },
   "outputs": [],
   "source": [
    "def preds_at_threshold(threshold, confidence_outputs):\n",
    "    preds = np.array([c >= threshold for r in confidence_outputs for c in r], dtype='float32')\n",
    "    return preds"
   ]
  },
  {
   "cell_type": "code",
   "execution_count": 10,
   "metadata": {
    "collapsed": false
   },
   "outputs": [],
   "source": [
    "num_points = 50\n",
    "test_thresholds = np.linspace(.1, 1., num=num_points, endpoint=False)"
   ]
  },
  {
   "cell_type": "code",
   "execution_count": 25,
   "metadata": {
    "collapsed": false
   },
   "outputs": [],
   "source": [
    "class_scores = [f1_score(mapped_ts, preds_at_threshold(thresh, cs), pos_label=None, average=None) \n",
    "                for thresh in test_thresholds]\n",
    "f1_bad_scores = [s[0] for s in class_scores]\n",
    "\n",
    "weighted_avgs = [f1_score(mapped_ts, preds_at_threshold(thresh, cs), pos_label=None, average='weighted') \n",
    "                 for thresh in test_thresholds]\n"
   ]
  },
  {
   "cell_type": "code",
   "execution_count": 12,
   "metadata": {
    "collapsed": false
   },
   "outputs": [
    {
     "data": {
      "text/plain": [
       "0.35199999999999998"
      ]
     },
     "execution_count": 12,
     "metadata": {},
     "output_type": "execute_result"
    }
   ],
   "source": [
    "test_thresholds[np.argmax(weighted_avgs)]"
   ]
  },
  {
   "cell_type": "code",
   "execution_count": 13,
   "metadata": {
    "collapsed": false
   },
   "outputs": [
    {
     "data": {
      "text/plain": [
       "0.72335930620337108"
      ]
     },
     "execution_count": 13,
     "metadata": {},
     "output_type": "execute_result"
    }
   ],
   "source": [
    "weighted_avgs[np.argmax(weighted_avgs)]\n",
    "# np.argmax(weighted_avgs)"
   ]
  },
  {
   "cell_type": "code",
   "execution_count": 26,
   "metadata": {
    "collapsed": false
   },
   "outputs": [
    {
     "data": {
      "text/plain": [
       "0.67600000000000005"
      ]
     },
     "execution_count": 26,
     "metadata": {},
     "output_type": "execute_result"
    }
   ],
   "source": [
    "best_threshold = test_thresholds[np.argmax(f1_bad_scores)]\n",
    "best_threshold"
   ]
  },
  {
   "cell_type": "code",
   "execution_count": 27,
   "metadata": {
    "collapsed": false
   },
   "outputs": [],
   "source": [
    "# class_scores"
   ]
  },
  {
   "cell_type": "code",
   "execution_count": 28,
   "metadata": {
    "collapsed": true
   },
   "outputs": [],
   "source": [
    "best_preds = preds_at_threshold(best_threshold, cs) "
   ]
  },
  {
   "cell_type": "code",
   "execution_count": 29,
   "metadata": {
    "collapsed": false
   },
   "outputs": [
    {
     "data": {
      "text/plain": [
       "array([ 0.38214286,  0.57686497])"
      ]
     },
     "execution_count": 29,
     "metadata": {},
     "output_type": "execute_result"
    }
   ],
   "source": [
    "f1_score(mapped_ts, best_preds, pos_label=None, average=None)\n"
   ]
  },
  {
   "cell_type": "code",
   "execution_count": 16,
   "metadata": {
    "collapsed": false
   },
   "outputs": [
    {
     "ename": "NameError",
     "evalue": "name 'preds' is not defined",
     "output_type": "error",
     "traceback": [
      "\u001b[1;31m---------------------------------------------------------------------------\u001b[0m",
      "\u001b[1;31mNameError\u001b[0m                                 Traceback (most recent call last)",
      "\u001b[1;32m<ipython-input-16-58dd15f8c99a>\u001b[0m in \u001b[0;36m<module>\u001b[1;34m()\u001b[0m\n\u001b[0;32m      1\u001b[0m \u001b[1;33m\u001b[0m\u001b[0m\n\u001b[1;32m----> 2\u001b[1;33m \u001b[0mf1_score\u001b[0m\u001b[1;33m(\u001b[0m\u001b[0mmapped_ts\u001b[0m\u001b[1;33m,\u001b[0m \u001b[0mpreds\u001b[0m\u001b[1;33m,\u001b[0m \u001b[0mpos_label\u001b[0m\u001b[1;33m=\u001b[0m\u001b[0mNone\u001b[0m\u001b[1;33m,\u001b[0m \u001b[0maverage\u001b[0m\u001b[1;33m=\u001b[0m\u001b[0mNone\u001b[0m\u001b[1;33m)\u001b[0m\u001b[1;33m\u001b[0m\u001b[0m\n\u001b[0m\u001b[0;32m      3\u001b[0m \u001b[1;33m\u001b[0m\u001b[0m\n\u001b[0;32m      4\u001b[0m \u001b[1;31m# first single layer merged_states: array([ 0.54927389,  0.64333134])\u001b[0m\u001b[1;33m\u001b[0m\u001b[1;33m\u001b[0m\u001b[0m\n\u001b[0;32m      5\u001b[0m \u001b[1;31m# multilayer merged states: array([ 0.65879438,  0.62687981])\u001b[0m\u001b[1;33m\u001b[0m\u001b[1;33m\u001b[0m\u001b[0m\n",
      "\u001b[1;31mNameError\u001b[0m: name 'preds' is not defined"
     ]
    }
   ],
   "source": [
    "\n",
    "# f1_score(mapped_ts, preds, pos_label=None, average=None)\n",
    "\n",
    "# first single layer merged_states: array([ 0.54927389,  0.64333134])\n",
    "# multilayer merged states: array([ 0.65879438,  0.62687981])\n",
    "# multilayer final_states 30000_iters: array([ 0.58604325,  0.6401998 ])\n",
    "# multilayer final_states 65000_iters: array([ 0.60445352,  0.63979335])\n",
    "# multilayer final states 100000 iters: array([ 0.48906182,  0.66291811])\n",
    "# Orig source 65000_iters: array([ 0.60361414,  0.67312335]) -- why is this different than the original 65000 iters?\n",
    "# Orig source 35000 iters: array([ 0.57377788,  0.66835659])\n",
    "\n",
    "# Dropout + l2 reg 15000 iters: array([ 0.53738647,  0.66309669])\n",
    "# Dropout + l2 reg 75000 iters: array([ 0.38994979,  0.6569826 ])\n",
    "# -- same model -- use 0.8 as cutoff: array([ 0.71294216,  0.65057416])"
   ]
  },
  {
   "cell_type": "code",
   "execution_count": 46,
   "metadata": {
    "collapsed": false
   },
   "outputs": [
    {
     "data": {
      "text/plain": [
       "0.68352230154836602"
      ]
     },
     "execution_count": 46,
     "metadata": {},
     "output_type": "execute_result"
    }
   ],
   "source": [
    "f1_score(mapped_ts, preds, pos_label=None, average='weighted')\n",
    "# multilayer merged states: 0.64373983095908915\n",
    "# multilayer final_states 30000_iters: 0.61158965417786482\n",
    "# multilayer final_states 65000_iters: 0.62112381170756614\n",
    "# multilayer final_states 100000_iters: 0.57107226413699619"
   ]
  },
  {
   "cell_type": "code",
   "execution_count": 15,
   "metadata": {
    "collapsed": false
   },
   "outputs": [],
   "source": [
    "%matplotlib inline\n",
    "%load_ext autoreload\n",
    "%autoreload 2\n",
    "\n",
    "import matplotlib\n",
    "import numpy as np\n",
    "import matplotlib.pyplot as plt\n",
    "import matplotlib.mlab as mlab\n",
    "\n",
    "import pylab\n",
    "pylab.rcParams['figure.figsize'] = (14.0, 12.0)"
   ]
  },
  {
   "cell_type": "code",
   "execution_count": 16,
   "metadata": {
    "collapsed": false
   },
   "outputs": [
    {
     "data": {
      "image/png": "[encoded data removed]",
      "text/plain": [
       "<matplotlib.figure.Figure at 0x7f43d8c2eb90>"
      ]
     },
     "metadata": {},
     "output_type": "display_data"
    }
   ],
   "source": [
    "# plot gaussians \n",
    "good_mu = np.mean(good_tag_confs)\n",
    "bad_mu = np.mean(bad_tag_confs)\n",
    "\n",
    "bad_sigma = np.std(bad_tag_confs)\n",
    "good_sigma = np.std(good_tag_confs)\n",
    "\n",
    "x = np.linspace(0, 1, 100)\n",
    "\n",
    "plt.plot(x,mlab.normpdf(x, bad_mu, bad_sigma), c='red')\n",
    "plt.plot(x,mlab.normpdf(x, good_mu, good_sigma), c='green')\n",
    "\n",
    "plt.show()"
   ]
  },
  {
   "cell_type": "code",
   "execution_count": 17,
   "metadata": {
    "collapsed": true
   },
   "outputs": [],
   "source": [
    "import os\n",
    "import cPickle"
   ]
  },
  {
   "cell_type": "code",
   "execution_count": 18,
   "metadata": {
    "collapsed": false
   },
   "outputs": [],
   "source": [
    "# now check the performance against the simple accuracy priors\n",
    "EXPERIMENT_DIR = '/media/1tb_drive/imt_models/word_prediction_accuracy_experiments/en-de/exp_1'\n",
    "word_acc_priors_file = os.path.join(EXPERIMENT_DIR, 'word_accuracy_priors.pkl')"
   ]
  },
  {
   "cell_type": "code",
   "execution_count": 19,
   "metadata": {
    "collapsed": false
   },
   "outputs": [],
   "source": [
    "word_prior_map = cPickle.load(open(word_acc_priors_file))"
   ]
  },
  {
   "cell_type": "code",
   "execution_count": 20,
   "metadata": {
    "collapsed": false
   },
   "outputs": [
    {
     "data": {
      "text/plain": [
       "0.566366947432146"
      ]
     },
     "execution_count": 20,
     "metadata": {},
     "output_type": "execute_result"
    }
   ],
   "source": [
    "avg_prior = np.mean(word_prior_map.values())\n",
    "avg_prior"
   ]
  },
  {
   "cell_type": "code",
   "execution_count": 34,
   "metadata": {
    "collapsed": false
   },
   "outputs": [],
   "source": [
    "prior_preds = []\n",
    "num_unks = 0\n",
    "\n",
    "for l in ps:\n",
    "    for w in l:\n",
    "        if w in word_prior_map:\n",
    "            if word_prior_map[w] >= 0.5:\n",
    "                prior_preds.append(1)\n",
    "            else:\n",
    "                prior_preds.append(0)\n",
    "        else:\n",
    "            prior_preds.append(0)\n",
    "            num_unks += 1"
   ]
  },
  {
   "cell_type": "code",
   "execution_count": 35,
   "metadata": {
    "collapsed": false
   },
   "outputs": [
    {
     "data": {
      "text/plain": [
       "array([ 0.6495357 ,  0.60395435])"
      ]
     },
     "execution_count": 35,
     "metadata": {},
     "output_type": "execute_result"
    }
   ],
   "source": [
    "f1_score(mapped_ts, prior_preds, pos_label=None, average=None)"
   ]
  },
  {
   "cell_type": "code",
   "execution_count": 36,
   "metadata": {
    "collapsed": false
   },
   "outputs": [
    {
     "data": {
      "text/plain": [
       "0.62803433856165203"
      ]
     },
     "execution_count": 36,
     "metadata": {},
     "output_type": "execute_result"
    }
   ],
   "source": [
    "f1_score(mapped_ts, prior_preds, pos_label=None, average='weighted')"
   ]
  },
  {
   "cell_type": "code",
   "execution_count": 24,
   "metadata": {
    "collapsed": false
   },
   "outputs": [
    {
     "data": {
      "text/plain": [
       "0.17680200321945985"
      ]
     },
     "execution_count": 24,
     "metadata": {},
     "output_type": "execute_result"
    }
   ],
   "source": [
    "num_unks / float(len(prior_preds))"
   ]
  },
  {
   "cell_type": "code",
   "execution_count": 25,
   "metadata": {
    "collapsed": true
   },
   "outputs": [],
   "source": [
    "from collections import Counter"
   ]
  },
  {
   "cell_type": "code",
   "execution_count": 26,
   "metadata": {
    "collapsed": false
   },
   "outputs": [
    {
     "data": {
      "text/plain": [
       "Counter({0.0: 100424, 1.0: 89670})"
      ]
     },
     "execution_count": 26,
     "metadata": {},
     "output_type": "execute_result"
    }
   ],
   "source": [
    "tag_counts = Counter(mapped_ts)\n",
    "tag_counts"
   ]
  },
  {
   "cell_type": "code",
   "execution_count": 27,
   "metadata": {
    "collapsed": false
   },
   "outputs": [
    {
     "data": {
      "text/plain": [
       "0.5282860058707797"
      ]
     },
     "execution_count": 27,
     "metadata": {},
     "output_type": "execute_result"
    }
   ],
   "source": [
    "bad_prior = tag_counts[0.0] / float(sum(tag_counts.values()))\n",
    "bad_prior"
   ]
  },
  {
   "cell_type": "code",
   "execution_count": 28,
   "metadata": {
    "collapsed": false
   },
   "outputs": [
    {
     "data": {
      "text/plain": [
       "0.47171399412922027"
      ]
     },
     "execution_count": 28,
     "metadata": {},
     "output_type": "execute_result"
    }
   ],
   "source": [
    "good_prior = tag_counts[1.0] / float(sum(tag_counts.values()))\n",
    "good_prior"
   ]
  },
  {
   "cell_type": "code",
   "execution_count": 29,
   "metadata": {
    "collapsed": false
   },
   "outputs": [],
   "source": [
    "random_tags = [np.random.choice([0,1], p=[0.529, 0.471]) for _ in range(sum(tag_counts.values()))]"
   ]
  },
  {
   "cell_type": "code",
   "execution_count": 30,
   "metadata": {
    "collapsed": false
   },
   "outputs": [
    {
     "data": {
      "text/plain": [
       "array([ 0.52804208,  0.46968597])"
      ]
     },
     "execution_count": 30,
     "metadata": {},
     "output_type": "execute_result"
    }
   ],
   "source": [
    "f1_score(mapped_ts, random_tags, average=None)"
   ]
  },
  {
   "cell_type": "code",
   "execution_count": null,
   "metadata": {
    "collapsed": true
   },
   "outputs": [],
   "source": []
  }
 ],
 "metadata": {
  "kernelspec": {
   "display_name": "Python 2",
   "language": "python",
   "name": "python2"
  },
  "language_info": {
   "codemirror_mode": {
    "name": "ipython",
    "version": 2
   },
   "file_extension": ".py",
   "mimetype": "text/x-python",
   "name": "python",
   "nbconvert_exporter": "python",
   "pygments_lexer": "ipython2",
   "version": "2.7.12"
  }
 },
 "nbformat": 4,
 "nbformat_minor": 0
}
