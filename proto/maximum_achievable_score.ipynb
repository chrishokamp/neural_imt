{
 "cells": [
  {
   "cell_type": "code",
   "execution_count": 1,
   "metadata": {
    "collapsed": true
   },
   "outputs": [],
   "source": [
    "import os\n",
    "import codecs"
   ]
  },
  {
   "cell_type": "code",
   "execution_count": 2,
   "metadata": {
    "collapsed": true
   },
   "outputs": [],
   "source": [
    "# IDEA: cut full suffix hyps at the point where they become incorrect\n",
    "# Compute IMT F1 on these hyps to see what the maximum achievable MT score is \n"
   ]
  },
  {
   "cell_type": "code",
   "execution_count": 6,
   "metadata": {
    "collapsed": false
   },
   "outputs": [],
   "source": [
    "BASEDIR = '/media/1tb_drive/imt_models/suffix_scaled_cross_entropy_big_data_newstest2013_init-EN-DE_internal_data_dropout0.5_src_vocab80000_trg_vocab90000_emb300_rec1000_batch40'\n",
    "ref_file = os.path.join(BASEDIR, 'reference_suffixes.out')\n",
    "# TODO: move this to a semi-permanent file\n",
    "hyp_file = os.path.join(BASEDIR, 'validation_out.snapshot.txt')"
   ]
  },
  {
   "cell_type": "code",
   "execution_count": 7,
   "metadata": {
    "collapsed": true
   },
   "outputs": [],
   "source": [
    "def load_lines(filename):\n",
    "    with codecs.open(filename, encoding='utf8') as inp:\n",
    "        lines = [l.split() for l in inp.read().strip().split('\\n')]\n",
    "    return lines"
   ]
  },
  {
   "cell_type": "code",
   "execution_count": 8,
   "metadata": {
    "collapsed": false
   },
   "outputs": [
    {
     "name": "stdout",
     "output_type": "stream",
     "text": [
      "2210\n"
     ]
    }
   ],
   "source": [
    "hyps = load_lines(hyp_file)\n",
    "refs = load_lines(ref_file)\n",
    "assert len(hyps) == len(refs)\n",
    "print(len(hyps))"
   ]
  },
  {
   "cell_type": "code",
   "execution_count": 9,
   "metadata": {
    "collapsed": false
   },
   "outputs": [],
   "source": [
    "# cut hyps to the point where they only match the ref prefix\n",
    "matching_hyps = []\n",
    "for hyp,ref in zip(hyps, refs)[:100]:\n",
    "    matching_hyp = []\n",
    "    for i,hyp_w in enumerate(hyp):\n",
    "#         print(hyp_w)\n",
    "#         print(ref[i])\n",
    "        if i < len(ref) and ref[i] == hyp_w:\n",
    "            matching_hyp.append(hyp_w)\n",
    "        else:\n",
    "            break\n",
    "    matching_hyps.append(matching_hyp)"
   ]
  },
  {
   "cell_type": "code",
   "execution_count": 10,
   "metadata": {
    "collapsed": true
   },
   "outputs": [],
   "source": [
    "diffs = [len(h1) - len(h2) for h1,h2 in zip(matching_hyps, hyps)]"
   ]
  },
  {
   "cell_type": "code",
   "execution_count": 11,
   "metadata": {
    "collapsed": false
   },
   "outputs": [
    {
     "data": {
      "text/plain": [
       "1.27"
      ]
     },
     "execution_count": 11,
     "metadata": {},
     "output_type": "execute_result"
    }
   ],
   "source": [
    "import numpy as np\n",
    "np.mean(diffs)\n",
    "np.mean([len(i) for i in matching_hyps])"
   ]
  },
  {
   "cell_type": "code",
   "execution_count": 13,
   "metadata": {
    "collapsed": false
   },
   "outputs": [
    {
     "name": "stderr",
     "output_type": "stream",
     "text": [
      "Using gpu device 0: GeForce GTX TITAN X (CNMeM is disabled, cuDNN 4007)\n"
     ]
    }
   ],
   "source": [
    "from nn_imt.evaluation import imt_f1"
   ]
  },
  {
   "cell_type": "code",
   "execution_count": 18,
   "metadata": {
    "collapsed": false
   },
   "outputs": [
    {
     "name": "stdout",
     "output_type": "stream",
     "text": [
      "raw_f1s: 0.190309206261\n",
      "max f1s: 0.270225173767\n"
     ]
    }
   ],
   "source": [
    "# compare IMT F1 over matching hyps vs raw hyps\n",
    "raw_f1s, raw_p, raw_r = tuple(np.mean(m) for m in zip(*[imt_f1(h,r) for h,r in zip(hyps,refs)]))\n",
    "max_f1s, max_p, max_r = tuple(np.mean(m) for m in zip(*[imt_f1(h,r) for h,r in zip(matching_hyps,refs)]))\n",
    "\n",
    "print('raw_f1s: {}, raw_p: {}, raw_r: {}'.format(raw_f1s))\n",
    "print('max f1s: {}, max_p: {}'.format(max_f1s))"
   ]
  },
  {
   "cell_type": "code",
   "execution_count": null,
   "metadata": {
    "collapsed": true
   },
   "outputs": [],
   "source": [
    "# Now compare thresholded cutoffs (i.e 1-->max_len)"
   ]
  },
  {
   "cell_type": "code",
   "execution_count": null,
   "metadata": {
    "collapsed": true
   },
   "outputs": [],
   "source": [
    "# Now compare IBM model 1 cutoffs (some idea of alignment confidence? -- i.e. if we're not very sure, cut it)"
   ]
  },
  {
   "cell_type": "code",
   "execution_count": 11,
   "metadata": {
    "collapsed": false
   },
   "outputs": [
    {
     "data": {
      "text/plain": [
       "1.27"
      ]
     },
     "execution_count": 11,
     "metadata": {},
     "output_type": "execute_result"
    }
   ],
   "source": [
    "import numpy as np\n",
    "np.mean(diffs)\n",
    "np.mean([len(i) for i in matching_hyps])"
   ]
  },
  {
   "cell_type": "code",
   "execution_count": 12,
   "metadata": {
    "collapsed": false
   },
   "outputs": [
    {
     "data": {
      "text/plain": [
       "[[u'Eine', u'republi@@', u'kanische', u'Strategie', u','],\n",
       " [u'republi@@', u'kanische', u'Strategie', u','],\n",
       " [u'kanische', u'Strategie', u','],\n",
       " [u'Strategie', u','],\n",
       " [u','],\n",
       " [],\n",
       " [u'der', u'Wiederwahl', u'von', u'Obama'],\n",
       " [u'Wiederwahl', u'von', u'Obama'],\n",
       " [u'von', u'Obama'],\n",
       " [u'Obama'],\n",
       " [],\n",
       " [],\n",
       " [u'Die'],\n",
       " [],\n",
       " [],\n",
       " [u'Republikaner'],\n",
       " [],\n",
       " [u'ihre', u'Politik'],\n",
       " [u'Politik'],\n",
       " [],\n",
       " [u'der', u'Notwendigkeit'],\n",
       " [u'Notwendigkeit'],\n",
       " [],\n",
       " [],\n",
       " [u'Wahl@@', u'betrug', u'zu', u'bek\\xe4mpfen', u'.', u'</S>'],\n",
       " [u'betrug', u'zu', u'bek\\xe4mpfen', u'.', u'</S>'],\n",
       " [u'zu', u'bek\\xe4mpfen', u'.', u'</S>'],\n",
       " [u'bek\\xe4mpfen', u'.', u'</S>'],\n",
       " [u'.', u'</S>'],\n",
       " [u'</S>'],\n",
       " [],\n",
       " [],\n",
       " [],\n",
       " [u'Brenn@@', u'an'],\n",
       " [u'an'],\n",
       " [],\n",
       " [],\n",
       " [],\n",
       " [],\n",
       " [u'einen', u'Mythos', u','],\n",
       " [u'Mythos', u','],\n",
       " [u','],\n",
       " [],\n",
       " [],\n",
       " [],\n",
       " [u','],\n",
       " [],\n",
       " [],\n",
       " [],\n",
       " [u'betrug', u'in', u'den'],\n",
       " [u'in', u'den'],\n",
       " [u'den'],\n",
       " [],\n",
       " [],\n",
       " [],\n",
       " [u'als', u'die', u'Anzahl', u'der'],\n",
       " [u'die', u'Anzahl', u'der'],\n",
       " [u'Anzahl', u'der'],\n",
       " [u'der'],\n",
       " [],\n",
       " [],\n",
       " [],\n",
       " [u'get\\xf6@@', u'teten', u'Menschen', u'.', u'</S>'],\n",
       " [u'teten', u'Menschen', u'.', u'</S>'],\n",
       " [u'Menschen', u'.', u'</S>'],\n",
       " [u'.', u'</S>'],\n",
       " [u'</S>'],\n",
       " [],\n",
       " [],\n",
       " [],\n",
       " [u'Republikaner', u'haben', u'in'],\n",
       " [u'haben', u'in'],\n",
       " [u'in'],\n",
       " [],\n",
       " [],\n",
       " [],\n",
       " [u'den'],\n",
       " [],\n",
       " [],\n",
       " [u'nur', u'300', u'F\\xe4lle', u'von'],\n",
       " [u'300', u'F\\xe4lle', u'von'],\n",
       " [u'F\\xe4lle', u'von'],\n",
       " [u'von'],\n",
       " [],\n",
       " [u'betrug'],\n",
       " [],\n",
       " [u'.', u'</S>'],\n",
       " [u'</S>'],\n",
       " [],\n",
       " [u'ist', u'sicher'],\n",
       " [u'sicher'],\n",
       " [],\n",
       " [u'diese'],\n",
       " [],\n",
       " [],\n",
       " [u'werden'],\n",
       " [],\n",
       " [u'negativ', u'auf', u'die'],\n",
       " [u'auf', u'die'],\n",
       " [u'die']]"
      ]
     },
     "execution_count": 12,
     "metadata": {},
     "output_type": "execute_result"
    }
   ],
   "source": [
    "matching_hyps[:100]"
   ]
  },
  {
   "cell_type": "code",
   "execution_count": 9,
   "metadata": {
    "collapsed": false
   },
   "outputs": [
    {
     "data": {
      "text/plain": [
       "2210"
      ]
     },
     "execution_count": 9,
     "metadata": {},
     "output_type": "execute_result"
    }
   ],
   "source": [
    "len(matching_hyps)"
   ]
  },
  {
   "cell_type": "code",
   "execution_count": null,
   "metadata": {
    "collapsed": true
   },
   "outputs": [],
   "source": [
    "from nn_imt.evaluation import imt_f1"
   ]
  }
 ],
 "metadata": {
  "kernelspec": {
   "display_name": "Python 2",
   "language": "python",
   "name": "python2"
  },
  "language_info": {
   "codemirror_mode": {
    "name": "ipython",
    "version": 2
   },
   "file_extension": ".py",
   "mimetype": "text/x-python",
   "name": "python",
   "nbconvert_exporter": "python",
   "pygments_lexer": "ipython2",
   "version": "2.7.11"
  }
 },
 "nbformat": 4,
 "nbformat_minor": 0
}
