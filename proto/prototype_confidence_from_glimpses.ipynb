{
 "cells": [
  {
   "cell_type": "code",
   "execution_count": 1,
   "metadata": {
    "collapsed": true
   },
   "outputs": [],
   "source": [
    "# write out translations, along with a pickled numpy object which holds the glimpses\n",
    "# for the n-best case, this object is (n_best, words, glimpses)\n",
    "\n",
    "# truncate each suffix hyp in the n-best list according to some heuristic with the alignment model (i.e. a feature computed over the glimpses)\n",
    "# evaluate performance as the heuristic changes\n",
    "\n"
   ]
  },
  {
   "cell_type": "code",
   "execution_count": 1,
   "metadata": {
    "collapsed": false
   },
   "outputs": [],
   "source": [
    "import codecs\n",
    "import numpy\n",
    "import os"
   ]
  },
  {
   "cell_type": "code",
   "execution_count": 2,
   "metadata": {
    "collapsed": false
   },
   "outputs": [],
   "source": [
    "# newstest 2014\n",
    "BASEDIR ='/media/1tb_drive/imt_models/newstest_2014_evaluation/'\n",
    "\n",
    "hyps_file = os.path.join(BASEDIR, 'newstest2014.de.500.bpe.imt-hyps.out')\n",
    "glimpse_file = os.path.join(BASEDIR, 'newstest2014.de.500.bpe.imt-glimpses.out')\n",
    "source_file = os.path.join(BASEDIR, 'newstest2014.de.500.bpe.imt-sources.out')\n",
    "refs_file = os.path.join(BASEDIR, 'reference_suffixes.generated')\n",
    "\n",
    "# newstest 2015\n",
    "BASEDIR ='/media/1tb_drive/imt_models/newstest_2015_evaluation/'\n",
    "\n",
    "hyps_file = os.path.join(BASEDIR, 'newstest2015.de.500.bpe.imt-hyps.out')\n",
    "glimpse_file = os.path.join(BASEDIR, 'newstest2015.de.500.bpe.imt-glimpses.out')\n",
    "source_file = os.path.join(BASEDIR, 'newstest2015.de.500.bpe.imt-sources.out')\n",
    "refs_file = os.path.join(BASEDIR, 'reference_suffixes.generated')"
   ]
  },
  {
   "cell_type": "code",
   "execution_count": 3,
   "metadata": {
    "collapsed": true
   },
   "outputs": [],
   "source": [
    "# hyps_file='/media/1tb_drive/multilingual-multimodal/flickr30k/train/processed/test.imt_PROTO-DELETE-ME.hyps.out'\n",
    "# glimpse_file='/media/1tb_drive/multilingual-multimodal/flickr30k/train/processed/test.GLIMPSES_PROTO-DELETE-ME.npz'\n",
    "# source_file = '/media/1tb_drive/multilingual-multimodal/flickr30k/train/processed/test.GLIMPSES_PROTO-DELETE-ME.sources'\n",
    "# refs_file = '/media/1tb_drive/imt_models/suffix_scaled_cross_entropy_big_data_newstest2013_init-EN-DE_internal_data_dropout0.5_src_vocab80000_trg_vocab90000_emb300_rec1000_batch40/reference_suffixes.generated'"
   ]
  },
  {
   "cell_type": "code",
   "execution_count": 4,
   "metadata": {
    "collapsed": true
   },
   "outputs": [],
   "source": [
    "def get_lines(filename, lower=False, cutoff=None):\n",
    "    with codecs.open(filename, encoding='utf8') as inp:\n",
    "        lines = [l.split() for l in inp.read().strip().split('\\n')][:cutoff]\n",
    "        if lower:\n",
    "            lines = [[w.lower() for w in l] for l in lines]\n",
    "        return lines"
   ]
  },
  {
   "cell_type": "code",
   "execution_count": 5,
   "metadata": {
    "collapsed": false
   },
   "outputs": [],
   "source": [
    "hyp_lines = get_lines(hyps_file)\n",
    "ref_lines = get_lines(refs_file)\n",
    "source_lines = get_lines(source_file)\n",
    "glimpses = numpy.load(glimpse_file)"
   ]
  },
  {
   "cell_type": "code",
   "execution_count": 6,
   "metadata": {
    "collapsed": false
   },
   "outputs": [
    {
     "data": {
      "text/plain": [
       "10"
      ]
     },
     "execution_count": 6,
     "metadata": {},
     "output_type": "execute_result"
    }
   ],
   "source": [
    "len(glimpses[0][0][0])"
   ]
  },
  {
   "cell_type": "code",
   "execution_count": 7,
   "metadata": {
    "collapsed": true
   },
   "outputs": [],
   "source": [
    "# get the first-best glimpses from glimpses\n",
    "glimpses = [g[0] for g in glimpses]"
   ]
  },
  {
   "cell_type": "code",
   "execution_count": 8,
   "metadata": {
    "collapsed": false
   },
   "outputs": [
    {
     "data": {
      "text/plain": [
       "1.0000000073669071"
      ]
     },
     "execution_count": 8,
     "metadata": {},
     "output_type": "execute_result"
    }
   ],
   "source": [
    "sum(glimpses[60][0])"
   ]
  },
  {
   "cell_type": "code",
   "execution_count": 9,
   "metadata": {
    "collapsed": false
   },
   "outputs": [],
   "source": [
    "assert all(len(t) == len(g) for t,g in zip(hyp_lines, glimpses))\n",
    "assert all(len(r) == len(glimpses[i][0]) for i,r in enumerate(source_lines))"
   ]
  },
  {
   "cell_type": "code",
   "execution_count": 10,
   "metadata": {
    "collapsed": true
   },
   "outputs": [],
   "source": [
    "# Now evaluate different pruning strategies\n",
    "# BASELINE SCORES (NO TRUNCATION):INFO:__main__:IMT F1 SCORE: 0.244294277012, precision: 0.245880568086, recall: 0.244141178125\n",
    "\n",
    "# TODO: cost is a better measure of risk?? -- what is the logic?"
   ]
  },
  {
   "cell_type": "code",
   "execution_count": 11,
   "metadata": {
    "collapsed": true
   },
   "outputs": [],
   "source": [
    "trans_tups = zip(source_lines, hyp_lines, ref_lines, glimpses)"
   ]
  },
  {
   "cell_type": "code",
   "execution_count": 12,
   "metadata": {
    "collapsed": false
   },
   "outputs": [
    {
     "data": {
      "text/plain": [
       "12943"
      ]
     },
     "execution_count": 12,
     "metadata": {},
     "output_type": "execute_result"
    }
   ],
   "source": [
    "len(trans_tups)"
   ]
  },
  {
   "cell_type": "code",
   "execution_count": 13,
   "metadata": {
    "collapsed": true
   },
   "outputs": [],
   "source": [
    "# minimum length of suffix is 1 (i.e. you have to predict something)\n",
    "# best aligned word must be at least this much bigger than average \n",
    "# pruning_threshold = .8"
   ]
  },
  {
   "cell_type": "code",
   "execution_count": 14,
   "metadata": {
    "collapsed": false
   },
   "outputs": [
    {
     "data": {
      "text/plain": [
       "array([ 0.07051844,  0.53773129,  0.03352152,  0.06353786,  0.05053597,\n",
       "        0.05336797,  0.04900824,  0.04678513,  0.07615589,  0.01883754], dtype=float32)"
      ]
     },
     "execution_count": 14,
     "metadata": {},
     "output_type": "execute_result"
    }
   ],
   "source": [
    "glimpses[0][1]"
   ]
  },
  {
   "cell_type": "code",
   "execution_count": 15,
   "metadata": {
    "collapsed": false
   },
   "outputs": [],
   "source": [
    "def prune_hyps_at_threshold(threshold, tups, cutoff=3, n=3):\n",
    "    pruned_hyps = []\n",
    "    for source, hyp, ref, glimpse in tups:\n",
    "        pruned_hyp = hyp[:cutoff]\n",
    "        pruned_hyp = hyp[:1]\n",
    "#         for w, weights in zip(hyp[cutoff:], glimpse[cutoff:]):\n",
    "\n",
    "        for w, weights in zip(hyp[1:], glimpse[1:]):\n",
    "            aligned_word = numpy.argmax(weights)\n",
    "            sorted_weights = numpy.sort(weights)[::-1]\n",
    "            best_weight = sorted_weights[0]\n",
    "#             best_n_weights = sorted_weights[:n]\n",
    "\n",
    "    #         print(best_weight)\n",
    "    #         best_worst_ratio = sorted_weights[-1] / sorted_weights[0]\n",
    "            if best_weight >= threshold:\n",
    "                pruned_hyp.append(w)\n",
    "#             if np.mean(best_n_weights) >= threshold:\n",
    "#                 pruned_hyp.append(w)\n",
    "            else:\n",
    "                break\n",
    "        pruned_hyps.append(pruned_hyp)\n",
    "#         if len(pruned_hyp) < len(hyp):\n",
    "#             print('original hyp: {}'.format(hyp))\n",
    "#             print('pruned hyp: {}'.format(pruned_hyp))\n",
    "    return pruned_hyps"
   ]
  },
  {
   "cell_type": "code",
   "execution_count": 16,
   "metadata": {
    "collapsed": true
   },
   "outputs": [],
   "source": [
    "def prune_hyps_at_cutoff(cutoff, tups, n=3):\n",
    "    pruned_hyps = []\n",
    "    for source, hyp, ref, glimpse in tups:\n",
    "        pruned_hyp = hyp[:cutoff]\n",
    "        pruned_hyps.append(pruned_hyp)\n",
    "    return pruned_hyps"
   ]
  },
  {
   "cell_type": "code",
   "execution_count": 17,
   "metadata": {
    "collapsed": true
   },
   "outputs": [],
   "source": [
    "def max_achievable(hyps, refs):\n",
    "    # cut hyps to the point where they only match the ref prefix\n",
    "    matching_hyps = []\n",
    "    for hyp,ref in zip(hyps, refs)[:100]:\n",
    "        matching_hyp = []\n",
    "        for i,hyp_w in enumerate(hyp):\n",
    "            if i < len(ref) and ref[i] == hyp_w:\n",
    "                matching_hyp.append(hyp_w)\n",
    "            else:\n",
    "                break\n",
    "        matching_hyps.append(matching_hyp)\n",
    "    return matching_hyps"
   ]
  },
  {
   "cell_type": "code",
   "execution_count": 18,
   "metadata": {
    "collapsed": false
   },
   "outputs": [
    {
     "name": "stderr",
     "output_type": "stream",
     "text": [
      "Using gpu device 0: GeForce GTX TITAN X (CNMeM is disabled, cuDNN 4007)\n"
     ]
    }
   ],
   "source": [
    "# NOW compute IMT F1 for the pruned hyps, compare to IMT F1 for raw hyps\n",
    "from nn_imt.evaluation import imt_f1\n",
    "import numpy as np"
   ]
  },
  {
   "cell_type": "code",
   "execution_count": 19,
   "metadata": {
    "collapsed": true
   },
   "outputs": [],
   "source": [
    "def avg_imtF1(hyps, refs):\n",
    "    f1s, ps, rs = tuple(np.mean(m) for m in zip(*[imt_f1(h,r) for h,r in zip(hyps,refs)]))\n",
    "    return f1s, ps, rs"
   ]
  },
  {
   "cell_type": "code",
   "execution_count": 20,
   "metadata": {
    "collapsed": true
   },
   "outputs": [],
   "source": [
    "cutoffs = range(1,21)"
   ]
  },
  {
   "cell_type": "code",
   "execution_count": 21,
   "metadata": {
    "collapsed": false
   },
   "outputs": [],
   "source": [
    "cutoff_sets = [prune_hyps_at_cutoff(cutoff, trans_tups) for cutoff in cutoffs]\n",
    "c_f1s, c_ps, c_rs = zip(*[avg_imtF1(cutoff_set, ref_lines) for cutoff_set in cutoff_sets])"
   ]
  },
  {
   "cell_type": "code",
   "execution_count": 22,
   "metadata": {
    "collapsed": true
   },
   "outputs": [],
   "source": [
    "thresholds = np.linspace(0.0, 1.0, num=50)"
   ]
  },
  {
   "cell_type": "code",
   "execution_count": 23,
   "metadata": {
    "collapsed": false
   },
   "outputs": [],
   "source": [
    "pruned_sets = [prune_hyps_at_threshold(thresh, trans_tups) for thresh in thresholds]\n",
    "t_f1s, t_ps, t_rs = zip(*[avg_imtF1(pruned_set, ref_lines) for pruned_set in pruned_sets])"
   ]
  },
  {
   "cell_type": "code",
   "execution_count": 24,
   "metadata": {
    "collapsed": true
   },
   "outputs": [],
   "source": [
    "raw_f1s, raw_ps, raw_rs = avg_imtF1(hyp_lines, ref_lines)"
   ]
  },
  {
   "cell_type": "code",
   "execution_count": 25,
   "metadata": {
    "collapsed": false
   },
   "outputs": [
    {
     "data": {
      "text/plain": [
       "0.17150527793152748"
      ]
     },
     "execution_count": 25,
     "metadata": {},
     "output_type": "execute_result"
    }
   ],
   "source": [
    "2*((raw_ps*raw_rs) / (raw_ps+raw_rs))"
   ]
  },
  {
   "cell_type": "code",
   "execution_count": 26,
   "metadata": {
    "collapsed": true
   },
   "outputs": [],
   "source": [
    "max_f1s, max_ps, max_rs = avg_imtF1(max_achievable(hyp_lines, ref_lines), ref_lines)"
   ]
  },
  {
   "cell_type": "code",
   "execution_count": 27,
   "metadata": {
    "collapsed": false
   },
   "outputs": [
    {
     "data": {
      "text/plain": [
       "0.31151445695158969"
      ]
     },
     "execution_count": 27,
     "metadata": {},
     "output_type": "execute_result"
    }
   ],
   "source": [
    "2*((max_ps*max_rs) / (max_ps+max_rs))"
   ]
  },
  {
   "cell_type": "code",
   "execution_count": 28,
   "metadata": {
    "collapsed": false
   },
   "outputs": [
    {
     "data": {
      "text/plain": [
       "0.62"
      ]
     },
     "execution_count": 28,
     "metadata": {},
     "output_type": "execute_result"
    }
   ],
   "source": [
    "max_ps"
   ]
  },
  {
   "cell_type": "code",
   "execution_count": 29,
   "metadata": {
    "collapsed": false
   },
   "outputs": [
    {
     "data": {
      "text/plain": [
       "0.20801504639035129"
      ]
     },
     "execution_count": 29,
     "metadata": {},
     "output_type": "execute_result"
    }
   ],
   "source": [
    "max_rs"
   ]
  },
  {
   "cell_type": "code",
   "execution_count": 30,
   "metadata": {
    "collapsed": false
   },
   "outputs": [],
   "source": [
    "avg_thresh_f1s = [2*((p*r) / (p+r)) for p,r in zip(t_ps, t_rs)]\n",
    "avg_cutoff_f1s = [2*((p*r) / (p+r)) for p,r in zip(c_ps, c_rs)]"
   ]
  },
  {
   "cell_type": "code",
   "execution_count": 31,
   "metadata": {
    "collapsed": false
   },
   "outputs": [
    {
     "name": "stdout",
     "output_type": "stream",
     "text": [
      "0.208017508417\n",
      "3\n"
     ]
    }
   ],
   "source": [
    "best_cutoff_idx = np.argmax(avg_cutoff_f1s)\n",
    "# print(best_cutoff_idx)\n",
    "print(avg_cutoff_f1s[best_cutoff_idx])\n",
    "print(cutoffs[best_cutoff_idx])"
   ]
  },
  {
   "cell_type": "code",
   "execution_count": 32,
   "metadata": {
    "collapsed": false
   },
   "outputs": [
    {
     "name": "stdout",
     "output_type": "stream",
     "text": [
      "19\n",
      "0.199368950688\n",
      "0.387755102041\n"
     ]
    }
   ],
   "source": [
    "best_thresh_idx = np.argmax(avg_thresh_f1s)\n",
    "print(best_thresh_idx)\n",
    "print(avg_thresh_f1s[best_thresh_idx])\n",
    "print(thresholds[best_thresh_idx])"
   ]
  },
  {
   "cell_type": "code",
   "execution_count": 33,
   "metadata": {
    "collapsed": false
   },
   "outputs": [],
   "source": [
    "# now graph f1, precision, recall over threshold\n",
    "\n",
    "%matplotlib inline\n",
    "%load_ext autoreload\n",
    "%autoreload 2\n",
    "\n",
    "import matplotlib\n",
    "import numpy as np\n",
    "import matplotlib.pyplot as plt\n",
    "\n",
    "import pylab\n",
    "pylab.rcParams['figure.figsize'] = (14.0, 12.0)\n",
    "pylab.rcParams['axes.linewidth'] = 2. #set the value globally\n",
    "params = {'legend.fontsize': 20}\n",
    "#           'legend.linewidth': 2}\n",
    "pylab.rcParams.update(params)"
   ]
  },
  {
   "cell_type": "code",
   "execution_count": 34,
   "metadata": {
    "collapsed": false
   },
   "outputs": [
    {
     "data": {
      "text/plain": [
       "[u'agg.path.chunksize',\n",
       " u'animation.avconv_args',\n",
       " u'animation.avconv_path',\n",
       " u'animation.bitrate',\n",
       " u'animation.codec',\n",
       " u'animation.convert_args',\n",
       " u'animation.convert_path',\n",
       " u'animation.ffmpeg_args',\n",
       " u'animation.ffmpeg_path',\n",
       " u'animation.frame_format',\n",
       " u'animation.html',\n",
       " u'animation.mencoder_args',\n",
       " u'animation.mencoder_path',\n",
       " u'animation.writer',\n",
       " u'axes.axisbelow',\n",
       " u'axes.edgecolor',\n",
       " u'axes.facecolor',\n",
       " u'axes.formatter.limits',\n",
       " u'axes.formatter.use_locale',\n",
       " u'axes.formatter.use_mathtext',\n",
       " u'axes.formatter.useoffset',\n",
       " u'axes.grid',\n",
       " u'axes.grid.axis',\n",
       " u'axes.grid.which',\n",
       " u'axes.hold',\n",
       " u'axes.labelcolor',\n",
       " u'axes.labelpad',\n",
       " u'axes.labelsize',\n",
       " u'axes.labelweight',\n",
       " u'axes.linewidth',\n",
       " u'axes.prop_cycle',\n",
       " u'axes.spines.bottom',\n",
       " u'axes.spines.left',\n",
       " u'axes.spines.right',\n",
       " u'axes.spines.top',\n",
       " u'axes.titlesize',\n",
       " u'axes.titleweight',\n",
       " u'axes.unicode_minus',\n",
       " u'axes.xmargin',\n",
       " u'axes.ymargin',\n",
       " u'axes3d.grid',\n",
       " u'backend',\n",
       " u'backend.qt4',\n",
       " u'backend.qt5',\n",
       " u'backend_fallback',\n",
       " u'boxplot.bootstrap',\n",
       " u'boxplot.boxprops.color',\n",
       " u'boxplot.boxprops.linestyle',\n",
       " u'boxplot.boxprops.linewidth',\n",
       " u'boxplot.capprops.color',\n",
       " u'boxplot.capprops.linestyle',\n",
       " u'boxplot.capprops.linewidth',\n",
       " u'boxplot.flierprops.color',\n",
       " u'boxplot.flierprops.linestyle',\n",
       " u'boxplot.flierprops.linewidth',\n",
       " u'boxplot.flierprops.marker',\n",
       " u'boxplot.flierprops.markeredgecolor',\n",
       " u'boxplot.flierprops.markerfacecolor',\n",
       " u'boxplot.flierprops.markersize',\n",
       " u'boxplot.meanline',\n",
       " u'boxplot.meanprops.color',\n",
       " u'boxplot.meanprops.linestyle',\n",
       " u'boxplot.meanprops.linewidth',\n",
       " u'boxplot.medianprops.color',\n",
       " u'boxplot.medianprops.linestyle',\n",
       " u'boxplot.medianprops.linewidth',\n",
       " u'boxplot.notch',\n",
       " u'boxplot.patchartist',\n",
       " u'boxplot.showbox',\n",
       " u'boxplot.showcaps',\n",
       " u'boxplot.showfliers',\n",
       " u'boxplot.showmeans',\n",
       " u'boxplot.vertical',\n",
       " u'boxplot.whiskerprops.color',\n",
       " u'boxplot.whiskerprops.linestyle',\n",
       " u'boxplot.whiskerprops.linewidth',\n",
       " u'boxplot.whiskers',\n",
       " u'contour.corner_mask',\n",
       " u'contour.negative_linestyle',\n",
       " u'datapath',\n",
       " u'docstring.hardcopy',\n",
       " u'errorbar.capsize',\n",
       " u'examples.directory',\n",
       " u'figure.autolayout',\n",
       " u'figure.dpi',\n",
       " u'figure.edgecolor',\n",
       " u'figure.facecolor',\n",
       " u'figure.figsize',\n",
       " u'figure.frameon',\n",
       " u'figure.max_open_warning',\n",
       " u'figure.subplot.bottom',\n",
       " u'figure.subplot.hspace',\n",
       " u'figure.subplot.left',\n",
       " u'figure.subplot.right',\n",
       " u'figure.subplot.top',\n",
       " u'figure.subplot.wspace',\n",
       " u'figure.titlesize',\n",
       " u'figure.titleweight',\n",
       " u'font.cursive',\n",
       " u'font.family',\n",
       " u'font.fantasy',\n",
       " u'font.monospace',\n",
       " u'font.sans-serif',\n",
       " u'font.serif',\n",
       " u'font.size',\n",
       " u'font.stretch',\n",
       " u'font.style',\n",
       " u'font.variant',\n",
       " u'font.weight',\n",
       " u'grid.alpha',\n",
       " u'grid.color',\n",
       " u'grid.linestyle',\n",
       " u'grid.linewidth',\n",
       " u'image.aspect',\n",
       " u'image.cmap',\n",
       " u'image.composite_image',\n",
       " u'image.interpolation',\n",
       " u'image.lut',\n",
       " u'image.origin',\n",
       " u'image.resample',\n",
       " u'interactive',\n",
       " u'keymap.all_axes',\n",
       " u'keymap.back',\n",
       " u'keymap.forward',\n",
       " u'keymap.fullscreen',\n",
       " u'keymap.grid',\n",
       " u'keymap.home',\n",
       " u'keymap.pan',\n",
       " u'keymap.quit',\n",
       " u'keymap.save',\n",
       " u'keymap.xscale',\n",
       " u'keymap.yscale',\n",
       " u'keymap.zoom',\n",
       " u'legend.borderaxespad',\n",
       " u'legend.borderpad',\n",
       " u'legend.columnspacing',\n",
       " u'legend.edgecolor',\n",
       " u'legend.facecolor',\n",
       " u'legend.fancybox',\n",
       " u'legend.fontsize',\n",
       " u'legend.framealpha',\n",
       " u'legend.frameon',\n",
       " u'legend.handleheight',\n",
       " u'legend.handlelength',\n",
       " u'legend.handletextpad',\n",
       " u'legend.isaxes',\n",
       " u'legend.labelspacing',\n",
       " u'legend.loc',\n",
       " u'legend.markerscale',\n",
       " u'legend.numpoints',\n",
       " u'legend.scatterpoints',\n",
       " u'legend.shadow',\n",
       " u'lines.antialiased',\n",
       " u'lines.color',\n",
       " u'lines.dash_capstyle',\n",
       " u'lines.dash_joinstyle',\n",
       " u'lines.linestyle',\n",
       " u'lines.linewidth',\n",
       " u'lines.marker',\n",
       " u'lines.markeredgewidth',\n",
       " u'lines.markersize',\n",
       " u'lines.solid_capstyle',\n",
       " u'lines.solid_joinstyle',\n",
       " u'markers.fillstyle',\n",
       " u'mathtext.bf',\n",
       " u'mathtext.cal',\n",
       " u'mathtext.default',\n",
       " u'mathtext.fallback_to_cm',\n",
       " u'mathtext.fontset',\n",
       " u'mathtext.it',\n",
       " u'mathtext.rm',\n",
       " u'mathtext.sf',\n",
       " u'mathtext.tt',\n",
       " u'nbagg.transparent',\n",
       " u'patch.antialiased',\n",
       " u'patch.edgecolor',\n",
       " u'patch.facecolor',\n",
       " u'patch.linewidth',\n",
       " u'path.effects',\n",
       " u'path.simplify',\n",
       " u'path.simplify_threshold',\n",
       " u'path.sketch',\n",
       " u'path.snap',\n",
       " u'pdf.compression',\n",
       " u'pdf.fonttype',\n",
       " u'pdf.inheritcolor',\n",
       " u'pdf.use14corefonts',\n",
       " u'pgf.debug',\n",
       " u'pgf.preamble',\n",
       " u'pgf.rcfonts',\n",
       " u'pgf.texsystem',\n",
       " u'plugins.directory',\n",
       " u'polaraxes.grid',\n",
       " u'ps.distiller.res',\n",
       " u'ps.fonttype',\n",
       " u'ps.papersize',\n",
       " u'ps.useafm',\n",
       " u'ps.usedistiller',\n",
       " u'savefig.bbox',\n",
       " u'savefig.directory',\n",
       " u'savefig.dpi',\n",
       " u'savefig.edgecolor',\n",
       " u'savefig.facecolor',\n",
       " u'savefig.format',\n",
       " u'savefig.frameon',\n",
       " u'savefig.jpeg_quality',\n",
       " u'savefig.orientation',\n",
       " u'savefig.pad_inches',\n",
       " u'savefig.transparent',\n",
       " u'svg.fonttype',\n",
       " u'svg.image_inline',\n",
       " u'svg.image_noscale',\n",
       " u'text.antialiased',\n",
       " u'text.color',\n",
       " u'text.dvipnghack',\n",
       " u'text.hinting',\n",
       " u'text.hinting_factor',\n",
       " u'text.latex.preamble',\n",
       " u'text.latex.preview',\n",
       " u'text.latex.unicode',\n",
       " u'text.usetex',\n",
       " u'timezone',\n",
       " u'tk.window_focus',\n",
       " u'toolbar',\n",
       " u'verbose.fileo',\n",
       " u'verbose.level',\n",
       " u'webagg.open_in_browser',\n",
       " u'webagg.port',\n",
       " u'webagg.port_retries',\n",
       " u'xtick.color',\n",
       " u'xtick.direction',\n",
       " u'xtick.labelsize',\n",
       " u'xtick.major.pad',\n",
       " u'xtick.major.size',\n",
       " u'xtick.major.width',\n",
       " u'xtick.minor.pad',\n",
       " u'xtick.minor.size',\n",
       " u'xtick.minor.visible',\n",
       " u'xtick.minor.width',\n",
       " u'ytick.color',\n",
       " u'ytick.direction',\n",
       " u'ytick.labelsize',\n",
       " u'ytick.major.pad',\n",
       " u'ytick.major.size',\n",
       " u'ytick.major.width',\n",
       " u'ytick.minor.pad',\n",
       " u'ytick.minor.size',\n",
       " u'ytick.minor.visible',\n",
       " u'ytick.minor.width']"
      ]
     },
     "execution_count": 34,
     "metadata": {},
     "output_type": "execute_result"
    }
   ],
   "source": [
    "pylab.rcParams.keys()"
   ]
  },
  {
   "cell_type": "code",
   "execution_count": 35,
   "metadata": {
    "collapsed": true
   },
   "outputs": [],
   "source": [
    "max_possible = .312"
   ]
  },
  {
   "cell_type": "code",
   "execution_count": 38,
   "metadata": {
    "collapsed": false
   },
   "outputs": [
    {
     "data": {
      "text/plain": [
       "<matplotlib.legend.Legend at 0x7f0db36f7090>"
      ]
     },
     "execution_count": 38,
     "metadata": {},
     "output_type": "execute_result"
    },
    {
     "data": {
      "image/png": "[encoded data removed]",
      "text/plain": [
       "<matplotlib.figure.Figure at 0x7f0e02fb3e90>"
      ]
     },
     "metadata": {},
     "output_type": "display_data"
    }
   ],
   "source": [
    "fig, ax = plt.subplots()\n",
    "\n",
    "names = ['imt_f1_score', 'precision', 'recall']\n",
    "metrics = [avg_thresh_f1s, t_ps, t_rs]\n",
    "# styles = \t['solid' | 'dashed', 'dashdot', 'dotted' |\n",
    "styles = ['solid', 'dashed', 'dotted']\n",
    "\n",
    "\n",
    "# for i,key_points in enumerate(all_points):\n",
    "\n",
    "for i in range(len(names)):\n",
    "    name = names[i]\n",
    "    x = thresholds\n",
    "    y = metrics[i]\n",
    "#     ax.scatter(x, y, s=70, c='red')\n",
    "    plt.plot(x, y, 'k', label=name, linewidth=4.0, ls=styles[i])\n",
    "    \n",
    "    plt.ylim([0.0,0.5])\n",
    "    \n",
    "# fig.suptitle('test title')\n",
    "plt.xlabel('Alignment Weight Threshold', fontsize=28)\n",
    "plt.setp(ax.get_xticklabels(), fontsize=20)\n",
    "plt.setp(ax.get_yticklabels(), fontsize=20)\n",
    "ax.set_yticks(ax.get_yticks()[1:])\n",
    "\n",
    "# plt.setp(ax.get_xticklabels(), rotation='vertical', fontsize=14)\n",
    "# plt.ylabel('ylabel', fontsize=16)\n",
    "plt.legend()\n",
    "plt.legend(frameon=False)\n",
    "plt.legend(loc = 'upper left')\n"
   ]
  },
  {
   "cell_type": "code",
   "execution_count": 20,
   "metadata": {
    "collapsed": false
   },
   "outputs": [
    {
     "data": {
      "text/plain": [
       "array([ 0.        ,  0.11111111,  0.22222222,  0.33333333,  0.44444444,\n",
       "        0.55555556,  0.66666667,  0.77777778,  0.88888889,  1.        ])"
      ]
     },
     "execution_count": 20,
     "metadata": {},
     "output_type": "execute_result"
    }
   ],
   "source": [
    "thresholds"
   ]
  },
  {
   "cell_type": "code",
   "execution_count": null,
   "metadata": {
    "collapsed": true
   },
   "outputs": [],
   "source": [
    "thresholds = np.linspace"
   ]
  },
  {
   "cell_type": "code",
   "execution_count": 17,
   "metadata": {
    "collapsed": false
   },
   "outputs": [
    {
     "name": "stdout",
     "output_type": "stream",
     "text": [
      "raw_f1s: 0.244294277012, raw_p: 0.245880568086, raw_r: 0.244141178125\n",
      "max f1s: 0.19325586391, max_p: 0.56001529052, max_r: 0.141309311685\n"
     ]
    }
   ],
   "source": [
    "# compare IMT F1 over matching hyps vs raw hyps\n",
    "raw_f1s, raw_p, raw_r = tuple(np.mean(m) for m in zip(*[imt_f1(h,r) for h,r in zip(hyp_lines,ref_lines)]))\n",
    "max_f1s, max_p, max_r = tuple(np.mean(m) for m in zip(*[imt_f1(h,r) for h,r in zip(pruned_hyps,ref_lines)]))\n",
    "\n",
    "print('raw_f1s: {}, raw_p: {}, raw_r: {}'.format(raw_f1s, raw_p, raw_r))\n",
    "print('max f1s: {}, max_p: {}, max_r: {}'.format(max_f1s, max_p, max_r))"
   ]
  },
  {
   "cell_type": "code",
   "execution_count": null,
   "metadata": {
    "collapsed": true
   },
   "outputs": [],
   "source": [
    "# now plot p, r, and f1 against alignment thresholds"
   ]
  },
  {
   "cell_type": "code",
   "execution_count": 16,
   "metadata": {
    "collapsed": false
   },
   "outputs": [
    {
     "data": {
      "text/plain": [
       "218"
      ]
     },
     "execution_count": 16,
     "metadata": {},
     "output_type": "execute_result"
    }
   ],
   "source": [
    "len(pruned_hyps)"
   ]
  },
  {
   "cell_type": "code",
   "execution_count": null,
   "metadata": {
    "collapsed": true
   },
   "outputs": [],
   "source": [
    "# WORKING: for each target word, print the closest aligned source word\n",
    "window_size = 1\n",
    "top_n = 3\n",
    "for i,t_seq in enumerate(trans):\n",
    "    for j,w in enumerate(t_seq):\n",
    "        weights_ij = glimpses[i][j]\n",
    "        normed_weights = numpy.exp(weights_ij) / numpy.sum(numpy.exp(weights_ij))\n",
    "        aligned_word = numpy.argmax(weights_ij)\n",
    "        top_n_aligned_words = numpy.argsort(weights_ij)[::-1][:top_n]\n",
    "        top_n_aligned_weights = weights_ij[top_n_aligned_words]\n",
    "        percent_of_best = top_n_aligned_weights / top_n_aligned_weights[0]\n",
    "        best_weight = top_n_aligned_weights[0]\n",
    "        avg_weight = numpy.mean(weights_ij)\n",
    "        best_avg_percent = avg_weight / best_weight\n",
    "        top_n_src_idxs = [seq[s] for s in top_n_aligned_words]\n",
    "        src_aligned_idx_window = seq[aligned_word-window_size:aligned_word+window_size+1]\n",
    "        print('aligned window: {}'.format((self.trg_ivocab[w], [self.src_ivocab[sw] for sw in src_aligned_idx_window])))\n",
    "        print('top n aligned: {}'.format((self.trg_ivocab[w], [self.src_ivocab[sw] for sw in top_n_src_idxs])))\n",
    "        print('percent from best: {}'.format(percent_of_best))\n",
    "        # print('normed weights: {}'.format(weights_ij / numpy.sum(weights_ij)))\n",
    "        # print('weight distribution: {}'.format(normed_weights))\n",
    "import ipdb;ipdb.set_trace()"
   ]
  },
  {
   "cell_type": "code",
   "execution_count": null,
   "metadata": {
    "collapsed": true
   },
   "outputs": [],
   "source": []
  },
  {
   "cell_type": "code",
   "execution_count": 16,
   "metadata": {
    "collapsed": false
   },
   "outputs": [
    {
     "data": {
      "text/plain": [
       "16"
      ]
     },
     "execution_count": 16,
     "metadata": {},
     "output_type": "execute_result"
    }
   ],
   "source": [
    "len(glimpses[20])"
   ]
  },
  {
   "cell_type": "code",
   "execution_count": 10,
   "metadata": {
    "collapsed": false
   },
   "outputs": [],
   "source": [
    "assert len(hyp_lines) == len(ref_lines) == len(glimpses)"
   ]
  },
  {
   "cell_type": "code",
   "execution_count": 9,
   "metadata": {
    "collapsed": false
   },
   "outputs": [
    {
     "ename": "TypeError",
     "evalue": "len() of unsized object",
     "output_type": "error",
     "traceback": [
      "\u001b[1;31m---------------------------------------------------------------------------\u001b[0m",
      "\u001b[1;31mTypeError\u001b[0m                                 Traceback (most recent call last)",
      "\u001b[1;32m<ipython-input-9-9f98e48df3fc>\u001b[0m in \u001b[0;36m<module>\u001b[1;34m()\u001b[0m\n\u001b[1;32m----> 1\u001b[1;33m \u001b[0mlen\u001b[0m\u001b[1;33m(\u001b[0m\u001b[0mglimpses\u001b[0m\u001b[1;33m)\u001b[0m\u001b[1;33m\u001b[0m\u001b[0m\n\u001b[0m",
      "\u001b[1;31mTypeError\u001b[0m: len() of unsized object"
     ]
    }
   ],
   "source": []
  },
  {
   "cell_type": "code",
   "execution_count": null,
   "metadata": {
    "collapsed": true
   },
   "outputs": [],
   "source": []
  }
 ],
 "metadata": {
  "kernelspec": {
   "display_name": "Python 2",
   "language": "python",
   "name": "python2"
  },
  "language_info": {
   "codemirror_mode": {
    "name": "ipython",
    "version": 2
   },
   "file_extension": ".py",
   "mimetype": "text/x-python",
   "name": "python",
   "nbconvert_exporter": "python",
   "pygments_lexer": "ipython2",
   "version": "2.7.11"
  }
 },
 "nbformat": 4,
 "nbformat_minor": 0
}
