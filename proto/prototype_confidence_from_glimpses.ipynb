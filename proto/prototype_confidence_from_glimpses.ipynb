{
 "cells": [
  {
   "cell_type": "code",
   "execution_count": 1,
   "metadata": {
    "collapsed": true
   },
   "outputs": [],
   "source": [
    "# write out translations, along with a pickled numpy object which holds the glimpses\n",
    "# for the n-best case, this object is (n_best, words, glimpses)\n",
    "\n",
    "# truncate each suffix hyp in the n-best list according to some heuristic with the alignment model (i.e. a feature computed over the glimpses)\n",
    "# evaluate performance as the heuristic changes\n",
    "\n"
   ]
  },
  {
   "cell_type": "code",
   "execution_count": 2,
   "metadata": {
    "collapsed": false
   },
   "outputs": [],
   "source": [
    "import codecs\n",
    "import numpy"
   ]
  },
  {
   "cell_type": "code",
   "execution_count": 3,
   "metadata": {
    "collapsed": true
   },
   "outputs": [],
   "source": [
    "hyps_file='/media/1tb_drive/multilingual-multimodal/flickr30k/train/processed/test.imt_PROTO-DELETE-ME.hyps.out'\n",
    "glimpse_file='/media/1tb_drive/multilingual-multimodal/flickr30k/train/processed/test.GLIMPSES_PROTO-DELETE-ME.npz'\n",
    "source_file = '/media/1tb_drive/multilingual-multimodal/flickr30k/train/processed/test.GLIMPSES_PROTO-DELETE-ME.sources'\n",
    "refs_file = '/media/1tb_drive/imt_models/suffix_scaled_cross_entropy_big_data_newstest2013_init-EN-DE_internal_data_dropout0.5_src_vocab80000_trg_vocab90000_emb300_rec1000_batch40/reference_suffixes.generated'"
   ]
  },
  {
   "cell_type": "code",
   "execution_count": 4,
   "metadata": {
    "collapsed": true
   },
   "outputs": [],
   "source": [
    "def get_lines(filename, lower=False, cutoff=None):\n",
    "    with codecs.open(filename, encoding='utf8') as inp:\n",
    "        lines = [l.split() for l in inp.read().strip().split('\\n')][:cutoff]\n",
    "        if lower:\n",
    "            lines = [[w.lower() for w in l] for l in lines]\n",
    "        return lines"
   ]
  },
  {
   "cell_type": "code",
   "execution_count": 5,
   "metadata": {
    "collapsed": true
   },
   "outputs": [],
   "source": [
    "hyp_lines = get_lines(hyps_file)\n",
    "ref_lines = get_lines(refs_file)\n",
    "source_lines = get_lines(source_file)\n",
    "glimpses = numpy.load(glimpse_file)"
   ]
  },
  {
   "cell_type": "code",
   "execution_count": 6,
   "metadata": {
    "collapsed": false
   },
   "outputs": [
    {
     "data": {
      "text/plain": [
       "11"
      ]
     },
     "execution_count": 6,
     "metadata": {},
     "output_type": "execute_result"
    }
   ],
   "source": [
    "len(glimpses[0][0][0])"
   ]
  },
  {
   "cell_type": "code",
   "execution_count": 7,
   "metadata": {
    "collapsed": true
   },
   "outputs": [],
   "source": [
    "# get the first-best glimpses from glimpses\n",
    "glimpses = [g[0] for g in glimpses]"
   ]
  },
  {
   "cell_type": "code",
   "execution_count": 8,
   "metadata": {
    "collapsed": false
   },
   "outputs": [
    {
     "data": {
      "text/plain": [
       "0.9999999294814188"
      ]
     },
     "execution_count": 8,
     "metadata": {},
     "output_type": "execute_result"
    }
   ],
   "source": [
    "sum(glimpses[60][0])"
   ]
  },
  {
   "cell_type": "code",
   "execution_count": 9,
   "metadata": {
    "collapsed": false
   },
   "outputs": [],
   "source": [
    "assert all(len(t) == len(g) for t,g in zip(hyp_lines, glimpses))\n",
    "assert all(len(r) == len(glimpses[i][0]) for i,r in enumerate(source_lines))"
   ]
  },
  {
   "cell_type": "code",
   "execution_count": 10,
   "metadata": {
    "collapsed": true
   },
   "outputs": [],
   "source": [
    "# Now evaluate different pruning strategies\n",
    "# BASELINE SCORES (NO TRUNCATION):INFO:__main__:IMT F1 SCORE: 0.244294277012, precision: 0.245880568086, recall: 0.244141178125\n",
    "\n",
    "# TODO: cost is a better measure of risk?? -- what is the logic?"
   ]
  },
  {
   "cell_type": "code",
   "execution_count": 11,
   "metadata": {
    "collapsed": true
   },
   "outputs": [],
   "source": [
    "trans_tups = zip(source_lines, hyp_lines, ref_lines, glimpses)"
   ]
  },
  {
   "cell_type": "code",
   "execution_count": 12,
   "metadata": {
    "collapsed": false
   },
   "outputs": [
    {
     "data": {
      "text/plain": [
       "218"
      ]
     },
     "execution_count": 12,
     "metadata": {},
     "output_type": "execute_result"
    }
   ],
   "source": [
    "len(trans_tups)"
   ]
  },
  {
   "cell_type": "code",
   "execution_count": 13,
   "metadata": {
    "collapsed": true
   },
   "outputs": [],
   "source": [
    "# minimum length of suffix is 1 (i.e. you have to predict something)\n",
    "# best aligned word must be at least this much bigger than average \n",
    "# pruning_threshold = .8"
   ]
  },
  {
   "cell_type": "code",
   "execution_count": 14,
   "metadata": {
    "collapsed": false
   },
   "outputs": [
    {
     "data": {
      "text/plain": [
       "array([  1.37069589e-02,   7.70028889e-01,   1.28089935e-01,\n",
       "         4.45179828e-03,   2.42383890e-02,   1.96635779e-02,\n",
       "         4.88192635e-03,   4.61603561e-03,   2.97636987e-04,\n",
       "         2.41166465e-02,   5.90839889e-03], dtype=float32)"
      ]
     },
     "execution_count": 14,
     "metadata": {},
     "output_type": "execute_result"
    }
   ],
   "source": [
    "glimpses[0][1]"
   ]
  },
  {
   "cell_type": "code",
   "execution_count": 15,
   "metadata": {
    "collapsed": false
   },
   "outputs": [],
   "source": [
    "def prune_hyps_at_threshold(threshold, tups, n=3):\n",
    "    pruned_hyps = []\n",
    "    for source, hyp, ref, glimpse in tups:\n",
    "        pruned_hyp = [hyp[0]]\n",
    "        for w, weights in zip(hyp[1:], glimpse[1:]):\n",
    "            aligned_word = numpy.argmax(weights)\n",
    "            sorted_weights = numpy.sort(weights)[::-1]\n",
    "            best_weight = sorted_weights[0]\n",
    "#             best_n_weights = sorted_weights[:n]\n",
    "\n",
    "    #         print(best_weight)\n",
    "    #         best_worst_ratio = sorted_weights[-1] / sorted_weights[0]\n",
    "            if best_weight >= threshold:\n",
    "                pruned_hyp.append(w)\n",
    "#             if np.mean(best_n_weights) >= threshold:\n",
    "#                 pruned_hyp.append(w)\n",
    "            else:\n",
    "                break\n",
    "        pruned_hyps.append(pruned_hyp)\n",
    "#         if len(pruned_hyp) < len(hyp):\n",
    "#             print('original hyp: {}'.format(hyp))\n",
    "#             print('pruned hyp: {}'.format(pruned_hyp))\n",
    "    return pruned_hyps"
   ]
  },
  {
   "cell_type": "code",
   "execution_count": 16,
   "metadata": {
    "collapsed": false
   },
   "outputs": [
    {
     "name": "stderr",
     "output_type": "stream",
     "text": [
      "Using gpu device 0: GeForce GTX TITAN X (CNMeM is disabled, cuDNN 4007)\n"
     ]
    }
   ],
   "source": [
    "# NOW compute IMT F1 for the pruned hyps, compare to IMT F1 for raw hyps\n",
    "from nn_imt.evaluation import imt_f1\n",
    "import numpy as np"
   ]
  },
  {
   "cell_type": "code",
   "execution_count": 17,
   "metadata": {
    "collapsed": true
   },
   "outputs": [],
   "source": [
    "def avg_imtF1(hyps, refs):\n",
    "    f1s, ps, rs = tuple(np.mean(m) for m in zip(*[imt_f1(h,r) for h,r in zip(hyps,refs)]))\n",
    "    return f1s, ps, rs"
   ]
  },
  {
   "cell_type": "code",
   "execution_count": 18,
   "metadata": {
    "collapsed": true
   },
   "outputs": [],
   "source": [
    "thresholds = np.linspace(0.0, 1.0, num=50)"
   ]
  },
  {
   "cell_type": "code",
   "execution_count": 19,
   "metadata": {
    "collapsed": false
   },
   "outputs": [],
   "source": [
    "pruned_sets = [prune_hyps_at_threshold(thresh, trans_tups) for thresh in thresholds]\n",
    "t_f1s, t_ps, t_rs = zip(*[avg_imtF1(pruned_set, ref_lines) for pruned_set in pruned_sets])"
   ]
  },
  {
   "cell_type": "code",
   "execution_count": 20,
   "metadata": {
    "collapsed": false
   },
   "outputs": [],
   "source": [
    "# now graph f1, precision, recall over threshold\n",
    "\n",
    "%matplotlib inline\n",
    "%load_ext autoreload\n",
    "%autoreload 2\n",
    "\n",
    "import matplotlib\n",
    "import numpy as np\n",
    "import matplotlib.pyplot as plt\n",
    "\n",
    "import pylab\n",
    "pylab.rcParams['figure.figsize'] = (14.0, 12.0)"
   ]
  },
  {
   "cell_type": "code",
   "execution_count": 21,
   "metadata": {
    "collapsed": false
   },
   "outputs": [],
   "source": [
    "avg_f1s = [2*((p*r) / (p+r)) for p,r in zip(t_ps, t_rs)]"
   ]
  },
  {
   "cell_type": "code",
   "execution_count": 23,
   "metadata": {
    "collapsed": false
   },
   "outputs": [
    {
     "data": {
      "text/plain": [
       "<matplotlib.legend.Legend at 0x7fbff5de6a10>"
      ]
     },
     "execution_count": 23,
     "metadata": {},
     "output_type": "execute_result"
    },
    {
     "data": {
      "image/png": "[encoded data removed]",
      "text/plain": [
       "<matplotlib.figure.Figure at 0x7fbffd4dbb90>"
      ]
     },
     "metadata": {},
     "output_type": "display_data"
    }
   ],
   "source": [
    "fig, ax = plt.subplots()\n",
    "\n",
    "names = ['imt_f1_score', 'precision', 'recall']\n",
    "metrics = [avg_f1s, t_ps, t_rs]\n",
    "# for i,key_points in enumerate(all_points):\n",
    "\n",
    "for i in range(len(names)):\n",
    "    name = names[i]\n",
    "    x = thresholds\n",
    "    y = metrics[i]\n",
    "#     ax.scatter(x, y, s=70, c='red')\n",
    "    plt.plot(x, y, label=name)\n",
    "    plt.ylim([0.1,0.65])\n",
    "    \n",
    "\n",
    "plt.legend()"
   ]
  },
  {
   "cell_type": "code",
   "execution_count": 20,
   "metadata": {
    "collapsed": false
   },
   "outputs": [
    {
     "data": {
      "text/plain": [
       "array([ 0.        ,  0.11111111,  0.22222222,  0.33333333,  0.44444444,\n",
       "        0.55555556,  0.66666667,  0.77777778,  0.88888889,  1.        ])"
      ]
     },
     "execution_count": 20,
     "metadata": {},
     "output_type": "execute_result"
    }
   ],
   "source": [
    "thresholds"
   ]
  },
  {
   "cell_type": "code",
   "execution_count": null,
   "metadata": {
    "collapsed": true
   },
   "outputs": [],
   "source": [
    "thresholds = np.linspace"
   ]
  },
  {
   "cell_type": "code",
   "execution_count": 17,
   "metadata": {
    "collapsed": false
   },
   "outputs": [
    {
     "name": "stdout",
     "output_type": "stream",
     "text": [
      "raw_f1s: 0.244294277012, raw_p: 0.245880568086, raw_r: 0.244141178125\n",
      "max f1s: 0.19325586391, max_p: 0.56001529052, max_r: 0.141309311685\n"
     ]
    }
   ],
   "source": [
    "# compare IMT F1 over matching hyps vs raw hyps\n",
    "raw_f1s, raw_p, raw_r = tuple(np.mean(m) for m in zip(*[imt_f1(h,r) for h,r in zip(hyp_lines,ref_lines)]))\n",
    "max_f1s, max_p, max_r = tuple(np.mean(m) for m in zip(*[imt_f1(h,r) for h,r in zip(pruned_hyps,ref_lines)]))\n",
    "\n",
    "print('raw_f1s: {}, raw_p: {}, raw_r: {}'.format(raw_f1s, raw_p, raw_r))\n",
    "print('max f1s: {}, max_p: {}, max_r: {}'.format(max_f1s, max_p, max_r))"
   ]
  },
  {
   "cell_type": "code",
   "execution_count": null,
   "metadata": {
    "collapsed": true
   },
   "outputs": [],
   "source": [
    "# now plot p, r, and f1 against alignment thresholds"
   ]
  },
  {
   "cell_type": "code",
   "execution_count": 16,
   "metadata": {
    "collapsed": false
   },
   "outputs": [
    {
     "data": {
      "text/plain": [
       "218"
      ]
     },
     "execution_count": 16,
     "metadata": {},
     "output_type": "execute_result"
    }
   ],
   "source": [
    "len(pruned_hyps)"
   ]
  },
  {
   "cell_type": "code",
   "execution_count": null,
   "metadata": {
    "collapsed": true
   },
   "outputs": [],
   "source": [
    "# WORKING: for each target word, print the closest aligned source word\n",
    "window_size = 1\n",
    "top_n = 3\n",
    "for i,t_seq in enumerate(trans):\n",
    "    for j,w in enumerate(t_seq):\n",
    "        weights_ij = glimpses[i][j]\n",
    "        normed_weights = numpy.exp(weights_ij) / numpy.sum(numpy.exp(weights_ij))\n",
    "        aligned_word = numpy.argmax(weights_ij)\n",
    "        top_n_aligned_words = numpy.argsort(weights_ij)[::-1][:top_n]\n",
    "        top_n_aligned_weights = weights_ij[top_n_aligned_words]\n",
    "        percent_of_best = top_n_aligned_weights / top_n_aligned_weights[0]\n",
    "        best_weight = top_n_aligned_weights[0]\n",
    "        avg_weight = numpy.mean(weights_ij)\n",
    "        best_avg_percent = avg_weight / best_weight\n",
    "        top_n_src_idxs = [seq[s] for s in top_n_aligned_words]\n",
    "        src_aligned_idx_window = seq[aligned_word-window_size:aligned_word+window_size+1]\n",
    "        print('aligned window: {}'.format((self.trg_ivocab[w], [self.src_ivocab[sw] for sw in src_aligned_idx_window])))\n",
    "        print('top n aligned: {}'.format((self.trg_ivocab[w], [self.src_ivocab[sw] for sw in top_n_src_idxs])))\n",
    "        print('percent from best: {}'.format(percent_of_best))\n",
    "        # print('normed weights: {}'.format(weights_ij / numpy.sum(weights_ij)))\n",
    "        # print('weight distribution: {}'.format(normed_weights))\n",
    "import ipdb;ipdb.set_trace()"
   ]
  },
  {
   "cell_type": "code",
   "execution_count": null,
   "metadata": {
    "collapsed": true
   },
   "outputs": [],
   "source": []
  },
  {
   "cell_type": "code",
   "execution_count": 16,
   "metadata": {
    "collapsed": false
   },
   "outputs": [
    {
     "data": {
      "text/plain": [
       "16"
      ]
     },
     "execution_count": 16,
     "metadata": {},
     "output_type": "execute_result"
    }
   ],
   "source": [
    "len(glimpses[20])"
   ]
  },
  {
   "cell_type": "code",
   "execution_count": 10,
   "metadata": {
    "collapsed": false
   },
   "outputs": [],
   "source": [
    "assert len(hyp_lines) == len(ref_lines) == len(glimpses)"
   ]
  },
  {
   "cell_type": "code",
   "execution_count": 9,
   "metadata": {
    "collapsed": false
   },
   "outputs": [
    {
     "ename": "TypeError",
     "evalue": "len() of unsized object",
     "output_type": "error",
     "traceback": [
      "\u001b[1;31m---------------------------------------------------------------------------\u001b[0m",
      "\u001b[1;31mTypeError\u001b[0m                                 Traceback (most recent call last)",
      "\u001b[1;32m<ipython-input-9-9f98e48df3fc>\u001b[0m in \u001b[0;36m<module>\u001b[1;34m()\u001b[0m\n\u001b[1;32m----> 1\u001b[1;33m \u001b[0mlen\u001b[0m\u001b[1;33m(\u001b[0m\u001b[0mglimpses\u001b[0m\u001b[1;33m)\u001b[0m\u001b[1;33m\u001b[0m\u001b[0m\n\u001b[0m",
      "\u001b[1;31mTypeError\u001b[0m: len() of unsized object"
     ]
    }
   ],
   "source": []
  },
  {
   "cell_type": "code",
   "execution_count": null,
   "metadata": {
    "collapsed": true
   },
   "outputs": [],
   "source": []
  }
 ],
 "metadata": {
  "kernelspec": {
   "display_name": "Python 2",
   "language": "python",
   "name": "python2"
  },
  "language_info": {
   "codemirror_mode": {
    "name": "ipython",
    "version": 2
   },
   "file_extension": ".py",
   "mimetype": "text/x-python",
   "name": "python",
   "nbconvert_exporter": "python",
   "pygments_lexer": "ipython2",
   "version": "2.7.11"
  }
 },
 "nbformat": 4,
 "nbformat_minor": 0
}
