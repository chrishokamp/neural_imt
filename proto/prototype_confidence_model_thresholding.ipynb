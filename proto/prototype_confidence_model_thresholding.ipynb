{
 "cells": [
  {
   "cell_type": "code",
   "execution_count": 1,
   "metadata": {
    "collapsed": true
   },
   "outputs": [],
   "source": [
    "# truncate each suffix hyp in the n-best list according to some heuristic with respect to the costs\n",
    "# visualize heatmap of confidence per-word -- visualize how this corresponds to optimal hypothesis truncation\n",
    "# evaluate performance as the heuristic changes"
   ]
  },
  {
   "cell_type": "code",
   "execution_count": 2,
   "metadata": {
    "collapsed": true
   },
   "outputs": [],
   "source": [
    "# now graph f1, precision, recall over threshold\n",
    "\n",
    "%matplotlib inline\n",
    "%load_ext autoreload\n",
    "%autoreload 2\n",
    "\n",
    "import matplotlib\n",
    "import numpy as np\n",
    "import matplotlib.pyplot as plt\n",
    "\n",
    "import pylab\n",
    "pylab.rcParams['figure.figsize'] = (14.0, 12.0)\n",
    "pylab.rcParams['axes.linewidth'] = 2. #set the value globally\n",
    "params = {'legend.fontsize': 20}\n",
    "#           'legend.linewidth': 2}\n",
    "pylab.rcParams.update(params)"
   ]
  },
  {
   "cell_type": "code",
   "execution_count": 3,
   "metadata": {
    "collapsed": true
   },
   "outputs": [],
   "source": [
    "import codecs\n",
    "import numpy\n",
    "import os"
   ]
  },
  {
   "cell_type": "code",
   "execution_count": 4,
   "metadata": {
    "collapsed": true
   },
   "outputs": [],
   "source": [
    "# newstest 2014\n",
    "# BASEDIR ='/media/1tb_drive/imt_models/newstest_2014_evaluation/'\n",
    "\n",
    "# BASEDIR ='/media/1tb_drive/imt_models/EN-DE-confidence-3layer_FINAL_STATES_l2_reg_model_baseline_internal_data_dropout0.5_' + \\\n",
    "#          'src_vocab80000_trg_vocab90000_emb300_rec1000_batch50'\n",
    "\n",
    "\n",
    "\n",
    "# HYP_BASEDIR = '/media/1tb_drive/imt_models/EN-DE-confidence-3layer_FINAL_STATES_PREDICTION_65000_iters_model_baseline_internal_data_dropout1.0_src_vocab80000_trg_vocab90000_emb300_rec1000_batch50'\n",
    "# BASEDIR ='/media/1tb_drive/imt_models/EN-DE-confidence-3layer-baseline-PREDICTION_internal_data_dropout1.0_src_vocab80000_trg_vocab90000_emb300_rec1000_batch50/'\n",
    "# hyps_file = os.path.join(HYP_BASEDIR, 'newstest2014.de.500.bpe.imt-hyps.out')\n",
    "\n",
    "# confidences_file = os.path.join(BASEDIR, 'newstest2014.de.500.bpe.imt-confidences.75000_iters.npz')\n",
    "# confidences_file = os.path.join(BASEDIR, 'newstest2014.de.500.bpe.imt-confidences.100000_iters.npz')\n",
    "# confidences_file = os.path.join(BASEDIR, 'newstest2014.de.500.bpe.imt-confidences.15000_iters.npz')\n",
    "\n",
    "# confidences_file = os.path.join(BASEDIR, 'newstest2014.de.500.bpe.imt-confidences.prediction_trained_10000_iters.npz')\n",
    "# confidences_file = os.path.join(BASEDIR, 'newstest2014.de.500.bpe.imt-confidences.prediction_trained_40000_iters.npz')\n",
    "# confidences_file = os.path.join(BASEDIR, 'newstest2014.de.500.bpe.imt-confidences.prediction_trained_90000_iters.npz')\n",
    "\n",
    "# w/ softmax feature\n",
    "# BASEDIR ='/media/1tb_drive/imt_models/EN-DE-confidence-3layer_FINAL_STATES_AND_SOFTMAX_l2_reg_model_internal_' + \\\n",
    "#         'data_dropout0.5_src_vocab80000_trg_vocab90000_emb300_rec1000_batch50/'\n",
    "# confidences_file = os.path.join(BASEDIR, 'newstest2014.de.500.bpe.imt-confidences.prediction_trained.5000_iters.npz')\n",
    "# confidences_file = os.path.join(BASEDIR, 'newstest2014.de.500.bpe.imt-confidences.prediction_trained.25000_iters.npz')\n",
    "# confidences_file = os.path.join(BASEDIR, 'newstest2014.de.500.bpe.imt-confidences.prediction_trained.30000_iters.npz')\n",
    "# confidences_file = os.path.join(BASEDIR, 'newstest2014.de.500.bpe.imt-confidences.prediction_trained.35000_iters.npz')\n",
    "\n",
    "# w/ real dropout = 0.2\n",
    "# confidences_file = os.path.join(BASEDIR, 'newstest2014.de.500.bpe.imt-confidences.prediction_trained.10000_iters.npz')\n",
    "# confidences_file = os.path.join(BASEDIR, 'newstest2014.de.500.bpe.imt-confidences.prediction_trained.30000_iters.npz')\n",
    "\n",
    "\n",
    "\n",
    "\n",
    "# w/ real dropout = 0.5\n",
    "# confidences_file = os.path.join(BASEDIR, 'newstest2014.de.500.bpe.imt-confidences.prediction_trained.35000_iters.npz')\n",
    "# confidences_file = os.path.join(BASEDIR, 'newstest2014.de.500.bpe.imt-confidences.prediction_trained.10000_iters.npz')\n",
    "\n",
    "# Final Evaluation:\n",
    "# w/ softmax feature and dropout = 0.5\n",
    "BASEDIR='/home/chris/Desktop/Dropbox/thesis/archived_models/imt_confidence_models/' + \\\n",
    "'EN-DE-confidence-3layer_FINAL_STATES_AND_SOFTMAX_l2_reg_model_internal_data_dropout0.5' + \\\n",
    "'_src_vocab80000_trg_vocab90000_emb300_rec1000_batch50'\n",
    "confidences_file = os.path.join(BASEDIR, 'newstest2014.de.500.bpe.imt-confidences.prediction_trained.10000_iters.npz')\n",
    "#HYP_BASEDIR = '/media/1tb_drive/imt_models/EN-DE-confidence-3layer_FINAL_STATES_PREDICTION_65000_iters_model_baseline_internal_data_dropout1.0_src_vocab80000_trg_vocab90000_emb300_rec1000_batch50'\n",
    "#hyps_file = os.path.join(HYP_BASEDIR, 'newstest2014.de.500.bpe.imt-hyps.out')\n",
    "hyps_file = os.path.join(BASEDIR, 'newstest2014.de.500.bpe.imt-hyps.out')\n",
    "\n",
    "wl_costs_file = os.path.join(BASEDIR, 'newstest2014.de.500.bpe.imt-word_level_costs.npz')\n",
    "\n",
    "source_file = os.path.join(BASEDIR, 'newstest2014.de.500.bpe.imt-sources.out')\n",
    "refs_file = os.path.join(BASEDIR, 'reference_suffixes.generated')\n",
    "\n",
    "prefixes_file = os.path.join(BASEDIR, 'reference_prefixes.generated')\n",
    "\n",
    "# newstest 2015\n",
    "# BASEDIR ='/media/1tb_drive/imt_models/newstest_2015_evaluation/'\n",
    "\n",
    "# hyps_file = os.path.join(BASEDIR, 'newstest2015.de.500.bpe.imt-hyps.out')\n",
    "# glimpse_file = os.path.join(BASEDIR, 'newstest2015.de.500.bpe.imt-glimpses.out')\n",
    "# source_file = os.path.join(BASEDIR, 'newstest2015.de.500.bpe.imt-sources.out')\n",
    "# refs_file = os.path.join(BASEDIR, 'reference_suffixes.generated')"
   ]
  },
  {
   "cell_type": "code",
   "execution_count": 5,
   "metadata": {
    "collapsed": true
   },
   "outputs": [],
   "source": [
    "def get_lines(filename, lower=False, cutoff=None):\n",
    "    with codecs.open(filename) as inp:\n",
    "        lines = [l.split() for l in inp.read().strip().split('\\n')][:cutoff]\n",
    "        if lower:\n",
    "            lines = [[w.lower() for w in l] for l in lines]\n",
    "        return lines"
   ]
  },
  {
   "cell_type": "code",
   "execution_count": 6,
   "metadata": {
    "collapsed": false
   },
   "outputs": [],
   "source": [
    "orig_hyp_lines = get_lines(hyps_file)\n",
    "orig_ref_lines = get_lines(refs_file)\n",
    "orig_source_lines = get_lines(source_file)\n",
    "orig_prefix_lines = get_lines(prefixes_file)\n",
    "\n",
    "orig_word_level_confs = [l[0] for l in numpy.load(open(confidences_file))]"
   ]
  },
  {
   "cell_type": "code",
   "execution_count": 7,
   "metadata": {
    "collapsed": false
   },
   "outputs": [
    {
     "data": {
      "text/plain": [
       "list"
      ]
     },
     "execution_count": 7,
     "metadata": {},
     "output_type": "execute_result"
    }
   ],
   "source": [
    "type(orig_word_level_confs[0])"
   ]
  },
  {
   "cell_type": "code",
   "execution_count": 8,
   "metadata": {
    "collapsed": true
   },
   "outputs": [],
   "source": [
    "# WORKING: evaluate use of word-level confs\n",
    "# HACKED HERE - WATCH THE NAME\n",
    "# costs are negative log probabilities, so convert them back to probailities\n",
    "orig_word_level_costs = [list(np.exp(-np.array(l[0]))) for l in numpy.load(open(wl_costs_file))]\n",
    "\n",
    "# orig_word_level_confs = [list(np.exp(-np.array(l[0]))) for l in numpy.load(open(wl_costs_file))]\n",
    "# orig_word_level_confs = [np.random.random(len(l)) for l in orig_word_level_confs]\n"
   ]
  },
  {
   "cell_type": "code",
   "execution_count": 9,
   "metadata": {
    "collapsed": true
   },
   "outputs": [],
   "source": [
    "for p,c in zip(orig_hyp_lines, orig_word_level_confs):               \n",
    "    try:\n",
    "        assert len(p) == len(c)\n",
    "    except AssertionError:\n",
    "        print('P: {}, C: {}'.format(p,c))"
   ]
  },
  {
   "cell_type": "code",
   "execution_count": 16,
   "metadata": {
    "collapsed": false
   },
   "outputs": [
    {
     "data": {
      "text/plain": [
       "[[0.14305685,\n",
       "  0.80857545,\n",
       "  0.79699302,\n",
       "  0.15560581,\n",
       "  0.74367094,\n",
       "  0.69421959,\n",
       "  0.72801399,\n",
       "  0.95534259],\n",
       " [0.80857545,\n",
       "  0.79699302,\n",
       "  0.15560581,\n",
       "  0.74367094,\n",
       "  0.69421959,\n",
       "  0.72801399,\n",
       "  0.95534259],\n",
       " [0.79699302, 0.15560581, 0.74367094, 0.69421959, 0.72801399, 0.95534259],\n",
       " [0.15560581, 0.74367094, 0.69421959, 0.72801399, 0.95534259]]"
      ]
     },
     "execution_count": 16,
     "metadata": {},
     "output_type": "execute_result"
    }
   ],
   "source": [
    "orig_word_level_confs[:4]"
   ]
  },
  {
   "cell_type": "code",
   "execution_count": 18,
   "metadata": {
    "collapsed": false
   },
   "outputs": [
    {
     "data": {
      "text/plain": [
       "list"
      ]
     },
     "execution_count": 18,
     "metadata": {},
     "output_type": "execute_result"
    }
   ],
   "source": [
    "type(orig_word_level_costs)"
   ]
  },
  {
   "cell_type": "code",
   "execution_count": 27,
   "metadata": {
    "collapsed": false
   },
   "outputs": [],
   "source": [
    "word_cost_lines = [zip(hyp, ref_line, wl_costs) for hyp, ref_line, wl_costs in zip(orig_hyp_lines, orig_ref_lines, orig_word_level_costs)]\n",
    "word_conf_lines = [zip(hyp, ref_line, wl_costs) for hyp, ref_line, wl_costs in zip(orig_hyp_lines, orig_ref_lines, orig_word_level_confs)]"
   ]
  },
  {
   "cell_type": "code",
   "execution_count": 28,
   "metadata": {
    "collapsed": false
   },
   "outputs": [
    {
     "data": {
      "text/plain": [
       "[[('Gut@@', 'Gut@@', 0.95099431),\n",
       "  ('ach', 'ach', 0.98607504),\n",
       "  (':', ':', 0.99800879),\n",
       "  ('Mehr', 'Noch', 0.13394342),\n",
       "  ('Sicherheit', 'mehr', 0.97616267),\n",
       "  ('f\\xc3\\xbcr', 'Sicherheit', 0.95611227),\n",
       "  ('Fu\\xc3\\x9fg\\xc3\\xa4nger', 'f\\xc3\\xbcr', 0.60691315),\n",
       "  ('</S>', 'Fu\\xc3\\x9fg\\xc3\\xa4nger', 0.99937075)],\n",
       " [('ach', 'ach', 0.98607504),\n",
       "  (':', ':', 0.99800879),\n",
       "  ('Mehr', 'Noch', 0.13394329),\n",
       "  ('Sicherheit', 'mehr', 0.97616267),\n",
       "  ('f\\xc3\\xbcr', 'Sicherheit', 0.95611227),\n",
       "  ('Fu\\xc3\\x9fg\\xc3\\xa4nger', 'f\\xc3\\xbcr', 0.60691196),\n",
       "  ('</S>', 'Fu\\xc3\\x9fg\\xc3\\xa4nger', 0.99937075)],\n",
       " [(':', ':', 0.99800879),\n",
       "  ('Mehr', 'Noch', 0.13394316),\n",
       "  ('Sicherheit', 'mehr', 0.97616267),\n",
       "  ('f\\xc3\\xbcr', 'Sicherheit', 0.95611227),\n",
       "  ('Fu\\xc3\\x9fg\\xc3\\xa4nger', 'f\\xc3\\xbcr', 0.60691315),\n",
       "  ('</S>', 'Fu\\xc3\\x9fg\\xc3\\xa4nger', 0.99937075)]]"
      ]
     },
     "execution_count": 28,
     "metadata": {},
     "output_type": "execute_result"
    }
   ],
   "source": [
    "word_cost_lines[:3]"
   ]
  },
  {
   "cell_type": "code",
   "execution_count": 32,
   "metadata": {
    "collapsed": false
   },
   "outputs": [
    {
     "name": "stdout",
     "output_type": "stream",
     "text": [
      "Avg model probability of wrong predictions: 0.604707598686\n",
      "Avg model probability of correct predictions: 0.766623795033\n",
      "Avg confidence of wrong predictions: 0.503387391567\n",
      "Avg confidence of correct predictions: 0.62818980217\n",
      "total num predictions: 179008\n",
      "Pearson corr. between confidence model and IMT model cost: (0.84218478, 0.0)\n"
     ]
    }
   ],
   "source": [
    "# mean confidence of wrong vs mean confidence of right\n",
    "wrong_probs = [v for r in word_cost_lines for hyp_w, ref_w, v  in r if hyp_w != ref_w]\n",
    "print('Avg model probability of wrong predictions: {}'.format(numpy.mean(wrong_probs)))\n",
    "right_probs = [v for r in word_cost_lines for hyp_w, ref_w, v  in r if hyp_w == ref_w]\n",
    "print('Avg model probability of correct predictions: {}'.format(numpy.mean(right_probs)))\n",
    "\n",
    "wrong_confs = [v for r in word_conf_lines for hyp_w, ref_w, v  in r if hyp_w != ref_w]\n",
    "print('Avg confidence of wrong predictions: {}'.format(numpy.mean(wrong_confs)))\n",
    "right_confs = [v for r in word_conf_lines for hyp_w, ref_w, v  in r if hyp_w == ref_w]\n",
    "print('Avg confidence of correct predictions: {}'.format(numpy.mean(right_confs)))\n",
    "\n",
    "# TODO: correlation between confidence and model probability\n",
    "from scipy.stats import pearsonr\n",
    "conf_model_values = [v for r in word_conf_lines for hyp_w, ref_w, v  in r]\n",
    "model_cost_values = [v for r in word_cost_lines for hyp_w, ref_w, v  in r]\n",
    "conf_vs_cost_pearson = pearsonr(conf_model_values, model_cost_values)\n",
    "assert len(model_cost_values) == len(conf_model_values)\n",
    "print('total num predictions: {}'.format(len(conf_model_values)))\n",
    "print('Pearson corr. between confidence model and IMT model cost: {}'.format(conf_vs_cost_pearson))\n",
    "\n"
   ]
  },
  {
   "cell_type": "code",
   "execution_count": 35,
   "metadata": {
    "collapsed": false
   },
   "outputs": [
    {
     "data": {
      "text/plain": [
       "(0.0026667719,\n",
       " 0.0026667733,\n",
       " 0.0037965546,\n",
       " 0.0042370493,\n",
       " 0.0042686076,\n",
       " 0.0046176556,\n",
       " 0.0046176622,\n",
       " 0.0046176664,\n",
       " 0.0046878643,\n",
       " 0.0047026989)"
      ]
     },
     "execution_count": 35,
     "metadata": {},
     "output_type": "execute_result"
    }
   ],
   "source": [
    "sorted_cost, sorted_conf = zip(*sorted([(cost, conf) for cost, conf in zip(model_cost_values, conf_model_values)]))\n",
    "sorted_cost[:10]"
   ]
  },
  {
   "cell_type": "code",
   "execution_count": 39,
   "metadata": {
    "collapsed": false
   },
   "outputs": [
    {
     "ename": "NameError",
     "evalue": "name 'stats' is not defined",
     "output_type": "error",
     "traceback": [
      "\u001b[0;31m---------------------------------------------------------------------------\u001b[0m",
      "\u001b[0;31mNameError\u001b[0m                                 Traceback (most recent call last)",
      "\u001b[0;32m<ipython-input-39-8f2a7b39d01c>\u001b[0m in \u001b[0;36m<module>\u001b[0;34m()\u001b[0m\n\u001b[1;32m      8\u001b[0m \u001b[0msorted_conf\u001b[0m \u001b[0;34m=\u001b[0m \u001b[0;34m[\u001b[0m\u001b[0msorted_conf\u001b[0m\u001b[0;34m[\u001b[0m\u001b[0mi\u001b[0m\u001b[0;34m]\u001b[0m \u001b[0;32mfor\u001b[0m \u001b[0mi\u001b[0m \u001b[0;32min\u001b[0m \u001b[0mx\u001b[0m\u001b[0;34m]\u001b[0m\u001b[0;34m\u001b[0m\u001b[0m\n\u001b[1;32m      9\u001b[0m \u001b[0;34m\u001b[0m\u001b[0m\n\u001b[0;32m---> 10\u001b[0;31m \u001b[0mslope\u001b[0m\u001b[0;34m,\u001b[0m \u001b[0mintercept\u001b[0m\u001b[0;34m,\u001b[0m \u001b[0mr_value\u001b[0m\u001b[0;34m,\u001b[0m \u001b[0mp_value\u001b[0m\u001b[0;34m,\u001b[0m \u001b[0mstd_err\u001b[0m \u001b[0;34m=\u001b[0m \u001b[0mstats\u001b[0m\u001b[0;34m.\u001b[0m\u001b[0mlinregress\u001b[0m\u001b[0;34m(\u001b[0m\u001b[0mx\u001b[0m\u001b[0;34m,\u001b[0m \u001b[0msorted_conf\u001b[0m\u001b[0;34m)\u001b[0m\u001b[0;34m\u001b[0m\u001b[0m\n\u001b[0m\u001b[1;32m     11\u001b[0m \u001b[0mconf_regression_line\u001b[0m \u001b[0;34m=\u001b[0m \u001b[0mslope\u001b[0m\u001b[0;34m*\u001b[0m\u001b[0mx\u001b[0m\u001b[0;34m+\u001b[0m\u001b[0mintercept\u001b[0m\u001b[0;34m\u001b[0m\u001b[0m\n\u001b[1;32m     12\u001b[0m \u001b[0;34m\u001b[0m\u001b[0m\n",
      "\u001b[0;31mNameError\u001b[0m: name 'stats' is not defined"
     ]
    }
   ],
   "source": [
    "from scipy import stats\n",
    "\n",
    "x = np.arange(0, len(conf_model_values), 100)\n",
    "\n",
    "# sort pairs by cost ascending, select every k-th point for efficiency\n",
    "sorted_cost, sorted_conf = zip(*sorted([(cost, conf) for cost, conf in zip(model_cost_values, conf_model_values)]))\n",
    "sorted_cost = [sorted_cost[i] for i in x]\n",
    "sorted_conf = [sorted_conf[i] for i in x]\n",
    "\n",
    "slope, intercept, r_value, p_value, std_err = stats.linregress(x, sorted_conf)\n",
    "conf_regression_line = slope*x+intercept\n",
    "\n",
    "plt.plot(x, sorted_cost)\n",
    "plt.plot(x, sorted_conf)\n",
    "plt.plot(x, conf_regression_line)\n",
    "\n",
    "\n",
    "plt.show()"
   ]
  },
  {
   "cell_type": "code",
   "execution_count": 22,
   "metadata": {
    "collapsed": false
   },
   "outputs": [
    {
     "data": {
      "image/png": "[encoded data removed]",
      "text/plain": [
       "<matplotlib.figure.Figure at 0x7fd3231a0a10>"
      ]
     },
     "metadata": {},
     "output_type": "display_data"
    }
   ],
   "source": [
    "# hyp_words, ref_words, probs = zip(*word_cost_lines[0])\n",
    "\n",
    "# row_labels = hyp_words\n",
    "# column_labels = ['probability']\n",
    "# data = np.random.rand(4,4)\n",
    "# data = np.array(probs).reshape(1,len(probs))\n",
    "# fig, ax = plt.subplots()\n",
    "# heatmap = ax.pcolor(data, cmap=plt.cm.Blues)\n",
    "\n",
    "# # put the major ticks at the middle of each cell\n",
    "# ax.set_xticks(np.arange(data.shape[0])+0.5, minor=False)\n",
    "# ax.set_yticks(np.arange(data.shape[1])+0.5, minor=False)\n",
    "\n",
    "# # want a more natural, table-like display\n",
    "# ax.invert_yaxis()\n",
    "# ax.xaxis.tick_top()\n",
    "\n",
    "# ax.set_xticklabels(row_labels)\n",
    "# ax.set_yticklabels(column_labels, minor=False)\n",
    "# plt.show()\n"
   ]
  },
  {
   "cell_type": "code",
   "execution_count": 70,
   "metadata": {
    "collapsed": true
   },
   "outputs": [],
   "source": [
    "# import plotly.plotly as py\n",
    "# import plotly.graph_objs as go\n",
    "\n",
    "# data = [\n",
    "#     go.Heatmap(\n",
    "#         z=[[30, 60, 1, -10, 20]],\n",
    "#         x=['Monday', 'Tuesday', 'Wednesday', 'Thursday', 'Friday'],\n",
    "#         y=['Morning']\n",
    "#     )\n",
    "# ]\n",
    "# colorscale = [[0, 'red'], [1, 'green']]  # custom colorscale\n",
    "\n",
    "# data = [\n",
    "#     go.Heatmap(\n",
    "#         z=[list(probs)],\n",
    "#         x=list(hyp_words),\n",
    "#         y=['probability'],\n",
    "#         colorscale=colorscale\n",
    "#     )\n",
    "# ]\n",
    "\n",
    "\n",
    "# py.iplot(data, filename='labelled-heatmap')\n",
    "# print(ref_words)"
   ]
  },
  {
   "cell_type": "code",
   "execution_count": 71,
   "metadata": {
    "collapsed": true
   },
   "outputs": [],
   "source": [
    "# TRAINING SETUP BRAINSTORM\n",
    "# for each hyp, for each position, evaluate whether the prediction was correct\n",
    "\n",
    "# if the prediction was correct, this is a 1.\n",
    "\n",
    "# if not, this is a 0.\n",
    "\n",
    "# find the optimal coefficient/decision boundary for the single word-prob feature\n"
   ]
  },
  {
   "cell_type": "code",
   "execution_count": 72,
   "metadata": {
    "collapsed": true
   },
   "outputs": [],
   "source": [
    "# Now evaluate different pruning strategies\n",
    "# BASELINE SCORES (NO TRUNCATION):INFO:__main__:IMT F1 SCORE: 0.244294277012, precision: 0.245880568086, recall: 0.244141178125\n",
    "\n",
    "# TODO: cost is a better measure of risk?? -- what is the logic?"
   ]
  },
  {
   "cell_type": "code",
   "execution_count": 73,
   "metadata": {
    "collapsed": false
   },
   "outputs": [
    {
     "data": {
      "text/plain": [
       "[12812, 12812, 12812, 12812, 12812]"
      ]
     },
     "execution_count": 73,
     "metadata": {},
     "output_type": "execute_result"
    }
   ],
   "source": [
    "[len(l) for l in (orig_source_lines, orig_hyp_lines, orig_ref_lines, orig_word_level_confs, orig_prefix_lines)]"
   ]
  },
  {
   "cell_type": "code",
   "execution_count": 74,
   "metadata": {
    "collapsed": false
   },
   "outputs": [
    {
     "name": "stdout",
     "output_type": "stream",
     "text": [
      "12812\n",
      "6089\n",
      "5137\n"
     ]
    }
   ],
   "source": [
    "orig_trans_tups = zip(orig_source_lines, orig_hyp_lines, orig_ref_lines, orig_word_level_confs, orig_prefix_lines)\n",
    "print(len(orig_trans_tups))\n",
    "# discard rows where nothing matches\n",
    "matching_idxs = [idx for idx,t in enumerate(orig_trans_tups) if t[1][0] == t[2][0]]\n",
    "non_matching_idxs = [idx for idx,t in enumerate(orig_trans_tups) if t[1][0] != t[2][0]]\n",
    "\n",
    "# long_tups = [t for t in orig_trans_tups if len(t[1]) >= 7 and len(t[2]) >= 7]\n",
    "# matching_2_idxs = [idx for idx,t in enumerate(long_tups) if t[1][6] == t[2][6]]\n",
    "# non_2_matching_idxs = [idx for idx,t in enumerate(long_tups) if t[1][6] != t[2][6]]\n",
    "\n",
    "trans_tups = [t for t in orig_trans_tups if t[1][0] == t[2][0]]\n",
    "# trans_tups = orig_trans_tups\n",
    "\n",
    "# Filter to only longer predictions\n",
    "min_length_filter = 1\n",
    "trans_tups = [t for t in trans_tups if len(t[1]) >= min_length_filter]\n",
    "print(len(trans_tups))\n",
    "\n",
    "# But make sure they're not ridiculously long\n",
    "max_length_filter = 25\n",
    "trans_tups = [t for t in trans_tups if len(t[1]) <= max_length_filter]\n",
    "print(len(trans_tups))\n",
    "\n",
    "source_lines, hyp_lines, ref_lines, word_level_confs, prefix_lines = zip(*trans_tups)"
   ]
  },
  {
   "cell_type": "code",
   "execution_count": 75,
   "metadata": {
    "collapsed": false
   },
   "outputs": [
    {
     "data": {
      "text/plain": [
       "[(1, 479),\n",
       " (2, 423),\n",
       " (4, 292),\n",
       " (3, 288),\n",
       " (5, 254),\n",
       " (7, 234),\n",
       " (6, 233),\n",
       " (8, 228),\n",
       " (9, 214),\n",
       " (12, 211),\n",
       " (11, 201),\n",
       " (10, 196),\n",
       " (14, 187),\n",
       " (13, 181),\n",
       " (16, 174),\n",
       " (15, 171),\n",
       " (17, 163),\n",
       " (19, 148),\n",
       " (18, 143),\n",
       " (20, 130),\n",
       " (23, 130),\n",
       " (21, 126),\n",
       " (22, 123),\n",
       " (24, 108),\n",
       " (25, 100)]"
      ]
     },
     "execution_count": 75,
     "metadata": {},
     "output_type": "execute_result"
    }
   ],
   "source": [
    "from collections import Counter\n",
    "Counter([len(t[1]) for t in trans_tups]).most_common()"
   ]
  },
  {
   "cell_type": "code",
   "execution_count": 76,
   "metadata": {
    "collapsed": true
   },
   "outputs": [],
   "source": [
    "random_idxs = np.random.choice(len(trans_tups), size=10, replace=False)"
   ]
  },
  {
   "cell_type": "code",
   "execution_count": 77,
   "metadata": {
    "collapsed": false
   },
   "outputs": [
    {
     "data": {
      "text/plain": [
       "array([3719,  266, 2103, 1057, 4696, 2808, 4009, 4467, 3351, 5055])"
      ]
     },
     "execution_count": 77,
     "metadata": {},
     "output_type": "execute_result"
    }
   ],
   "source": [
    "random_idxs"
   ]
  },
  {
   "cell_type": "code",
   "execution_count": 78,
   "metadata": {
    "collapsed": true
   },
   "outputs": [],
   "source": [
    "sample_tups = [trans_tups[idx] for idx in random_idxs]"
   ]
  },
  {
   "cell_type": "code",
   "execution_count": 79,
   "metadata": {
    "collapsed": false
   },
   "outputs": [
    {
     "name": "stdout",
     "output_type": "stream",
     "text": [
      "SRC: <S> Z@@ ita K@@ <UNK> , the Chair@@ person of the Parish Council , agreed to give a talk on Bi@@ blical pro@@ verb@@ s after breakfast . </S>\n",
      "PRE: <S> Z@@ ita K@@ öhler , die Vorsitzende des Kirchen@@ gemein@@ de@@ - rats , ging nach dem Frühstück in einem Vortrag auf die bibli@@ schen Sprich@@ wörter ein\n",
      "HYP: . </S>\n",
      "REF: . </S>\n",
      "\n",
      "\n",
      "SRC: <S> The catastrophes of his Catholic village up@@ bringing - the spe@@ ech@@ lessness , his tendency towards bru@@ te force and dul@@ led sexuality , the confin@@ ement and lack of joy - all of this has been described many times by the Ka@@ ern@@ ten-@@ born poet . </S>\n",
      "PRE: <S> Die Katastrophen seiner katholischen Dorf@@ kind@@ heit - die Sprach@@ losigkeit , der Hang zu ro@@ her Gewalt und stum@@ pf@@ er Sexualität , die En@@ ge und Fre@@ ud@@ losigkeit - hat der Kärn@@ tner Dichter vielfach\n",
      "HYP: beschrieben . </S>\n",
      "REF: beschrieben . </S>\n",
      "\n",
      "\n",
      "SRC: <S> The Nar@@ ren@@ zun@@ ft St@@ roh@@ gl@@ on@@ ki ( St@@ roh@@ gl@@ on@@ ki F@@ ool 's Guild celebration ) begins on 8 February with an evening of traditional customs on the occasion of its 60-@@ year anniversary / The Harmonie Gut@@ mad@@ ingen music association will turn 90 years old and on 29 March will hold a celebr@@ atory banquet and then from 1 to 4 May will be celebrating the Bezirks@@ fest [ District Music Festival ] . </S>\n",
      "PRE: <S> Die Nar@@ ren@@ zun@@ ft St@@ roh@@ gl@@ on@@ ki beginnt am 8. Februar mit einem Brau@@ cht@@ ums@@ abend anlässlich ihres 60-@@ jährigen Bestehens , die Harmonie Gut@@ mad@@ ingen wird 90 Jahre und hat am 29.\n",
      "HYP: März dieses Jahr zu feiern . </S>\n",
      "REF: März das Fest@@ bank@@ ett und feiert dann vom 1. bis 4. Mai das Bezirks@@ musik@@ fest . </S>\n",
      "\n",
      "\n",
      "SRC: <S> A short-@@ circuit was reported to have occurred there during sa@@ wing . </S>\n",
      "PRE: <S> Dort soll beim Sä@@ gen ein Kurz@@ schluss entstanden\n",
      "HYP: sein . </S>\n",
      "REF: sein . </S>\n",
      "\n",
      "\n",
      "SRC: <S> The access roads were blocked off , which , according to CNN , caused long tail@@ backs . </S>\n",
      "PRE: <S> Die Zu@@ fahrts@@ straßen wurden gesperrt , wodurch sich laut CNN lange Rück@@ st@@ aus bildeten .\n",
      "HYP: </S>\n",
      "REF: </S>\n",
      "\n",
      "\n",
      "SRC: <S> Eight years later it will reach Jupiter and will investigate the atmosphere of the planet as well as the icy mo@@ ons Europa , C@@ alli@@ sto and G@@ any@@ me@@ de . </S>\n",
      "PRE: <S> Acht Jahre später erreicht sie Jupiter und soll die Atmosphäre des Planeten sowie die ei@@ sigen Monde Europa , K@@ alli@@ sto und G@@ any@@ med untersuchen .\n",
      "HYP: </S>\n",
      "REF: </S>\n",
      "\n",
      "\n",
      "SRC: <S> The formerly super secre@@ tive N@@ SA , once nick@@ named No Such Agency , has found itself in very public light , and amid vicious criticism , in past months following a stream of revelations about is vast foreign and domestic surveillance programs - collectively the product of secret N@@ SA files stolen from the agency and leaked by disen@@ chanted former N@@ SA contractor Edward Snow@@ den . </S>\n",
      "PRE: <S> Die früher super@@ geheime N@@ SA , deren Spitz@@ name einst No Such Agency ( Keine solche Behörde ) lautete , findet sich inzwischen im hellen Licht der Öffentlichkeit und sieht sich nach den in den letzten Monaten bekannt gewordenen Enthüll@@ ungen über ihr ausgedeh@@ n@@ tes Überwachungs@@ programm im In- und Ausland schar@@ fer Kritik ausgesetzt – ein Resultat der geheimen N@@ SA-@@ Daten , die vom des@@\n",
      "HYP: illu@@ sion@@ ierten früheren N@@ SA-@@ Auftragnehmer Edward Snow@@ den er@@ gangen sind . </S>\n",
      "REF: illu@@ sion@@ ierten ehemaligen N@@ SA-@@ Mitarbeiter Edward Snow@@ den gestohlen und veröffentlicht wurden . </S>\n",
      "\n",
      "\n",
      "SRC: <S> Bombar@@ dier , the world 's largest train@@ maker , said revenue in that division rose nearly 11 percent to $ 2.1 billion . </S>\n",
      "PRE: <S> Bombar@@ dier , der weltweit größte Eisenbahn@@ hersteller , gab bekannt , dass der Umsatz in dieser Spar@@\n",
      "HYP: te fast 11 Prozent auf 2,@@ 1 Milliarden Dollar gestiegen ist . </S>\n",
      "REF: te um knapp elf Prozent auf 2,@@ 1 Milliarden Dollar gestiegen ist . </S>\n",
      "\n",
      "\n",
      "SRC: <S> F@@ ees are one way to get passengers to bring less on board . </S>\n",
      "PRE: <S> Gebühren sind eine\n",
      "HYP: Möglichkeit , die Fahrgäste an Bord zu bringen . </S>\n",
      "REF: Möglichkeit , Passagiere dazu zu bewegen , weniger mit an Bord zu nehmen . </S>\n",
      "\n",
      "\n",
      "SRC: <S> Some of his communications will undoubtedly have been legitimate ones because he was their lawyer . </S>\n",
      "PRE: <S> Ein Teil seiner Mitteilungen war zweifellos legitim , denn er\n",
      "HYP: war ein Rechtsanwalt . </S>\n",
      "REF: war der Anwalt dieser Personen . </S>\n",
      "\n",
      "\n"
     ]
    }
   ],
   "source": [
    "for t in sample_tups:\n",
    "    print(u\"SRC: {}\".format(' '.join(t[0])))\n",
    "    print(u\"PRE: {}\".format(' '.join(t[-1])))\n",
    "    print(u\"HYP: {}\".format(' '.join(t[1])))\n",
    "    print(u\"REF: {}\".format(' '.join(t[2])))\n",
    "    print('\\n')"
   ]
  },
  {
   "cell_type": "code",
   "execution_count": 80,
   "metadata": {
    "collapsed": true
   },
   "outputs": [],
   "source": [
    "random_s, random_h, random_r, random_c, random_p = zip(*sample_tups)\n",
    "hyp_ref_conf = [zip(h, r, c1, c2) for h,r,c1,c2 in \n",
    "                zip(random_h, random_r, [np.exp(np.cumsum(np.log(conf))) for conf in random_c], random_c)]"
   ]
  },
  {
   "cell_type": "code",
   "execution_count": 81,
   "metadata": {
    "collapsed": false
   },
   "outputs": [
    {
     "name": "stdout",
     "output_type": "stream",
     "text": [
      "(u'.', u'.', 0.84726018, 0.84726018)\n",
      "(u'</S>', u'</S>', 0.81697655, 0.964257)\n",
      "\n",
      "\n",
      "\n",
      "(u'beschrieben', u'beschrieben', 0.30631727, 0.3063173)\n",
      "(u'.', u'.', 0.28119463, 0.91798484)\n",
      "(u'</S>', u'</S>', 0.27146229, 0.96538925)\n",
      "\n",
      "\n",
      "\n",
      "(u'M\\xe4rz', u'M\\xe4rz', 0.84594959, 0.84594959)\n",
      "(u'dieses', u'das', 0.27567583, 0.32587737)\n",
      "(u'Jahr', u'Fest@@', 0.14177892, 0.51429582)\n",
      "(u'zu', u'bank@@', 0.026616225, 0.18773048)\n",
      "(u'feiern', u'ett', 0.013982063, 0.52532101)\n",
      "(u'.', u'und', 0.01259432, 0.90074837)\n",
      "(u'</S>', u'feiert', 0.012121725, 0.96247536)\n",
      "\n",
      "\n",
      "\n",
      "(u'sein', u'sein', 0.43006381, 0.43006381)\n",
      "(u'.', u'.', 0.19933277, 0.46349579)\n",
      "(u'</S>', u'</S>', 0.18506782, 0.92843652)\n",
      "\n",
      "\n",
      "\n",
      "(u'</S>', u'</S>', 0.95689154, 0.95689154)\n",
      "\n",
      "\n",
      "\n",
      "(u'</S>', u'</S>', 0.96380103, 0.96380103)\n",
      "\n",
      "\n",
      "\n",
      "(u'illu@@', u'illu@@', 0.27701902, 0.27701902)\n",
      "(u'sion@@', u'sion@@', 0.10494244, 0.37882754)\n",
      "(u'ierten', u'ierten', 0.059535429, 0.5673151)\n",
      "(u'fr\\xfcheren', u'ehemaligen', 0.015691938, 0.26357311)\n",
      "(u'N@@', u'N@@', 0.0067147259, 0.42790934)\n",
      "(u'SA-@@', u'SA-@@', 0.0044841873, 0.66781396)\n",
      "(u'Auftragnehmer', u'Mitarbeiter', 0.0014493499, 0.32321346)\n",
      "(u'Edward', u'Edward', 0.00069032476, 0.47629952)\n",
      "(u'Snow@@', u'Snow@@', 0.0006565713, 0.95110488)\n",
      "(u'den', u'den', 0.00060101476, 0.91538376)\n",
      "(u'er@@', u'gestohlen', 9.3663708e-05, 0.15584268)\n",
      "(u'gangen', u'und', 3.3600358e-05, 0.35873398)\n",
      "(u'sind', u'ver\\xf6ffentlicht', 2.579902e-05, 0.76781964)\n",
      "(u'.', u'wurden', 2.4419662e-05, 0.94653469)\n",
      "(u'</S>', u'.', 2.33765e-05, 0.95728201)\n",
      "\n",
      "\n",
      "\n",
      "(u'te', u'te', 0.25407946, 0.25407946)\n",
      "(u'fast', u'um', 0.085060813, 0.3347804)\n",
      "(u'11', u'knapp', 0.039580479, 0.46531981)\n",
      "(u'Prozent', u'elf', 0.016607016, 0.41957587)\n",
      "(u'auf', u'Prozent', 0.0085440036, 0.51448154)\n",
      "(u'2,@@', u'auf', 0.0023464584, 0.27463219)\n",
      "(u'1', u'2,@@', 0.0017531533, 0.74714881)\n",
      "(u'Milliarden', u'1', 0.00085607276, 0.48830459)\n",
      "(u'Dollar', u'Milliarden', 0.00057078945, 0.66675353)\n",
      "(u'gestiegen', u'Dollar', 0.0001360786, 0.2384042)\n",
      "(u'ist', u'gestiegen', 6.6778586e-05, 0.49073526)\n",
      "(u'.', u'ist', 6.2367602e-05, 0.93394655)\n",
      "(u'</S>', u'.', 5.9968384e-05, 0.96153146)\n",
      "\n",
      "\n",
      "\n",
      "(u'M\\xf6glichkeit', u'M\\xf6glichkeit', 0.45972502, 0.45972502)\n",
      "(u',', u',', 0.15487619, 0.33688879)\n",
      "(u'die', u'Passagiere', 0.031033827, 0.20037828)\n",
      "(u'Fahrg\\xe4ste', u'dazu', 0.0060233222, 0.19408892)\n",
      "(u'an', u'zu', 0.0008268762, 0.13727906)\n",
      "(u'Bord', u'bewegen', 0.00035660635, 0.43126944)\n",
      "(u'zu', u',', 0.00011432791, 0.32059965)\n",
      "(u'bringen', u'weniger', 6.3487103e-05, 0.55530721)\n",
      "(u'.', u'mit', 5.6495523e-05, 0.88987428)\n",
      "(u'</S>', u'an', 5.4616212e-05, 0.96673489)\n",
      "\n",
      "\n",
      "\n",
      "(u'war', u'war', 0.76807207, 0.76807207)\n",
      "(u'ein', u'der', 0.14801049, 0.1927039)\n",
      "(u'Rechtsanwalt', u'Anwalt', 0.051664837, 0.349062)\n",
      "(u'.', u'dieser', 0.040973738, 0.79306823)\n",
      "(u'</S>', u'Personen', 0.039169375, 0.95596302)\n",
      "\n",
      "\n",
      "\n"
     ]
    }
   ],
   "source": [
    "# best thresh: \n",
    "\n",
    "for s in hyp_ref_conf:\n",
    "    print('\\n'.join(unicode(i) for i in s))\n",
    "    print('\\n\\n')\n",
    "# hyp_ref_conf[:10]"
   ]
  },
  {
   "cell_type": "code",
   "execution_count": 82,
   "metadata": {
    "collapsed": true
   },
   "outputs": [],
   "source": [
    "# true_first_confs = [orig_trans_tups[idx][3][0] for idx in matching_idxs]\n",
    "# wrong_first_confs = [orig_trans_tups[idx][3][0] for idx in non_matching_idxs]\n",
    "# print(np.mean(true_first_confs))\n",
    "# print(np.std(true_first_confs))\n",
    "# print(np.mean(wrong_first_confs))\n",
    "# print(np.std(wrong_first_confs))\n",
    "\n",
    "# true_2_confs = [long_tups[idx][3][0] for idx in matching_2_idxs]\n",
    "# wrong_2_confs = [long_tups[idx][3][0] for idx in non_2_matching_idxs]\n",
    "# print(np.mean(true_2_confs))\n",
    "# print(np.mean(wrong_2_confs))"
   ]
  },
  {
   "cell_type": "code",
   "execution_count": 83,
   "metadata": {
    "collapsed": true
   },
   "outputs": [],
   "source": [
    "# minimum length of suffix is 1 (i.e. you have to predict something)\n",
    "# best aligned word must be at least this much bigger than average \n",
    "# pruning_threshold = .8"
   ]
  },
  {
   "cell_type": "code",
   "execution_count": 84,
   "metadata": {
    "collapsed": true
   },
   "outputs": [],
   "source": [
    "# TODO: visualize \"CUT\" index at best threshold"
   ]
  },
  {
   "cell_type": "code",
   "execution_count": 85,
   "metadata": {
    "collapsed": true
   },
   "outputs": [],
   "source": [
    "def prune_hyps_at_cumulative_threshold(threshold, tups, cutoff=1, good_thresh=None, bad_thresh=None):\n",
    "    pruned_hyps = []\n",
    "    \n",
    "    low_conf_idx = cutoff\n",
    "    for source, hyp, ref, confs, pre in tups:\n",
    "        confs = np.array(confs)\n",
    "        # weight confidence by position -- this is similar to a two-feature log-linear model\n",
    "#         for i, c in enumerate(confs):\n",
    "#             pos_weight = float(1./(i+1))\n",
    "#             confs[i] = min(1., c+pos_weight)\n",
    "        # intuition: shorter hyps can use the conf model, longer hyps wait for cutoff to use it    \n",
    "#         if len(hyp) <= cutoff:\n",
    "#             cutoff = 1\n",
    "    \n",
    "        # set confidence for points >= good_thresh = 1.\n",
    "        if good_thresh is not None:\n",
    "            confs[confs >= good_thresh] = 1.\n",
    "        if bad_thresh is not None:\n",
    "            confs[confs <= bad_thresh] = 0.001\n",
    "        \n",
    "        agg_confs = np.exp(np.cumsum(np.log(confs)))\n",
    "        for idx in range(cutoff,len(confs)):\n",
    "            if agg_confs[idx] <= threshold:\n",
    "                low_conf_idx = idx\n",
    "                break\n",
    "            \n",
    "        # HACK\n",
    "#         if len(hyp) <= 5:\n",
    "#             low_conf_idx = cutoff\n",
    "            \n",
    "        pruned_hyp = hyp[:low_conf_idx]\n",
    "        pruned_hyps.append(pruned_hyp)\n",
    "#         if len(pruned_hyp) < len(hyp) and len(pruned_hyp) > 3:\n",
    "#             print('original hyp: {}'.format(hyp))\n",
    "#             print('pruned hyp: {}'.format(pruned_hyp))\n",
    "#             print('ref: {}'.format(ref))\n",
    "    return pruned_hyps"
   ]
  },
  {
   "cell_type": "code",
   "execution_count": 86,
   "metadata": {
    "collapsed": true
   },
   "outputs": [],
   "source": [
    "def prune_hyps_with_length_threshold(tups, threshold_dict, cutoff=1, num_buckets=20):\n",
    "    pruned_hyps = []\n",
    "    \n",
    "    low_conf_idx = cutoff\n",
    "    for source, hyp, ref, confs, pre in tups:\n",
    "        confs = np.array(confs)        \n",
    "        agg_confs = np.exp(np.cumsum(np.log(confs)))\n",
    "        hyp_len = len(hyp)\n",
    "        if len(hyp) < num_buckets:\n",
    "            threshold = threshold_dict[len(hyp)]\n",
    "        else:\n",
    "            threshold = threshold_dict[num_buckets]\n",
    "        \n",
    "        for idx in range(cutoff,len(confs)):\n",
    "            if agg_confs[idx] <= threshold:\n",
    "                low_conf_idx = idx\n",
    "                break\n",
    "            \n",
    "        pruned_hyp = hyp[:low_conf_idx]\n",
    "        pruned_hyps.append(pruned_hyp)\n",
    "\n",
    "    return pruned_hyps"
   ]
  },
  {
   "cell_type": "code",
   "execution_count": 87,
   "metadata": {
    "collapsed": true
   },
   "outputs": [],
   "source": [
    "def prune_hyps_with_model(model, tups, cutoff=1, log=False):\n",
    "    pruned_hyps = []\n",
    "    \n",
    "    low_conf_idx = cutoff\n",
    "    for ins, (source, hyp, ref, confs, pre) in enumerate(tups):\n",
    "        confs = np.array(confs)\n",
    "        \n",
    "        agg_confs = np.exp(np.cumsum(np.log(confs)))\n",
    "        for idx in range(cutoff, len(confs)):\n",
    "#             feats = [float(idx), agg_confs[idx]]\n",
    "#             feats = [float(idx), confs[idx], agg_confs[idx]]\n",
    "            feats = [float(idx), confs[idx], agg_confs[idx]]\n",
    "\n",
    "            truncate = model.predict([feats])[0]\n",
    "            if truncate == 1.0:\n",
    "                low_conf_idx = idx\n",
    "                break\n",
    "        \n",
    "        if log:\n",
    "            top_match = [t[0] == t[1] for t in zip(hyp, ref)]\n",
    "            if False in top_match:\n",
    "                true_cutoff = top_match.index(False)\n",
    "            else:\n",
    "                true_cutoff = len(top_match)\n",
    "            print('actual best: {}'.format(true_cutoff))\n",
    "            print('model idx: {}'.format(low_conf_idx))\n",
    "        \n",
    "        pruned_hyp = hyp[:low_conf_idx]\n",
    "        pruned_hyps.append(pruned_hyp)\n",
    "#         if len(pruned_hyp) < len(hyp) and len(pruned_hyp) > 3:\n",
    "#             print('original hyp: {}'.format(hyp))\n",
    "#             print('pruned hyp: {}'.format(pruned_hyp))\n",
    "#             print('ref: {}'.format(ref))\n",
    "        if ins % 1000 == 0:\n",
    "            print('mapped ins: {}'.format(ins)) \n",
    "\n",
    "    return pruned_hyps"
   ]
  },
  {
   "cell_type": "code",
   "execution_count": 88,
   "metadata": {
    "collapsed": true
   },
   "outputs": [],
   "source": [
    "def prune_hyps_at_threshold(threshold, tups, cutoff=1):\n",
    "    pruned_hyps = []\n",
    "    \n",
    "    low_conf_idx = cutoff\n",
    "    for source, hyp, ref, confs, pres in tups:\n",
    "        for idx in range(cutoff,len(confs)):\n",
    "            if confs[idx] <= threshold:\n",
    "                low_conf_idx = idx\n",
    "                break\n",
    "            \n",
    "        pruned_hyp = hyp[:low_conf_idx]\n",
    "        pruned_hyps.append(pruned_hyp)\n",
    "#         if len(pruned_hyp) < len(hyp):\n",
    "#             print('original hyp: {}'.format(hyp))\n",
    "#             print('pruned hyp: {}'.format(pruned_hyp))\n",
    "#             print('ref: {}'.format(ref))\n",
    "    return pruned_hyps"
   ]
  },
  {
   "cell_type": "code",
   "execution_count": 89,
   "metadata": {
    "collapsed": true
   },
   "outputs": [],
   "source": [
    "def prune_hyps_at_cutoff(cutoff, tups):\n",
    "    pruned_hyps = []\n",
    "    for source, hyp, ref, confs, pres in tups:\n",
    "        pruned_hyp = hyp[:cutoff]\n",
    "        pruned_hyps.append(pruned_hyp)\n",
    "    return pruned_hyps"
   ]
  },
  {
   "cell_type": "code",
   "execution_count": 90,
   "metadata": {
    "collapsed": true
   },
   "outputs": [],
   "source": [
    "def num_ops_saved(hyp, ref):\n",
    "    match_len = 0\n",
    "    for h_sym, r_sym in zip(hyp, ref):\n",
    "        if h_sym == r_sym:\n",
    "            match_len += 1.\n",
    "        else:\n",
    "            break\n",
    "    \n",
    "    # user needs to delete anything extra\n",
    "    del_ops = len(hyp) - match_len\n",
    "    ops_saved = match_len - del_ops\n",
    "    return ops_saved\n"
   ]
  },
  {
   "cell_type": "code",
   "execution_count": 91,
   "metadata": {
    "collapsed": true
   },
   "outputs": [],
   "source": [
    "max_hyp_len=max([len(h) for h in hyp_lines])"
   ]
  },
  {
   "cell_type": "code",
   "execution_count": 92,
   "metadata": {
    "collapsed": false
   },
   "outputs": [
    {
     "data": {
      "text/plain": [
       "25"
      ]
     },
     "execution_count": 92,
     "metadata": {},
     "output_type": "execute_result"
    }
   ],
   "source": [
    "max_hyp_len"
   ]
  },
  {
   "cell_type": "code",
   "execution_count": 93,
   "metadata": {
    "collapsed": true
   },
   "outputs": [],
   "source": [
    "def build_imt_truncation_feature_set(hyps, refs, confs, max_hyp_len=73):\n",
    "    # cut hyps to the point where they only match the ref prefix\n",
    "    X = []\n",
    "    y = []\n",
    "    \n",
    "    for hyp,ref,conf in zip(hyps, refs, confs):\n",
    "        cumulative_confs = np.exp(np.cumsum(np.log(conf)))\n",
    "\n",
    "        for i,hyp_w in zip(range(1,len(hyp)), hyp[1:]):\n",
    "#             feats = np.zeros(max_hyp_len + 1, dtype='float32')\n",
    "#             feats[i] = 1.\n",
    "#             feats[-1] = cumulative_confs[i]\n",
    "#             X.append(feats)\n",
    "            X.append([float(i), conf[i], cumulative_confs[i]])\n",
    "#             X.append([conf[i], cumulative_confs[i]])\n",
    "            \n",
    "#             already_stopped = False\n",
    "            if i < len(ref) and ref[i] == hyp_w:\n",
    "                y.append(0.)\n",
    "            else:\n",
    "                y.append(1.)\n",
    "                break\n",
    "        \n",
    "    return X, y"
   ]
  },
  {
   "cell_type": "code",
   "execution_count": 94,
   "metadata": {
    "collapsed": true
   },
   "outputs": [],
   "source": [
    "def max_achievable(hyps, refs):\n",
    "    # cut hyps to the point where they only match the ref prefix\n",
    "    matching_hyps = []\n",
    "    for hyp,ref in zip(hyps, refs):\n",
    "        matching_hyp = []\n",
    "        for i,hyp_w in enumerate(hyp):\n",
    "            if i < len(ref) and ref[i] == hyp_w:\n",
    "                matching_hyp.append(hyp_w)\n",
    "            else:\n",
    "                break\n",
    "        matching_hyps.append(matching_hyp)\n",
    "    return matching_hyps"
   ]
  },
  {
   "cell_type": "code",
   "execution_count": 95,
   "metadata": {
    "collapsed": true
   },
   "outputs": [],
   "source": [
    "# build a feature set which includes: prev_word, current_word, position, conf_model --> stop/continue\n",
    "training_X, training_y = build_imt_truncation_feature_set(hyp_lines, ref_lines, word_level_confs)"
   ]
  },
  {
   "cell_type": "code",
   "execution_count": 96,
   "metadata": {
    "collapsed": false
   },
   "outputs": [
    {
     "data": {
      "text/plain": [
       "10011"
      ]
     },
     "execution_count": 96,
     "metadata": {},
     "output_type": "execute_result"
    }
   ],
   "source": [
    "len(training_X)"
   ]
  },
  {
   "cell_type": "code",
   "execution_count": 97,
   "metadata": {
    "collapsed": true
   },
   "outputs": [],
   "source": [
    "# from collections import Counter\n",
    "# len_counts = Counter(len(h) for h in hyp_lines)\n",
    "# len_counts.most_common(10)"
   ]
  },
  {
   "cell_type": "code",
   "execution_count": 98,
   "metadata": {
    "collapsed": false
   },
   "outputs": [
    {
     "data": {
      "text/plain": [
       "0.75057436819498546"
      ]
     },
     "execution_count": 98,
     "metadata": {},
     "output_type": "execute_result"
    }
   ],
   "source": [
    "from sklearn.linear_model import SGDClassifier, LogisticRegression\n",
    "from sklearn.ensemble import RandomForestClassifier\n",
    "clf = LogisticRegression()\n",
    "# clf = RandomForestClassifier()\n",
    "clf.fit(training_X, training_y)\n",
    "\n",
    "y_hat = clf.predict(training_X)\n",
    "sum(y_hat == training_y) / float(len(training_y))"
   ]
  },
  {
   "cell_type": "code",
   "execution_count": 99,
   "metadata": {
    "collapsed": true
   },
   "outputs": [],
   "source": [
    "# NOW compute IMT F1 for the pruned hyps, compare to IMT F1 for raw hyps\n",
    "from nn_imt.evaluation import imt_f1\n",
    "import numpy as np"
   ]
  },
  {
   "cell_type": "code",
   "execution_count": 100,
   "metadata": {
    "collapsed": true
   },
   "outputs": [],
   "source": [
    "def avg_imtF1(hyps, refs):\n",
    "    f1s, ps, rs = tuple(np.mean(m) for m in zip(*[imt_f1(h,r) for h,r in zip(hyps,refs)]))\n",
    "    return f1s, ps, rs"
   ]
  },
  {
   "cell_type": "code",
   "execution_count": 101,
   "metadata": {
    "collapsed": true
   },
   "outputs": [],
   "source": [
    "def all_imtF1_scores(hyps, refs):\n",
    "    f1s, ps, rs = zip(*[imt_f1(h,r) for h,r in zip(hyps,refs)])\n",
    "    return f1s, ps, rs"
   ]
  },
  {
   "cell_type": "code",
   "execution_count": 102,
   "metadata": {
    "collapsed": true
   },
   "outputs": [],
   "source": [
    "cutoffs = range(1,21)\n",
    "cutoff_sets = [prune_hyps_at_cutoff(cutoff, trans_tups) for cutoff in cutoffs]\n",
    "c_f1s, c_ps, c_rs = zip(*[avg_imtF1(cutoff_set, ref_lines) for cutoff_set in cutoff_sets]) "
   ]
  },
  {
   "cell_type": "code",
   "execution_count": 103,
   "metadata": {
    "collapsed": true
   },
   "outputs": [],
   "source": [
    "def get_ops_saved(hyps, refs):\n",
    "    return sum([num_ops_saved(hyp, ref) for hyp, ref in zip(hyps, refs)])\n",
    "\n",
    "def get_mean_ops_saved(hyps, refs):\n",
    "    return np.mean([num_ops_saved(hyp, ref) for hyp, ref in zip(hyps, refs)])"
   ]
  },
  {
   "cell_type": "code",
   "execution_count": 104,
   "metadata": {
    "collapsed": false
   },
   "outputs": [
    {
     "name": "stdout",
     "output_type": "stream",
     "text": [
      "1\n",
      "6113.0\n",
      "1\n",
      "1.18999416002\n"
     ]
    }
   ],
   "source": [
    "set_ops_saved = [get_ops_saved(cutoff_set, ref_lines) for cutoff_set in cutoff_sets]\n",
    "mean_ops_saved = [get_mean_ops_saved(cutoff_set, ref_lines) for cutoff_set in cutoff_sets]\n",
    "\n",
    "print(np.argmax(set_ops_saved))\n",
    "print(np.max(set_ops_saved))\n",
    "print(np.argmax(mean_ops_saved))\n",
    "print(np.max(mean_ops_saved))"
   ]
  },
  {
   "cell_type": "code",
   "execution_count": 105,
   "metadata": {
    "collapsed": true
   },
   "outputs": [],
   "source": [
    "thresholds = np.linspace(0.0, 1., num=50, endpoint=True)"
   ]
  },
  {
   "cell_type": "code",
   "execution_count": 106,
   "metadata": {
    "collapsed": true
   },
   "outputs": [],
   "source": [
    "def tups_by_hyp_len(trans_tups, num_buckets=20):\n",
    "    len_tups = {k:[] for k in range(num_buckets+1)}\n",
    "    for tup in trans_tups:\n",
    "        tup_len = len(tup[1])\n",
    "        if tup_len < num_buckets:\n",
    "            len_tups[tup_len].append(tup)\n",
    "        else:\n",
    "            len_tups[num_buckets].append(tup)\n",
    "    for k in len_tups.keys():\n",
    "        if len(len_tups[k]) == 0:\n",
    "            del len_tups[k]\n",
    "    return len_tups"
   ]
  },
  {
   "cell_type": "code",
   "execution_count": 107,
   "metadata": {
    "collapsed": true
   },
   "outputs": [],
   "source": [
    "num_buckets = 25"
   ]
  },
  {
   "cell_type": "code",
   "execution_count": 108,
   "metadata": {
    "collapsed": true
   },
   "outputs": [],
   "source": [
    "tup_buckets = tups_by_hyp_len(trans_tups, num_buckets=num_buckets)"
   ]
  },
  {
   "cell_type": "code",
   "execution_count": 109,
   "metadata": {
    "collapsed": false
   },
   "outputs": [
    {
     "data": {
      "text/plain": [
       "[479, 423, 288, 292, 254, 233, 234, 228, 214, 196]"
      ]
     },
     "execution_count": 109,
     "metadata": {},
     "output_type": "execute_result"
    }
   ],
   "source": [
    "[len(tup_buckets[k]) for k in range(10+1) if k in tup_buckets]"
   ]
  },
  {
   "cell_type": "code",
   "execution_count": 110,
   "metadata": {
    "collapsed": true
   },
   "outputs": [],
   "source": [
    "# TODO: switch to choosing the pruning index based on num ops saved, not mean f1"
   ]
  },
  {
   "cell_type": "code",
   "execution_count": 111,
   "metadata": {
    "collapsed": true
   },
   "outputs": [],
   "source": [
    "def pruned_len_sets(tup_bucket_dict, thresholds, num_buckets=20):\n",
    "    len_thresholds = {}\n",
    "    for k in tup_bucket_dict.keys():\n",
    "        k_tups = tup_bucket_dict[k]\n",
    "        k_refs = zip(*k_tups)[2]\n",
    "#         k_pruned_sets = [prune_hyps_at_cumulative_threshold(thresh, k_tups) for thresh in thresholds]\n",
    "        \n",
    "        # WORKING: two dynamic pruning functions -- one for cutoff, one for thresh\n",
    "        # CUMULATIVE THRESHOLD\n",
    "        k_pruned_sets = [prune_hyps_at_cumulative_threshold(thresh, k_tups) for thresh in thresholds]\n",
    "        # TOKEN THRESHOLD\n",
    "#         k_pruned_sets = [prune_hyps_at_threshold(thresh, k_tups) for thresh in thresholds]\n",
    "\n",
    "        # CUTOFF -- currently HACKED\n",
    "#         thresholds = range(1,21)\n",
    "#         k_pruned_sets = [prune_hyps_at_cutoff(cutoff, k_tups) for cutoff in cutoffs]\n",
    "        \n",
    "        # get the best threshold for this index\n",
    "#         mean_f1s = [np.mean(all_imtF1_scores(k_pruned_set, k_refs)) for k_pruned_set in k_pruned_sets]\n",
    "        ops_saved = [get_ops_saved(k_pruned_set, k_refs) for k_pruned_set in k_pruned_sets]        \n",
    "    \n",
    "#         print(all_imtF1_scores(k_pruned_set, k_refs)[0])\n",
    "#         print(mean_f1s)\n",
    "#         print(len(mean_f1s))\n",
    "#         best_threshold = np.argmax(mean_f1s)\n",
    "        best_threshold = np.argmax(ops_saved)\n",
    "        print('length_bucket: {}'.format(k))\n",
    "        print('num_tups in bucket: {}'.format(len(k_tups)))\n",
    "        print('best threshold: {}'.format(thresholds[best_threshold]))\n",
    "        print('ops saved: {}'.format(ops_saved[best_threshold]))\n",
    "        print('\\n')\n",
    "        len_thresholds[k] = thresholds[best_threshold]\n",
    "    return len_thresholds\n",
    "        \n",
    "#     pruned_sets = [prune_hyps_at_cumulative_threshold(thresh, trans_tups) for thresh in thresholds]\n"
   ]
  },
  {
   "cell_type": "code",
   "execution_count": 112,
   "metadata": {
    "collapsed": false
   },
   "outputs": [
    {
     "name": "stdout",
     "output_type": "stream",
     "text": [
      "length_bucket: 1\n",
      "num_tups in bucket: 479\n",
      "best threshold: 0.0\n",
      "ops saved: 479.0\n",
      "\n",
      "\n",
      "length_bucket: 2\n",
      "num_tups in bucket: 423\n",
      "best threshold: 0.0\n",
      "ops saved: 423.0\n",
      "\n",
      "\n",
      "length_bucket: 3\n",
      "num_tups in bucket: 288\n",
      "best threshold: 0.0816326530612\n",
      "ops saved: 349.0\n",
      "\n",
      "\n",
      "length_bucket: 4\n",
      "num_tups in bucket: 292\n",
      "best threshold: 0.0612244897959\n",
      "ops saved: 328.0\n",
      "\n",
      "\n",
      "length_bucket: 5\n",
      "num_tups in bucket: 254\n",
      "best threshold: 0.30612244898\n",
      "ops saved: 328.0\n",
      "\n",
      "\n",
      "length_bucket: 6\n",
      "num_tups in bucket: 233\n",
      "best threshold: 0.224489795918\n",
      "ops saved: 323.0\n",
      "\n",
      "\n",
      "length_bucket: 7\n",
      "num_tups in bucket: 234\n",
      "best threshold: 0.142857142857\n",
      "ops saved: 313.0\n",
      "\n",
      "\n",
      "length_bucket: 8\n",
      "num_tups in bucket: 228\n",
      "best threshold: 0.102040816327\n",
      "ops saved: 280.0\n",
      "\n",
      "\n",
      "length_bucket: 9\n",
      "num_tups in bucket: 214\n",
      "best threshold: 0.265306122449\n",
      "ops saved: 252.0\n",
      "\n",
      "\n",
      "length_bucket: 10\n",
      "num_tups in bucket: 196\n",
      "best threshold: 0.204081632653\n",
      "ops saved: 233.0\n",
      "\n",
      "\n",
      "length_bucket: 11\n",
      "num_tups in bucket: 201\n",
      "best threshold: 0.367346938776\n",
      "ops saved: 241.0\n",
      "\n",
      "\n",
      "length_bucket: 12\n",
      "num_tups in bucket: 211\n",
      "best threshold: 0.224489795918\n",
      "ops saved: 246.0\n",
      "\n",
      "\n",
      "length_bucket: 13\n",
      "num_tups in bucket: 181\n",
      "best threshold: 0.30612244898\n",
      "ops saved: 230.0\n",
      "\n",
      "\n",
      "length_bucket: 14\n",
      "num_tups in bucket: 187\n",
      "best threshold: 0.265306122449\n",
      "ops saved: 230.0\n",
      "\n",
      "\n",
      "length_bucket: 15\n",
      "num_tups in bucket: 171\n",
      "best threshold: 0.326530612245\n",
      "ops saved: 214.0\n",
      "\n",
      "\n",
      "length_bucket: 16\n",
      "num_tups in bucket: 174\n",
      "best threshold: 0.30612244898\n",
      "ops saved: 206.0\n",
      "\n",
      "\n",
      "length_bucket: 17\n",
      "num_tups in bucket: 163\n",
      "best threshold: 0.30612244898\n",
      "ops saved: 216.0\n",
      "\n",
      "\n",
      "length_bucket: 18\n",
      "num_tups in bucket: 143\n",
      "best threshold: 0.163265306122\n",
      "ops saved: 214.0\n",
      "\n",
      "\n",
      "length_bucket: 19\n",
      "num_tups in bucket: 148\n",
      "best threshold: 0.163265306122\n",
      "ops saved: 202.0\n",
      "\n",
      "\n",
      "length_bucket: 20\n",
      "num_tups in bucket: 130\n",
      "best threshold: 0.122448979592\n",
      "ops saved: 201.0\n",
      "\n",
      "\n",
      "length_bucket: 21\n",
      "num_tups in bucket: 126\n",
      "best threshold: 0.122448979592\n",
      "ops saved: 169.0\n",
      "\n",
      "\n",
      "length_bucket: 22\n",
      "num_tups in bucket: 123\n",
      "best threshold: 0.163265306122\n",
      "ops saved: 165.0\n",
      "\n",
      "\n",
      "length_bucket: 23\n",
      "num_tups in bucket: 130\n",
      "best threshold: 0.163265306122\n",
      "ops saved: 190.0\n",
      "\n",
      "\n",
      "length_bucket: 24\n",
      "num_tups in bucket: 108\n",
      "best threshold: 0.122448979592\n",
      "ops saved: 168.0\n",
      "\n",
      "\n",
      "length_bucket: 25\n",
      "num_tups in bucket: 100\n",
      "best threshold: 0.102040816327\n",
      "ops saved: 154.0\n",
      "\n",
      "\n"
     ]
    }
   ],
   "source": [
    "# WORKING: compute best threshold at each input length -- complexity = (n_lengths * n_thresholds)\n",
    "len_threshs = pruned_len_sets(tup_buckets, thresholds, num_buckets=num_buckets)"
   ]
  },
  {
   "cell_type": "code",
   "execution_count": 113,
   "metadata": {
    "collapsed": true
   },
   "outputs": [],
   "source": [
    "# pruned_sets = [prune_hyps_at_threshold(thresh, trans_tups) for thresh in thresholds]\n",
    "pruned_sets = [prune_hyps_at_cumulative_threshold(thresh, trans_tups) for thresh in thresholds]\n",
    "\n",
    "t_f1s, t_ps, t_rs = zip(*[avg_imtF1(pruned_set, ref_lines) for pruned_set in pruned_sets])\n",
    "max_f1_idx = np.argmax(t_f1s)\n",
    "\n",
    "set_ops_saved = [get_ops_saved(pruned_set, ref_lines) for pruned_set in pruned_sets]\n",
    "mean_ops_saved = [get_mean_ops_saved(cutoff_set, ref_lines) for cutoff_set in cutoff_sets]\n",
    "\n",
    "dynamic_pruned_set = prune_hyps_with_length_threshold(trans_tups, len_threshs)\n",
    "dynamic_ops_saved = get_ops_saved(dynamic_pruned_set, ref_lines)"
   ]
  },
  {
   "cell_type": "code",
   "execution_count": 114,
   "metadata": {
    "collapsed": false
   },
   "outputs": [
    {
     "data": {
      "text/plain": [
       "6465.0"
      ]
     },
     "execution_count": 114,
     "metadata": {},
     "output_type": "execute_result"
    }
   ],
   "source": [
    "dynamic_ops_saved"
   ]
  },
  {
   "cell_type": "code",
   "execution_count": 199,
   "metadata": {
    "collapsed": true
   },
   "outputs": [],
   "source": [
    "# WORKING: normalize pruning function signatures, use func as argument to prune_hyps at length threshold\n",
    "# WORKING: also return thresholds from function"
   ]
  },
  {
   "cell_type": "code",
   "execution_count": 200,
   "metadata": {
    "collapsed": false
   },
   "outputs": [
    {
     "data": {
      "text/plain": [
       "39.0"
      ]
     },
     "execution_count": 200,
     "metadata": {},
     "output_type": "execute_result"
    }
   ],
   "source": [
    "set_ops_saved[max_f1_idx]"
   ]
  },
  {
   "cell_type": "code",
   "execution_count": 328,
   "metadata": {
    "collapsed": false
   },
   "outputs": [
    {
     "name": "stdout",
     "output_type": "stream",
     "text": [
      "20\n",
      "7012.0\n",
      "1\n",
      "1.17671210379\n"
     ]
    }
   ],
   "source": [
    "print(np.argmax(set_ops_saved))\n",
    "print(np.max(set_ops_saved))\n",
    "print(np.argmax(mean_ops_saved))\n",
    "print(np.max(mean_ops_saved))"
   ]
  },
  {
   "cell_type": "code",
   "execution_count": 329,
   "metadata": {
    "collapsed": true
   },
   "outputs": [],
   "source": [
    "raw_f1s, raw_ps, raw_rs = avg_imtF1(hyp_lines, ref_lines)"
   ]
  },
  {
   "cell_type": "code",
   "execution_count": 330,
   "metadata": {
    "collapsed": false
   },
   "outputs": [
    {
     "data": {
      "text/plain": [
       "0.34692857370552443"
      ]
     },
     "execution_count": 330,
     "metadata": {},
     "output_type": "execute_result"
    }
   ],
   "source": [
    "2*((raw_ps*raw_rs) / (raw_ps+raw_rs))"
   ]
  },
  {
   "cell_type": "code",
   "execution_count": 331,
   "metadata": {
    "collapsed": true
   },
   "outputs": [],
   "source": [
    "max_f1s, max_ps, max_rs = avg_imtF1(max_achievable(hyp_lines, ref_lines), ref_lines)"
   ]
  },
  {
   "cell_type": "code",
   "execution_count": 332,
   "metadata": {
    "collapsed": false
   },
   "outputs": [
    {
     "data": {
      "text/plain": [
       "0.50581646607974906"
      ]
     },
     "execution_count": 332,
     "metadata": {},
     "output_type": "execute_result"
    }
   ],
   "source": [
    "2*((max_ps*max_rs) / (max_ps+max_rs))"
   ]
  },
  {
   "cell_type": "code",
   "execution_count": 333,
   "metadata": {
    "collapsed": true
   },
   "outputs": [],
   "source": [
    "avg_thresh_f1s = [2*((p*r) / (p+r)) for p,r in zip(t_ps, t_rs)]\n",
    "avg_cutoff_f1s = [2*((p*r) / (p+r)) for p,r in zip(c_ps, c_rs)]"
   ]
  },
  {
   "cell_type": "code",
   "execution_count": 334,
   "metadata": {
    "collapsed": true
   },
   "outputs": [],
   "source": [
    "# TODO: there is a bug somewhere in f1_score computation -- either in IMT F1, or in the manual implementation\n",
    "# OR: it is different to compute mean_f1 vs f1 of mean p and mean r -- in general, YES"
   ]
  },
  {
   "cell_type": "code",
   "execution_count": 335,
   "metadata": {
    "collapsed": false
   },
   "outputs": [
    {
     "name": "stdout",
     "output_type": "stream",
     "text": [
      "0.424002936235\n",
      "3\n"
     ]
    }
   ],
   "source": [
    "best_cutoff_idx = np.argmax(avg_cutoff_f1s)\n",
    "# print(best_cutoff_idx)\n",
    "print(avg_cutoff_f1s[best_cutoff_idx])\n",
    "print(cutoffs[best_cutoff_idx])"
   ]
  },
  {
   "cell_type": "code",
   "execution_count": 336,
   "metadata": {
    "collapsed": false
   },
   "outputs": [
    {
     "data": {
      "text/plain": [
       "0.36740004011850053"
      ]
     },
     "execution_count": 336,
     "metadata": {},
     "output_type": "execute_result"
    }
   ],
   "source": [
    "max(t_f1s)"
   ]
  },
  {
   "cell_type": "code",
   "execution_count": 337,
   "metadata": {
    "collapsed": false
   },
   "outputs": [
    {
     "data": {
      "text/plain": [
       "0.3752621714650804"
      ]
     },
     "execution_count": 337,
     "metadata": {},
     "output_type": "execute_result"
    }
   ],
   "source": [
    "max(c_f1s)"
   ]
  },
  {
   "cell_type": "code",
   "execution_count": 338,
   "metadata": {
    "collapsed": false
   },
   "outputs": [
    {
     "data": {
      "text/plain": [
       "0.36819514488350419"
      ]
     },
     "execution_count": 338,
     "metadata": {},
     "output_type": "execute_result"
    }
   ],
   "source": [
    "best_cutoff_scores, _, _ = all_imtF1_scores(cutoff_sets[best_cutoff_idx], ref_lines)\n",
    "np.mean(best_cutoff_scores)"
   ]
  },
  {
   "cell_type": "code",
   "execution_count": 339,
   "metadata": {
    "collapsed": true
   },
   "outputs": [],
   "source": [
    "# idea: combine threshold with the index you're cutting -- different optimal threshold depending on suffix length"
   ]
  },
  {
   "cell_type": "code",
   "execution_count": 340,
   "metadata": {
    "collapsed": false
   },
   "outputs": [
    {
     "name": "stdout",
     "output_type": "stream",
     "text": [
      "mapped ins: 0\n",
      "mapped ins: 1000\n",
      "mapped ins: 2000\n",
      "mapped ins: 3000\n",
      "mapped ins: 4000\n",
      "mapped ins: 5000\n",
      "mapped ins: 6000\n"
     ]
    }
   ],
   "source": [
    "# model_pruned_hyps = prune_hyps_with_model(clf, trans_tups[:100], log=True)\n",
    "model_pruned_hyps = prune_hyps_with_model(clf, trans_tups)\n"
   ]
  },
  {
   "cell_type": "code",
   "execution_count": 341,
   "metadata": {
    "collapsed": true
   },
   "outputs": [],
   "source": [
    "best_model_scores, _, _ = all_imtF1_scores(model_pruned_hyps, ref_lines)"
   ]
  },
  {
   "cell_type": "code",
   "execution_count": 342,
   "metadata": {
    "collapsed": false
   },
   "outputs": [
    {
     "data": {
      "text/plain": [
       "0.31540191656749711"
      ]
     },
     "execution_count": 342,
     "metadata": {},
     "output_type": "execute_result"
    }
   ],
   "source": [
    "np.mean(best_model_scores)"
   ]
  },
  {
   "cell_type": "code",
   "execution_count": 343,
   "metadata": {
    "collapsed": false
   },
   "outputs": [
    {
     "name": "stdout",
     "output_type": "stream",
     "text": [
      "3\n",
      "0.415613684359\n",
      "0.0612244897959\n"
     ]
    }
   ],
   "source": [
    "best_thresh_idx = np.argmax(avg_thresh_f1s)\n",
    "print(best_thresh_idx)\n",
    "print(avg_thresh_f1s[best_thresh_idx])\n",
    "print(thresholds[best_thresh_idx])"
   ]
  },
  {
   "cell_type": "code",
   "execution_count": 344,
   "metadata": {
    "collapsed": false
   },
   "outputs": [
    {
     "name": "stdout",
     "output_type": "stream",
     "text": [
      "c_ps: 0.690096896042, c_rs: 0.306009107301\n",
      "t_ps: 0.658703370167, t_rs: 0.303579776714\n"
     ]
    },
    {
     "data": {
      "text/plain": [
       "(1.0, 0.33852365161102493)"
      ]
     },
     "execution_count": 344,
     "metadata": {},
     "output_type": "execute_result"
    }
   ],
   "source": [
    "print('c_ps: {}, c_rs: {}'.format(c_ps[best_cutoff_idx], c_rs[best_cutoff_idx]))\n",
    "print('t_ps: {}, t_rs: {}'.format(t_ps[best_thresh_idx], t_rs[best_thresh_idx]))\n",
    "max_ps, max_rs"
   ]
  },
  {
   "cell_type": "code",
   "execution_count": 345,
   "metadata": {
    "collapsed": false
   },
   "outputs": [
    {
     "data": {
      "text/plain": [
       "3.5362128428313353"
      ]
     },
     "execution_count": 345,
     "metadata": {},
     "output_type": "execute_result"
    }
   ],
   "source": [
    "np.mean([len(i) for i in pruned_sets[best_thresh_idx]])\n",
    "# np.mean([len(i) for i in model_pruned_hyps])"
   ]
  },
  {
   "cell_type": "code",
   "execution_count": 346,
   "metadata": {
    "collapsed": false
   },
   "outputs": [
    {
     "name": "stdout",
     "output_type": "stream",
     "text": [
      "0.368195144884\n",
      "0.361203927926\n"
     ]
    }
   ],
   "source": [
    "best_thresh_scores, _, _ = all_imtF1_scores(pruned_sets[best_thresh_idx], ref_lines)\n",
    "print(np.mean(best_cutoff_scores))\n",
    "print(np.mean(best_thresh_scores))"
   ]
  },
  {
   "cell_type": "code",
   "execution_count": 347,
   "metadata": {
    "collapsed": true
   },
   "outputs": [],
   "source": [
    "max_achievable_scores, _, _ = all_imtF1_scores(max_achievable(hyp_lines, ref_lines), ref_lines)"
   ]
  },
  {
   "cell_type": "code",
   "execution_count": 348,
   "metadata": {
    "collapsed": false
   },
   "outputs": [
    {
     "data": {
      "text/plain": [
       "0.41122585205817652"
      ]
     },
     "execution_count": 348,
     "metadata": {},
     "output_type": "execute_result"
    }
   ],
   "source": [
    "np.mean(max_achievable_scores)"
   ]
  },
  {
   "cell_type": "code",
   "execution_count": 349,
   "metadata": {
    "collapsed": false
   },
   "outputs": [
    {
     "data": {
      "text/plain": [
       "1620"
      ]
     },
     "execution_count": 349,
     "metadata": {},
     "output_type": "execute_result"
    }
   ],
   "source": [
    "sum([t > c for t,c in zip(best_thresh_scores, best_cutoff_scores)])"
   ]
  },
  {
   "cell_type": "code",
   "execution_count": 350,
   "metadata": {
    "collapsed": false
   },
   "outputs": [
    {
     "data": {
      "text/plain": [
       "2522"
      ]
     },
     "execution_count": 350,
     "metadata": {},
     "output_type": "execute_result"
    }
   ],
   "source": [
    "sum([c > t for t,c in zip(best_thresh_scores, best_cutoff_scores)])"
   ]
  },
  {
   "cell_type": "code",
   "execution_count": 351,
   "metadata": {
    "collapsed": false
   },
   "outputs": [
    {
     "data": {
      "text/plain": [
       "0.065334836294145632"
      ]
     },
     "execution_count": 351,
     "metadata": {},
     "output_type": "execute_result"
    }
   ],
   "source": [
    "np.mean([t - c for t,c in zip(best_thresh_scores, best_cutoff_scores) if t > c])"
   ]
  },
  {
   "cell_type": "code",
   "execution_count": 352,
   "metadata": {
    "collapsed": false
   },
   "outputs": [
    {
     "data": {
      "text/plain": [
       "0.058846928966136497"
      ]
     },
     "execution_count": 352,
     "metadata": {},
     "output_type": "execute_result"
    }
   ],
   "source": [
    "np.mean([c -t for t,c in zip(best_thresh_scores, best_cutoff_scores) if c > t])"
   ]
  },
  {
   "cell_type": "code",
   "execution_count": 353,
   "metadata": {
    "collapsed": false
   },
   "outputs": [
    {
     "data": {
      "text/plain": [
       "6089"
      ]
     },
     "execution_count": 353,
     "metadata": {},
     "output_type": "execute_result"
    }
   ],
   "source": [
    "len(best_thresh_scores)"
   ]
  },
  {
   "cell_type": "code",
   "execution_count": 354,
   "metadata": {
    "collapsed": true
   },
   "outputs": [],
   "source": [
    "# QUESTIONS:\n",
    "# Where does the confidence model fail? -- why is it bad for shorter predictions?\n",
    "#   Hypotheses:\n",
    "#   - not enough short training instances\n",
    "#   - threshold doesn't generalize well\n",
    "# Are good inputs getting shortened or bad inputs getting lengthened"
   ]
  },
  {
   "cell_type": "code",
   "execution_count": 355,
   "metadata": {
    "collapsed": false
   },
   "outputs": [
    {
     "name": "stdout",
     "output_type": "stream",
     "text": [
      "0.915421251437\n",
      "0.368861882082\n",
      "5574.0\n",
      "2246.0\n",
      "13567.0\n"
     ]
    }
   ],
   "source": [
    "# compute the avg number of operations saved \n",
    "print(np.mean([num_ops_saved(h, r) for h,r in zip(cutoff_sets[best_cutoff_idx], ref_lines)]))\n",
    "print(np.mean([num_ops_saved(h, r) for h,r in zip(pruned_sets[best_thresh_idx], ref_lines)]))\n",
    "print(sum([num_ops_saved(h, r) for h,r in zip(cutoff_sets[best_cutoff_idx], ref_lines)]))\n",
    "print(sum([num_ops_saved(h, r) for h,r in zip(pruned_sets[best_thresh_idx], ref_lines)]))\n",
    "print(sum([num_ops_saved(h, r) for h,r in zip(max_achievable(hyp_lines, ref_lines), ref_lines)]))"
   ]
  },
  {
   "cell_type": "code",
   "execution_count": 356,
   "metadata": {
    "collapsed": false
   },
   "outputs": [
    {
     "data": {
      "text/plain": [
       "181.83333333333334"
      ]
     },
     "execution_count": 356,
     "metadata": {},
     "output_type": "execute_result"
    }
   ],
   "source": [
    "10910 / 60."
   ]
  },
  {
   "cell_type": "code",
   "execution_count": 357,
   "metadata": {
    "collapsed": false
   },
   "outputs": [
    {
     "data": {
      "text/plain": [
       "8.75"
      ]
     },
     "execution_count": 357,
     "metadata": {},
     "output_type": "execute_result"
    }
   ],
   "source": [
    "525 / 60."
   ]
  },
  {
   "cell_type": "code",
   "execution_count": 358,
   "metadata": {
    "collapsed": false
   },
   "outputs": [
    {
     "data": {
      "text/plain": [
       "0.04812107813213223"
      ]
     },
     "execution_count": 358,
     "metadata": {},
     "output_type": "execute_result"
    }
   ],
   "source": [
    "8.75 / 181.833"
   ]
  },
  {
   "cell_type": "code",
   "execution_count": 359,
   "metadata": {
    "collapsed": false
   },
   "outputs": [
    {
     "data": {
      "text/plain": [
       "17"
      ]
     },
     "execution_count": 359,
     "metadata": {},
     "output_type": "execute_result"
    }
   ],
   "source": [
    "max([len(t) for t in pruned_sets[best_thresh_idx]])\n",
    "# TODO: what is the maximum number of tokens matched by the threshold model?"
   ]
  },
  {
   "cell_type": "code",
   "execution_count": 360,
   "metadata": {
    "collapsed": false
   },
   "outputs": [
    {
     "data": {
      "text/plain": [
       "WilcoxonResult(statistic=3499500.5, pvalue=9.4541169726054271e-25)"
      ]
     },
     "execution_count": 360,
     "metadata": {},
     "output_type": "execute_result"
    }
   ],
   "source": [
    "from scipy import stats\n",
    "\n",
    "# stats.ttest_ind(best_cutoff_scores, best_thresh_scores, equal_var=False)\n",
    "stats.wilcoxon(best_cutoff_scores, best_thresh_scores)\n",
    "# stats.ttest_rel(best_cutoff_scores, best_thresh_scores)\n",
    "\n",
    "# CONCLUSION: current model is _NOT_ significantly better than baseline"
   ]
  },
  {
   "cell_type": "code",
   "execution_count": 361,
   "metadata": {
    "collapsed": true
   },
   "outputs": [],
   "source": [
    "# dump predictions to file\n",
    "output_f1s = zip(best_cutoff_scores, best_thresh_scores, max_achievable_scores)\n"
   ]
  },
  {
   "cell_type": "code",
   "execution_count": 187,
   "metadata": {
    "collapsed": false
   },
   "outputs": [
    {
     "data": {
      "text/plain": [
       "4353"
      ]
     },
     "execution_count": 187,
     "metadata": {},
     "output_type": "execute_result"
    }
   ],
   "source": [
    "len(output_f1s)"
   ]
  },
  {
   "cell_type": "code",
   "execution_count": 190,
   "metadata": {
    "collapsed": true
   },
   "outputs": [],
   "source": [
    "with open('model_scores.csv', 'w') as out:\n",
    "    out.write('Baseline, Model, Oracle\\n')\n",
    "    for r in output_f1s:\n",
    "        out.write(', '.join(str(f) for f in r) + '\\n')"
   ]
  },
  {
   "cell_type": "markdown",
   "metadata": {},
   "source": [
    "# working -- np cumsum to get cumulative confidence\n",
    "# BASELINE -- cutoff = 3\n",
    "0.424002936235\n",
    "\n",
    "# threshold cumsum @10000 iters -- w/ cutoff 3\n",
    "9\n",
    "0.427885047471\n",
    "0.183673469388\n",
    "\n",
    "# threshold cumsum @10000 iters -- w/ cutoff 1\n",
    "6\n",
    "0.425319179877\n",
    "0.122448979592\n",
    "\n",
    "# threshold cumsum @40000 iters -- w/ cutoff 3\n",
    "10\n",
    "0.427649373976\n",
    "0.204081632653\n",
    "\n",
    "# threshold cumsum @40000 iters -- w/ cutoff 1\n",
    "6\n",
    "0.425204928317\n",
    "0.122448979592\n",
    "\n",
    "# threshold cumsum @75000 iters -- w/ cutoff 1\n",
    "5\n",
    "0.427151842361\n",
    "0.102040816327\n",
    "\n",
    "# threshold cumsum @75000 iters -- w/ cutoff 3\n",
    "6\n",
    "0.42848914907\n",
    "0.122448979592"
   ]
  },
  {
   "cell_type": "code",
   "execution_count": 82,
   "metadata": {
    "collapsed": true
   },
   "outputs": [],
   "source": [
    "\n",
    "# pylab.rcParams.keys()"
   ]
  },
  {
   "cell_type": "code",
   "execution_count": 35,
   "metadata": {
    "collapsed": true
   },
   "outputs": [],
   "source": [
    "max_possible = .312"
   ]
  },
  {
   "cell_type": "code",
   "execution_count": 89,
   "metadata": {
    "collapsed": false
   },
   "outputs": [
    {
     "data": {
      "text/plain": [
       "<matplotlib.legend.Legend at 0x7ff2385be750>"
      ]
     },
     "execution_count": 89,
     "metadata": {},
     "output_type": "execute_result"
    },
    {
     "data": {
      "image/png": "[encoded data removed]",
      "text/plain": [
       "<matplotlib.figure.Figure at 0x7ff2386d3590>"
      ]
     },
     "metadata": {},
     "output_type": "display_data"
    }
   ],
   "source": [
    "fig, ax = plt.subplots()\n",
    "\n",
    "names = ['imt_f1_score', 'precision', 'recall']\n",
    "metrics = [avg_thresh_f1s, t_ps, t_rs]\n",
    "# styles = \t['solid' | 'dashed', 'dashdot', 'dotted' |\n",
    "styles = ['solid', 'dashed', 'dotted']\n",
    "\n",
    "\n",
    "# for i,key_points in enumerate(all_points):\n",
    "\n",
    "for i in range(len(names)):\n",
    "    name = names[i]\n",
    "    x = thresholds\n",
    "    y = metrics[i]\n",
    "#     ax.scatter(x, y, s=70, c='red')\n",
    "    plt.plot(x, y, 'k', label=name, linewidth=4.0, ls=styles[i])\n",
    "    \n",
    "    plt.ylim([0.3,0.7])\n",
    "    plt.xlim([0.0, .5])\n",
    "\n",
    "    \n",
    "    \n",
    "# fig.suptitle('test title')\n",
    "plt.xlabel('Alignment Weight Threshold', fontsize=28)\n",
    "plt.setp(ax.get_xticklabels(), fontsize=20)\n",
    "plt.setp(ax.get_yticklabels(), fontsize=20)\n",
    "ax.set_yticks(ax.get_yticks()[1:])\n",
    "\n",
    "# plt.setp(ax.get_xticklabels(), rotation='vertical', fontsize=14)\n",
    "# plt.ylabel('ylabel', fontsize=16)\n",
    "plt.legend()\n",
    "plt.legend(frameon=False)\n",
    "plt.legend(loc = 'upper left')\n"
   ]
  },
  {
   "cell_type": "code",
   "execution_count": 20,
   "metadata": {
    "collapsed": false
   },
   "outputs": [
    {
     "data": {
      "text/plain": [
       "array([ 0.        ,  0.11111111,  0.22222222,  0.33333333,  0.44444444,\n",
       "        0.55555556,  0.66666667,  0.77777778,  0.88888889,  1.        ])"
      ]
     },
     "execution_count": 20,
     "metadata": {},
     "output_type": "execute_result"
    }
   ],
   "source": [
    "thresholds"
   ]
  },
  {
   "cell_type": "code",
   "execution_count": null,
   "metadata": {
    "collapsed": true
   },
   "outputs": [],
   "source": [
    "thresholds = np.linspace"
   ]
  },
  {
   "cell_type": "code",
   "execution_count": 17,
   "metadata": {
    "collapsed": false
   },
   "outputs": [
    {
     "name": "stdout",
     "output_type": "stream",
     "text": [
      "raw_f1s: 0.244294277012, raw_p: 0.245880568086, raw_r: 0.244141178125\n",
      "max f1s: 0.19325586391, max_p: 0.56001529052, max_r: 0.141309311685\n"
     ]
    }
   ],
   "source": [
    "# compare IMT F1 over matching hyps vs raw hyps\n",
    "raw_f1s, raw_p, raw_r = tuple(np.mean(m) for m in zip(*[imt_f1(h,r) for h,r in zip(hyp_lines,ref_lines)]))\n",
    "max_f1s, max_p, max_r = tuple(np.mean(m) for m in zip(*[imt_f1(h,r) for h,r in zip(pruned_hyps,ref_lines)]))\n",
    "\n",
    "print('raw_f1s: {}, raw_p: {}, raw_r: {}'.format(raw_f1s, raw_p, raw_r))\n",
    "print('max f1s: {}, max_p: {}, max_r: {}'.format(max_f1s, max_p, max_r))"
   ]
  },
  {
   "cell_type": "code",
   "execution_count": null,
   "metadata": {
    "collapsed": true
   },
   "outputs": [],
   "source": [
    "# now plot p, r, and f1 against alignment thresholds"
   ]
  },
  {
   "cell_type": "code",
   "execution_count": 16,
   "metadata": {
    "collapsed": false
   },
   "outputs": [
    {
     "data": {
      "text/plain": [
       "218"
      ]
     },
     "execution_count": 16,
     "metadata": {},
     "output_type": "execute_result"
    }
   ],
   "source": [
    "len(pruned_hyps)"
   ]
  },
  {
   "cell_type": "code",
   "execution_count": null,
   "metadata": {
    "collapsed": true
   },
   "outputs": [],
   "source": [
    "# WORKING: for each target word, print the closest aligned source word\n",
    "window_size = 1\n",
    "top_n = 3\n",
    "for i,t_seq in enumerate(trans):\n",
    "    for j,w in enumerate(t_seq):\n",
    "        weights_ij = glimpses[i][j]\n",
    "        normed_weights = numpy.exp(weights_ij) / numpy.sum(numpy.exp(weights_ij))\n",
    "        aligned_word = numpy.argmax(weights_ij)\n",
    "        top_n_aligned_words = numpy.argsort(weights_ij)[::-1][:top_n]\n",
    "        top_n_aligned_weights = weights_ij[top_n_aligned_words]\n",
    "        percent_of_best = top_n_aligned_weights / top_n_aligned_weights[0]\n",
    "        best_weight = top_n_aligned_weights[0]\n",
    "        avg_weight = numpy.mean(weights_ij)\n",
    "        best_avg_percent = avg_weight / best_weight\n",
    "        top_n_src_idxs = [seq[s] for s in top_n_aligned_words]\n",
    "        src_aligned_idx_window = seq[aligned_word-window_size:aligned_word+window_size+1]\n",
    "        print('aligned window: {}'.format((self.trg_ivocab[w], [self.src_ivocab[sw] for sw in src_aligned_idx_window])))\n",
    "        print('top n aligned: {}'.format((self.trg_ivocab[w], [self.src_ivocab[sw] for sw in top_n_src_idxs])))\n",
    "        print('percent from best: {}'.format(percent_of_best))\n",
    "        # print('normed weights: {}'.format(weights_ij / numpy.sum(weights_ij)))\n",
    "        # print('weight distribution: {}'.format(normed_weights))\n",
    "import ipdb;ipdb.set_trace()"
   ]
  },
  {
   "cell_type": "code",
   "execution_count": null,
   "metadata": {
    "collapsed": true
   },
   "outputs": [],
   "source": []
  },
  {
   "cell_type": "code",
   "execution_count": 16,
   "metadata": {
    "collapsed": false
   },
   "outputs": [
    {
     "data": {
      "text/plain": [
       "16"
      ]
     },
     "execution_count": 16,
     "metadata": {},
     "output_type": "execute_result"
    }
   ],
   "source": [
    "len(glimpses[20])"
   ]
  },
  {
   "cell_type": "code",
   "execution_count": 10,
   "metadata": {
    "collapsed": true
   },
   "outputs": [],
   "source": [
    "assert len(hyp_lines) == len(ref_lines) == len(glimpses)"
   ]
  },
  {
   "cell_type": "code",
   "execution_count": 9,
   "metadata": {
    "collapsed": false
   },
   "outputs": [
    {
     "ename": "TypeError",
     "evalue": "len() of unsized object",
     "output_type": "error",
     "traceback": [
      "\u001b[1;31m---------------------------------------------------------------------------\u001b[0m",
      "\u001b[1;31mTypeError\u001b[0m                                 Traceback (most recent call last)",
      "\u001b[1;32m<ipython-input-9-9f98e48df3fc>\u001b[0m in \u001b[0;36m<module>\u001b[1;34m()\u001b[0m\n\u001b[1;32m----> 1\u001b[1;33m \u001b[0mlen\u001b[0m\u001b[1;33m(\u001b[0m\u001b[0mglimpses\u001b[0m\u001b[1;33m)\u001b[0m\u001b[1;33m\u001b[0m\u001b[0m\n\u001b[0m",
      "\u001b[1;31mTypeError\u001b[0m: len() of unsized object"
     ]
    }
   ],
   "source": []
  },
  {
   "cell_type": "code",
   "execution_count": null,
   "metadata": {
    "collapsed": true
   },
   "outputs": [],
   "source": [
    "# Notes BUFFER\n",
    "# Create the stream used to train a prediction confidence model\n",
    "\n",
    "# For the baseline, use the thresholded output probability of the word (i.e. the score given the history)\n",
    "\n",
    "# predict each segement, write out the cost for each word to file\n",
    "\n",
    "# do post-processing similar to glimpses for each word\n",
    "\n",
    "\n",
    "# NOTE: ambiguity, aka word-fertility is a consideration here -- \n",
    "# model should intuitively have lower confidence at positions which are ambiguous  \n",
    "\n",
    "# TODO: visualize confidence heatmap over outputs\n",
    "# TODO: What about forced decoding? how can we get the states, glimpses, and costs for a force-decoded input?"
   ]
  }
 ],
 "metadata": {
  "kernelspec": {
   "display_name": "Python 2",
   "language": "python",
   "name": "python2"
  },
  "language_info": {
   "codemirror_mode": {
    "name": "ipython",
    "version": 2
   },
   "file_extension": ".py",
   "mimetype": "text/x-python",
   "name": "python",
   "nbconvert_exporter": "python",
   "pygments_lexer": "ipython2",
   "version": "2.7.12"
  }
 },
 "nbformat": 4,
 "nbformat_minor": 1
}
