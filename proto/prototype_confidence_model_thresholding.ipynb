{
 "cells": [
  {
   "cell_type": "code",
   "execution_count": 1,
   "metadata": {
    "collapsed": true
   },
   "outputs": [],
   "source": [
    "# truncate each suffix hyp in the n-best list according to some heuristic with respect to the costs\n",
    "# visualize heatmap of confidence per-word -- visualize how this corresponds to optimal hypothesis truncation\n",
    "# evaluate performance as the heuristic changes"
   ]
  },
  {
   "cell_type": "code",
   "execution_count": 16,
   "metadata": {
    "collapsed": false
   },
   "outputs": [
    {
     "name": "stdout",
     "output_type": "stream",
     "text": [
      "The autoreload extension is already loaded. To reload it, use:\n",
      "  %reload_ext autoreload\n"
     ]
    }
   ],
   "source": [
    "# now graph f1, precision, recall over threshold\n",
    "\n",
    "%matplotlib inline\n",
    "%load_ext autoreload\n",
    "%autoreload 2\n",
    "\n",
    "import matplotlib\n",
    "import numpy as np\n",
    "import matplotlib.pyplot as plt\n",
    "import matplotlib.mlab as mlab\n",
    "\n",
    "import pylab\n",
    "pylab.rcParams['figure.figsize'] = (14.0, 12.0)\n",
    "pylab.rcParams['axes.linewidth'] = 2. #set the value globally\n",
    "params = {'legend.fontsize': 20}\n",
    "#           'legend.linewidth': 2}\n",
    "pylab.rcParams.update(params)"
   ]
  },
  {
   "cell_type": "code",
   "execution_count": 17,
   "metadata": {
    "collapsed": true
   },
   "outputs": [],
   "source": [
    "import codecs\n",
    "import numpy\n",
    "import os"
   ]
  },
  {
   "cell_type": "code",
   "execution_count": 18,
   "metadata": {
    "collapsed": true
   },
   "outputs": [],
   "source": [
    "# newstest 2014\n",
    "# BASEDIR ='/media/1tb_drive/imt_models/newstest_2014_evaluation/'\n",
    "\n",
    "# BASEDIR ='/media/1tb_drive/imt_models/EN-DE-confidence-3layer_FINAL_STATES_l2_reg_model_baseline_internal_data_dropout0.5_' + \\\n",
    "#          'src_vocab80000_trg_vocab90000_emb300_rec1000_batch50'\n",
    "\n",
    "\n",
    "\n",
    "# HYP_BASEDIR = '/media/1tb_drive/imt_models/EN-DE-confidence-3layer_FINAL_STATES_PREDICTION_65000_iters_model_baseline_internal_data_dropout1.0_src_vocab80000_trg_vocab90000_emb300_rec1000_batch50'\n",
    "# BASEDIR ='/media/1tb_drive/imt_models/EN-DE-confidence-3layer-baseline-PREDICTION_internal_data_dropout1.0_src_vocab80000_trg_vocab90000_emb300_rec1000_batch50/'\n",
    "# hyps_file = os.path.join(HYP_BASEDIR, 'newstest2014.de.500.bpe.imt-hyps.out')\n",
    "\n",
    "# confidences_file = os.path.join(BASEDIR, 'newstest2014.de.500.bpe.imt-confidences.75000_iters.npz')\n",
    "# confidences_file = os.path.join(BASEDIR, 'newstest2014.de.500.bpe.imt-confidences.100000_iters.npz')\n",
    "# confidences_file = os.path.join(BASEDIR, 'newstest2014.de.500.bpe.imt-confidences.15000_iters.npz')\n",
    "\n",
    "# confidences_file = os.path.join(BASEDIR, 'newstest2014.de.500.bpe.imt-confidences.prediction_trained_10000_iters.npz')\n",
    "# confidences_file = os.path.join(BASEDIR, 'newstest2014.de.500.bpe.imt-confidences.prediction_trained_40000_iters.npz')\n",
    "# confidences_file = os.path.join(BASEDIR, 'newstest2014.de.500.bpe.imt-confidences.prediction_trained_90000_iters.npz')\n",
    "\n",
    "# w/ softmax feature\n",
    "# BASEDIR ='/media/1tb_drive/imt_models/EN-DE-confidence-3layer_FINAL_STATES_AND_SOFTMAX_l2_reg_model_internal_' + \\\n",
    "#         'data_dropout0.5_src_vocab80000_trg_vocab90000_emb300_rec1000_batch50/'\n",
    "# confidences_file = os.path.join(BASEDIR, 'newstest2014.de.500.bpe.imt-confidences.prediction_trained.5000_iters.npz')\n",
    "# confidences_file = os.path.join(BASEDIR, 'newstest2014.de.500.bpe.imt-confidences.prediction_trained.25000_iters.npz')\n",
    "# confidences_file = os.path.join(BASEDIR, 'newstest2014.de.500.bpe.imt-confidences.prediction_trained.30000_iters.npz')\n",
    "# confidences_file = os.path.join(BASEDIR, 'newstest2014.de.500.bpe.imt-confidences.prediction_trained.35000_iters.npz')\n",
    "\n",
    "# w/ real dropout = 0.2\n",
    "# confidences_file = os.path.join(BASEDIR, 'newstest2014.de.500.bpe.imt-confidences.prediction_trained.10000_iters.npz')\n",
    "# confidences_file = os.path.join(BASEDIR, 'newstest2014.de.500.bpe.imt-confidences.prediction_trained.30000_iters.npz')\n",
    "\n",
    "\n",
    "\n",
    "\n",
    "# w/ real dropout = 0.5\n",
    "# confidences_file = os.path.join(BASEDIR, 'newstest2014.de.500.bpe.imt-confidences.prediction_trained.35000_iters.npz')\n",
    "# confidences_file = os.path.join(BASEDIR, 'newstest2014.de.500.bpe.imt-confidences.prediction_trained.10000_iters.npz')\n",
    "\n",
    "# Final Evaluation:\n",
    "# w/ softmax feature and dropout = 0.5\n",
    "BASEDIR='/home/chris/Desktop/Dropbox/thesis/archived_models/imt_confidence_models/' + \\\n",
    "'EN-DE-confidence-3layer_FINAL_STATES_AND_SOFTMAX_l2_reg_model_internal_data_dropout0.5' + \\\n",
    "'_src_vocab80000_trg_vocab90000_emb300_rec1000_batch50'\n",
    "confidences_file = os.path.join(BASEDIR, 'newstest2014.de.500.bpe.imt-confidences.prediction_trained.10000_iters.npz')\n",
    "#HYP_BASEDIR = '/media/1tb_drive/imt_models/EN-DE-confidence-3layer_FINAL_STATES_PREDICTION_65000_iters_model_baseline_internal_data_dropout1.0_src_vocab80000_trg_vocab90000_emb300_rec1000_batch50'\n",
    "#hyps_file = os.path.join(HYP_BASEDIR, 'newstest2014.de.500.bpe.imt-hyps.out')\n",
    "hyps_file = os.path.join(BASEDIR, 'newstest2014.de.500.bpe.imt-hyps.out')\n",
    "\n",
    "wl_costs_file = os.path.join(BASEDIR, 'newstest2014.de.500.bpe.imt-word_level_costs.npz')\n",
    "\n",
    "source_file = os.path.join(BASEDIR, 'newstest2014.de.500.bpe.imt-sources.out')\n",
    "refs_file = os.path.join(BASEDIR, 'reference_suffixes.generated')\n",
    "\n",
    "prefixes_file = os.path.join(BASEDIR, 'reference_prefixes.generated')\n",
    "\n",
    "# newstest 2015\n",
    "# BASEDIR ='/media/1tb_drive/imt_models/newstest_2015_evaluation/'\n",
    "\n",
    "# hyps_file = os.path.join(BASEDIR, 'newstest2015.de.500.bpe.imt-hyps.out')\n",
    "# glimpse_file = os.path.join(BASEDIR, 'newstest2015.de.500.bpe.imt-glimpses.out')\n",
    "# source_file = os.path.join(BASEDIR, 'newstest2015.de.500.bpe.imt-sources.out')\n",
    "# refs_file = os.path.join(BASEDIR, 'reference_suffixes.generated')"
   ]
  },
  {
   "cell_type": "code",
   "execution_count": 19,
   "metadata": {
    "collapsed": true
   },
   "outputs": [],
   "source": [
    "def get_lines(filename, lower=False, cutoff=None):\n",
    "    with codecs.open(filename) as inp:\n",
    "        lines = [l.split() for l in inp.read().strip().split('\\n')][:cutoff]\n",
    "        if lower:\n",
    "            lines = [[w.lower() for w in l] for l in lines]\n",
    "        return lines"
   ]
  },
  {
   "cell_type": "code",
   "execution_count": 20,
   "metadata": {
    "collapsed": false
   },
   "outputs": [],
   "source": [
    "orig_hyp_lines = get_lines(hyps_file)\n",
    "orig_ref_lines = get_lines(refs_file)\n",
    "orig_source_lines = get_lines(source_file)\n",
    "orig_prefix_lines = get_lines(prefixes_file)\n",
    "\n",
    "orig_word_level_confs = [l[0] for l in numpy.load(open(confidences_file))]"
   ]
  },
  {
   "cell_type": "code",
   "execution_count": 21,
   "metadata": {
    "collapsed": false
   },
   "outputs": [
    {
     "data": {
      "text/plain": [
       "list"
      ]
     },
     "execution_count": 21,
     "metadata": {},
     "output_type": "execute_result"
    }
   ],
   "source": [
    "type(orig_word_level_confs[0])"
   ]
  },
  {
   "cell_type": "code",
   "execution_count": 22,
   "metadata": {
    "collapsed": true
   },
   "outputs": [],
   "source": [
    "# WORKING: evaluate use of word-level confs\n",
    "# HACKED HERE - WATCH THE NAME\n",
    "# costs are negative log probabilities, so convert them back to probailities\n",
    "orig_word_level_costs = [list(np.exp(-np.array(l[0]))) for l in numpy.load(open(wl_costs_file))]\n",
    "\n",
    "# orig_word_level_confs = [list(np.exp(-np.array(l[0]))) for l in numpy.load(open(wl_costs_file))]\n",
    "# orig_word_level_confs = [np.random.random(len(l)) for l in orig_word_level_confs]\n"
   ]
  },
  {
   "cell_type": "code",
   "execution_count": 23,
   "metadata": {
    "collapsed": true
   },
   "outputs": [],
   "source": [
    "for p,c in zip(orig_hyp_lines, orig_word_level_confs):               \n",
    "    try:\n",
    "        assert len(p) == len(c)\n",
    "    except AssertionError:\n",
    "        print('P: {}, C: {}'.format(p,c))"
   ]
  },
  {
   "cell_type": "code",
   "execution_count": 24,
   "metadata": {
    "collapsed": false
   },
   "outputs": [
    {
     "data": {
      "text/plain": [
       "[[0.14305685,\n",
       "  0.80857545,\n",
       "  0.79699302,\n",
       "  0.15560581,\n",
       "  0.74367094,\n",
       "  0.69421959,\n",
       "  0.72801399,\n",
       "  0.95534259],\n",
       " [0.80857545,\n",
       "  0.79699302,\n",
       "  0.15560581,\n",
       "  0.74367094,\n",
       "  0.69421959,\n",
       "  0.72801399,\n",
       "  0.95534259],\n",
       " [0.79699302, 0.15560581, 0.74367094, 0.69421959, 0.72801399, 0.95534259],\n",
       " [0.15560581, 0.74367094, 0.69421959, 0.72801399, 0.95534259]]"
      ]
     },
     "execution_count": 24,
     "metadata": {},
     "output_type": "execute_result"
    }
   ],
   "source": [
    "orig_word_level_confs[:4]"
   ]
  },
  {
   "cell_type": "code",
   "execution_count": 25,
   "metadata": {
    "collapsed": false
   },
   "outputs": [
    {
     "data": {
      "text/plain": [
       "list"
      ]
     },
     "execution_count": 25,
     "metadata": {},
     "output_type": "execute_result"
    }
   ],
   "source": [
    "type(orig_word_level_costs)"
   ]
  },
  {
   "cell_type": "code",
   "execution_count": 26,
   "metadata": {
    "collapsed": false
   },
   "outputs": [],
   "source": [
    "word_cost_lines = [zip(hyp, ref_line, wl_costs) for hyp, ref_line, wl_costs in zip(orig_hyp_lines, orig_ref_lines, orig_word_level_costs)]\n",
    "word_conf_lines = [zip(hyp, ref_line, wl_costs) for hyp, ref_line, wl_costs in zip(orig_hyp_lines, orig_ref_lines, orig_word_level_confs)]"
   ]
  },
  {
   "cell_type": "code",
   "execution_count": 27,
   "metadata": {
    "collapsed": false
   },
   "outputs": [
    {
     "data": {
      "text/plain": [
       "[[('Gut@@', 'Gut@@', 0.95099431),\n",
       "  ('ach', 'ach', 0.98607504),\n",
       "  (':', ':', 0.99800879),\n",
       "  ('Mehr', 'Noch', 0.13394342),\n",
       "  ('Sicherheit', 'mehr', 0.97616267),\n",
       "  ('f\\xc3\\xbcr', 'Sicherheit', 0.95611227),\n",
       "  ('Fu\\xc3\\x9fg\\xc3\\xa4nger', 'f\\xc3\\xbcr', 0.60691315),\n",
       "  ('</S>', 'Fu\\xc3\\x9fg\\xc3\\xa4nger', 0.99937075)],\n",
       " [('ach', 'ach', 0.98607504),\n",
       "  (':', ':', 0.99800879),\n",
       "  ('Mehr', 'Noch', 0.13394329),\n",
       "  ('Sicherheit', 'mehr', 0.97616267),\n",
       "  ('f\\xc3\\xbcr', 'Sicherheit', 0.95611227),\n",
       "  ('Fu\\xc3\\x9fg\\xc3\\xa4nger', 'f\\xc3\\xbcr', 0.60691196),\n",
       "  ('</S>', 'Fu\\xc3\\x9fg\\xc3\\xa4nger', 0.99937075)],\n",
       " [(':', ':', 0.99800879),\n",
       "  ('Mehr', 'Noch', 0.13394316),\n",
       "  ('Sicherheit', 'mehr', 0.97616267),\n",
       "  ('f\\xc3\\xbcr', 'Sicherheit', 0.95611227),\n",
       "  ('Fu\\xc3\\x9fg\\xc3\\xa4nger', 'f\\xc3\\xbcr', 0.60691315),\n",
       "  ('</S>', 'Fu\\xc3\\x9fg\\xc3\\xa4nger', 0.99937075)]]"
      ]
     },
     "execution_count": 27,
     "metadata": {},
     "output_type": "execute_result"
    }
   ],
   "source": [
    "word_cost_lines[:3]"
   ]
  },
  {
   "cell_type": "code",
   "execution_count": 28,
   "metadata": {
    "collapsed": false
   },
   "outputs": [
    {
     "name": "stdout",
     "output_type": "stream",
     "text": [
      "Avg model probability of wrong predictions: 0.604707598686\n",
      "Avg model probability of correct predictions: 0.766623795033\n",
      "Avg confidence of wrong predictions: 0.503387391567\n",
      "Avg confidence of correct predictions: 0.62818980217\n",
      "total num predictions: 179008\n",
      "Pearson corr. between confidence model and IMT model cost: (0.84218478, 0.0)\n"
     ]
    }
   ],
   "source": [
    "# mean confidence of wrong vs mean confidence of right\n",
    "wrong_probs = [v for r in word_cost_lines for hyp_w, ref_w, v  in r if hyp_w != ref_w]\n",
    "print('Avg model probability of wrong predictions: {}'.format(numpy.mean(wrong_probs)))\n",
    "right_probs = [v for r in word_cost_lines for hyp_w, ref_w, v  in r if hyp_w == ref_w]\n",
    "print('Avg model probability of correct predictions: {}'.format(numpy.mean(right_probs)))\n",
    "\n",
    "wrong_confs = [v for r in word_conf_lines for hyp_w, ref_w, v  in r if hyp_w != ref_w]\n",
    "print('Avg confidence of wrong predictions: {}'.format(numpy.mean(wrong_confs)))\n",
    "right_confs = [v for r in word_conf_lines for hyp_w, ref_w, v  in r if hyp_w == ref_w]\n",
    "print('Avg confidence of correct predictions: {}'.format(numpy.mean(right_confs)))\n",
    "\n",
    "# TODO: correlation between confidence and model probability\n",
    "from scipy.stats import pearsonr\n",
    "conf_model_values = [v for r in word_conf_lines for hyp_w, ref_w, v  in r]\n",
    "model_cost_values = [v for r in word_cost_lines for hyp_w, ref_w, v  in r]\n",
    "conf_vs_cost_pearson = pearsonr(conf_model_values, model_cost_values)\n",
    "assert len(model_cost_values) == len(conf_model_values)\n",
    "print('total num predictions: {}'.format(len(conf_model_values)))\n",
    "print('Pearson corr. between confidence model and IMT model cost: {}'.format(conf_vs_cost_pearson))\n",
    "\n"
   ]
  },
  {
   "cell_type": "code",
   "execution_count": 63,
   "metadata": {
    "collapsed": false
   },
   "outputs": [
    {
     "data": {
      "image/png": "[encoded data removed]",
      "text/plain": [
       "<matplotlib.figure.Figure at 0x7f3b26d1c5d0>"
      ]
     },
     "metadata": {},
     "output_type": "display_data"
    }
   ],
   "source": [
    "# gaussians of wrong and correct according to softmax and confidence\n",
    "# plot gaussians \n",
    "good_softmax_mu = np.mean(right_probs)\n",
    "good_softmax_sigma = np.std(right_probs)\n",
    "bad_softmax_mu = np.mean(wrong_probs)\n",
    "bad_softmax_sigma = np.std(wrong_probs)\n",
    "\n",
    "good_conf_mu = np.mean(right_confs)\n",
    "good_conf_sigma = np.std(right_confs)\n",
    "bad_conf_mu = np.mean(wrong_confs)\n",
    "bad_conf_sigma = np.std(wrong_confs)\n",
    "\n",
    "x = np.linspace(-0.2, 1.4, 100)\n",
    "\n",
    "plt.plot(x, mlab.normpdf(x, good_conf_mu, good_conf_sigma), c='green', label='conf. correct')\n",
    "plt.plot([good_conf_mu, good_conf_mu], [0, 0.4/good_conf_sigma], linestyle='solid')\n",
    "plt.annotate('{0:.2f}'.format(good_conf_mu), xy=(good_conf_mu-0.02,0.4/good_conf_sigma + 0.02))\n",
    "\n",
    "plt.plot(x, mlab.normpdf(x, bad_conf_mu, bad_conf_sigma), c='red', label='conf. wrong')\n",
    "plt.plot([bad_conf_mu, bad_conf_mu], [0, 0.4/bad_conf_sigma], linestyle='solid')\n",
    "plt.annotate('{0:.2f}'.format(bad_conf_mu), xy=(bad_conf_mu-0.02,0.4/bad_conf_sigma + 0.02))\n",
    "\n",
    "plt.plot(x, mlab.normpdf(x, good_softmax_mu, good_softmax_sigma), c='green', linestyle='dashed', label='model correct')\n",
    "plt.plot([good_softmax_mu, good_softmax_mu], [0, 0.4/good_softmax_sigma], linestyle='dashed')\n",
    "plt.annotate('{0:.2f}'.format(good_softmax_mu), xy=(good_softmax_mu-0.02,0.4/good_softmax_sigma + 0.02))\n",
    "\n",
    "plt.plot(x, mlab.normpdf(x, bad_softmax_mu, bad_softmax_sigma), c='red', linestyle='dashed', label='model wrong')\n",
    "plt.plot([bad_softmax_mu, bad_softmax_mu], [0, 0.4/bad_softmax_sigma], linestyle='dashed')\n",
    "plt.annotate('{0:.2f}'.format(bad_softmax_mu), xy=(bad_softmax_mu-0.02,0.4/bad_softmax_sigma + 0.02))\n",
    "\n",
    "\n",
    "\n",
    "plt.legend()\n",
    "\n",
    "plt.show()"
   ]
  },
  {
   "cell_type": "code",
   "execution_count": 59,
   "metadata": {
    "collapsed": false
   },
   "outputs": [
    {
     "data": {
      "text/plain": [
       "(0.0026667719,\n",
       " 0.0026667733,\n",
       " 0.0037965546,\n",
       " 0.0042370493,\n",
       " 0.0042686076,\n",
       " 0.0046176556,\n",
       " 0.0046176622,\n",
       " 0.0046176664,\n",
       " 0.0046878643,\n",
       " 0.0047026989)"
      ]
     },
     "execution_count": 59,
     "metadata": {},
     "output_type": "execute_result"
    }
   ],
   "source": [
    "sorted_cost, sorted_conf = zip(*sorted([(cost, conf) for cost, conf in zip(model_cost_values, conf_model_values)]))\n",
    "sorted_cost[:10]"
   ]
  },
  {
   "cell_type": "code",
   "execution_count": 60,
   "metadata": {
    "collapsed": false
   },
   "outputs": [
    {
     "data": {
      "image/png": "[encoded data removed]",
      "text/plain": [
       "<matplotlib.figure.Figure at 0x7fd302619a10>"
      ]
     },
     "metadata": {},
     "output_type": "display_data"
    }
   ],
   "source": [
    "from scipy import stats\n",
    "\n",
    "ax1 = plt.plot()\n",
    "\n",
    "x = np.arange(0, len(conf_model_values), 100)\n",
    "\n",
    "fig.suptitle('Confidence Model vs. Softmax', fontsize=20)\n",
    "plt.xlabel('xlabel', fontsize=18)\n",
    "plt.ylabel('ylabel', fontsize=16)\n",
    "# sort pairs by cost ascending, select every k-th point for efficiency\n",
    "sorted_cost, sorted_conf = zip(*sorted([(cost, conf) for cost, conf in zip(model_cost_values, conf_model_values)]))\n",
    "sorted_cost = [sorted_cost[i] for i in x]\n",
    "sorted_conf = [sorted_conf[i] for i in x]\n",
    "\n",
    "slope, intercept, r_value, p_value, std_err = stats.linregress(x, sorted_conf)\n",
    "conf_regression_line = slope*x+intercept\n",
    "\n",
    "plt.plot(x, sorted_cost)\n",
    "plt.plot(x, sorted_conf)\n",
    "plt.plot(x, conf_regression_line)\n",
    "\n",
    "ax2 = plt.gca().twinx() \n",
    "plt.ylabel('ylabel', fontsize=16)\n",
    "\n",
    "plt.show()"
   ]
  },
  {
   "cell_type": "code",
   "execution_count": 61,
   "metadata": {
    "collapsed": false
   },
   "outputs": [],
   "source": [
    "# hyp_words, ref_words, probs = zip(*word_cost_lines[0])\n",
    "\n",
    "# row_labels = hyp_words\n",
    "# column_labels = ['probability']\n",
    "# data = np.random.rand(4,4)\n",
    "# data = np.array(probs).reshape(1,len(probs))\n",
    "# fig, ax = plt.subplots()\n",
    "# heatmap = ax.pcolor(data, cmap=plt.cm.Blues)\n",
    "\n",
    "# # put the major ticks at the middle of each cell\n",
    "# ax.set_xticks(np.arange(data.shape[0])+0.5, minor=False)\n",
    "# ax.set_yticks(np.arange(data.shape[1])+0.5, minor=False)\n",
    "\n",
    "# # want a more natural, table-like display\n",
    "# ax.invert_yaxis()\n",
    "# ax.xaxis.tick_top()\n",
    "\n",
    "# ax.set_xticklabels(row_labels)\n",
    "# ax.set_yticklabels(column_labels, minor=False)\n",
    "# plt.show()\n"
   ]
  },
  {
   "cell_type": "code",
   "execution_count": 62,
   "metadata": {
    "collapsed": true
   },
   "outputs": [],
   "source": [
    "# TRAINING SETUP BRAINSTORM\n",
    "# for each hyp, for each position, evaluate whether the prediction was correct\n",
    "\n",
    "# if the prediction was correct, this is a 1.\n",
    "\n",
    "# if not, this is a 0.\n",
    "\n",
    "# find the optimal coefficient/decision boundary for the single word-prob feature\n"
   ]
  },
  {
   "cell_type": "code",
   "execution_count": 63,
   "metadata": {
    "collapsed": true
   },
   "outputs": [],
   "source": [
    "# Now evaluate different pruning strategies\n",
    "# BASELINE SCORES (NO TRUNCATION):INFO:__main__:IMT F1 SCORE: 0.244294277012, precision: 0.245880568086, recall: 0.244141178125\n",
    "\n",
    "# TODO: compare cost vs confidence for hypothesis truncation"
   ]
  },
  {
   "cell_type": "code",
   "execution_count": 64,
   "metadata": {
    "collapsed": false
   },
   "outputs": [
    {
     "data": {
      "text/plain": [
       "[12812, 12812, 12812, 12812, 12812]"
      ]
     },
     "execution_count": 64,
     "metadata": {},
     "output_type": "execute_result"
    }
   ],
   "source": [
    "[len(l) for l in (orig_source_lines, orig_hyp_lines, orig_ref_lines, orig_word_level_confs, orig_prefix_lines)]"
   ]
  },
  {
   "cell_type": "code",
   "execution_count": 65,
   "metadata": {
    "collapsed": false
   },
   "outputs": [
    {
     "name": "stdout",
     "output_type": "stream",
     "text": [
      "12812\n",
      "6089\n",
      "5137\n"
     ]
    }
   ],
   "source": [
    "orig_trans_tups = zip(orig_source_lines, orig_hyp_lines, orig_ref_lines, orig_word_level_confs, orig_prefix_lines)\n",
    "print(len(orig_trans_tups))\n",
    "# discard rows where nothing matches\n",
    "matching_idxs = [idx for idx,t in enumerate(orig_trans_tups) if t[1][0] == t[2][0]]\n",
    "non_matching_idxs = [idx for idx,t in enumerate(orig_trans_tups) if t[1][0] != t[2][0]]\n",
    "\n",
    "# long_tups = [t for t in orig_trans_tups if len(t[1]) >= 7 and len(t[2]) >= 7]\n",
    "# matching_2_idxs = [idx for idx,t in enumerate(long_tups) if t[1][6] == t[2][6]]\n",
    "# non_2_matching_idxs = [idx for idx,t in enumerate(long_tups) if t[1][6] != t[2][6]]\n",
    "\n",
    "trans_tups = [t for t in orig_trans_tups if t[1][0] == t[2][0]]\n",
    "# trans_tups = orig_trans_tups\n",
    "\n",
    "# Filter to only longer predictions\n",
    "min_length_filter = 1\n",
    "trans_tups = [t for t in trans_tups if len(t[1]) >= min_length_filter]\n",
    "print(len(trans_tups))\n",
    "\n",
    "# But make sure they're not ridiculously long\n",
    "max_length_filter = 25\n",
    "trans_tups = [t for t in trans_tups if len(t[1]) <= max_length_filter]\n",
    "print(len(trans_tups))\n",
    "\n",
    "source_lines, hyp_lines, ref_lines, word_level_confs, prefix_lines = zip(*trans_tups)"
   ]
  },
  {
   "cell_type": "code",
   "execution_count": 66,
   "metadata": {
    "collapsed": false
   },
   "outputs": [
    {
     "data": {
      "text/plain": [
       "[(1, 479),\n",
       " (2, 423),\n",
       " (4, 292),\n",
       " (3, 288),\n",
       " (5, 254),\n",
       " (7, 234),\n",
       " (6, 233),\n",
       " (8, 228),\n",
       " (9, 214),\n",
       " (12, 211),\n",
       " (11, 201),\n",
       " (10, 196),\n",
       " (14, 187),\n",
       " (13, 181),\n",
       " (16, 174),\n",
       " (15, 171),\n",
       " (17, 163),\n",
       " (19, 148),\n",
       " (18, 143),\n",
       " (20, 130),\n",
       " (23, 130),\n",
       " (21, 126),\n",
       " (22, 123),\n",
       " (24, 108),\n",
       " (25, 100)]"
      ]
     },
     "execution_count": 66,
     "metadata": {},
     "output_type": "execute_result"
    }
   ],
   "source": [
    "from collections import Counter\n",
    "Counter([len(t[1]) for t in trans_tups]).most_common()"
   ]
  },
  {
   "cell_type": "code",
   "execution_count": 69,
   "metadata": {
    "collapsed": true
   },
   "outputs": [],
   "source": [
    "random_idxs = np.random.choice(len(trans_tups), size=10, replace=False)\n",
    "sample_tups = [trans_tups[idx] for idx in random_idxs]"
   ]
  },
  {
   "cell_type": "code",
   "execution_count": 70,
   "metadata": {
    "collapsed": false
   },
   "outputs": [
    {
     "name": "stdout",
     "output_type": "stream",
     "text": [
      "SRC: <S> For the third quarter ended September 30 , Bombar@@ dier 's net profit fell to $ 147 million , or 8 cents per share , from $ 172 million , or 9 cents per share a year earlier . </S>\n",
      "PRE: <S> Im dritten Quartal mit Ende am 30. September fiel Bombar@@ di@@ ers Netto@@ gewinn auf 147 Millionen Dollar bzw. 8 Cent pro Aktie von 172\n"
     ]
    },
    {
     "ename": "UnicodeDecodeError",
     "evalue": "'ascii' codec can't decode byte 0xc3 in position 50: ordinal not in range(128)",
     "output_type": "error",
     "traceback": [
      "\u001b[0;31m---------------------------------------------------------------------------\u001b[0m",
      "\u001b[0;31mUnicodeDecodeError\u001b[0m                        Traceback (most recent call last)",
      "\u001b[0;32m<ipython-input-70-6dbdec7cdd25>\u001b[0m in \u001b[0;36m<module>\u001b[0;34m()\u001b[0m\n\u001b[1;32m      2\u001b[0m     \u001b[0;32mprint\u001b[0m\u001b[0;34m(\u001b[0m\u001b[0;34mu\"SRC: {}\"\u001b[0m\u001b[0;34m.\u001b[0m\u001b[0mformat\u001b[0m\u001b[0;34m(\u001b[0m\u001b[0;34m' '\u001b[0m\u001b[0;34m.\u001b[0m\u001b[0mjoin\u001b[0m\u001b[0;34m(\u001b[0m\u001b[0mt\u001b[0m\u001b[0;34m[\u001b[0m\u001b[0;36m0\u001b[0m\u001b[0;34m]\u001b[0m\u001b[0;34m)\u001b[0m\u001b[0;34m)\u001b[0m\u001b[0;34m)\u001b[0m\u001b[0;34m\u001b[0m\u001b[0m\n\u001b[1;32m      3\u001b[0m     \u001b[0;32mprint\u001b[0m\u001b[0;34m(\u001b[0m\u001b[0;34mu\"PRE: {}\"\u001b[0m\u001b[0;34m.\u001b[0m\u001b[0mformat\u001b[0m\u001b[0;34m(\u001b[0m\u001b[0;34m' '\u001b[0m\u001b[0;34m.\u001b[0m\u001b[0mjoin\u001b[0m\u001b[0;34m(\u001b[0m\u001b[0mt\u001b[0m\u001b[0;34m[\u001b[0m\u001b[0;34m-\u001b[0m\u001b[0;36m1\u001b[0m\u001b[0;34m]\u001b[0m\u001b[0;34m)\u001b[0m\u001b[0;34m)\u001b[0m\u001b[0;34m)\u001b[0m\u001b[0;34m\u001b[0m\u001b[0m\n\u001b[0;32m----> 4\u001b[0;31m     \u001b[0;32mprint\u001b[0m\u001b[0;34m(\u001b[0m\u001b[0;34mu\"HYP: {}\"\u001b[0m\u001b[0;34m.\u001b[0m\u001b[0mformat\u001b[0m\u001b[0;34m(\u001b[0m\u001b[0;34m' '\u001b[0m\u001b[0;34m.\u001b[0m\u001b[0mjoin\u001b[0m\u001b[0;34m(\u001b[0m\u001b[0mt\u001b[0m\u001b[0;34m[\u001b[0m\u001b[0;36m1\u001b[0m\u001b[0;34m]\u001b[0m\u001b[0;34m)\u001b[0m\u001b[0;34m)\u001b[0m\u001b[0;34m)\u001b[0m\u001b[0;34m\u001b[0m\u001b[0m\n\u001b[0m\u001b[1;32m      5\u001b[0m     \u001b[0;32mprint\u001b[0m\u001b[0;34m(\u001b[0m\u001b[0;34mu\"REF: {}\"\u001b[0m\u001b[0;34m.\u001b[0m\u001b[0mformat\u001b[0m\u001b[0;34m(\u001b[0m\u001b[0;34m' '\u001b[0m\u001b[0;34m.\u001b[0m\u001b[0mjoin\u001b[0m\u001b[0;34m(\u001b[0m\u001b[0mt\u001b[0m\u001b[0;34m[\u001b[0m\u001b[0;36m2\u001b[0m\u001b[0;34m]\u001b[0m\u001b[0;34m)\u001b[0m\u001b[0;34m)\u001b[0m\u001b[0;34m)\u001b[0m\u001b[0;34m\u001b[0m\u001b[0m\n\u001b[1;32m      6\u001b[0m     \u001b[0;32mprint\u001b[0m\u001b[0;34m(\u001b[0m\u001b[0;34m'\\n'\u001b[0m\u001b[0;34m)\u001b[0m\u001b[0;34m\u001b[0m\u001b[0m\n",
      "\u001b[0;31mUnicodeDecodeError\u001b[0m: 'ascii' codec can't decode byte 0xc3 in position 50: ordinal not in range(128)"
     ]
    }
   ],
   "source": [
    "for t in sample_tups:\n",
    "    print(u\"SRC: {}\".format(' '.join(t[0])))\n",
    "    print(u\"PRE: {}\".format(' '.join(t[-1])))\n",
    "    print(u\"HYP: {}\".format(' '.join(t[1])))\n",
    "    print(u\"REF: {}\".format(' '.join(t[2])))\n",
    "    print('\\n')"
   ]
  },
  {
   "cell_type": "code",
   "execution_count": 71,
   "metadata": {
    "collapsed": true
   },
   "outputs": [],
   "source": [
    "random_s, random_h, random_r, random_c, random_p = zip(*sample_tups)\n",
    "hyp_ref_conf = [zip(h, r, c1, c2) for h,r,c1,c2 in \n",
    "                zip(random_h, random_r, [np.exp(np.cumsum(np.log(conf))) for conf in random_c], random_c)]"
   ]
  },
  {
   "cell_type": "code",
   "execution_count": 72,
   "metadata": {
    "collapsed": false
   },
   "outputs": [
    {
     "name": "stdout",
     "output_type": "stream",
     "text": [
      "('Millionen', 'Millionen', 0.42293876, 0.42293876)\n",
      "('Dollar', 'Dollar', 0.17577967, 0.4156149)\n",
      "('oder', 'bzw.', 0.057524376, 0.32725275)\n",
      "('9', '9', 0.014926509, 0.25948149)\n",
      "('Cent', 'Cent', 0.0076256269, 0.51087815)\n",
      "('pro', 'pro', 0.0052082166, 0.68298864)\n",
      "('Aktie', 'Aktie', 0.0033389819, 0.64109886)\n",
      "('ein', 'im', 0.00072710065, 0.21776116)\n",
      "('Jahr', 'Jahr', 0.00026768915, 0.36815968)\n",
      "('fr\\xc3\\xbcher', 'zuvor', 9.8293523e-05, 0.36719295)\n",
      "('.', '.', 7.2772214e-05, 0.74035591)\n",
      "('</S>', '</S>', 6.9862726e-05, 0.96001917)\n",
      "\n",
      "\n",
      "\n",
      "('s', 's', 0.81406361, 0.81406361)\n",
      "(',', ',', 0.24439675, 0.30021822)\n",
      "('Druck', 'nachdem', 0.055478215, 0.22700062)\n",
      "('durch', 'er', 0.014420551, 0.25993177)\n",
      "('weniger', 'durch', 0.0045089801, 0.31267738)\n",
      "('Flugzeug@@', 'r\\xc3\\xbcck@@', 0.001010282, 0.22405992)\n",
      "('bestellungen', 'l\\xc3\\xa4ufige', 0.00067921082, 0.67229813)\n",
      "('und', 'Bestellungen', 0.00055213337, 0.81290448)\n",
      "('Lieferungen', 'und', 0.00020826687, 0.377204)\n",
      "('im', 'Aus@@', 6.3782223e-05, 0.30625224)\n",
      "('dritten', 'lieferungen', 4.2627573e-05, 0.66833031)\n",
      "('Quartal', 'bei', 3.2184038e-05, 0.75500524)\n",
      "('und', 'Flugzeugen', 2.3490184e-05, 0.72987056)\n",
      "('Vertrags@@', 'im', 5.9055019e-06, 0.25140306)\n",
      "('bereich', 'dritten', 2.0415214e-06, 0.34569827)\n",
      "('in', 'Quartal', 7.9919306e-07, 0.39146948)\n",
      "('seinem', 'sowie', 2.3203742e-07, 0.29033968)\n",
      "('Zug', 'Vertrags@@', 8.818342e-08, 0.38003933)\n",
      "('.', 'probleme', 7.4460132e-08, 0.84437865)\n",
      "('</S>', 'in', 7.13449e-08, 0.95816332)\n",
      "\n",
      "\n",
      "\n",
      "('denn', 'denn', 0.46174693, 0.4617469)\n",
      "('sie', 'sie', 0.21597965, 0.46774468)\n",
      "('benutzen', 'arbeiten', 0.061903466, 0.28661713)\n",
      "('nicht', 'nicht', 0.012713233, 0.20537195)\n",
      "('GPS', 'mit', 0.0051009553, 0.40123194)\n",
      "('und', 'GPS', 0.0038769066, 0.7600354)\n",
      "('liefern', 'und', 0.00078429794, 0.20229995)\n",
      "('eine', 'liefern', 0.00017643886, 0.22496408)\n",
      "('begrenzte', 'nur', 9.1335409e-05, 0.51766068)\n",
      "('Menge', 'begrenzte', 2.7347314e-05, 0.2994163)\n",
      "('an', 'Informationen', 1.0952595e-05, 0.40049982)\n",
      "('Informationen', ',', 5.8872938e-06, 0.53752512)\n",
      "(',', 'die', 2.6419905e-06, 0.4487614)\n",
      "('die', 'regelm\\xc3\\xa4\\xc3\\x9fig', 1.4631745e-06, 0.55381542)\n",
      "('regelm\\xc3\\xa4\\xc3\\x9fig', 'per', 3.5621321e-07, 0.24345237)\n",
      "('per', 'Modem', 1.6854941e-07, 0.47316977)\n",
      "('Modem', 'hochgeladen', 1.334072e-07, 0.79150236)\n",
      "('hochgeladen', 'werden', 4.4426994e-08, 0.33301789)\n",
      "('werden', '.', 2.8795666e-08, 0.64815724)\n",
      "('.', '</S>', 2.7088458e-08, 0.94071364)\n",
      "\n",
      "\n",
      "\n",
      "('Fehler', 'Fehler', 0.70969564, 0.70969564)\n",
      "('war', 'aufgetreten', 0.18990019, 0.26757976)\n",
      "('\"', 'ist', 0.086144835, 0.45363218)\n",
      "(',', '\\xe2\\x80\\x9c', 0.032979567, 0.38283855)\n",
      "('sagte', ',', 0.013915245, 0.42193544)\n",
      "('der', 'erl\\xc3\\xa4u@@', 0.0064336751, 0.46234718)\n",
      "('Sp@@', 'terte', 0.0028428196, 0.44186559)\n",
      "('ag@@', 'die', 0.00088071567, 0.30980358)\n",
      "('ing-@@', 'Spi@@', 0.00043543175, 0.49440667)\n",
      "('Agentur', 'on@@', 0.00035572881, 0.81695658)\n",
      "('in', 'age@@', 0.00016555702, 0.46540228)\n",
      "('einer', 'agentur', 8.436534e-05, 0.50958478)\n",
      "('ab@@', 'in', 8.8751058e-06, 0.10519851)\n",
      "('geleiteten', 'einer', 4.137175e-06, 0.46615493)\n",
      "('Aussage', 'per', 1.4285619e-06, 0.34529895)\n",
      "('.', 'E-Mail', 1.2023229e-06, 0.84163195)\n",
      "('</S>', 'versand@@', 1.1601362e-06, 0.96491206)\n",
      "\n",
      "\n",
      "\n",
      "('.', '.', 0.48891523, 0.48891523)\n",
      "('</S>', '</S>', 0.47081417, 0.96297711)\n",
      "\n",
      "\n",
      "\n",
      "('Direkt@@', 'Direkt@@', 0.49797145, 0.49797145)\n",
      "('orium', 'mandat', 0.267113, 0.53640223)\n",
      "('bei', 'bei', 0.08086323, 0.30273044)\n",
      "('den', 'der', 0.064873762, 0.80226535)\n",
      "('Parlamentswahlen', 'Bundest@@', 0.038184758, 0.58860087)\n",
      "('am', 'ag@@', 0.029976005, 0.78502548)\n",
      "('22.', 's@@', 0.025405319, 0.84752178)\n",
      "('September', 'wahl', 0.023307012, 0.91740686)\n",
      "('ist', 'am', 0.0081955502, 0.35163444)\n",
      "(',', '22.', 0.0076762498, 0.93663627)\n",
      "('mit', 'September', 0.0017359636, 0.22614741)\n",
      "('der', 'gilt', 0.0014259031, 0.82138985)\n",
      "('Regierung', ',', 0.00093002198, 0.65223366)\n",
      "('von', 'der', 0.00058313267, 0.62700939)\n",
      "('Gre@@', 'Gr\\xc3\\xbcn@@', 0.00041841771, 0.71753436)\n",
      "('en-@@', '-@@', 0.00031754724, 0.75892365)\n",
      "('Red', 'Roten', 0.00028368979, 0.89337784)\n",
      "('.', 'Landes@@', 0.00020446566, 0.72073656)\n",
      "('</S>', 'regierung', 0.00019645352, 0.96081376)\n",
      "\n",
      "\n",
      "\n",
      "('Ausbildung', 'Ausbildung', 0.57116574, 0.57116574)\n",
      "('im', 'in', 0.36214408, 0.63404381)\n",
      "('Stuttgart', 'der', 0.14106187, 0.38951865)\n",
      "('Music', 'Musik@@', 0.095738627, 0.67869943)\n",
      "('College', 'hochschule', 0.078130275, 0.81607896)\n",
      "('\"', 'Stuttgart', 0.037648719, 0.48187107)\n",
      "('zu', 'aufzugeben', 0.0078845648, 0.20942448)\n",
      "('nennen', '\"', 0.0028263472, 0.35846591)\n",
      "('\"', ',', 0.0020050702, 0.70942122)\n",
      "(',', 'sagte', 0.0012471386, 0.62199253)\n",
      "('sagte', '\\xc3\\x96@@', 0.00049747695, 0.39889464)\n",
      "(',', 'z@@', 0.00039807189, 0.80018175)\n",
      "('dass', 'dem@@', 0.00013931158, 0.34996572)\n",
      "('man', 'ir', 4.454322e-05, 0.31973794)\n",
      "('sich', 'den', 7.3437218e-06, 0.16486728)\n",
      "('auf', '\"', 9.9869885e-07, 0.13599357)\n",
      "('die', 'Stuttgarter', 2.2262084e-07, 0.22291094)\n",
      "('\"', 'Nachrichten', 8.187007e-08, 0.36775589)\n",
      "('\\xe2\\x80\\x9e', '\"', 1.4514459e-08, 0.17728651)\n",
      "('Formel', '.', 2.8640692e-09, 0.1973251)\n",
      "('1', '</S>', 1.3036455e-09, 0.45517284)\n",
      "\n",
      "\n",
      "\n",
      "('geben', 'geben', 0.23131311, 0.23131309)\n",
      "('.', '.', 0.21412952, 0.92571294)\n",
      "('</S>', '</S>', 0.20543477, 0.95939487)\n",
      "\n",
      "\n",
      "\n",
      "('ch@@', 'ch@@', 0.5404914, 0.5404914)\n",
      "('-B@@', '-B@@', 0.40724817, 0.75347763)\n",
      "('ant@@', 'ant@@', 0.36151728, 0.88770753)\n",
      "('le', 'le', 0.28391358, 0.78533888)\n",
      "('und', 'und', 0.14713195, 0.51822793)\n",
      "('ihr', 'ihr', 0.071299702, 0.48459697)\n",
      "('Vater', 'Vater', 0.05826563, 0.81719327)\n",
      "('Karl', 'Karl', 0.048008122, 0.82395279)\n",
      "('Kim@@', 'Kim@@', 0.043263789, 0.90117645)\n",
      "('mich', 'mich', 0.030010378, 0.6936605)\n",
      "('.', '.', 0.018064892, 0.60195488)\n",
      "('</S>', '</S>', 0.017146522, 0.94916272)\n",
      "\n",
      "\n",
      "\n",
      "(':', ':', 0.37307766, 0.37307766)\n",
      "('Die', 'Die', 0.15086342, 0.40437543)\n",
      "('\\xc3\\xa4lteren', '\\xc3\\xa4lteren', 0.069993623, 0.46395355)\n",
      "('Licht@@', 'Licht@@', 0.013298264, 0.18999247)\n",
      "('systeme', 'anlagen', 0.0089367554, 0.67202431)\n",
      "('verbrauchen', 'verbrauchen', 0.0026556014, 0.29715502)\n",
      "('rund', 'etwa', 0.00065168552, 0.24540034)\n",
      "('100', '100', 0.00048445875, 0.74339348)\n",
      "('Watt', 'Watt', 0.00024130136, 0.49808463)\n",
      "(',', ',', 0.00013679187, 0.56689233)\n",
      "('mit', 'die', 4.0840907e-05, 0.29856226)\n",
      "('den', 'neuen', 1.8839448e-05, 0.46128854)\n",
      "('neuen', 'gerade', 1.2784309e-05, 0.67859244)\n",
      "(',', 'mal', 4.9622768e-06, 0.38815388)\n",
      "('die', 'acht', 2.6454068e-06, 0.53310323)\n",
      "('nur', 'Watt', 8.2961816e-07, 0.31360698)\n",
      "('acht', '.', 6.1039924e-07, 0.73575944)\n",
      "('verbrauchen', '</S>', 2.5485346e-07, 0.41751918)\n",
      "\n",
      "\n",
      "\n"
     ]
    }
   ],
   "source": [
    "# best thresh: \n",
    "\n",
    "for s in hyp_ref_conf:\n",
    "    print('\\n'.join(unicode(i) for i in s))\n",
    "    print('\\n\\n')\n",
    "# hyp_ref_conf[:10]"
   ]
  },
  {
   "cell_type": "code",
   "execution_count": 74,
   "metadata": {
    "collapsed": true
   },
   "outputs": [],
   "source": [
    "# true_first_confs = [orig_trans_tups[idx][3][0] for idx in matching_idxs]\n",
    "# wrong_first_confs = [orig_trans_tups[idx][3][0] for idx in non_matching_idxs]\n",
    "# print(np.mean(true_first_confs))\n",
    "# print(np.std(true_first_confs))\n",
    "# print(np.mean(wrong_first_confs))\n",
    "# print(np.std(wrong_first_confs))\n",
    "\n",
    "# true_2_confs = [long_tups[idx][3][0] for idx in matching_2_idxs]\n",
    "# wrong_2_confs = [long_tups[idx][3][0] for idx in non_2_matching_idxs]\n",
    "# print(np.mean(true_2_confs))\n",
    "# print(np.mean(wrong_2_confs))"
   ]
  },
  {
   "cell_type": "code",
   "execution_count": 75,
   "metadata": {
    "collapsed": true
   },
   "outputs": [],
   "source": [
    "def prune_hyps_at_cumulative_threshold(threshold, tups, cutoff=1, good_thresh=None, bad_thresh=None):\n",
    "    pruned_hyps = []\n",
    "    \n",
    "    low_conf_idx = cutoff\n",
    "    for source, hyp, ref, confs, pre in tups:\n",
    "        confs = np.array(confs)\n",
    "        # weight confidence by position -- this is similar to a two-feature log-linear model\n",
    "#         for i, c in enumerate(confs):\n",
    "#             pos_weight = float(1./(i+1))\n",
    "#             confs[i] = min(1., c+pos_weight)\n",
    "        # intuition: shorter hyps can use the conf model, longer hyps wait for cutoff to use it    \n",
    "#         if len(hyp) <= cutoff:\n",
    "#             cutoff = 1\n",
    "    \n",
    "        # set confidence for points >= good_thresh = 1.\n",
    "        if good_thresh is not None:\n",
    "            confs[confs >= good_thresh] = 1.\n",
    "        if bad_thresh is not None:\n",
    "            confs[confs <= bad_thresh] = 0.001\n",
    "        \n",
    "        agg_confs = np.exp(np.cumsum(np.log(confs)))\n",
    "        for idx in range(cutoff,len(confs)):\n",
    "            if agg_confs[idx] <= threshold:\n",
    "                low_conf_idx = idx\n",
    "                break\n",
    "            \n",
    "        # HACK\n",
    "#         if len(hyp) <= 5:\n",
    "#             low_conf_idx = cutoff\n",
    "            \n",
    "        pruned_hyp = hyp[:low_conf_idx]\n",
    "        pruned_hyps.append(pruned_hyp)\n",
    "#         if len(pruned_hyp) < len(hyp) and len(pruned_hyp) > 3:\n",
    "#             print('original hyp: {}'.format(hyp))\n",
    "#             print('pruned hyp: {}'.format(pruned_hyp))\n",
    "#             print('ref: {}'.format(ref))\n",
    "    return pruned_hyps"
   ]
  },
  {
   "cell_type": "code",
   "execution_count": 76,
   "metadata": {
    "collapsed": true
   },
   "outputs": [],
   "source": [
    "def prune_hyps_with_length_threshold(tups, threshold_dict, cutoff=1, num_buckets=20):\n",
    "    pruned_hyps = []\n",
    "    \n",
    "    low_conf_idx = cutoff\n",
    "    for source, hyp, ref, confs, pre in tups:\n",
    "        confs = np.array(confs)        \n",
    "        agg_confs = np.exp(np.cumsum(np.log(confs)))\n",
    "        hyp_len = len(hyp)\n",
    "        if len(hyp) < num_buckets:\n",
    "            threshold = threshold_dict[len(hyp)]\n",
    "        else:\n",
    "            threshold = threshold_dict[num_buckets]\n",
    "        \n",
    "        for idx in range(cutoff,len(confs)):\n",
    "            if agg_confs[idx] <= threshold:\n",
    "                low_conf_idx = idx\n",
    "                break\n",
    "            \n",
    "        pruned_hyp = hyp[:low_conf_idx]\n",
    "        pruned_hyps.append(pruned_hyp)\n",
    "\n",
    "    return pruned_hyps"
   ]
  },
  {
   "cell_type": "code",
   "execution_count": 77,
   "metadata": {
    "collapsed": true
   },
   "outputs": [],
   "source": [
    "def prune_hyps_with_model(model, tups, cutoff=1, log=False):\n",
    "    pruned_hyps = []\n",
    "    \n",
    "    low_conf_idx = cutoff\n",
    "    for ins, (source, hyp, ref, confs, pre) in enumerate(tups):\n",
    "        confs = np.array(confs)\n",
    "        \n",
    "        agg_confs = np.exp(np.cumsum(np.log(confs)))\n",
    "        for idx in range(cutoff, len(confs)):\n",
    "#             feats = [float(idx), agg_confs[idx]]\n",
    "#             feats = [float(idx), confs[idx], agg_confs[idx]]\n",
    "            feats = [float(idx), confs[idx], agg_confs[idx]]\n",
    "\n",
    "            truncate = model.predict([feats])[0]\n",
    "            if truncate == 1.0:\n",
    "                low_conf_idx = idx\n",
    "                break\n",
    "        \n",
    "        if log:\n",
    "            top_match = [t[0] == t[1] for t in zip(hyp, ref)]\n",
    "            if False in top_match:\n",
    "                true_cutoff = top_match.index(False)\n",
    "            else:\n",
    "                true_cutoff = len(top_match)\n",
    "            print('actual best: {}'.format(true_cutoff))\n",
    "            print('model idx: {}'.format(low_conf_idx))\n",
    "        \n",
    "        pruned_hyp = hyp[:low_conf_idx]\n",
    "        pruned_hyps.append(pruned_hyp)\n",
    "#         if len(pruned_hyp) < len(hyp) and len(pruned_hyp) > 3:\n",
    "#             print('original hyp: {}'.format(hyp))\n",
    "#             print('pruned hyp: {}'.format(pruned_hyp))\n",
    "#             print('ref: {}'.format(ref))\n",
    "        if ins % 1000 == 0:\n",
    "            print('mapped ins: {}'.format(ins)) \n",
    "\n",
    "    return pruned_hyps"
   ]
  },
  {
   "cell_type": "code",
   "execution_count": 143,
   "metadata": {
    "collapsed": true
   },
   "outputs": [],
   "source": [
    "def prune_hyps_randomly(tups, cutoff=1, log=False):\n",
    "    pruned_hyps = []\n",
    "    \n",
    "    low_conf_idx = cutoff\n",
    "    for ins, (source, hyp, ref, confs, pre) in enumerate(tups):\n",
    "        confs = np.array(confs)\n",
    "        \n",
    "        pruning_idx = numpy.random.choice(range(1, len(hyp)))\n",
    "        \n",
    "        pruned_hyp = hyp[:pruning_idx]\n",
    "        pruned_hyps.append(pruned_hyp)\n",
    "#         if len(pruned_hyp) < len(hyp) and len(pruned_hyp) > 3:\n",
    "#             print('original hyp: {}'.format(hyp))\n",
    "#             print('pruned hyp: {}'.format(pruned_hyp))\n",
    "#             print('ref: {}'.format(ref))\n",
    "        if ins % 1000 == 0:\n",
    "            print('mapped ins: {}'.format(ins)) \n",
    "\n",
    "    return pruned_hyps"
   ]
  },
  {
   "cell_type": "code",
   "execution_count": 78,
   "metadata": {
    "collapsed": true
   },
   "outputs": [],
   "source": [
    "def prune_hyps_at_threshold(threshold, tups, cutoff=1):\n",
    "    pruned_hyps = []\n",
    "    \n",
    "    low_conf_idx = cutoff\n",
    "    for source, hyp, ref, confs, pres in tups:\n",
    "        for idx in range(cutoff,len(confs)):\n",
    "            if confs[idx] <= threshold:\n",
    "                low_conf_idx = idx\n",
    "                break\n",
    "            \n",
    "        pruned_hyp = hyp[:low_conf_idx]\n",
    "        pruned_hyps.append(pruned_hyp)\n",
    "#         if len(pruned_hyp) < len(hyp):\n",
    "#             print('original hyp: {}'.format(hyp))\n",
    "#             print('pruned hyp: {}'.format(pruned_hyp))\n",
    "#             print('ref: {}'.format(ref))\n",
    "    return pruned_hyps"
   ]
  },
  {
   "cell_type": "code",
   "execution_count": 79,
   "metadata": {
    "collapsed": true
   },
   "outputs": [],
   "source": [
    "def prune_hyps_at_cutoff(cutoff, tups):\n",
    "    pruned_hyps = []\n",
    "    for source, hyp, ref, confs, pres in tups:\n",
    "        pruned_hyp = hyp[:cutoff]\n",
    "        pruned_hyps.append(pruned_hyp)\n",
    "    return pruned_hyps"
   ]
  },
  {
   "cell_type": "code",
   "execution_count": 80,
   "metadata": {
    "collapsed": true
   },
   "outputs": [],
   "source": [
    "def num_ops_saved(hyp, ref):\n",
    "    match_len = 0\n",
    "    for h_sym, r_sym in zip(hyp, ref):\n",
    "        if h_sym == r_sym:\n",
    "            match_len += 1.\n",
    "        else:\n",
    "            break\n",
    "    \n",
    "    # user needs to delete anything extra\n",
    "    del_ops = len(hyp) - match_len\n",
    "    ops_saved = match_len - del_ops\n",
    "    return ops_saved\n"
   ]
  },
  {
   "cell_type": "code",
   "execution_count": 81,
   "metadata": {
    "collapsed": true
   },
   "outputs": [],
   "source": [
    "max_hyp_len=max([len(h) for h in hyp_lines])"
   ]
  },
  {
   "cell_type": "code",
   "execution_count": 82,
   "metadata": {
    "collapsed": false
   },
   "outputs": [
    {
     "data": {
      "text/plain": [
       "25"
      ]
     },
     "execution_count": 82,
     "metadata": {},
     "output_type": "execute_result"
    }
   ],
   "source": [
    "max_hyp_len"
   ]
  },
  {
   "cell_type": "code",
   "execution_count": 83,
   "metadata": {
    "collapsed": true
   },
   "outputs": [],
   "source": [
    "def build_imt_truncation_feature_set(hyps, refs, confs, max_hyp_len=73):\n",
    "    # cut hyps to the point where they only match the ref prefix\n",
    "    X = []\n",
    "    y = []\n",
    "    \n",
    "    for hyp,ref,conf in zip(hyps, refs, confs):\n",
    "        cumulative_confs = np.exp(np.cumsum(np.log(conf)))\n",
    "\n",
    "        for i,hyp_w in zip(range(1,len(hyp)), hyp[1:]):\n",
    "#             feats = np.zeros(max_hyp_len + 1, dtype='float32')\n",
    "#             feats[i] = 1.\n",
    "#             feats[-1] = cumulative_confs[i]\n",
    "#             X.append(feats)\n",
    "            X.append([float(i), conf[i], cumulative_confs[i]])\n",
    "#             X.append([conf[i], cumulative_confs[i]])\n",
    "            \n",
    "#             already_stopped = False\n",
    "            if i < len(ref) and ref[i] == hyp_w:\n",
    "                y.append(0.)\n",
    "            else:\n",
    "                y.append(1.)\n",
    "                break\n",
    "        \n",
    "    return X, y"
   ]
  },
  {
   "cell_type": "code",
   "execution_count": 84,
   "metadata": {
    "collapsed": true
   },
   "outputs": [],
   "source": [
    "def max_achievable(hyps, refs):\n",
    "    # cut hyps to the point where they only match the ref prefix\n",
    "    matching_hyps = []\n",
    "    for hyp,ref in zip(hyps, refs):\n",
    "        matching_hyp = []\n",
    "        for i,hyp_w in enumerate(hyp):\n",
    "            if i < len(ref) and ref[i] == hyp_w:\n",
    "                matching_hyp.append(hyp_w)\n",
    "            else:\n",
    "                break\n",
    "        matching_hyps.append(matching_hyp)\n",
    "    return matching_hyps"
   ]
  },
  {
   "cell_type": "code",
   "execution_count": 133,
   "metadata": {
    "collapsed": true
   },
   "outputs": [],
   "source": [
    "def filter_triples(hyps, refs, tups, minimum_match=2):\n",
    "    filtered = []\n",
    "    for hyp,ref,tup in zip(hyps, refs, tups):\n",
    "        if len(hyp) >= minimum_match and len(ref) >= minimum_match:\n",
    "            if tuple(hyp[:minimum_match]) == tuple(ref[:minimum_match]):\n",
    "                filtered.append((hyp, ref, tup))\n",
    "                \n",
    "    return filtered"
   ]
  },
  {
   "cell_type": "code",
   "execution_count": 85,
   "metadata": {
    "collapsed": true
   },
   "outputs": [],
   "source": [
    "# build a feature set which includes: prev_word, current_word, position, conf_model --> stop/continue\n",
    "training_X, training_y = build_imt_truncation_feature_set(hyp_lines, ref_lines, word_level_confs)"
   ]
  },
  {
   "cell_type": "code",
   "execution_count": 86,
   "metadata": {
    "collapsed": false
   },
   "outputs": [
    {
     "data": {
      "text/plain": [
       "10011"
      ]
     },
     "execution_count": 86,
     "metadata": {},
     "output_type": "execute_result"
    }
   ],
   "source": [
    "len(training_X)"
   ]
  },
  {
   "cell_type": "code",
   "execution_count": 87,
   "metadata": {
    "collapsed": true
   },
   "outputs": [],
   "source": [
    "# from collections import Counter\n",
    "# len_counts = Counter(len(h) for h in hyp_lines)\n",
    "# len_counts.most_common(10)"
   ]
  },
  {
   "cell_type": "code",
   "execution_count": 88,
   "metadata": {
    "collapsed": false
   },
   "outputs": [
    {
     "data": {
      "text/plain": [
       "0.75057436819498546"
      ]
     },
     "execution_count": 88,
     "metadata": {},
     "output_type": "execute_result"
    }
   ],
   "source": [
    "from sklearn.linear_model import SGDClassifier, LogisticRegression\n",
    "from sklearn.ensemble import RandomForestClassifier\n",
    "clf = LogisticRegression()\n",
    "# clf = RandomForestClassifier()\n",
    "clf.fit(training_X, training_y)\n",
    "\n",
    "y_hat = clf.predict(training_X)\n",
    "sum(y_hat == training_y) / float(len(training_y))"
   ]
  },
  {
   "cell_type": "code",
   "execution_count": 89,
   "metadata": {
    "collapsed": true
   },
   "outputs": [],
   "source": [
    "# NOW compute IMT F1 for the pruned hyps, compare to IMT F1 for raw hyps\n",
    "from nn_imt.evaluation import imt_f1\n",
    "import numpy as np"
   ]
  },
  {
   "cell_type": "code",
   "execution_count": 90,
   "metadata": {
    "collapsed": true
   },
   "outputs": [],
   "source": [
    "def avg_imtF1(hyps, refs):\n",
    "    f1s, ps, rs = tuple(np.mean(m) for m in zip(*[imt_f1(h,r) for h,r in zip(hyps,refs)]))\n",
    "    return f1s, ps, rs"
   ]
  },
  {
   "cell_type": "code",
   "execution_count": 91,
   "metadata": {
    "collapsed": true
   },
   "outputs": [],
   "source": [
    "def all_imtF1_scores(hyps, refs):\n",
    "    f1s, ps, rs = zip(*[imt_f1(h,r) for h,r in zip(hyps,refs)])\n",
    "    return f1s, ps, rs"
   ]
  },
  {
   "cell_type": "code",
   "execution_count": 92,
   "metadata": {
    "collapsed": true
   },
   "outputs": [],
   "source": [
    "cutoffs = range(1,21)\n",
    "cutoff_sets = [prune_hyps_at_cutoff(cutoff, trans_tups) for cutoff in cutoffs]\n",
    "c_f1s, c_ps, c_rs = zip(*[avg_imtF1(cutoff_set, ref_lines) for cutoff_set in cutoff_sets]) "
   ]
  },
  {
   "cell_type": "code",
   "execution_count": 93,
   "metadata": {
    "collapsed": true
   },
   "outputs": [],
   "source": [
    "def get_ops_saved(hyps, refs):\n",
    "    return sum([num_ops_saved(hyp, ref) for hyp, ref in zip(hyps, refs)])\n",
    "\n",
    "def get_mean_ops_saved(hyps, refs):\n",
    "    return np.mean([num_ops_saved(hyp, ref) for hyp, ref in zip(hyps, refs)])"
   ]
  },
  {
   "cell_type": "code",
   "execution_count": 94,
   "metadata": {
    "collapsed": false
   },
   "outputs": [
    {
     "name": "stdout",
     "output_type": "stream",
     "text": [
      "1\n",
      "6113.0\n",
      "1\n",
      "1.18999416002\n"
     ]
    }
   ],
   "source": [
    "set_ops_saved = [get_ops_saved(cutoff_set, ref_lines) for cutoff_set in cutoff_sets]\n",
    "mean_ops_saved = [get_mean_ops_saved(cutoff_set, ref_lines) for cutoff_set in cutoff_sets]\n",
    "\n",
    "print(np.argmax(set_ops_saved))\n",
    "print(np.max(set_ops_saved))\n",
    "print(np.argmax(mean_ops_saved))\n",
    "print(np.max(mean_ops_saved))"
   ]
  },
  {
   "cell_type": "code",
   "execution_count": 95,
   "metadata": {
    "collapsed": true
   },
   "outputs": [],
   "source": [
    "thresholds = np.linspace(0.0, 1., num=50, endpoint=True)"
   ]
  },
  {
   "cell_type": "code",
   "execution_count": 96,
   "metadata": {
    "collapsed": true
   },
   "outputs": [],
   "source": [
    "def tups_by_hyp_len(trans_tups, num_buckets=20):\n",
    "    len_tups = {k:[] for k in range(num_buckets+1)}\n",
    "    for tup in trans_tups:\n",
    "        tup_len = len(tup[1])\n",
    "        if tup_len < num_buckets:\n",
    "            len_tups[tup_len].append(tup)\n",
    "        else:\n",
    "            len_tups[num_buckets].append(tup)\n",
    "    for k in len_tups.keys():\n",
    "        if len(len_tups[k]) == 0:\n",
    "            del len_tups[k]\n",
    "    return len_tups"
   ]
  },
  {
   "cell_type": "code",
   "execution_count": 97,
   "metadata": {
    "collapsed": true
   },
   "outputs": [],
   "source": [
    "num_buckets = 25"
   ]
  },
  {
   "cell_type": "code",
   "execution_count": 98,
   "metadata": {
    "collapsed": true
   },
   "outputs": [],
   "source": [
    "tup_buckets = tups_by_hyp_len(trans_tups, num_buckets=num_buckets)"
   ]
  },
  {
   "cell_type": "code",
   "execution_count": 99,
   "metadata": {
    "collapsed": false
   },
   "outputs": [
    {
     "data": {
      "text/plain": [
       "[479, 423, 288, 292, 254, 233, 234, 228, 214, 196]"
      ]
     },
     "execution_count": 99,
     "metadata": {},
     "output_type": "execute_result"
    }
   ],
   "source": [
    "[len(tup_buckets[k]) for k in range(10+1) if k in tup_buckets]"
   ]
  },
  {
   "cell_type": "code",
   "execution_count": 100,
   "metadata": {
    "collapsed": true
   },
   "outputs": [],
   "source": [
    "# TODO: switch to choosing the pruning index based on num ops saved, not mean f1"
   ]
  },
  {
   "cell_type": "code",
   "execution_count": 101,
   "metadata": {
    "collapsed": true
   },
   "outputs": [],
   "source": [
    "def pruned_len_sets(tup_bucket_dict, thresholds, num_buckets=20):\n",
    "    len_thresholds = {}\n",
    "    for k in tup_bucket_dict.keys():\n",
    "        k_tups = tup_bucket_dict[k]\n",
    "        k_refs = zip(*k_tups)[2]\n",
    "#         k_pruned_sets = [prune_hyps_at_cumulative_threshold(thresh, k_tups) for thresh in thresholds]\n",
    "        \n",
    "        # WORKING: two dynamic pruning functions -- one for cutoff, one for thresh\n",
    "        # CUMULATIVE THRESHOLD\n",
    "        k_pruned_sets = [prune_hyps_at_cumulative_threshold(thresh, k_tups) for thresh in thresholds]\n",
    "        # TOKEN THRESHOLD\n",
    "#         k_pruned_sets = [prune_hyps_at_threshold(thresh, k_tups) for thresh in thresholds]\n",
    "\n",
    "        # CUTOFF -- currently HACKED\n",
    "#         thresholds = range(1,21)\n",
    "#         k_pruned_sets = [prune_hyps_at_cutoff(cutoff, k_tups) for cutoff in cutoffs]\n",
    "        \n",
    "        # get the best threshold for this index\n",
    "#         mean_f1s = [np.mean(all_imtF1_scores(k_pruned_set, k_refs)) for k_pruned_set in k_pruned_sets]\n",
    "        ops_saved = [get_ops_saved(k_pruned_set, k_refs) for k_pruned_set in k_pruned_sets]        \n",
    "    \n",
    "#         print(all_imtF1_scores(k_pruned_set, k_refs)[0])\n",
    "#         print(mean_f1s)\n",
    "#         print(len(mean_f1s))\n",
    "#         best_threshold = np.argmax(mean_f1s)\n",
    "        best_threshold = np.argmax(ops_saved)\n",
    "        print('length_bucket: {}'.format(k))\n",
    "        print('num_tups in bucket: {}'.format(len(k_tups)))\n",
    "        print('best threshold: {}'.format(thresholds[best_threshold]))\n",
    "        print('ops saved: {}'.format(ops_saved[best_threshold]))\n",
    "        print('\\n')\n",
    "        len_thresholds[k] = thresholds[best_threshold]\n",
    "    return len_thresholds\n",
    "        \n",
    "#     pruned_sets = [prune_hyps_at_cumulative_threshold(thresh, trans_tups) for thresh in thresholds]\n"
   ]
  },
  {
   "cell_type": "code",
   "execution_count": 102,
   "metadata": {
    "collapsed": false
   },
   "outputs": [
    {
     "name": "stdout",
     "output_type": "stream",
     "text": [
      "length_bucket: 1\n",
      "num_tups in bucket: 479\n",
      "best threshold: 0.0\n",
      "ops saved: 479.0\n",
      "\n",
      "\n",
      "length_bucket: 2\n",
      "num_tups in bucket: 423\n",
      "best threshold: 0.0\n",
      "ops saved: 423.0\n",
      "\n",
      "\n",
      "length_bucket: 3\n",
      "num_tups in bucket: 288\n",
      "best threshold: 0.0816326530612\n",
      "ops saved: 349.0\n",
      "\n",
      "\n",
      "length_bucket: 4\n",
      "num_tups in bucket: 292\n",
      "best threshold: 0.0612244897959\n",
      "ops saved: 328.0\n",
      "\n",
      "\n",
      "length_bucket: 5\n",
      "num_tups in bucket: 254\n",
      "best threshold: 0.30612244898\n",
      "ops saved: 328.0\n",
      "\n",
      "\n",
      "length_bucket: 6\n",
      "num_tups in bucket: 233\n",
      "best threshold: 0.224489795918\n",
      "ops saved: 323.0\n",
      "\n",
      "\n",
      "length_bucket: 7\n",
      "num_tups in bucket: 234\n",
      "best threshold: 0.142857142857\n",
      "ops saved: 313.0\n",
      "\n",
      "\n",
      "length_bucket: 8\n",
      "num_tups in bucket: 228\n",
      "best threshold: 0.102040816327\n",
      "ops saved: 280.0\n",
      "\n",
      "\n",
      "length_bucket: 9\n",
      "num_tups in bucket: 214\n",
      "best threshold: 0.265306122449\n",
      "ops saved: 252.0\n",
      "\n",
      "\n",
      "length_bucket: 10\n",
      "num_tups in bucket: 196\n",
      "best threshold: 0.204081632653\n",
      "ops saved: 233.0\n",
      "\n",
      "\n",
      "length_bucket: 11\n",
      "num_tups in bucket: 201\n",
      "best threshold: 0.367346938776\n",
      "ops saved: 241.0\n",
      "\n",
      "\n",
      "length_bucket: 12\n",
      "num_tups in bucket: 211\n",
      "best threshold: 0.224489795918\n",
      "ops saved: 246.0\n",
      "\n",
      "\n",
      "length_bucket: 13\n",
      "num_tups in bucket: 181\n",
      "best threshold: 0.30612244898\n",
      "ops saved: 230.0\n",
      "\n",
      "\n",
      "length_bucket: 14\n",
      "num_tups in bucket: 187\n",
      "best threshold: 0.265306122449\n",
      "ops saved: 230.0\n",
      "\n",
      "\n",
      "length_bucket: 15\n",
      "num_tups in bucket: 171\n",
      "best threshold: 0.326530612245\n",
      "ops saved: 214.0\n",
      "\n",
      "\n",
      "length_bucket: 16\n",
      "num_tups in bucket: 174\n",
      "best threshold: 0.30612244898\n",
      "ops saved: 206.0\n",
      "\n",
      "\n",
      "length_bucket: 17\n",
      "num_tups in bucket: 163\n",
      "best threshold: 0.30612244898\n",
      "ops saved: 216.0\n",
      "\n",
      "\n",
      "length_bucket: 18\n",
      "num_tups in bucket: 143\n",
      "best threshold: 0.163265306122\n",
      "ops saved: 214.0\n",
      "\n",
      "\n",
      "length_bucket: 19\n",
      "num_tups in bucket: 148\n",
      "best threshold: 0.163265306122\n",
      "ops saved: 202.0\n",
      "\n",
      "\n",
      "length_bucket: 20\n",
      "num_tups in bucket: 130\n",
      "best threshold: 0.122448979592\n",
      "ops saved: 201.0\n",
      "\n",
      "\n",
      "length_bucket: 21\n",
      "num_tups in bucket: 126\n",
      "best threshold: 0.122448979592\n",
      "ops saved: 169.0\n",
      "\n",
      "\n",
      "length_bucket: 22\n",
      "num_tups in bucket: 123\n",
      "best threshold: 0.163265306122\n",
      "ops saved: 165.0\n",
      "\n",
      "\n",
      "length_bucket: 23\n",
      "num_tups in bucket: 130\n",
      "best threshold: 0.163265306122\n",
      "ops saved: 190.0\n",
      "\n",
      "\n",
      "length_bucket: 24\n",
      "num_tups in bucket: 108\n",
      "best threshold: 0.122448979592\n",
      "ops saved: 168.0\n",
      "\n",
      "\n",
      "length_bucket: 25\n",
      "num_tups in bucket: 100\n",
      "best threshold: 0.102040816327\n",
      "ops saved: 154.0\n",
      "\n",
      "\n"
     ]
    }
   ],
   "source": [
    "# WORKING: compute best threshold at each input length -- complexity = (n_lengths * n_thresholds)\n",
    "len_threshs = pruned_len_sets(tup_buckets, thresholds, num_buckets=num_buckets)"
   ]
  },
  {
   "cell_type": "code",
   "execution_count": 126,
   "metadata": {
    "collapsed": true
   },
   "outputs": [],
   "source": [
    "# pruned_sets = [prune_hyps_at_threshold(thresh, trans_tups) for thresh in thresholds]\n",
    "pruned_sets = [prune_hyps_at_cumulative_threshold(thresh, trans_tups) for thresh in thresholds]\n",
    "pruned_ops_saved = get_ops_saved(pruned_set, ref_lines)\n",
    "\n",
    "t_f1s, t_ps, t_rs = zip(*[avg_imtF1(pruned_set, ref_lines) for pruned_set in pruned_sets])\n",
    "max_f1_idx = np.argmax(t_f1s)\n",
    "\n",
    "set_ops_saved = [get_ops_saved(pruned_set, ref_lines) for pruned_set in pruned_sets]\n",
    "mean_ops_saved = [get_mean_ops_saved(cutoff_set, ref_lines) for cutoff_set in cutoff_sets]\n",
    "\n",
    "dynamic_pruned_set = prune_hyps_with_length_threshold(trans_tups, len_threshs)\n",
    "dynamic_ops_saved = get_ops_saved(dynamic_pruned_set, ref_lines)"
   ]
  },
  {
   "cell_type": "code",
   "execution_count": 127,
   "metadata": {
    "collapsed": false
   },
   "outputs": [
    {
     "data": {
      "text/plain": [
       "5137.0"
      ]
     },
     "execution_count": 127,
     "metadata": {},
     "output_type": "execute_result"
    }
   ],
   "source": [
    "pruned_ops_saved"
   ]
  },
  {
   "cell_type": "code",
   "execution_count": 128,
   "metadata": {
    "collapsed": false
   },
   "outputs": [
    {
     "data": {
      "text/plain": [
       "6465.0"
      ]
     },
     "execution_count": 128,
     "metadata": {},
     "output_type": "execute_result"
    }
   ],
   "source": [
    "dynamic_ops_saved"
   ]
  },
  {
   "cell_type": "code",
   "execution_count": 105,
   "metadata": {
    "collapsed": true
   },
   "outputs": [],
   "source": [
    "# WORKING: normalize pruning function signatures, use func as argument to prune_hyps at length threshold\n",
    "# WORKING: also return thresholds from function"
   ]
  },
  {
   "cell_type": "code",
   "execution_count": 106,
   "metadata": {
    "collapsed": false
   },
   "outputs": [
    {
     "data": {
      "text/plain": [
       "2480.0"
      ]
     },
     "execution_count": 106,
     "metadata": {},
     "output_type": "execute_result"
    }
   ],
   "source": [
    "set_ops_saved[max_f1_idx]"
   ]
  },
  {
   "cell_type": "code",
   "execution_count": 107,
   "metadata": {
    "collapsed": false
   },
   "outputs": [
    {
     "name": "stdout",
     "output_type": "stream",
     "text": [
      "8\n",
      "6366.0\n",
      "1\n",
      "1.18999416002\n"
     ]
    }
   ],
   "source": [
    "print(np.argmax(set_ops_saved))\n",
    "print(np.max(set_ops_saved))\n",
    "print(np.argmax(mean_ops_saved))\n",
    "print(np.max(mean_ops_saved))"
   ]
  },
  {
   "cell_type": "code",
   "execution_count": 108,
   "metadata": {
    "collapsed": true
   },
   "outputs": [],
   "source": [
    "raw_f1s, raw_ps, raw_rs = avg_imtF1(hyp_lines, ref_lines)"
   ]
  },
  {
   "cell_type": "code",
   "execution_count": 109,
   "metadata": {
    "collapsed": false
   },
   "outputs": [
    {
     "data": {
      "text/plain": [
       "0.39811387699408107"
      ]
     },
     "execution_count": 109,
     "metadata": {},
     "output_type": "execute_result"
    }
   ],
   "source": [
    "2*((raw_ps*raw_rs) / (raw_ps+raw_rs))"
   ]
  },
  {
   "cell_type": "code",
   "execution_count": 110,
   "metadata": {
    "collapsed": true
   },
   "outputs": [],
   "source": [
    "max_f1s, max_ps, max_rs = avg_imtF1(max_achievable(hyp_lines, ref_lines), ref_lines)"
   ]
  },
  {
   "cell_type": "code",
   "execution_count": 111,
   "metadata": {
    "collapsed": false
   },
   "outputs": [
    {
     "data": {
      "text/plain": [
       "0.55931230777226737"
      ]
     },
     "execution_count": 111,
     "metadata": {},
     "output_type": "execute_result"
    }
   ],
   "source": [
    "2*((max_ps*max_rs) / (max_ps+max_rs))"
   ]
  },
  {
   "cell_type": "code",
   "execution_count": 114,
   "metadata": {
    "collapsed": false
   },
   "outputs": [
    {
     "data": {
      "text/plain": [
       "11354.0"
      ]
     },
     "execution_count": 114,
     "metadata": {},
     "output_type": "execute_result"
    }
   ],
   "source": [
    "# get max ops saved from oracle\n",
    "best_possible_hyps = max_achievable(hyp_lines, ref_lines)\n",
    "get_ops_saved(best_possible_hyps, ref_lines)\n"
   ]
  },
  {
   "cell_type": "code",
   "execution_count": 155,
   "metadata": {
    "collapsed": false
   },
   "outputs": [
    {
     "data": {
      "text/plain": [
       "839"
      ]
     },
     "execution_count": 155,
     "metadata": {},
     "output_type": "execute_result"
    }
   ],
   "source": [
    "match_heuristic_minimum = 4\n",
    "filtered_hyps, filtered_refs, filtered_tups = zip(*filter_triples(hyp_lines, ref_lines, trans_tups, minimum_match=match_heuristic_minimum))\n",
    "len(filtered_hyps) "
   ]
  },
  {
   "cell_type": "code",
   "execution_count": 156,
   "metadata": {
    "collapsed": false
   },
   "outputs": [
    {
     "data": {
      "text/plain": [
       "4417.0"
      ]
     },
     "execution_count": 156,
     "metadata": {},
     "output_type": "execute_result"
    }
   ],
   "source": [
    "best_possible_filtered = max_achievable(filtered_hyps, filtered_refs)\n",
    "\n",
    "get_ops_saved(best_possible_filtered, filtered_refs)\n"
   ]
  },
  {
   "cell_type": "code",
   "execution_count": 157,
   "metadata": {
    "collapsed": false
   },
   "outputs": [
    {
     "name": "stdout",
     "output_type": "stream",
     "text": [
      "mapped ins: 0\n"
     ]
    },
    {
     "data": {
      "text/plain": [
       "2121.0"
      ]
     },
     "execution_count": 157,
     "metadata": {},
     "output_type": "execute_result"
    }
   ],
   "source": [
    "model_pruned_filtered_hyps = prune_hyps_with_model(clf, filtered_tups)\n",
    "get_ops_saved(model_pruned_filtered_hyps, filtered_refs)\n",
    "# pruned_filtered_ops_saved = get_ops_saved(pruned_filtered_sets, filtered_refs)\n",
    "# pruned_filtered_ops_saved"
   ]
  },
  {
   "cell_type": "code",
   "execution_count": 158,
   "metadata": {
    "collapsed": false
   },
   "outputs": [
    {
     "name": "stdout",
     "output_type": "stream",
     "text": [
      "mapped ins: 0\n"
     ]
    },
    {
     "data": {
      "text/plain": [
       "1059.0"
      ]
     },
     "execution_count": 158,
     "metadata": {},
     "output_type": "execute_result"
    }
   ],
   "source": [
    "random_pruned_filtered_hyps = prune_hyps_randomly(filtered_tups)\n",
    "get_ops_saved(random_pruned_filtered_hyps, filtered_refs)\n"
   ]
  },
  {
   "cell_type": "code",
   "execution_count": 170,
   "metadata": {
    "collapsed": false
   },
   "outputs": [
    {
     "data": {
      "text/plain": [
       "1761.0"
      ]
     },
     "execution_count": 170,
     "metadata": {},
     "output_type": "execute_result"
    }
   ],
   "source": [
    "# def prune_hyps_at_threshold(threshold, tups, cutoff=1):\n",
    "threshold_pruned_filtered_hyps = prune_hyps_at_threshold(0.5, filtered_tups)\n",
    "get_ops_saved(threshold_pruned_filtered_hyps, filtered_refs)\n"
   ]
  },
  {
   "cell_type": "code",
   "execution_count": 160,
   "metadata": {
    "collapsed": false
   },
   "outputs": [
    {
     "name": "stdout",
     "output_type": "stream",
     "text": [
      "at cutoff = 0, ops_saved = 0\n",
      "at cutoff = 1, ops_saved = 839.0\n",
      "at cutoff = 2, ops_saved = 1678.0\n",
      "at cutoff = 3, ops_saved = 2517.0\n",
      "at cutoff = 4, ops_saved = 3356.0\n",
      "at cutoff = 5, ops_saved = 3546.0\n",
      "at cutoff = 6, ops_saved = 3391.0\n",
      "at cutoff = 7, ops_saved = 3059.0\n",
      "at cutoff = 8, ops_saved = 2666.0\n",
      "at cutoff = 9, ops_saved = 2264.0\n",
      "at cutoff = 10, ops_saved = 1865.0\n",
      "at cutoff = 11, ops_saved = 1473.0\n",
      "at cutoff = 12, ops_saved = 1097.0\n",
      "at cutoff = 13, ops_saved = 739.0\n",
      "at cutoff = 14, ops_saved = 405.0\n",
      "at cutoff = 15, ops_saved = 109.0\n",
      "at cutoff = 16, ops_saved = -161.0\n",
      "at cutoff = 17, ops_saved = -407.0\n",
      "at cutoff = 18, ops_saved = -629.0\n",
      "at cutoff = 19, ops_saved = -828.0\n"
     ]
    }
   ],
   "source": [
    "for l in range(20):\n",
    "    length_pruned_filtered_hyps = prune_hyps_at_cutoff(l, filtered_tups)\n",
    "    l_pruned = get_ops_saved(length_pruned_filtered_hyps, filtered_refs)\n",
    "    print('at cutoff = {}, ops_saved = {}'.format(l, l_pruned))"
   ]
  },
  {
   "cell_type": "code",
   "execution_count": 141,
   "metadata": {
    "collapsed": false
   },
   "outputs": [
    {
     "data": {
      "text/plain": [
       "(['<S>',\n",
       "  'Gut@@',\n",
       "  'ach',\n",
       "  ':',\n",
       "  'Increased',\n",
       "  'safety',\n",
       "  'for',\n",
       "  'pedestrians',\n",
       "  '</S>'],\n",
       " ['Sicherheit', 'f\\xc3\\xbcr', 'Fu\\xc3\\x9fg\\xc3\\xa4nger', '</S>'],\n",
       " ['Sicherheit', 'f\\xc3\\xbcr', 'Fu\\xc3\\x9fg\\xc3\\xa4nger', '</S>'],\n",
       " [0.65831339, 0.59100002, 0.68031633, 0.95437795],\n",
       " ['<S>', 'Gut@@', 'ach', ':', 'Noch', 'mehr'])"
      ]
     },
     "execution_count": 141,
     "metadata": {},
     "output_type": "execute_result"
    }
   ],
   "source": [
    "filtered_tups[3]"
   ]
  },
  {
   "cell_type": "code",
   "execution_count": null,
   "metadata": {
    "collapsed": true
   },
   "outputs": [],
   "source": [
    "# compare model to random\n",
    "random_idxs = np.random.choice(len(filtered_tups), size=10, replace=False)\n",
    "sample_tups = [filtered_tups[idx] for idx in random_idxs]"
   ]
  },
  {
   "cell_type": "code",
   "execution_count": 113,
   "metadata": {
    "collapsed": false
   },
   "outputs": [
    {
     "data": {
      "text/plain": [
       "[['Gut@@', 'ach', ':'],\n",
       " ['ach', ':'],\n",
       " [':'],\n",
       " ['mehr', 'Sicherheit', 'f\\xc3\\xbcr', 'Fu\\xc3\\x9fg\\xc3\\xa4nger', '</S>'],\n",
       " ['Sicherheit', 'f\\xc3\\xbcr', 'Fu\\xc3\\x9fg\\xc3\\xa4nger', '</S>'],\n",
       " ['f\\xc3\\xbcr', 'Fu\\xc3\\x9fg\\xc3\\xa4nger', '</S>'],\n",
       " ['</S>'],\n",
       " ['entfernt', ':', 'Am', 'Dienstag'],\n",
       " [':', 'Am', 'Dienstag'],\n",
       " ['Am', 'Dienstag']]"
      ]
     },
     "execution_count": 113,
     "metadata": {},
     "output_type": "execute_result"
    }
   ],
   "source": [
    "max_thing[:10]"
   ]
  },
  {
   "cell_type": "code",
   "execution_count": 333,
   "metadata": {
    "collapsed": true
   },
   "outputs": [],
   "source": [
    "avg_thresh_f1s = [2*((p*r) / (p+r)) for p,r in zip(t_ps, t_rs)]\n",
    "avg_cutoff_f1s = [2*((p*r) / (p+r)) for p,r in zip(c_ps, c_rs)]"
   ]
  },
  {
   "cell_type": "code",
   "execution_count": 335,
   "metadata": {
    "collapsed": false
   },
   "outputs": [
    {
     "name": "stdout",
     "output_type": "stream",
     "text": [
      "0.424002936235\n",
      "3\n"
     ]
    }
   ],
   "source": [
    "best_cutoff_idx = np.argmax(avg_cutoff_f1s)\n",
    "# print(best_cutoff_idx)\n",
    "print(avg_cutoff_f1s[best_cutoff_idx])\n",
    "print(cutoffs[best_cutoff_idx])"
   ]
  },
  {
   "cell_type": "code",
   "execution_count": 336,
   "metadata": {
    "collapsed": false
   },
   "outputs": [
    {
     "data": {
      "text/plain": [
       "0.36740004011850053"
      ]
     },
     "execution_count": 336,
     "metadata": {},
     "output_type": "execute_result"
    }
   ],
   "source": [
    "max(t_f1s)"
   ]
  },
  {
   "cell_type": "code",
   "execution_count": 337,
   "metadata": {
    "collapsed": false
   },
   "outputs": [
    {
     "data": {
      "text/plain": [
       "0.3752621714650804"
      ]
     },
     "execution_count": 337,
     "metadata": {},
     "output_type": "execute_result"
    }
   ],
   "source": [
    "max(c_f1s)"
   ]
  },
  {
   "cell_type": "code",
   "execution_count": 338,
   "metadata": {
    "collapsed": false
   },
   "outputs": [
    {
     "data": {
      "text/plain": [
       "0.36819514488350419"
      ]
     },
     "execution_count": 338,
     "metadata": {},
     "output_type": "execute_result"
    }
   ],
   "source": [
    "best_cutoff_scores, _, _ = all_imtF1_scores(cutoff_sets[best_cutoff_idx], ref_lines)\n",
    "np.mean(best_cutoff_scores)"
   ]
  },
  {
   "cell_type": "code",
   "execution_count": 339,
   "metadata": {
    "collapsed": true
   },
   "outputs": [],
   "source": [
    "# idea: combine threshold with the index you're cutting -- different optimal threshold depending on suffix length"
   ]
  },
  {
   "cell_type": "code",
   "execution_count": 129,
   "metadata": {
    "collapsed": false
   },
   "outputs": [
    {
     "name": "stdout",
     "output_type": "stream",
     "text": [
      "mapped ins: 0\n",
      "mapped ins: 1000\n",
      "mapped ins: 2000\n",
      "mapped ins: 3000\n",
      "mapped ins: 4000\n",
      "mapped ins: 5000\n"
     ]
    },
    {
     "data": {
      "text/plain": [
       "6042.0"
      ]
     },
     "execution_count": 129,
     "metadata": {},
     "output_type": "execute_result"
    }
   ],
   "source": [
    "# model_pruned_hyps = prune_hyps_with_model(clf, trans_tups[:100], log=True)\n",
    "model_pruned_hyps = prune_hyps_with_model(clf, trans_tups)\n",
    "get_ops_saved(model_pruned_hyps, ref_lines)\n"
   ]
  },
  {
   "cell_type": "code",
   "execution_count": 341,
   "metadata": {
    "collapsed": true
   },
   "outputs": [],
   "source": [
    "best_model_scores, _, _ = all_imtF1_scores(model_pruned_hyps, ref_lines)"
   ]
  },
  {
   "cell_type": "code",
   "execution_count": 342,
   "metadata": {
    "collapsed": false
   },
   "outputs": [
    {
     "data": {
      "text/plain": [
       "0.31540191656749711"
      ]
     },
     "execution_count": 342,
     "metadata": {},
     "output_type": "execute_result"
    }
   ],
   "source": [
    "np.mean(best_model_scores)"
   ]
  },
  {
   "cell_type": "code",
   "execution_count": 343,
   "metadata": {
    "collapsed": false
   },
   "outputs": [
    {
     "name": "stdout",
     "output_type": "stream",
     "text": [
      "3\n",
      "0.415613684359\n",
      "0.0612244897959\n"
     ]
    }
   ],
   "source": [
    "best_thresh_idx = np.argmax(avg_thresh_f1s)\n",
    "print(best_thresh_idx)\n",
    "print(avg_thresh_f1s[best_thresh_idx])\n",
    "print(thresholds[best_thresh_idx])"
   ]
  },
  {
   "cell_type": "code",
   "execution_count": 344,
   "metadata": {
    "collapsed": false
   },
   "outputs": [
    {
     "name": "stdout",
     "output_type": "stream",
     "text": [
      "c_ps: 0.690096896042, c_rs: 0.306009107301\n",
      "t_ps: 0.658703370167, t_rs: 0.303579776714\n"
     ]
    },
    {
     "data": {
      "text/plain": [
       "(1.0, 0.33852365161102493)"
      ]
     },
     "execution_count": 344,
     "metadata": {},
     "output_type": "execute_result"
    }
   ],
   "source": [
    "print('c_ps: {}, c_rs: {}'.format(c_ps[best_cutoff_idx], c_rs[best_cutoff_idx]))\n",
    "print('t_ps: {}, t_rs: {}'.format(t_ps[best_thresh_idx], t_rs[best_thresh_idx]))\n",
    "max_ps, max_rs"
   ]
  },
  {
   "cell_type": "code",
   "execution_count": 345,
   "metadata": {
    "collapsed": false
   },
   "outputs": [
    {
     "data": {
      "text/plain": [
       "3.5362128428313353"
      ]
     },
     "execution_count": 345,
     "metadata": {},
     "output_type": "execute_result"
    }
   ],
   "source": [
    "np.mean([len(i) for i in pruned_sets[best_thresh_idx]])\n",
    "# np.mean([len(i) for i in model_pruned_hyps])"
   ]
  },
  {
   "cell_type": "code",
   "execution_count": 346,
   "metadata": {
    "collapsed": false
   },
   "outputs": [
    {
     "name": "stdout",
     "output_type": "stream",
     "text": [
      "0.368195144884\n",
      "0.361203927926\n"
     ]
    }
   ],
   "source": [
    "best_thresh_scores, _, _ = all_imtF1_scores(pruned_sets[best_thresh_idx], ref_lines)\n",
    "print(np.mean(best_cutoff_scores))\n",
    "print(np.mean(best_thresh_scores))"
   ]
  },
  {
   "cell_type": "code",
   "execution_count": 347,
   "metadata": {
    "collapsed": true
   },
   "outputs": [],
   "source": [
    "max_achievable_scores, _, _ = all_imtF1_scores(max_achievable(hyp_lines, ref_lines), ref_lines)"
   ]
  },
  {
   "cell_type": "code",
   "execution_count": 348,
   "metadata": {
    "collapsed": false
   },
   "outputs": [
    {
     "data": {
      "text/plain": [
       "0.41122585205817652"
      ]
     },
     "execution_count": 348,
     "metadata": {},
     "output_type": "execute_result"
    }
   ],
   "source": [
    "np.mean(max_achievable_scores)"
   ]
  },
  {
   "cell_type": "code",
   "execution_count": 349,
   "metadata": {
    "collapsed": false
   },
   "outputs": [
    {
     "data": {
      "text/plain": [
       "1620"
      ]
     },
     "execution_count": 349,
     "metadata": {},
     "output_type": "execute_result"
    }
   ],
   "source": [
    "sum([t > c for t,c in zip(best_thresh_scores, best_cutoff_scores)])"
   ]
  },
  {
   "cell_type": "code",
   "execution_count": 350,
   "metadata": {
    "collapsed": false
   },
   "outputs": [
    {
     "data": {
      "text/plain": [
       "2522"
      ]
     },
     "execution_count": 350,
     "metadata": {},
     "output_type": "execute_result"
    }
   ],
   "source": [
    "sum([c > t for t,c in zip(best_thresh_scores, best_cutoff_scores)])"
   ]
  },
  {
   "cell_type": "code",
   "execution_count": 351,
   "metadata": {
    "collapsed": false
   },
   "outputs": [
    {
     "data": {
      "text/plain": [
       "0.065334836294145632"
      ]
     },
     "execution_count": 351,
     "metadata": {},
     "output_type": "execute_result"
    }
   ],
   "source": [
    "np.mean([t - c for t,c in zip(best_thresh_scores, best_cutoff_scores) if t > c])"
   ]
  },
  {
   "cell_type": "code",
   "execution_count": 352,
   "metadata": {
    "collapsed": false
   },
   "outputs": [
    {
     "data": {
      "text/plain": [
       "0.058846928966136497"
      ]
     },
     "execution_count": 352,
     "metadata": {},
     "output_type": "execute_result"
    }
   ],
   "source": [
    "np.mean([c -t for t,c in zip(best_thresh_scores, best_cutoff_scores) if c > t])"
   ]
  },
  {
   "cell_type": "code",
   "execution_count": 353,
   "metadata": {
    "collapsed": false
   },
   "outputs": [
    {
     "data": {
      "text/plain": [
       "6089"
      ]
     },
     "execution_count": 353,
     "metadata": {},
     "output_type": "execute_result"
    }
   ],
   "source": [
    "len(best_thresh_scores)"
   ]
  },
  {
   "cell_type": "code",
   "execution_count": 354,
   "metadata": {
    "collapsed": true
   },
   "outputs": [],
   "source": [
    "# QUESTIONS:\n",
    "# Where does the confidence model fail? -- why is it bad for shorter predictions?\n",
    "#   Hypotheses:\n",
    "#   - not enough short training instances\n",
    "#   - threshold doesn't generalize well\n",
    "# Are good inputs getting shortened or bad inputs getting lengthened"
   ]
  },
  {
   "cell_type": "code",
   "execution_count": 355,
   "metadata": {
    "collapsed": false
   },
   "outputs": [
    {
     "name": "stdout",
     "output_type": "stream",
     "text": [
      "0.915421251437\n",
      "0.368861882082\n",
      "5574.0\n",
      "2246.0\n",
      "13567.0\n"
     ]
    }
   ],
   "source": [
    "# compute the avg number of operations saved \n",
    "print(np.mean([num_ops_saved(h, r) for h,r in zip(cutoff_sets[best_cutoff_idx], ref_lines)]))\n",
    "print(np.mean([num_ops_saved(h, r) for h,r in zip(pruned_sets[best_thresh_idx], ref_lines)]))\n",
    "print(sum([num_ops_saved(h, r) for h,r in zip(cutoff_sets[best_cutoff_idx], ref_lines)]))\n",
    "print(sum([num_ops_saved(h, r) for h,r in zip(pruned_sets[best_thresh_idx], ref_lines)]))\n",
    "print(sum([num_ops_saved(h, r) for h,r in zip(max_achievable(hyp_lines, ref_lines), ref_lines)]))"
   ]
  },
  {
   "cell_type": "code",
   "execution_count": 356,
   "metadata": {
    "collapsed": false
   },
   "outputs": [
    {
     "data": {
      "text/plain": [
       "181.83333333333334"
      ]
     },
     "execution_count": 356,
     "metadata": {},
     "output_type": "execute_result"
    }
   ],
   "source": [
    "10910 / 60."
   ]
  },
  {
   "cell_type": "code",
   "execution_count": 357,
   "metadata": {
    "collapsed": false
   },
   "outputs": [
    {
     "data": {
      "text/plain": [
       "8.75"
      ]
     },
     "execution_count": 357,
     "metadata": {},
     "output_type": "execute_result"
    }
   ],
   "source": [
    "525 / 60."
   ]
  },
  {
   "cell_type": "code",
   "execution_count": 358,
   "metadata": {
    "collapsed": false
   },
   "outputs": [
    {
     "data": {
      "text/plain": [
       "0.04812107813213223"
      ]
     },
     "execution_count": 358,
     "metadata": {},
     "output_type": "execute_result"
    }
   ],
   "source": [
    "8.75 / 181.833"
   ]
  },
  {
   "cell_type": "code",
   "execution_count": 359,
   "metadata": {
    "collapsed": false
   },
   "outputs": [
    {
     "data": {
      "text/plain": [
       "17"
      ]
     },
     "execution_count": 359,
     "metadata": {},
     "output_type": "execute_result"
    }
   ],
   "source": [
    "max([len(t) for t in pruned_sets[best_thresh_idx]])\n",
    "# TODO: what is the maximum number of tokens matched by the threshold model?"
   ]
  },
  {
   "cell_type": "code",
   "execution_count": 360,
   "metadata": {
    "collapsed": false
   },
   "outputs": [
    {
     "data": {
      "text/plain": [
       "WilcoxonResult(statistic=3499500.5, pvalue=9.4541169726054271e-25)"
      ]
     },
     "execution_count": 360,
     "metadata": {},
     "output_type": "execute_result"
    }
   ],
   "source": [
    "from scipy import stats\n",
    "\n",
    "# stats.ttest_ind(best_cutoff_scores, best_thresh_scores, equal_var=False)\n",
    "stats.wilcoxon(best_cutoff_scores, best_thresh_scores)\n",
    "# stats.ttest_rel(best_cutoff_scores, best_thresh_scores)\n",
    "\n",
    "# CONCLUSION: current model is _NOT_ significantly better than baseline"
   ]
  },
  {
   "cell_type": "code",
   "execution_count": 361,
   "metadata": {
    "collapsed": true
   },
   "outputs": [],
   "source": [
    "# dump predictions to file\n",
    "output_f1s = zip(best_cutoff_scores, best_thresh_scores, max_achievable_scores)\n"
   ]
  },
  {
   "cell_type": "code",
   "execution_count": 187,
   "metadata": {
    "collapsed": false
   },
   "outputs": [
    {
     "data": {
      "text/plain": [
       "4353"
      ]
     },
     "execution_count": 187,
     "metadata": {},
     "output_type": "execute_result"
    }
   ],
   "source": [
    "len(output_f1s)"
   ]
  },
  {
   "cell_type": "code",
   "execution_count": 190,
   "metadata": {
    "collapsed": true
   },
   "outputs": [],
   "source": [
    "with open('model_scores.csv', 'w') as out:\n",
    "    out.write('Baseline, Model, Oracle\\n')\n",
    "    for r in output_f1s:\n",
    "        out.write(', '.join(str(f) for f in r) + '\\n')"
   ]
  },
  {
   "cell_type": "markdown",
   "metadata": {},
   "source": [
    "# working -- np cumsum to get cumulative confidence\n",
    "# BASELINE -- cutoff = 3\n",
    "0.424002936235\n",
    "\n",
    "# threshold cumsum @10000 iters -- w/ cutoff 3\n",
    "9\n",
    "0.427885047471\n",
    "0.183673469388\n",
    "\n",
    "# threshold cumsum @10000 iters -- w/ cutoff 1\n",
    "6\n",
    "0.425319179877\n",
    "0.122448979592\n",
    "\n",
    "# threshold cumsum @40000 iters -- w/ cutoff 3\n",
    "10\n",
    "0.427649373976\n",
    "0.204081632653\n",
    "\n",
    "# threshold cumsum @40000 iters -- w/ cutoff 1\n",
    "6\n",
    "0.425204928317\n",
    "0.122448979592\n",
    "\n",
    "# threshold cumsum @75000 iters -- w/ cutoff 1\n",
    "5\n",
    "0.427151842361\n",
    "0.102040816327\n",
    "\n",
    "# threshold cumsum @75000 iters -- w/ cutoff 3\n",
    "6\n",
    "0.42848914907\n",
    "0.122448979592"
   ]
  },
  {
   "cell_type": "code",
   "execution_count": 82,
   "metadata": {
    "collapsed": true
   },
   "outputs": [],
   "source": [
    "\n",
    "# pylab.rcParams.keys()"
   ]
  },
  {
   "cell_type": "code",
   "execution_count": 35,
   "metadata": {
    "collapsed": true
   },
   "outputs": [],
   "source": [
    "max_possible = .312"
   ]
  },
  {
   "cell_type": "code",
   "execution_count": 89,
   "metadata": {
    "collapsed": false
   },
   "outputs": [
    {
     "data": {
      "text/plain": [
       "<matplotlib.legend.Legend at 0x7ff2385be750>"
      ]
     },
     "execution_count": 89,
     "metadata": {},
     "output_type": "execute_result"
    },
    {
     "data": {
      "image/png": "[encoded data removed]",
      "text/plain": [
       "<matplotlib.figure.Figure at 0x7ff2386d3590>"
      ]
     },
     "metadata": {},
     "output_type": "display_data"
    }
   ],
   "source": [
    "fig, ax = plt.subplots()\n",
    "\n",
    "names = ['imt_f1_score', 'precision', 'recall']\n",
    "metrics = [avg_thresh_f1s, t_ps, t_rs]\n",
    "# styles = \t['solid' | 'dashed', 'dashdot', 'dotted' |\n",
    "styles = ['solid', 'dashed', 'dotted']\n",
    "\n",
    "\n",
    "# for i,key_points in enumerate(all_points):\n",
    "\n",
    "for i in range(len(names)):\n",
    "    name = names[i]\n",
    "    x = thresholds\n",
    "    y = metrics[i]\n",
    "#     ax.scatter(x, y, s=70, c='red')\n",
    "    plt.plot(x, y, 'k', label=name, linewidth=4.0, ls=styles[i])\n",
    "    \n",
    "    plt.ylim([0.3,0.7])\n",
    "    plt.xlim([0.0, .5])\n",
    "\n",
    "    \n",
    "    \n",
    "# fig.suptitle('test title')\n",
    "plt.xlabel('Alignment Weight Threshold', fontsize=28)\n",
    "plt.setp(ax.get_xticklabels(), fontsize=20)\n",
    "plt.setp(ax.get_yticklabels(), fontsize=20)\n",
    "ax.set_yticks(ax.get_yticks()[1:])\n",
    "\n",
    "# plt.setp(ax.get_xticklabels(), rotation='vertical', fontsize=14)\n",
    "# plt.ylabel('ylabel', fontsize=16)\n",
    "plt.legend()\n",
    "plt.legend(frameon=False)\n",
    "plt.legend(loc = 'upper left')\n"
   ]
  },
  {
   "cell_type": "code",
   "execution_count": 20,
   "metadata": {
    "collapsed": false
   },
   "outputs": [
    {
     "data": {
      "text/plain": [
       "array([ 0.        ,  0.11111111,  0.22222222,  0.33333333,  0.44444444,\n",
       "        0.55555556,  0.66666667,  0.77777778,  0.88888889,  1.        ])"
      ]
     },
     "execution_count": 20,
     "metadata": {},
     "output_type": "execute_result"
    }
   ],
   "source": [
    "thresholds"
   ]
  },
  {
   "cell_type": "code",
   "execution_count": null,
   "metadata": {
    "collapsed": true
   },
   "outputs": [],
   "source": [
    "thresholds = np.linspace"
   ]
  },
  {
   "cell_type": "code",
   "execution_count": 17,
   "metadata": {
    "collapsed": false
   },
   "outputs": [
    {
     "name": "stdout",
     "output_type": "stream",
     "text": [
      "raw_f1s: 0.244294277012, raw_p: 0.245880568086, raw_r: 0.244141178125\n",
      "max f1s: 0.19325586391, max_p: 0.56001529052, max_r: 0.141309311685\n"
     ]
    }
   ],
   "source": [
    "# compare IMT F1 over matching hyps vs raw hyps\n",
    "raw_f1s, raw_p, raw_r = tuple(np.mean(m) for m in zip(*[imt_f1(h,r) for h,r in zip(hyp_lines,ref_lines)]))\n",
    "max_f1s, max_p, max_r = tuple(np.mean(m) for m in zip(*[imt_f1(h,r) for h,r in zip(pruned_hyps,ref_lines)]))\n",
    "\n",
    "print('raw_f1s: {}, raw_p: {}, raw_r: {}'.format(raw_f1s, raw_p, raw_r))\n",
    "print('max f1s: {}, max_p: {}, max_r: {}'.format(max_f1s, max_p, max_r))"
   ]
  },
  {
   "cell_type": "code",
   "execution_count": null,
   "metadata": {
    "collapsed": true
   },
   "outputs": [],
   "source": [
    "# now plot p, r, and f1 against alignment thresholds"
   ]
  },
  {
   "cell_type": "code",
   "execution_count": 16,
   "metadata": {
    "collapsed": false
   },
   "outputs": [
    {
     "data": {
      "text/plain": [
       "218"
      ]
     },
     "execution_count": 16,
     "metadata": {},
     "output_type": "execute_result"
    }
   ],
   "source": [
    "len(pruned_hyps)"
   ]
  },
  {
   "cell_type": "code",
   "execution_count": null,
   "metadata": {
    "collapsed": true
   },
   "outputs": [],
   "source": [
    "# WORKING: for each target word, print the closest aligned source word\n",
    "window_size = 1\n",
    "top_n = 3\n",
    "for i,t_seq in enumerate(trans):\n",
    "    for j,w in enumerate(t_seq):\n",
    "        weights_ij = glimpses[i][j]\n",
    "        normed_weights = numpy.exp(weights_ij) / numpy.sum(numpy.exp(weights_ij))\n",
    "        aligned_word = numpy.argmax(weights_ij)\n",
    "        top_n_aligned_words = numpy.argsort(weights_ij)[::-1][:top_n]\n",
    "        top_n_aligned_weights = weights_ij[top_n_aligned_words]\n",
    "        percent_of_best = top_n_aligned_weights / top_n_aligned_weights[0]\n",
    "        best_weight = top_n_aligned_weights[0]\n",
    "        avg_weight = numpy.mean(weights_ij)\n",
    "        best_avg_percent = avg_weight / best_weight\n",
    "        top_n_src_idxs = [seq[s] for s in top_n_aligned_words]\n",
    "        src_aligned_idx_window = seq[aligned_word-window_size:aligned_word+window_size+1]\n",
    "        print('aligned window: {}'.format((self.trg_ivocab[w], [self.src_ivocab[sw] for sw in src_aligned_idx_window])))\n",
    "        print('top n aligned: {}'.format((self.trg_ivocab[w], [self.src_ivocab[sw] for sw in top_n_src_idxs])))\n",
    "        print('percent from best: {}'.format(percent_of_best))\n",
    "        # print('normed weights: {}'.format(weights_ij / numpy.sum(weights_ij)))\n",
    "        # print('weight distribution: {}'.format(normed_weights))\n",
    "import ipdb;ipdb.set_trace()"
   ]
  },
  {
   "cell_type": "code",
   "execution_count": null,
   "metadata": {
    "collapsed": true
   },
   "outputs": [],
   "source": []
  },
  {
   "cell_type": "code",
   "execution_count": 16,
   "metadata": {
    "collapsed": false
   },
   "outputs": [
    {
     "data": {
      "text/plain": [
       "16"
      ]
     },
     "execution_count": 16,
     "metadata": {},
     "output_type": "execute_result"
    }
   ],
   "source": [
    "len(glimpses[20])"
   ]
  },
  {
   "cell_type": "code",
   "execution_count": 10,
   "metadata": {
    "collapsed": true
   },
   "outputs": [],
   "source": [
    "assert len(hyp_lines) == len(ref_lines) == len(glimpses)"
   ]
  },
  {
   "cell_type": "code",
   "execution_count": null,
   "metadata": {
    "collapsed": true
   },
   "outputs": [],
   "source": [
    "# Notes BUFFER\n",
    "# Create the stream used to train a prediction confidence model\n",
    "\n",
    "# For the baseline, use the thresholded output probability of the word (i.e. the score given the history)\n",
    "\n",
    "# predict each segement, write out the cost for each word to file\n",
    "\n",
    "# do post-processing similar to glimpses for each word\n",
    "\n",
    "\n",
    "# NOTE: ambiguity, aka word-fertility is a consideration here -- \n",
    "# model should intuitively have lower confidence at positions which are ambiguous  \n",
    "\n",
    "# TODO: visualize confidence heatmap over outputs\n",
    "# TODO: What about forced decoding? how can we get the states, glimpses, and costs for a force-decoded input?"
   ]
  }
 ],
 "metadata": {
  "kernelspec": {
   "display_name": "Python 2",
   "language": "python",
   "name": "python2"
  },
  "language_info": {
   "codemirror_mode": {
    "name": "ipython",
    "version": 2
   },
   "file_extension": ".py",
   "mimetype": "text/x-python",
   "name": "python",
   "nbconvert_exporter": "python",
   "pygments_lexer": "ipython2",
   "version": "2.7.12"
  }
 },
 "nbformat": 4,
 "nbformat_minor": 1
}
