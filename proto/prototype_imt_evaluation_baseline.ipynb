{
 "cells": [
  {
   "cell_type": "code",
   "execution_count": 1,
   "metadata": {
    "collapsed": true
   },
   "outputs": [],
   "source": [
    "# read parallel dataset, generate all suffixes, and write to file"
   ]
  },
  {
   "cell_type": "code",
   "execution_count": 1,
   "metadata": {
    "collapsed": false
   },
   "outputs": [
    {
     "name": "stderr",
     "output_type": "stream",
     "text": [
      "Using gpu device 0: GeForce GTX TITAN X (CNMeM is disabled, cuDNN 4007)\n"
     ]
    }
   ],
   "source": [
    "import codecs\n",
    "\n",
    "import numpy as np\n",
    "\n",
    "from nn_imt.stream import imt_f1, map_pair_to_imt_triples\n"
   ]
  },
  {
   "cell_type": "code",
   "execution_count": 2,
   "metadata": {
    "collapsed": true
   },
   "outputs": [],
   "source": [
    "source_file = '/media/1tb_drive/multilingual-multimodal/flickr30k/test/test.en.tok'\n",
    "reference_file = '/media/1tb_drive/multilingual-multimodal/flickr30k/test/test.de.tok'\n",
    "\n",
    "suffix_temporary_file = '/media/1tb_drive/multilingual-multimodal/flickr30k/test/imt_suffixes.de.tok.tmp'\n",
    "translated_output_file = '/media/1tb_drive/multilingual-multimodal/flickr30k/train/processed/test.imt_PROTO-DELETE-ME.30.x.hyps.out'\n",
    "\n",
    "# your desired path to the translated output file, or an already-translated file that you just want to evaluate\n",
    "#'translated_output_file': '/media/1tb_drive/multilingual-multimodal/flickr30k/train/processed/dev.multimodal-summed.30.x.hyps.out'\n",
    "\n"
   ]
  },
  {
   "cell_type": "code",
   "execution_count": 3,
   "metadata": {
    "collapsed": false
   },
   "outputs": [],
   "source": [
    "# WORKING:\n",
    "with codecs.open(source_file, encoding='utf8') as srcs:\n",
    "    with codecs.open(reference_file, encoding='utf8') as refs:\n",
    "        with codecs.open(suffix_temporary_file, 'w', encoding='utf8') as ref_tmp:\n",
    "            # map (source, ref) to [(source, prefix, suffix)]\n",
    "            source_lines = srcs.read().strip().split('\\n')\n",
    "            ref_lines = refs.read().strip().split('\\n')\n",
    "            assert len(source_lines) == len(ref_lines), 'Source and reference files must be the same length'\n",
    "            for i, instance in enumerate(zip(source_lines, ref_lines)):\n",
    "#                 logger.info(\"Generating reference suffixes for line: {}\".format(i))\n",
    "\n",
    "                # TODO: tokenization is not currently implemented -- assumes whitespace tokenization!!!\n",
    "                # Right now, tokenization happens in self.map_idx_or_unk if predict_segment is passed a string\n",
    "                source_seq = instance[0].split()\n",
    "                target_seq = instance[1].split()\n",
    "\n",
    "                # map to triples\n",
    "                imt_triples = map_pair_to_imt_triples(source_seq, target_seq)\n",
    "\n",
    "                # the first instance contains the empty prefix, the last instance contains the empty suffix\n",
    "                # HACK: pop the first item until a fix for empty prefix is implemented\n",
    "                imt_triples = imt_triples[1:]\n",
    "\n",
    "#                 print(imt_triples)\n",
    "                \n",
    "                # write each line in the reference suffixes to a file\n",
    "                srcs, prefixes, suffixes = zip(*imt_triples)\n",
    "#                 print(suffixes)\n",
    "                \n",
    "                # map back to whitespace-tokenized string\n",
    "                suffixes = [' '.join(s) for s in suffixes]\n",
    "                \n",
    "                ref_tmp.write('\\n'.join(suffixes) + '\\n')\n",
    "            \n",
    "\n",
    "                ################\n",
    "\n",
    "#         logger.info(\"Saved translated output to: {}\".format(ftrans.name))\n",
    "#         logger.info(\"Total cost of the test: {}\".format(total_cost))\n",
    "#         ftrans.close()\n",
    "\n",
    "#         return output_file"
   ]
  },
  {
   "cell_type": "code",
   "execution_count": 4,
   "metadata": {
    "collapsed": false
   },
   "outputs": [
    {
     "name": "stdout",
     "output_type": "stream",
     "text": [
      "6551\n",
      "6551\n"
     ]
    }
   ],
   "source": [
    "\n",
    "with codecs.open(translated_output_file, encoding='utf8') as hyps:\n",
    "    with codecs.open(suffix_temporary_file, encoding='utf8') as refs:\n",
    "        hyp_lines = hyps.read().strip().split('\\n')\n",
    "        ref_lines = refs.read().strip().split('\\n')\n",
    "        print(len(ref_lines))\n",
    "        \n",
    "#         last line of each hyp set is currently '</S> .', remove this -- corresponding ref line is empty\n",
    "        hyp_lines = hyp_lines[:-1]\n",
    "        print(len(hyp_lines))\n",
    "        hyp_lines = ['' if h == '</S> .' else h for h in hyp_lines]\n",
    "        assert len(hyp_lines) == len(ref_lines), 'Source and reference files must be the same length'\n",
    "        \n",
    "        # split into lists of tokens\n",
    "        hyp_lines = [s.split() for s in hyp_lines]\n",
    "        ref_lines = [s.split() for s in ref_lines]\n",
    "\n",
    "# ref_lines[:30]    "
   ]
  },
  {
   "cell_type": "code",
   "execution_count": 5,
   "metadata": {
    "collapsed": true
   },
   "outputs": [],
   "source": [
    "def truncate_lines(l_of_l, cutoff):\n",
    "    return [l[:cutoff] for l in l_of_l]"
   ]
  },
  {
   "cell_type": "code",
   "execution_count": 6,
   "metadata": {
    "collapsed": false
   },
   "outputs": [
    {
     "name": "stdout",
     "output_type": "stream",
     "text": [
      "[0.26384104957537668, 0.57441611967638528, 0.21701206532940204]\n",
      "[0.31296896680141767, 0.49282552282094338, 0.26792026363039123]\n",
      "[0.32802198957082745, 0.43754134228870906, 0.29196760361793045]\n",
      "[0.33121043275661216, 0.40023151681677105, 0.3042693759580124]\n",
      "[0.3301289858658632, 0.37519717091538191, 0.31044147027893465]\n",
      "[0.3277343346118316, 0.35822266320663515, 0.3134671382456144]\n",
      "[0.32535004152067509, 0.34683581568789934, 0.3150204061132586]\n",
      "[0.32340657560800573, 0.33931242776457249, 0.31584944104021428]\n",
      "[0.32203701145571201, 0.33455700450434078, 0.31630637045006516]\n"
     ]
    }
   ],
   "source": [
    "thresholds = range(1,10)\n",
    "imt_f1_threshold_scores = []\n",
    "\n",
    "for threshold in thresholds:\n",
    "    threshold_hyps = truncate_lines(hyp_lines, threshold)\n",
    "    imt_scores = [imt_f1(hyp, ref) for hyp, ref in zip(threshold_hyps, ref_lines)]\n",
    "    # f1, precision, recall\n",
    "    scores_at_t = [np.mean(s) for s in zip(*imt_scores)]\n",
    "    print(scores_at_t)\n",
    "    imt_f1_threshold_scores.append(scores_at_t)"
   ]
  },
  {
   "cell_type": "code",
   "execution_count": 7,
   "metadata": {
    "collapsed": false
   },
   "outputs": [],
   "source": [
    "# now graph f1, precision, recall over threshold\n",
    "\n",
    "%matplotlib inline\n",
    "%load_ext autoreload\n",
    "%autoreload 2\n",
    "\n",
    "import matplotlib\n",
    "import numpy as np\n",
    "import matplotlib.pyplot as plt\n",
    "\n",
    "import pylab\n",
    "pylab.rcParams['figure.figsize'] = (14.0, 12.0)"
   ]
  },
  {
   "cell_type": "code",
   "execution_count": 8,
   "metadata": {
    "collapsed": false
   },
   "outputs": [
    {
     "data": {
      "text/plain": [
       "<matplotlib.legend.Legend at 0x7faac92b6710>"
      ]
     },
     "execution_count": 8,
     "metadata": {},
     "output_type": "execute_result"
    },
    {
     "data": {
      "image/png": "[encoded data removed]",
      "text/plain": [
       "<matplotlib.figure.Figure at 0x7faac92b6750>"
      ]
     },
     "metadata": {},
     "output_type": "display_data"
    }
   ],
   "source": [
    "fig, ax = plt.subplots()\n",
    "\n",
    "names = ['imt_f1_score', 'precision', 'recall']\n",
    "metrics = zip(*imt_f1_threshold_scores)\n",
    "# for i,key_points in enumerate(all_points):\n",
    "\n",
    "for i in range(len(names)):\n",
    "    name = names[i]\n",
    "    x = thresholds\n",
    "    y = metrics[i]\n",
    "    ax.scatter(x, y, s=70, c='red')\n",
    "    plt.plot(x, y, label=name)\n",
    "    \n",
    "\n",
    "plt.legend()"
   ]
  },
  {
   "cell_type": "code",
   "execution_count": 13,
   "metadata": {
    "collapsed": false
   },
   "outputs": [
    {
     "data": {
      "text/plain": [
       "[1, 2, 3, 4, 5, 6, 7, 8, 9]"
      ]
     },
     "execution_count": 13,
     "metadata": {},
     "output_type": "execute_result"
    }
   ],
   "source": [
    "thresholds"
   ]
  },
  {
   "cell_type": "code",
   "execution_count": 14,
   "metadata": {
    "collapsed": false
   },
   "outputs": [
    {
     "data": {
      "text/plain": [
       "0.32075105789557112"
      ]
     },
     "execution_count": 14,
     "metadata": {},
     "output_type": "execute_result"
    }
   ],
   "source": [
    "# now compute f1_imt for each hyp, ref_suffix pair\n",
    "imt_scores = [imt_f1(hyp, ref) for hyp, ref in zip(hyp_lines, ref_lines)]\n",
    "np.mean(imt_scores)"
   ]
  },
  {
   "cell_type": "code",
   "execution_count": 16,
   "metadata": {
    "collapsed": false
   },
   "outputs": [
    {
     "data": {
      "text/plain": [
       "6551"
      ]
     },
     "execution_count": 16,
     "metadata": {},
     "output_type": "execute_result"
    }
   ],
   "source": [
    "len(imt_scores)"
   ]
  },
  {
   "cell_type": "code",
   "execution_count": null,
   "metadata": {
    "collapsed": true
   },
   "outputs": [],
   "source": []
  }
 ],
 "metadata": {
  "kernelspec": {
   "display_name": "Python 2",
   "language": "python",
   "name": "python2"
  },
  "language_info": {
   "codemirror_mode": {
    "name": "ipython",
    "version": 2
   },
   "file_extension": ".py",
   "mimetype": "text/x-python",
   "name": "python",
   "nbconvert_exporter": "python",
   "pygments_lexer": "ipython2",
   "version": "2.7.12"
  }
 },
 "nbformat": 4,
 "nbformat_minor": 0
}
