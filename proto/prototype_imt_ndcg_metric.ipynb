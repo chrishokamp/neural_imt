{
 "cells": [
  {
   "cell_type": "code",
   "execution_count": 2,
   "metadata": {
    "collapsed": false
   },
   "outputs": [
    {
     "name": "stderr",
     "output_type": "stream",
     "text": [
      "Using gpu device 0: GeForce GTX TITAN X (CNMeM is disabled, cuDNN 4007)\n"
     ]
    }
   ],
   "source": [
    "# evaluate an IMT system on a ranked version of the IMT F1 metric\n",
    "import codecs\n",
    "\n",
    "import numpy as np\n",
    "\n",
    "from nn_imt.stream import imt_f1, map_pair_to_imt_triples"
   ]
  },
  {
   "cell_type": "code",
   "execution_count": 3,
   "metadata": {
    "collapsed": true
   },
   "outputs": [],
   "source": [
    "# WORKING: add a function to compute ranked NDCG -- add a demo evaluation using an n-best list"
   ]
  },
  {
   "cell_type": "markdown",
   "metadata": {},
   "source": [
    "\n",
    "$ DCG_{r} = \\sum_{i=1}^{r} \\frac{2^{rel_{i}} - 1}{log_{2}(i+1)} $\n"
   ]
  },
  {
   "cell_type": "code",
   "execution_count": 29,
   "metadata": {
    "collapsed": false
   },
   "outputs": [
    {
     "data": {
      "text/plain": [
       "1.0"
      ]
     },
     "execution_count": 29,
     "metadata": {},
     "output_type": "execute_result"
    }
   ],
   "source": [
    "(2**1 - 1) / np.log2(2)"
   ]
  },
  {
   "cell_type": "code",
   "execution_count": 45,
   "metadata": {
    "collapsed": false
   },
   "outputs": [],
   "source": [
    "def dcg(scores):\n",
    "    num_scores = len(scores)\n",
    "    assert num_scores > 0, 'you must pass a 1d iterable containing at least one score'\n",
    "    \n",
    "    scaled_scores = []\n",
    "    for s,i in zip(scores, range(1, num_scores+1)):\n",
    "        scaled_score = ((2**s) - 1) / np.log2(i+1)\n",
    "        scaled_scores.append(scaled_score)\n",
    "    return np.sum(scaled_scores)"
   ]
  },
  {
   "cell_type": "markdown",
   "metadata": {},
   "source": [
    "# now add a function to compute idcg\n",
    "In order to make this score comparable across different $(s_{i}, t_{i})$ queries, \n",
    "we normalize $ DCG_{r} $ by the `ideal' ranking at $ r $: ($ IDCG_{r} $), by sorting all predictions \n",
    "by their score from equation~\\ref{eq:imt-f1}, and obtain the normalized score:\n",
    "\n",
    "$ \\mathbf{NDCG_{r}} = \\frac{DCG_{r}}{IDCG_{r}} $\n"
   ]
  },
  {
   "cell_type": "code",
   "execution_count": 46,
   "metadata": {
    "collapsed": true
   },
   "outputs": [],
   "source": [
    "def ndcg(scores):\n",
    "    ideal_dcg = dcg(sorted(scores, reverse=True))\n",
    "    normed_cdg = dcg(scores) / ideal_dcg\n",
    "    return normed_cdg"
   ]
  },
  {
   "cell_type": "code",
   "execution_count": 47,
   "metadata": {
    "collapsed": false
   },
   "outputs": [
    {
     "data": {
      "text/plain": [
       "[0.7, 0.4, 0.2]"
      ]
     },
     "execution_count": 47,
     "metadata": {},
     "output_type": "execute_result"
    }
   ],
   "source": [
    "sorted([0.7,0.4,0.2], reverse=True)"
   ]
  },
  {
   "cell_type": "code",
   "execution_count": 48,
   "metadata": {
    "collapsed": false
   },
   "outputs": [
    {
     "data": {
      "text/plain": [
       "1.0"
      ]
     },
     "execution_count": 48,
     "metadata": {},
     "output_type": "execute_result"
    }
   ],
   "source": [
    "ndcg([0.7,0.4,0.2])"
   ]
  },
  {
   "cell_type": "code",
   "execution_count": 49,
   "metadata": {
    "collapsed": false
   },
   "outputs": [
    {
     "data": {
      "text/plain": [
       "0.87498873088320561"
      ]
     },
     "execution_count": 49,
     "metadata": {},
     "output_type": "execute_result"
    }
   ],
   "source": [
    "ndcg([0.4,0.7,0.2,])"
   ]
  },
  {
   "cell_type": "code",
   "execution_count": 51,
   "metadata": {
    "collapsed": false
   },
   "outputs": [
    {
     "name": "stdout",
     "output_type": "stream",
     "text": [
      "(0.7, 0.4, 0.2)\n",
      "1.0\n",
      "(0.7, 0.2, 0.4)\n",
      "0.975163222679\n",
      "(0.4, 0.7, 0.2)\n",
      "0.874988730883\n",
      "(0.4, 0.2, 0.7)\n",
      "0.80580350007\n",
      "(0.2, 0.7, 0.4)\n",
      "0.78014101047\n",
      "(0.2, 0.4, 0.7)\n",
      "0.735792556977\n",
      "(0.7, 0.4)\n",
      "1.0\n",
      "(0.4, 0.7)\n",
      "0.863737578668\n"
     ]
    }
   ],
   "source": [
    "import itertools\n",
    "l = [0.7,0.4,0.2]\n",
    "tl = itertools.permutations(l)\n",
    "\n",
    "for t in tl:\n",
    "    print(t)\n",
    "    print(ndcg(t))\n",
    "    \n",
    "l = [0.7,0.4]\n",
    "tl = itertools.permutations(l)\n",
    "\n",
    "for t in tl:\n",
    "    print(t)\n",
    "    print(ndcg(t))"
   ]
  },
  {
   "cell_type": "code",
   "execution_count": 5,
   "metadata": {
    "collapsed": false
   },
   "outputs": [
    {
     "data": {
      "text/plain": [
       "-inf"
      ]
     },
     "execution_count": 5,
     "metadata": {},
     "output_type": "execute_result"
    }
   ],
   "source": [
    "np.log(0)"
   ]
  },
  {
   "cell_type": "code",
   "execution_count": null,
   "metadata": {
    "collapsed": true
   },
   "outputs": [],
   "source": []
  }
 ],
 "metadata": {
  "kernelspec": {
   "display_name": "Python 2",
   "language": "python",
   "name": "python2"
  },
  "language_info": {
   "codemirror_mode": {
    "name": "ipython",
    "version": 2
   },
   "file_extension": ".py",
   "mimetype": "text/x-python",
   "name": "python",
   "nbconvert_exporter": "python",
   "pygments_lexer": "ipython2",
   "version": "2.7.11"
  }
 },
 "nbformat": 4,
 "nbformat_minor": 0
}
