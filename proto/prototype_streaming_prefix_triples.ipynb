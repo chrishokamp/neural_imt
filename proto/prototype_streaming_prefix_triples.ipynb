{
 "cells": [
  {
   "cell_type": "code",
   "execution_count": 1,
   "metadata": {
    "collapsed": true
   },
   "outputs": [],
   "source": [
    "# create a Fuel stream which takes pairs of (source, target)\n",
    "# and converts them into (len(source_sentence) + 1) triples of (source, prefix, completion),\n",
    "#      at training time, take the (source, prefix) inputs, and sample N\n",
    "# system should also be able to propose just the 'EOS </S>' token -- if the target prefix looks like \n",
    "# the correct hypothesis, do nothing\n",
    "\n",
    "# include direct machine translation as the '0' output -- given the <S> token,\n",
    "# the system first presents a full hypothesis\n",
    "\n",
    "# TODO: make sure <S> and </S> are correctly handled in beam search and evaluation\n",
    "\n",
    "# WORKING: new evaluation metric, implemented as \n",
    "# `from machine_translation.evaluation import sentence_level_bleu`\n",
    "\n",
    "# to evaluate the model on new data, we need three parallel files (sources, prefixes, reference_completions)\n",
    "# when writing the output of the model, we output N completions per input, and separate the N outputs for each\n",
    "# input by a blank line -- similar to WMT QE feature format\n",
    "\n",
    "# for each line, compute the score, then average all of them to get the score for the dataset\n",
    "\n",
    "# notes on baselines\n",
    "# we should evaluate both F1 as in Ueffing and Ney, and NCDG for ranking\n",
    "#     - plain F1 is the primary metric, since this fits a wider range of usecases\n",
    "# the easiest baseline is to ignore the target prefix completely, and just generate a full hypothesis for the source\n",
    "# - if the target prefix matches the prefix of the hypothesis, compute f1 as usual"
   ]
  },
  {
   "cell_type": "code",
   "execution_count": 2,
   "metadata": {
    "collapsed": true
   },
   "outputs": [],
   "source": [
    "import os\n",
    "\n",
    "import logging\n",
    "logging.basicConfig()\n",
    "logger = logging.getLogger(__name__)"
   ]
  },
  {
   "cell_type": "code",
   "execution_count": 3,
   "metadata": {
    "collapsed": false
   },
   "outputs": [],
   "source": [
    "logger.setLevel(logging.DEBUG)"
   ]
  },
  {
   "cell_type": "code",
   "execution_count": 4,
   "metadata": {
    "collapsed": true
   },
   "outputs": [],
   "source": [
    "def imt_f1(hyp, ref):\n",
    "    \"\"\"\n",
    "    compute Ueffing and Ney F1 for IMT\n",
    "    \n",
    "    Note that this function is agnostic about its inputs, as long as they\n",
    "    are sequences. Thus the metric can be computed for sequences of characters, \n",
    "    words, phrases, etc...\n",
    "    \n",
    "    \"\"\"\n",
    "    \n",
    "    # if both are empty, this is a perfect match\n",
    "    if len(hyp) == 0 and len(ref) == 0:\n",
    "        return 1.\n",
    "    \n",
    "    match_len = float(0)\n",
    "    hyp_len = float(len(hyp))\n",
    "    ref_len = float(len(ref))\n",
    "    for h_sym, r_sym in zip(hyp, ref):\n",
    "        if h_sym == r_sym:\n",
    "            match_len += 1.\n",
    "        else:\n",
    "            break\n",
    "    \n",
    "    if match_len == 0:\n",
    "        return 0.\n",
    "    \n",
    "    # ratio of characters in the prediction which are correct (low if prefix is too long)\n",
    "    precision = match_len / hyp_len        \n",
    "        \n",
    "    # ratio of coverage of the reference (low if prefix is too short)\n",
    "    recall = match_len / ref_len\n",
    "    return 2 * ((precision * recall) / (precision + recall))"
   ]
  },
  {
   "cell_type": "code",
   "execution_count": 5,
   "metadata": {
    "collapsed": false
   },
   "outputs": [
    {
     "data": {
      "text/plain": [
       "0.9333333333333333"
      ]
     },
     "execution_count": 5,
     "metadata": {},
     "output_type": "execute_result"
    }
   ],
   "source": [
    "imt_f1('a sand', 'a sandwich made of gold')\n",
    "# imt_f1('fish sandwich', 'a sandwich')\n",
    "\n",
    "imt_f1('', '')\n",
    "imt_f1('a sandw', 'a sandwi')"
   ]
  },
  {
   "cell_type": "code",
   "execution_count": 6,
   "metadata": {
    "collapsed": false
   },
   "outputs": [],
   "source": [
    "def map_pair_to_imt_triples(source, reference, bos_token=None, eos_token=None):\n",
    "    \"\"\"\n",
    "    Map a (source, reference) pair into (len(actual_reference) + 2) new examples\n",
    "    \n",
    "    Assumes that users always want the empty prefix at the beginning of the generated examples\n",
    "    (i.e. ask the system for the full hypothesis) and the empty suffix (i.e. ask the system for nothing)\n",
    "    at the end of the generated examples\n",
    "    \n",
    "    By passing None for bos_token or eos_token, user indicates that these tokens have already\n",
    "    been prepended or appended to the reference\n",
    "    \n",
    "    \"\"\"\n",
    "    \n",
    "    start_index = 0\n",
    "    if bos_token is not None:\n",
    "        assert reference[0] == bos_token\n",
    "        start_index = 1\n",
    "        \n",
    "    end_index = len(reference) + 1\n",
    "    if eos_token is not None:\n",
    "        assert reference[-1] == eos_token\n",
    "        end_index -= 1\n",
    "    \n",
    "    prefixes, suffixes = zip(*[(reference[:i], reference[i:]) for i in range(start_index, end_index)])\n",
    "    sources = [source for _ in range(end_index - start_index)]\n",
    "    \n",
    "    assert len(sources) == len(prefixes) == len(suffixes), 'All components must have the same length'\n",
    "    \n",
    "    return zip(sources, prefixes, suffixes)\n",
    "    \n",
    "\n",
    "# WORKING: \n",
    "# - change the NMTPredictor to IMTPredictor -- change its loading and parsing to convert the dataset\n",
    "# to imt format on the fly\n",
    "# - also print some statistics about the dataset for sanity\n",
    "\n",
    "# This function is only needed at evaluation time\n",
    "\n",
    "def map_parallel_dataset_to_imt_dataset(source_file, reference_file, bos_token=None, eos_token=None):\n",
    "    \"\"\"\n",
    "    Take a whitespace-delimited parallel dataset, \n",
    "    map each (source, target) pair into (target_length) triples of (source, prefix, completion). \n",
    "    \n",
    "    # Working here:\n",
    "    Note that target_length only applies when BOS and EOS tokens\n",
    "    are not none\n",
    "\n",
    "    \n",
    "    if bos_token is not None, prepend it to target sequence\n",
    "    \n",
    "    if eos_token is not None, append it to target sequence\n",
    "    \n",
    "    \"\"\"\n",
    "    \n",
    "#     WORKING\n",
    "# (1) open source file\n",
    "# (2) split source file into tokens\n",
    "# (3) map tokens to \n",
    "    \n",
    "#        with codecs.open(input_file) as inp:\n",
    "#             for i, line in enumerate(inp.read().strip().split('\\n')):\n",
    "    \n",
    "    \n",
    "    pass"
   ]
  },
  {
   "cell_type": "code",
   "execution_count": 7,
   "metadata": {
    "collapsed": true
   },
   "outputs": [],
   "source": [
    "# WORKING: \n",
    "# - IMT evaluation like in NMT with baseline NMT system\n",
    "# - Simplest baseline: threshold prefixes to a maximum number of words\n",
    "# - remember that evaluation can take a long time, since we are greatly expanding the number of instances for IMT"
   ]
  },
  {
   "cell_type": "code",
   "execution_count": 8,
   "metadata": {
    "collapsed": false
   },
   "outputs": [],
   "source": [
    "# Sample config for test experiments\n",
    "BASEDIR='/media/1tb_drive/multilingual-multimodal/flickr30k/train/processed/BERTHA-TEST_Adam_wmt-multimodal_internal_data_'+\\\n",
    "    'dropout0.3_ff_noiseFalse_search_model_en2es_vocab20000_emb300_rec800_batch15/'\n",
    "\n",
    "exp_config = {\n",
    "    'src_vocab_size': 20000,\n",
    "    'trg_vocab_size': 20000,\n",
    "    'enc_embed': 300,\n",
    "    'dec_embed': 300,\n",
    "    'enc_nhids': 800,\n",
    "    'dec_nhids': 800,\n",
    "#     'saved_parameters': '/home/chris/projects/neural_mt/archived_models/BERTHA-TEST_Adam_wmt-multimodal_internal_data_dropout'+\\\n",
    "#     '0.3_ff_noiseFalse_search_model_en2es_vocab20000_emb300_rec800_batch15/best_bleu_model_1455464992_BLEU31.61.npz',\n",
    "    'src_vocab': os.path.join(BASEDIR, 'vocab.en-de.en.pkl'),\n",
    "    'trg_vocab': os.path.join(BASEDIR, 'vocab.en-de.de.pkl'),\n",
    "#     'src_data': '/home/chris/projects/neural_mt/archived_models/BERTHA-TEST_Adam_wmt-multimodal_internal_data_dropout'+\\\n",
    "#     '0.3_ff_noiseFalse_search_model_en2es_vocab20000_emb300_rec800_batch15/training_data/train.en.tok.shuf',\n",
    "#     'trg_data': '/home/chris/projects/neural_mt/archived_models/BERTHA-TEST_Adam_wmt-multimodal_internal_data_dropout'+\\\n",
    "#     '0.3_ff_noiseFalse_search_model_en2es_vocab20000_emb300_rec800_batch15/training_data/train.de.tok.shuf',\n",
    "    'unk_id':1,\n",
    "    # Bleu script that will be used (moses multi-perl in this case)\n",
    "    'bleu_script': '/home/chris/projects/neural_mt/test_data/sample_experiment/tiny_demo_dataset/multi-bleu.perl',\n",
    "    # Optimization related ----------------------------------------------------\n",
    "    # Batch size\n",
    "    'batch_size': 5,\n",
    "    # This many batches will be read ahead and sorted\n",
    "    'sort_k_batches': 1,\n",
    "    # Optimization step rule\n",
    "    'step_rule': 'AdaDelta',\n",
    "    # Gradient clipping threshold\n",
    "    'step_clipping': 1.,\n",
    "    # Std of weight initialization\n",
    "    'weight_scale': 0.01,\n",
    "    'seq_len': 40,\n",
    "    'finish_after': 100,\n",
    "    \n",
    "    # WORKING: add config for evaluation with IMT model -- follow NMT evaluation config\n",
    "\n",
    "    ##############                                                                                  \n",
    "    # PREDICTION #                                                                                              \n",
    "    ##############      \n",
    "    'prefix_decoding': True,\n",
    "    'brick_delimiter': '-',\n",
    "    'beam_size': 10,\n",
    "    'normalized_bleu': True,\n",
    "\n",
    "    # Note we _do not_ need the target_prefixes, since these are generated on the fly\n",
    "\n",
    "    'source_lang': 'en',                                                                                                    \n",
    "    'target_lang': 'de',                                                                                                                 \n",
    "\n",
    "    'n_best': 1,                                                                                                                                 \n",
    "\n",
    "    # path to the moses perl script for tokenization                                                                                    \n",
    "    'tokenize_script': None,                                                                                                                                \n",
    "    # path to the moses perl script for detokenization                                                                                              \n",
    "    'detokenize_script': None,                                                                                                                              \n",
    "\n",
    "    # The location of the saved parameters of a trained model as .npz                                                                       \n",
    "    # TODO: model save directory is currently misnamed -- switch to yaml configs with good model names                          \n",
    "    'saved_parameters': '/media/1tb_drive/multilingual-multimodal/flickr30k/train/processed/BERTHA-TEST_Adam_wmt-multimodal_internal_data_'+\\\n",
    "    'dropout0.3_ff_noiseFalse_search_model_en2es_vocab20000_emb300_rec800_batch15/'+\\\n",
    "    'best_bleu_model_1455464992_BLEU31.61.npz',\n",
    "                                                                                                                                                           \n",
    "                                                                                                                                                        \n",
    "    # The location of a test set in the source language                                                                                                             \n",
    "    'test_set': '/media/1tb_drive/multilingual-multimodal/flickr30k/test/test.en.tok',                                   \n",
    "    #'test_set': '/media/1tb_drive/multilingual-multimodal/flickr30k/train/processed/dev.en.tok'                                                        \n",
    "                                                                                                                            \n",
    "    # your desired path to the translated output file, or an already-translated file that you just want to evaluate                                           \n",
    "    'translated_output_file': '/media/1tb_drive/multilingual-multimodal/flickr30k/train/processed/test.imt_PROTO-DELETE-ME.30.x.hyps.out',         \n",
    "    #'translated_output_file': '/media/1tb_drive/multilingual-multimodal/flickr30k/train/processed/dev.multimodal-summed.30.x.hyps.out'             \n",
    "                                                                                                                                                            \n",
    "    # The location of the gold standard references for the test set (for evaluation mode only)                                                  \n",
    "    'test_gold_refs': '/media/1tb_drive/multilingual-multimodal/flickr30k/test/test.de.tok', \n",
    "    \n",
    "    # if the config contains this key, meteor will also be computed                                                                                                          │\n",
    "    'meteor_directory': '/home/chris/programs/meteor-1.5'   \n",
    "}"
   ]
  },
  {
   "cell_type": "code",
   "execution_count": 9,
   "metadata": {
    "collapsed": false
   },
   "outputs": [
    {
     "name": "stderr",
     "output_type": "stream",
     "text": [
      "Using gpu device 0: GeForce GTX TITAN X (CNMeM is disabled, cuDNN 4007)\n"
     ]
    }
   ],
   "source": [
    "from __future__ import print_function\n",
    "import argparse\n",
    "import logging\n",
    "import pprint\n",
    "import codecs\n",
    "import re\n",
    "import os\n",
    "import time\n",
    "from subprocess import Popen, PIPE, check_output\n",
    "\n",
    "from machine_translation import configurations\n",
    "import logging\n",
    "\n",
    "import os\n",
    "import shutil\n",
    "from collections import Counter\n",
    "from theano import tensor\n",
    "from toolz import merge\n",
    "import numpy\n",
    "import pickle\n",
    "from subprocess import Popen, PIPE\n",
    "import codecs\n",
    "\n",
    "from blocks.algorithms import (GradientDescent, StepClipping,\n",
    "                               CompositeRule, Adam, AdaDelta)\n",
    "from blocks.extensions import FinishAfter, Printing, Timing\n",
    "from blocks.extensions.monitoring import TrainingDataMonitoring\n",
    "from blocks.filter import VariableFilter\n",
    "from blocks.graph import ComputationGraph, apply_noise, apply_dropout\n",
    "from blocks.initialization import IsotropicGaussian, Orthogonal, Constant\n",
    "from blocks.main_loop import MainLoop\n",
    "from blocks.model import Model\n",
    "from blocks.select import Selector\n",
    "from blocks.search import BeamSearch\n",
    "from blocks_extras.extensions.plot import Plot\n",
    "\n",
    "from machine_translation.checkpoint import CheckpointNMT, LoadNMT\n",
    "from machine_translation.model import BidirectionalEncoder\n",
    "from machine_translation.stream import _ensure_special_tokens\n",
    "\n",
    "# from mmmt.model import InitialContextDecoder\n",
    "\n",
    "# user can specify which target GRU they want\n",
    "# from mmmt.model import GRUInitialState, GRUInitialStateWithInitialStateConcatContext, GRUInitialStateWithInitialStateSumContext\n",
    "from mmmt.sample import BleuValidator, Sampler, SamplingBase"
   ]
  },
  {
   "cell_type": "code",
   "execution_count": 10,
   "metadata": {
    "collapsed": true
   },
   "outputs": [],
   "source": [
    "from nn_imt.model import Decoder\n",
    "\n",
    "# TODO: add SamplingBase to nn_imt"
   ]
  },
  {
   "cell_type": "code",
   "execution_count": null,
   "metadata": {
    "collapsed": false
   },
   "outputs": [],
   "source": [
    "def load_params_and_get_beam_search(exp_config, brick_delimiter=None):\n",
    "\n",
    "    encoder = BidirectionalEncoder(\n",
    "        exp_config['src_vocab_size'], exp_config['enc_embed'], exp_config['enc_nhids'])\n",
    "\n",
    "\n",
    "    # Create Theano variables\n",
    "    logger.info('Creating theano variables')\n",
    "    sampling_input = tensor.lmatrix('source')\n",
    "\n",
    "    # Get beam search\n",
    "    logger.info(\"Building sampling model\")\n",
    "    sampling_representation = encoder.apply(\n",
    "        sampling_input, tensor.ones(sampling_input.shape))\n",
    "\n",
    "    # TODO: how to determine the type of decoder that we need?\n",
    "    # TODO: i.e. how to make prefix decoding configurable when building the decoder?\n",
    "    # TODO: remove the 'loss_function' param, it's not needed for prediction\n",
    "    if exp_config.get('prefix_decoding', False):\n",
    "        decoder = Decoder(\n",
    "            exp_config['trg_vocab_size'], exp_config['dec_embed'], exp_config['dec_nhids'],\n",
    "            exp_config['enc_nhids'] * 2, loss_function='min_risk')\n",
    "        # TODO: should we change the variable name for clarity?\n",
    "        sampling_prefix = tensor.lmatrix('target')\n",
    "        generated = decoder.generate(sampling_input, sampling_representation,\n",
    "                                     target_prefix=sampling_prefix)\n",
    "    else:\n",
    "        sampling_prefix = None\n",
    "        decoder = Decoder(\n",
    "            exp_config['trg_vocab_size'], exp_config['dec_embed'], exp_config['dec_nhids'],\n",
    "            exp_config['enc_nhids'] * 2)\n",
    "        generated = decoder.generate(sampling_input, sampling_representation)\n",
    "\n",
    "    _, samples = VariableFilter(\n",
    "        bricks=[decoder.sequence_generator], name=\"outputs\")(\n",
    "        ComputationGraph(generated[1]))  # generated[1] is next_outputs\n",
    "    beam_search = BeamSearch(samples=samples)\n",
    "\n",
    "    # Set the parameters\n",
    "    logger.info(\"Creating Model...\")\n",
    "    model = Model(generated)\n",
    "    logger.info(\"Loading parameters from model: {}\".format(exp_config['saved_parameters']))\n",
    "\n",
    "    # load the parameter values from an .npz file\n",
    "    param_values = LoadNMT.load_parameter_values(exp_config['saved_parameters'], brick_delimiter=brick_delimiter)\n",
    "    LoadNMT.set_model_parameters(model, param_values)\n",
    "\n",
    "    return beam_search, sampling_input, sampling_prefix\n",
    "\n",
    "# TODO: the predictor needs modes -- prefix prediction vs prediction from scratch\n",
    "# TODO: Another option would be to always pass a '0' prefix to keep the theano function interface the same\n",
    "class IMTPredictor:\n",
    "    \"\"\"\"Uses a trained NMT model to do prediction\"\"\"\n",
    "\n",
    "    sutils = SamplingBase()\n",
    "\n",
    "    def __init__(self, exp_config):\n",
    "\n",
    "        theano_variables = load_params_and_get_beam_search(exp_config, exp_config.get('brick_delimiter', None))\n",
    "        self.beam_search, self.source_sampling_input, self.target_sampling_input = theano_variables\n",
    "\n",
    "        self.exp_config = exp_config\n",
    "        # how many hyps should be output (only used in file prediction mode)\n",
    "        self.n_best = exp_config.get('n_best', 1)\n",
    "\n",
    "        self.source_lang = exp_config.get('source_lang', 'en')\n",
    "        self.target_lang = exp_config.get('target_lang', 'es')\n",
    "\n",
    "        tokenize_script = exp_config.get('tokenize_script', None)\n",
    "        detokenize_script = exp_config.get('detokenize_script', None)\n",
    "        if tokenize_script is not None and detokenize_script is not None:\n",
    "            self.source_tokenizer_cmd = [tokenize_script, '-l', self.source_lang, '-q', '-', '-no-escape', '1']\n",
    "            self.target_tokenizer_cmd = [tokenize_script, '-l', self.target_lang, '-q', '-', '-no-escape', '1']\n",
    "            self.detokenizer_cmd = [detokenize_script, '-l', self.target_lang, '-q', '-']\n",
    "        else:\n",
    "            self.source_tokenizer_cmd = None\n",
    "            self.target_tokenizer_cmd = None\n",
    "            self.detokenizer_cmd = None\n",
    "\n",
    "        # this index will get overwritten with the EOS token by _ensure_special_tokens\n",
    "        # IMPORTANT: the index must be created in the same way it was for training,\n",
    "        # otherwise the predicted indices will be nonsense\n",
    "        # Make sure that src_vocab_size and trg_vocab_size are correct in your configuration\n",
    "        self.src_eos_idx = exp_config['src_vocab_size'] - 1\n",
    "        self.trg_eos_idx = exp_config['trg_vocab_size'] - 1\n",
    "\n",
    "        self.unk_idx = exp_config['unk_id']\n",
    "\n",
    "        # Get vocabularies and inverse indices\n",
    "        self.src_vocab = _ensure_special_tokens(\n",
    "            pickle.load(open(exp_config['src_vocab'])), bos_idx=0,\n",
    "            eos_idx=self.src_eos_idx, unk_idx=self.unk_idx)\n",
    "        self.src_ivocab = {v: k for k, v in self.src_vocab.items()}\n",
    "        self.trg_vocab = _ensure_special_tokens(\n",
    "            pickle.load(open(exp_config['trg_vocab'])), bos_idx=0,\n",
    "            eos_idx=self.trg_eos_idx, unk_idx=self.unk_idx)\n",
    "        self.trg_ivocab = {v: k for k, v in self.trg_vocab.items()}\n",
    "\n",
    "        self.unk_idx = self.unk_idx\n",
    "\n",
    "    def map_idx_or_unk(self, sentence, index, unknown_token='<UNK>'):\n",
    "        if type(sentence) is str:\n",
    "            sentence = sentence.split()\n",
    "        return [index.get(w, unknown_token) for w in sentence]\n",
    "\n",
    "# TODO: switch to predict files, like in multimodal_nmt, we need the reference here\n",
    "# also, because we need to create the input prefixes\n",
    "# TODO: also (optionally) output the reference suffix file from this function -- \n",
    "# this will be useful for external validation,\n",
    "# otherwise, it will have to be re-created for validation\n",
    "    def predict_files(self, source_file, reference_file, output_file=None):\n",
    "        tokenize = self.source_tokenizer_cmd is not None\n",
    "        detokenize = self.detokenizer_cmd is not None\n",
    "\n",
    "        if output_file is not None:\n",
    "            ftrans = codecs.open(output_file, 'wb', encoding='utf8')\n",
    "        else:\n",
    "            # cut off the language suffix to make output file name\n",
    "            output_file = '.'.join(input_file.split('.')[:-1]) + '.trans.out'\n",
    "            ftrans = codecs.open(output_file, 'wb', encoding='utf8')\n",
    "\n",
    "        logger.info(\"Started translation, will output {} translations for each segment\"\n",
    "                    .format(self.n_best))\n",
    "        total_cost = 0.0\n",
    "\n",
    "        # TODO: the tokenizer throws an error when the input file is opened with encoding='utf8'\n",
    "        # why would this happen?\n",
    "        \n",
    "        # WORKING:\n",
    "        with codecs.open(source_file) as srcs:\n",
    "            with codecs.open(reference_file) as refs:\n",
    "                # map (source, ref) to [(source, prefix, suffix)]\n",
    "                source_lines = srcs.read().strip().split('\\n')\n",
    "                ref_lines = refs.read().strip().split('\\n')\n",
    "                assert len(source_lines) == len(ref_lines), 'Source and reference files must be the same length'\n",
    "                for i, instance in enumerate(zip(source_lines, ref_lines)):\n",
    "                    logger.info(\"Translating segment: {}\".format(i))\n",
    "\n",
    "                    # TODO: tokenization is not currently implemented -- assumes whitespace tokenization!!!\n",
    "                    # Right now, tokenization happens in self.map_idx_or_unk if predict_segment is passed a string\n",
    "                    source_seq = instance[0].split()\n",
    "                    target_seq = instance[1].split()\n",
    "                    \n",
    "                    # map to triples\n",
    "                    imt_triples = map_pair_to_imt_triples(source_seq, target_seq)\n",
    "                    \n",
    "                    # the first instance contains the empty prefix, the last instance contains the empty suffix\n",
    "                    # HACK: pop the first item until a fix for empty prefix is implemented\n",
    "                    imt_triples = imt_triples[1:]\n",
    "                    \n",
    "                    for src, prefix, suffix in imt_triples:\n",
    "                        \n",
    "                        # TODO: remove suffix from arglist of this function\n",
    "                        translations, costs = self.predict_segment(src, suffix, target_prefix=prefix,\n",
    "                                                                   n_best=self.n_best,\n",
    "                                                                   tokenize=tokenize, detokenize=detokenize)\n",
    "\n",
    "                        # predict_segment returns a list of hyps, we just take the best one\n",
    "                        nbest_translations = translations[:self.n_best]\n",
    "                        nbest_costs = costs[:self.n_best]\n",
    "\n",
    "                        if self.n_best == 1:\n",
    "                            ftrans.write((nbest_translations[0] + '\\n').decode('utf8'))\n",
    "                            total_cost += nbest_costs[0]\n",
    "                        else:\n",
    "                            # one blank line to separate each nbest list\n",
    "                            ftrans.write('\\n'.join(nbest_translations) + '\\n\\n')\n",
    "                            total_cost += sum(nbest_costs)\n",
    "\n",
    "                    if i != 0 and i % 100 == 0:\n",
    "                        logger.info(\"Translated {} lines of test set...\".format(i))\n",
    "\n",
    "        logger.info(\"Saved translated output to: {}\".format(ftrans.name))\n",
    "        logger.info(\"Total cost of the test: {}\".format(total_cost))\n",
    "        ftrans.close()\n",
    "\n",
    "        return output_file\n",
    "\n",
    "    # TODO: remove suffix from arglist of this function\n",
    "    def predict_segment(self, segment, suffix, target_prefix=None, n_best=1, tokenize=False, detokenize=False):\n",
    "        \"\"\"\n",
    "        Do prediction for a single segment, which is a list of token idxs\n",
    "\n",
    "        Parameters\n",
    "        ----------\n",
    "        segment: list[int] : a list of int indexes representing the input sequence in the source language\n",
    "        n_best: int : how many hypotheses to return (must be <= beam_size)\n",
    "        tokenize: bool : does the source segment need to be tokenized first?\n",
    "        detokenize: bool : do the output hypotheses need to be detokenized?\n",
    "\n",
    "        Returns\n",
    "        -------\n",
    "        trans_out: str : the best translation according to beam search\n",
    "        cost: float : the cost of the best translation\n",
    "\n",
    "        \"\"\"\n",
    "\n",
    "        # if there is a prefix, we need to tokenize and preprocess it also\n",
    "        # TODO: prefix can be a kwarg, but how to transparently create the Decoder?\n",
    "        # TODO: probably the easiest way is just to always use the PartialSequenceGenerator for\n",
    "        # TODO: decoders which are for prediction only\n",
    "\n",
    "        if tokenize:\n",
    "            source_tokenizer = Popen(self.source_tokenizer_cmd, stdin=PIPE, stdout=PIPE)\n",
    "            segment, _ = source_tokenizer.communicate(segment)\n",
    "            if target_prefix is not None:\n",
    "                target_tokenizer = Popen(self.target_tokenizer_cmd, stdin=PIPE, stdout=PIPE)\n",
    "                target_prefix, _ = target_tokenizer.communicate(target_prefix)\n",
    "\n",
    "        segment = self.map_idx_or_unk(segment, self.src_vocab, self.unk_idx)\n",
    "        segment += [self.src_eos_idx]\n",
    "\n",
    "        seq = IMTPredictor.sutils._oov_to_unk(\n",
    "            segment, self.exp_config['src_vocab_size'], self.unk_idx)\n",
    "        input_ = numpy.tile(seq, (self.exp_config['beam_size'], 1))\n",
    "\n",
    "        # TODO: HANDLE THE CASE WHERE TARGET PREFIX IS EMPTY\n",
    "        if target_prefix is not None:\n",
    "            print('predicting target prefix: {}'.format(target_prefix))\n",
    "            target_prefix = self.map_idx_or_unk(target_prefix, self.trg_vocab, self.unk_idx)\n",
    "            prefix_seq = IMTPredictor.sutils._oov_to_unk(\n",
    "                target_prefix, self.exp_config['trg_vocab_size'], self.unk_idx)\n",
    "            \n",
    "            # TODO: remove suffix from this function -- put it outside\n",
    "            target_suffix = self.map_idx_or_unk(suffix, self.trg_vocab, self.unk_idx)\n",
    "            suffix_seq = IMTPredictor.sutils._oov_to_unk(\n",
    "                target_suffix, self.exp_config['trg_vocab_size'], self.unk_idx)\n",
    "            \n",
    "            \n",
    "            prefix_input_ = numpy.tile(prefix_seq, (self.exp_config['beam_size'], 1))\n",
    "            # draw sample, checking to ensure we don't get an empty string back\n",
    "            trans, costs = \\\n",
    "                self.beam_search.search(\n",
    "                    input_values={self.source_sampling_input: input_,\n",
    "                                  self.target_sampling_input: prefix_input_},\n",
    "                    max_length=3*len(seq), eol_symbol=self.trg_eos_idx,\n",
    "                    ignore_first_eol=True)\n",
    "            # import ipdb;ipdb.set_trace()\n",
    "\n",
    "        else:\n",
    "            # draw sample, checking to ensure we don't get an empty string back\n",
    "            trans, costs = \\\n",
    "                self.beam_search.search(\n",
    "                    input_values={self.sampling_input: input_},\n",
    "                    max_length=3*len(seq), eol_symbol=self.trg_eos_idx,\n",
    "                    ignore_first_eol=True)\n",
    "\n",
    "        # normalize costs according to the sequence lengths\n",
    "        if self.exp_config['normalized_bleu']:\n",
    "            lengths = numpy.array([len(s) for s in trans])\n",
    "            costs = costs / lengths\n",
    "\n",
    "        best_n_hyps = []\n",
    "        best_n_costs = []\n",
    "        best_n_idxs = numpy.argsort(costs)[:n_best]\n",
    "        for j, idx in enumerate(best_n_idxs):\n",
    "            try:\n",
    "                trans_out_idxs = trans[idx]\n",
    "                cost = costs[idx]\n",
    "\n",
    "                # convert idx to words\n",
    "                # `line` is a tuple with one item\n",
    "                try:\n",
    "                    assert trans_out_idxs[-1] == self.trg_eos_idx, 'Target hypothesis should end with the EOS symbol'\n",
    "                    trans_out_idxs = trans_out_idxs[:-1]\n",
    "                    src_in = IMTPredictor.sutils._idx_to_word(segment, self.src_ivocab)\n",
    "                    trans_out = IMTPredictor.sutils._idx_to_word(trans_out_idxs, self.trg_ivocab)\n",
    "                except AssertionError as e:\n",
    "                    src_in = IMTPredictor.sutils._idx_to_word(segment, self.src_ivocab)\n",
    "                    trans_out = IMTPredictor.sutils._idx_to_word(trans_out, self.trg_ivocab)\n",
    "                    logger.error(\"ERROR: {} does not end with the EOS symbol\".format(trans_out))\n",
    "                    logger.error(\"I'm continuing anyway...\")\n",
    "            except ValueError:\n",
    "                logger.info(\"Can NOT find a translation for line: {}\".format(src_in))\n",
    "                trans_out = '<UNK>'\n",
    "                cost = 0.\n",
    "            \n",
    "            # compute score for trans_out_idxs and reference suffix\n",
    "            # TODO: move this outside of the predict_segment function!\n",
    "            imt_f1_score = imt_f1(trans_out_idxs, suffix_seq)\n",
    "\n",
    "            if detokenize:\n",
    "                detokenizer = Popen(self.detokenizer_cmd, stdin=PIPE, stdout=PIPE)\n",
    "                trans_out, _ = detokenizer.communicate(trans_out)\n",
    "                # strip off the eol symbol\n",
    "                trans_out = trans_out.strip()\n",
    "\n",
    "            # TODO: remove this quick hack\n",
    "            trans_out = trans_out.replace('<UNK>', 'UNK')\n",
    "\n",
    "            logger.info(\"Source: {}\".format(src_in))\n",
    "            logger.info(\"Target Hypothesis: {}\".format(trans_out))\n",
    "            logger.info(\"Target Reference: {}\".format(suffix))\n",
    "            logger.info(\"IMT F1 score: {}\".format(imt_f1_score))\n",
    "\n",
    "            best_n_hyps.append(trans_out)\n",
    "            best_n_costs.append(cost)\n",
    "\n",
    "        return best_n_hyps, best_n_costs"
   ]
  },
  {
   "cell_type": "code",
   "execution_count": null,
   "metadata": {
    "collapsed": false
   },
   "outputs": [
    {
     "name": "stderr",
     "output_type": "stream",
     "text": [
      "INFO:__main__:Creating theano variables\n",
      "INFO:__main__:Building sampling model\n",
      "WARNING:blocks.bricks.recurrent:unknown input sequencegenerator_generate_target_prefix\n",
      "\n",
      "Your function uses a non-shared variable other than those given by scan explicitly. That can significantly slow down `tensor.grad` call. Did you forget to declare it in `contexts`?\n",
      "INFO:__main__:Creating Model...\n",
      "INFO:__main__:Loading parameters from model: /media/1tb_drive/multilingual-multimodal/flickr30k/train/processed/BERTHA-TEST_Adam_wmt-multimodal_internal_data_dropout0.3_ff_noiseFalse_search_model_en2es_vocab20000_emb300_rec800_batch15/best_bleu_model_1455464992_BLEU31.61.npz\n",
      "INFO:__main__:Translating: /media/1tb_drive/multilingual-multimodal/flickr30k/test/test.en.tok\n",
      "INFO:__main__:Started translation, will output 1 translations for each segment\n",
      "INFO:__main__:Translating segment: 0\n"
     ]
    },
    {
     "name": "stdout",
     "output_type": "stream",
     "text": [
      "{'target_prefix': decoder_generate_target_prefix}\n",
      "target_prefix: sequencegenerator_initial_states_target_prefix\n",
      "predicting target prefix: ['Ein']"
     ]
    },
    {
     "name": "stderr",
     "output_type": "stream",
     "text": [
      "/home/chris/anaconda2/lib/python2.7/site-packages/blocks/search.py:113: UserWarning: theano.function was asked to create a function computing outputs given certain inputs, but the provided input variable at index 3 is not part of the computational graph needed to compute the outputs: sequencegenerator_generate_outputs.\n",
      "To make this warning into an error, you can pass the parameter on_unused_input='raise' to theano.function. To disable it completely, use on_unused_input='ignore'.\n",
      "  self.contexts + self.input_states + next_outputs, next_states)\n",
      "/home/chris/anaconda2/lib/python2.7/site-packages/blocks/search.py:323: VisibleDeprecationWarning: using a non-integer number instead of an integer will result in an error in the future\n",
      "  for output, mask in equizip(outputs, masks)]\n",
      "INFO:__main__:Source: A man dressed in green snowboarding on a bench . </S>\n",
      "INFO:__main__:Target Hypothesis: Mann in grün fährt auf einer Bank .\n",
      "INFO:__main__:Target Reference: ['gr\\xc3\\xbcn', 'gekleideter', 'Mann', 'f\\xc3\\xa4hrt', 'Snowboard', 'auf', 'einer', 'Bank', '.']\n",
      "INFO:__main__:IMT F1 score: 0.0\n"
     ]
    },
    {
     "name": "stdout",
     "output_type": "stream",
     "text": [
      "\n",
      "predicting target prefix: ['Ein', 'gr\\xc3\\xbcn']"
     ]
    },
    {
     "name": "stderr",
     "output_type": "stream",
     "text": [
      "INFO:__main__:Source: A man dressed in green snowboarding on a bench . </S>\n",
      "INFO:__main__:Target Hypothesis: gekleideter Mann fährt mit seinem Snowboard auf einer Bank .\n",
      "INFO:__main__:Target Reference: ['gekleideter', 'Mann', 'f\\xc3\\xa4hrt', 'Snowboard', 'auf', 'einer', 'Bank', '.']\n",
      "INFO:__main__:IMT F1 score: 0.333333333333\n"
     ]
    },
    {
     "name": "stdout",
     "output_type": "stream",
     "text": [
      "\n",
      "predicting target prefix: ['Ein', 'gr\\xc3\\xbcn', 'gekleideter']"
     ]
    },
    {
     "name": "stderr",
     "output_type": "stream",
     "text": [
      "INFO:__main__:Source: A man dressed in green snowboarding on a bench . </S>\n",
      "INFO:__main__:Target Hypothesis: Mann fährt mit seinem Snowboard auf einer Bank .\n",
      "INFO:__main__:Target Reference: ['Mann', 'f\\xc3\\xa4hrt', 'Snowboard', 'auf', 'einer', 'Bank', '.']\n",
      "INFO:__main__:IMT F1 score: 0.25\n"
     ]
    },
    {
     "name": "stdout",
     "output_type": "stream",
     "text": [
      "\n",
      "predicting target prefix: ['Ein', 'gr\\xc3\\xbcn', 'gekleideter', 'Mann']"
     ]
    },
    {
     "name": "stderr",
     "output_type": "stream",
     "text": [
      "INFO:__main__:Source: A man dressed in green snowboarding on a bench . </S>\n",
      "INFO:__main__:Target Hypothesis: fährt mit seinem Snowboard auf einer Bank .\n",
      "INFO:__main__:Target Reference: ['f\\xc3\\xa4hrt', 'Snowboard', 'auf', 'einer', 'Bank', '.']\n",
      "INFO:__main__:IMT F1 score: 0.142857142857\n"
     ]
    },
    {
     "name": "stdout",
     "output_type": "stream",
     "text": [
      "\n",
      "predicting target prefix: ['Ein', 'gr\\xc3\\xbcn', 'gekleideter', 'Mann', 'f\\xc3\\xa4hrt']"
     ]
    },
    {
     "name": "stderr",
     "output_type": "stream",
     "text": [
      "INFO:__main__:Source: A man dressed in green snowboarding on a bench . </S>\n",
      "INFO:__main__:Target Hypothesis: mit seinem Snowboard auf einer Bank .\n",
      "INFO:__main__:Target Reference: ['Snowboard', 'auf', 'einer', 'Bank', '.']\n",
      "INFO:__main__:IMT F1 score: 0.0\n"
     ]
    },
    {
     "name": "stdout",
     "output_type": "stream",
     "text": [
      "\n",
      "predicting target prefix: ['Ein', 'gr\\xc3\\xbcn', 'gekleideter', 'Mann', 'f\\xc3\\xa4hrt', 'Snowboard']"
     ]
    },
    {
     "name": "stderr",
     "output_type": "stream",
     "text": [
      "INFO:__main__:Source: A man dressed in green snowboarding on a bench . </S>\n",
      "INFO:__main__:Target Hypothesis: auf einer Bank .\n",
      "INFO:__main__:Target Reference: ['auf', 'einer', 'Bank', '.']\n",
      "INFO:__main__:IMT F1 score: 1.0\n"
     ]
    },
    {
     "name": "stdout",
     "output_type": "stream",
     "text": [
      "\n",
      "predicting target prefix: ['Ein', 'gr\\xc3\\xbcn', 'gekleideter', 'Mann', 'f\\xc3\\xa4hrt', 'Snowboard', 'auf']"
     ]
    },
    {
     "name": "stderr",
     "output_type": "stream",
     "text": [
      "INFO:__main__:Source: A man dressed in green snowboarding on a bench . </S>\n",
      "INFO:__main__:Target Hypothesis: einer Bank .\n",
      "INFO:__main__:Target Reference: ['einer', 'Bank', '.']\n",
      "INFO:__main__:IMT F1 score: 1.0\n"
     ]
    },
    {
     "name": "stdout",
     "output_type": "stream",
     "text": [
      "\n",
      "predicting target prefix: ['Ein', 'gr\\xc3\\xbcn', 'gekleideter', 'Mann', 'f\\xc3\\xa4hrt', 'Snowboard', 'auf', 'einer']"
     ]
    },
    {
     "name": "stderr",
     "output_type": "stream",
     "text": [
      "INFO:__main__:Source: A man dressed in green snowboarding on a bench . </S>\n",
      "INFO:__main__:Target Hypothesis: Bank .\n",
      "INFO:__main__:Target Reference: ['Bank', '.']\n",
      "INFO:__main__:IMT F1 score: 1.0\n"
     ]
    },
    {
     "name": "stdout",
     "output_type": "stream",
     "text": [
      "\n",
      "predicting target prefix: ['Ein', 'gr\\xc3\\xbcn', 'gekleideter', 'Mann', 'f\\xc3\\xa4hrt', 'Snowboard', 'auf', 'einer', 'Bank']"
     ]
    },
    {
     "name": "stderr",
     "output_type": "stream",
     "text": [
      "INFO:__main__:Source: A man dressed in green snowboarding on a bench . </S>\n",
      "INFO:__main__:Target Hypothesis: .\n",
      "INFO:__main__:Target Reference: ['.']\n",
      "INFO:__main__:IMT F1 score: 1.0\n"
     ]
    },
    {
     "name": "stdout",
     "output_type": "stream",
     "text": [
      "\n",
      "predicting target prefix: ['Ein', 'gr\\xc3\\xbcn', 'gekleideter', 'Mann', 'f\\xc3\\xa4hrt', 'Snowboard', 'auf', 'einer', 'Bank', '.']"
     ]
    },
    {
     "name": "stderr",
     "output_type": "stream",
     "text": [
      "INFO:__main__:Source: A man dressed in green snowboarding on a bench . </S>\n",
      "INFO:__main__:Target Hypothesis: </S> .\n",
      "INFO:__main__:Target Reference: []\n",
      "INFO:__main__:IMT F1 score: 0.0\n",
      "INFO:__main__:Translating segment: 1\n"
     ]
    },
    {
     "name": "stdout",
     "output_type": "stream",
     "text": [
      "\n",
      "predicting target prefix: ['Ein']"
     ]
    },
    {
     "name": "stderr",
     "output_type": "stream",
     "text": [
      "INFO:__main__:Source: An indian man sits outside of a restaurant at a table . </S>\n",
      "INFO:__main__:Target Hypothesis: blonder Mann sitzt vor einem Restaurant auf einem Tisch .\n",
      "INFO:__main__:Target Reference: ['Inder', 'sitzt', 'vor', 'einem', 'Restaurant', 'an', 'einem', 'Tisch', '.']\n",
      "INFO:__main__:IMT F1 score: 0.0\n"
     ]
    },
    {
     "name": "stdout",
     "output_type": "stream",
     "text": [
      "\n",
      "predicting target prefix: ['Ein', 'Inder']"
     ]
    },
    {
     "name": "stderr",
     "output_type": "stream",
     "text": [
      "INFO:__main__:Source: An indian man sits outside of a restaurant at a table . </S>\n",
      "INFO:__main__:Target Hypothesis: sitzt vor einem Restaurant auf einem Tisch .\n",
      "INFO:__main__:Target Reference: ['sitzt', 'vor', 'einem', 'Restaurant', 'an', 'einem', 'Tisch', '.']\n",
      "INFO:__main__:IMT F1 score: 0.5\n"
     ]
    },
    {
     "name": "stdout",
     "output_type": "stream",
     "text": [
      "\n",
      "predicting target prefix: ['Ein', 'Inder', 'sitzt']"
     ]
    },
    {
     "name": "stderr",
     "output_type": "stream",
     "text": [
      "INFO:__main__:Source: An indian man sits outside of a restaurant at a table . </S>\n",
      "INFO:__main__:Target Hypothesis: vor einem Restaurant auf einem Tisch .\n",
      "INFO:__main__:Target Reference: ['vor', 'einem', 'Restaurant', 'an', 'einem', 'Tisch', '.']\n",
      "INFO:__main__:IMT F1 score: 0.428571428571\n"
     ]
    },
    {
     "name": "stdout",
     "output_type": "stream",
     "text": [
      "\n",
      "predicting target prefix: ['Ein', 'Inder', 'sitzt', 'vor']"
     ]
    },
    {
     "name": "stderr",
     "output_type": "stream",
     "text": [
      "INFO:__main__:Source: An indian man sits outside of a restaurant at a table . </S>\n",
      "INFO:__main__:Target Hypothesis: einem Restaurant auf einem Tisch .\n",
      "INFO:__main__:Target Reference: ['einem', 'Restaurant', 'an', 'einem', 'Tisch', '.']\n",
      "INFO:__main__:IMT F1 score: 0.333333333333\n"
     ]
    },
    {
     "name": "stdout",
     "output_type": "stream",
     "text": [
      "\n",
      "predicting target prefix: ['Ein', 'Inder', 'sitzt', 'vor', 'einem']"
     ]
    },
    {
     "name": "stderr",
     "output_type": "stream",
     "text": [
      "INFO:__main__:Source: An indian man sits outside of a restaurant at a table . </S>\n",
      "INFO:__main__:Target Hypothesis: Restaurant auf einem Tisch .\n",
      "INFO:__main__:Target Reference: ['Restaurant', 'an', 'einem', 'Tisch', '.']\n",
      "INFO:__main__:IMT F1 score: 0.2\n"
     ]
    },
    {
     "name": "stdout",
     "output_type": "stream",
     "text": [
      "\n",
      "predicting target prefix: ['Ein', 'Inder', 'sitzt', 'vor', 'einem', 'Restaurant']"
     ]
    },
    {
     "name": "stderr",
     "output_type": "stream",
     "text": [
      "INFO:__main__:Source: An indian man sits outside of a restaurant at a table . </S>\n",
      "INFO:__main__:Target Hypothesis: auf einem Tisch .\n",
      "INFO:__main__:Target Reference: ['an', 'einem', 'Tisch', '.']\n",
      "INFO:__main__:IMT F1 score: 0.0\n"
     ]
    },
    {
     "name": "stdout",
     "output_type": "stream",
     "text": [
      "\n",
      "predicting target prefix: ['Ein', 'Inder', 'sitzt', 'vor', 'einem', 'Restaurant', 'an']"
     ]
    },
    {
     "name": "stderr",
     "output_type": "stream",
     "text": [
      "INFO:__main__:Source: An indian man sits outside of a restaurant at a table . </S>\n",
      "INFO:__main__:Target Hypothesis: einem Tisch .\n",
      "INFO:__main__:Target Reference: ['einem', 'Tisch', '.']\n",
      "INFO:__main__:IMT F1 score: 1.0\n"
     ]
    },
    {
     "name": "stdout",
     "output_type": "stream",
     "text": [
      "\n",
      "predicting target prefix: ['Ein', 'Inder', 'sitzt', 'vor', 'einem', 'Restaurant', 'an', 'einem']"
     ]
    },
    {
     "name": "stderr",
     "output_type": "stream",
     "text": [
      "INFO:__main__:Source: An indian man sits outside of a restaurant at a table . </S>\n",
      "INFO:__main__:Target Hypothesis: Tisch .\n",
      "INFO:__main__:Target Reference: ['Tisch', '.']\n",
      "INFO:__main__:IMT F1 score: 1.0\n"
     ]
    },
    {
     "name": "stdout",
     "output_type": "stream",
     "text": [
      "\n",
      "predicting target prefix: ['Ein', 'Inder', 'sitzt', 'vor', 'einem', 'Restaurant', 'an', 'einem', 'Tisch']"
     ]
    },
    {
     "name": "stderr",
     "output_type": "stream",
     "text": [
      "INFO:__main__:Source: An indian man sits outside of a restaurant at a table . </S>\n",
      "INFO:__main__:Target Hypothesis: .\n",
      "INFO:__main__:Target Reference: ['.']\n",
      "INFO:__main__:IMT F1 score: 1.0\n"
     ]
    },
    {
     "name": "stdout",
     "output_type": "stream",
     "text": [
      "\n",
      "predicting target prefix: ['Ein', 'Inder', 'sitzt', 'vor', 'einem', 'Restaurant', 'an', 'einem', 'Tisch', '.']"
     ]
    },
    {
     "name": "stderr",
     "output_type": "stream",
     "text": [
      "INFO:__main__:Source: An indian man sits outside of a restaurant at a table . </S>\n",
      "INFO:__main__:Target Hypothesis: </S> .\n",
      "INFO:__main__:Target Reference: []\n",
      "INFO:__main__:IMT F1 score: 0.0\n",
      "INFO:__main__:Translating segment: 2\n"
     ]
    },
    {
     "name": "stdout",
     "output_type": "stream",
     "text": [
      "\n",
      "predicting target prefix: ['Drei']"
     ]
    },
    {
     "name": "stderr",
     "output_type": "stream",
     "text": [
      "INFO:__main__:Source: Three men in suits putting their hands together . </S>\n",
      "INFO:__main__:Target Hypothesis: Männer in Anzügen rollen die Hände zusammen .\n",
      "INFO:__main__:Target Reference: ['M\\xc3\\xa4nner', 'in', 'Anz\\xc3\\xbcgen', 'legen', 'ihre', 'H\\xc3\\xa4nde', '\\xc3\\xbcbereinander', '.']\n",
      "INFO:__main__:IMT F1 score: 0.375\n"
     ]
    },
    {
     "name": "stdout",
     "output_type": "stream",
     "text": [
      "\n",
      "predicting target prefix: ['Drei', 'M\\xc3\\xa4nner']"
     ]
    },
    {
     "name": "stderr",
     "output_type": "stream",
     "text": [
      "INFO:__main__:Source: Three men in suits putting their hands together . </S>\n",
      "INFO:__main__:Target Hypothesis: in Anzügen rollen die Hände zusammen .\n",
      "INFO:__main__:Target Reference: ['in', 'Anz\\xc3\\xbcgen', 'legen', 'ihre', 'H\\xc3\\xa4nde', '\\xc3\\xbcbereinander', '.']\n",
      "INFO:__main__:IMT F1 score: 0.285714285714\n"
     ]
    },
    {
     "name": "stdout",
     "output_type": "stream",
     "text": [
      "\n",
      "predicting target prefix: ['Drei', 'M\\xc3\\xa4nner', 'in']"
     ]
    },
    {
     "name": "stderr",
     "output_type": "stream",
     "text": [
      "INFO:__main__:Source: Three men in suits putting their hands together . </S>\n",
      "INFO:__main__:Target Hypothesis: Anzügen rollen die Hände zusammen .\n",
      "INFO:__main__:Target Reference: ['Anz\\xc3\\xbcgen', 'legen', 'ihre', 'H\\xc3\\xa4nde', '\\xc3\\xbcbereinander', '.']\n",
      "INFO:__main__:IMT F1 score: 0.166666666667\n"
     ]
    },
    {
     "name": "stdout",
     "output_type": "stream",
     "text": [
      "\n",
      "predicting target prefix: ['Drei', 'M\\xc3\\xa4nner', 'in', 'Anz\\xc3\\xbcgen']"
     ]
    },
    {
     "name": "stderr",
     "output_type": "stream",
     "text": [
      "INFO:__main__:Source: Three men in suits putting their hands together . </S>\n",
      "INFO:__main__:Target Hypothesis: rollen die Hände zusammen .\n",
      "INFO:__main__:Target Reference: ['legen', 'ihre', 'H\\xc3\\xa4nde', '\\xc3\\xbcbereinander', '.']\n",
      "INFO:__main__:IMT F1 score: 0.0\n"
     ]
    },
    {
     "name": "stdout",
     "output_type": "stream",
     "text": [
      "\n",
      "predicting target prefix: ['Drei', 'M\\xc3\\xa4nner', 'in', 'Anz\\xc3\\xbcgen', 'legen']"
     ]
    },
    {
     "name": "stderr",
     "output_type": "stream",
     "text": [
      "INFO:__main__:Source: Three men in suits putting their hands together . </S>\n",
      "INFO:__main__:Target Hypothesis: ihre Hände zusammen .\n",
      "INFO:__main__:Target Reference: ['ihre', 'H\\xc3\\xa4nde', '\\xc3\\xbcbereinander', '.']\n",
      "INFO:__main__:IMT F1 score: 0.5\n"
     ]
    },
    {
     "name": "stdout",
     "output_type": "stream",
     "text": [
      "\n",
      "predicting target prefix: ['Drei', 'M\\xc3\\xa4nner', 'in', 'Anz\\xc3\\xbcgen', 'legen', 'ihre']"
     ]
    },
    {
     "name": "stderr",
     "output_type": "stream",
     "text": [
      "INFO:__main__:Source: Three men in suits putting their hands together . </S>\n",
      "INFO:__main__:Target Hypothesis: Hände zusammen .\n",
      "INFO:__main__:Target Reference: ['H\\xc3\\xa4nde', '\\xc3\\xbcbereinander', '.']\n",
      "INFO:__main__:IMT F1 score: 0.333333333333\n"
     ]
    },
    {
     "name": "stdout",
     "output_type": "stream",
     "text": [
      "\n",
      "predicting target prefix: ['Drei', 'M\\xc3\\xa4nner', 'in', 'Anz\\xc3\\xbcgen', 'legen', 'ihre', 'H\\xc3\\xa4nde']"
     ]
    },
    {
     "name": "stderr",
     "output_type": "stream",
     "text": [
      "INFO:__main__:Source: Three men in suits putting their hands together . </S>\n",
      "INFO:__main__:Target Hypothesis: zusammen .\n",
      "INFO:__main__:Target Reference: ['\\xc3\\xbcbereinander', '.']\n",
      "INFO:__main__:IMT F1 score: 0.0\n"
     ]
    },
    {
     "name": "stdout",
     "output_type": "stream",
     "text": [
      "\n",
      "predicting target prefix: ['Drei', 'M\\xc3\\xa4nner', 'in', 'Anz\\xc3\\xbcgen', 'legen', 'ihre', 'H\\xc3\\xa4nde', '\\xc3\\xbcbereinander']"
     ]
    },
    {
     "name": "stderr",
     "output_type": "stream",
     "text": [
      "INFO:__main__:Source: Three men in suits putting their hands together . </S>\n",
      "INFO:__main__:Target Hypothesis: .\n",
      "INFO:__main__:Target Reference: ['.']\n",
      "INFO:__main__:IMT F1 score: 1.0\n",
      "INFO:__main__:Source: Three men in suits putting their hands together . </S>\n",
      "INFO:__main__:Target Hypothesis: </S> .\n",
      "INFO:__main__:Target Reference: []\n",
      "INFO:__main__:IMT F1 score: 0.0\n",
      "INFO:__main__:Translating segment: 3\n"
     ]
    },
    {
     "name": "stdout",
     "output_type": "stream",
     "text": [
      "\n",
      "predicting target prefix: ['Drei', 'M\\xc3\\xa4nner', 'in', 'Anz\\xc3\\xbcgen', 'legen', 'ihre', 'H\\xc3\\xa4nde', '\\xc3\\xbcbereinander', '.']\n",
      "predicting target prefix: ['Kleiner']"
     ]
    },
    {
     "name": "stderr",
     "output_type": "stream",
     "text": [
      "INFO:__main__:Source: Small dog in costume stands on hind legs to reach dangling flowers . </S>\n",
      "INFO:__main__:Target Hypothesis: Hund im Kostüm steht auf Brettern und den Blumen .\n",
      "INFO:__main__:Target Reference: ['Hund', 'in', 'einem', 'Kost\\xc3\\xbcm', 'steht', 'auf', 'den', 'Hinterbeinen', ',', 'um', 'an', 'herunterh\\xc3\\xa4ngende', 'Blumen', 'heranzukommen', '.']\n",
      "INFO:__main__:IMT F1 score: 0.08\n"
     ]
    },
    {
     "name": "stdout",
     "output_type": "stream",
     "text": [
      "\n",
      "predicting target prefix: ['Kleiner', 'Hund']"
     ]
    },
    {
     "name": "stderr",
     "output_type": "stream",
     "text": [
      "INFO:__main__:Source: Small dog in costume stands on hind legs to reach dangling flowers . </S>\n",
      "INFO:__main__:Target Hypothesis: im Kostüm steht auf Brettern und den Blumen .\n",
      "INFO:__main__:Target Reference: ['in', 'einem', 'Kost\\xc3\\xbcm', 'steht', 'auf', 'den', 'Hinterbeinen', ',', 'um', 'an', 'herunterh\\xc3\\xa4ngende', 'Blumen', 'heranzukommen', '.']\n",
      "INFO:__main__:IMT F1 score: 0.0\n"
     ]
    },
    {
     "name": "stdout",
     "output_type": "stream",
     "text": [
      "\n",
      "predicting target prefix: ['Kleiner', 'Hund', 'in']"
     ]
    },
    {
     "name": "stderr",
     "output_type": "stream",
     "text": [
      "INFO:__main__:Source: Small dog in costume stands on hind legs to reach dangling flowers . </S>\n",
      "INFO:__main__:Target Hypothesis: einem Kostüm steht auf den Hinterbeinen , um sie Blumen zu schützen .\n",
      "INFO:__main__:Target Reference: ['einem', 'Kost\\xc3\\xbcm', 'steht', 'auf', 'den', 'Hinterbeinen', ',', 'um', 'an', 'herunterh\\xc3\\xa4ngende', 'Blumen', 'heranzukommen', '.']\n",
      "INFO:__main__:IMT F1 score: 0.615384615385\n"
     ]
    },
    {
     "name": "stdout",
     "output_type": "stream",
     "text": [
      "\n",
      "predicting target prefix: ['Kleiner', 'Hund', 'in', 'einem']"
     ]
    },
    {
     "name": "stderr",
     "output_type": "stream",
     "text": [
      "INFO:__main__:Source: Small dog in costume stands on hind legs to reach dangling flowers . </S>\n",
      "INFO:__main__:Target Hypothesis: Kostüm steht auf den Hinterbeinen , um sie Blumen zu schützen .\n",
      "INFO:__main__:Target Reference: ['Kost\\xc3\\xbcm', 'steht', 'auf', 'den', 'Hinterbeinen', ',', 'um', 'an', 'herunterh\\xc3\\xa4ngende', 'Blumen', 'heranzukommen', '.']\n",
      "INFO:__main__:IMT F1 score: 0.583333333333\n"
     ]
    },
    {
     "name": "stdout",
     "output_type": "stream",
     "text": [
      "\n",
      "predicting target prefix: ['Kleiner', 'Hund', 'in', 'einem', 'Kost\\xc3\\xbcm']"
     ]
    },
    {
     "name": "stderr",
     "output_type": "stream",
     "text": [
      "INFO:__main__:Source: Small dog in costume stands on hind legs to reach dangling flowers . </S>\n",
      "INFO:__main__:Target Hypothesis: steht auf den Hinterbeinen , um sie Blumen zu schützen .\n",
      "INFO:__main__:Target Reference: ['steht', 'auf', 'den', 'Hinterbeinen', ',', 'um', 'an', 'herunterh\\xc3\\xa4ngende', 'Blumen', 'heranzukommen', '.']\n",
      "INFO:__main__:IMT F1 score: 0.545454545455\n"
     ]
    },
    {
     "name": "stdout",
     "output_type": "stream",
     "text": [
      "\n",
      "predicting target prefix: ['Kleiner', 'Hund', 'in', 'einem', 'Kost\\xc3\\xbcm', 'steht']"
     ]
    },
    {
     "name": "stderr",
     "output_type": "stream",
     "text": [
      "INFO:__main__:Source: Small dog in costume stands on hind legs to reach dangling flowers . </S>\n",
      "INFO:__main__:Target Hypothesis: auf den Hinterbeinen , um sie Blumen zu schützen .\n",
      "INFO:__main__:Target Reference: ['auf', 'den', 'Hinterbeinen', ',', 'um', 'an', 'herunterh\\xc3\\xa4ngende', 'Blumen', 'heranzukommen', '.']\n",
      "INFO:__main__:IMT F1 score: 0.5\n"
     ]
    },
    {
     "name": "stdout",
     "output_type": "stream",
     "text": [
      "\n",
      "predicting target prefix: ['Kleiner', 'Hund', 'in', 'einem', 'Kost\\xc3\\xbcm', 'steht', 'auf']"
     ]
    },
    {
     "name": "stderr",
     "output_type": "stream",
     "text": [
      "INFO:__main__:Source: Small dog in costume stands on hind legs to reach dangling flowers . </S>\n",
      "INFO:__main__:Target Hypothesis: den Hinterbeinen , um sie Blumen zu schützen .\n",
      "INFO:__main__:Target Reference: ['den', 'Hinterbeinen', ',', 'um', 'an', 'herunterh\\xc3\\xa4ngende', 'Blumen', 'heranzukommen', '.']\n",
      "INFO:__main__:IMT F1 score: 0.444444444444\n"
     ]
    },
    {
     "name": "stdout",
     "output_type": "stream",
     "text": [
      "\n",
      "predicting target prefix: ['Kleiner', 'Hund', 'in', 'einem', 'Kost\\xc3\\xbcm', 'steht', 'auf', 'den']"
     ]
    },
    {
     "name": "stderr",
     "output_type": "stream",
     "text": [
      "INFO:__main__:Source: Small dog in costume stands on hind legs to reach dangling flowers . </S>\n",
      "INFO:__main__:Target Hypothesis: Hinterbeinen , um sie Blumen zu schützen .\n",
      "INFO:__main__:Target Reference: ['Hinterbeinen', ',', 'um', 'an', 'herunterh\\xc3\\xa4ngende', 'Blumen', 'heranzukommen', '.']\n",
      "INFO:__main__:IMT F1 score: 0.375\n"
     ]
    },
    {
     "name": "stdout",
     "output_type": "stream",
     "text": [
      "\n",
      "predicting target prefix: ['Kleiner', 'Hund', 'in', 'einem', 'Kost\\xc3\\xbcm', 'steht', 'auf', 'den', 'Hinterbeinen']"
     ]
    },
    {
     "name": "stderr",
     "output_type": "stream",
     "text": [
      "INFO:__main__:Source: Small dog in costume stands on hind legs to reach dangling flowers . </S>\n",
      "INFO:__main__:Target Hypothesis: , um sie Blumen zu schützen .\n",
      "INFO:__main__:Target Reference: [',', 'um', 'an', 'herunterh\\xc3\\xa4ngende', 'Blumen', 'heranzukommen', '.']\n",
      "INFO:__main__:IMT F1 score: 0.285714285714\n"
     ]
    },
    {
     "name": "stdout",
     "output_type": "stream",
     "text": [
      "\n",
      "predicting target prefix: ['Kleiner', 'Hund', 'in', 'einem', 'Kost\\xc3\\xbcm', 'steht', 'auf', 'den', 'Hinterbeinen', ',']"
     ]
    },
    {
     "name": "stderr",
     "output_type": "stream",
     "text": [
      "INFO:__main__:Source: Small dog in costume stands on hind legs to reach dangling flowers . </S>\n",
      "INFO:__main__:Target Hypothesis: um sie Blumen zu schützen .\n",
      "INFO:__main__:Target Reference: ['um', 'an', 'herunterh\\xc3\\xa4ngende', 'Blumen', 'heranzukommen', '.']\n",
      "INFO:__main__:IMT F1 score: 0.166666666667\n"
     ]
    },
    {
     "name": "stdout",
     "output_type": "stream",
     "text": [
      "\n",
      "predicting target prefix: ['Kleiner', 'Hund', 'in', 'einem', 'Kost\\xc3\\xbcm', 'steht', 'auf', 'den', 'Hinterbeinen', ',', 'um']"
     ]
    },
    {
     "name": "stderr",
     "output_type": "stream",
     "text": [
      "INFO:__main__:Source: Small dog in costume stands on hind legs to reach dangling flowers . </S>\n",
      "INFO:__main__:Target Hypothesis: sie Blumen zu schützen .\n",
      "INFO:__main__:Target Reference: ['an', 'herunterh\\xc3\\xa4ngende', 'Blumen', 'heranzukommen', '.']\n",
      "INFO:__main__:IMT F1 score: 0.0\n"
     ]
    },
    {
     "name": "stdout",
     "output_type": "stream",
     "text": [
      "\n",
      "predicting target prefix: ['Kleiner', 'Hund', 'in', 'einem', 'Kost\\xc3\\xbcm', 'steht', 'auf', 'den', 'Hinterbeinen', ',', 'um', 'an']"
     ]
    },
    {
     "name": "stderr",
     "output_type": "stream",
     "text": [
      "INFO:__main__:Source: Small dog in costume stands on hind legs to reach dangling flowers . </S>\n",
      "INFO:__main__:Target Hypothesis: den Blumen zu schützen .\n",
      "INFO:__main__:Target Reference: ['herunterh\\xc3\\xa4ngende', 'Blumen', 'heranzukommen', '.']\n",
      "INFO:__main__:IMT F1 score: 0.0\n"
     ]
    },
    {
     "name": "stdout",
     "output_type": "stream",
     "text": [
      "\n",
      "predicting target prefix: ['Kleiner', 'Hund', 'in', 'einem', 'Kost\\xc3\\xbcm', 'steht', 'auf', 'den', 'Hinterbeinen', ',', 'um', 'an', 'herunterh\\xc3\\xa4ngende']"
     ]
    },
    {
     "name": "stderr",
     "output_type": "stream",
     "text": [
      "INFO:__main__:Source: Small dog in costume stands on hind legs to reach dangling flowers . </S>\n",
      "INFO:__main__:Target Hypothesis: Blumen zu schützen .\n",
      "INFO:__main__:Target Reference: ['Blumen', 'heranzukommen', '.']\n",
      "INFO:__main__:IMT F1 score: 0.285714285714\n"
     ]
    },
    {
     "name": "stdout",
     "output_type": "stream",
     "text": [
      "\n",
      "predicting target prefix: ['Kleiner', 'Hund', 'in', 'einem', 'Kost\\xc3\\xbcm', 'steht', 'auf', 'den', 'Hinterbeinen', ',', 'um', 'an', 'herunterh\\xc3\\xa4ngende', 'Blumen']"
     ]
    },
    {
     "name": "stderr",
     "output_type": "stream",
     "text": [
      "INFO:__main__:Source: Small dog in costume stands on hind legs to reach dangling flowers . </S>\n",
      "INFO:__main__:Target Hypothesis: zu schützen .\n",
      "INFO:__main__:Target Reference: ['heranzukommen', '.']\n",
      "INFO:__main__:IMT F1 score: 0.0\n"
     ]
    },
    {
     "name": "stdout",
     "output_type": "stream",
     "text": [
      "\n",
      "predicting target prefix: ['Kleiner', 'Hund', 'in', 'einem', 'Kost\\xc3\\xbcm', 'steht', 'auf', 'den', 'Hinterbeinen', ',', 'um', 'an', 'herunterh\\xc3\\xa4ngende', 'Blumen', 'heranzukommen']"
     ]
    },
    {
     "name": "stderr",
     "output_type": "stream",
     "text": [
      "INFO:__main__:Source: Small dog in costume stands on hind legs to reach dangling flowers . </S>\n",
      "INFO:__main__:Target Hypothesis: .\n",
      "INFO:__main__:Target Reference: ['.']\n",
      "INFO:__main__:IMT F1 score: 1.0\n"
     ]
    },
    {
     "name": "stdout",
     "output_type": "stream",
     "text": [
      "\n",
      "predicting target prefix: ['Kleiner', 'Hund', 'in', 'einem', 'Kost\\xc3\\xbcm', 'steht', 'auf', 'den', 'Hinterbeinen', ',', 'um', 'an', 'herunterh\\xc3\\xa4ngende', 'Blumen', 'heranzukommen', '.']"
     ]
    },
    {
     "name": "stderr",
     "output_type": "stream",
     "text": [
      "INFO:__main__:Source: Small dog in costume stands on hind legs to reach dangling flowers . </S>\n",
      "INFO:__main__:Target Hypothesis: </S> .\n",
      "INFO:__main__:Target Reference: []\n",
      "INFO:__main__:IMT F1 score: 0.0\n",
      "INFO:__main__:Translating segment: 4\n"
     ]
    },
    {
     "name": "stdout",
     "output_type": "stream",
     "text": [
      "\n",
      "predicting target prefix: ['Mann']"
     ]
    },
    {
     "name": "stderr",
     "output_type": "stream",
     "text": [
      "INFO:__main__:Source: Man sliding down stair handrails on a bike . </S>\n",
      "INFO:__main__:Target Hypothesis: gleitet auf einem Fahrrad auf einem Fahrrad .\n",
      "INFO:__main__:Target Reference: ['gleitet', 'auf', 'einem', 'Fahrrad', 'den', 'Handlauf', 'einer', 'Treppe', 'hinunter', '.']\n",
      "INFO:__main__:IMT F1 score: 0.444444444444\n"
     ]
    },
    {
     "name": "stdout",
     "output_type": "stream",
     "text": [
      "\n",
      "predicting target prefix: ['Mann', 'gleitet']"
     ]
    },
    {
     "name": "stderr",
     "output_type": "stream",
     "text": [
      "INFO:__main__:Source: Man sliding down stair handrails on a bike . </S>\n",
      "INFO:__main__:Target Hypothesis: auf einem Fahrrad auf einem Fahrrad .\n",
      "INFO:__main__:Target Reference: ['auf', 'einem', 'Fahrrad', 'den', 'Handlauf', 'einer', 'Treppe', 'hinunter', '.']\n",
      "INFO:__main__:IMT F1 score: 0.375\n"
     ]
    },
    {
     "name": "stdout",
     "output_type": "stream",
     "text": [
      "\n",
      "predicting target prefix: ['Mann', 'gleitet', 'auf']"
     ]
    },
    {
     "name": "stderr",
     "output_type": "stream",
     "text": [
      "INFO:__main__:Source: Man sliding down stair handrails on a bike . </S>\n",
      "INFO:__main__:Target Hypothesis: einem Fahrrad auf einem Fahrrad .\n",
      "INFO:__main__:Target Reference: ['einem', 'Fahrrad', 'den', 'Handlauf', 'einer', 'Treppe', 'hinunter', '.']\n",
      "INFO:__main__:IMT F1 score: 0.285714285714\n"
     ]
    },
    {
     "name": "stdout",
     "output_type": "stream",
     "text": [
      "\n",
      "predicting target prefix: ['Mann', 'gleitet', 'auf', 'einem']"
     ]
    },
    {
     "name": "stderr",
     "output_type": "stream",
     "text": [
      "INFO:__main__:Source: Man sliding down stair handrails on a bike . </S>\n",
      "INFO:__main__:Target Hypothesis: Fahrrad auf einem Fahrrad .\n",
      "INFO:__main__:Target Reference: ['Fahrrad', 'den', 'Handlauf', 'einer', 'Treppe', 'hinunter', '.']\n",
      "INFO:__main__:IMT F1 score: 0.166666666667\n"
     ]
    },
    {
     "name": "stdout",
     "output_type": "stream",
     "text": [
      "\n",
      "predicting target prefix: ['Mann', 'gleitet', 'auf', 'einem', 'Fahrrad']"
     ]
    },
    {
     "name": "stderr",
     "output_type": "stream",
     "text": [
      "INFO:__main__:Source: Man sliding down stair handrails on a bike . </S>\n",
      "INFO:__main__:Target Hypothesis: auf einem Fahrrad .\n",
      "INFO:__main__:Target Reference: ['den', 'Handlauf', 'einer', 'Treppe', 'hinunter', '.']\n",
      "INFO:__main__:IMT F1 score: 0.0\n"
     ]
    },
    {
     "name": "stdout",
     "output_type": "stream",
     "text": [
      "\n",
      "predicting target prefix: ['Mann', 'gleitet', 'auf', 'einem', 'Fahrrad', 'den']"
     ]
    },
    {
     "name": "stderr",
     "output_type": "stream",
     "text": [
      "INFO:__main__:Source: Man sliding down stair handrails on a bike . </S>\n",
      "INFO:__main__:Target Hypothesis: Abschlag aus .\n",
      "INFO:__main__:Target Reference: ['Handlauf', 'einer', 'Treppe', 'hinunter', '.']\n",
      "INFO:__main__:IMT F1 score: 0.0\n",
      "INFO:__main__:Source: Man sliding down stair handrails on a bike . </S>\n",
      "INFO:__main__:Target Hypothesis: hinunter .\n",
      "INFO:__main__:Target Reference: ['einer', 'Treppe', 'hinunter', '.']\n",
      "INFO:__main__:IMT F1 score: 0.0\n"
     ]
    },
    {
     "name": "stdout",
     "output_type": "stream",
     "text": [
      "\n",
      "predicting target prefix: ['Mann', 'gleitet', 'auf', 'einem', 'Fahrrad', 'den', 'Handlauf']\n",
      "predicting target prefix: ['Mann', 'gleitet', 'auf', 'einem', 'Fahrrad', 'den', 'Handlauf', 'einer']"
     ]
    },
    {
     "name": "stderr",
     "output_type": "stream",
     "text": [
      "INFO:__main__:Source: Man sliding down stair handrails on a bike . </S>\n",
      "INFO:__main__:Target Hypothesis: gen Himmel .\n",
      "INFO:__main__:Target Reference: ['Treppe', 'hinunter', '.']\n",
      "INFO:__main__:IMT F1 score: 0.0\n"
     ]
    },
    {
     "name": "stdout",
     "output_type": "stream",
     "text": [
      "\n",
      "predicting target prefix: ['Mann', 'gleitet', 'auf', 'einem', 'Fahrrad', 'den', 'Handlauf', 'einer', 'Treppe']"
     ]
    },
    {
     "name": "stderr",
     "output_type": "stream",
     "text": [
      "INFO:__main__:Source: Man sliding down stair handrails on a bike . </S>\n",
      "INFO:__main__:Target Hypothesis: hinunter .\n",
      "INFO:__main__:Target Reference: ['hinunter', '.']\n",
      "INFO:__main__:IMT F1 score: 1.0\n"
     ]
    },
    {
     "name": "stdout",
     "output_type": "stream",
     "text": [
      "\n",
      "predicting target prefix: ['Mann', 'gleitet', 'auf', 'einem', 'Fahrrad', 'den', 'Handlauf', 'einer', 'Treppe', 'hinunter']"
     ]
    },
    {
     "name": "stderr",
     "output_type": "stream",
     "text": [
      "INFO:__main__:Source: Man sliding down stair handrails on a bike . </S>\n",
      "INFO:__main__:Target Hypothesis: .\n",
      "INFO:__main__:Target Reference: ['.']\n",
      "INFO:__main__:IMT F1 score: 1.0\n"
     ]
    },
    {
     "name": "stdout",
     "output_type": "stream",
     "text": [
      "\n",
      "predicting target prefix: ['Mann', 'gleitet', 'auf', 'einem', 'Fahrrad', 'den', 'Handlauf', 'einer', 'Treppe', 'hinunter', '.']"
     ]
    },
    {
     "name": "stderr",
     "output_type": "stream",
     "text": [
      "INFO:__main__:Source: Man sliding down stair handrails on a bike . </S>\n",
      "INFO:__main__:Target Hypothesis: </S> .\n",
      "INFO:__main__:Target Reference: []\n",
      "INFO:__main__:IMT F1 score: 0.0\n",
      "INFO:__main__:Translating segment: 5\n"
     ]
    },
    {
     "name": "stdout",
     "output_type": "stream",
     "text": [
      "\n",
      "predicting target prefix: ['Ein']"
     ]
    },
    {
     "name": "stderr",
     "output_type": "stream",
     "text": [
      "INFO:__main__:Source: A man with a bucket and a girl in a hat on the beach . </S>\n",
      "INFO:__main__:Target Hypothesis: Mann mit einem Eimer und ein Mädchen mit einem Hut am Strand .\n",
      "INFO:__main__:Target Reference: ['Mann', 'mit', 'einem', 'Eimer', 'und', 'ein', 'M\\xc3\\xa4dchen', 'mit', 'einem', 'Hut', 'am', 'Strand', '.']\n",
      "INFO:__main__:IMT F1 score: 1.0\n"
     ]
    },
    {
     "name": "stdout",
     "output_type": "stream",
     "text": [
      "\n",
      "predicting target prefix: ['Ein', 'Mann']"
     ]
    },
    {
     "name": "stderr",
     "output_type": "stream",
     "text": [
      "INFO:__main__:Source: A man with a bucket and a girl in a hat on the beach . </S>\n",
      "INFO:__main__:Target Hypothesis: mit einem Eimer und ein Mädchen mit einem Hut am Strand .\n",
      "INFO:__main__:Target Reference: ['mit', 'einem', 'Eimer', 'und', 'ein', 'M\\xc3\\xa4dchen', 'mit', 'einem', 'Hut', 'am', 'Strand', '.']\n",
      "INFO:__main__:IMT F1 score: 1.0\n"
     ]
    },
    {
     "name": "stdout",
     "output_type": "stream",
     "text": [
      "\n",
      "predicting target prefix: ['Ein', 'Mann', 'mit']"
     ]
    },
    {
     "name": "stderr",
     "output_type": "stream",
     "text": [
      "INFO:__main__:Source: A man with a bucket and a girl in a hat on the beach . </S>\n",
      "INFO:__main__:Target Hypothesis: einem Eimer und ein Mädchen mit einem Hut am Strand .\n",
      "INFO:__main__:Target Reference: ['einem', 'Eimer', 'und', 'ein', 'M\\xc3\\xa4dchen', 'mit', 'einem', 'Hut', 'am', 'Strand', '.']\n",
      "INFO:__main__:IMT F1 score: 1.0\n"
     ]
    },
    {
     "name": "stdout",
     "output_type": "stream",
     "text": [
      "\n",
      "predicting target prefix: ['Ein', 'Mann', 'mit', 'einem']"
     ]
    },
    {
     "name": "stderr",
     "output_type": "stream",
     "text": [
      "INFO:__main__:Source: A man with a bucket and a girl in a hat on the beach . </S>\n",
      "INFO:__main__:Target Hypothesis: Eimer und ein Mädchen mit einem Hut am Strand .\n",
      "INFO:__main__:Target Reference: ['Eimer', 'und', 'ein', 'M\\xc3\\xa4dchen', 'mit', 'einem', 'Hut', 'am', 'Strand', '.']\n",
      "INFO:__main__:IMT F1 score: 1.0\n"
     ]
    },
    {
     "name": "stdout",
     "output_type": "stream",
     "text": [
      "\n",
      "predicting target prefix: ['Ein', 'Mann', 'mit', 'einem', 'Eimer']"
     ]
    },
    {
     "name": "stderr",
     "output_type": "stream",
     "text": [
      "INFO:__main__:Source: A man with a bucket and a girl in a hat on the beach . </S>\n",
      "INFO:__main__:Target Hypothesis: und ein Mädchen mit einem Hut am Strand .\n",
      "INFO:__main__:Target Reference: ['und', 'ein', 'M\\xc3\\xa4dchen', 'mit', 'einem', 'Hut', 'am', 'Strand', '.']\n",
      "INFO:__main__:IMT F1 score: 1.0\n"
     ]
    },
    {
     "name": "stdout",
     "output_type": "stream",
     "text": [
      "\n",
      "predicting target prefix: ['Ein', 'Mann', 'mit', 'einem', 'Eimer', 'und']"
     ]
    },
    {
     "name": "stderr",
     "output_type": "stream",
     "text": [
      "INFO:__main__:Source: A man with a bucket and a girl in a hat on the beach . </S>\n",
      "INFO:__main__:Target Hypothesis: ein Mädchen mit einem Hut am Strand .\n",
      "INFO:__main__:Target Reference: ['ein', 'M\\xc3\\xa4dchen', 'mit', 'einem', 'Hut', 'am', 'Strand', '.']\n",
      "INFO:__main__:IMT F1 score: 1.0\n"
     ]
    },
    {
     "name": "stdout",
     "output_type": "stream",
     "text": [
      "\n",
      "predicting target prefix: ['Ein', 'Mann', 'mit', 'einem', 'Eimer', 'und', 'ein']"
     ]
    },
    {
     "name": "stderr",
     "output_type": "stream",
     "text": [
      "INFO:__main__:Source: A man with a bucket and a girl in a hat on the beach . </S>\n",
      "INFO:__main__:Target Hypothesis: Mädchen mit einem Hut am Strand .\n",
      "INFO:__main__:Target Reference: ['M\\xc3\\xa4dchen', 'mit', 'einem', 'Hut', 'am', 'Strand', '.']\n",
      "INFO:__main__:IMT F1 score: 1.0\n"
     ]
    },
    {
     "name": "stdout",
     "output_type": "stream",
     "text": [
      "\n",
      "predicting target prefix: ['Ein', 'Mann', 'mit', 'einem', 'Eimer', 'und', 'ein', 'M\\xc3\\xa4dchen']"
     ]
    },
    {
     "name": "stderr",
     "output_type": "stream",
     "text": [
      "INFO:__main__:Source: A man with a bucket and a girl in a hat on the beach . </S>\n",
      "INFO:__main__:Target Hypothesis: mit einem Hut am Strand .\n",
      "INFO:__main__:Target Reference: ['mit', 'einem', 'Hut', 'am', 'Strand', '.']\n",
      "INFO:__main__:IMT F1 score: 1.0\n"
     ]
    },
    {
     "name": "stdout",
     "output_type": "stream",
     "text": [
      "\n",
      "predicting target prefix: ['Ein', 'Mann', 'mit', 'einem', 'Eimer', 'und', 'ein', 'M\\xc3\\xa4dchen', 'mit']"
     ]
    },
    {
     "name": "stderr",
     "output_type": "stream",
     "text": [
      "INFO:__main__:Source: A man with a bucket and a girl in a hat on the beach . </S>\n",
      "INFO:__main__:Target Hypothesis: einem Hut am Strand .\n",
      "INFO:__main__:Target Reference: ['einem', 'Hut', 'am', 'Strand', '.']\n",
      "INFO:__main__:IMT F1 score: 1.0\n"
     ]
    },
    {
     "name": "stdout",
     "output_type": "stream",
     "text": [
      "\n",
      "predicting target prefix: ['Ein', 'Mann', 'mit', 'einem', 'Eimer', 'und', 'ein', 'M\\xc3\\xa4dchen', 'mit', 'einem']"
     ]
    },
    {
     "name": "stderr",
     "output_type": "stream",
     "text": [
      "INFO:__main__:Source: A man with a bucket and a girl in a hat on the beach . </S>\n",
      "INFO:__main__:Target Hypothesis: Hut am Strand .\n",
      "INFO:__main__:Target Reference: ['Hut', 'am', 'Strand', '.']\n",
      "INFO:__main__:IMT F1 score: 1.0\n"
     ]
    },
    {
     "name": "stdout",
     "output_type": "stream",
     "text": [
      "\n",
      "predicting target prefix: ['Ein', 'Mann', 'mit', 'einem', 'Eimer', 'und', 'ein', 'M\\xc3\\xa4dchen', 'mit', 'einem', 'Hut']"
     ]
    },
    {
     "name": "stderr",
     "output_type": "stream",
     "text": [
      "INFO:__main__:Source: A man with a bucket and a girl in a hat on the beach . </S>\n",
      "INFO:__main__:Target Hypothesis: am Strand .\n",
      "INFO:__main__:Target Reference: ['am', 'Strand', '.']\n",
      "INFO:__main__:IMT F1 score: 1.0\n"
     ]
    },
    {
     "name": "stdout",
     "output_type": "stream",
     "text": [
      "\n",
      "predicting target prefix: ['Ein', 'Mann', 'mit', 'einem', 'Eimer', 'und', 'ein', 'M\\xc3\\xa4dchen', 'mit', 'einem', 'Hut', 'am']"
     ]
    },
    {
     "name": "stderr",
     "output_type": "stream",
     "text": [
      "INFO:__main__:Source: A man with a bucket and a girl in a hat on the beach . </S>\n",
      "INFO:__main__:Target Hypothesis: Strand .\n",
      "INFO:__main__:Target Reference: ['Strand', '.']\n",
      "INFO:__main__:IMT F1 score: 1.0\n"
     ]
    },
    {
     "name": "stdout",
     "output_type": "stream",
     "text": [
      "\n",
      "predicting target prefix: ['Ein', 'Mann', 'mit', 'einem', 'Eimer', 'und', 'ein', 'M\\xc3\\xa4dchen', 'mit', 'einem', 'Hut', 'am', 'Strand']"
     ]
    },
    {
     "name": "stderr",
     "output_type": "stream",
     "text": [
      "INFO:__main__:Source: A man with a bucket and a girl in a hat on the beach . </S>\n",
      "INFO:__main__:Target Hypothesis: .\n",
      "INFO:__main__:Target Reference: ['.']\n",
      "INFO:__main__:IMT F1 score: 1.0\n"
     ]
    },
    {
     "name": "stdout",
     "output_type": "stream",
     "text": [
      "\n",
      "predicting target prefix: ['Ein', 'Mann', 'mit', 'einem', 'Eimer', 'und', 'ein', 'M\\xc3\\xa4dchen', 'mit', 'einem', 'Hut', 'am', 'Strand', '.']"
     ]
    },
    {
     "name": "stderr",
     "output_type": "stream",
     "text": [
      "INFO:__main__:Source: A man with a bucket and a girl in a hat on the beach . </S>\n",
      "INFO:__main__:Target Hypothesis: </S> .\n",
      "INFO:__main__:Target Reference: []\n",
      "INFO:__main__:IMT F1 score: 0.0\n",
      "INFO:__main__:Translating segment: 6\n"
     ]
    },
    {
     "name": "stdout",
     "output_type": "stream",
     "text": [
      "\n",
      "predicting target prefix: ['Menschen']"
     ]
    },
    {
     "name": "stderr",
     "output_type": "stream",
     "text": [
      "INFO:__main__:Source: People walk on a metropolitan sidewalk in front of a bar and grill . </S>\n",
      "INFO:__main__:Target Hypothesis: gehen auf einem gepflasterten Bürgersteig vor einem Balken und einem Grill im Wasser .\n",
      "INFO:__main__:Target Reference: ['gehen', 'vor', 'einer', 'Imbissbar', 'auf', 'einem', 'Gehweg', 'in', 'einer', 'Gro\\xc3\\x9fstadt', '.']\n",
      "INFO:__main__:IMT F1 score: 0.08\n"
     ]
    },
    {
     "name": "stdout",
     "output_type": "stream",
     "text": [
      "\n",
      "predicting target prefix: ['Menschen', 'gehen']"
     ]
    },
    {
     "name": "stderr",
     "output_type": "stream",
     "text": [
      "INFO:__main__:Source: People walk on a metropolitan sidewalk in front of a bar and grill . </S>\n",
      "INFO:__main__:Target Hypothesis: auf einem gepflasterten Bürgersteig vor einem Balken und einem Grill im Wasser .\n",
      "INFO:__main__:Target Reference: ['vor', 'einer', 'Imbissbar', 'auf', 'einem', 'Gehweg', 'in', 'einer', 'Gro\\xc3\\x9fstadt', '.']\n",
      "INFO:__main__:IMT F1 score: 0.0\n"
     ]
    },
    {
     "name": "stdout",
     "output_type": "stream",
     "text": [
      "\n",
      "predicting target prefix: ['Menschen', 'gehen', 'vor']"
     ]
    },
    {
     "name": "stderr",
     "output_type": "stream",
     "text": [
      "INFO:__main__:Source: People walk on a metropolitan sidewalk in front of a bar and grill . </S>\n",
      "INFO:__main__:Target Hypothesis: einem Balken vor einem Balken und einem Grill im Wasser .\n",
      "INFO:__main__:Target Reference: ['einer', 'Imbissbar', 'auf', 'einem', 'Gehweg', 'in', 'einer', 'Gro\\xc3\\x9fstadt', '.']\n",
      "INFO:__main__:IMT F1 score: 0.0\n"
     ]
    },
    {
     "name": "stdout",
     "output_type": "stream",
     "text": [
      "\n",
      "predicting target prefix: ['Menschen', 'gehen', 'vor', 'einer']"
     ]
    },
    {
     "name": "stderr",
     "output_type": "stream",
     "text": [
      "INFO:__main__:Source: People walk on a metropolitan sidewalk in front of a bar and grill . </S>\n",
      "INFO:__main__:Target Hypothesis: Bar , und einem Grill im Wasser .\n",
      "INFO:__main__:Target Reference: ['Imbissbar', 'auf', 'einem', 'Gehweg', 'in', 'einer', 'Gro\\xc3\\x9fstadt', '.']\n",
      "INFO:__main__:IMT F1 score: 0.0\n"
     ]
    },
    {
     "name": "stdout",
     "output_type": "stream",
     "text": [
      "\n",
      "predicting target prefix: ['Menschen', 'gehen', 'vor', 'einer', 'Imbissbar']"
     ]
    },
    {
     "name": "stderr",
     "output_type": "stream",
     "text": [
      "INFO:__main__:Source: People walk on a metropolitan sidewalk in front of a bar and grill . </S>\n",
      "INFO:__main__:Target Hypothesis: vor einem Balken und einem Grill im Wasser .\n",
      "INFO:__main__:Target Reference: ['auf', 'einem', 'Gehweg', 'in', 'einer', 'Gro\\xc3\\x9fstadt', '.']\n",
      "INFO:__main__:IMT F1 score: 0.0\n"
     ]
    },
    {
     "name": "stdout",
     "output_type": "stream",
     "text": [
      "\n",
      "predicting target prefix: ['Menschen', 'gehen', 'vor', 'einer', 'Imbissbar', 'auf']"
     ]
    },
    {
     "name": "stderr",
     "output_type": "stream",
     "text": [
      "INFO:__main__:Source: People walk on a metropolitan sidewalk in front of a bar and grill . </S>\n",
      "INFO:__main__:Target Hypothesis: einem gepflasterten Bürgersteig und vor einem Grill im Wasser .\n",
      "INFO:__main__:Target Reference: ['einem', 'Gehweg', 'in', 'einer', 'Gro\\xc3\\x9fstadt', '.']\n",
      "INFO:__main__:IMT F1 score: 0.125\n"
     ]
    },
    {
     "name": "stdout",
     "output_type": "stream",
     "text": [
      "\n",
      "predicting target prefix: ['Menschen', 'gehen', 'vor', 'einer', 'Imbissbar', 'auf', 'einem']"
     ]
    },
    {
     "name": "stderr",
     "output_type": "stream",
     "text": [
      "INFO:__main__:Source: People walk on a metropolitan sidewalk in front of a bar and grill . </S>\n",
      "INFO:__main__:Target Hypothesis: gepflasterten Bürgersteig und vor einem Grill im Wasser .\n",
      "INFO:__main__:Target Reference: ['Gehweg', 'in', 'einer', 'Gro\\xc3\\x9fstadt', '.']\n",
      "INFO:__main__:IMT F1 score: 0.0\n"
     ]
    },
    {
     "name": "stdout",
     "output_type": "stream",
     "text": [
      "\n",
      "predicting target prefix: ['Menschen', 'gehen', 'vor', 'einer', 'Imbissbar', 'auf', 'einem', 'Gehweg']"
     ]
    },
    {
     "name": "stderr",
     "output_type": "stream",
     "text": [
      "INFO:__main__:Source: People walk on a metropolitan sidewalk in front of a bar and grill . </S>\n",
      "INFO:__main__:Target Hypothesis: vor einem Balken und einem Grill im Wasser .\n",
      "INFO:__main__:Target Reference: ['in', 'einer', 'Gro\\xc3\\x9fstadt', '.']\n",
      "INFO:__main__:IMT F1 score: 0.0\n"
     ]
    },
    {
     "name": "stdout",
     "output_type": "stream",
     "text": [
      "\n",
      "predicting target prefix: ['Menschen', 'gehen', 'vor', 'einer', 'Imbissbar', 'auf', 'einem', 'Gehweg', 'in']"
     ]
    },
    {
     "name": "stderr",
     "output_type": "stream",
     "text": [
      "INFO:__main__:Source: People walk on a metropolitan sidewalk in front of a bar and grill . </S>\n",
      "INFO:__main__:Target Hypothesis: einem Schaufenster .\n",
      "INFO:__main__:Target Reference: ['einer', 'Gro\\xc3\\x9fstadt', '.']\n",
      "INFO:__main__:IMT F1 score: 0.0\n"
     ]
    },
    {
     "name": "stdout",
     "output_type": "stream",
     "text": [
      "\n",
      "predicting target prefix: ['Menschen', 'gehen', 'vor', 'einer', 'Imbissbar', 'auf', 'einem', 'Gehweg', 'in', 'einer']"
     ]
    },
    {
     "name": "stderr",
     "output_type": "stream",
     "text": [
      "INFO:__main__:Source: People walk on a metropolitan sidewalk in front of a bar and grill . </S>\n",
      "INFO:__main__:Target Hypothesis: Stadt .\n",
      "INFO:__main__:Target Reference: ['Gro\\xc3\\x9fstadt', '.']\n",
      "INFO:__main__:IMT F1 score: 0.0\n"
     ]
    },
    {
     "name": "stdout",
     "output_type": "stream",
     "text": [
      "\n",
      "predicting target prefix: ['Menschen', 'gehen', 'vor', 'einer', 'Imbissbar', 'auf', 'einem', 'Gehweg', 'in', 'einer', 'Gro\\xc3\\x9fstadt']"
     ]
    },
    {
     "name": "stderr",
     "output_type": "stream",
     "text": [
      "INFO:__main__:Source: People walk on a metropolitan sidewalk in front of a bar and grill . </S>\n",
      "INFO:__main__:Target Hypothesis: .\n",
      "INFO:__main__:Target Reference: ['.']\n",
      "INFO:__main__:IMT F1 score: 1.0\n"
     ]
    },
    {
     "name": "stdout",
     "output_type": "stream",
     "text": [
      "\n",
      "predicting target prefix: ['Menschen', 'gehen', 'vor', 'einer', 'Imbissbar', 'auf', 'einem', 'Gehweg', 'in', 'einer', 'Gro\\xc3\\x9fstadt', '.']"
     ]
    },
    {
     "name": "stderr",
     "output_type": "stream",
     "text": [
      "INFO:__main__:Source: People walk on a metropolitan sidewalk in front of a bar and grill . </S>\n",
      "INFO:__main__:Target Hypothesis: </S> .\n",
      "INFO:__main__:Target Reference: []\n",
      "INFO:__main__:IMT F1 score: 0.0\n",
      "INFO:__main__:Translating segment: 7\n"
     ]
    },
    {
     "name": "stdout",
     "output_type": "stream",
     "text": [
      "\n",
      "predicting target prefix: ['Ein']"
     ]
    },
    {
     "name": "stderr",
     "output_type": "stream",
     "text": [
      "INFO:__main__:Source: A large dog is jumping in a fountain while a man in a black T-shirt and vest stands nearby . </S>\n",
      "INFO:__main__:Target Hypothesis: großer Hund springt in einem Springbrunnen .\n",
      "INFO:__main__:Target Reference: ['gro\\xc3\\x9fer', 'Hund', 'springt', 'in', 'einem', 'Springbrunnen', 'herum', ',', 'w\\xc3\\xa4hrend', 'ein', 'Mann', 'mit', 'einem', 'schwarzen', 'T-Shirt', 'und', 'einer', 'Weste', 'danebensteht', '.']\n",
      "INFO:__main__:IMT F1 score: 0.444444444444\n"
     ]
    },
    {
     "name": "stdout",
     "output_type": "stream",
     "text": [
      "\n",
      "predicting target prefix: ['Ein', 'gro\\xc3\\x9fer']"
     ]
    },
    {
     "name": "stderr",
     "output_type": "stream",
     "text": [
      "INFO:__main__:Source: A large dog is jumping in a fountain while a man in a black T-shirt and vest stands nearby . </S>\n",
      "INFO:__main__:Target Hypothesis: Hund springt in einem Brunnen , während ein Mann in einem schwarzen T-Shirt und in der Nähe steht .\n",
      "INFO:__main__:Target Reference: ['Hund', 'springt', 'in', 'einem', 'Springbrunnen', 'herum', ',', 'w\\xc3\\xa4hrend', 'ein', 'Mann', 'mit', 'einem', 'schwarzen', 'T-Shirt', 'und', 'einer', 'Weste', 'danebensteht', '.']\n",
      "INFO:__main__:IMT F1 score: 0.210526315789\n"
     ]
    },
    {
     "name": "stdout",
     "output_type": "stream",
     "text": [
      "\n",
      "predicting target prefix: ['Ein', 'gro\\xc3\\x9fer', 'Hund']"
     ]
    },
    {
     "name": "stderr",
     "output_type": "stream",
     "text": [
      "INFO:__main__:Source: A large dog is jumping in a fountain while a man in a black T-shirt and vest stands nearby . </S>\n",
      "INFO:__main__:Target Hypothesis: springt in einem Brunnen , während ein Mann in einem schwarzen T-Shirt und in der Nähe steht .\n",
      "INFO:__main__:Target Reference: ['springt', 'in', 'einem', 'Springbrunnen', 'herum', ',', 'w\\xc3\\xa4hrend', 'ein', 'Mann', 'mit', 'einem', 'schwarzen', 'T-Shirt', 'und', 'einer', 'Weste', 'danebensteht', '.']\n",
      "INFO:__main__:IMT F1 score: 0.166666666667\n"
     ]
    },
    {
     "name": "stdout",
     "output_type": "stream",
     "text": [
      "\n",
      "predicting target prefix: ['Ein', 'gro\\xc3\\x9fer', 'Hund', 'springt']"
     ]
    },
    {
     "name": "stderr",
     "output_type": "stream",
     "text": [
      "INFO:__main__:Source: A large dog is jumping in a fountain while a man in a black T-shirt and vest stands nearby . </S>\n",
      "INFO:__main__:Target Hypothesis: in einem Brunnen , während ein Mann in einem schwarzen T-Shirt und in der Nähe steht .\n",
      "INFO:__main__:Target Reference: ['in', 'einem', 'Springbrunnen', 'herum', ',', 'w\\xc3\\xa4hrend', 'ein', 'Mann', 'mit', 'einem', 'schwarzen', 'T-Shirt', 'und', 'einer', 'Weste', 'danebensteht', '.']\n",
      "INFO:__main__:IMT F1 score: 0.117647058824\n"
     ]
    },
    {
     "name": "stdout",
     "output_type": "stream",
     "text": [
      "\n",
      "predicting target prefix: ['Ein', 'gro\\xc3\\x9fer', 'Hund', 'springt', 'in']"
     ]
    },
    {
     "name": "stderr",
     "output_type": "stream",
     "text": [
      "INFO:__main__:Source: A large dog is jumping in a fountain while a man in a black T-shirt and vest stands nearby . </S>\n",
      "INFO:__main__:Target Hypothesis: einem Brunnen , während ein Mann in einem schwarzen T-Shirt und in der Nähe steht .\n",
      "INFO:__main__:Target Reference: ['einem', 'Springbrunnen', 'herum', ',', 'w\\xc3\\xa4hrend', 'ein', 'Mann', 'mit', 'einem', 'schwarzen', 'T-Shirt', 'und', 'einer', 'Weste', 'danebensteht', '.']\n",
      "INFO:__main__:IMT F1 score: 0.0625\n"
     ]
    },
    {
     "name": "stdout",
     "output_type": "stream",
     "text": [
      "\n",
      "predicting target prefix: ['Ein', 'gro\\xc3\\x9fer', 'Hund', 'springt', 'in', 'einem']"
     ]
    },
    {
     "name": "stderr",
     "output_type": "stream",
     "text": [
      "INFO:__main__:Source: A large dog is jumping in a fountain while a man in a black T-shirt and vest stands nearby . </S>\n",
      "INFO:__main__:Target Hypothesis: Brunnen , während ein Mann in einem schwarzen T-Shirt und in der Nähe steht .\n",
      "INFO:__main__:Target Reference: ['Springbrunnen', 'herum', ',', 'w\\xc3\\xa4hrend', 'ein', 'Mann', 'mit', 'einem', 'schwarzen', 'T-Shirt', 'und', 'einer', 'Weste', 'danebensteht', '.']\n",
      "INFO:__main__:IMT F1 score: 0.0\n"
     ]
    },
    {
     "name": "stdout",
     "output_type": "stream",
     "text": [
      "\n",
      "predicting target prefix: ['Ein', 'gro\\xc3\\x9fer', 'Hund', 'springt', 'in', 'einem', 'Springbrunnen']"
     ]
    },
    {
     "name": "stderr",
     "output_type": "stream",
     "text": [
      "INFO:__main__:Source: A large dog is jumping in a fountain while a man in a black T-shirt and vest stands nearby . </S>\n",
      "INFO:__main__:Target Hypothesis: .\n",
      "INFO:__main__:Target Reference: ['herum', ',', 'w\\xc3\\xa4hrend', 'ein', 'Mann', 'mit', 'einem', 'schwarzen', 'T-Shirt', 'und', 'einer', 'Weste', 'danebensteht', '.']\n",
      "INFO:__main__:IMT F1 score: 0.0\n"
     ]
    },
    {
     "name": "stdout",
     "output_type": "stream",
     "text": [
      "\n",
      "predicting target prefix: ['Ein', 'gro\\xc3\\x9fer', 'Hund', 'springt', 'in', 'einem', 'Springbrunnen', 'herum']"
     ]
    },
    {
     "name": "stderr",
     "output_type": "stream",
     "text": [
      "INFO:__main__:Source: A large dog is jumping in a fountain while a man in a black T-shirt and vest stands nearby . </S>\n",
      "INFO:__main__:Target Hypothesis: , während ein Mann in der Nähe steht .\n",
      "INFO:__main__:Target Reference: [',', 'w\\xc3\\xa4hrend', 'ein', 'Mann', 'mit', 'einem', 'schwarzen', 'T-Shirt', 'und', 'einer', 'Weste', 'danebensteht', '.']\n",
      "INFO:__main__:IMT F1 score: 0.363636363636\n"
     ]
    },
    {
     "name": "stdout",
     "output_type": "stream",
     "text": [
      "\n",
      "predicting target prefix: ['Ein', 'gro\\xc3\\x9fer', 'Hund', 'springt', 'in', 'einem', 'Springbrunnen', 'herum', ',']"
     ]
    },
    {
     "name": "stderr",
     "output_type": "stream",
     "text": [
      "INFO:__main__:Source: A large dog is jumping in a fountain while a man in a black T-shirt and vest stands nearby . </S>\n",
      "INFO:__main__:Target Hypothesis: während ein Mann in der Nähe steht .\n",
      "INFO:__main__:Target Reference: ['w\\xc3\\xa4hrend', 'ein', 'Mann', 'mit', 'einem', 'schwarzen', 'T-Shirt', 'und', 'einer', 'Weste', 'danebensteht', '.']\n",
      "INFO:__main__:IMT F1 score: 0.3\n"
     ]
    },
    {
     "name": "stdout",
     "output_type": "stream",
     "text": [
      "\n",
      "predicting target prefix: ['Ein', 'gro\\xc3\\x9fer', 'Hund', 'springt', 'in', 'einem', 'Springbrunnen', 'herum', ',', 'w\\xc3\\xa4hrend']"
     ]
    },
    {
     "name": "stderr",
     "output_type": "stream",
     "text": [
      "INFO:__main__:Source: A large dog is jumping in a fountain while a man in a black T-shirt and vest stands nearby . </S>\n",
      "INFO:__main__:Target Hypothesis: ein Mann in der Nähe steht .\n",
      "INFO:__main__:Target Reference: ['ein', 'Mann', 'mit', 'einem', 'schwarzen', 'T-Shirt', 'und', 'einer', 'Weste', 'danebensteht', '.']\n",
      "INFO:__main__:IMT F1 score: 0.222222222222\n"
     ]
    },
    {
     "name": "stdout",
     "output_type": "stream",
     "text": [
      "\n",
      "predicting target prefix: ['Ein', 'gro\\xc3\\x9fer', 'Hund', 'springt', 'in', 'einem', 'Springbrunnen', 'herum', ',', 'w\\xc3\\xa4hrend', 'ein']"
     ]
    },
    {
     "name": "stderr",
     "output_type": "stream",
     "text": [
      "INFO:__main__:Source: A large dog is jumping in a fountain while a man in a black T-shirt and vest stands nearby . </S>\n",
      "INFO:__main__:Target Hypothesis: Mann in der Nähe steht .\n",
      "INFO:__main__:Target Reference: ['Mann', 'mit', 'einem', 'schwarzen', 'T-Shirt', 'und', 'einer', 'Weste', 'danebensteht', '.']\n",
      "INFO:__main__:IMT F1 score: 0.125\n"
     ]
    },
    {
     "name": "stdout",
     "output_type": "stream",
     "text": [
      "\n",
      "predicting target prefix: ['Ein', 'gro\\xc3\\x9fer', 'Hund', 'springt', 'in', 'einem', 'Springbrunnen', 'herum', ',', 'w\\xc3\\xa4hrend', 'ein', 'Mann']"
     ]
    },
    {
     "name": "stderr",
     "output_type": "stream",
     "text": [
      "INFO:__main__:Source: A large dog is jumping in a fountain while a man in a black T-shirt and vest stands nearby . </S>\n",
      "INFO:__main__:Target Hypothesis: in der Nähe steht .\n",
      "INFO:__main__:Target Reference: ['mit', 'einem', 'schwarzen', 'T-Shirt', 'und', 'einer', 'Weste', 'danebensteht', '.']\n",
      "INFO:__main__:IMT F1 score: 0.0\n"
     ]
    },
    {
     "name": "stdout",
     "output_type": "stream",
     "text": [
      "\n",
      "predicting target prefix: ['Ein', 'gro\\xc3\\x9fer', 'Hund', 'springt', 'in', 'einem', 'Springbrunnen', 'herum', ',', 'w\\xc3\\xa4hrend', 'ein', 'Mann', 'mit']"
     ]
    },
    {
     "name": "stderr",
     "output_type": "stream",
     "text": [
      "INFO:__main__:Source: A large dog is jumping in a fountain while a man in a black T-shirt and vest stands nearby . </S>\n",
      "INFO:__main__:Target Hypothesis: einem schwarzen T-Shirt und Gitarre steht .\n",
      "INFO:__main__:Target Reference: ['einem', 'schwarzen', 'T-Shirt', 'und', 'einer', 'Weste', 'danebensteht', '.']\n",
      "INFO:__main__:IMT F1 score: 0.533333333333\n"
     ]
    },
    {
     "name": "stdout",
     "output_type": "stream",
     "text": [
      "\n",
      "predicting target prefix: ['Ein', 'gro\\xc3\\x9fer', 'Hund', 'springt', 'in', 'einem', 'Springbrunnen', 'herum', ',', 'w\\xc3\\xa4hrend', 'ein', 'Mann', 'mit', 'einem']"
     ]
    },
    {
     "name": "stderr",
     "output_type": "stream",
     "text": [
      "INFO:__main__:Source: A large dog is jumping in a fountain while a man in a black T-shirt and vest stands nearby . </S>\n",
      "INFO:__main__:Target Hypothesis: schwarzen T-Shirt und in der Nähe steht .\n",
      "INFO:__main__:Target Reference: ['schwarzen', 'T-Shirt', 'und', 'einer', 'Weste', 'danebensteht', '.']\n",
      "INFO:__main__:IMT F1 score: 0.4\n"
     ]
    },
    {
     "name": "stdout",
     "output_type": "stream",
     "text": [
      "\n",
      "predicting target prefix: ['Ein', 'gro\\xc3\\x9fer', 'Hund', 'springt', 'in', 'einem', 'Springbrunnen', 'herum', ',', 'w\\xc3\\xa4hrend', 'ein', 'Mann', 'mit', 'einem', 'schwarzen']"
     ]
    },
    {
     "name": "stderr",
     "output_type": "stream",
     "text": [
      "INFO:__main__:Source: A large dog is jumping in a fountain while a man in a black T-shirt and vest stands nearby . </S>\n",
      "INFO:__main__:Target Hypothesis: T-Shirt und in der Nähe steht .\n",
      "INFO:__main__:Target Reference: ['T-Shirt', 'und', 'einer', 'Weste', 'danebensteht', '.']\n",
      "INFO:__main__:IMT F1 score: 0.307692307692\n"
     ]
    },
    {
     "name": "stdout",
     "output_type": "stream",
     "text": [
      "\n",
      "predicting target prefix: ['Ein', 'gro\\xc3\\x9fer', 'Hund', 'springt', 'in', 'einem', 'Springbrunnen', 'herum', ',', 'w\\xc3\\xa4hrend', 'ein', 'Mann', 'mit', 'einem', 'schwarzen', 'T-Shirt']"
     ]
    },
    {
     "name": "stderr",
     "output_type": "stream",
     "text": [
      "INFO:__main__:Source: A large dog is jumping in a fountain while a man in a black T-shirt and vest stands nearby . </S>\n",
      "INFO:__main__:Target Hypothesis: und in der Nähe steht .\n",
      "INFO:__main__:Target Reference: ['und', 'einer', 'Weste', 'danebensteht', '.']\n",
      "INFO:__main__:IMT F1 score: 0.181818181818\n"
     ]
    },
    {
     "name": "stdout",
     "output_type": "stream",
     "text": [
      "\n",
      "predicting target prefix: ['Ein', 'gro\\xc3\\x9fer', 'Hund', 'springt', 'in', 'einem', 'Springbrunnen', 'herum', ',', 'w\\xc3\\xa4hrend', 'ein', 'Mann', 'mit', 'einem', 'schwarzen', 'T-Shirt', 'und']"
     ]
    },
    {
     "name": "stderr",
     "output_type": "stream",
     "text": [
      "INFO:__main__:Source: A large dog is jumping in a fountain while a man in a black T-shirt and vest stands nearby . </S>\n",
      "INFO:__main__:Target Hypothesis: Licht in der Nähe steht .\n",
      "INFO:__main__:Target Reference: ['einer', 'Weste', 'danebensteht', '.']\n",
      "INFO:__main__:IMT F1 score: 0.0\n"
     ]
    },
    {
     "name": "stdout",
     "output_type": "stream",
     "text": [
      "\n",
      "predicting target prefix: ['Ein', 'gro\\xc3\\x9fer', 'Hund', 'springt', 'in', 'einem', 'Springbrunnen', 'herum', ',', 'w\\xc3\\xa4hrend', 'ein', 'Mann', 'mit', 'einem', 'schwarzen', 'T-Shirt', 'und', 'einer']"
     ]
    },
    {
     "name": "stderr",
     "output_type": "stream",
     "text": [
      "INFO:__main__:Source: A large dog is jumping in a fountain while a man in a black T-shirt and vest stands nearby . </S>\n",
      "INFO:__main__:Target Hypothesis: Gitarre steht .\n",
      "INFO:__main__:Target Reference: ['Weste', 'danebensteht', '.']\n",
      "INFO:__main__:IMT F1 score: 0.0\n"
     ]
    },
    {
     "name": "stdout",
     "output_type": "stream",
     "text": [
      "\n",
      "predicting target prefix: ['Ein', 'gro\\xc3\\x9fer', 'Hund', 'springt', 'in', 'einem', 'Springbrunnen', 'herum', ',', 'w\\xc3\\xa4hrend', 'ein', 'Mann', 'mit', 'einem', 'schwarzen', 'T-Shirt', 'und', 'einer', 'Weste']"
     ]
    },
    {
     "name": "stderr",
     "output_type": "stream",
     "text": [
      "INFO:__main__:Source: A large dog is jumping in a fountain while a man in a black T-shirt and vest stands nearby . </S>\n",
      "INFO:__main__:Target Hypothesis: steht in der Nähe steht .\n",
      "INFO:__main__:Target Reference: ['danebensteht', '.']\n",
      "INFO:__main__:IMT F1 score: 0.0\n"
     ]
    },
    {
     "name": "stdout",
     "output_type": "stream",
     "text": [
      "\n",
      "predicting target prefix: ['Ein', 'gro\\xc3\\x9fer', 'Hund', 'springt', 'in', 'einem', 'Springbrunnen', 'herum', ',', 'w\\xc3\\xa4hrend', 'ein', 'Mann', 'mit', 'einem', 'schwarzen', 'T-Shirt', 'und', 'einer', 'Weste', 'danebensteht']"
     ]
    },
    {
     "name": "stderr",
     "output_type": "stream",
     "text": [
      "INFO:__main__:Source: A large dog is jumping in a fountain while a man in a black T-shirt and vest stands nearby . </S>\n",
      "INFO:__main__:Target Hypothesis: in der Nähe .\n",
      "INFO:__main__:Target Reference: ['.']\n",
      "INFO:__main__:IMT F1 score: 0.0\n"
     ]
    },
    {
     "name": "stdout",
     "output_type": "stream",
     "text": [
      "\n",
      "predicting target prefix: ['Ein', 'gro\\xc3\\x9fer', 'Hund', 'springt', 'in', 'einem', 'Springbrunnen', 'herum', ',', 'w\\xc3\\xa4hrend', 'ein', 'Mann', 'mit', 'einem', 'schwarzen', 'T-Shirt', 'und', 'einer', 'Weste', 'danebensteht', '.']"
     ]
    },
    {
     "name": "stderr",
     "output_type": "stream",
     "text": [
      "INFO:__main__:Source: A large dog is jumping in a fountain while a man in a black T-shirt and vest stands nearby . </S>\n",
      "INFO:__main__:Target Hypothesis: </S> .\n",
      "INFO:__main__:Target Reference: []\n",
      "INFO:__main__:IMT F1 score: 0.0\n",
      "INFO:__main__:Translating segment: 8\n"
     ]
    },
    {
     "name": "stdout",
     "output_type": "stream",
     "text": [
      "\n",
      "predicting target prefix: ['Ein']"
     ]
    },
    {
     "name": "stderr",
     "output_type": "stream",
     "text": [
      "INFO:__main__:Source: A man on a boat wearing orange pants holding a rope . </S>\n",
      "INFO:__main__:Target Hypothesis: Mann auf einem Boot mit orangefarbener Hose hält ein Seil .\n",
      "INFO:__main__:Target Reference: ['Mann', 'mit', 'orangen', 'Hosen', 'h\\xc3\\xa4lt', 'ein', 'Seil', 'auf', 'einem', 'Boot', '.']\n",
      "INFO:__main__:IMT F1 score: 0.0909090909091\n"
     ]
    },
    {
     "name": "stdout",
     "output_type": "stream",
     "text": [
      "\n",
      "predicting target prefix: ['Ein', 'Mann']"
     ]
    },
    {
     "name": "stderr",
     "output_type": "stream",
     "text": [
      "INFO:__main__:Source: A man on a boat wearing orange pants holding a rope . </S>\n",
      "INFO:__main__:Target Hypothesis: auf einem Boot mit orangefarbener Hose hält ein Seil .\n",
      "INFO:__main__:Target Reference: ['mit', 'orangen', 'Hosen', 'h\\xc3\\xa4lt', 'ein', 'Seil', 'auf', 'einem', 'Boot', '.']\n",
      "INFO:__main__:IMT F1 score: 0.0\n"
     ]
    },
    {
     "name": "stdout",
     "output_type": "stream",
     "text": [
      "\n",
      "predicting target prefix: ['Ein', 'Mann', 'mit']"
     ]
    },
    {
     "name": "stderr",
     "output_type": "stream",
     "text": [
      "INFO:__main__:Source: A man on a boat wearing orange pants holding a rope . </S>\n",
      "INFO:__main__:Target Hypothesis: orangefarbener Hose hält ein Seil .\n",
      "INFO:__main__:Target Reference: ['orangen', 'Hosen', 'h\\xc3\\xa4lt', 'ein', 'Seil', 'auf', 'einem', 'Boot', '.']\n",
      "INFO:__main__:IMT F1 score: 0.0\n"
     ]
    },
    {
     "name": "stdout",
     "output_type": "stream",
     "text": [
      "\n",
      "predicting target prefix: ['Ein', 'Mann', 'mit', 'orangen']"
     ]
    },
    {
     "name": "stderr",
     "output_type": "stream",
     "text": [
      "INFO:__main__:Source: A man on a boat wearing orange pants holding a rope . </S>\n",
      "INFO:__main__:Target Hypothesis: Hosen , der ein Seil hält .\n",
      "INFO:__main__:Target Reference: ['Hosen', 'h\\xc3\\xa4lt', 'ein', 'Seil', 'auf', 'einem', 'Boot', '.']\n",
      "INFO:__main__:IMT F1 score: 0.133333333333\n"
     ]
    },
    {
     "name": "stdout",
     "output_type": "stream",
     "text": [
      "\n",
      "predicting target prefix: ['Ein', 'Mann', 'mit', 'orangen', 'Hosen']"
     ]
    },
    {
     "name": "stderr",
     "output_type": "stream",
     "text": [
      "INFO:__main__:Source: A man on a boat wearing orange pants holding a rope . </S>\n",
      "INFO:__main__:Target Hypothesis: , der ein Seil hält .\n",
      "INFO:__main__:Target Reference: ['h\\xc3\\xa4lt', 'ein', 'Seil', 'auf', 'einem', 'Boot', '.']\n",
      "INFO:__main__:IMT F1 score: 0.0\n"
     ]
    },
    {
     "name": "stdout",
     "output_type": "stream",
     "text": [
      "\n",
      "predicting target prefix: ['Ein', 'Mann', 'mit', 'orangen', 'Hosen', 'h\\xc3\\xa4lt']"
     ]
    },
    {
     "name": "stderr",
     "output_type": "stream",
     "text": [
      "INFO:__main__:Source: A man on a boat wearing orange pants holding a rope . </S>\n",
      "INFO:__main__:Target Hypothesis: ein Seil .\n",
      "INFO:__main__:Target Reference: ['ein', 'Seil', 'auf', 'einem', 'Boot', '.']\n",
      "INFO:__main__:IMT F1 score: 0.444444444444\n"
     ]
    },
    {
     "name": "stdout",
     "output_type": "stream",
     "text": [
      "\n",
      "predicting target prefix: ['Ein', 'Mann', 'mit', 'orangen', 'Hosen', 'h\\xc3\\xa4lt', 'ein']"
     ]
    },
    {
     "name": "stderr",
     "output_type": "stream",
     "text": [
      "INFO:__main__:Source: A man on a boat wearing orange pants holding a rope . </S>\n",
      "INFO:__main__:Target Hypothesis: Seil .\n",
      "INFO:__main__:Target Reference: ['Seil', 'auf', 'einem', 'Boot', '.']\n",
      "INFO:__main__:IMT F1 score: 0.285714285714\n"
     ]
    },
    {
     "name": "stdout",
     "output_type": "stream",
     "text": [
      "\n",
      "predicting target prefix: ['Ein', 'Mann', 'mit', 'orangen', 'Hosen', 'h\\xc3\\xa4lt', 'ein', 'Seil']"
     ]
    },
    {
     "name": "stderr",
     "output_type": "stream",
     "text": [
      "INFO:__main__:Source: A man on a boat wearing orange pants holding a rope . </S>\n",
      "INFO:__main__:Target Hypothesis: .\n",
      "INFO:__main__:Target Reference: ['auf', 'einem', 'Boot', '.']\n",
      "INFO:__main__:IMT F1 score: 0.0\n"
     ]
    },
    {
     "name": "stdout",
     "output_type": "stream",
     "text": [
      "\n",
      "predicting target prefix: ['Ein', 'Mann', 'mit', 'orangen', 'Hosen', 'h\\xc3\\xa4lt', 'ein', 'Seil', 'auf']"
     ]
    },
    {
     "name": "stderr",
     "output_type": "stream",
     "text": [
      "INFO:__main__:Source: A man on a boat wearing orange pants holding a rope . </S>\n",
      "INFO:__main__:Target Hypothesis: einem Boot .\n",
      "INFO:__main__:Target Reference: ['einem', 'Boot', '.']\n",
      "INFO:__main__:IMT F1 score: 1.0\n"
     ]
    },
    {
     "name": "stdout",
     "output_type": "stream",
     "text": [
      "\n",
      "predicting target prefix: ['Ein', 'Mann', 'mit', 'orangen', 'Hosen', 'h\\xc3\\xa4lt', 'ein', 'Seil', 'auf', 'einem']"
     ]
    },
    {
     "name": "stderr",
     "output_type": "stream",
     "text": [
      "INFO:__main__:Source: A man on a boat wearing orange pants holding a rope . </S>\n",
      "INFO:__main__:Target Hypothesis: Boot .\n",
      "INFO:__main__:Target Reference: ['Boot', '.']\n",
      "INFO:__main__:IMT F1 score: 1.0\n"
     ]
    },
    {
     "name": "stdout",
     "output_type": "stream",
     "text": [
      "\n",
      "predicting target prefix: ['Ein', 'Mann', 'mit', 'orangen', 'Hosen', 'h\\xc3\\xa4lt', 'ein', 'Seil', 'auf', 'einem', 'Boot']"
     ]
    },
    {
     "name": "stderr",
     "output_type": "stream",
     "text": [
      "INFO:__main__:Source: A man on a boat wearing orange pants holding a rope . </S>\n",
      "INFO:__main__:Target Hypothesis: .\n",
      "INFO:__main__:Target Reference: ['.']\n",
      "INFO:__main__:IMT F1 score: 1.0\n"
     ]
    },
    {
     "name": "stdout",
     "output_type": "stream",
     "text": [
      "\n",
      "predicting target prefix: ['Ein', 'Mann', 'mit', 'orangen', 'Hosen', 'h\\xc3\\xa4lt', 'ein', 'Seil', 'auf', 'einem', 'Boot', '.']"
     ]
    },
    {
     "name": "stderr",
     "output_type": "stream",
     "text": [
      "INFO:__main__:Source: A man on a boat wearing orange pants holding a rope . </S>\n",
      "INFO:__main__:Target Hypothesis: </S> .\n",
      "INFO:__main__:Target Reference: []\n",
      "INFO:__main__:IMT F1 score: 0.0\n",
      "INFO:__main__:Translating segment: 9\n"
     ]
    },
    {
     "name": "stdout",
     "output_type": "stream",
     "text": [
      "\n",
      "predicting target prefix: ['Zwei']"
     ]
    },
    {
     "name": "stderr",
     "output_type": "stream",
     "text": [
      "INFO:__main__:Source: Two men are out on a bright , sunny day attempting to catch some fish on the lake . </S>\n",
      "INFO:__main__:Target Hypothesis: Männer ziehen an einem hellen , sonnigen Tag , um Fisch auf dem See .\n",
      "INFO:__main__:Target Reference: ['M\\xc3\\xa4nner', 'sind', 'an', 'einem', 'hellen', ',', 'sonnigen', 'Tag', 'unterwegs', ',', 'um', 'ein', 'paar', 'Fische', 'im', 'See', 'zu', 'fangen', '.']\n",
      "INFO:__main__:IMT F1 score: 0.0588235294118\n"
     ]
    },
    {
     "name": "stdout",
     "output_type": "stream",
     "text": [
      "\n",
      "predicting target prefix: ['Zwei', 'M\\xc3\\xa4nner']"
     ]
    },
    {
     "name": "stderr",
     "output_type": "stream",
     "text": [
      "INFO:__main__:Source: Two men are out on a bright , sunny day attempting to catch some fish on the lake . </S>\n",
      "INFO:__main__:Target Hypothesis: ziehen an einem hellen , sonnigen Tag , um Fisch auf dem See .\n",
      "INFO:__main__:Target Reference: ['sind', 'an', 'einem', 'hellen', ',', 'sonnigen', 'Tag', 'unterwegs', ',', 'um', 'ein', 'paar', 'Fische', 'im', 'See', 'zu', 'fangen', '.']\n",
      "INFO:__main__:IMT F1 score: 0.0\n"
     ]
    },
    {
     "name": "stdout",
     "output_type": "stream",
     "text": [
      "\n",
      "predicting target prefix: ['Zwei', 'M\\xc3\\xa4nner', 'sind']"
     ]
    },
    {
     "name": "stderr",
     "output_type": "stream",
     "text": [
      "INFO:__main__:Source: Two men are out on a bright , sunny day attempting to catch some fish on the lake . </S>\n",
      "INFO:__main__:Target Hypothesis: auf einem hellen , sonnigen Tag versuchen , Fisch auf dem See .\n",
      "INFO:__main__:Target Reference: ['an', 'einem', 'hellen', ',', 'sonnigen', 'Tag', 'unterwegs', ',', 'um', 'ein', 'paar', 'Fische', 'im', 'See', 'zu', 'fangen', '.']\n",
      "INFO:__main__:IMT F1 score: 0.0\n"
     ]
    },
    {
     "name": "stdout",
     "output_type": "stream",
     "text": [
      "\n",
      "predicting target prefix: ['Zwei', 'M\\xc3\\xa4nner', 'sind', 'an']"
     ]
    },
    {
     "name": "stderr",
     "output_type": "stream",
     "text": [
      "INFO:__main__:Source: Two men are out on a bright , sunny day attempting to catch some fish on the lake . </S>\n",
      "INFO:__main__:Target Hypothesis: einem hellen , sonnigen Tag versuchen , Fisch auf dem See .\n",
      "INFO:__main__:Target Reference: ['einem', 'hellen', ',', 'sonnigen', 'Tag', 'unterwegs', ',', 'um', 'ein', 'paar', 'Fische', 'im', 'See', 'zu', 'fangen', '.']\n",
      "INFO:__main__:IMT F1 score: 0.357142857143\n"
     ]
    },
    {
     "name": "stdout",
     "output_type": "stream",
     "text": [
      "\n",
      "predicting target prefix: ['Zwei', 'M\\xc3\\xa4nner', 'sind', 'an', 'einem']"
     ]
    },
    {
     "name": "stderr",
     "output_type": "stream",
     "text": [
      "INFO:__main__:Source: Two men are out on a bright , sunny day attempting to catch some fish on the lake . </S>\n",
      "INFO:__main__:Target Hypothesis: hellen , sonnigen Tag versuchen , Fisch auf dem See .\n",
      "INFO:__main__:Target Reference: ['hellen', ',', 'sonnigen', 'Tag', 'unterwegs', ',', 'um', 'ein', 'paar', 'Fische', 'im', 'See', 'zu', 'fangen', '.']\n",
      "INFO:__main__:IMT F1 score: 0.307692307692\n"
     ]
    },
    {
     "name": "stdout",
     "output_type": "stream",
     "text": [
      "\n",
      "predicting target prefix: ['Zwei', 'M\\xc3\\xa4nner', 'sind', 'an', 'einem', 'hellen']"
     ]
    },
    {
     "name": "stderr",
     "output_type": "stream",
     "text": [
      "INFO:__main__:Source: Two men are out on a bright , sunny day attempting to catch some fish on the lake . </S>\n",
      "INFO:__main__:Target Hypothesis: , sonnigen Tag versuchen , Fisch auf dem See .\n",
      "INFO:__main__:Target Reference: [',', 'sonnigen', 'Tag', 'unterwegs', ',', 'um', 'ein', 'paar', 'Fische', 'im', 'See', 'zu', 'fangen', '.']\n",
      "INFO:__main__:IMT F1 score: 0.25\n"
     ]
    },
    {
     "name": "stdout",
     "output_type": "stream",
     "text": [
      "\n",
      "predicting target prefix: ['Zwei', 'M\\xc3\\xa4nner', 'sind', 'an', 'einem', 'hellen', ',']"
     ]
    },
    {
     "name": "stderr",
     "output_type": "stream",
     "text": [
      "INFO:__main__:Source: Two men are out on a bright , sunny day attempting to catch some fish on the lake . </S>\n",
      "INFO:__main__:Target Hypothesis: sonnigen Tag versuchen , Fisch auf dem See .\n",
      "INFO:__main__:Target Reference: ['sonnigen', 'Tag', 'unterwegs', ',', 'um', 'ein', 'paar', 'Fische', 'im', 'See', 'zu', 'fangen', '.']\n",
      "INFO:__main__:IMT F1 score: 0.181818181818\n"
     ]
    },
    {
     "name": "stdout",
     "output_type": "stream",
     "text": [
      "\n",
      "predicting target prefix: ['Zwei', 'M\\xc3\\xa4nner', 'sind', 'an', 'einem', 'hellen', ',', 'sonnigen']"
     ]
    },
    {
     "name": "stderr",
     "output_type": "stream",
     "text": [
      "INFO:__main__:Source: Two men are out on a bright , sunny day attempting to catch some fish on the lake . </S>\n",
      "INFO:__main__:Target Hypothesis: Tag versuchen , Fisch auf dem See .\n",
      "INFO:__main__:Target Reference: ['Tag', 'unterwegs', ',', 'um', 'ein', 'paar', 'Fische', 'im', 'See', 'zu', 'fangen', '.']\n",
      "INFO:__main__:IMT F1 score: 0.1\n"
     ]
    },
    {
     "name": "stdout",
     "output_type": "stream",
     "text": [
      "\n",
      "predicting target prefix: ['Zwei', 'M\\xc3\\xa4nner', 'sind', 'an', 'einem', 'hellen', ',', 'sonnigen', 'Tag']"
     ]
    },
    {
     "name": "stderr",
     "output_type": "stream",
     "text": [
      "INFO:__main__:Source: Two men are out on a bright , sunny day attempting to catch some fish on the lake . </S>\n",
      "INFO:__main__:Target Hypothesis: versuchen , Fisch auf dem See .\n",
      "INFO:__main__:Target Reference: ['unterwegs', ',', 'um', 'ein', 'paar', 'Fische', 'im', 'See', 'zu', 'fangen', '.']\n",
      "INFO:__main__:IMT F1 score: 0.0\n"
     ]
    },
    {
     "name": "stdout",
     "output_type": "stream",
     "text": [
      "\n",
      "predicting target prefix: ['Zwei', 'M\\xc3\\xa4nner', 'sind', 'an', 'einem', 'hellen', ',', 'sonnigen', 'Tag', 'unterwegs']"
     ]
    },
    {
     "name": "stderr",
     "output_type": "stream",
     "text": [
      "INFO:__main__:Source: Two men are out on a bright , sunny day attempting to catch some fish on the lake . </S>\n",
      "INFO:__main__:Target Hypothesis: , um Fisch auf dem See .\n",
      "INFO:__main__:Target Reference: [',', 'um', 'ein', 'paar', 'Fische', 'im', 'See', 'zu', 'fangen', '.']\n",
      "INFO:__main__:IMT F1 score: 0.235294117647\n"
     ]
    },
    {
     "name": "stdout",
     "output_type": "stream",
     "text": [
      "\n",
      "predicting target prefix: ['Zwei', 'M\\xc3\\xa4nner', 'sind', 'an', 'einem', 'hellen', ',', 'sonnigen', 'Tag', 'unterwegs', ',']"
     ]
    },
    {
     "name": "stderr",
     "output_type": "stream",
     "text": [
      "INFO:__main__:Source: Two men are out on a bright , sunny day attempting to catch some fish on the lake . </S>\n",
      "INFO:__main__:Target Hypothesis: um Fisch auf dem See .\n",
      "INFO:__main__:Target Reference: ['um', 'ein', 'paar', 'Fische', 'im', 'See', 'zu', 'fangen', '.']\n",
      "INFO:__main__:IMT F1 score: 0.133333333333\n"
     ]
    },
    {
     "name": "stdout",
     "output_type": "stream",
     "text": [
      "\n",
      "predicting target prefix: ['Zwei', 'M\\xc3\\xa4nner', 'sind', 'an', 'einem', 'hellen', ',', 'sonnigen', 'Tag', 'unterwegs', ',', 'um']"
     ]
    },
    {
     "name": "stderr",
     "output_type": "stream",
     "text": [
      "INFO:__main__:Source: Two men are out on a bright , sunny day attempting to catch some fish on the lake . </S>\n",
      "INFO:__main__:Target Hypothesis: Fisch auf dem See .\n",
      "INFO:__main__:Target Reference: ['ein', 'paar', 'Fische', 'im', 'See', 'zu', 'fangen', '.']\n",
      "INFO:__main__:IMT F1 score: 0.0\n"
     ]
    },
    {
     "name": "stdout",
     "output_type": "stream",
     "text": [
      "\n",
      "predicting target prefix: ['Zwei', 'M\\xc3\\xa4nner', 'sind', 'an', 'einem', 'hellen', ',', 'sonnigen', 'Tag', 'unterwegs', ',', 'um', 'ein']"
     ]
    },
    {
     "name": "stderr",
     "output_type": "stream",
     "text": [
      "INFO:__main__:Source: Two men are out on a bright , sunny day attempting to catch some fish on the lake . </S>\n",
      "INFO:__main__:Target Hypothesis: Fisch auf dem See .\n",
      "INFO:__main__:Target Reference: ['paar', 'Fische', 'im', 'See', 'zu', 'fangen', '.']\n",
      "INFO:__main__:IMT F1 score: 0.0\n"
     ]
    },
    {
     "name": "stdout",
     "output_type": "stream",
     "text": [
      "\n",
      "predicting target prefix: ['Zwei', 'M\\xc3\\xa4nner', 'sind', 'an', 'einem', 'hellen', ',', 'sonnigen', 'Tag', 'unterwegs', ',', 'um', 'ein', 'paar']"
     ]
    },
    {
     "name": "stderr",
     "output_type": "stream",
     "text": [
      "INFO:__main__:Source: Two men are out on a bright , sunny day attempting to catch some fish on the lake . </S>\n",
      "INFO:__main__:Target Hypothesis: Fisch auf dem See .\n",
      "INFO:__main__:Target Reference: ['Fische', 'im', 'See', 'zu', 'fangen', '.']\n",
      "INFO:__main__:IMT F1 score: 0.0\n"
     ]
    },
    {
     "name": "stdout",
     "output_type": "stream",
     "text": [
      "\n",
      "predicting target prefix: ['Zwei', 'M\\xc3\\xa4nner', 'sind', 'an', 'einem', 'hellen', ',', 'sonnigen', 'Tag', 'unterwegs', ',', 'um', 'ein', 'paar', 'Fische']"
     ]
    },
    {
     "name": "stderr",
     "output_type": "stream",
     "text": [
      "INFO:__main__:Source: Two men are out on a bright , sunny day attempting to catch some fish on the lake . </S>\n",
      "INFO:__main__:Target Hypothesis: auf dem See .\n",
      "INFO:__main__:Target Reference: ['im', 'See', 'zu', 'fangen', '.']\n",
      "INFO:__main__:IMT F1 score: 0.0\n"
     ]
    },
    {
     "name": "stdout",
     "output_type": "stream",
     "text": [
      "\n",
      "predicting target prefix: ['Zwei', 'M\\xc3\\xa4nner', 'sind', 'an', 'einem', 'hellen', ',', 'sonnigen', 'Tag', 'unterwegs', ',', 'um', 'ein', 'paar', 'Fische', 'im']"
     ]
    },
    {
     "name": "stderr",
     "output_type": "stream",
     "text": [
      "INFO:__main__:Source: Two men are out on a bright , sunny day attempting to catch some fish on the lake . </S>\n",
      "INFO:__main__:Target Hypothesis: See .\n",
      "INFO:__main__:Target Reference: ['See', 'zu', 'fangen', '.']\n",
      "INFO:__main__:IMT F1 score: 0.333333333333\n"
     ]
    },
    {
     "name": "stdout",
     "output_type": "stream",
     "text": [
      "\n",
      "predicting target prefix: ['Zwei', 'M\\xc3\\xa4nner', 'sind', 'an', 'einem', 'hellen', ',', 'sonnigen', 'Tag', 'unterwegs', ',', 'um', 'ein', 'paar', 'Fische', 'im', 'See']"
     ]
    },
    {
     "name": "stderr",
     "output_type": "stream",
     "text": [
      "INFO:__main__:Source: Two men are out on a bright , sunny day attempting to catch some fish on the lake . </S>\n",
      "INFO:__main__:Target Hypothesis: .\n",
      "INFO:__main__:Target Reference: ['zu', 'fangen', '.']\n",
      "INFO:__main__:IMT F1 score: 0.0\n"
     ]
    },
    {
     "name": "stdout",
     "output_type": "stream",
     "text": [
      "\n",
      "predicting target prefix: ['Zwei', 'M\\xc3\\xa4nner', 'sind', 'an', 'einem', 'hellen', ',', 'sonnigen', 'Tag', 'unterwegs', ',', 'um', 'ein', 'paar', 'Fische', 'im', 'See', 'zu']"
     ]
    },
    {
     "name": "stderr",
     "output_type": "stream",
     "text": [
      "INFO:__main__:Source: Two men are out on a bright , sunny day attempting to catch some fish on the lake . </S>\n",
      "INFO:__main__:Target Hypothesis: steigen .\n",
      "INFO:__main__:Target Reference: ['fangen', '.']\n",
      "INFO:__main__:IMT F1 score: 0.0\n"
     ]
    },
    {
     "name": "stdout",
     "output_type": "stream",
     "text": [
      "\n",
      "predicting target prefix: ['Zwei', 'M\\xc3\\xa4nner', 'sind', 'an', 'einem', 'hellen', ',', 'sonnigen', 'Tag', 'unterwegs', ',', 'um', 'ein', 'paar', 'Fische', 'im', 'See', 'zu', 'fangen']"
     ]
    },
    {
     "name": "stderr",
     "output_type": "stream",
     "text": [
      "INFO:__main__:Source: Two men are out on a bright , sunny day attempting to catch some fish on the lake . </S>\n",
      "INFO:__main__:Target Hypothesis: .\n",
      "INFO:__main__:Target Reference: ['.']\n",
      "INFO:__main__:IMT F1 score: 1.0\n"
     ]
    },
    {
     "name": "stdout",
     "output_type": "stream",
     "text": [
      "\n",
      "predicting target prefix: ['Zwei', 'M\\xc3\\xa4nner', 'sind', 'an', 'einem', 'hellen', ',', 'sonnigen', 'Tag', 'unterwegs', ',', 'um', 'ein', 'paar', 'Fische', 'im', 'See', 'zu', 'fangen', '.']"
     ]
    },
    {
     "name": "stderr",
     "output_type": "stream",
     "text": [
      "INFO:__main__:Source: Two men are out on a bright , sunny day attempting to catch some fish on the lake . </S>\n",
      "INFO:__main__:Target Hypothesis: </S> zu steigen .\n",
      "INFO:__main__:Target Reference: []\n",
      "INFO:__main__:IMT F1 score: 0.0\n",
      "INFO:__main__:Translating segment: 10\n"
     ]
    },
    {
     "name": "stdout",
     "output_type": "stream",
     "text": [
      "\n",
      "predicting target prefix: ['Ein']"
     ]
    },
    {
     "name": "stderr",
     "output_type": "stream",
     "text": [
      "INFO:__main__:Source: A man stands on scaffolding painting a wall in a <UNK> color . </S>\n",
      "INFO:__main__:Target Hypothesis: Mann steht auf einem Gerüst und malt eine Mauer in einem Werkunterricht .\n",
      "INFO:__main__:Target Reference: ['Mann', 'steht', 'auf', 'einem', 'Ger\\xc3\\xbcst', 'und', 'streicht', 'eine', 'Wand', 'korallenfarbig', '.']\n",
      "INFO:__main__:IMT F1 score: 0.5\n"
     ]
    },
    {
     "name": "stdout",
     "output_type": "stream",
     "text": [
      "\n",
      "predicting target prefix: ['Ein', 'Mann']"
     ]
    },
    {
     "name": "stderr",
     "output_type": "stream",
     "text": [
      "INFO:__main__:Source: A man stands on scaffolding painting a wall in a <UNK> color . </S>\n",
      "INFO:__main__:Target Hypothesis: steht auf einem Gerüst und malt eine Mauer in einem Werkunterricht .\n",
      "INFO:__main__:Target Reference: ['steht', 'auf', 'einem', 'Ger\\xc3\\xbcst', 'und', 'streicht', 'eine', 'Wand', 'korallenfarbig', '.']\n",
      "INFO:__main__:IMT F1 score: 0.454545454545\n"
     ]
    },
    {
     "name": "stdout",
     "output_type": "stream",
     "text": [
      "\n",
      "predicting target prefix: ['Ein', 'Mann', 'steht']"
     ]
    },
    {
     "name": "stderr",
     "output_type": "stream",
     "text": [
      "INFO:__main__:Source: A man stands on scaffolding painting a wall in a <UNK> color . </S>\n",
      "INFO:__main__:Target Hypothesis: auf einem Gerüst und malt eine Mauer in einem Werkunterricht .\n",
      "INFO:__main__:Target Reference: ['auf', 'einem', 'Ger\\xc3\\xbcst', 'und', 'streicht', 'eine', 'Wand', 'korallenfarbig', '.']\n",
      "INFO:__main__:IMT F1 score: 0.4\n"
     ]
    },
    {
     "name": "stdout",
     "output_type": "stream",
     "text": [
      "\n",
      "predicting target prefix: ['Ein', 'Mann', 'steht', 'auf']"
     ]
    },
    {
     "name": "stderr",
     "output_type": "stream",
     "text": [
      "INFO:__main__:Source: A man stands on scaffolding painting a wall in a <UNK> color . </S>\n",
      "INFO:__main__:Target Hypothesis: einem Gerüst und malt eine Mauer in einem Werkunterricht .\n",
      "INFO:__main__:Target Reference: ['einem', 'Ger\\xc3\\xbcst', 'und', 'streicht', 'eine', 'Wand', 'korallenfarbig', '.']\n",
      "INFO:__main__:IMT F1 score: 0.333333333333\n"
     ]
    },
    {
     "name": "stdout",
     "output_type": "stream",
     "text": [
      "\n",
      "predicting target prefix: ['Ein', 'Mann', 'steht', 'auf', 'einem']"
     ]
    },
    {
     "name": "stderr",
     "output_type": "stream",
     "text": [
      "INFO:__main__:Source: A man stands on scaffolding painting a wall in a <UNK> color . </S>\n",
      "INFO:__main__:Target Hypothesis: Gerüst und malt eine Mauer in einem Werkunterricht .\n",
      "INFO:__main__:Target Reference: ['Ger\\xc3\\xbcst', 'und', 'streicht', 'eine', 'Wand', 'korallenfarbig', '.']\n",
      "INFO:__main__:IMT F1 score: 0.25\n"
     ]
    },
    {
     "name": "stdout",
     "output_type": "stream",
     "text": [
      "\n",
      "predicting target prefix: ['Ein', 'Mann', 'steht', 'auf', 'einem', 'Ger\\xc3\\xbcst']"
     ]
    },
    {
     "name": "stderr",
     "output_type": "stream",
     "text": [
      "INFO:__main__:Source: A man stands on scaffolding painting a wall in a <UNK> color . </S>\n",
      "INFO:__main__:Target Hypothesis: und malt eine Mauer in einem Werkunterricht .\n",
      "INFO:__main__:Target Reference: ['und', 'streicht', 'eine', 'Wand', 'korallenfarbig', '.']\n",
      "INFO:__main__:IMT F1 score: 0.142857142857\n"
     ]
    },
    {
     "name": "stdout",
     "output_type": "stream",
     "text": [
      "\n",
      "predicting target prefix: ['Ein', 'Mann', 'steht', 'auf', 'einem', 'Ger\\xc3\\xbcst', 'und']"
     ]
    },
    {
     "name": "stderr",
     "output_type": "stream",
     "text": [
      "INFO:__main__:Source: A man stands on scaffolding painting a wall in a <UNK> color . </S>\n",
      "INFO:__main__:Target Hypothesis: malt eine Mauer in einem Werkunterricht .\n",
      "INFO:__main__:Target Reference: ['streicht', 'eine', 'Wand', 'korallenfarbig', '.']\n",
      "INFO:__main__:IMT F1 score: 0.0\n"
     ]
    },
    {
     "name": "stdout",
     "output_type": "stream",
     "text": [
      "\n",
      "predicting target prefix: ['Ein', 'Mann', 'steht', 'auf', 'einem', 'Ger\\xc3\\xbcst', 'und', 'streicht']"
     ]
    },
    {
     "name": "stderr",
     "output_type": "stream",
     "text": [
      "INFO:__main__:Source: A man stands on scaffolding painting a wall in a <UNK> color . </S>\n",
      "INFO:__main__:Target Hypothesis: eine Mauer in einem Werkunterricht .\n",
      "INFO:__main__:Target Reference: ['eine', 'Wand', 'korallenfarbig', '.']\n",
      "INFO:__main__:IMT F1 score: 0.2\n"
     ]
    },
    {
     "name": "stdout",
     "output_type": "stream",
     "text": [
      "\n",
      "predicting target prefix: ['Ein', 'Mann', 'steht', 'auf', 'einem', 'Ger\\xc3\\xbcst', 'und', 'streicht', 'eine']"
     ]
    },
    {
     "name": "stderr",
     "output_type": "stream",
     "text": [
      "INFO:__main__:Source: A man stands on scaffolding painting a wall in a <UNK> color . </S>\n",
      "INFO:__main__:Target Hypothesis: Mauer in einem Werkunterricht .\n",
      "INFO:__main__:Target Reference: ['Wand', 'korallenfarbig', '.']\n",
      "INFO:__main__:IMT F1 score: 0.0\n"
     ]
    },
    {
     "name": "stdout",
     "output_type": "stream",
     "text": [
      "\n",
      "predicting target prefix: ['Ein', 'Mann', 'steht', 'auf', 'einem', 'Ger\\xc3\\xbcst', 'und', 'streicht', 'eine', 'Wand']"
     ]
    },
    {
     "name": "stderr",
     "output_type": "stream",
     "text": [
      "INFO:__main__:Source: A man stands on scaffolding painting a wall in a <UNK> color . </S>\n",
      "INFO:__main__:Target Hypothesis: in einem Werkunterricht .\n",
      "INFO:__main__:Target Reference: ['korallenfarbig', '.']\n",
      "INFO:__main__:IMT F1 score: 0.0\n"
     ]
    },
    {
     "name": "stdout",
     "output_type": "stream",
     "text": [
      "\n",
      "predicting target prefix: ['Ein', 'Mann', 'steht', 'auf', 'einem', 'Ger\\xc3\\xbcst', 'und', 'streicht', 'eine', 'Wand', 'korallenfarbig']"
     ]
    },
    {
     "name": "stderr",
     "output_type": "stream",
     "text": [
      "INFO:__main__:Source: A man stands on scaffolding painting a wall in a <UNK> color . </S>\n",
      "INFO:__main__:Target Hypothesis: .\n",
      "INFO:__main__:Target Reference: ['.']\n",
      "INFO:__main__:IMT F1 score: 1.0\n"
     ]
    },
    {
     "name": "stdout",
     "output_type": "stream",
     "text": [
      "\n",
      "predicting target prefix: ['Ein', 'Mann', 'steht', 'auf', 'einem', 'Ger\\xc3\\xbcst', 'und', 'streicht', 'eine', 'Wand', 'korallenfarbig', '.']"
     ]
    },
    {
     "name": "stderr",
     "output_type": "stream",
     "text": [
      "INFO:__main__:Source: A man stands on scaffolding painting a wall in a <UNK> color . </S>\n",
      "INFO:__main__:Target Hypothesis: </S> .\n",
      "INFO:__main__:Target Reference: []\n",
      "INFO:__main__:IMT F1 score: 0.0\n",
      "INFO:__main__:Translating segment: 11\n"
     ]
    },
    {
     "name": "stdout",
     "output_type": "stream",
     "text": [
      "\n",
      "predicting target prefix: ['Ein']"
     ]
    },
    {
     "name": "stderr",
     "output_type": "stream",
     "text": [
      "INFO:__main__:Source: A vendor sits in the middle of a display of glasses at a street market in an Asian country . </S>\n",
      "INFO:__main__:Target Hypothesis: Straßenhändler sind in der Mitte eines Verkäufers Obst auf einem asiatischen Land .\n",
      "INFO:__main__:Target Reference: ['Verk\\xc3\\xa4ufer', 'sitzt', 'inmitten', 'seines', 'Brillensortiments', 'auf', 'einem', 'Stra\\xc3\\x9fenmarkt', 'in', 'einem', 'asiatischen', 'Land', '.']\n",
      "INFO:__main__:IMT F1 score: 0.0\n"
     ]
    },
    {
     "name": "stdout",
     "output_type": "stream",
     "text": [
      "\n",
      "predicting target prefix: ['Ein', 'Verk\\xc3\\xa4ufer']"
     ]
    },
    {
     "name": "stderr",
     "output_type": "stream",
     "text": [
      "INFO:__main__:Source: A vendor sits in the middle of a display of glasses at a street market in an Asian country . </S>\n",
      "INFO:__main__:Target Hypothesis: steht in der Mitte einer Straße in einem asiatischen Land .\n",
      "INFO:__main__:Target Reference: ['sitzt', 'inmitten', 'seines', 'Brillensortiments', 'auf', 'einem', 'Stra\\xc3\\x9fenmarkt', 'in', 'einem', 'asiatischen', 'Land', '.']\n",
      "INFO:__main__:IMT F1 score: 0.0\n"
     ]
    },
    {
     "name": "stdout",
     "output_type": "stream",
     "text": [
      "\n",
      "predicting target prefix: ['Ein', 'Verk\\xc3\\xa4ufer', 'sitzt']"
     ]
    },
    {
     "name": "stderr",
     "output_type": "stream",
     "text": [
      "INFO:__main__:Source: A vendor sits in the middle of a display of glasses at a street market in an Asian country . </S>\n",
      "INFO:__main__:Target Hypothesis: inmitten einer Straße in einem asiatischen Land .\n",
      "INFO:__main__:Target Reference: ['inmitten', 'seines', 'Brillensortiments', 'auf', 'einem', 'Stra\\xc3\\x9fenmarkt', 'in', 'einem', 'asiatischen', 'Land', '.']\n",
      "INFO:__main__:IMT F1 score: 0.105263157895\n"
     ]
    },
    {
     "name": "stdout",
     "output_type": "stream",
     "text": [
      "\n",
      "predicting target prefix: ['Ein', 'Verk\\xc3\\xa4ufer', 'sitzt', 'inmitten']"
     ]
    },
    {
     "name": "stderr",
     "output_type": "stream",
     "text": [
      "INFO:__main__:Source: A vendor sits in the middle of a display of glasses at a street market in an Asian country . </S>\n",
      "INFO:__main__:Target Hypothesis: einer Straße in einem asiatischen Land .\n",
      "INFO:__main__:Target Reference: ['seines', 'Brillensortiments', 'auf', 'einem', 'Stra\\xc3\\x9fenmarkt', 'in', 'einem', 'asiatischen', 'Land', '.']\n",
      "INFO:__main__:IMT F1 score: 0.0\n"
     ]
    },
    {
     "name": "stdout",
     "output_type": "stream",
     "text": [
      "\n",
      "predicting target prefix: ['Ein', 'Verk\\xc3\\xa4ufer', 'sitzt', 'inmitten', 'seines']"
     ]
    },
    {
     "name": "stderr",
     "output_type": "stream",
     "text": [
      "INFO:__main__:Source: A vendor sits in the middle of a display of glasses at a street market in an Asian country . </S>\n",
      "INFO:__main__:Target Hypothesis: Gesichts einer Straße in einem asiatischen Land .\n",
      "INFO:__main__:Target Reference: ['Brillensortiments', 'auf', 'einem', 'Stra\\xc3\\x9fenmarkt', 'in', 'einem', 'asiatischen', 'Land', '.']\n",
      "INFO:__main__:IMT F1 score: 0.0\n"
     ]
    },
    {
     "name": "stdout",
     "output_type": "stream",
     "text": [
      "\n",
      "predicting target prefix: ['Ein', 'Verk\\xc3\\xa4ufer', 'sitzt', 'inmitten', 'seines', 'Brillensortiments']"
     ]
    },
    {
     "name": "stderr",
     "output_type": "stream",
     "text": [
      "INFO:__main__:Source: A vendor sits in the middle of a display of glasses at a street market in an Asian country . </S>\n",
      "INFO:__main__:Target Hypothesis: auf einem Markt in einem asiatischen Land .\n",
      "INFO:__main__:Target Reference: ['auf', 'einem', 'Stra\\xc3\\x9fenmarkt', 'in', 'einem', 'asiatischen', 'Land', '.']\n",
      "INFO:__main__:IMT F1 score: 0.25\n"
     ]
    },
    {
     "name": "stdout",
     "output_type": "stream",
     "text": [
      "\n",
      "predicting target prefix: ['Ein', 'Verk\\xc3\\xa4ufer', 'sitzt', 'inmitten', 'seines', 'Brillensortiments', 'auf']"
     ]
    },
    {
     "name": "stderr",
     "output_type": "stream",
     "text": [
      "INFO:__main__:Source: A vendor sits in the middle of a display of glasses at a street market in an Asian country . </S>\n",
      "INFO:__main__:Target Hypothesis: einem Markt in einem asiatischen Land .\n",
      "INFO:__main__:Target Reference: ['einem', 'Stra\\xc3\\x9fenmarkt', 'in', 'einem', 'asiatischen', 'Land', '.']\n",
      "INFO:__main__:IMT F1 score: 0.142857142857\n"
     ]
    },
    {
     "name": "stdout",
     "output_type": "stream",
     "text": [
      "\n",
      "predicting target prefix: ['Ein', 'Verk\\xc3\\xa4ufer', 'sitzt', 'inmitten', 'seines', 'Brillensortiments', 'auf', 'einem']"
     ]
    },
    {
     "name": "stderr",
     "output_type": "stream",
     "text": [
      "INFO:__main__:Source: A vendor sits in the middle of a display of glasses at a street market in an Asian country . </S>\n",
      "INFO:__main__:Target Hypothesis: Markt in einem asiatischen Land .\n",
      "INFO:__main__:Target Reference: ['Stra\\xc3\\x9fenmarkt', 'in', 'einem', 'asiatischen', 'Land', '.']\n",
      "INFO:__main__:IMT F1 score: 0.0\n"
     ]
    },
    {
     "name": "stdout",
     "output_type": "stream",
     "text": [
      "\n",
      "predicting target prefix: ['Ein', 'Verk\\xc3\\xa4ufer', 'sitzt', 'inmitten', 'seines', 'Brillensortiments', 'auf', 'einem', 'Stra\\xc3\\x9fenmarkt']"
     ]
    },
    {
     "name": "stderr",
     "output_type": "stream",
     "text": [
      "INFO:__main__:Source: A vendor sits in the middle of a display of glasses at a street market in an Asian country . </S>\n",
      "INFO:__main__:Target Hypothesis: in einem asiatischen Land .\n",
      "INFO:__main__:Target Reference: ['in', 'einem', 'asiatischen', 'Land', '.']\n",
      "INFO:__main__:IMT F1 score: 1.0\n"
     ]
    },
    {
     "name": "stdout",
     "output_type": "stream",
     "text": [
      "\n",
      "predicting target prefix: ['Ein', 'Verk\\xc3\\xa4ufer', 'sitzt', 'inmitten', 'seines', 'Brillensortiments', 'auf', 'einem', 'Stra\\xc3\\x9fenmarkt', 'in']"
     ]
    },
    {
     "name": "stderr",
     "output_type": "stream",
     "text": [
      "INFO:__main__:Source: A vendor sits in the middle of a display of glasses at a street market in an Asian country . </S>\n",
      "INFO:__main__:Target Hypothesis: einem asiatischen Land .\n",
      "INFO:__main__:Target Reference: ['einem', 'asiatischen', 'Land', '.']\n",
      "INFO:__main__:IMT F1 score: 1.0\n"
     ]
    },
    {
     "name": "stdout",
     "output_type": "stream",
     "text": [
      "\n",
      "predicting target prefix: ['Ein', 'Verk\\xc3\\xa4ufer', 'sitzt', 'inmitten', 'seines', 'Brillensortiments', 'auf', 'einem', 'Stra\\xc3\\x9fenmarkt', 'in', 'einem']"
     ]
    },
    {
     "name": "stderr",
     "output_type": "stream",
     "text": [
      "INFO:__main__:Source: A vendor sits in the middle of a display of glasses at a street market in an Asian country . </S>\n",
      "INFO:__main__:Target Hypothesis: asiatischen Land .\n",
      "INFO:__main__:Target Reference: ['asiatischen', 'Land', '.']\n",
      "INFO:__main__:IMT F1 score: 1.0\n"
     ]
    },
    {
     "name": "stdout",
     "output_type": "stream",
     "text": [
      "\n",
      "predicting target prefix: ['Ein', 'Verk\\xc3\\xa4ufer', 'sitzt', 'inmitten', 'seines', 'Brillensortiments', 'auf', 'einem', 'Stra\\xc3\\x9fenmarkt', 'in', 'einem', 'asiatischen']"
     ]
    },
    {
     "name": "stderr",
     "output_type": "stream",
     "text": [
      "INFO:__main__:Source: A vendor sits in the middle of a display of glasses at a street market in an Asian country . </S>\n",
      "INFO:__main__:Target Hypothesis: Land .\n",
      "INFO:__main__:Target Reference: ['Land', '.']\n",
      "INFO:__main__:IMT F1 score: 1.0\n"
     ]
    },
    {
     "name": "stdout",
     "output_type": "stream",
     "text": [
      "\n",
      "predicting target prefix: ['Ein', 'Verk\\xc3\\xa4ufer', 'sitzt', 'inmitten', 'seines', 'Brillensortiments', 'auf', 'einem', 'Stra\\xc3\\x9fenmarkt', 'in', 'einem', 'asiatischen', 'Land']"
     ]
    },
    {
     "name": "stderr",
     "output_type": "stream",
     "text": [
      "INFO:__main__:Source: A vendor sits in the middle of a display of glasses at a street market in an Asian country . </S>\n",
      "INFO:__main__:Target Hypothesis: .\n",
      "INFO:__main__:Target Reference: ['.']\n",
      "INFO:__main__:IMT F1 score: 1.0\n"
     ]
    },
    {
     "name": "stdout",
     "output_type": "stream",
     "text": [
      "\n",
      "predicting target prefix: ['Ein', 'Verk\\xc3\\xa4ufer', 'sitzt', 'inmitten', 'seines', 'Brillensortiments', 'auf', 'einem', 'Stra\\xc3\\x9fenmarkt', 'in', 'einem', 'asiatischen', 'Land', '.']"
     ]
    },
    {
     "name": "stderr",
     "output_type": "stream",
     "text": [
      "INFO:__main__:Source: A vendor sits in the middle of a display of glasses at a street market in an Asian country . </S>\n",
      "INFO:__main__:Target Hypothesis: </S> .\n",
      "INFO:__main__:Target Reference: []\n",
      "INFO:__main__:IMT F1 score: 0.0\n",
      "INFO:__main__:Translating segment: 12\n"
     ]
    },
    {
     "name": "stdout",
     "output_type": "stream",
     "text": [
      "\n",
      "predicting target prefix: ['Zwei']"
     ]
    },
    {
     "name": "stderr",
     "output_type": "stream",
     "text": [
      "INFO:__main__:Source: Two people with white shirts walking up the sidewalk talking on their phones . </S>\n",
      "INFO:__main__:Target Hypothesis: Personen mit weißen Shirts unterhalten sich auf dem Bürgersteig .\n",
      "INFO:__main__:Target Reference: ['Menschen', 'mit', 'wei\\xc3\\x9fen', 'Oberteilen', 'gehen', 'den', 'Gehweg', 'entlang', 'und', 'telefonieren', 'dabei', '.']\n",
      "INFO:__main__:IMT F1 score: 0.0\n"
     ]
    },
    {
     "name": "stdout",
     "output_type": "stream",
     "text": [
      "\n",
      "predicting target prefix: ['Zwei', 'Menschen']"
     ]
    },
    {
     "name": "stderr",
     "output_type": "stream",
     "text": [
      "INFO:__main__:Source: Two people with white shirts walking up the sidewalk talking on their phones . </S>\n",
      "INFO:__main__:Target Hypothesis: mit weißen Shirts unterhalten sich auf dem Bürgersteig .\n",
      "INFO:__main__:Target Reference: ['mit', 'wei\\xc3\\x9fen', 'Oberteilen', 'gehen', 'den', 'Gehweg', 'entlang', 'und', 'telefonieren', 'dabei', '.']\n",
      "INFO:__main__:IMT F1 score: 0.2\n"
     ]
    },
    {
     "name": "stdout",
     "output_type": "stream",
     "text": [
      "\n",
      "predicting target prefix: ['Zwei', 'Menschen', 'mit']"
     ]
    },
    {
     "name": "stderr",
     "output_type": "stream",
     "text": [
      "INFO:__main__:Source: Two people with white shirts walking up the sidewalk talking on their phones . </S>\n",
      "INFO:__main__:Target Hypothesis: weißen Shirts unterhalten sich auf dem Bürgersteig .\n",
      "INFO:__main__:Target Reference: ['wei\\xc3\\x9fen', 'Oberteilen', 'gehen', 'den', 'Gehweg', 'entlang', 'und', 'telefonieren', 'dabei', '.']\n",
      "INFO:__main__:IMT F1 score: 0.111111111111\n"
     ]
    },
    {
     "name": "stdout",
     "output_type": "stream",
     "text": [
      "\n",
      "predicting target prefix: ['Zwei', 'Menschen', 'mit', 'wei\\xc3\\x9fen']"
     ]
    },
    {
     "name": "stderr",
     "output_type": "stream",
     "text": [
      "INFO:__main__:Source: Two people with white shirts walking up the sidewalk talking on their phones . </S>\n",
      "INFO:__main__:Target Hypothesis: Shirts unterhalten sich auf dem Bürgersteig .\n",
      "INFO:__main__:Target Reference: ['Oberteilen', 'gehen', 'den', 'Gehweg', 'entlang', 'und', 'telefonieren', 'dabei', '.']\n",
      "INFO:__main__:IMT F1 score: 0.0\n"
     ]
    },
    {
     "name": "stdout",
     "output_type": "stream",
     "text": [
      "\n",
      "predicting target prefix: ['Zwei', 'Menschen', 'mit', 'wei\\xc3\\x9fen', 'Oberteilen']"
     ]
    },
    {
     "name": "stderr",
     "output_type": "stream",
     "text": [
      "INFO:__main__:Source: Two people with white shirts walking up the sidewalk talking on their phones . </S>\n",
      "INFO:__main__:Target Hypothesis: gehen auf dem Bürgersteig und unterhalten sich .\n",
      "INFO:__main__:Target Reference: ['gehen', 'den', 'Gehweg', 'entlang', 'und', 'telefonieren', 'dabei', '.']\n",
      "INFO:__main__:IMT F1 score: 0.125\n"
     ]
    },
    {
     "name": "stdout",
     "output_type": "stream",
     "text": [
      "\n",
      "predicting target prefix: ['Zwei', 'Menschen', 'mit', 'wei\\xc3\\x9fen', 'Oberteilen', 'gehen']"
     ]
    },
    {
     "name": "stderr",
     "output_type": "stream",
     "text": [
      "INFO:__main__:Source: Two people with white shirts walking up the sidewalk talking on their phones . </S>\n",
      "INFO:__main__:Target Hypothesis: auf dem Bürgersteig und unterhalten sich im Gehen .\n",
      "INFO:__main__:Target Reference: ['den', 'Gehweg', 'entlang', 'und', 'telefonieren', 'dabei', '.']\n",
      "INFO:__main__:IMT F1 score: 0.0\n"
     ]
    },
    {
     "name": "stdout",
     "output_type": "stream",
     "text": [
      "\n",
      "predicting target prefix: ['Zwei', 'Menschen', 'mit', 'wei\\xc3\\x9fen', 'Oberteilen', 'gehen', 'den']"
     ]
    },
    {
     "name": "stderr",
     "output_type": "stream",
     "text": [
      "INFO:__main__:Source: Two people with white shirts walking up the sidewalk talking on their phones . </S>\n",
      "INFO:__main__:Target Hypothesis: Bürgersteig entlang und unterhalten sich .\n",
      "INFO:__main__:Target Reference: ['Gehweg', 'entlang', 'und', 'telefonieren', 'dabei', '.']\n",
      "INFO:__main__:IMT F1 score: 0.0\n"
     ]
    },
    {
     "name": "stdout",
     "output_type": "stream",
     "text": [
      "\n",
      "predicting target prefix: ['Zwei', 'Menschen', 'mit', 'wei\\xc3\\x9fen', 'Oberteilen', 'gehen', 'den', 'Gehweg']"
     ]
    },
    {
     "name": "stderr",
     "output_type": "stream",
     "text": [
      "INFO:__main__:Source: Two people with white shirts walking up the sidewalk talking on their phones . </S>\n",
      "INFO:__main__:Target Hypothesis: entlang und unterhalten sich .\n",
      "INFO:__main__:Target Reference: ['entlang', 'und', 'telefonieren', 'dabei', '.']\n",
      "INFO:__main__:IMT F1 score: 0.4\n"
     ]
    },
    {
     "name": "stdout",
     "output_type": "stream",
     "text": [
      "\n",
      "predicting target prefix: ['Zwei', 'Menschen', 'mit', 'wei\\xc3\\x9fen', 'Oberteilen', 'gehen', 'den', 'Gehweg', 'entlang']"
     ]
    },
    {
     "name": "stderr",
     "output_type": "stream",
     "text": [
      "INFO:__main__:Source: Two people with white shirts walking up the sidewalk talking on their phones . </S>\n",
      "INFO:__main__:Target Hypothesis: und unterhalten sich .\n",
      "INFO:__main__:Target Reference: ['und', 'telefonieren', 'dabei', '.']\n",
      "INFO:__main__:IMT F1 score: 0.25\n"
     ]
    },
    {
     "name": "stdout",
     "output_type": "stream",
     "text": [
      "\n",
      "predicting target prefix: ['Zwei', 'Menschen', 'mit', 'wei\\xc3\\x9fen', 'Oberteilen', 'gehen', 'den', 'Gehweg', 'entlang', 'und']"
     ]
    },
    {
     "name": "stderr",
     "output_type": "stream",
     "text": [
      "INFO:__main__:Source: Two people with white shirts walking up the sidewalk talking on their phones . </S>\n",
      "INFO:__main__:Target Hypothesis: unterhalten sich .\n",
      "INFO:__main__:Target Reference: ['telefonieren', 'dabei', '.']\n",
      "INFO:__main__:IMT F1 score: 0.0\n"
     ]
    },
    {
     "name": "stdout",
     "output_type": "stream",
     "text": [
      "\n",
      "predicting target prefix: ['Zwei', 'Menschen', 'mit', 'wei\\xc3\\x9fen', 'Oberteilen', 'gehen', 'den', 'Gehweg', 'entlang', 'und', 'telefonieren']"
     ]
    },
    {
     "name": "stderr",
     "output_type": "stream",
     "text": [
      "INFO:__main__:Source: Two people with white shirts walking up the sidewalk talking on their phones . </S>\n",
      "INFO:__main__:Target Hypothesis: .\n",
      "INFO:__main__:Target Reference: ['dabei', '.']\n",
      "INFO:__main__:IMT F1 score: 0.0\n"
     ]
    },
    {
     "name": "stdout",
     "output_type": "stream",
     "text": [
      "\n",
      "predicting target prefix: ['Zwei', 'Menschen', 'mit', 'wei\\xc3\\x9fen', 'Oberteilen', 'gehen', 'den', 'Gehweg', 'entlang', 'und', 'telefonieren', 'dabei']"
     ]
    },
    {
     "name": "stderr",
     "output_type": "stream",
     "text": [
      "INFO:__main__:Source: Two people with white shirts walking up the sidewalk talking on their phones . </S>\n",
      "INFO:__main__:Target Hypothesis: Kissen .\n",
      "INFO:__main__:Target Reference: ['.']\n",
      "INFO:__main__:IMT F1 score: 0.0\n"
     ]
    },
    {
     "name": "stdout",
     "output_type": "stream",
     "text": [
      "\n",
      "predicting target prefix: ['Zwei', 'Menschen', 'mit', 'wei\\xc3\\x9fen', 'Oberteilen', 'gehen', 'den', 'Gehweg', 'entlang', 'und', 'telefonieren', 'dabei', '.']"
     ]
    },
    {
     "name": "stderr",
     "output_type": "stream",
     "text": [
      "INFO:__main__:Source: Two people with white shirts walking up the sidewalk talking on their phones . </S>\n",
      "INFO:__main__:Target Hypothesis: </S> .\n",
      "INFO:__main__:Target Reference: []\n",
      "INFO:__main__:IMT F1 score: 0.0\n",
      "INFO:__main__:Translating segment: 13\n"
     ]
    },
    {
     "name": "stdout",
     "output_type": "stream",
     "text": [
      "\n",
      "predicting target prefix: ['Das']"
     ]
    },
    {
     "name": "stderr",
     "output_type": "stream",
     "text": [
      "INFO:__main__:Source: The little girl with the green necklace is running away from the net . </S>\n",
      "INFO:__main__:Target Hypothesis: kleine Mädchen mit der grünen Kette läuft weg von einem Netz .\n",
      "INFO:__main__:Target Reference: ['kleine', 'M\\xc3\\xa4dchen', 'mit', 'dem', 'gr\\xc3\\xbcnen', 'Halsband', 'rennt', 'weg', 'vom', 'Netz', '.']\n",
      "INFO:__main__:IMT F1 score: 0.260869565217\n"
     ]
    },
    {
     "name": "stdout",
     "output_type": "stream",
     "text": [
      "\n",
      "predicting target prefix: ['Das', 'kleine']"
     ]
    },
    {
     "name": "stderr",
     "output_type": "stream",
     "text": [
      "INFO:__main__:Source: The little girl with the green necklace is running away from the net . </S>\n",
      "INFO:__main__:Target Hypothesis: Mädchen mit der grünen Kette läuft weg von einem Netz .\n",
      "INFO:__main__:Target Reference: ['M\\xc3\\xa4dchen', 'mit', 'dem', 'gr\\xc3\\xbcnen', 'Halsband', 'rennt', 'weg', 'vom', 'Netz', '.']\n",
      "INFO:__main__:IMT F1 score: 0.190476190476\n"
     ]
    },
    {
     "name": "stdout",
     "output_type": "stream",
     "text": [
      "\n",
      "predicting target prefix: ['Das', 'kleine', 'M\\xc3\\xa4dchen']"
     ]
    },
    {
     "name": "stderr",
     "output_type": "stream",
     "text": [
      "INFO:__main__:Source: The little girl with the green necklace is running away from the net . </S>\n",
      "INFO:__main__:Target Hypothesis: mit der grünen Kette läuft weg von einem Netz .\n",
      "INFO:__main__:Target Reference: ['mit', 'dem', 'gr\\xc3\\xbcnen', 'Halsband', 'rennt', 'weg', 'vom', 'Netz', '.']\n",
      "INFO:__main__:IMT F1 score: 0.105263157895\n"
     ]
    },
    {
     "name": "stdout",
     "output_type": "stream",
     "text": [
      "\n",
      "predicting target prefix: ['Das', 'kleine', 'M\\xc3\\xa4dchen', 'mit']"
     ]
    },
    {
     "name": "stderr",
     "output_type": "stream",
     "text": [
      "INFO:__main__:Source: The little girl with the green necklace is running away from the net . </S>\n",
      "INFO:__main__:Target Hypothesis: der grünen Kette läuft weg von einem Netz .\n",
      "INFO:__main__:Target Reference: ['dem', 'gr\\xc3\\xbcnen', 'Halsband', 'rennt', 'weg', 'vom', 'Netz', '.']\n",
      "INFO:__main__:IMT F1 score: 0.0\n"
     ]
    },
    {
     "name": "stdout",
     "output_type": "stream",
     "text": [
      "\n",
      "predicting target prefix: ['Das', 'kleine', 'M\\xc3\\xa4dchen', 'mit', 'dem']"
     ]
    },
    {
     "name": "stderr",
     "output_type": "stream",
     "text": [
      "INFO:__main__:Source: The little girl with the green necklace is running away from the net . </S>\n",
      "INFO:__main__:Target Hypothesis: grünen Kette läuft voneinander weg .\n",
      "INFO:__main__:Target Reference: ['gr\\xc3\\xbcnen', 'Halsband', 'rennt', 'weg', 'vom', 'Netz', '.']\n",
      "INFO:__main__:IMT F1 score: 0.153846153846\n"
     ]
    },
    {
     "name": "stdout",
     "output_type": "stream",
     "text": [
      "\n",
      "predicting target prefix: ['Das', 'kleine', 'M\\xc3\\xa4dchen', 'mit', 'dem', 'gr\\xc3\\xbcnen']"
     ]
    },
    {
     "name": "stderr",
     "output_type": "stream",
     "text": [
      "INFO:__main__:Source: The little girl with the green necklace is running away from the net . </S>\n",
      "INFO:__main__:Target Hypothesis: Kette läuft voneinander weg .\n",
      "INFO:__main__:Target Reference: ['Halsband', 'rennt', 'weg', 'vom', 'Netz', '.']\n",
      "INFO:__main__:IMT F1 score: 0.0\n"
     ]
    },
    {
     "name": "stdout",
     "output_type": "stream",
     "text": [
      "\n",
      "predicting target prefix: ['Das', 'kleine', 'M\\xc3\\xa4dchen', 'mit', 'dem', 'gr\\xc3\\xbcnen', 'Halsband']"
     ]
    },
    {
     "name": "stderr",
     "output_type": "stream",
     "text": [
      "INFO:__main__:Source: The little girl with the green necklace is running away from the net . </S>\n",
      "INFO:__main__:Target Hypothesis: läuft aus dem Netz weg .\n",
      "INFO:__main__:Target Reference: ['rennt', 'weg', 'vom', 'Netz', '.']\n",
      "INFO:__main__:IMT F1 score: 0.0\n"
     ]
    },
    {
     "name": "stdout",
     "output_type": "stream",
     "text": [
      "\n",
      "predicting target prefix: ['Das', 'kleine', 'M\\xc3\\xa4dchen', 'mit', 'dem', 'gr\\xc3\\xbcnen', 'Halsband', 'rennt']"
     ]
    },
    {
     "name": "stderr",
     "output_type": "stream",
     "text": [
      "INFO:__main__:Source: The little girl with the green necklace is running away from the net . </S>\n",
      "INFO:__main__:Target Hypothesis: von dem Netz voneinander .\n",
      "INFO:__main__:Target Reference: ['weg', 'vom', 'Netz', '.']\n",
      "INFO:__main__:IMT F1 score: 0.0\n"
     ]
    },
    {
     "name": "stdout",
     "output_type": "stream",
     "text": [
      "\n",
      "predicting target prefix: ['Das', 'kleine', 'M\\xc3\\xa4dchen', 'mit', 'dem', 'gr\\xc3\\xbcnen', 'Halsband', 'rennt', 'weg']"
     ]
    },
    {
     "name": "stderr",
     "output_type": "stream",
     "text": [
      "INFO:__main__:Source: The little girl with the green necklace is running away from the net . </S>\n",
      "INFO:__main__:Target Hypothesis: von einem Netz .\n",
      "INFO:__main__:Target Reference: ['vom', 'Netz', '.']\n",
      "INFO:__main__:IMT F1 score: 0.0\n"
     ]
    },
    {
     "name": "stdout",
     "output_type": "stream",
     "text": [
      "\n",
      "predicting target prefix: ['Das', 'kleine', 'M\\xc3\\xa4dchen', 'mit', 'dem', 'gr\\xc3\\xbcnen', 'Halsband', 'rennt', 'weg', 'vom']"
     ]
    },
    {
     "name": "stderr",
     "output_type": "stream",
     "text": [
      "INFO:__main__:Source: The little girl with the green necklace is running away from the net . </S>\n",
      "INFO:__main__:Target Hypothesis: Netz .\n",
      "INFO:__main__:Target Reference: ['Netz', '.']\n",
      "INFO:__main__:IMT F1 score: 1.0\n"
     ]
    },
    {
     "name": "stdout",
     "output_type": "stream",
     "text": [
      "\n",
      "predicting target prefix: ['Das', 'kleine', 'M\\xc3\\xa4dchen', 'mit', 'dem', 'gr\\xc3\\xbcnen', 'Halsband', 'rennt', 'weg', 'vom', 'Netz']"
     ]
    },
    {
     "name": "stderr",
     "output_type": "stream",
     "text": [
      "INFO:__main__:Source: The little girl with the green necklace is running away from the net . </S>\n",
      "INFO:__main__:Target Hypothesis: .\n",
      "INFO:__main__:Target Reference: ['.']\n",
      "INFO:__main__:IMT F1 score: 1.0\n"
     ]
    },
    {
     "name": "stdout",
     "output_type": "stream",
     "text": [
      "\n",
      "predicting target prefix: ['Das', 'kleine', 'M\\xc3\\xa4dchen', 'mit', 'dem', 'gr\\xc3\\xbcnen', 'Halsband', 'rennt', 'weg', 'vom', 'Netz', '.']"
     ]
    },
    {
     "name": "stderr",
     "output_type": "stream",
     "text": [
      "INFO:__main__:Source: The little girl with the green necklace is running away from the net . </S>\n",
      "INFO:__main__:Target Hypothesis: </S> .\n",
      "INFO:__main__:Target Reference: []\n",
      "INFO:__main__:IMT F1 score: 0.0\n",
      "INFO:__main__:Translating segment: 14\n"
     ]
    },
    {
     "name": "stdout",
     "output_type": "stream",
     "text": [
      "\n",
      "predicting target prefix: ['Ein']"
     ]
    },
    {
     "name": "stderr",
     "output_type": "stream",
     "text": [
      "INFO:__main__:Source: An artist is painting outside . </S>\n",
      "INFO:__main__:Target Hypothesis: Künstler malt im Freien .\n",
      "INFO:__main__:Target Reference: ['K\\xc3\\xbcnstler', 'malt', 'im', 'Freien', '.']\n",
      "INFO:__main__:IMT F1 score: 1.0\n",
      "INFO:__main__:Source: An artist is painting outside . </S>\n",
      "INFO:__main__:Target Hypothesis: malt im Freien .\n",
      "INFO:__main__:Target Reference: ['malt', 'im', 'Freien', '.']\n",
      "INFO:__main__:IMT F1 score: 1.0\n"
     ]
    },
    {
     "name": "stdout",
     "output_type": "stream",
     "text": [
      "\n",
      "predicting target prefix: ['Ein', 'K\\xc3\\xbcnstler']\n",
      "predicting target prefix: ['Ein', 'K\\xc3\\xbcnstler', 'malt']"
     ]
    },
    {
     "name": "stderr",
     "output_type": "stream",
     "text": [
      "INFO:__main__:Source: An artist is painting outside . </S>\n",
      "INFO:__main__:Target Hypothesis: im Freien .\n",
      "INFO:__main__:Target Reference: ['im', 'Freien', '.']\n",
      "INFO:__main__:IMT F1 score: 1.0\n",
      "INFO:__main__:Source: An artist is painting outside . </S>\n",
      "INFO:__main__:Target Hypothesis: Freien .\n",
      "INFO:__main__:Target Reference: ['Freien', '.']\n",
      "INFO:__main__:IMT F1 score: 1.0\n"
     ]
    },
    {
     "name": "stdout",
     "output_type": "stream",
     "text": [
      "\n",
      "predicting target prefix: ['Ein', 'K\\xc3\\xbcnstler', 'malt', 'im']\n",
      "predicting target prefix: ['Ein', 'K\\xc3\\xbcnstler', 'malt', 'im', 'Freien']"
     ]
    },
    {
     "name": "stderr",
     "output_type": "stream",
     "text": [
      "INFO:__main__:Source: An artist is painting outside . </S>\n",
      "INFO:__main__:Target Hypothesis: .\n",
      "INFO:__main__:Target Reference: ['.']\n",
      "INFO:__main__:IMT F1 score: 1.0\n"
     ]
    },
    {
     "name": "stdout",
     "output_type": "stream",
     "text": [
      "\n",
      "predicting target prefix: ['Ein', 'K\\xc3\\xbcnstler', 'malt', 'im', 'Freien', '.']"
     ]
    },
    {
     "name": "stderr",
     "output_type": "stream",
     "text": [
      "INFO:__main__:Source: An artist is painting outside . </S>\n",
      "INFO:__main__:Target Hypothesis: </S> .\n",
      "INFO:__main__:Target Reference: []\n",
      "INFO:__main__:IMT F1 score: 0.0\n",
      "INFO:__main__:Translating segment: 15\n"
     ]
    },
    {
     "name": "stdout",
     "output_type": "stream",
     "text": [
      "\n",
      "predicting target prefix: ['Zwei']"
     ]
    },
    {
     "name": "stderr",
     "output_type": "stream",
     "text": [
      "INFO:__main__:Source: Two Asian children , a boy and a girl , are standing on the floor next to a tree . </S>\n",
      "INFO:__main__:Target Hypothesis: asiatische Kinder und ein Mädchen stehen auf dem Boden neben einem Baum .\n",
      "INFO:__main__:Target Reference: ['asiatische', 'Kinder', ',', 'ein', 'Junge', 'und', 'ein', 'M\\xc3\\xa4dchen', ',', 'stehen', 'neben', 'einem', 'Baum', '.']\n",
      "INFO:__main__:IMT F1 score: 0.148148148148\n"
     ]
    },
    {
     "name": "stdout",
     "output_type": "stream",
     "text": [
      "\n",
      "predicting target prefix: ['Zwei', 'asiatische']"
     ]
    },
    {
     "name": "stderr",
     "output_type": "stream",
     "text": [
      "INFO:__main__:Source: Two Asian children , a boy and a girl , are standing on the floor next to a tree . </S>\n",
      "INFO:__main__:Target Hypothesis: Kinder und ein Mädchen stehen auf dem Boden neben einem Baum .\n",
      "INFO:__main__:Target Reference: ['Kinder', ',', 'ein', 'Junge', 'und', 'ein', 'M\\xc3\\xa4dchen', ',', 'stehen', 'neben', 'einem', 'Baum', '.']\n",
      "INFO:__main__:IMT F1 score: 0.08\n"
     ]
    },
    {
     "name": "stdout",
     "output_type": "stream",
     "text": [
      "\n",
      "predicting target prefix: ['Zwei', 'asiatische', 'Kinder']"
     ]
    },
    {
     "name": "stderr",
     "output_type": "stream",
     "text": [
      "INFO:__main__:Source: Two Asian children , a boy and a girl , are standing on the floor next to a tree . </S>\n",
      "INFO:__main__:Target Hypothesis: und ein Mädchen stehen auf dem Boden neben einem Baum .\n",
      "INFO:__main__:Target Reference: [',', 'ein', 'Junge', 'und', 'ein', 'M\\xc3\\xa4dchen', ',', 'stehen', 'neben', 'einem', 'Baum', '.']\n",
      "INFO:__main__:IMT F1 score: 0.0\n"
     ]
    },
    {
     "name": "stdout",
     "output_type": "stream",
     "text": [
      "\n",
      "predicting target prefix: ['Zwei', 'asiatische', 'Kinder', ',']"
     ]
    },
    {
     "name": "stderr",
     "output_type": "stream",
     "text": [
      "INFO:__main__:Source: Two Asian children , a boy and a girl , are standing on the floor next to a tree . </S>\n",
      "INFO:__main__:Target Hypothesis: ein Mädchen und ein Mädchen stehen auf dem Boden neben einem Baum .\n",
      "INFO:__main__:Target Reference: ['ein', 'Junge', 'und', 'ein', 'M\\xc3\\xa4dchen', ',', 'stehen', 'neben', 'einem', 'Baum', '.']\n",
      "INFO:__main__:IMT F1 score: 0.0833333333333\n"
     ]
    },
    {
     "name": "stdout",
     "output_type": "stream",
     "text": [
      "\n",
      "predicting target prefix: ['Zwei', 'asiatische', 'Kinder', ',', 'ein']"
     ]
    },
    {
     "name": "stderr",
     "output_type": "stream",
     "text": [
      "INFO:__main__:Source: Two Asian children , a boy and a girl , are standing on the floor next to a tree . </S>\n",
      "INFO:__main__:Target Hypothesis: Mädchen und ein Mädchen stehen auf dem Boden neben einem Baum .\n",
      "INFO:__main__:Target Reference: ['Junge', 'und', 'ein', 'M\\xc3\\xa4dchen', ',', 'stehen', 'neben', 'einem', 'Baum', '.']\n",
      "INFO:__main__:IMT F1 score: 0.0\n"
     ]
    },
    {
     "name": "stdout",
     "output_type": "stream",
     "text": [
      "\n",
      "predicting target prefix: ['Zwei', 'asiatische', 'Kinder', ',', 'ein', 'Junge']"
     ]
    },
    {
     "name": "stderr",
     "output_type": "stream",
     "text": [
      "INFO:__main__:Source: Two Asian children , a boy and a girl , are standing on the floor next to a tree . </S>\n",
      "INFO:__main__:Target Hypothesis: und ein Mädchen stehen auf dem Boden neben einem Baum .\n",
      "INFO:__main__:Target Reference: ['und', 'ein', 'M\\xc3\\xa4dchen', ',', 'stehen', 'neben', 'einem', 'Baum', '.']\n",
      "INFO:__main__:IMT F1 score: 0.3\n"
     ]
    },
    {
     "name": "stdout",
     "output_type": "stream",
     "text": [
      "\n",
      "predicting target prefix: ['Zwei', 'asiatische', 'Kinder', ',', 'ein', 'Junge', 'und']"
     ]
    },
    {
     "name": "stderr",
     "output_type": "stream",
     "text": [
      "INFO:__main__:Source: Two Asian children , a boy and a girl , are standing on the floor next to a tree . </S>\n",
      "INFO:__main__:Target Hypothesis: ein Mädchen stehen auf dem Boden neben einem Baum .\n",
      "INFO:__main__:Target Reference: ['ein', 'M\\xc3\\xa4dchen', ',', 'stehen', 'neben', 'einem', 'Baum', '.']\n",
      "INFO:__main__:IMT F1 score: 0.222222222222\n"
     ]
    },
    {
     "name": "stdout",
     "output_type": "stream",
     "text": [
      "\n",
      "predicting target prefix: ['Zwei', 'asiatische', 'Kinder', ',', 'ein', 'Junge', 'und', 'ein']"
     ]
    },
    {
     "name": "stderr",
     "output_type": "stream",
     "text": [
      "INFO:__main__:Source: Two Asian children , a boy and a girl , are standing on the floor next to a tree . </S>\n",
      "INFO:__main__:Target Hypothesis: Mädchen stehen auf dem Boden neben einem Baum .\n",
      "INFO:__main__:Target Reference: ['M\\xc3\\xa4dchen', ',', 'stehen', 'neben', 'einem', 'Baum', '.']\n",
      "INFO:__main__:IMT F1 score: 0.125\n"
     ]
    },
    {
     "name": "stdout",
     "output_type": "stream",
     "text": [
      "\n",
      "predicting target prefix: ['Zwei', 'asiatische', 'Kinder', ',', 'ein', 'Junge', 'und', 'ein', 'M\\xc3\\xa4dchen']"
     ]
    },
    {
     "name": "stderr",
     "output_type": "stream",
     "text": [
      "INFO:__main__:Source: Two Asian children , a boy and a girl , are standing on the floor next to a tree . </S>\n",
      "INFO:__main__:Target Hypothesis: stehen auf dem Boden neben einem Baum .\n",
      "INFO:__main__:Target Reference: [',', 'stehen', 'neben', 'einem', 'Baum', '.']\n",
      "INFO:__main__:IMT F1 score: 0.0\n"
     ]
    },
    {
     "name": "stdout",
     "output_type": "stream",
     "text": [
      "\n",
      "predicting target prefix: ['Zwei', 'asiatische', 'Kinder', ',', 'ein', 'Junge', 'und', 'ein', 'M\\xc3\\xa4dchen', ',']"
     ]
    },
    {
     "name": "stderr",
     "output_type": "stream",
     "text": [
      "INFO:__main__:Source: Two Asian children , a boy and a girl , are standing on the floor next to a tree . </S>\n",
      "INFO:__main__:Target Hypothesis: stehen auf dem Boden neben einem Baum .\n",
      "INFO:__main__:Target Reference: ['stehen', 'neben', 'einem', 'Baum', '.']\n",
      "INFO:__main__:IMT F1 score: 0.153846153846\n"
     ]
    },
    {
     "name": "stdout",
     "output_type": "stream",
     "text": [
      "\n",
      "predicting target prefix: ['Zwei', 'asiatische', 'Kinder', ',', 'ein', 'Junge', 'und', 'ein', 'M\\xc3\\xa4dchen', ',', 'stehen']"
     ]
    },
    {
     "name": "stderr",
     "output_type": "stream",
     "text": [
      "INFO:__main__:Source: Two Asian children , a boy and a girl , are standing on the floor next to a tree . </S>\n",
      "INFO:__main__:Target Hypothesis: auf dem Boden neben einem Baum .\n",
      "INFO:__main__:Target Reference: ['neben', 'einem', 'Baum', '.']\n",
      "INFO:__main__:IMT F1 score: 0.0\n"
     ]
    },
    {
     "name": "stdout",
     "output_type": "stream",
     "text": [
      "\n",
      "predicting target prefix: ['Zwei', 'asiatische', 'Kinder', ',', 'ein', 'Junge', 'und', 'ein', 'M\\xc3\\xa4dchen', ',', 'stehen', 'neben']"
     ]
    },
    {
     "name": "stderr",
     "output_type": "stream",
     "text": [
      "INFO:__main__:Source: Two Asian children , a boy and a girl , are standing on the floor next to a tree . </S>\n",
      "INFO:__main__:Target Hypothesis: einem Baum auf dem Boden .\n",
      "INFO:__main__:Target Reference: ['einem', 'Baum', '.']\n",
      "INFO:__main__:IMT F1 score: 0.444444444444\n"
     ]
    },
    {
     "name": "stdout",
     "output_type": "stream",
     "text": [
      "\n",
      "predicting target prefix: ['Zwei', 'asiatische', 'Kinder', ',', 'ein', 'Junge', 'und', 'ein', 'M\\xc3\\xa4dchen', ',', 'stehen', 'neben', 'einem']"
     ]
    },
    {
     "name": "stderr",
     "output_type": "stream",
     "text": [
      "INFO:__main__:Source: Two Asian children , a boy and a girl , are standing on the floor next to a tree . </S>\n",
      "INFO:__main__:Target Hypothesis: Baum auf dem Boden .\n",
      "INFO:__main__:Target Reference: ['Baum', '.']\n",
      "INFO:__main__:IMT F1 score: 0.285714285714\n"
     ]
    },
    {
     "name": "stdout",
     "output_type": "stream",
     "text": [
      "\n",
      "predicting target prefix: ['Zwei', 'asiatische', 'Kinder', ',', 'ein', 'Junge', 'und', 'ein', 'M\\xc3\\xa4dchen', ',', 'stehen', 'neben', 'einem', 'Baum']"
     ]
    },
    {
     "name": "stderr",
     "output_type": "stream",
     "text": [
      "INFO:__main__:Source: Two Asian children , a boy and a girl , are standing on the floor next to a tree . </S>\n",
      "INFO:__main__:Target Hypothesis: auf dem Boden .\n",
      "INFO:__main__:Target Reference: ['.']\n",
      "INFO:__main__:IMT F1 score: 0.0\n"
     ]
    },
    {
     "name": "stdout",
     "output_type": "stream",
     "text": [
      "\n",
      "predicting target prefix: ['Zwei', 'asiatische', 'Kinder', ',', 'ein', 'Junge', 'und', 'ein', 'M\\xc3\\xa4dchen', ',', 'stehen', 'neben', 'einem', 'Baum', '.']"
     ]
    },
    {
     "name": "stderr",
     "output_type": "stream",
     "text": [
      "INFO:__main__:Source: Two Asian children , a boy and a girl , are standing on the floor next to a tree . </S>\n",
      "INFO:__main__:Target Hypothesis: </S> .\n",
      "INFO:__main__:Target Reference: []\n",
      "INFO:__main__:IMT F1 score: 0.0\n",
      "INFO:__main__:Translating segment: 16\n"
     ]
    },
    {
     "name": "stdout",
     "output_type": "stream",
     "text": [
      "\n",
      "predicting target prefix: ['Menschen']"
     ]
    },
    {
     "name": "stderr",
     "output_type": "stream",
     "text": [
      "INFO:__main__:Source: People in line getting ready to board a bus . </S>\n",
      "INFO:__main__:Target Hypothesis: in einer Schlange bereiten sich auf ein Bus vor .\n",
      "INFO:__main__:Target Reference: ['in', 'einer', 'Schlange', 'machen', 'sich', 'bereit', ',', 'um', 'in', 'einen', 'Bus', 'zu', 'steigen', '.']\n",
      "INFO:__main__:IMT F1 score: 0.25\n"
     ]
    },
    {
     "name": "stdout",
     "output_type": "stream",
     "text": [
      "\n",
      "predicting target prefix: ['Menschen', 'in']"
     ]
    },
    {
     "name": "stderr",
     "output_type": "stream",
     "text": [
      "INFO:__main__:Source: People in line getting ready to board a bus . </S>\n",
      "INFO:__main__:Target Hypothesis: einer Schlange bereiten sich auf ein Bus vor .\n",
      "INFO:__main__:Target Reference: ['einer', 'Schlange', 'machen', 'sich', 'bereit', ',', 'um', 'in', 'einen', 'Bus', 'zu', 'steigen', '.']\n",
      "INFO:__main__:IMT F1 score: 0.181818181818\n"
     ]
    },
    {
     "name": "stdout",
     "output_type": "stream",
     "text": [
      "\n",
      "predicting target prefix: ['Menschen', 'in', 'einer']"
     ]
    },
    {
     "name": "stderr",
     "output_type": "stream",
     "text": [
      "INFO:__main__:Source: People in line getting ready to board a bus . </S>\n",
      "INFO:__main__:Target Hypothesis: Schlange bereiten sich auf ein Bus vor .\n",
      "INFO:__main__:Target Reference: ['Schlange', 'machen', 'sich', 'bereit', ',', 'um', 'in', 'einen', 'Bus', 'zu', 'steigen', '.']\n",
      "INFO:__main__:IMT F1 score: 0.1\n"
     ]
    },
    {
     "name": "stdout",
     "output_type": "stream",
     "text": [
      "\n",
      "predicting target prefix: ['Menschen', 'in', 'einer', 'Schlange']"
     ]
    },
    {
     "name": "stderr",
     "output_type": "stream",
     "text": [
      "INFO:__main__:Source: People in line getting ready to board a bus . </S>\n",
      "INFO:__main__:Target Hypothesis: bereiten sich auf ein Bus vor .\n",
      "INFO:__main__:Target Reference: ['machen', 'sich', 'bereit', ',', 'um', 'in', 'einen', 'Bus', 'zu', 'steigen', '.']\n",
      "INFO:__main__:IMT F1 score: 0.0\n"
     ]
    },
    {
     "name": "stdout",
     "output_type": "stream",
     "text": [
      "\n",
      "predicting target prefix: ['Menschen', 'in', 'einer', 'Schlange', 'machen']"
     ]
    },
    {
     "name": "stderr",
     "output_type": "stream",
     "text": [
      "INFO:__main__:Source: People in line getting ready to board a bus . </S>\n",
      "INFO:__main__:Target Hypothesis: sich bereit , einen Bus zu steigen .\n",
      "INFO:__main__:Target Reference: ['sich', 'bereit', ',', 'um', 'in', 'einen', 'Bus', 'zu', 'steigen', '.']\n",
      "INFO:__main__:IMT F1 score: 0.333333333333\n"
     ]
    },
    {
     "name": "stdout",
     "output_type": "stream",
     "text": [
      "\n",
      "predicting target prefix: ['Menschen', 'in', 'einer', 'Schlange', 'machen', 'sich']"
     ]
    },
    {
     "name": "stderr",
     "output_type": "stream",
     "text": [
      "INFO:__main__:Source: People in line getting ready to board a bus . </S>\n",
      "INFO:__main__:Target Hypothesis: bereit , einen Bus zu steigen .\n",
      "INFO:__main__:Target Reference: ['bereit', ',', 'um', 'in', 'einen', 'Bus', 'zu', 'steigen', '.']\n",
      "INFO:__main__:IMT F1 score: 0.25\n"
     ]
    },
    {
     "name": "stdout",
     "output_type": "stream",
     "text": [
      "\n",
      "predicting target prefix: ['Menschen', 'in', 'einer', 'Schlange', 'machen', 'sich', 'bereit']"
     ]
    },
    {
     "name": "stderr",
     "output_type": "stream",
     "text": [
      "INFO:__main__:Source: People in line getting ready to board a bus . </S>\n",
      "INFO:__main__:Target Hypothesis: , einen Bus zu steigen .\n",
      "INFO:__main__:Target Reference: [',', 'um', 'in', 'einen', 'Bus', 'zu', 'steigen', '.']\n",
      "INFO:__main__:IMT F1 score: 0.142857142857\n"
     ]
    },
    {
     "name": "stdout",
     "output_type": "stream",
     "text": [
      "\n",
      "predicting target prefix: ['Menschen', 'in', 'einer', 'Schlange', 'machen', 'sich', 'bereit', ',']"
     ]
    },
    {
     "name": "stderr",
     "output_type": "stream",
     "text": [
      "INFO:__main__:Source: People in line getting ready to board a bus . </S>\n",
      "INFO:__main__:Target Hypothesis: einen Bus zu steigen .\n",
      "INFO:__main__:Target Reference: ['um', 'in', 'einen', 'Bus', 'zu', 'steigen', '.']\n",
      "INFO:__main__:IMT F1 score: 0.0\n"
     ]
    },
    {
     "name": "stdout",
     "output_type": "stream",
     "text": [
      "\n",
      "predicting target prefix: ['Menschen', 'in', 'einer', 'Schlange', 'machen', 'sich', 'bereit', ',', 'um']"
     ]
    },
    {
     "name": "stderr",
     "output_type": "stream",
     "text": [
      "INFO:__main__:Source: People in line getting ready to board a bus . </S>\n",
      "INFO:__main__:Target Hypothesis: einen Bus zu steigen .\n",
      "INFO:__main__:Target Reference: ['in', 'einen', 'Bus', 'zu', 'steigen', '.']\n",
      "INFO:__main__:IMT F1 score: 0.0\n"
     ]
    },
    {
     "name": "stdout",
     "output_type": "stream",
     "text": [
      "\n",
      "predicting target prefix: ['Menschen', 'in', 'einer', 'Schlange', 'machen', 'sich', 'bereit', ',', 'um', 'in']"
     ]
    },
    {
     "name": "stderr",
     "output_type": "stream",
     "text": [
      "INFO:__main__:Source: People in line getting ready to board a bus . </S>\n",
      "INFO:__main__:Target Hypothesis: einem Bus zu steigen .\n",
      "INFO:__main__:Target Reference: ['einen', 'Bus', 'zu', 'steigen', '.']\n",
      "INFO:__main__:IMT F1 score: 0.0\n"
     ]
    },
    {
     "name": "stdout",
     "output_type": "stream",
     "text": [
      "\n",
      "predicting target prefix: ['Menschen', 'in', 'einer', 'Schlange', 'machen', 'sich', 'bereit', ',', 'um', 'in', 'einen']"
     ]
    },
    {
     "name": "stderr",
     "output_type": "stream",
     "text": [
      "INFO:__main__:Source: People in line getting ready to board a bus . </S>\n",
      "INFO:__main__:Target Hypothesis: Bus zu steigen .\n",
      "INFO:__main__:Target Reference: ['Bus', 'zu', 'steigen', '.']\n",
      "INFO:__main__:IMT F1 score: 1.0\n"
     ]
    },
    {
     "name": "stdout",
     "output_type": "stream",
     "text": [
      "\n",
      "predicting target prefix: ['Menschen', 'in', 'einer', 'Schlange', 'machen', 'sich', 'bereit', ',', 'um', 'in', 'einen', 'Bus']"
     ]
    },
    {
     "name": "stderr",
     "output_type": "stream",
     "text": [
      "INFO:__main__:Source: People in line getting ready to board a bus . </S>\n",
      "INFO:__main__:Target Hypothesis: zu steigen .\n",
      "INFO:__main__:Target Reference: ['zu', 'steigen', '.']\n",
      "INFO:__main__:IMT F1 score: 1.0\n",
      "INFO:__main__:Source: People in line getting ready to board a bus . </S>\n",
      "INFO:__main__:Target Hypothesis: steigen .\n",
      "INFO:__main__:Target Reference: ['steigen', '.']\n",
      "INFO:__main__:IMT F1 score: 1.0\n"
     ]
    },
    {
     "name": "stdout",
     "output_type": "stream",
     "text": [
      "\n",
      "predicting target prefix: ['Menschen', 'in', 'einer', 'Schlange', 'machen', 'sich', 'bereit', ',', 'um', 'in', 'einen', 'Bus', 'zu']\n",
      "predicting target prefix: ['Menschen', 'in', 'einer', 'Schlange', 'machen', 'sich', 'bereit', ',', 'um', 'in', 'einen', 'Bus', 'zu', 'steigen']"
     ]
    },
    {
     "name": "stderr",
     "output_type": "stream",
     "text": [
      "INFO:__main__:Source: People in line getting ready to board a bus . </S>\n",
      "INFO:__main__:Target Hypothesis: .\n",
      "INFO:__main__:Target Reference: ['.']\n",
      "INFO:__main__:IMT F1 score: 1.0\n"
     ]
    },
    {
     "name": "stdout",
     "output_type": "stream",
     "text": [
      "\n",
      "predicting target prefix: ['Menschen', 'in', 'einer', 'Schlange', 'machen', 'sich', 'bereit', ',', 'um', 'in', 'einen', 'Bus', 'zu', 'steigen', '.']"
     ]
    },
    {
     "name": "stderr",
     "output_type": "stream",
     "text": [
      "INFO:__main__:Source: People in line getting ready to board a bus . </S>\n",
      "INFO:__main__:Target Hypothesis: </S> .\n",
      "INFO:__main__:Target Reference: []\n",
      "INFO:__main__:IMT F1 score: 0.0\n",
      "INFO:__main__:Translating segment: 17\n"
     ]
    },
    {
     "name": "stdout",
     "output_type": "stream",
     "text": [
      "\n",
      "predicting target prefix: ['Zwei']"
     ]
    },
    {
     "name": "stderr",
     "output_type": "stream",
     "text": [
      "INFO:__main__:Source: Two teams , one in pink and one in white , play lacrosse on a field . </S>\n",
      "INFO:__main__:Target Hypothesis: Mannschaften , von denen eine in Weiß und Weiß gekleidet sind , spielen auf einem Acker auf einem Feld .\n",
      "INFO:__main__:Target Reference: ['Teams', ',', 'eines', 'davon', 'in', 'Pink', 'und', 'eines', 'in', 'Wei\\xc3\\x9f', ',', 'spielen', 'Lacrosse', 'auf', 'einem', 'Sportplatz', '.']\n",
      "INFO:__main__:IMT F1 score: 0.0\n"
     ]
    },
    {
     "name": "stdout",
     "output_type": "stream",
     "text": [
      "\n",
      "predicting target prefix: ['Zwei', 'Teams']"
     ]
    },
    {
     "name": "stderr",
     "output_type": "stream",
     "text": [
      "INFO:__main__:Source: Two teams , one in pink and one in white , play lacrosse on a field . </S>\n",
      "INFO:__main__:Target Hypothesis: , von denen eine in Weiß und Weiß gekleidet sind , spielen auf einem Acker auf einem Feld .\n",
      "INFO:__main__:Target Reference: [',', 'eines', 'davon', 'in', 'Pink', 'und', 'eines', 'in', 'Wei\\xc3\\x9f', ',', 'spielen', 'Lacrosse', 'auf', 'einem', 'Sportplatz', '.']\n",
      "INFO:__main__:IMT F1 score: 0.0571428571429\n"
     ]
    },
    {
     "name": "stdout",
     "output_type": "stream",
     "text": [
      "\n",
      "predicting target prefix: ['Zwei', 'Teams', ',']"
     ]
    },
    {
     "name": "stderr",
     "output_type": "stream",
     "text": [
      "INFO:__main__:Source: Two teams , one in pink and one in white , play lacrosse on a field . </S>\n",
      "INFO:__main__:Target Hypothesis: von denen eine in Weiß und Weiß gekleidet sind , spielen auf einem Acker auf einem Feld .\n",
      "INFO:__main__:Target Reference: ['eines', 'davon', 'in', 'Pink', 'und', 'eines', 'in', 'Wei\\xc3\\x9f', ',', 'spielen', 'Lacrosse', 'auf', 'einem', 'Sportplatz', '.']\n",
      "INFO:__main__:IMT F1 score: 0.0\n"
     ]
    },
    {
     "name": "stdout",
     "output_type": "stream",
     "text": [
      "\n",
      "predicting target prefix: ['Zwei', 'Teams', ',', 'eines']"
     ]
    },
    {
     "name": "stderr",
     "output_type": "stream",
     "text": [
      "INFO:__main__:Source: Two teams , one in pink and one in white , play lacrosse on a field . </S>\n",
      "INFO:__main__:Target Hypothesis: die in Weiß und Weiß gekleidet sind , spielen auf einem Acker auf einem Feld .\n",
      "INFO:__main__:Target Reference: ['davon', 'in', 'Pink', 'und', 'eines', 'in', 'Wei\\xc3\\x9f', ',', 'spielen', 'Lacrosse', 'auf', 'einem', 'Sportplatz', '.']\n",
      "INFO:__main__:IMT F1 score: 0.0\n"
     ]
    },
    {
     "name": "stdout",
     "output_type": "stream",
     "text": [
      "\n",
      "predicting target prefix: ['Zwei', 'Teams', ',', 'eines', 'davon']"
     ]
    },
    {
     "name": "stderr",
     "output_type": "stream",
     "text": [
      "INFO:__main__:Source: Two teams , one in pink and one in white , play lacrosse on a field . </S>\n",
      "INFO:__main__:Target Hypothesis: in Weiß , spielen auf einem Acker auf einem Spielfeld .\n",
      "INFO:__main__:Target Reference: ['in', 'Pink', 'und', 'eines', 'in', 'Wei\\xc3\\x9f', ',', 'spielen', 'Lacrosse', 'auf', 'einem', 'Sportplatz', '.']\n",
      "INFO:__main__:IMT F1 score: 0.0833333333333\n"
     ]
    },
    {
     "name": "stdout",
     "output_type": "stream",
     "text": [
      "\n",
      "predicting target prefix: ['Zwei', 'Teams', ',', 'eines', 'davon', 'in']"
     ]
    },
    {
     "name": "stderr",
     "output_type": "stream",
     "text": [
      "INFO:__main__:Source: Two teams , one in pink and one in white , play lacrosse on a field . </S>\n",
      "INFO:__main__:Target Hypothesis: Weiß , spielen auf einem Acker auf einem Spielfeld .\n",
      "INFO:__main__:Target Reference: ['Pink', 'und', 'eines', 'in', 'Wei\\xc3\\x9f', ',', 'spielen', 'Lacrosse', 'auf', 'einem', 'Sportplatz', '.']\n",
      "INFO:__main__:IMT F1 score: 0.0\n"
     ]
    },
    {
     "name": "stdout",
     "output_type": "stream",
     "text": [
      "\n",
      "predicting target prefix: ['Zwei', 'Teams', ',', 'eines', 'davon', 'in', 'Pink']"
     ]
    },
    {
     "name": "stderr",
     "output_type": "stream",
     "text": [
      "INFO:__main__:Source: Two teams , one in pink and one in white , play lacrosse on a field . </S>\n",
      "INFO:__main__:Target Hypothesis: , spielen auf einem Acker auf einem Spielfeld .\n",
      "INFO:__main__:Target Reference: ['und', 'eines', 'in', 'Wei\\xc3\\x9f', ',', 'spielen', 'Lacrosse', 'auf', 'einem', 'Sportplatz', '.']\n",
      "INFO:__main__:IMT F1 score: 0.0\n"
     ]
    },
    {
     "name": "stdout",
     "output_type": "stream",
     "text": [
      "\n",
      "predicting target prefix: ['Zwei', 'Teams', ',', 'eines', 'davon', 'in', 'Pink', 'und']"
     ]
    },
    {
     "name": "stderr",
     "output_type": "stream",
     "text": [
      "INFO:__main__:Source: Two teams , one in pink and one in white , play lacrosse on a field . </S>\n",
      "INFO:__main__:Target Hypothesis: eine in Weiß , spielen auf einem Spielfeld .\n",
      "INFO:__main__:Target Reference: ['eines', 'in', 'Wei\\xc3\\x9f', ',', 'spielen', 'Lacrosse', 'auf', 'einem', 'Sportplatz', '.']\n",
      "INFO:__main__:IMT F1 score: 0.0\n"
     ]
    },
    {
     "name": "stdout",
     "output_type": "stream",
     "text": [
      "\n",
      "predicting target prefix: ['Zwei', 'Teams', ',', 'eines', 'davon', 'in', 'Pink', 'und', 'eines']"
     ]
    },
    {
     "name": "stderr",
     "output_type": "stream",
     "text": [
      "INFO:__main__:Source: Two teams , one in pink and one in white , play lacrosse on a field . </S>\n",
      "INFO:__main__:Target Hypothesis: der Weiß , spielen auf einem Acker auf einem Spielfeld .\n",
      "INFO:__main__:Target Reference: ['in', 'Wei\\xc3\\x9f', ',', 'spielen', 'Lacrosse', 'auf', 'einem', 'Sportplatz', '.']\n",
      "INFO:__main__:IMT F1 score: 0.0\n"
     ]
    },
    {
     "name": "stdout",
     "output_type": "stream",
     "text": [
      "\n",
      "predicting target prefix: ['Zwei', 'Teams', ',', 'eines', 'davon', 'in', 'Pink', 'und', 'eines', 'in']"
     ]
    },
    {
     "name": "stderr",
     "output_type": "stream",
     "text": [
      "INFO:__main__:Source: Two teams , one in pink and one in white , play lacrosse on a field . </S>\n",
      "INFO:__main__:Target Hypothesis: Weiß , spielen auf einem Spielfeld .\n",
      "INFO:__main__:Target Reference: ['Wei\\xc3\\x9f', ',', 'spielen', 'Lacrosse', 'auf', 'einem', 'Sportplatz', '.']\n",
      "INFO:__main__:IMT F1 score: 0.4\n"
     ]
    },
    {
     "name": "stdout",
     "output_type": "stream",
     "text": [
      "\n",
      "predicting target prefix: ['Zwei', 'Teams', ',', 'eines', 'davon', 'in', 'Pink', 'und', 'eines', 'in', 'Wei\\xc3\\x9f']"
     ]
    },
    {
     "name": "stderr",
     "output_type": "stream",
     "text": [
      "INFO:__main__:Source: Two teams , one in pink and one in white , play lacrosse on a field . </S>\n",
      "INFO:__main__:Target Hypothesis: , spielen auf einem Spielfeld .\n",
      "INFO:__main__:Target Reference: [',', 'spielen', 'Lacrosse', 'auf', 'einem', 'Sportplatz', '.']\n",
      "INFO:__main__:IMT F1 score: 0.307692307692\n"
     ]
    },
    {
     "name": "stdout",
     "output_type": "stream",
     "text": [
      "\n",
      "predicting target prefix: ['Zwei', 'Teams', ',', 'eines', 'davon', 'in', 'Pink', 'und', 'eines', 'in', 'Wei\\xc3\\x9f', ',']"
     ]
    },
    {
     "name": "stderr",
     "output_type": "stream",
     "text": [
      "INFO:__main__:Source: Two teams , one in pink and one in white , play lacrosse on a field . </S>\n",
      "INFO:__main__:Target Hypothesis: spielen auf einem Spielfeld .\n",
      "INFO:__main__:Target Reference: ['spielen', 'Lacrosse', 'auf', 'einem', 'Sportplatz', '.']\n",
      "INFO:__main__:IMT F1 score: 0.181818181818\n"
     ]
    },
    {
     "name": "stdout",
     "output_type": "stream",
     "text": [
      "\n",
      "predicting target prefix: ['Zwei', 'Teams', ',', 'eines', 'davon', 'in', 'Pink', 'und', 'eines', 'in', 'Wei\\xc3\\x9f', ',', 'spielen']"
     ]
    },
    {
     "name": "stderr",
     "output_type": "stream",
     "text": [
      "INFO:__main__:Source: Two teams , one in pink and one in white , play lacrosse on a field . </S>\n",
      "INFO:__main__:Target Hypothesis: auf einem Spielfeld .\n",
      "INFO:__main__:Target Reference: ['Lacrosse', 'auf', 'einem', 'Sportplatz', '.']\n",
      "INFO:__main__:IMT F1 score: 0.0\n"
     ]
    },
    {
     "name": "stdout",
     "output_type": "stream",
     "text": [
      "\n",
      "predicting target prefix: ['Zwei', 'Teams', ',', 'eines', 'davon', 'in', 'Pink', 'und', 'eines', 'in', 'Wei\\xc3\\x9f', ',', 'spielen', 'Lacrosse']"
     ]
    },
    {
     "name": "stderr",
     "output_type": "stream",
     "text": [
      "INFO:__main__:Source: Two teams , one in pink and one in white , play lacrosse on a field . </S>\n",
      "INFO:__main__:Target Hypothesis: auf einem Spielfeld .\n",
      "INFO:__main__:Target Reference: ['auf', 'einem', 'Sportplatz', '.']\n",
      "INFO:__main__:IMT F1 score: 0.5\n"
     ]
    },
    {
     "name": "stdout",
     "output_type": "stream",
     "text": [
      "\n",
      "predicting target prefix: ['Zwei', 'Teams', ',', 'eines', 'davon', 'in', 'Pink', 'und', 'eines', 'in', 'Wei\\xc3\\x9f', ',', 'spielen', 'Lacrosse', 'auf']"
     ]
    },
    {
     "name": "stderr",
     "output_type": "stream",
     "text": [
      "INFO:__main__:Source: Two teams , one in pink and one in white , play lacrosse on a field . </S>\n",
      "INFO:__main__:Target Hypothesis: einem Spielfeld .\n",
      "INFO:__main__:Target Reference: ['einem', 'Sportplatz', '.']\n",
      "INFO:__main__:IMT F1 score: 0.333333333333\n"
     ]
    },
    {
     "name": "stdout",
     "output_type": "stream",
     "text": [
      "\n",
      "predicting target prefix: ['Zwei', 'Teams', ',', 'eines', 'davon', 'in', 'Pink', 'und', 'eines', 'in', 'Wei\\xc3\\x9f', ',', 'spielen', 'Lacrosse', 'auf', 'einem']"
     ]
    },
    {
     "name": "stderr",
     "output_type": "stream",
     "text": [
      "INFO:__main__:Source: Two teams , one in pink and one in white , play lacrosse on a field . </S>\n",
      "INFO:__main__:Target Hypothesis: Spielfeld .\n",
      "INFO:__main__:Target Reference: ['Sportplatz', '.']\n",
      "INFO:__main__:IMT F1 score: 0.0\n"
     ]
    },
    {
     "name": "stdout",
     "output_type": "stream",
     "text": [
      "\n",
      "predicting target prefix: ['Zwei', 'Teams', ',', 'eines', 'davon', 'in', 'Pink', 'und', 'eines', 'in', 'Wei\\xc3\\x9f', ',', 'spielen', 'Lacrosse', 'auf', 'einem', 'Sportplatz']"
     ]
    },
    {
     "name": "stderr",
     "output_type": "stream",
     "text": [
      "INFO:__main__:Source: Two teams , one in pink and one in white , play lacrosse on a field . </S>\n",
      "INFO:__main__:Target Hypothesis: .\n",
      "INFO:__main__:Target Reference: ['.']\n",
      "INFO:__main__:IMT F1 score: 1.0\n"
     ]
    },
    {
     "name": "stdout",
     "output_type": "stream",
     "text": [
      "\n",
      "predicting target prefix: ['Zwei', 'Teams', ',', 'eines', 'davon', 'in', 'Pink', 'und', 'eines', 'in', 'Wei\\xc3\\x9f', ',', 'spielen', 'Lacrosse', 'auf', 'einem', 'Sportplatz', '.']"
     ]
    },
    {
     "name": "stderr",
     "output_type": "stream",
     "text": [
      "INFO:__main__:Source: Two teams , one in pink and one in white , play lacrosse on a field . </S>\n",
      "INFO:__main__:Target Hypothesis: </S> .\n",
      "INFO:__main__:Target Reference: []\n",
      "INFO:__main__:IMT F1 score: 0.0\n",
      "INFO:__main__:Translating segment: 18\n"
     ]
    },
    {
     "name": "stdout",
     "output_type": "stream",
     "text": [
      "\n",
      "predicting target prefix: ['Eine']"
     ]
    },
    {
     "name": "stderr",
     "output_type": "stream",
     "text": [
      "INFO:__main__:Source: A woman wearing a yellow helmet is using a <UNK> . </S>\n",
      "INFO:__main__:Target Hypothesis: Frau mit einem gelben Helm benutzt eine Atemschutzmaske .\n",
      "INFO:__main__:Target Reference: ['Frau', 'mit', 'gelbem', 'Helm', 'benutzt', 'eine', 'Seilrutsche', '.']\n",
      "INFO:__main__:IMT F1 score: 0.235294117647\n"
     ]
    },
    {
     "name": "stdout",
     "output_type": "stream",
     "text": [
      "\n",
      "predicting target prefix: ['Eine', 'Frau']"
     ]
    },
    {
     "name": "stderr",
     "output_type": "stream",
     "text": [
      "INFO:__main__:Source: A woman wearing a yellow helmet is using a <UNK> . </S>\n",
      "INFO:__main__:Target Hypothesis: mit einem gelben Helm benutzt eine Atemschutzmaske .\n",
      "INFO:__main__:Target Reference: ['mit', 'gelbem', 'Helm', 'benutzt', 'eine', 'Seilrutsche', '.']\n",
      "INFO:__main__:IMT F1 score: 0.133333333333\n"
     ]
    },
    {
     "name": "stdout",
     "output_type": "stream",
     "text": [
      "\n",
      "predicting target prefix: ['Eine', 'Frau', 'mit']"
     ]
    },
    {
     "name": "stderr",
     "output_type": "stream",
     "text": [
      "INFO:__main__:Source: A woman wearing a yellow helmet is using a <UNK> . </S>\n",
      "INFO:__main__:Target Hypothesis: einem gelben Helm benutzt eine Atemschutzmaske .\n",
      "INFO:__main__:Target Reference: ['gelbem', 'Helm', 'benutzt', 'eine', 'Seilrutsche', '.']\n",
      "INFO:__main__:IMT F1 score: 0.0\n"
     ]
    },
    {
     "name": "stdout",
     "output_type": "stream",
     "text": [
      "\n",
      "predicting target prefix: ['Eine', 'Frau', 'mit', 'gelbem']"
     ]
    },
    {
     "name": "stderr",
     "output_type": "stream",
     "text": [
      "INFO:__main__:Source: A woman wearing a yellow helmet is using a <UNK> . </S>\n",
      "INFO:__main__:Target Hypothesis: Helm benutzt eine Atemschutzmaske .\n",
      "INFO:__main__:Target Reference: ['Helm', 'benutzt', 'eine', 'Seilrutsche', '.']\n",
      "INFO:__main__:IMT F1 score: 0.6\n"
     ]
    },
    {
     "name": "stdout",
     "output_type": "stream",
     "text": [
      "\n",
      "predicting target prefix: ['Eine', 'Frau', 'mit', 'gelbem', 'Helm']"
     ]
    },
    {
     "name": "stderr",
     "output_type": "stream",
     "text": [
      "INFO:__main__:Source: A woman wearing a yellow helmet is using a <UNK> . </S>\n",
      "INFO:__main__:Target Hypothesis: benutzt eine Atemschutzmaske .\n",
      "INFO:__main__:Target Reference: ['benutzt', 'eine', 'Seilrutsche', '.']\n",
      "INFO:__main__:IMT F1 score: 0.5\n"
     ]
    },
    {
     "name": "stdout",
     "output_type": "stream",
     "text": [
      "\n",
      "predicting target prefix: ['Eine', 'Frau', 'mit', 'gelbem', 'Helm', 'benutzt']"
     ]
    },
    {
     "name": "stderr",
     "output_type": "stream",
     "text": [
      "INFO:__main__:Source: A woman wearing a yellow helmet is using a <UNK> . </S>\n",
      "INFO:__main__:Target Hypothesis: eine Atemschutzmaske .\n",
      "INFO:__main__:Target Reference: ['eine', 'Seilrutsche', '.']\n",
      "INFO:__main__:IMT F1 score: 0.333333333333\n",
      "INFO:__main__:Source: A woman wearing a yellow helmet is using a <UNK> . </S>\n",
      "INFO:__main__:Target Hypothesis: Atemschutzmaske .\n",
      "INFO:__main__:Target Reference: ['Seilrutsche', '.']\n",
      "INFO:__main__:IMT F1 score: 0.0\n"
     ]
    },
    {
     "name": "stdout",
     "output_type": "stream",
     "text": [
      "\n",
      "predicting target prefix: ['Eine', 'Frau', 'mit', 'gelbem', 'Helm', 'benutzt', 'eine']\n",
      "predicting target prefix: ['Eine', 'Frau', 'mit', 'gelbem', 'Helm', 'benutzt', 'eine', 'Seilrutsche']"
     ]
    },
    {
     "name": "stderr",
     "output_type": "stream",
     "text": [
      "INFO:__main__:Source: A woman wearing a yellow helmet is using a <UNK> . </S>\n",
      "INFO:__main__:Target Hypothesis: .\n",
      "INFO:__main__:Target Reference: ['.']\n",
      "INFO:__main__:IMT F1 score: 1.0\n"
     ]
    },
    {
     "name": "stdout",
     "output_type": "stream",
     "text": [
      "\n",
      "predicting target prefix: ['Eine', 'Frau', 'mit', 'gelbem', 'Helm', 'benutzt', 'eine', 'Seilrutsche', '.']"
     ]
    },
    {
     "name": "stderr",
     "output_type": "stream",
     "text": [
      "INFO:__main__:Source: A woman wearing a yellow helmet is using a <UNK> . </S>\n",
      "INFO:__main__:Target Hypothesis: </S> .\n",
      "INFO:__main__:Target Reference: []\n",
      "INFO:__main__:IMT F1 score: 0.0\n",
      "INFO:__main__:Translating segment: 19\n"
     ]
    },
    {
     "name": "stdout",
     "output_type": "stream",
     "text": [
      "\n",
      "predicting target prefix: ['Ein']"
     ]
    },
    {
     "name": "stderr",
     "output_type": "stream",
     "text": [
      "INFO:__main__:Source: A black dog swimming in the water with a tennis ball in his mouth </S>\n",
      "INFO:__main__:Target Hypothesis: schwarzer Hund Schwimmbeckens im Wasser mit einem Tennisball im Maul .\n",
      "INFO:__main__:Target Reference: ['schwarzer', 'Hund', 'schwimmt', 'mit', 'einem', 'Tennisball', 'im', 'Maul', 'im', 'Wasser']\n",
      "INFO:__main__:IMT F1 score: 0.190476190476\n"
     ]
    },
    {
     "name": "stdout",
     "output_type": "stream",
     "text": [
      "\n",
      "predicting target prefix: ['Ein', 'schwarzer']"
     ]
    },
    {
     "name": "stderr",
     "output_type": "stream",
     "text": [
      "INFO:__main__:Source: A black dog swimming in the water with a tennis ball in his mouth </S>\n",
      "INFO:__main__:Target Hypothesis: Hund Schwimmbeckens im Wasser mit einem Tennisball im Maul .\n",
      "INFO:__main__:Target Reference: ['Hund', 'schwimmt', 'mit', 'einem', 'Tennisball', 'im', 'Maul', 'im', 'Wasser']\n",
      "INFO:__main__:IMT F1 score: 0.105263157895\n"
     ]
    },
    {
     "name": "stdout",
     "output_type": "stream",
     "text": [
      "\n",
      "predicting target prefix: ['Ein', 'schwarzer', 'Hund']"
     ]
    },
    {
     "name": "stderr",
     "output_type": "stream",
     "text": [
      "INFO:__main__:Source: A black dog swimming in the water with a tennis ball in his mouth </S>\n",
      "INFO:__main__:Target Hypothesis: Schwimmbeckens im Wasser mit einem Tennisball im Maul .\n",
      "INFO:__main__:Target Reference: ['schwimmt', 'mit', 'einem', 'Tennisball', 'im', 'Maul', 'im', 'Wasser']\n",
      "INFO:__main__:IMT F1 score: 0.0\n"
     ]
    },
    {
     "name": "stdout",
     "output_type": "stream",
     "text": [
      "\n",
      "predicting target prefix: ['Ein', 'schwarzer', 'Hund', 'schwimmt']"
     ]
    },
    {
     "name": "stderr",
     "output_type": "stream",
     "text": [
      "INFO:__main__:Source: A black dog swimming in the water with a tennis ball in his mouth </S>\n",
      "INFO:__main__:Target Hypothesis: im Wasser mit einem Tennisball im Maul .\n",
      "INFO:__main__:Target Reference: ['mit', 'einem', 'Tennisball', 'im', 'Maul', 'im', 'Wasser']\n",
      "INFO:__main__:IMT F1 score: 0.0\n"
     ]
    },
    {
     "name": "stdout",
     "output_type": "stream",
     "text": [
      "\n",
      "predicting target prefix: ['Ein', 'schwarzer', 'Hund', 'schwimmt', 'mit']"
     ]
    },
    {
     "name": "stderr",
     "output_type": "stream",
     "text": [
      "INFO:__main__:Source: A black dog swimming in the water with a tennis ball in his mouth </S>\n",
      "INFO:__main__:Target Hypothesis: einem Tennisball im Maul im Wasser .\n",
      "INFO:__main__:Target Reference: ['einem', 'Tennisball', 'im', 'Maul', 'im', 'Wasser']\n",
      "INFO:__main__:IMT F1 score: 0.923076923077\n"
     ]
    },
    {
     "name": "stdout",
     "output_type": "stream",
     "text": [
      "\n",
      "predicting target prefix: ['Ein', 'schwarzer', 'Hund', 'schwimmt', 'mit', 'einem']"
     ]
    },
    {
     "name": "stderr",
     "output_type": "stream",
     "text": [
      "INFO:__main__:Source: A black dog swimming in the water with a tennis ball in his mouth </S>\n",
      "INFO:__main__:Target Hypothesis: Tennisball im Maul im Wasser .\n",
      "INFO:__main__:Target Reference: ['Tennisball', 'im', 'Maul', 'im', 'Wasser']\n",
      "INFO:__main__:IMT F1 score: 0.909090909091\n"
     ]
    },
    {
     "name": "stdout",
     "output_type": "stream",
     "text": [
      "\n",
      "predicting target prefix: ['Ein', 'schwarzer', 'Hund', 'schwimmt', 'mit', 'einem', 'Tennisball']"
     ]
    },
    {
     "name": "stderr",
     "output_type": "stream",
     "text": [
      "INFO:__main__:Source: A black dog swimming in the water with a tennis ball in his mouth </S>\n",
      "INFO:__main__:Target Hypothesis: im Maul im Wasser .\n",
      "INFO:__main__:Target Reference: ['im', 'Maul', 'im', 'Wasser']\n",
      "INFO:__main__:IMT F1 score: 0.888888888889\n"
     ]
    },
    {
     "name": "stdout",
     "output_type": "stream",
     "text": [
      "\n",
      "predicting target prefix: ['Ein', 'schwarzer', 'Hund', 'schwimmt', 'mit', 'einem', 'Tennisball', 'im']"
     ]
    },
    {
     "name": "stderr",
     "output_type": "stream",
     "text": [
      "INFO:__main__:Source: A black dog swimming in the water with a tennis ball in his mouth </S>\n",
      "INFO:__main__:Target Hypothesis: Maul im Wasser .\n",
      "INFO:__main__:Target Reference: ['Maul', 'im', 'Wasser']\n",
      "INFO:__main__:IMT F1 score: 0.857142857143\n"
     ]
    },
    {
     "name": "stdout",
     "output_type": "stream",
     "text": [
      "\n",
      "predicting target prefix: ['Ein', 'schwarzer', 'Hund', 'schwimmt', 'mit', 'einem', 'Tennisball', 'im', 'Maul']"
     ]
    },
    {
     "name": "stderr",
     "output_type": "stream",
     "text": [
      "INFO:__main__:Source: A black dog swimming in the water with a tennis ball in his mouth </S>\n",
      "INFO:__main__:Target Hypothesis: im Wasser .\n",
      "INFO:__main__:Target Reference: ['im', 'Wasser']\n",
      "INFO:__main__:IMT F1 score: 0.8\n"
     ]
    },
    {
     "name": "stdout",
     "output_type": "stream",
     "text": [
      "\n",
      "predicting target prefix: ['Ein', 'schwarzer', 'Hund', 'schwimmt', 'mit', 'einem', 'Tennisball', 'im', 'Maul', 'im']"
     ]
    },
    {
     "name": "stderr",
     "output_type": "stream",
     "text": [
      "INFO:__main__:Source: A black dog swimming in the water with a tennis ball in his mouth </S>\n",
      "INFO:__main__:Target Hypothesis: Wasser .\n",
      "INFO:__main__:Target Reference: ['Wasser']\n",
      "INFO:__main__:IMT F1 score: 0.666666666667\n"
     ]
    },
    {
     "name": "stdout",
     "output_type": "stream",
     "text": [
      "\n",
      "predicting target prefix: ['Ein', 'schwarzer', 'Hund', 'schwimmt', 'mit', 'einem', 'Tennisball', 'im', 'Maul', 'im', 'Wasser']"
     ]
    },
    {
     "name": "stderr",
     "output_type": "stream",
     "text": [
      "INFO:__main__:Source: A black dog swimming in the water with a tennis ball in his mouth </S>\n",
      "INFO:__main__:Target Hypothesis: .\n",
      "INFO:__main__:Target Reference: []\n",
      "INFO:__main__:IMT F1 score: 0.0\n",
      "INFO:__main__:Translating segment: 20\n"
     ]
    },
    {
     "name": "stdout",
     "output_type": "stream",
     "text": [
      "\n",
      "predicting target prefix: ['Drei']"
     ]
    },
    {
     "name": "stderr",
     "output_type": "stream",
     "text": [
      "INFO:__main__:Source: Three men ride in a dark blue car . </S>\n",
      "INFO:__main__:Target Hypothesis: Männer auf einem dunklen Auto .\n",
      "INFO:__main__:Target Reference: ['M\\xc3\\xa4nner', 'fahren', 'in', 'einem', 'dunkelblauen', 'Auto', '.']\n",
      "INFO:__main__:IMT F1 score: 0.153846153846\n"
     ]
    },
    {
     "name": "stdout",
     "output_type": "stream",
     "text": [
      "\n",
      "predicting target prefix: ['Drei', 'M\\xc3\\xa4nner']"
     ]
    },
    {
     "name": "stderr",
     "output_type": "stream",
     "text": [
      "INFO:__main__:Source: Three men ride in a dark blue car . </S>\n",
      "INFO:__main__:Target Hypothesis: auf einem dunklen Auto .\n",
      "INFO:__main__:Target Reference: ['fahren', 'in', 'einem', 'dunkelblauen', 'Auto', '.']\n",
      "INFO:__main__:IMT F1 score: 0.0\n"
     ]
    },
    {
     "name": "stdout",
     "output_type": "stream",
     "text": [
      "\n",
      "predicting target prefix: ['Drei', 'M\\xc3\\xa4nner', 'fahren']"
     ]
    },
    {
     "name": "stderr",
     "output_type": "stream",
     "text": [
      "INFO:__main__:Source: Three men ride in a dark blue car . </S>\n",
      "INFO:__main__:Target Hypothesis: in einem dunklen Auto .\n",
      "INFO:__main__:Target Reference: ['in', 'einem', 'dunkelblauen', 'Auto', '.']\n",
      "INFO:__main__:IMT F1 score: 0.4\n",
      "INFO:__main__:Source: Three men ride in a dark blue car . </S>\n",
      "INFO:__main__:Target Hypothesis: einem dunklen Auto .\n",
      "INFO:__main__:Target Reference: ['einem', 'dunkelblauen', 'Auto', '.']\n",
      "INFO:__main__:IMT F1 score: 0.25\n"
     ]
    },
    {
     "name": "stdout",
     "output_type": "stream",
     "text": [
      "\n",
      "predicting target prefix: ['Drei', 'M\\xc3\\xa4nner', 'fahren', 'in']\n",
      "predicting target prefix: ['Drei', 'M\\xc3\\xa4nner', 'fahren', 'in', 'einem']"
     ]
    },
    {
     "name": "stderr",
     "output_type": "stream",
     "text": [
      "INFO:__main__:Source: Three men ride in a dark blue car . </S>\n",
      "INFO:__main__:Target Hypothesis: dunklen Auto .\n",
      "INFO:__main__:Target Reference: ['dunkelblauen', 'Auto', '.']\n",
      "INFO:__main__:IMT F1 score: 0.0\n",
      "INFO:__main__:Source: Three men ride in a dark blue car . </S>\n",
      "INFO:__main__:Target Hypothesis: Auto .\n",
      "INFO:__main__:Target Reference: ['Auto', '.']\n",
      "INFO:__main__:IMT F1 score: 1.0\n"
     ]
    },
    {
     "name": "stdout",
     "output_type": "stream",
     "text": [
      "\n",
      "predicting target prefix: ['Drei', 'M\\xc3\\xa4nner', 'fahren', 'in', 'einem', 'dunkelblauen']\n",
      "predicting target prefix: ['Drei', 'M\\xc3\\xa4nner', 'fahren', 'in', 'einem', 'dunkelblauen', 'Auto']"
     ]
    },
    {
     "name": "stderr",
     "output_type": "stream",
     "text": [
      "INFO:__main__:Source: Three men ride in a dark blue car . </S>\n",
      "INFO:__main__:Target Hypothesis: .\n",
      "INFO:__main__:Target Reference: ['.']\n",
      "INFO:__main__:IMT F1 score: 1.0\n"
     ]
    },
    {
     "name": "stdout",
     "output_type": "stream",
     "text": [
      "\n",
      "predicting target prefix: ['Drei', 'M\\xc3\\xa4nner', 'fahren', 'in', 'einem', 'dunkelblauen', 'Auto', '.']"
     ]
    },
    {
     "name": "stderr",
     "output_type": "stream",
     "text": [
      "INFO:__main__:Source: Three men ride in a dark blue car . </S>\n",
      "INFO:__main__:Target Hypothesis: </S> .\n",
      "INFO:__main__:Target Reference: []\n",
      "INFO:__main__:IMT F1 score: 0.0\n",
      "INFO:__main__:Translating segment: 21\n"
     ]
    },
    {
     "name": "stdout",
     "output_type": "stream",
     "text": [
      "\n",
      "predicting target prefix: ['Mit']"
     ]
    },
    {
     "name": "stderr",
     "output_type": "stream",
     "text": [
      "INFO:__main__:Source: With a tub resting on its outer roof , flags attached , the car is ready to take off for the rally . </S>\n",
      "INFO:__main__:Target Hypothesis: dem ausgestreckten Beinen , die Fahnen für die Kette von parallelen Stangen herausragen .\n",
      "INFO:__main__:Target Reference: ['einer', 'Badewanne', 'auf', 'dem', 'Dach', 'und', 'befestigten', 'Fahnen', 'ist', 'das', 'Auto', 'bereit', 'f\\xc3\\xbcr', 'den', 'Start', 'der', 'Rallye', '.']\n",
      "INFO:__main__:IMT F1 score: 0.0\n"
     ]
    },
    {
     "name": "stdout",
     "output_type": "stream",
     "text": [
      "\n",
      "predicting target prefix: ['Mit', 'einer']"
     ]
    },
    {
     "name": "stderr",
     "output_type": "stream",
     "text": [
      "INFO:__main__:Source: With a tub resting on its outer roof , flags attached , the car is ready to take off for the rally . </S>\n",
      "INFO:__main__:Target Hypothesis: Wanne befindet sich auf sein Dach , die Fahnen für die Kette von parallelen Stangen herausragen .\n",
      "INFO:__main__:Target Reference: ['Badewanne', 'auf', 'dem', 'Dach', 'und', 'befestigten', 'Fahnen', 'ist', 'das', 'Auto', 'bereit', 'f\\xc3\\xbcr', 'den', 'Start', 'der', 'Rallye', '.']\n",
      "INFO:__main__:IMT F1 score: 0.0\n"
     ]
    },
    {
     "name": "stdout",
     "output_type": "stream",
     "text": [
      "\n",
      "predicting target prefix: ['Mit', 'einer', 'Badewanne']"
     ]
    },
    {
     "name": "stderr",
     "output_type": "stream",
     "text": [
      "INFO:__main__:Source: With a tub resting on its outer roof , flags attached , the car is ready to take off for the rally . </S>\n",
      "INFO:__main__:Target Hypothesis: , die nach unten gebogen , die Fahnen für die Kette ist .\n",
      "INFO:__main__:Target Reference: ['auf', 'dem', 'Dach', 'und', 'befestigten', 'Fahnen', 'ist', 'das', 'Auto', 'bereit', 'f\\xc3\\xbcr', 'den', 'Start', 'der', 'Rallye', '.']\n",
      "INFO:__main__:IMT F1 score: 0.0\n"
     ]
    },
    {
     "name": "stdout",
     "output_type": "stream",
     "text": [
      "\n",
      "predicting target prefix: ['Mit', 'einer', 'Badewanne', 'auf']"
     ]
    },
    {
     "name": "stderr",
     "output_type": "stream",
     "text": [
      "INFO:__main__:Source: With a tub resting on its outer roof , flags attached , the car is ready to take off for the rally . </S>\n",
      "INFO:__main__:Target Hypothesis: sein Dach , die Fahnen für die Kette von parallelen Stangen herausragen .\n",
      "INFO:__main__:Target Reference: ['dem', 'Dach', 'und', 'befestigten', 'Fahnen', 'ist', 'das', 'Auto', 'bereit', 'f\\xc3\\xbcr', 'den', 'Start', 'der', 'Rallye', '.']\n",
      "INFO:__main__:IMT F1 score: 0.0\n"
     ]
    },
    {
     "name": "stdout",
     "output_type": "stream",
     "text": [
      "\n",
      "predicting target prefix: ['Mit', 'einer', 'Badewanne', 'auf', 'dem']"
     ]
    },
    {
     "name": "stderr",
     "output_type": "stream",
     "text": [
      "INFO:__main__:Source: With a tub resting on its outer roof , flags attached , the car is ready to take off for the rally . </S>\n",
      "INFO:__main__:Target Hypothesis: Schaufenster , die Fahnen von parallelen Stangen herausragen .\n",
      "INFO:__main__:Target Reference: ['Dach', 'und', 'befestigten', 'Fahnen', 'ist', 'das', 'Auto', 'bereit', 'f\\xc3\\xbcr', 'den', 'Start', 'der', 'Rallye', '.']\n",
      "INFO:__main__:IMT F1 score: 0.0\n"
     ]
    },
    {
     "name": "stdout",
     "output_type": "stream",
     "text": [
      "\n",
      "predicting target prefix: ['Mit', 'einer', 'Badewanne', 'auf', 'dem', 'Dach']"
     ]
    },
    {
     "name": "stderr",
     "output_type": "stream",
     "text": [
      "INFO:__main__:Source: With a tub resting on its outer roof , flags attached , the car is ready to take off for the rally . </S>\n",
      "INFO:__main__:Target Hypothesis: , die Fahnen für die Kette von parallelen Stangen herausragen .\n",
      "INFO:__main__:Target Reference: ['und', 'befestigten', 'Fahnen', 'ist', 'das', 'Auto', 'bereit', 'f\\xc3\\xbcr', 'den', 'Start', 'der', 'Rallye', '.']\n",
      "INFO:__main__:IMT F1 score: 0.0\n"
     ]
    },
    {
     "name": "stdout",
     "output_type": "stream",
     "text": [
      "\n",
      "predicting target prefix: ['Mit', 'einer', 'Badewanne', 'auf', 'dem', 'Dach', 'und']"
     ]
    },
    {
     "name": "stderr",
     "output_type": "stream",
     "text": [
      "INFO:__main__:Source: With a tub resting on its outer roof , flags attached , the car is ready to take off for the rally . </S>\n",
      "INFO:__main__:Target Hypothesis: Fahnen wird von Freunden bereit .\n",
      "INFO:__main__:Target Reference: ['befestigten', 'Fahnen', 'ist', 'das', 'Auto', 'bereit', 'f\\xc3\\xbcr', 'den', 'Start', 'der', 'Rallye', '.']\n",
      "INFO:__main__:IMT F1 score: 0.0\n"
     ]
    },
    {
     "name": "stdout",
     "output_type": "stream",
     "text": [
      "\n",
      "predicting target prefix: ['Mit', 'einer', 'Badewanne', 'auf', 'dem', 'Dach', 'und', 'befestigten']"
     ]
    },
    {
     "name": "stderr",
     "output_type": "stream",
     "text": [
      "INFO:__main__:Source: With a tub resting on its outer roof , flags attached , the car is ready to take off for the rally . </S>\n",
      "INFO:__main__:Target Hypothesis: „ safe “ , die Fahnen von parallelen Stangen herausragen .\n",
      "INFO:__main__:Target Reference: ['Fahnen', 'ist', 'das', 'Auto', 'bereit', 'f\\xc3\\xbcr', 'den', 'Start', 'der', 'Rallye', '.']\n",
      "INFO:__main__:IMT F1 score: 0.0\n"
     ]
    },
    {
     "name": "stdout",
     "output_type": "stream",
     "text": [
      "\n",
      "predicting target prefix: ['Mit', 'einer', 'Badewanne', 'auf', 'dem', 'Dach', 'und', 'befestigten', 'Fahnen']"
     ]
    },
    {
     "name": "stderr",
     "output_type": "stream",
     "text": [
      "INFO:__main__:Source: With a tub resting on its outer roof , flags attached , the car is ready to take off for the rally . </S>\n",
      "INFO:__main__:Target Hypothesis: wird von Freunden bereit .\n",
      "INFO:__main__:Target Reference: ['ist', 'das', 'Auto', 'bereit', 'f\\xc3\\xbcr', 'den', 'Start', 'der', 'Rallye', '.']\n",
      "INFO:__main__:IMT F1 score: 0.0\n"
     ]
    },
    {
     "name": "stdout",
     "output_type": "stream",
     "text": [
      "\n",
      "predicting target prefix: ['Mit', 'einer', 'Badewanne', 'auf', 'dem', 'Dach', 'und', 'befestigten', 'Fahnen', 'ist']"
     ]
    },
    {
     "name": "stderr",
     "output_type": "stream",
     "text": [
      "INFO:__main__:Source: With a tub resting on its outer roof , flags attached , the car is ready to take off for the rally . </S>\n",
      "INFO:__main__:Target Hypothesis: das Auto nach unten gebogen , um das Auto zum Auto namens „ safe “ .\n",
      "INFO:__main__:Target Reference: ['das', 'Auto', 'bereit', 'f\\xc3\\xbcr', 'den', 'Start', 'der', 'Rallye', '.']\n",
      "INFO:__main__:IMT F1 score: 0.16\n"
     ]
    },
    {
     "name": "stdout",
     "output_type": "stream",
     "text": [
      "\n",
      "predicting target prefix: ['Mit', 'einer', 'Badewanne', 'auf', 'dem', 'Dach', 'und', 'befestigten', 'Fahnen', 'ist', 'das']"
     ]
    },
    {
     "name": "stderr",
     "output_type": "stream",
     "text": [
      "INFO:__main__:Source: With a tub resting on its outer roof , flags attached , the car is ready to take off for the rally . </S>\n",
      "INFO:__main__:Target Hypothesis: Auto nach unten gebogen , um das Auto zu riss .\n",
      "INFO:__main__:Target Reference: ['Auto', 'bereit', 'f\\xc3\\xbcr', 'den', 'Start', 'der', 'Rallye', '.']\n",
      "INFO:__main__:IMT F1 score: 0.105263157895\n"
     ]
    },
    {
     "name": "stdout",
     "output_type": "stream",
     "text": [
      "\n",
      "predicting target prefix: ['Mit', 'einer', 'Badewanne', 'auf', 'dem', 'Dach', 'und', 'befestigten', 'Fahnen', 'ist', 'das', 'Auto']"
     ]
    },
    {
     "name": "stderr",
     "output_type": "stream",
     "text": [
      "INFO:__main__:Source: With a tub resting on its outer roof , flags attached , the car is ready to take off for the rally . </S>\n",
      "INFO:__main__:Target Hypothesis: nach unten gebogen , um das Auto zum Auto namens „ safe “ .\n",
      "INFO:__main__:Target Reference: ['bereit', 'f\\xc3\\xbcr', 'den', 'Start', 'der', 'Rallye', '.']\n",
      "INFO:__main__:IMT F1 score: 0.0\n"
     ]
    },
    {
     "name": "stdout",
     "output_type": "stream",
     "text": [
      "\n",
      "predicting target prefix: ['Mit', 'einer', 'Badewanne', 'auf', 'dem', 'Dach', 'und', 'befestigten', 'Fahnen', 'ist', 'das', 'Auto', 'bereit']"
     ]
    },
    {
     "name": "stderr",
     "output_type": "stream",
     "text": [
      "INFO:__main__:Source: With a tub resting on its outer roof , flags attached , the car is ready to take off for the rally . </S>\n",
      "INFO:__main__:Target Hypothesis: .\n",
      "INFO:__main__:Target Reference: ['f\\xc3\\xbcr', 'den', 'Start', 'der', 'Rallye', '.']\n",
      "INFO:__main__:IMT F1 score: 0.0\n"
     ]
    },
    {
     "name": "stdout",
     "output_type": "stream",
     "text": [
      "\n",
      "predicting target prefix: ['Mit', 'einer', 'Badewanne', 'auf', 'dem', 'Dach', 'und', 'befestigten', 'Fahnen', 'ist', 'das', 'Auto', 'bereit', 'f\\xc3\\xbcr']"
     ]
    },
    {
     "name": "stderr",
     "output_type": "stream",
     "text": [
      "INFO:__main__:Source: With a tub resting on its outer roof , flags attached , the car is ready to take off for the rally . </S>\n",
      "INFO:__main__:Target Hypothesis: die Ladeneinrichtung .\n",
      "INFO:__main__:Target Reference: ['den', 'Start', 'der', 'Rallye', '.']\n",
      "INFO:__main__:IMT F1 score: 0.0\n"
     ]
    },
    {
     "name": "stdout",
     "output_type": "stream",
     "text": [
      "\n",
      "predicting target prefix: ['Mit', 'einer', 'Badewanne', 'auf', 'dem', 'Dach', 'und', 'befestigten', 'Fahnen', 'ist', 'das', 'Auto', 'bereit', 'f\\xc3\\xbcr', 'den']"
     ]
    },
    {
     "name": "stderr",
     "output_type": "stream",
     "text": [
      "INFO:__main__:Source: With a tub resting on its outer roof , flags attached , the car is ready to take off for the rally . </S>\n",
      "INFO:__main__:Target Hypothesis: Auto zum Auto .\n",
      "INFO:__main__:Target Reference: ['Start', 'der', 'Rallye', '.']\n",
      "INFO:__main__:IMT F1 score: 0.0\n"
     ]
    },
    {
     "name": "stdout",
     "output_type": "stream",
     "text": [
      "\n",
      "predicting target prefix: ['Mit', 'einer', 'Badewanne', 'auf', 'dem', 'Dach', 'und', 'befestigten', 'Fahnen', 'ist', 'das', 'Auto', 'bereit', 'f\\xc3\\xbcr', 'den', 'Start']"
     ]
    },
    {
     "name": "stderr",
     "output_type": "stream",
     "text": [
      "INFO:__main__:Source: With a tub resting on its outer roof , flags attached , the car is ready to take off for the rally . </S>\n",
      "INFO:__main__:Target Hypothesis: eines Straßenhändlers .\n",
      "INFO:__main__:Target Reference: ['der', 'Rallye', '.']\n",
      "INFO:__main__:IMT F1 score: 0.0\n"
     ]
    },
    {
     "name": "stdout",
     "output_type": "stream",
     "text": [
      "\n",
      "predicting target prefix: ['Mit', 'einer', 'Badewanne', 'auf', 'dem', 'Dach', 'und', 'befestigten', 'Fahnen', 'ist', 'das', 'Auto', 'bereit', 'f\\xc3\\xbcr', 'den', 'Start', 'der']"
     ]
    },
    {
     "name": "stderr",
     "output_type": "stream",
     "text": [
      "INFO:__main__:Source: With a tub resting on its outer roof , flags attached , the car is ready to take off for the rally . </S>\n",
      "INFO:__main__:Target Hypothesis: Beleuchtung auf .\n",
      "INFO:__main__:Target Reference: ['Rallye', '.']\n",
      "INFO:__main__:IMT F1 score: 0.0\n"
     ]
    },
    {
     "name": "stdout",
     "output_type": "stream",
     "text": [
      "\n",
      "predicting target prefix: ['Mit', 'einer', 'Badewanne', 'auf', 'dem', 'Dach', 'und', 'befestigten', 'Fahnen', 'ist', 'das', 'Auto', 'bereit', 'f\\xc3\\xbcr', 'den', 'Start', 'der', 'Rallye']"
     ]
    },
    {
     "name": "stderr",
     "output_type": "stream",
     "text": [
      "INFO:__main__:Source: With a tub resting on its outer roof , flags attached , the car is ready to take off for the rally . </S>\n",
      "INFO:__main__:Target Hypothesis: auf .\n",
      "INFO:__main__:Target Reference: ['.']\n",
      "INFO:__main__:IMT F1 score: 0.0\n"
     ]
    },
    {
     "name": "stdout",
     "output_type": "stream",
     "text": [
      "\n",
      "predicting target prefix: ['Mit', 'einer', 'Badewanne', 'auf', 'dem', 'Dach', 'und', 'befestigten', 'Fahnen', 'ist', 'das', 'Auto', 'bereit', 'f\\xc3\\xbcr', 'den', 'Start', 'der', 'Rallye', '.']"
     ]
    },
    {
     "name": "stderr",
     "output_type": "stream",
     "text": [
      "INFO:__main__:Source: With a tub resting on its outer roof , flags attached , the car is ready to take off for the rally . </S>\n",
      "INFO:__main__:Target Hypothesis: </S> .\n",
      "INFO:__main__:Target Reference: []\n",
      "INFO:__main__:IMT F1 score: 0.0\n",
      "INFO:__main__:Translating segment: 22\n"
     ]
    },
    {
     "name": "stdout",
     "output_type": "stream",
     "text": [
      "\n",
      "predicting target prefix: ['Ein']"
     ]
    },
    {
     "name": "stderr",
     "output_type": "stream",
     "text": [
      "INFO:__main__:Source: A man in a blue shirt blowing a trumpet . </S>\n",
      "INFO:__main__:Target Hypothesis: Mann in einem blauen Hemd macht eine Trompete .\n",
      "INFO:__main__:Target Reference: ['Mann', 'in', 'einem', 'blauen', 'Hemd', 'bl\\xc3\\xa4st', 'auf', 'einer', 'Trompete', '.']\n",
      "INFO:__main__:IMT F1 score: 0.526315789474\n"
     ]
    },
    {
     "name": "stdout",
     "output_type": "stream",
     "text": [
      "\n",
      "predicting target prefix: ['Ein', 'Mann']"
     ]
    },
    {
     "name": "stderr",
     "output_type": "stream",
     "text": [
      "INFO:__main__:Source: A man in a blue shirt blowing a trumpet . </S>\n",
      "INFO:__main__:Target Hypothesis: in einem blauen Hemd macht eine Trompete .\n",
      "INFO:__main__:Target Reference: ['in', 'einem', 'blauen', 'Hemd', 'bl\\xc3\\xa4st', 'auf', 'einer', 'Trompete', '.']\n",
      "INFO:__main__:IMT F1 score: 0.470588235294\n"
     ]
    },
    {
     "name": "stdout",
     "output_type": "stream",
     "text": [
      "\n",
      "predicting target prefix: ['Ein', 'Mann', 'in']"
     ]
    },
    {
     "name": "stderr",
     "output_type": "stream",
     "text": [
      "INFO:__main__:Source: A man in a blue shirt blowing a trumpet . </S>\n",
      "INFO:__main__:Target Hypothesis: einem blauen Hemd macht eine Trompete .\n",
      "INFO:__main__:Target Reference: ['einem', 'blauen', 'Hemd', 'bl\\xc3\\xa4st', 'auf', 'einer', 'Trompete', '.']\n",
      "INFO:__main__:IMT F1 score: 0.4\n"
     ]
    },
    {
     "name": "stdout",
     "output_type": "stream",
     "text": [
      "\n",
      "predicting target prefix: ['Ein', 'Mann', 'in', 'einem']"
     ]
    },
    {
     "name": "stderr",
     "output_type": "stream",
     "text": [
      "INFO:__main__:Source: A man in a blue shirt blowing a trumpet . </S>\n",
      "INFO:__main__:Target Hypothesis: blauen Hemd macht eine Trompete .\n",
      "INFO:__main__:Target Reference: ['blauen', 'Hemd', 'bl\\xc3\\xa4st', 'auf', 'einer', 'Trompete', '.']\n",
      "INFO:__main__:IMT F1 score: 0.307692307692\n"
     ]
    },
    {
     "name": "stdout",
     "output_type": "stream",
     "text": [
      "\n",
      "predicting target prefix: ['Ein', 'Mann', 'in', 'einem', 'blauen']"
     ]
    },
    {
     "name": "stderr",
     "output_type": "stream",
     "text": [
      "INFO:__main__:Source: A man in a blue shirt blowing a trumpet . </S>\n",
      "INFO:__main__:Target Hypothesis: Hemd macht eine Trompete .\n",
      "INFO:__main__:Target Reference: ['Hemd', 'bl\\xc3\\xa4st', 'auf', 'einer', 'Trompete', '.']\n",
      "INFO:__main__:IMT F1 score: 0.181818181818\n"
     ]
    },
    {
     "name": "stdout",
     "output_type": "stream",
     "text": [
      "\n",
      "predicting target prefix: ['Ein', 'Mann', 'in', 'einem', 'blauen', 'Hemd']"
     ]
    },
    {
     "name": "stderr",
     "output_type": "stream",
     "text": [
      "INFO:__main__:Source: A man in a blue shirt blowing a trumpet . </S>\n",
      "INFO:__main__:Target Hypothesis: macht eine Trompete .\n",
      "INFO:__main__:Target Reference: ['bl\\xc3\\xa4st', 'auf', 'einer', 'Trompete', '.']\n",
      "INFO:__main__:IMT F1 score: 0.0\n"
     ]
    },
    {
     "name": "stdout",
     "output_type": "stream",
     "text": [
      "\n",
      "predicting target prefix: ['Ein', 'Mann', 'in', 'einem', 'blauen', 'Hemd', 'bl\\xc3\\xa4st']"
     ]
    },
    {
     "name": "stderr",
     "output_type": "stream",
     "text": [
      "INFO:__main__:Source: A man in a blue shirt blowing a trumpet . </S>\n",
      "INFO:__main__:Target Hypothesis: eine Trompete .\n",
      "INFO:__main__:Target Reference: ['auf', 'einer', 'Trompete', '.']\n",
      "INFO:__main__:IMT F1 score: 0.0\n",
      "INFO:__main__:Source: A man in a blue shirt blowing a trumpet . </S>\n",
      "INFO:__main__:Target Hypothesis: einer Trompete .\n",
      "INFO:__main__:Target Reference: ['einer', 'Trompete', '.']\n",
      "INFO:__main__:IMT F1 score: 1.0\n"
     ]
    },
    {
     "name": "stdout",
     "output_type": "stream",
     "text": [
      "\n",
      "predicting target prefix: ['Ein', 'Mann', 'in', 'einem', 'blauen', 'Hemd', 'bl\\xc3\\xa4st', 'auf']\n",
      "predicting target prefix: ['Ein', 'Mann', 'in', 'einem', 'blauen', 'Hemd', 'bl\\xc3\\xa4st', 'auf', 'einer']"
     ]
    },
    {
     "name": "stderr",
     "output_type": "stream",
     "text": [
      "INFO:__main__:Source: A man in a blue shirt blowing a trumpet . </S>\n",
      "INFO:__main__:Target Hypothesis: Trompete .\n",
      "INFO:__main__:Target Reference: ['Trompete', '.']\n",
      "INFO:__main__:IMT F1 score: 1.0\n"
     ]
    },
    {
     "name": "stdout",
     "output_type": "stream",
     "text": [
      "\n",
      "predicting target prefix: ['Ein', 'Mann', 'in', 'einem', 'blauen', 'Hemd', 'bl\\xc3\\xa4st', 'auf', 'einer', 'Trompete']"
     ]
    },
    {
     "name": "stderr",
     "output_type": "stream",
     "text": [
      "INFO:__main__:Source: A man in a blue shirt blowing a trumpet . </S>\n",
      "INFO:__main__:Target Hypothesis: .\n",
      "INFO:__main__:Target Reference: ['.']\n",
      "INFO:__main__:IMT F1 score: 1.0\n"
     ]
    },
    {
     "name": "stdout",
     "output_type": "stream",
     "text": [
      "\n",
      "predicting target prefix: ['Ein', 'Mann', 'in', 'einem', 'blauen', 'Hemd', 'bl\\xc3\\xa4st', 'auf', 'einer', 'Trompete', '.']"
     ]
    },
    {
     "name": "stderr",
     "output_type": "stream",
     "text": [
      "INFO:__main__:Source: A man in a blue shirt blowing a trumpet . </S>\n",
      "INFO:__main__:Target Hypothesis: </S> .\n",
      "INFO:__main__:Target Reference: []\n",
      "INFO:__main__:IMT F1 score: 0.0\n",
      "INFO:__main__:Translating segment: 23\n"
     ]
    },
    {
     "name": "stdout",
     "output_type": "stream",
     "text": [
      "\n",
      "predicting target prefix: ['Ein']"
     ]
    },
    {
     "name": "stderr",
     "output_type": "stream",
     "text": [
      "INFO:__main__:Source: A male metal worker using a welding tool in his right hand , while holding the mask in his left hand , in a <UNK> or lower class neighborhood . </S>\n",
      "INFO:__main__:Target Hypothesis: männliche Arbeitskraft in geduckter Haltung , die die Wände hält , hält eine Atemschutzmaske , die eine Textnachricht auf einem Spieß anbietet .\n",
      "INFO:__main__:Target Reference: ['Metallarbeiter', 'in', 'einer', 'Gegend', 'der', 'mittleren', 'Unterschicht', 'oder', 'Unterschicht', 'bedient', 'mit', 'der', 'rechten', 'Hand', 'ein', 'Schwei\\xc3\\x9fwerkzeug', ',', 'w\\xc3\\xa4hrend', 'er', 'in', 'der', 'linken', 'Hand', 'die', 'Maske', 'h\\xc3\\xa4lt', '.']\n",
      "INFO:__main__:IMT F1 score: 0.0\n"
     ]
    },
    {
     "name": "stdout",
     "output_type": "stream",
     "text": [
      "\n",
      "predicting target prefix: ['Ein', 'Metallarbeiter']"
     ]
    },
    {
     "name": "stderr",
     "output_type": "stream",
     "text": [
      "INFO:__main__:Source: A male metal worker using a welding tool in his right hand , while holding the mask in his left hand , in a <UNK> or lower class neighborhood . </S>\n",
      "INFO:__main__:Target Hypothesis: in der rechten Hand , der eine Atemschutzmaske hält , hält eine Atemschutzmaske .\n",
      "INFO:__main__:Target Reference: ['in', 'einer', 'Gegend', 'der', 'mittleren', 'Unterschicht', 'oder', 'Unterschicht', 'bedient', 'mit', 'der', 'rechten', 'Hand', 'ein', 'Schwei\\xc3\\x9fwerkzeug', ',', 'w\\xc3\\xa4hrend', 'er', 'in', 'der', 'linken', 'Hand', 'die', 'Maske', 'h\\xc3\\xa4lt', '.']\n",
      "INFO:__main__:IMT F1 score: 0.05\n"
     ]
    },
    {
     "name": "stdout",
     "output_type": "stream",
     "text": [
      "\n",
      "predicting target prefix: ['Ein', 'Metallarbeiter', 'in']"
     ]
    },
    {
     "name": "stderr",
     "output_type": "stream",
     "text": [
      "INFO:__main__:Source: A male metal worker using a welding tool in his right hand , while holding the mask in his left hand , in a <UNK> or lower class neighborhood . </S>\n",
      "INFO:__main__:Target Hypothesis: der rechten Hand , der eine Atemschutzmaske hält , hält eine Atemschutzmaske .\n",
      "INFO:__main__:Target Reference: ['einer', 'Gegend', 'der', 'mittleren', 'Unterschicht', 'oder', 'Unterschicht', 'bedient', 'mit', 'der', 'rechten', 'Hand', 'ein', 'Schwei\\xc3\\x9fwerkzeug', ',', 'w\\xc3\\xa4hrend', 'er', 'in', 'der', 'linken', 'Hand', 'die', 'Maske', 'h\\xc3\\xa4lt', '.']\n",
      "INFO:__main__:IMT F1 score: 0.0\n"
     ]
    },
    {
     "name": "stdout",
     "output_type": "stream",
     "text": [
      "\n",
      "predicting target prefix: ['Ein', 'Metallarbeiter', 'in', 'einer']"
     ]
    },
    {
     "name": "stderr",
     "output_type": "stream",
     "text": [
      "INFO:__main__:Source: A male metal worker using a welding tool in his right hand , while holding the mask in his left hand , in a <UNK> or lower class neighborhood . </S>\n",
      "INFO:__main__:Target Hypothesis: rechten Hand , der eine Atemschutzmaske hält , hält eine Atemschutzmaske .\n",
      "INFO:__main__:Target Reference: ['Gegend', 'der', 'mittleren', 'Unterschicht', 'oder', 'Unterschicht', 'bedient', 'mit', 'der', 'rechten', 'Hand', 'ein', 'Schwei\\xc3\\x9fwerkzeug', ',', 'w\\xc3\\xa4hrend', 'er', 'in', 'der', 'linken', 'Hand', 'die', 'Maske', 'h\\xc3\\xa4lt', '.']\n",
      "INFO:__main__:IMT F1 score: 0.0\n"
     ]
    },
    {
     "name": "stdout",
     "output_type": "stream",
     "text": [
      "\n",
      "predicting target prefix: ['Ein', 'Metallarbeiter', 'in', 'einer', 'Gegend']"
     ]
    },
    {
     "name": "stderr",
     "output_type": "stream",
     "text": [
      "INFO:__main__:Source: A male metal worker using a welding tool in his right hand , while holding the mask in his left hand , in a <UNK> or lower class neighborhood . </S>\n",
      "INFO:__main__:Target Hypothesis: , die die Wände hält , hält eine Atemschutzmaske .\n",
      "INFO:__main__:Target Reference: ['der', 'mittleren', 'Unterschicht', 'oder', 'Unterschicht', 'bedient', 'mit', 'der', 'rechten', 'Hand', 'ein', 'Schwei\\xc3\\x9fwerkzeug', ',', 'w\\xc3\\xa4hrend', 'er', 'in', 'der', 'linken', 'Hand', 'die', 'Maske', 'h\\xc3\\xa4lt', '.']\n",
      "INFO:__main__:IMT F1 score: 0.0\n"
     ]
    },
    {
     "name": "stdout",
     "output_type": "stream",
     "text": [
      "\n",
      "predicting target prefix: ['Ein', 'Metallarbeiter', 'in', 'einer', 'Gegend', 'der']"
     ]
    },
    {
     "name": "stderr",
     "output_type": "stream",
     "text": [
      "INFO:__main__:Source: A male metal worker using a welding tool in his right hand , while holding the mask in his left hand , in a <UNK> or lower class neighborhood . </S>\n",
      "INFO:__main__:Target Hypothesis: rechte Hand in der linken Hand , hält eine Atemschutzmaske .\n",
      "INFO:__main__:Target Reference: ['mittleren', 'Unterschicht', 'oder', 'Unterschicht', 'bedient', 'mit', 'der', 'rechten', 'Hand', 'ein', 'Schwei\\xc3\\x9fwerkzeug', ',', 'w\\xc3\\xa4hrend', 'er', 'in', 'der', 'linken', 'Hand', 'die', 'Maske', 'h\\xc3\\xa4lt', '.']\n",
      "INFO:__main__:IMT F1 score: 0.0\n"
     ]
    },
    {
     "name": "stdout",
     "output_type": "stream",
     "text": [
      "\n",
      "predicting target prefix: ['Ein', 'Metallarbeiter', 'in', 'einer', 'Gegend', 'der', 'mittleren']"
     ]
    },
    {
     "name": "stderr",
     "output_type": "stream",
     "text": [
      "INFO:__main__:Source: A male metal worker using a welding tool in his right hand , while holding the mask in his left hand , in a <UNK> or lower class neighborhood . </S>\n",
      "INFO:__main__:Target Hypothesis: Alters in der linken Hand , hält eine Atemschutzmaske .\n",
      "INFO:__main__:Target Reference: ['Unterschicht', 'oder', 'Unterschicht', 'bedient', 'mit', 'der', 'rechten', 'Hand', 'ein', 'Schwei\\xc3\\x9fwerkzeug', ',', 'w\\xc3\\xa4hrend', 'er', 'in', 'der', 'linken', 'Hand', 'die', 'Maske', 'h\\xc3\\xa4lt', '.']\n",
      "INFO:__main__:IMT F1 score: 0.0\n"
     ]
    },
    {
     "name": "stdout",
     "output_type": "stream",
     "text": [
      "\n",
      "predicting target prefix: ['Ein', 'Metallarbeiter', 'in', 'einer', 'Gegend', 'der', 'mittleren', 'Unterschicht']"
     ]
    },
    {
     "name": "stderr",
     "output_type": "stream",
     "text": [
      "INFO:__main__:Source: A male metal worker using a welding tool in his right hand , while holding the mask in his left hand , in a <UNK> or lower class neighborhood . </S>\n",
      "INFO:__main__:Target Hypothesis: in der linken Hand , hält eine Atemschutzmaske .\n",
      "INFO:__main__:Target Reference: ['oder', 'Unterschicht', 'bedient', 'mit', 'der', 'rechten', 'Hand', 'ein', 'Schwei\\xc3\\x9fwerkzeug', ',', 'w\\xc3\\xa4hrend', 'er', 'in', 'der', 'linken', 'Hand', 'die', 'Maske', 'h\\xc3\\xa4lt', '.']\n",
      "INFO:__main__:IMT F1 score: 0.0\n"
     ]
    },
    {
     "name": "stdout",
     "output_type": "stream",
     "text": [
      "\n",
      "predicting target prefix: ['Ein', 'Metallarbeiter', 'in', 'einer', 'Gegend', 'der', 'mittleren', 'Unterschicht', 'oder']"
     ]
    },
    {
     "name": "stderr",
     "output_type": "stream",
     "text": [
      "INFO:__main__:Source: A male metal worker using a welding tool in his right hand , while holding the mask in his left hand , in a <UNK> or lower class neighborhood . </S>\n",
      "INFO:__main__:Target Hypothesis: hält die Wände von Freunden singt , hält eine Atemschutzmaske .\n",
      "INFO:__main__:Target Reference: ['Unterschicht', 'bedient', 'mit', 'der', 'rechten', 'Hand', 'ein', 'Schwei\\xc3\\x9fwerkzeug', ',', 'w\\xc3\\xa4hrend', 'er', 'in', 'der', 'linken', 'Hand', 'die', 'Maske', 'h\\xc3\\xa4lt', '.']\n",
      "INFO:__main__:IMT F1 score: 0.0\n"
     ]
    },
    {
     "name": "stdout",
     "output_type": "stream",
     "text": [
      "\n",
      "predicting target prefix: ['Ein', 'Metallarbeiter', 'in', 'einer', 'Gegend', 'der', 'mittleren', 'Unterschicht', 'oder', 'Unterschicht']"
     ]
    },
    {
     "name": "stderr",
     "output_type": "stream",
     "text": [
      "INFO:__main__:Source: A male metal worker using a welding tool in his right hand , while holding the mask in his left hand , in a <UNK> or lower class neighborhood . </S>\n",
      "INFO:__main__:Target Hypothesis: in der linken Hand , hält eine Atemschutzmaske .\n",
      "INFO:__main__:Target Reference: ['bedient', 'mit', 'der', 'rechten', 'Hand', 'ein', 'Schwei\\xc3\\x9fwerkzeug', ',', 'w\\xc3\\xa4hrend', 'er', 'in', 'der', 'linken', 'Hand', 'die', 'Maske', 'h\\xc3\\xa4lt', '.']\n",
      "INFO:__main__:IMT F1 score: 0.0\n"
     ]
    },
    {
     "name": "stdout",
     "output_type": "stream",
     "text": [
      "\n",
      "predicting target prefix: ['Ein', 'Metallarbeiter', 'in', 'einer', 'Gegend', 'der', 'mittleren', 'Unterschicht', 'oder', 'Unterschicht', 'bedient']"
     ]
    },
    {
     "name": "stderr",
     "output_type": "stream",
     "text": [
      "INFO:__main__:Source: A male metal worker using a welding tool in his right hand , while holding the mask in his left hand , in a <UNK> or lower class neighborhood . </S>\n",
      "INFO:__main__:Target Hypothesis: eine Atemschutzmaske .\n",
      "INFO:__main__:Target Reference: ['mit', 'der', 'rechten', 'Hand', 'ein', 'Schwei\\xc3\\x9fwerkzeug', ',', 'w\\xc3\\xa4hrend', 'er', 'in', 'der', 'linken', 'Hand', 'die', 'Maske', 'h\\xc3\\xa4lt', '.']\n",
      "INFO:__main__:IMT F1 score: 0.0\n"
     ]
    },
    {
     "name": "stdout",
     "output_type": "stream",
     "text": [
      "\n",
      "predicting target prefix: ['Ein', 'Metallarbeiter', 'in', 'einer', 'Gegend', 'der', 'mittleren', 'Unterschicht', 'oder', 'Unterschicht', 'bedient', 'mit']"
     ]
    },
    {
     "name": "stderr",
     "output_type": "stream",
     "text": [
      "INFO:__main__:Source: A male metal worker using a welding tool in his right hand , while holding the mask in his left hand , in a <UNK> or lower class neighborhood . </S>\n",
      "INFO:__main__:Target Hypothesis: der Aufschrift „ Freiheitsstatuenhaltung “ steht , hält die Atemschutzmaske .\n",
      "INFO:__main__:Target Reference: ['der', 'rechten', 'Hand', 'ein', 'Schwei\\xc3\\x9fwerkzeug', ',', 'w\\xc3\\xa4hrend', 'er', 'in', 'der', 'linken', 'Hand', 'die', 'Maske', 'h\\xc3\\xa4lt', '.']\n",
      "INFO:__main__:IMT F1 score: 0.0740740740741\n"
     ]
    },
    {
     "name": "stdout",
     "output_type": "stream",
     "text": [
      "\n",
      "predicting target prefix: ['Ein', 'Metallarbeiter', 'in', 'einer', 'Gegend', 'der', 'mittleren', 'Unterschicht', 'oder', 'Unterschicht', 'bedient', 'mit', 'der']"
     ]
    },
    {
     "name": "stderr",
     "output_type": "stream",
     "text": [
      "INFO:__main__:Source: A male metal worker using a welding tool in his right hand , while holding the mask in his left hand , in a <UNK> or lower class neighborhood . </S>\n",
      "INFO:__main__:Target Hypothesis: Aufschrift „ Freiheitsstatuenhaltung “ steht , hält die Atemschutzmaske .\n",
      "INFO:__main__:Target Reference: ['rechten', 'Hand', 'ein', 'Schwei\\xc3\\x9fwerkzeug', ',', 'w\\xc3\\xa4hrend', 'er', 'in', 'der', 'linken', 'Hand', 'die', 'Maske', 'h\\xc3\\xa4lt', '.']\n",
      "INFO:__main__:IMT F1 score: 0.0\n"
     ]
    },
    {
     "name": "stdout",
     "output_type": "stream",
     "text": [
      "\n",
      "predicting target prefix: ['Ein', 'Metallarbeiter', 'in', 'einer', 'Gegend', 'der', 'mittleren', 'Unterschicht', 'oder', 'Unterschicht', 'bedient', 'mit', 'der', 'rechten']"
     ]
    },
    {
     "name": "stderr",
     "output_type": "stream",
     "text": [
      "INFO:__main__:Source: A male metal worker using a welding tool in his right hand , while holding the mask in his left hand , in a <UNK> or lower class neighborhood . </S>\n",
      "INFO:__main__:Target Hypothesis: Hand in der Hand und den Mast hinaufklettert .\n",
      "INFO:__main__:Target Reference: ['Hand', 'ein', 'Schwei\\xc3\\x9fwerkzeug', ',', 'w\\xc3\\xa4hrend', 'er', 'in', 'der', 'linken', 'Hand', 'die', 'Maske', 'h\\xc3\\xa4lt', '.']\n",
      "INFO:__main__:IMT F1 score: 0.0869565217391\n"
     ]
    },
    {
     "name": "stdout",
     "output_type": "stream",
     "text": [
      "\n",
      "predicting target prefix: ['Ein', 'Metallarbeiter', 'in', 'einer', 'Gegend', 'der', 'mittleren', 'Unterschicht', 'oder', 'Unterschicht', 'bedient', 'mit', 'der', 'rechten', 'Hand']"
     ]
    },
    {
     "name": "stderr",
     "output_type": "stream",
     "text": [
      "INFO:__main__:Source: A male metal worker using a welding tool in his right hand , while holding the mask in his left hand , in a <UNK> or lower class neighborhood . </S>\n",
      "INFO:__main__:Target Hypothesis: in der Hand und den Mast hinaufklettert .\n",
      "INFO:__main__:Target Reference: ['ein', 'Schwei\\xc3\\x9fwerkzeug', ',', 'w\\xc3\\xa4hrend', 'er', 'in', 'der', 'linken', 'Hand', 'die', 'Maske', 'h\\xc3\\xa4lt', '.']\n",
      "INFO:__main__:IMT F1 score: 0.0\n"
     ]
    },
    {
     "name": "stdout",
     "output_type": "stream",
     "text": [
      "\n",
      "predicting target prefix: ['Ein', 'Metallarbeiter', 'in', 'einer', 'Gegend', 'der', 'mittleren', 'Unterschicht', 'oder', 'Unterschicht', 'bedient', 'mit', 'der', 'rechten', 'Hand', 'ein']"
     ]
    },
    {
     "name": "stderr",
     "output_type": "stream",
     "text": [
      "INFO:__main__:Source: A male metal worker using a welding tool in his right hand , while holding the mask in his left hand , in a <UNK> or lower class neighborhood . </S>\n",
      "INFO:__main__:Target Hypothesis: Chefkoch sorgt für die Hände vor dem \" Unglaublichen \" steht .\n",
      "INFO:__main__:Target Reference: ['Schwei\\xc3\\x9fwerkzeug', ',', 'w\\xc3\\xa4hrend', 'er', 'in', 'der', 'linken', 'Hand', 'die', 'Maske', 'h\\xc3\\xa4lt', '.']\n",
      "INFO:__main__:IMT F1 score: 0.0\n"
     ]
    },
    {
     "name": "stdout",
     "output_type": "stream",
     "text": [
      "\n",
      "predicting target prefix: ['Ein', 'Metallarbeiter', 'in', 'einer', 'Gegend', 'der', 'mittleren', 'Unterschicht', 'oder', 'Unterschicht', 'bedient', 'mit', 'der', 'rechten', 'Hand', 'ein', 'Schwei\\xc3\\x9fwerkzeug']"
     ]
    },
    {
     "name": "stderr",
     "output_type": "stream",
     "text": [
      "INFO:__main__:Source: A male metal worker using a welding tool in his right hand , while holding the mask in his left hand , in a <UNK> or lower class neighborhood . </S>\n",
      "INFO:__main__:Target Hypothesis: in der Hand und den Mast hinaufklettert .\n",
      "INFO:__main__:Target Reference: [',', 'w\\xc3\\xa4hrend', 'er', 'in', 'der', 'linken', 'Hand', 'die', 'Maske', 'h\\xc3\\xa4lt', '.']\n",
      "INFO:__main__:IMT F1 score: 0.0\n"
     ]
    },
    {
     "name": "stdout",
     "output_type": "stream",
     "text": [
      "\n",
      "predicting target prefix: ['Ein', 'Metallarbeiter', 'in', 'einer', 'Gegend', 'der', 'mittleren', 'Unterschicht', 'oder', 'Unterschicht', 'bedient', 'mit', 'der', 'rechten', 'Hand', 'ein', 'Schwei\\xc3\\x9fwerkzeug', ',']"
     ]
    },
    {
     "name": "stderr",
     "output_type": "stream",
     "text": [
      "INFO:__main__:Source: A male metal worker using a welding tool in his right hand , while holding the mask in his left hand , in a <UNK> or lower class neighborhood . </S>\n",
      "INFO:__main__:Target Hypothesis: hält eine Atemschutzmaske .\n",
      "INFO:__main__:Target Reference: ['w\\xc3\\xa4hrend', 'er', 'in', 'der', 'linken', 'Hand', 'die', 'Maske', 'h\\xc3\\xa4lt', '.']\n",
      "INFO:__main__:IMT F1 score: 0.0\n"
     ]
    },
    {
     "name": "stdout",
     "output_type": "stream",
     "text": [
      "\n",
      "predicting target prefix: ['Ein', 'Metallarbeiter', 'in', 'einer', 'Gegend', 'der', 'mittleren', 'Unterschicht', 'oder', 'Unterschicht', 'bedient', 'mit', 'der', 'rechten', 'Hand', 'ein', 'Schwei\\xc3\\x9fwerkzeug', ',', 'w\\xc3\\xa4hrend']"
     ]
    },
    {
     "name": "stderr",
     "output_type": "stream",
     "text": [
      "INFO:__main__:Source: A male metal worker using a welding tool in his right hand , while holding the mask in his left hand , in a <UNK> or lower class neighborhood . </S>\n",
      "INFO:__main__:Target Hypothesis: eine Atemschutzmaske .\n",
      "INFO:__main__:Target Reference: ['er', 'in', 'der', 'linken', 'Hand', 'die', 'Maske', 'h\\xc3\\xa4lt', '.']\n",
      "INFO:__main__:IMT F1 score: 0.0\n"
     ]
    },
    {
     "name": "stdout",
     "output_type": "stream",
     "text": [
      "\n",
      "predicting target prefix: ['Ein', 'Metallarbeiter', 'in', 'einer', 'Gegend', 'der', 'mittleren', 'Unterschicht', 'oder', 'Unterschicht', 'bedient', 'mit', 'der', 'rechten', 'Hand', 'ein', 'Schwei\\xc3\\x9fwerkzeug', ',', 'w\\xc3\\xa4hrend', 'er']"
     ]
    },
    {
     "name": "stderr",
     "output_type": "stream",
     "text": [
      "INFO:__main__:Source: A male metal worker using a welding tool in his right hand , while holding the mask in his left hand , in a <UNK> or lower class neighborhood . </S>\n",
      "INFO:__main__:Target Hypothesis: eine Atemschutzmaske .\n",
      "INFO:__main__:Target Reference: ['in', 'der', 'linken', 'Hand', 'die', 'Maske', 'h\\xc3\\xa4lt', '.']\n",
      "INFO:__main__:IMT F1 score: 0.0\n"
     ]
    },
    {
     "name": "stdout",
     "output_type": "stream",
     "text": [
      "\n",
      "predicting target prefix: ['Ein', 'Metallarbeiter', 'in', 'einer', 'Gegend', 'der', 'mittleren', 'Unterschicht', 'oder', 'Unterschicht', 'bedient', 'mit', 'der', 'rechten', 'Hand', 'ein', 'Schwei\\xc3\\x9fwerkzeug', ',', 'w\\xc3\\xa4hrend', 'er', 'in']"
     ]
    },
    {
     "name": "stderr",
     "output_type": "stream",
     "text": [
      "INFO:__main__:Source: A male metal worker using a welding tool in his right hand , while holding the mask in his left hand , in a <UNK> or lower class neighborhood . </S>\n",
      "INFO:__main__:Target Hypothesis: der Nachbarschaft gekleidet ist , hält eine Atemschutzmaske .\n",
      "INFO:__main__:Target Reference: ['der', 'linken', 'Hand', 'die', 'Maske', 'h\\xc3\\xa4lt', '.']\n",
      "INFO:__main__:IMT F1 score: 0.125\n"
     ]
    },
    {
     "name": "stdout",
     "output_type": "stream",
     "text": [
      "\n",
      "predicting target prefix: ['Ein', 'Metallarbeiter', 'in', 'einer', 'Gegend', 'der', 'mittleren', 'Unterschicht', 'oder', 'Unterschicht', 'bedient', 'mit', 'der', 'rechten', 'Hand', 'ein', 'Schwei\\xc3\\x9fwerkzeug', ',', 'w\\xc3\\xa4hrend', 'er', 'in', 'der']"
     ]
    },
    {
     "name": "stderr",
     "output_type": "stream",
     "text": [
      "INFO:__main__:Source: A male metal worker using a welding tool in his right hand , while holding the mask in his left hand , in a <UNK> or lower class neighborhood . </S>\n",
      "INFO:__main__:Target Hypothesis: Nachbarschaft gekleidet ist , hält eine Atemschutzmaske .\n",
      "INFO:__main__:Target Reference: ['linken', 'Hand', 'die', 'Maske', 'h\\xc3\\xa4lt', '.']\n",
      "INFO:__main__:IMT F1 score: 0.0\n"
     ]
    },
    {
     "name": "stdout",
     "output_type": "stream",
     "text": [
      "\n",
      "predicting target prefix: ['Ein', 'Metallarbeiter', 'in', 'einer', 'Gegend', 'der', 'mittleren', 'Unterschicht', 'oder', 'Unterschicht', 'bedient', 'mit', 'der', 'rechten', 'Hand', 'ein', 'Schwei\\xc3\\x9fwerkzeug', ',', 'w\\xc3\\xa4hrend', 'er', 'in', 'der', 'linken']"
     ]
    },
    {
     "name": "stderr",
     "output_type": "stream",
     "text": [
      "INFO:__main__:Source: A male metal worker using a welding tool in his right hand , while holding the mask in his left hand , in a <UNK> or lower class neighborhood . </S>\n",
      "INFO:__main__:Target Hypothesis: Hand Ballone .\n",
      "INFO:__main__:Target Reference: ['Hand', 'die', 'Maske', 'h\\xc3\\xa4lt', '.']\n",
      "INFO:__main__:IMT F1 score: 0.25\n"
     ]
    },
    {
     "name": "stdout",
     "output_type": "stream",
     "text": [
      "\n",
      "predicting target prefix: ['Ein', 'Metallarbeiter', 'in', 'einer', 'Gegend', 'der', 'mittleren', 'Unterschicht', 'oder', 'Unterschicht', 'bedient', 'mit', 'der', 'rechten', 'Hand', 'ein', 'Schwei\\xc3\\x9fwerkzeug', ',', 'w\\xc3\\xa4hrend', 'er', 'in', 'der', 'linken', 'Hand']"
     ]
    },
    {
     "name": "stderr",
     "output_type": "stream",
     "text": [
      "INFO:__main__:Source: A male metal worker using a welding tool in his right hand , while holding the mask in his left hand , in a <UNK> or lower class neighborhood . </S>\n",
      "INFO:__main__:Target Hypothesis: Ballone .\n",
      "INFO:__main__:Target Reference: ['die', 'Maske', 'h\\xc3\\xa4lt', '.']\n",
      "INFO:__main__:IMT F1 score: 0.0\n"
     ]
    },
    {
     "name": "stdout",
     "output_type": "stream",
     "text": [
      "\n",
      "predicting target prefix: ['Ein', 'Metallarbeiter', 'in', 'einer', 'Gegend', 'der', 'mittleren', 'Unterschicht', 'oder', 'Unterschicht', 'bedient', 'mit', 'der', 'rechten', 'Hand', 'ein', 'Schwei\\xc3\\x9fwerkzeug', ',', 'w\\xc3\\xa4hrend', 'er', 'in', 'der', 'linken', 'Hand', 'die']"
     ]
    },
    {
     "name": "stderr",
     "output_type": "stream",
     "text": [
      "INFO:__main__:Source: A male metal worker using a welding tool in his right hand , while holding the mask in his left hand , in a <UNK> or lower class neighborhood . </S>\n",
      "INFO:__main__:Target Hypothesis: Ballone in einer Textnachricht auf einem Spieß anbietet .\n",
      "INFO:__main__:Target Reference: ['Maske', 'h\\xc3\\xa4lt', '.']\n",
      "INFO:__main__:IMT F1 score: 0.0\n"
     ]
    },
    {
     "name": "stdout",
     "output_type": "stream",
     "text": [
      "\n",
      "predicting target prefix: ['Ein', 'Metallarbeiter', 'in', 'einer', 'Gegend', 'der', 'mittleren', 'Unterschicht', 'oder', 'Unterschicht', 'bedient', 'mit', 'der', 'rechten', 'Hand', 'ein', 'Schwei\\xc3\\x9fwerkzeug', ',', 'w\\xc3\\xa4hrend', 'er', 'in', 'der', 'linken', 'Hand', 'die', 'Maske']"
     ]
    },
    {
     "name": "stderr",
     "output_type": "stream",
     "text": [
      "INFO:__main__:Source: A male metal worker using a welding tool in his right hand , while holding the mask in his left hand , in a <UNK> or lower class neighborhood . </S>\n",
      "INFO:__main__:Target Hypothesis: anschauen .\n",
      "INFO:__main__:Target Reference: ['h\\xc3\\xa4lt', '.']\n",
      "INFO:__main__:IMT F1 score: 0.0\n"
     ]
    },
    {
     "name": "stdout",
     "output_type": "stream",
     "text": [
      "\n",
      "predicting target prefix: ['Ein', 'Metallarbeiter', 'in', 'einer', 'Gegend', 'der', 'mittleren', 'Unterschicht', 'oder', 'Unterschicht', 'bedient', 'mit', 'der', 'rechten', 'Hand', 'ein', 'Schwei\\xc3\\x9fwerkzeug', ',', 'w\\xc3\\xa4hrend', 'er', 'in', 'der', 'linken', 'Hand', 'die', 'Maske', 'h\\xc3\\xa4lt']"
     ]
    },
    {
     "name": "stderr",
     "output_type": "stream",
     "text": [
      "INFO:__main__:Source: A male metal worker using a welding tool in his right hand , while holding the mask in his left hand , in a <UNK> or lower class neighborhood . </S>\n",
      "INFO:__main__:Target Hypothesis: .\n",
      "INFO:__main__:Target Reference: ['.']\n",
      "INFO:__main__:IMT F1 score: 1.0\n"
     ]
    },
    {
     "name": "stdout",
     "output_type": "stream",
     "text": [
      "\n",
      "predicting target prefix: ['Ein', 'Metallarbeiter', 'in', 'einer', 'Gegend', 'der', 'mittleren', 'Unterschicht', 'oder', 'Unterschicht', 'bedient', 'mit', 'der', 'rechten', 'Hand', 'ein', 'Schwei\\xc3\\x9fwerkzeug', ',', 'w\\xc3\\xa4hrend', 'er', 'in', 'der', 'linken', 'Hand', 'die', 'Maske', 'h\\xc3\\xa4lt', '.']"
     ]
    },
    {
     "name": "stderr",
     "output_type": "stream",
     "text": [
      "INFO:__main__:Source: A male metal worker using a welding tool in his right hand , while holding the mask in his left hand , in a <UNK> or lower class neighborhood . </S>\n",
      "INFO:__main__:Target Hypothesis: </S> grinst im Freien .\n",
      "INFO:__main__:Target Reference: []\n",
      "INFO:__main__:IMT F1 score: 0.0\n",
      "INFO:__main__:Translating segment: 24\n"
     ]
    },
    {
     "name": "stdout",
     "output_type": "stream",
     "text": [
      "\n",
      "predicting target prefix: ['Viele']"
     ]
    },
    {
     "name": "stderr",
     "output_type": "stream",
     "text": [
      "INFO:__main__:Source: Many people standing by a fountain underneath a blue and white umbrella . </S>\n",
      "INFO:__main__:Target Hypothesis: Menschen stehen an einem Brunnen unter einem blau-grünen Sonnenschirm .\n",
      "INFO:__main__:Target Reference: ['Menschen', 'stehen', 'an', 'einem', 'Brunnen', 'unter', 'einem', 'blau-wei\\xc3\\x9fen', 'Schirm', '.']\n",
      "INFO:__main__:IMT F1 score: 0.7\n"
     ]
    },
    {
     "name": "stdout",
     "output_type": "stream",
     "text": [
      "\n",
      "predicting target prefix: ['Viele', 'Menschen']"
     ]
    },
    {
     "name": "stderr",
     "output_type": "stream",
     "text": [
      "INFO:__main__:Source: Many people standing by a fountain underneath a blue and white umbrella . </S>\n",
      "INFO:__main__:Target Hypothesis: stehen an einem Brunnen unter einem blau-grünen Sonnenschirm .\n",
      "INFO:__main__:Target Reference: ['stehen', 'an', 'einem', 'Brunnen', 'unter', 'einem', 'blau-wei\\xc3\\x9fen', 'Schirm', '.']\n",
      "INFO:__main__:IMT F1 score: 0.666666666667\n"
     ]
    },
    {
     "name": "stdout",
     "output_type": "stream",
     "text": [
      "\n",
      "predicting target prefix: ['Viele', 'Menschen', 'stehen']"
     ]
    },
    {
     "name": "stderr",
     "output_type": "stream",
     "text": [
      "INFO:__main__:Source: Many people standing by a fountain underneath a blue and white umbrella . </S>\n",
      "INFO:__main__:Target Hypothesis: an einem Brunnen unter einem blau-grünen Sonnenschirm .\n",
      "INFO:__main__:Target Reference: ['an', 'einem', 'Brunnen', 'unter', 'einem', 'blau-wei\\xc3\\x9fen', 'Schirm', '.']\n",
      "INFO:__main__:IMT F1 score: 0.625\n"
     ]
    },
    {
     "name": "stdout",
     "output_type": "stream",
     "text": [
      "\n",
      "predicting target prefix: ['Viele', 'Menschen', 'stehen', 'an']"
     ]
    },
    {
     "name": "stderr",
     "output_type": "stream",
     "text": [
      "INFO:__main__:Source: Many people standing by a fountain underneath a blue and white umbrella . </S>\n",
      "INFO:__main__:Target Hypothesis: einem Brunnen unter einem blau-grünen Sonnenschirm .\n",
      "INFO:__main__:Target Reference: ['einem', 'Brunnen', 'unter', 'einem', 'blau-wei\\xc3\\x9fen', 'Schirm', '.']\n",
      "INFO:__main__:IMT F1 score: 0.571428571429\n"
     ]
    },
    {
     "name": "stdout",
     "output_type": "stream",
     "text": [
      "\n",
      "predicting target prefix: ['Viele', 'Menschen', 'stehen', 'an', 'einem']"
     ]
    },
    {
     "name": "stderr",
     "output_type": "stream",
     "text": [
      "INFO:__main__:Source: Many people standing by a fountain underneath a blue and white umbrella . </S>\n",
      "INFO:__main__:Target Hypothesis: Brunnen unter einem blau-grünen Sonnenschirm .\n",
      "INFO:__main__:Target Reference: ['Brunnen', 'unter', 'einem', 'blau-wei\\xc3\\x9fen', 'Schirm', '.']\n",
      "INFO:__main__:IMT F1 score: 0.5\n"
     ]
    },
    {
     "name": "stdout",
     "output_type": "stream",
     "text": [
      "\n",
      "predicting target prefix: ['Viele', 'Menschen', 'stehen', 'an', 'einem', 'Brunnen']"
     ]
    },
    {
     "name": "stderr",
     "output_type": "stream",
     "text": [
      "INFO:__main__:Source: Many people standing by a fountain underneath a blue and white umbrella . </S>\n",
      "INFO:__main__:Target Hypothesis: unter einem blauer und weißen Sonnenschirm .\n",
      "INFO:__main__:Target Reference: ['unter', 'einem', 'blau-wei\\xc3\\x9fen', 'Schirm', '.']\n",
      "INFO:__main__:IMT F1 score: 0.333333333333\n"
     ]
    },
    {
     "name": "stdout",
     "output_type": "stream",
     "text": [
      "\n",
      "predicting target prefix: ['Viele', 'Menschen', 'stehen', 'an', 'einem', 'Brunnen', 'unter']"
     ]
    },
    {
     "name": "stderr",
     "output_type": "stream",
     "text": [
      "INFO:__main__:Source: Many people standing by a fountain underneath a blue and white umbrella . </S>\n",
      "INFO:__main__:Target Hypothesis: einem blauer und weißen Sonnenschirm .\n",
      "INFO:__main__:Target Reference: ['einem', 'blau-wei\\xc3\\x9fen', 'Schirm', '.']\n",
      "INFO:__main__:IMT F1 score: 0.2\n"
     ]
    },
    {
     "name": "stdout",
     "output_type": "stream",
     "text": [
      "\n",
      "predicting target prefix: ['Viele', 'Menschen', 'stehen', 'an', 'einem', 'Brunnen', 'unter', 'einem']"
     ]
    },
    {
     "name": "stderr",
     "output_type": "stream",
     "text": [
      "INFO:__main__:Source: Many people standing by a fountain underneath a blue and white umbrella . </S>\n",
      "INFO:__main__:Target Hypothesis: blauer und weißen Sonnenschirm .\n",
      "INFO:__main__:Target Reference: ['blau-wei\\xc3\\x9fen', 'Schirm', '.']\n",
      "INFO:__main__:IMT F1 score: 0.0\n"
     ]
    },
    {
     "name": "stdout",
     "output_type": "stream",
     "text": [
      "\n",
      "predicting target prefix: ['Viele', 'Menschen', 'stehen', 'an', 'einem', 'Brunnen', 'unter', 'einem', 'blau-wei\\xc3\\x9fen']"
     ]
    },
    {
     "name": "stderr",
     "output_type": "stream",
     "text": [
      "INFO:__main__:Source: Many people standing by a fountain underneath a blue and white umbrella . </S>\n",
      "INFO:__main__:Target Hypothesis: Sonnenschirm .\n",
      "INFO:__main__:Target Reference: ['Schirm', '.']\n",
      "INFO:__main__:IMT F1 score: 0.0\n",
      "INFO:__main__:Source: Many people standing by a fountain underneath a blue and white umbrella . </S>\n",
      "INFO:__main__:Target Hypothesis: .\n",
      "INFO:__main__:Target Reference: ['.']\n",
      "INFO:__main__:IMT F1 score: 1.0\n"
     ]
    },
    {
     "name": "stdout",
     "output_type": "stream",
     "text": [
      "\n",
      "predicting target prefix: ['Viele', 'Menschen', 'stehen', 'an', 'einem', 'Brunnen', 'unter', 'einem', 'blau-wei\\xc3\\x9fen', 'Schirm']\n",
      "predicting target prefix: ['Viele', 'Menschen', 'stehen', 'an', 'einem', 'Brunnen', 'unter', 'einem', 'blau-wei\\xc3\\x9fen', 'Schirm', '.']"
     ]
    },
    {
     "name": "stderr",
     "output_type": "stream",
     "text": [
      "INFO:__main__:Source: Many people standing by a fountain underneath a blue and white umbrella . </S>\n",
      "INFO:__main__:Target Hypothesis: </S> .\n",
      "INFO:__main__:Target Reference: []\n",
      "INFO:__main__:IMT F1 score: 0.0\n",
      "INFO:__main__:Translating segment: 25\n"
     ]
    },
    {
     "name": "stdout",
     "output_type": "stream",
     "text": [
      "\n",
      "predicting target prefix: ['Eine']"
     ]
    },
    {
     "name": "stderr",
     "output_type": "stream",
     "text": [
      "INFO:__main__:Source: Woman is sewing in order to make a living in her country . </S>\n",
      "INFO:__main__:Target Hypothesis: Frau näht , um etwas in ihrem Land zu machen .\n",
      "INFO:__main__:Target Reference: ['Frau', 'n\\xc3\\xa4ht', ',', 'um', 'in', 'ihrem', 'Land', 'ihren', 'Lebensunterhalt', 'zu', 'verdienen', '.']\n",
      "INFO:__main__:IMT F1 score: 0.347826086957\n"
     ]
    },
    {
     "name": "stdout",
     "output_type": "stream",
     "text": [
      "\n",
      "predicting target prefix: ['Eine', 'Frau']"
     ]
    },
    {
     "name": "stderr",
     "output_type": "stream",
     "text": [
      "INFO:__main__:Source: Woman is sewing in order to make a living in her country . </S>\n",
      "INFO:__main__:Target Hypothesis: näht , um etwas in ihrem Land zu machen .\n",
      "INFO:__main__:Target Reference: ['n\\xc3\\xa4ht', ',', 'um', 'in', 'ihrem', 'Land', 'ihren', 'Lebensunterhalt', 'zu', 'verdienen', '.']\n",
      "INFO:__main__:IMT F1 score: 0.285714285714\n"
     ]
    },
    {
     "name": "stdout",
     "output_type": "stream",
     "text": [
      "\n",
      "predicting target prefix: ['Eine', 'Frau', 'n\\xc3\\xa4ht']"
     ]
    },
    {
     "name": "stderr",
     "output_type": "stream",
     "text": [
      "INFO:__main__:Source: Woman is sewing in order to make a living in her country . </S>\n",
      "INFO:__main__:Target Hypothesis: , um etwas in ihrem Land zu machen .\n",
      "INFO:__main__:Target Reference: [',', 'um', 'in', 'ihrem', 'Land', 'ihren', 'Lebensunterhalt', 'zu', 'verdienen', '.']\n",
      "INFO:__main__:IMT F1 score: 0.210526315789\n"
     ]
    },
    {
     "name": "stdout",
     "output_type": "stream",
     "text": [
      "\n",
      "predicting target prefix: ['Eine', 'Frau', 'n\\xc3\\xa4ht', ',']"
     ]
    },
    {
     "name": "stderr",
     "output_type": "stream",
     "text": [
      "INFO:__main__:Source: Woman is sewing in order to make a living in her country . </S>\n",
      "INFO:__main__:Target Hypothesis: um etwas in ihrem Land zu machen .\n",
      "INFO:__main__:Target Reference: ['um', 'in', 'ihrem', 'Land', 'ihren', 'Lebensunterhalt', 'zu', 'verdienen', '.']\n",
      "INFO:__main__:IMT F1 score: 0.117647058824\n"
     ]
    },
    {
     "name": "stdout",
     "output_type": "stream",
     "text": [
      "\n",
      "predicting target prefix: ['Eine', 'Frau', 'n\\xc3\\xa4ht', ',', 'um']"
     ]
    },
    {
     "name": "stderr",
     "output_type": "stream",
     "text": [
      "INFO:__main__:Source: Woman is sewing in order to make a living in her country . </S>\n",
      "INFO:__main__:Target Hypothesis: etwas in ihrem Land zu machen .\n",
      "INFO:__main__:Target Reference: ['in', 'ihrem', 'Land', 'ihren', 'Lebensunterhalt', 'zu', 'verdienen', '.']\n",
      "INFO:__main__:IMT F1 score: 0.0\n"
     ]
    },
    {
     "name": "stdout",
     "output_type": "stream",
     "text": [
      "\n",
      "predicting target prefix: ['Eine', 'Frau', 'n\\xc3\\xa4ht', ',', 'um', 'in']"
     ]
    },
    {
     "name": "stderr",
     "output_type": "stream",
     "text": [
      "INFO:__main__:Source: Woman is sewing in order to make a living in her country . </S>\n",
      "INFO:__main__:Target Hypothesis: ihrem Land etwas zu machen .\n",
      "INFO:__main__:Target Reference: ['ihrem', 'Land', 'ihren', 'Lebensunterhalt', 'zu', 'verdienen', '.']\n",
      "INFO:__main__:IMT F1 score: 0.307692307692\n"
     ]
    },
    {
     "name": "stdout",
     "output_type": "stream",
     "text": [
      "\n",
      "predicting target prefix: ['Eine', 'Frau', 'n\\xc3\\xa4ht', ',', 'um', 'in', 'ihrem']"
     ]
    },
    {
     "name": "stderr",
     "output_type": "stream",
     "text": [
      "INFO:__main__:Source: Woman is sewing in order to make a living in her country . </S>\n",
      "INFO:__main__:Target Hypothesis: Land etwas zu machen .\n",
      "INFO:__main__:Target Reference: ['Land', 'ihren', 'Lebensunterhalt', 'zu', 'verdienen', '.']\n",
      "INFO:__main__:IMT F1 score: 0.181818181818\n"
     ]
    },
    {
     "name": "stdout",
     "output_type": "stream",
     "text": [
      "\n",
      "predicting target prefix: ['Eine', 'Frau', 'n\\xc3\\xa4ht', ',', 'um', 'in', 'ihrem', 'Land']"
     ]
    },
    {
     "name": "stderr",
     "output_type": "stream",
     "text": [
      "INFO:__main__:Source: Woman is sewing in order to make a living in her country . </S>\n",
      "INFO:__main__:Target Hypothesis: etwas zu machen .\n",
      "INFO:__main__:Target Reference: ['ihren', 'Lebensunterhalt', 'zu', 'verdienen', '.']\n",
      "INFO:__main__:IMT F1 score: 0.0\n"
     ]
    },
    {
     "name": "stdout",
     "output_type": "stream",
     "text": [
      "\n",
      "predicting target prefix: ['Eine', 'Frau', 'n\\xc3\\xa4ht', ',', 'um', 'in', 'ihrem', 'Land', 'ihren']"
     ]
    },
    {
     "name": "stderr",
     "output_type": "stream",
     "text": [
      "INFO:__main__:Source: Woman is sewing in order to make a living in her country . </S>\n",
      "INFO:__main__:Target Hypothesis: Becken zu machen .\n",
      "INFO:__main__:Target Reference: ['Lebensunterhalt', 'zu', 'verdienen', '.']\n",
      "INFO:__main__:IMT F1 score: 0.0\n"
     ]
    },
    {
     "name": "stdout",
     "output_type": "stream",
     "text": [
      "\n",
      "predicting target prefix: ['Eine', 'Frau', 'n\\xc3\\xa4ht', ',', 'um', 'in', 'ihrem', 'Land', 'ihren', 'Lebensunterhalt']"
     ]
    },
    {
     "name": "stderr",
     "output_type": "stream",
     "text": [
      "INFO:__main__:Source: Woman is sewing in order to make a living in her country . </S>\n",
      "INFO:__main__:Target Hypothesis: zu machen .\n",
      "INFO:__main__:Target Reference: ['zu', 'verdienen', '.']\n",
      "INFO:__main__:IMT F1 score: 0.333333333333\n"
     ]
    },
    {
     "name": "stdout",
     "output_type": "stream",
     "text": [
      "\n",
      "predicting target prefix: ['Eine', 'Frau', 'n\\xc3\\xa4ht', ',', 'um', 'in', 'ihrem', 'Land', 'ihren', 'Lebensunterhalt', 'zu']"
     ]
    },
    {
     "name": "stderr",
     "output_type": "stream",
     "text": [
      "INFO:__main__:Source: Woman is sewing in order to make a living in her country . </S>\n",
      "INFO:__main__:Target Hypothesis: machen .\n",
      "INFO:__main__:Target Reference: ['verdienen', '.']\n",
      "INFO:__main__:IMT F1 score: 0.0\n",
      "INFO:__main__:Source: Woman is sewing in order to make a living in her country . </S>\n",
      "INFO:__main__:Target Hypothesis: .\n",
      "INFO:__main__:Target Reference: ['.']\n",
      "INFO:__main__:IMT F1 score: 1.0\n"
     ]
    },
    {
     "name": "stdout",
     "output_type": "stream",
     "text": [
      "\n",
      "predicting target prefix: ['Eine', 'Frau', 'n\\xc3\\xa4ht', ',', 'um', 'in', 'ihrem', 'Land', 'ihren', 'Lebensunterhalt', 'zu', 'verdienen']\n",
      "predicting target prefix: ['Eine', 'Frau', 'n\\xc3\\xa4ht', ',', 'um', 'in', 'ihrem', 'Land', 'ihren', 'Lebensunterhalt', 'zu', 'verdienen', '.']"
     ]
    },
    {
     "name": "stderr",
     "output_type": "stream",
     "text": [
      "INFO:__main__:Source: Woman is sewing in order to make a living in her country . </S>\n",
      "INFO:__main__:Target Hypothesis: </S> .\n",
      "INFO:__main__:Target Reference: []\n",
      "INFO:__main__:IMT F1 score: 0.0\n",
      "INFO:__main__:Translating segment: 26\n"
     ]
    },
    {
     "name": "stdout",
     "output_type": "stream",
     "text": [
      "\n",
      "predicting target prefix: ['Stra\\xc3\\x9fenverk\\xc3\\xa4ufer']"
     ]
    },
    {
     "name": "stderr",
     "output_type": "stream",
     "text": [
      "INFO:__main__:Source: Street vendor <UNK> merchandise on the table . </S>\n",
      "INFO:__main__:Target Hypothesis: , die sich auf dem Tisch sind .\n",
      "INFO:__main__:Target Reference: ['r\\xc3\\xbcckt', 'Waren', 'auf', 'dem', 'Tisch', 'zurecht', '.']\n",
      "INFO:__main__:IMT F1 score: 0.0\n"
     ]
    },
    {
     "name": "stdout",
     "output_type": "stream",
     "text": [
      "\n",
      "predicting target prefix: ['Stra\\xc3\\x9fenverk\\xc3\\xa4ufer', 'r\\xc3\\xbcckt']"
     ]
    },
    {
     "name": "stderr",
     "output_type": "stream",
     "text": [
      "INFO:__main__:Source: Street vendor <UNK> merchandise on the table . </S>\n",
      "INFO:__main__:Target Hypothesis: die Waren am Tisch sind .\n",
      "INFO:__main__:Target Reference: ['Waren', 'auf', 'dem', 'Tisch', 'zurecht', '.']\n",
      "INFO:__main__:IMT F1 score: 0.0\n"
     ]
    },
    {
     "name": "stdout",
     "output_type": "stream",
     "text": [
      "\n",
      "predicting target prefix: ['Stra\\xc3\\x9fenverk\\xc3\\xa4ufer', 'r\\xc3\\xbcckt', 'Waren']"
     ]
    },
    {
     "name": "stderr",
     "output_type": "stream",
     "text": [
      "INFO:__main__:Source: Street vendor <UNK> merchandise on the table . </S>\n",
      "INFO:__main__:Target Hypothesis: am Tisch .\n",
      "INFO:__main__:Target Reference: ['auf', 'dem', 'Tisch', 'zurecht', '.']\n",
      "INFO:__main__:IMT F1 score: 0.0\n"
     ]
    },
    {
     "name": "stdout",
     "output_type": "stream",
     "text": [
      "\n",
      "predicting target prefix: ['Stra\\xc3\\x9fenverk\\xc3\\xa4ufer', 'r\\xc3\\xbcckt', 'Waren', 'auf']"
     ]
    },
    {
     "name": "stderr",
     "output_type": "stream",
     "text": [
      "INFO:__main__:Source: Street vendor <UNK> merchandise on the table . </S>\n",
      "INFO:__main__:Target Hypothesis: dem Tisch sind .\n",
      "INFO:__main__:Target Reference: ['dem', 'Tisch', 'zurecht', '.']\n",
      "INFO:__main__:IMT F1 score: 0.5\n"
     ]
    },
    {
     "name": "stdout",
     "output_type": "stream",
     "text": [
      "\n",
      "predicting target prefix: ['Stra\\xc3\\x9fenverk\\xc3\\xa4ufer', 'r\\xc3\\xbcckt', 'Waren', 'auf', 'dem']"
     ]
    },
    {
     "name": "stderr",
     "output_type": "stream",
     "text": [
      "INFO:__main__:Source: Street vendor <UNK> merchandise on the table . </S>\n",
      "INFO:__main__:Target Hypothesis: Tisch sind .\n",
      "INFO:__main__:Target Reference: ['Tisch', 'zurecht', '.']\n",
      "INFO:__main__:IMT F1 score: 0.333333333333\n"
     ]
    },
    {
     "name": "stdout",
     "output_type": "stream",
     "text": [
      "\n",
      "predicting target prefix: ['Stra\\xc3\\x9fenverk\\xc3\\xa4ufer', 'r\\xc3\\xbcckt', 'Waren', 'auf', 'dem', 'Tisch']"
     ]
    },
    {
     "name": "stderr",
     "output_type": "stream",
     "text": [
      "INFO:__main__:Source: Street vendor <UNK> merchandise on the table . </S>\n",
      "INFO:__main__:Target Hypothesis: sind .\n",
      "INFO:__main__:Target Reference: ['zurecht', '.']\n",
      "INFO:__main__:IMT F1 score: 0.0\n"
     ]
    },
    {
     "name": "stdout",
     "output_type": "stream",
     "text": [
      "\n",
      "predicting target prefix: ['Stra\\xc3\\x9fenverk\\xc3\\xa4ufer', 'r\\xc3\\xbcckt', 'Waren', 'auf', 'dem', 'Tisch', 'zurecht']"
     ]
    },
    {
     "name": "stderr",
     "output_type": "stream",
     "text": [
      "INFO:__main__:Source: Street vendor <UNK> merchandise on the table . </S>\n",
      "INFO:__main__:Target Hypothesis: .\n",
      "INFO:__main__:Target Reference: ['.']\n",
      "INFO:__main__:IMT F1 score: 1.0\n"
     ]
    },
    {
     "name": "stdout",
     "output_type": "stream",
     "text": [
      "\n",
      "predicting target prefix: ['Stra\\xc3\\x9fenverk\\xc3\\xa4ufer', 'r\\xc3\\xbcckt', 'Waren', 'auf', 'dem', 'Tisch', 'zurecht', '.']"
     ]
    },
    {
     "name": "stderr",
     "output_type": "stream",
     "text": [
      "INFO:__main__:Source: Street vendor <UNK> merchandise on the table . </S>\n",
      "INFO:__main__:Target Hypothesis: </S> .\n",
      "INFO:__main__:Target Reference: []\n",
      "INFO:__main__:IMT F1 score: 0.0\n",
      "INFO:__main__:Translating segment: 27\n"
     ]
    },
    {
     "name": "stdout",
     "output_type": "stream",
     "text": [
      "\n",
      "predicting target prefix: ['Drei']"
     ]
    },
    {
     "name": "stderr",
     "output_type": "stream",
     "text": [
      "INFO:__main__:Source: Three men stand around a cart near some motorcycles . </S>\n",
      "INFO:__main__:Target Hypothesis: Männer stehen in der Nähe eines Zuges .\n",
      "INFO:__main__:Target Reference: ['M\\xc3\\xa4nner', 'stehen', 'in', 'der', 'N\\xc3\\xa4he', 'einiger', 'Motorr\\xc3\\xa4der', 'um', 'einen', 'Wagen', '.']\n",
      "INFO:__main__:IMT F1 score: 0.526315789474\n"
     ]
    },
    {
     "name": "stdout",
     "output_type": "stream",
     "text": [
      "\n",
      "predicting target prefix: ['Drei', 'M\\xc3\\xa4nner']"
     ]
    },
    {
     "name": "stderr",
     "output_type": "stream",
     "text": [
      "INFO:__main__:Source: Three men stand around a cart near some motorcycles . </S>\n",
      "INFO:__main__:Target Hypothesis: stehen um einen Wagen neben einigen Motorrädern .\n",
      "INFO:__main__:Target Reference: ['stehen', 'in', 'der', 'N\\xc3\\xa4he', 'einiger', 'Motorr\\xc3\\xa4der', 'um', 'einen', 'Wagen', '.']\n",
      "INFO:__main__:IMT F1 score: 0.111111111111\n"
     ]
    },
    {
     "name": "stdout",
     "output_type": "stream",
     "text": [
      "\n",
      "predicting target prefix: ['Drei', 'M\\xc3\\xa4nner', 'stehen']"
     ]
    },
    {
     "name": "stderr",
     "output_type": "stream",
     "text": [
      "INFO:__main__:Source: Three men stand around a cart near some motorcycles . </S>\n",
      "INFO:__main__:Target Hypothesis: um einen Wagen neben einigen Motorrädern .\n",
      "INFO:__main__:Target Reference: ['in', 'der', 'N\\xc3\\xa4he', 'einiger', 'Motorr\\xc3\\xa4der', 'um', 'einen', 'Wagen', '.']\n",
      "INFO:__main__:IMT F1 score: 0.0\n"
     ]
    },
    {
     "name": "stdout",
     "output_type": "stream",
     "text": [
      "\n",
      "predicting target prefix: ['Drei', 'M\\xc3\\xa4nner', 'stehen', 'in']"
     ]
    },
    {
     "name": "stderr",
     "output_type": "stream",
     "text": [
      "INFO:__main__:Source: Three men stand around a cart near some motorcycles . </S>\n",
      "INFO:__main__:Target Hypothesis: der Nähe eines Zuges .\n",
      "INFO:__main__:Target Reference: ['der', 'N\\xc3\\xa4he', 'einiger', 'Motorr\\xc3\\xa4der', 'um', 'einen', 'Wagen', '.']\n",
      "INFO:__main__:IMT F1 score: 0.307692307692\n"
     ]
    },
    {
     "name": "stdout",
     "output_type": "stream",
     "text": [
      "\n",
      "predicting target prefix: ['Drei', 'M\\xc3\\xa4nner', 'stehen', 'in', 'der']"
     ]
    },
    {
     "name": "stderr",
     "output_type": "stream",
     "text": [
      "INFO:__main__:Source: Three men stand around a cart near some motorcycles . </S>\n",
      "INFO:__main__:Target Hypothesis: Nähe eines Zuges .\n",
      "INFO:__main__:Target Reference: ['N\\xc3\\xa4he', 'einiger', 'Motorr\\xc3\\xa4der', 'um', 'einen', 'Wagen', '.']\n",
      "INFO:__main__:IMT F1 score: 0.181818181818\n"
     ]
    },
    {
     "name": "stdout",
     "output_type": "stream",
     "text": [
      "\n",
      "predicting target prefix: ['Drei', 'M\\xc3\\xa4nner', 'stehen', 'in', 'der', 'N\\xc3\\xa4he']"
     ]
    },
    {
     "name": "stderr",
     "output_type": "stream",
     "text": [
      "INFO:__main__:Source: Three men stand around a cart near some motorcycles . </S>\n",
      "INFO:__main__:Target Hypothesis: eines Zuges .\n",
      "INFO:__main__:Target Reference: ['einiger', 'Motorr\\xc3\\xa4der', 'um', 'einen', 'Wagen', '.']\n",
      "INFO:__main__:IMT F1 score: 0.0\n"
     ]
    },
    {
     "name": "stdout",
     "output_type": "stream",
     "text": [
      "\n",
      "predicting target prefix: ['Drei', 'M\\xc3\\xa4nner', 'stehen', 'in', 'der', 'N\\xc3\\xa4he', 'einiger']"
     ]
    },
    {
     "name": "stderr",
     "output_type": "stream",
     "text": [
      "INFO:__main__:Source: Three men stand around a cart near some motorcycles . </S>\n",
      "INFO:__main__:Target Hypothesis: wurden .\n",
      "INFO:__main__:Target Reference: ['Motorr\\xc3\\xa4der', 'um', 'einen', 'Wagen', '.']\n",
      "INFO:__main__:IMT F1 score: 0.0\n"
     ]
    },
    {
     "name": "stdout",
     "output_type": "stream",
     "text": [
      "\n",
      "predicting target prefix: ['Drei', 'M\\xc3\\xa4nner', 'stehen', 'in', 'der', 'N\\xc3\\xa4he', 'einiger', 'Motorr\\xc3\\xa4der']"
     ]
    },
    {
     "name": "stderr",
     "output_type": "stream",
     "text": [
      "INFO:__main__:Source: Three men stand around a cart near some motorcycles . </S>\n",
      "INFO:__main__:Target Hypothesis: an einem Einkaufswagen .\n",
      "INFO:__main__:Target Reference: ['um', 'einen', 'Wagen', '.']\n",
      "INFO:__main__:IMT F1 score: 0.0\n"
     ]
    },
    {
     "name": "stdout",
     "output_type": "stream",
     "text": [
      "\n",
      "predicting target prefix: ['Drei', 'M\\xc3\\xa4nner', 'stehen', 'in', 'der', 'N\\xc3\\xa4he', 'einiger', 'Motorr\\xc3\\xa4der', 'um']"
     ]
    },
    {
     "name": "stderr",
     "output_type": "stream",
     "text": [
      "INFO:__main__:Source: Three men stand around a cart near some motorcycles . </S>\n",
      "INFO:__main__:Target Hypothesis: einen Einkaufswagen herum .\n",
      "INFO:__main__:Target Reference: ['einen', 'Wagen', '.']\n",
      "INFO:__main__:IMT F1 score: 0.285714285714\n"
     ]
    },
    {
     "name": "stdout",
     "output_type": "stream",
     "text": [
      "\n",
      "predicting target prefix: ['Drei', 'M\\xc3\\xa4nner', 'stehen', 'in', 'der', 'N\\xc3\\xa4he', 'einiger', 'Motorr\\xc3\\xa4der', 'um', 'einen']"
     ]
    },
    {
     "name": "stderr",
     "output_type": "stream",
     "text": [
      "INFO:__main__:Source: Three men stand around a cart near some motorcycles . </S>\n",
      "INFO:__main__:Target Hypothesis: Einkaufswagen herum .\n",
      "INFO:__main__:Target Reference: ['Wagen', '.']\n",
      "INFO:__main__:IMT F1 score: 0.0\n"
     ]
    },
    {
     "name": "stdout",
     "output_type": "stream",
     "text": [
      "\n",
      "predicting target prefix: ['Drei', 'M\\xc3\\xa4nner', 'stehen', 'in', 'der', 'N\\xc3\\xa4he', 'einiger', 'Motorr\\xc3\\xa4der', 'um', 'einen', 'Wagen']"
     ]
    },
    {
     "name": "stderr",
     "output_type": "stream",
     "text": [
      "INFO:__main__:Source: Three men stand around a cart near some motorcycles . </S>\n",
      "INFO:__main__:Target Hypothesis: .\n",
      "INFO:__main__:Target Reference: ['.']\n",
      "INFO:__main__:IMT F1 score: 1.0\n"
     ]
    },
    {
     "name": "stdout",
     "output_type": "stream",
     "text": [
      "\n",
      "predicting target prefix: ['Drei', 'M\\xc3\\xa4nner', 'stehen', 'in', 'der', 'N\\xc3\\xa4he', 'einiger', 'Motorr\\xc3\\xa4der', 'um', 'einen', 'Wagen', '.']"
     ]
    },
    {
     "name": "stderr",
     "output_type": "stream",
     "text": [
      "INFO:__main__:Source: Three men stand around a cart near some motorcycles . </S>\n",
      "INFO:__main__:Target Hypothesis: </S> .\n",
      "INFO:__main__:Target Reference: []\n",
      "INFO:__main__:IMT F1 score: 0.0\n",
      "INFO:__main__:Translating segment: 28\n"
     ]
    },
    {
     "name": "stdout",
     "output_type": "stream",
     "text": [
      "\n",
      "predicting target prefix: ['Ein']"
     ]
    },
    {
     "name": "stderr",
     "output_type": "stream",
     "text": [
      "INFO:__main__:Source: A bank <UNK> standing at a counter . </S>\n",
      "INFO:__main__:Target Hypothesis: Leute steht an einem Schalter .\n",
      "INFO:__main__:Target Reference: ['Kassierer', 'steht', 'an', 'einem', 'Schalter', '.']\n",
      "INFO:__main__:IMT F1 score: 0.0\n"
     ]
    },
    {
     "name": "stdout",
     "output_type": "stream",
     "text": [
      "\n",
      "predicting target prefix: ['Ein', 'Kassierer']"
     ]
    },
    {
     "name": "stderr",
     "output_type": "stream",
     "text": [
      "INFO:__main__:Source: A bank <UNK> standing at a counter . </S>\n",
      "INFO:__main__:Target Hypothesis: steht an einem Schalter .\n",
      "INFO:__main__:Target Reference: ['steht', 'an', 'einem', 'Schalter', '.']\n",
      "INFO:__main__:IMT F1 score: 1.0\n"
     ]
    },
    {
     "name": "stdout",
     "output_type": "stream",
     "text": [
      "\n",
      "predicting target prefix: ['Ein', 'Kassierer', 'steht']"
     ]
    },
    {
     "name": "stderr",
     "output_type": "stream",
     "text": [
      "INFO:__main__:Source: A bank <UNK> standing at a counter . </S>\n",
      "INFO:__main__:Target Hypothesis: an einem Schalter .\n",
      "INFO:__main__:Target Reference: ['an', 'einem', 'Schalter', '.']\n",
      "INFO:__main__:IMT F1 score: 1.0\n"
     ]
    },
    {
     "name": "stdout",
     "output_type": "stream",
     "text": [
      "\n",
      "predicting target prefix: ['Ein', 'Kassierer', 'steht', 'an']"
     ]
    },
    {
     "name": "stderr",
     "output_type": "stream",
     "text": [
      "INFO:__main__:Source: A bank <UNK> standing at a counter . </S>\n",
      "INFO:__main__:Target Hypothesis: einem Schalter .\n",
      "INFO:__main__:Target Reference: ['einem', 'Schalter', '.']\n",
      "INFO:__main__:IMT F1 score: 1.0\n",
      "INFO:__main__:Source: A bank <UNK> standing at a counter . </S>\n",
      "INFO:__main__:Target Hypothesis: Schalter .\n",
      "INFO:__main__:Target Reference: ['Schalter', '.']\n",
      "INFO:__main__:IMT F1 score: 1.0\n"
     ]
    },
    {
     "name": "stdout",
     "output_type": "stream",
     "text": [
      "\n",
      "predicting target prefix: ['Ein', 'Kassierer', 'steht', 'an', 'einem']\n",
      "predicting target prefix: ['Ein', 'Kassierer', 'steht', 'an', 'einem', 'Schalter']"
     ]
    },
    {
     "name": "stderr",
     "output_type": "stream",
     "text": [
      "INFO:__main__:Source: A bank <UNK> standing at a counter . </S>\n",
      "INFO:__main__:Target Hypothesis: .\n",
      "INFO:__main__:Target Reference: ['.']\n",
      "INFO:__main__:IMT F1 score: 1.0\n",
      "INFO:__main__:Source: A bank <UNK> standing at a counter . </S>\n",
      "INFO:__main__:Target Hypothesis: </S> .\n",
      "INFO:__main__:Target Reference: []\n",
      "INFO:__main__:IMT F1 score: 0.0\n",
      "INFO:__main__:Translating segment: 29\n"
     ]
    },
    {
     "name": "stdout",
     "output_type": "stream",
     "text": [
      "\n",
      "predicting target prefix: ['Ein', 'Kassierer', 'steht', 'an', 'einem', 'Schalter', '.']\n",
      "predicting target prefix: ['Ein']"
     ]
    },
    {
     "name": "stderr",
     "output_type": "stream",
     "text": [
      "INFO:__main__:Source: A man in a red hoodie with a white apron stands in front of a mural . </S>\n",
      "INFO:__main__:Target Hypothesis: Mann in einem roten Pullover mit einer weißen Schürze steht vor einem Wandbild .\n",
      "INFO:__main__:Target Reference: ['Mann', 'in', 'einem', 'roten', 'Kapuzenpullover', 'und', 'einer', 'wei\\xc3\\x9fen', 'Sch\\xc3\\xbcrze', 'steht', 'vor', 'einem', 'Wandgem\\xc3\\xa4lde', '.']\n",
      "INFO:__main__:IMT F1 score: 0.285714285714\n"
     ]
    },
    {
     "name": "stdout",
     "output_type": "stream",
     "text": [
      "\n",
      "predicting target prefix: ['Ein', 'Mann']"
     ]
    },
    {
     "name": "stderr",
     "output_type": "stream",
     "text": [
      "INFO:__main__:Source: A man in a red hoodie with a white apron stands in front of a mural . </S>\n",
      "INFO:__main__:Target Hypothesis: in einem roten Pullover mit einer weißen Schürze steht vor einem Wandbild .\n",
      "INFO:__main__:Target Reference: ['in', 'einem', 'roten', 'Kapuzenpullover', 'und', 'einer', 'wei\\xc3\\x9fen', 'Sch\\xc3\\xbcrze', 'steht', 'vor', 'einem', 'Wandgem\\xc3\\xa4lde', '.']\n",
      "INFO:__main__:IMT F1 score: 0.230769230769\n"
     ]
    },
    {
     "name": "stdout",
     "output_type": "stream",
     "text": [
      "\n",
      "predicting target prefix: ['Ein', 'Mann', 'in']"
     ]
    },
    {
     "name": "stderr",
     "output_type": "stream",
     "text": [
      "INFO:__main__:Source: A man in a red hoodie with a white apron stands in front of a mural . </S>\n",
      "INFO:__main__:Target Hypothesis: einem roten Pullover mit einer weißen Schürze steht vor einem Wandbild .\n",
      "INFO:__main__:Target Reference: ['einem', 'roten', 'Kapuzenpullover', 'und', 'einer', 'wei\\xc3\\x9fen', 'Sch\\xc3\\xbcrze', 'steht', 'vor', 'einem', 'Wandgem\\xc3\\xa4lde', '.']\n",
      "INFO:__main__:IMT F1 score: 0.166666666667\n"
     ]
    },
    {
     "name": "stdout",
     "output_type": "stream",
     "text": [
      "\n",
      "predicting target prefix: ['Ein', 'Mann', 'in', 'einem']"
     ]
    },
    {
     "name": "stderr",
     "output_type": "stream",
     "text": [
      "INFO:__main__:Source: A man in a red hoodie with a white apron stands in front of a mural . </S>\n",
      "INFO:__main__:Target Hypothesis: roten Pullover mit einer weißen Schürze steht vor einem Wandbild .\n",
      "INFO:__main__:Target Reference: ['roten', 'Kapuzenpullover', 'und', 'einer', 'wei\\xc3\\x9fen', 'Sch\\xc3\\xbcrze', 'steht', 'vor', 'einem', 'Wandgem\\xc3\\xa4lde', '.']\n",
      "INFO:__main__:IMT F1 score: 0.0909090909091\n"
     ]
    },
    {
     "name": "stdout",
     "output_type": "stream",
     "text": [
      "\n",
      "predicting target prefix: ['Ein', 'Mann', 'in', 'einem', 'roten']"
     ]
    },
    {
     "name": "stderr",
     "output_type": "stream",
     "text": [
      "INFO:__main__:Source: A man in a red hoodie with a white apron stands in front of a mural . </S>\n",
      "INFO:__main__:Target Hypothesis: Pullover mit einer weißen Schürze steht vor einem Wandbild .\n",
      "INFO:__main__:Target Reference: ['Kapuzenpullover', 'und', 'einer', 'wei\\xc3\\x9fen', 'Sch\\xc3\\xbcrze', 'steht', 'vor', 'einem', 'Wandgem\\xc3\\xa4lde', '.']\n",
      "INFO:__main__:IMT F1 score: 0.0\n"
     ]
    },
    {
     "name": "stdout",
     "output_type": "stream",
     "text": [
      "\n",
      "predicting target prefix: ['Ein', 'Mann', 'in', 'einem', 'roten', 'Kapuzenpullover']"
     ]
    },
    {
     "name": "stderr",
     "output_type": "stream",
     "text": [
      "INFO:__main__:Source: A man in a red hoodie with a white apron stands in front of a mural . </S>\n",
      "INFO:__main__:Target Hypothesis: steht vor einem Wandbild .\n",
      "INFO:__main__:Target Reference: ['und', 'einer', 'wei\\xc3\\x9fen', 'Sch\\xc3\\xbcrze', 'steht', 'vor', 'einem', 'Wandgem\\xc3\\xa4lde', '.']\n",
      "INFO:__main__:IMT F1 score: 0.0\n"
     ]
    },
    {
     "name": "stdout",
     "output_type": "stream",
     "text": [
      "\n",
      "predicting target prefix: ['Ein', 'Mann', 'in', 'einem', 'roten', 'Kapuzenpullover', 'und']"
     ]
    },
    {
     "name": "stderr",
     "output_type": "stream",
     "text": [
      "INFO:__main__:Source: A man in a red hoodie with a white apron stands in front of a mural . </S>\n",
      "INFO:__main__:Target Hypothesis: mit einer weißen Schürze steht vor einem Wandbild .\n",
      "INFO:__main__:Target Reference: ['einer', 'wei\\xc3\\x9fen', 'Sch\\xc3\\xbcrze', 'steht', 'vor', 'einem', 'Wandgem\\xc3\\xa4lde', '.']\n",
      "INFO:__main__:IMT F1 score: 0.0\n"
     ]
    },
    {
     "name": "stdout",
     "output_type": "stream",
     "text": [
      "\n",
      "predicting target prefix: ['Ein', 'Mann', 'in', 'einem', 'roten', 'Kapuzenpullover', 'und', 'einer']"
     ]
    },
    {
     "name": "stderr",
     "output_type": "stream",
     "text": [
      "INFO:__main__:Source: A man in a red hoodie with a white apron stands in front of a mural . </S>\n",
      "INFO:__main__:Target Hypothesis: weißen Schürze steht vor einem Wandbild .\n",
      "INFO:__main__:Target Reference: ['wei\\xc3\\x9fen', 'Sch\\xc3\\xbcrze', 'steht', 'vor', 'einem', 'Wandgem\\xc3\\xa4lde', '.']\n",
      "INFO:__main__:IMT F1 score: 0.714285714286\n"
     ]
    },
    {
     "name": "stdout",
     "output_type": "stream",
     "text": [
      "\n",
      "predicting target prefix: ['Ein', 'Mann', 'in', 'einem', 'roten', 'Kapuzenpullover', 'und', 'einer', 'wei\\xc3\\x9fen']"
     ]
    },
    {
     "name": "stderr",
     "output_type": "stream",
     "text": [
      "INFO:__main__:Source: A man in a red hoodie with a white apron stands in front of a mural . </S>\n",
      "INFO:__main__:Target Hypothesis: Schürze steht vor einem Wandbild .\n",
      "INFO:__main__:Target Reference: ['Sch\\xc3\\xbcrze', 'steht', 'vor', 'einem', 'Wandgem\\xc3\\xa4lde', '.']\n",
      "INFO:__main__:IMT F1 score: 0.666666666667\n"
     ]
    },
    {
     "name": "stdout",
     "output_type": "stream",
     "text": [
      "\n",
      "predicting target prefix: ['Ein', 'Mann', 'in', 'einem', 'roten', 'Kapuzenpullover', 'und', 'einer', 'wei\\xc3\\x9fen', 'Sch\\xc3\\xbcrze']"
     ]
    },
    {
     "name": "stderr",
     "output_type": "stream",
     "text": [
      "INFO:__main__:Source: A man in a red hoodie with a white apron stands in front of a mural . </S>\n",
      "INFO:__main__:Target Hypothesis: steht vor einem Wandbild .\n",
      "INFO:__main__:Target Reference: ['steht', 'vor', 'einem', 'Wandgem\\xc3\\xa4lde', '.']\n",
      "INFO:__main__:IMT F1 score: 0.6\n"
     ]
    },
    {
     "name": "stdout",
     "output_type": "stream",
     "text": [
      "\n",
      "predicting target prefix: ['Ein', 'Mann', 'in', 'einem', 'roten', 'Kapuzenpullover', 'und', 'einer', 'wei\\xc3\\x9fen', 'Sch\\xc3\\xbcrze', 'steht']"
     ]
    },
    {
     "name": "stderr",
     "output_type": "stream",
     "text": [
      "INFO:__main__:Source: A man in a red hoodie with a white apron stands in front of a mural . </S>\n",
      "INFO:__main__:Target Hypothesis: vor einem Wandbild .\n",
      "INFO:__main__:Target Reference: ['vor', 'einem', 'Wandgem\\xc3\\xa4lde', '.']\n",
      "INFO:__main__:IMT F1 score: 0.5\n"
     ]
    },
    {
     "name": "stdout",
     "output_type": "stream",
     "text": [
      "\n",
      "predicting target prefix: ['Ein', 'Mann', 'in', 'einem', 'roten', 'Kapuzenpullover', 'und', 'einer', 'wei\\xc3\\x9fen', 'Sch\\xc3\\xbcrze', 'steht', 'vor']"
     ]
    },
    {
     "name": "stderr",
     "output_type": "stream",
     "text": [
      "INFO:__main__:Source: A man in a red hoodie with a white apron stands in front of a mural . </S>\n",
      "INFO:__main__:Target Hypothesis: einem Wandbild .\n",
      "INFO:__main__:Target Reference: ['einem', 'Wandgem\\xc3\\xa4lde', '.']\n",
      "INFO:__main__:IMT F1 score: 0.333333333333\n"
     ]
    },
    {
     "name": "stdout",
     "output_type": "stream",
     "text": [
      "\n",
      "predicting target prefix: ['Ein', 'Mann', 'in', 'einem', 'roten', 'Kapuzenpullover', 'und', 'einer', 'wei\\xc3\\x9fen', 'Sch\\xc3\\xbcrze', 'steht', 'vor', 'einem']"
     ]
    },
    {
     "name": "stderr",
     "output_type": "stream",
     "text": [
      "INFO:__main__:Source: A man in a red hoodie with a white apron stands in front of a mural . </S>\n",
      "INFO:__main__:Target Hypothesis: Wandbild .\n",
      "INFO:__main__:Target Reference: ['Wandgem\\xc3\\xa4lde', '.']\n",
      "INFO:__main__:IMT F1 score: 0.0\n"
     ]
    },
    {
     "name": "stdout",
     "output_type": "stream",
     "text": [
      "\n",
      "predicting target prefix: ['Ein', 'Mann', 'in', 'einem', 'roten', 'Kapuzenpullover', 'und', 'einer', 'wei\\xc3\\x9fen', 'Sch\\xc3\\xbcrze', 'steht', 'vor', 'einem', 'Wandgem\\xc3\\xa4lde']"
     ]
    },
    {
     "name": "stderr",
     "output_type": "stream",
     "text": [
      "INFO:__main__:Source: A man in a red hoodie with a white apron stands in front of a mural . </S>\n",
      "INFO:__main__:Target Hypothesis: .\n",
      "INFO:__main__:Target Reference: ['.']\n",
      "INFO:__main__:IMT F1 score: 1.0\n"
     ]
    },
    {
     "name": "stdout",
     "output_type": "stream",
     "text": [
      "\n",
      "predicting target prefix: ['Ein', 'Mann', 'in', 'einem', 'roten', 'Kapuzenpullover', 'und', 'einer', 'wei\\xc3\\x9fen', 'Sch\\xc3\\xbcrze', 'steht', 'vor', 'einem', 'Wandgem\\xc3\\xa4lde', '.']"
     ]
    },
    {
     "name": "stderr",
     "output_type": "stream",
     "text": [
      "INFO:__main__:Source: A man in a red hoodie with a white apron stands in front of a mural . </S>\n",
      "INFO:__main__:Target Hypothesis: </S> .\n",
      "INFO:__main__:Target Reference: []\n",
      "INFO:__main__:IMT F1 score: 0.0\n",
      "INFO:__main__:Translating segment: 30\n"
     ]
    },
    {
     "name": "stdout",
     "output_type": "stream",
     "text": [
      "\n",
      "predicting target prefix: ['Ein']"
     ]
    },
    {
     "name": "stderr",
     "output_type": "stream",
     "text": [
      "INFO:__main__:Source: A man is looking at one of his four flat screen computers . </S>\n",
      "INFO:__main__:Target Hypothesis: Mann betrachtet einen von Palmen gesäumten Rucksack .\n",
      "INFO:__main__:Target Reference: ['Mann', 'blickt', 'auf', 'einen', 'seiner', 'vier', 'Flachbildschirm-Computer', '.']\n",
      "INFO:__main__:IMT F1 score: 0.125\n"
     ]
    },
    {
     "name": "stdout",
     "output_type": "stream",
     "text": [
      "\n",
      "predicting target prefix: ['Ein', 'Mann']"
     ]
    },
    {
     "name": "stderr",
     "output_type": "stream",
     "text": [
      "INFO:__main__:Source: A man is looking at one of his four flat screen computers . </S>\n",
      "INFO:__main__:Target Hypothesis: betrachtet einen von Palmen gesäumten Rucksack .\n",
      "INFO:__main__:Target Reference: ['blickt', 'auf', 'einen', 'seiner', 'vier', 'Flachbildschirm-Computer', '.']\n",
      "INFO:__main__:IMT F1 score: 0.0\n"
     ]
    },
    {
     "name": "stdout",
     "output_type": "stream",
     "text": [
      "\n",
      "predicting target prefix: ['Ein', 'Mann', 'blickt']"
     ]
    },
    {
     "name": "stderr",
     "output_type": "stream",
     "text": [
      "INFO:__main__:Source: A man is looking at one of his four flat screen computers . </S>\n",
      "INFO:__main__:Target Hypothesis: auf den Vier von parallelen Stangen hindurch .\n",
      "INFO:__main__:Target Reference: ['auf', 'einen', 'seiner', 'vier', 'Flachbildschirm-Computer', '.']\n",
      "INFO:__main__:IMT F1 score: 0.142857142857\n"
     ]
    },
    {
     "name": "stdout",
     "output_type": "stream",
     "text": [
      "\n",
      "predicting target prefix: ['Ein', 'Mann', 'blickt', 'auf']"
     ]
    },
    {
     "name": "stderr",
     "output_type": "stream",
     "text": [
      "INFO:__main__:Source: A man is looking at one of his four flat screen computers . </S>\n",
      "INFO:__main__:Target Hypothesis: den Vier von parallelen Stangen hindurch .\n",
      "INFO:__main__:Target Reference: ['einen', 'seiner', 'vier', 'Flachbildschirm-Computer', '.']\n",
      "INFO:__main__:IMT F1 score: 0.0\n"
     ]
    },
    {
     "name": "stdout",
     "output_type": "stream",
     "text": [
      "\n",
      "predicting target prefix: ['Ein', 'Mann', 'blickt', 'auf', 'einen']"
     ]
    },
    {
     "name": "stderr",
     "output_type": "stream",
     "text": [
      "INFO:__main__:Source: A man is looking at one of his four flat screen computers . </S>\n",
      "INFO:__main__:Target Hypothesis: von Palmen gesäumten Rucksack .\n",
      "INFO:__main__:Target Reference: ['seiner', 'vier', 'Flachbildschirm-Computer', '.']\n",
      "INFO:__main__:IMT F1 score: 0.0\n"
     ]
    },
    {
     "name": "stdout",
     "output_type": "stream",
     "text": [
      "\n",
      "predicting target prefix: ['Ein', 'Mann', 'blickt', 'auf', 'einen', 'seiner']"
     ]
    },
    {
     "name": "stderr",
     "output_type": "stream",
     "text": [
      "INFO:__main__:Source: A man is looking at one of his four flat screen computers . </S>\n",
      "INFO:__main__:Target Hypothesis: vier von parallelen Stangen hindurch .\n",
      "INFO:__main__:Target Reference: ['vier', 'Flachbildschirm-Computer', '.']\n",
      "INFO:__main__:IMT F1 score: 0.222222222222\n"
     ]
    },
    {
     "name": "stdout",
     "output_type": "stream",
     "text": [
      "\n",
      "predicting target prefix: ['Ein', 'Mann', 'blickt', 'auf', 'einen', 'seiner', 'vier']"
     ]
    },
    {
     "name": "stderr",
     "output_type": "stream",
     "text": [
      "INFO:__main__:Source: A man is looking at one of his four flat screen computers . </S>\n",
      "INFO:__main__:Target Hypothesis: von parallelen Stangen hindurch .\n",
      "INFO:__main__:Target Reference: ['Flachbildschirm-Computer', '.']\n",
      "INFO:__main__:IMT F1 score: 0.0\n"
     ]
    },
    {
     "name": "stdout",
     "output_type": "stream",
     "text": [
      "\n",
      "predicting target prefix: ['Ein', 'Mann', 'blickt', 'auf', 'einen', 'seiner', 'vier', 'Flachbildschirm-Computer']"
     ]
    },
    {
     "name": "stderr",
     "output_type": "stream",
     "text": [
      "INFO:__main__:Source: A man is looking at one of his four flat screen computers . </S>\n",
      "INFO:__main__:Target Hypothesis: .\n",
      "INFO:__main__:Target Reference: ['.']\n",
      "INFO:__main__:IMT F1 score: 1.0\n"
     ]
    },
    {
     "name": "stdout",
     "output_type": "stream",
     "text": [
      "\n",
      "predicting target prefix: ['Ein', 'Mann', 'blickt', 'auf', 'einen', 'seiner', 'vier', 'Flachbildschirm-Computer', '.']"
     ]
    },
    {
     "name": "stderr",
     "output_type": "stream",
     "text": [
      "INFO:__main__:Source: A man is looking at one of his four flat screen computers . </S>\n",
      "INFO:__main__:Target Hypothesis: </S> .\n",
      "INFO:__main__:Target Reference: []\n",
      "INFO:__main__:IMT F1 score: 0.0\n",
      "INFO:__main__:Translating segment: 31\n"
     ]
    },
    {
     "name": "stdout",
     "output_type": "stream",
     "text": [
      "\n",
      "predicting target prefix: ['Zwei']"
     ]
    },
    {
     "name": "stderr",
     "output_type": "stream",
     "text": [
      "INFO:__main__:Source: Two people are riding their bicycles on a dirt road </S>\n",
      "INFO:__main__:Target Hypothesis: Menschen fahren mit ihren Fahrrädern auf einem Feldweg .\n",
      "INFO:__main__:Target Reference: ['Menschen', 'fahren', 'mit', 'dem', 'Fahrrad', 'auf', 'einer', 'unbefestigten', 'Stra\\xc3\\x9fe']\n",
      "INFO:__main__:IMT F1 score: 0.333333333333\n"
     ]
    },
    {
     "name": "stdout",
     "output_type": "stream",
     "text": [
      "\n",
      "predicting target prefix: ['Zwei', 'Menschen']"
     ]
    },
    {
     "name": "stderr",
     "output_type": "stream",
     "text": [
      "INFO:__main__:Source: Two people are riding their bicycles on a dirt road </S>\n",
      "INFO:__main__:Target Hypothesis: fahren mit ihren Fahrrädern auf einem Feldweg .\n",
      "INFO:__main__:Target Reference: ['fahren', 'mit', 'dem', 'Fahrrad', 'auf', 'einer', 'unbefestigten', 'Stra\\xc3\\x9fe']\n",
      "INFO:__main__:IMT F1 score: 0.25\n"
     ]
    },
    {
     "name": "stdout",
     "output_type": "stream",
     "text": [
      "\n",
      "predicting target prefix: ['Zwei', 'Menschen', 'fahren']"
     ]
    },
    {
     "name": "stderr",
     "output_type": "stream",
     "text": [
      "INFO:__main__:Source: Two people are riding their bicycles on a dirt road </S>\n",
      "INFO:__main__:Target Hypothesis: mit ihren Fahrrädern auf einem Feldweg .\n",
      "INFO:__main__:Target Reference: ['mit', 'dem', 'Fahrrad', 'auf', 'einer', 'unbefestigten', 'Stra\\xc3\\x9fe']\n",
      "INFO:__main__:IMT F1 score: 0.142857142857\n"
     ]
    },
    {
     "name": "stdout",
     "output_type": "stream",
     "text": [
      "\n",
      "predicting target prefix: ['Zwei', 'Menschen', 'fahren', 'mit']"
     ]
    },
    {
     "name": "stderr",
     "output_type": "stream",
     "text": [
      "INFO:__main__:Source: Two people are riding their bicycles on a dirt road </S>\n",
      "INFO:__main__:Target Hypothesis: ihren Fahrrädern auf einem Feldweg .\n",
      "INFO:__main__:Target Reference: ['dem', 'Fahrrad', 'auf', 'einer', 'unbefestigten', 'Stra\\xc3\\x9fe']\n",
      "INFO:__main__:IMT F1 score: 0.0\n"
     ]
    },
    {
     "name": "stdout",
     "output_type": "stream",
     "text": [
      "\n",
      "predicting target prefix: ['Zwei', 'Menschen', 'fahren', 'mit', 'dem']"
     ]
    },
    {
     "name": "stderr",
     "output_type": "stream",
     "text": [
      "INFO:__main__:Source: Two people are riding their bicycles on a dirt road </S>\n",
      "INFO:__main__:Target Hypothesis: Fahrrad auf einem Feldweg .\n",
      "INFO:__main__:Target Reference: ['Fahrrad', 'auf', 'einer', 'unbefestigten', 'Stra\\xc3\\x9fe']\n",
      "INFO:__main__:IMT F1 score: 0.4\n"
     ]
    },
    {
     "name": "stdout",
     "output_type": "stream",
     "text": [
      "\n",
      "predicting target prefix: ['Zwei', 'Menschen', 'fahren', 'mit', 'dem', 'Fahrrad']"
     ]
    },
    {
     "name": "stderr",
     "output_type": "stream",
     "text": [
      "INFO:__main__:Source: Two people are riding their bicycles on a dirt road </S>\n",
      "INFO:__main__:Target Hypothesis: auf einem Feldweg .\n",
      "INFO:__main__:Target Reference: ['auf', 'einer', 'unbefestigten', 'Stra\\xc3\\x9fe']\n",
      "INFO:__main__:IMT F1 score: 0.25\n"
     ]
    },
    {
     "name": "stdout",
     "output_type": "stream",
     "text": [
      "\n",
      "predicting target prefix: ['Zwei', 'Menschen', 'fahren', 'mit', 'dem', 'Fahrrad', 'auf']"
     ]
    },
    {
     "name": "stderr",
     "output_type": "stream",
     "text": [
      "INFO:__main__:Source: Two people are riding their bicycles on a dirt road </S>\n",
      "INFO:__main__:Target Hypothesis: einem Feldweg .\n",
      "INFO:__main__:Target Reference: ['einer', 'unbefestigten', 'Stra\\xc3\\x9fe']\n",
      "INFO:__main__:IMT F1 score: 0.0\n"
     ]
    },
    {
     "name": "stdout",
     "output_type": "stream",
     "text": [
      "\n",
      "predicting target prefix: ['Zwei', 'Menschen', 'fahren', 'mit', 'dem', 'Fahrrad', 'auf', 'einer']"
     ]
    },
    {
     "name": "stderr",
     "output_type": "stream",
     "text": [
      "INFO:__main__:Source: Two people are riding their bicycles on a dirt road </S>\n",
      "INFO:__main__:Target Hypothesis: unbefestigte Straße .\n",
      "INFO:__main__:Target Reference: ['unbefestigten', 'Stra\\xc3\\x9fe']\n",
      "INFO:__main__:IMT F1 score: 0.0\n"
     ]
    },
    {
     "name": "stdout",
     "output_type": "stream",
     "text": [
      "\n",
      "predicting target prefix: ['Zwei', 'Menschen', 'fahren', 'mit', 'dem', 'Fahrrad', 'auf', 'einer', 'unbefestigten']"
     ]
    },
    {
     "name": "stderr",
     "output_type": "stream",
     "text": [
      "INFO:__main__:Source: Two people are riding their bicycles on a dirt road </S>\n",
      "INFO:__main__:Target Hypothesis: Straße .\n",
      "INFO:__main__:Target Reference: ['Stra\\xc3\\x9fe']\n",
      "INFO:__main__:IMT F1 score: 0.666666666667\n"
     ]
    },
    {
     "name": "stdout",
     "output_type": "stream",
     "text": [
      "\n",
      "predicting target prefix: ['Zwei', 'Menschen', 'fahren', 'mit', 'dem', 'Fahrrad', 'auf', 'einer', 'unbefestigten', 'Stra\\xc3\\x9fe']"
     ]
    },
    {
     "name": "stderr",
     "output_type": "stream",
     "text": [
      "INFO:__main__:Source: Two people are riding their bicycles on a dirt road </S>\n",
      "INFO:__main__:Target Hypothesis: .\n",
      "INFO:__main__:Target Reference: []\n",
      "INFO:__main__:IMT F1 score: 0.0\n",
      "INFO:__main__:Translating segment: 32\n",
      "INFO:__main__:Source: A young dirty faced asian girl carrying a pillow . </S>\n",
      "INFO:__main__:Target Hypothesis: junger afrikanischer Herkunft trägt ein Kissen .\n",
      "INFO:__main__:Target Reference: ['kleines', 'asiatisches', 'M\\xc3\\xa4dchen', 'mit', 'schmutzigem', 'Gesicht', 'tr\\xc3\\xa4gt', 'ein', 'Kissen', '.']\n",
      "INFO:__main__:IMT F1 score: 0.0\n"
     ]
    },
    {
     "name": "stdout",
     "output_type": "stream",
     "text": [
      "\n",
      "predicting target prefix: ['Ein']\n",
      "predicting target prefix: ['Ein', 'kleines']"
     ]
    },
    {
     "name": "stderr",
     "output_type": "stream",
     "text": [
      "INFO:__main__:Source: A young dirty faced asian girl carrying a pillow . </S>\n",
      "INFO:__main__:Target Hypothesis: afrikanischer Herkunft trägt ein Kissen .\n",
      "INFO:__main__:Target Reference: ['asiatisches', 'M\\xc3\\xa4dchen', 'mit', 'schmutzigem', 'Gesicht', 'tr\\xc3\\xa4gt', 'ein', 'Kissen', '.']\n",
      "INFO:__main__:IMT F1 score: 0.0\n"
     ]
    },
    {
     "name": "stdout",
     "output_type": "stream",
     "text": [
      "\n",
      "predicting target prefix: ['Ein', 'kleines', 'asiatisches']"
     ]
    },
    {
     "name": "stderr",
     "output_type": "stream",
     "text": [
      "INFO:__main__:Source: A young dirty faced asian girl carrying a pillow . </S>\n",
      "INFO:__main__:Target Hypothesis: Mädchen , das ein Kissen trägt .\n",
      "INFO:__main__:Target Reference: ['M\\xc3\\xa4dchen', 'mit', 'schmutzigem', 'Gesicht', 'tr\\xc3\\xa4gt', 'ein', 'Kissen', '.']\n",
      "INFO:__main__:IMT F1 score: 0.133333333333\n"
     ]
    },
    {
     "name": "stdout",
     "output_type": "stream",
     "text": [
      "\n",
      "predicting target prefix: ['Ein', 'kleines', 'asiatisches', 'M\\xc3\\xa4dchen']"
     ]
    },
    {
     "name": "stderr",
     "output_type": "stream",
     "text": [
      "INFO:__main__:Source: A young dirty faced asian girl carrying a pillow . </S>\n",
      "INFO:__main__:Target Hypothesis: , das ein Kissen trägt .\n",
      "INFO:__main__:Target Reference: ['mit', 'schmutzigem', 'Gesicht', 'tr\\xc3\\xa4gt', 'ein', 'Kissen', '.']\n",
      "INFO:__main__:IMT F1 score: 0.0\n"
     ]
    },
    {
     "name": "stdout",
     "output_type": "stream",
     "text": [
      "\n",
      "predicting target prefix: ['Ein', 'kleines', 'asiatisches', 'M\\xc3\\xa4dchen', 'mit']"
     ]
    },
    {
     "name": "stderr",
     "output_type": "stream",
     "text": [
      "INFO:__main__:Source: A young dirty faced asian girl carrying a pillow . </S>\n",
      "INFO:__main__:Target Hypothesis: einem Kissen .\n",
      "INFO:__main__:Target Reference: ['schmutzigem', 'Gesicht', 'tr\\xc3\\xa4gt', 'ein', 'Kissen', '.']\n",
      "INFO:__main__:IMT F1 score: 0.0\n"
     ]
    },
    {
     "name": "stdout",
     "output_type": "stream",
     "text": [
      "\n",
      "predicting target prefix: ['Ein', 'kleines', 'asiatisches', 'M\\xc3\\xa4dchen', 'mit', 'schmutzigem']"
     ]
    },
    {
     "name": "stderr",
     "output_type": "stream",
     "text": [
      "INFO:__main__:Source: A young dirty faced asian girl carrying a pillow . </S>\n",
      "INFO:__main__:Target Hypothesis: Wasser .\n",
      "INFO:__main__:Target Reference: ['Gesicht', 'tr\\xc3\\xa4gt', 'ein', 'Kissen', '.']\n",
      "INFO:__main__:IMT F1 score: 0.0\n"
     ]
    },
    {
     "name": "stdout",
     "output_type": "stream",
     "text": [
      "\n",
      "predicting target prefix: ['Ein', 'kleines', 'asiatisches', 'M\\xc3\\xa4dchen', 'mit', 'schmutzigem', 'Gesicht']"
     ]
    },
    {
     "name": "stderr",
     "output_type": "stream",
     "text": [
      "INFO:__main__:Source: A young dirty faced asian girl carrying a pillow . </S>\n",
      "INFO:__main__:Target Hypothesis: .\n",
      "INFO:__main__:Target Reference: ['tr\\xc3\\xa4gt', 'ein', 'Kissen', '.']\n",
      "INFO:__main__:IMT F1 score: 0.0\n"
     ]
    },
    {
     "name": "stdout",
     "output_type": "stream",
     "text": [
      "\n",
      "predicting target prefix: ['Ein', 'kleines', 'asiatisches', 'M\\xc3\\xa4dchen', 'mit', 'schmutzigem', 'Gesicht', 'tr\\xc3\\xa4gt']"
     ]
    },
    {
     "name": "stderr",
     "output_type": "stream",
     "text": [
      "INFO:__main__:Source: A young dirty faced asian girl carrying a pillow . </S>\n",
      "INFO:__main__:Target Hypothesis: ein Kissen .\n",
      "INFO:__main__:Target Reference: ['ein', 'Kissen', '.']\n",
      "INFO:__main__:IMT F1 score: 1.0\n"
     ]
    },
    {
     "name": "stdout",
     "output_type": "stream",
     "text": [
      "\n",
      "predicting target prefix: ['Ein', 'kleines', 'asiatisches', 'M\\xc3\\xa4dchen', 'mit', 'schmutzigem', 'Gesicht', 'tr\\xc3\\xa4gt', 'ein']"
     ]
    },
    {
     "name": "stderr",
     "output_type": "stream",
     "text": [
      "INFO:__main__:Source: A young dirty faced asian girl carrying a pillow . </S>\n",
      "INFO:__main__:Target Hypothesis: Kissen .\n",
      "INFO:__main__:Target Reference: ['Kissen', '.']\n",
      "INFO:__main__:IMT F1 score: 1.0\n"
     ]
    },
    {
     "name": "stdout",
     "output_type": "stream",
     "text": [
      "\n",
      "predicting target prefix: ['Ein', 'kleines', 'asiatisches', 'M\\xc3\\xa4dchen', 'mit', 'schmutzigem', 'Gesicht', 'tr\\xc3\\xa4gt', 'ein', 'Kissen']"
     ]
    },
    {
     "name": "stderr",
     "output_type": "stream",
     "text": [
      "INFO:__main__:Source: A young dirty faced asian girl carrying a pillow . </S>\n",
      "INFO:__main__:Target Hypothesis: .\n",
      "INFO:__main__:Target Reference: ['.']\n",
      "INFO:__main__:IMT F1 score: 1.0\n"
     ]
    },
    {
     "name": "stdout",
     "output_type": "stream",
     "text": [
      "\n",
      "predicting target prefix: ['Ein', 'kleines', 'asiatisches', 'M\\xc3\\xa4dchen', 'mit', 'schmutzigem', 'Gesicht', 'tr\\xc3\\xa4gt', 'ein', 'Kissen', '.']"
     ]
    },
    {
     "name": "stderr",
     "output_type": "stream",
     "text": [
      "INFO:__main__:Source: A young dirty faced asian girl carrying a pillow . </S>\n",
      "INFO:__main__:Target Hypothesis: </S> .\n",
      "INFO:__main__:Target Reference: []\n",
      "INFO:__main__:IMT F1 score: 0.0\n",
      "INFO:__main__:Translating segment: 33\n"
     ]
    },
    {
     "name": "stdout",
     "output_type": "stream",
     "text": [
      "\n",
      "predicting target prefix: ['Ein']"
     ]
    },
    {
     "name": "stderr",
     "output_type": "stream",
     "text": [
      "INFO:__main__:Source: A child that is on the bank of a lake pointing something out in the sky . </S>\n",
      "INFO:__main__:Target Hypothesis: Kind steht am Waldrand .\n",
      "INFO:__main__:Target Reference: ['Kind', 'am', 'Ufer', 'eines', 'Sees', 'zeigt', 'auf', 'etwas', 'am', 'Himmel', '.']\n",
      "INFO:__main__:IMT F1 score: 0.125\n"
     ]
    },
    {
     "name": "stdout",
     "output_type": "stream",
     "text": [
      "\n",
      "predicting target prefix: ['Ein', 'Kind']"
     ]
    },
    {
     "name": "stderr",
     "output_type": "stream",
     "text": [
      "INFO:__main__:Source: A child that is on the bank of a lake pointing something out in the sky . </S>\n",
      "INFO:__main__:Target Hypothesis: auf dem Kopf zeigt auf den Himmel von oben auf den Himmel .\n",
      "INFO:__main__:Target Reference: ['am', 'Ufer', 'eines', 'Sees', 'zeigt', 'auf', 'etwas', 'am', 'Himmel', '.']\n",
      "INFO:__main__:IMT F1 score: 0.0\n"
     ]
    },
    {
     "name": "stdout",
     "output_type": "stream",
     "text": [
      "\n",
      "predicting target prefix: ['Ein', 'Kind', 'am']"
     ]
    },
    {
     "name": "stderr",
     "output_type": "stream",
     "text": [
      "INFO:__main__:Source: A child that is on the bank of a lake pointing something out in the sky . </S>\n",
      "INFO:__main__:Target Hypothesis: Ufer eines Sees auf den Himmel zeigt auf den Himmel .\n",
      "INFO:__main__:Target Reference: ['Ufer', 'eines', 'Sees', 'zeigt', 'auf', 'etwas', 'am', 'Himmel', '.']\n",
      "INFO:__main__:IMT F1 score: 0.3\n"
     ]
    },
    {
     "name": "stdout",
     "output_type": "stream",
     "text": [
      "\n",
      "predicting target prefix: ['Ein', 'Kind', 'am', 'Ufer']"
     ]
    },
    {
     "name": "stderr",
     "output_type": "stream",
     "text": [
      "INFO:__main__:Source: A child that is on the bank of a lake pointing something out in the sky . </S>\n",
      "INFO:__main__:Target Hypothesis: eines Sees auf den Himmel zeigt auf den Himmel .\n",
      "INFO:__main__:Target Reference: ['eines', 'Sees', 'zeigt', 'auf', 'etwas', 'am', 'Himmel', '.']\n",
      "INFO:__main__:IMT F1 score: 0.222222222222\n"
     ]
    },
    {
     "name": "stdout",
     "output_type": "stream",
     "text": [
      "\n",
      "predicting target prefix: ['Ein', 'Kind', 'am', 'Ufer', 'eines']"
     ]
    },
    {
     "name": "stderr",
     "output_type": "stream",
     "text": [
      "INFO:__main__:Source: A child that is on the bank of a lake pointing something out in the sky . </S>\n",
      "INFO:__main__:Target Hypothesis: Sees auf den Himmel zeigt auf den Himmel .\n",
      "INFO:__main__:Target Reference: ['Sees', 'zeigt', 'auf', 'etwas', 'am', 'Himmel', '.']\n",
      "INFO:__main__:IMT F1 score: 0.125\n"
     ]
    },
    {
     "name": "stdout",
     "output_type": "stream",
     "text": [
      "\n",
      "predicting target prefix: ['Ein', 'Kind', 'am', 'Ufer', 'eines', 'Sees']"
     ]
    },
    {
     "name": "stderr",
     "output_type": "stream",
     "text": [
      "INFO:__main__:Source: A child that is on the bank of a lake pointing something out in the sky . </S>\n",
      "INFO:__main__:Target Hypothesis: auf den Himmel zeigt auf den Himmel .\n",
      "INFO:__main__:Target Reference: ['zeigt', 'auf', 'etwas', 'am', 'Himmel', '.']\n",
      "INFO:__main__:IMT F1 score: 0.0\n"
     ]
    },
    {
     "name": "stdout",
     "output_type": "stream",
     "text": [
      "\n",
      "predicting target prefix: ['Ein', 'Kind', 'am', 'Ufer', 'eines', 'Sees', 'zeigt']"
     ]
    },
    {
     "name": "stderr",
     "output_type": "stream",
     "text": [
      "INFO:__main__:Source: A child that is on the bank of a lake pointing something out in the sky . </S>\n",
      "INFO:__main__:Target Hypothesis: auf den Himmel .\n",
      "INFO:__main__:Target Reference: ['auf', 'etwas', 'am', 'Himmel', '.']\n",
      "INFO:__main__:IMT F1 score: 0.222222222222\n"
     ]
    },
    {
     "name": "stdout",
     "output_type": "stream",
     "text": [
      "\n",
      "predicting target prefix: ['Ein', 'Kind', 'am', 'Ufer', 'eines', 'Sees', 'zeigt', 'auf']"
     ]
    },
    {
     "name": "stderr",
     "output_type": "stream",
     "text": [
      "INFO:__main__:Source: A child that is on the bank of a lake pointing something out in the sky . </S>\n",
      "INFO:__main__:Target Hypothesis: die Luft , um etwas zu werfen .\n",
      "INFO:__main__:Target Reference: ['etwas', 'am', 'Himmel', '.']\n",
      "INFO:__main__:IMT F1 score: 0.0\n"
     ]
    },
    {
     "name": "stdout",
     "output_type": "stream",
     "text": [
      "\n",
      "predicting target prefix: ['Ein', 'Kind', 'am', 'Ufer', 'eines', 'Sees', 'zeigt', 'auf', 'etwas']"
     ]
    },
    {
     "name": "stderr",
     "output_type": "stream",
     "text": [
      "INFO:__main__:Source: A child that is on the bank of a lake pointing something out in the sky . </S>\n",
      "INFO:__main__:Target Hypothesis: , die Himmel in den Himmel deutet .\n",
      "INFO:__main__:Target Reference: ['am', 'Himmel', '.']\n",
      "INFO:__main__:IMT F1 score: 0.0\n"
     ]
    },
    {
     "name": "stdout",
     "output_type": "stream",
     "text": [
      "\n",
      "predicting target prefix: ['Ein', 'Kind', 'am', 'Ufer', 'eines', 'Sees', 'zeigt', 'auf', 'etwas', 'am']"
     ]
    },
    {
     "name": "stderr",
     "output_type": "stream",
     "text": [
      "INFO:__main__:Source: A child that is on the bank of a lake pointing something out in the sky . </S>\n",
      "INFO:__main__:Target Hypothesis: Himmel .\n",
      "INFO:__main__:Target Reference: ['Himmel', '.']\n",
      "INFO:__main__:IMT F1 score: 1.0\n"
     ]
    },
    {
     "name": "stdout",
     "output_type": "stream",
     "text": [
      "\n",
      "predicting target prefix: ['Ein', 'Kind', 'am', 'Ufer', 'eines', 'Sees', 'zeigt', 'auf', 'etwas', 'am', 'Himmel']"
     ]
    },
    {
     "name": "stderr",
     "output_type": "stream",
     "text": [
      "INFO:__main__:Source: A child that is on the bank of a lake pointing something out in the sky . </S>\n",
      "INFO:__main__:Target Hypothesis: .\n",
      "INFO:__main__:Target Reference: ['.']\n",
      "INFO:__main__:IMT F1 score: 1.0\n"
     ]
    },
    {
     "name": "stdout",
     "output_type": "stream",
     "text": [
      "\n",
      "predicting target prefix: ['Ein', 'Kind', 'am', 'Ufer', 'eines', 'Sees', 'zeigt', 'auf', 'etwas', 'am', 'Himmel', '.']"
     ]
    },
    {
     "name": "stderr",
     "output_type": "stream",
     "text": [
      "INFO:__main__:Source: A child that is on the bank of a lake pointing something out in the sky . </S>\n",
      "INFO:__main__:Target Hypothesis: </S> zeigt auf etwas .\n",
      "INFO:__main__:Target Reference: []\n",
      "INFO:__main__:IMT F1 score: 0.0\n",
      "INFO:__main__:Translating segment: 34\n"
     ]
    },
    {
     "name": "stdout",
     "output_type": "stream",
     "text": [
      "\n",
      "predicting target prefix: ['Zwei']"
     ]
    },
    {
     "name": "stderr",
     "output_type": "stream",
     "text": [
      "INFO:__main__:Source: A pair of older boys play guitars . </S>\n",
      "INFO:__main__:Target Hypothesis: ältere Jungen spielen Gitarre .\n",
      "INFO:__main__:Target Reference: ['\\xc3\\xa4ltere', 'Jungen', 'spielen', 'Gitarre', '.']\n",
      "INFO:__main__:IMT F1 score: 1.0\n"
     ]
    },
    {
     "name": "stdout",
     "output_type": "stream",
     "text": [
      "\n",
      "predicting target prefix: ['Zwei', '\\xc3\\xa4ltere']"
     ]
    },
    {
     "name": "stderr",
     "output_type": "stream",
     "text": [
      "INFO:__main__:Source: A pair of older boys play guitars . </S>\n",
      "INFO:__main__:Target Hypothesis: Jungen spielen Gitarre .\n",
      "INFO:__main__:Target Reference: ['Jungen', 'spielen', 'Gitarre', '.']\n",
      "INFO:__main__:IMT F1 score: 1.0\n"
     ]
    },
    {
     "name": "stdout",
     "output_type": "stream",
     "text": [
      "\n",
      "predicting target prefix: ['Zwei', '\\xc3\\xa4ltere', 'Jungen']"
     ]
    },
    {
     "name": "stderr",
     "output_type": "stream",
     "text": [
      "INFO:__main__:Source: A pair of older boys play guitars . </S>\n",
      "INFO:__main__:Target Hypothesis: spielen Gitarre .\n",
      "INFO:__main__:Target Reference: ['spielen', 'Gitarre', '.']\n",
      "INFO:__main__:IMT F1 score: 1.0\n",
      "INFO:__main__:Source: A pair of older boys play guitars . </S>\n",
      "INFO:__main__:Target Hypothesis: Gitarre .\n",
      "INFO:__main__:Target Reference: ['Gitarre', '.']\n",
      "INFO:__main__:IMT F1 score: 1.0\n"
     ]
    },
    {
     "name": "stdout",
     "output_type": "stream",
     "text": [
      "\n",
      "predicting target prefix: ['Zwei', '\\xc3\\xa4ltere', 'Jungen', 'spielen']\n",
      "predicting target prefix: ['Zwei', '\\xc3\\xa4ltere', 'Jungen', 'spielen', 'Gitarre']"
     ]
    },
    {
     "name": "stderr",
     "output_type": "stream",
     "text": [
      "INFO:__main__:Source: A pair of older boys play guitars . </S>\n",
      "INFO:__main__:Target Hypothesis: .\n",
      "INFO:__main__:Target Reference: ['.']\n",
      "INFO:__main__:IMT F1 score: 1.0\n",
      "INFO:__main__:Source: A pair of older boys play guitars . </S>\n",
      "INFO:__main__:Target Hypothesis: </S> .\n",
      "INFO:__main__:Target Reference: []\n",
      "INFO:__main__:IMT F1 score: 0.0\n",
      "INFO:__main__:Translating segment: 35\n"
     ]
    },
    {
     "name": "stdout",
     "output_type": "stream",
     "text": [
      "\n",
      "predicting target prefix: ['Zwei', '\\xc3\\xa4ltere', 'Jungen', 'spielen', 'Gitarre', '.']\n",
      "predicting target prefix: ['Ein']"
     ]
    },
    {
     "name": "stderr",
     "output_type": "stream",
     "text": [
      "INFO:__main__:Source: A man in a white shirt and khaki pants crouches on a fallen tree trunk . </S>\n",
      "INFO:__main__:Target Hypothesis: Mann in einem weißen Hemd und khakifarbenen Hosen hockt auf einem umgestürzten Baumstamm .\n",
      "INFO:__main__:Target Reference: ['Mann', 'in', 'einem', 'wei\\xc3\\x9fen', 'T-Shirt', 'und', 'Khakihosen', 'kauert', 'auf', 'einem', 'umgest\\xc3\\xbcrzten', 'Baumstamm', '.']\n",
      "INFO:__main__:IMT F1 score: 0.296296296296\n"
     ]
    },
    {
     "name": "stdout",
     "output_type": "stream",
     "text": [
      "\n",
      "predicting target prefix: ['Ein', 'Mann']"
     ]
    },
    {
     "name": "stderr",
     "output_type": "stream",
     "text": [
      "INFO:__main__:Source: A man in a white shirt and khaki pants crouches on a fallen tree trunk . </S>\n",
      "INFO:__main__:Target Hypothesis: in einem weißen Hemd und khakifarbenen Hosen hockt auf einem umgestürzten Baumstamm .\n",
      "INFO:__main__:Target Reference: ['in', 'einem', 'wei\\xc3\\x9fen', 'T-Shirt', 'und', 'Khakihosen', 'kauert', 'auf', 'einem', 'umgest\\xc3\\xbcrzten', 'Baumstamm', '.']\n",
      "INFO:__main__:IMT F1 score: 0.24\n"
     ]
    },
    {
     "name": "stdout",
     "output_type": "stream",
     "text": [
      "\n",
      "predicting target prefix: ['Ein', 'Mann', 'in']"
     ]
    },
    {
     "name": "stderr",
     "output_type": "stream",
     "text": [
      "INFO:__main__:Source: A man in a white shirt and khaki pants crouches on a fallen tree trunk . </S>\n",
      "INFO:__main__:Target Hypothesis: einem weißen Hemd und khakifarbenen Hosen hockt auf einem umgestürzten Baumstamm .\n",
      "INFO:__main__:Target Reference: ['einem', 'wei\\xc3\\x9fen', 'T-Shirt', 'und', 'Khakihosen', 'kauert', 'auf', 'einem', 'umgest\\xc3\\xbcrzten', 'Baumstamm', '.']\n",
      "INFO:__main__:IMT F1 score: 0.173913043478\n"
     ]
    },
    {
     "name": "stdout",
     "output_type": "stream",
     "text": [
      "\n",
      "predicting target prefix: ['Ein', 'Mann', 'in', 'einem']"
     ]
    },
    {
     "name": "stderr",
     "output_type": "stream",
     "text": [
      "INFO:__main__:Source: A man in a white shirt and khaki pants crouches on a fallen tree trunk . </S>\n",
      "INFO:__main__:Target Hypothesis: weißen Hemd und khakifarbenen Hosen hockt auf einem umgestürzten Baumstamm .\n",
      "INFO:__main__:Target Reference: ['wei\\xc3\\x9fen', 'T-Shirt', 'und', 'Khakihosen', 'kauert', 'auf', 'einem', 'umgest\\xc3\\xbcrzten', 'Baumstamm', '.']\n",
      "INFO:__main__:IMT F1 score: 0.0952380952381\n"
     ]
    },
    {
     "name": "stdout",
     "output_type": "stream",
     "text": [
      "\n",
      "predicting target prefix: ['Ein', 'Mann', 'in', 'einem', 'wei\\xc3\\x9fen']"
     ]
    },
    {
     "name": "stderr",
     "output_type": "stream",
     "text": [
      "INFO:__main__:Source: A man in a white shirt and khaki pants crouches on a fallen tree trunk . </S>\n",
      "INFO:__main__:Target Hypothesis: Hemd und khakifarbenen Hosen hockt auf einem umgestürzten Baumstamm .\n",
      "INFO:__main__:Target Reference: ['T-Shirt', 'und', 'Khakihosen', 'kauert', 'auf', 'einem', 'umgest\\xc3\\xbcrzten', 'Baumstamm', '.']\n",
      "INFO:__main__:IMT F1 score: 0.0\n"
     ]
    },
    {
     "name": "stdout",
     "output_type": "stream",
     "text": [
      "\n",
      "predicting target prefix: ['Ein', 'Mann', 'in', 'einem', 'wei\\xc3\\x9fen', 'T-Shirt']"
     ]
    },
    {
     "name": "stderr",
     "output_type": "stream",
     "text": [
      "INFO:__main__:Source: A man in a white shirt and khaki pants crouches on a fallen tree trunk . </S>\n",
      "INFO:__main__:Target Hypothesis: und khakifarbenen Hosen hockt auf einem umgestürzten Baumstamm .\n",
      "INFO:__main__:Target Reference: ['und', 'Khakihosen', 'kauert', 'auf', 'einem', 'umgest\\xc3\\xbcrzten', 'Baumstamm', '.']\n",
      "INFO:__main__:IMT F1 score: 0.117647058824\n"
     ]
    },
    {
     "name": "stdout",
     "output_type": "stream",
     "text": [
      "\n",
      "predicting target prefix: ['Ein', 'Mann', 'in', 'einem', 'wei\\xc3\\x9fen', 'T-Shirt', 'und']"
     ]
    },
    {
     "name": "stderr",
     "output_type": "stream",
     "text": [
      "INFO:__main__:Source: A man in a white shirt and khaki pants crouches on a fallen tree trunk . </S>\n",
      "INFO:__main__:Target Hypothesis: khakifarbenen Hosen hockt auf einem umgestürzten Baumstamm .\n",
      "INFO:__main__:Target Reference: ['Khakihosen', 'kauert', 'auf', 'einem', 'umgest\\xc3\\xbcrzten', 'Baumstamm', '.']\n",
      "INFO:__main__:IMT F1 score: 0.0\n"
     ]
    },
    {
     "name": "stdout",
     "output_type": "stream",
     "text": [
      "\n",
      "predicting target prefix: ['Ein', 'Mann', 'in', 'einem', 'wei\\xc3\\x9fen', 'T-Shirt', 'und', 'Khakihosen']"
     ]
    },
    {
     "name": "stderr",
     "output_type": "stream",
     "text": [
      "INFO:__main__:Source: A man in a white shirt and khaki pants crouches on a fallen tree trunk . </S>\n",
      "INFO:__main__:Target Hypothesis: hockt auf einem umgestürzten Baumstamm .\n",
      "INFO:__main__:Target Reference: ['kauert', 'auf', 'einem', 'umgest\\xc3\\xbcrzten', 'Baumstamm', '.']\n",
      "INFO:__main__:IMT F1 score: 0.0\n"
     ]
    },
    {
     "name": "stdout",
     "output_type": "stream",
     "text": [
      "\n",
      "predicting target prefix: ['Ein', 'Mann', 'in', 'einem', 'wei\\xc3\\x9fen', 'T-Shirt', 'und', 'Khakihosen', 'kauert']"
     ]
    },
    {
     "name": "stderr",
     "output_type": "stream",
     "text": [
      "INFO:__main__:Source: A man in a white shirt and khaki pants crouches on a fallen tree trunk . </S>\n",
      "INFO:__main__:Target Hypothesis: an einem umgestürzten Baumstamm .\n",
      "INFO:__main__:Target Reference: ['auf', 'einem', 'umgest\\xc3\\xbcrzten', 'Baumstamm', '.']\n",
      "INFO:__main__:IMT F1 score: 0.0\n"
     ]
    },
    {
     "name": "stdout",
     "output_type": "stream",
     "text": [
      "\n",
      "predicting target prefix: ['Ein', 'Mann', 'in', 'einem', 'wei\\xc3\\x9fen', 'T-Shirt', 'und', 'Khakihosen', 'kauert', 'auf']"
     ]
    },
    {
     "name": "stderr",
     "output_type": "stream",
     "text": [
      "INFO:__main__:Source: A man in a white shirt and khaki pants crouches on a fallen tree trunk . </S>\n",
      "INFO:__main__:Target Hypothesis: einem umgestürzten Baumstamm .\n",
      "INFO:__main__:Target Reference: ['einem', 'umgest\\xc3\\xbcrzten', 'Baumstamm', '.']\n",
      "INFO:__main__:IMT F1 score: 1.0\n"
     ]
    },
    {
     "name": "stdout",
     "output_type": "stream",
     "text": [
      "\n",
      "predicting target prefix: ['Ein', 'Mann', 'in', 'einem', 'wei\\xc3\\x9fen', 'T-Shirt', 'und', 'Khakihosen', 'kauert', 'auf', 'einem']"
     ]
    },
    {
     "name": "stderr",
     "output_type": "stream",
     "text": [
      "INFO:__main__:Source: A man in a white shirt and khaki pants crouches on a fallen tree trunk . </S>\n",
      "INFO:__main__:Target Hypothesis: umgestürzten Baumstamm .\n",
      "INFO:__main__:Target Reference: ['umgest\\xc3\\xbcrzten', 'Baumstamm', '.']\n",
      "INFO:__main__:IMT F1 score: 1.0\n"
     ]
    },
    {
     "name": "stdout",
     "output_type": "stream",
     "text": [
      "\n",
      "predicting target prefix: ['Ein', 'Mann', 'in', 'einem', 'wei\\xc3\\x9fen', 'T-Shirt', 'und', 'Khakihosen', 'kauert', 'auf', 'einem', 'umgest\\xc3\\xbcrzten']"
     ]
    },
    {
     "name": "stderr",
     "output_type": "stream",
     "text": [
      "INFO:__main__:Source: A man in a white shirt and khaki pants crouches on a fallen tree trunk . </S>\n",
      "INFO:__main__:Target Hypothesis: Baumstamm .\n",
      "INFO:__main__:Target Reference: ['Baumstamm', '.']\n",
      "INFO:__main__:IMT F1 score: 1.0\n"
     ]
    },
    {
     "name": "stdout",
     "output_type": "stream",
     "text": [
      "\n",
      "predicting target prefix: ['Ein', 'Mann', 'in', 'einem', 'wei\\xc3\\x9fen', 'T-Shirt', 'und', 'Khakihosen', 'kauert', 'auf', 'einem', 'umgest\\xc3\\xbcrzten', 'Baumstamm']"
     ]
    },
    {
     "name": "stderr",
     "output_type": "stream",
     "text": [
      "INFO:__main__:Source: A man in a white shirt and khaki pants crouches on a fallen tree trunk . </S>\n",
      "INFO:__main__:Target Hypothesis: .\n",
      "INFO:__main__:Target Reference: ['.']\n",
      "INFO:__main__:IMT F1 score: 1.0\n"
     ]
    },
    {
     "name": "stdout",
     "output_type": "stream",
     "text": [
      "\n",
      "predicting target prefix: ['Ein', 'Mann', 'in', 'einem', 'wei\\xc3\\x9fen', 'T-Shirt', 'und', 'Khakihosen', 'kauert', 'auf', 'einem', 'umgest\\xc3\\xbcrzten', 'Baumstamm', '.']"
     ]
    },
    {
     "name": "stderr",
     "output_type": "stream",
     "text": [
      "INFO:__main__:Source: A man in a white shirt and khaki pants crouches on a fallen tree trunk . </S>\n",
      "INFO:__main__:Target Hypothesis: </S> .\n",
      "INFO:__main__:Target Reference: []\n",
      "INFO:__main__:IMT F1 score: 0.0\n",
      "INFO:__main__:Translating segment: 36\n"
     ]
    },
    {
     "name": "stdout",
     "output_type": "stream",
     "text": [
      "\n",
      "predicting target prefix: ['Zwei']"
     ]
    },
    {
     "name": "stderr",
     "output_type": "stream",
     "text": [
      "INFO:__main__:Source: Two boys prepare a small sailboat as two girls watch them from the beach . </S>\n",
      "INFO:__main__:Target Hypothesis: Jungen bereiten ein kleines Segelboot aus , während zwei Mädchen ihm zuschauen .\n",
      "INFO:__main__:Target Reference: ['Jungen', 'bereiten', 'ein', 'kleines', 'Segelboot', 'vor', ',', 'w\\xc3\\xa4hrend', 'ihnen', 'zwei', 'M\\xc3\\xa4dchen', 'vom', 'Strand', 'aus', 'dabei', 'zusehen', '.']\n",
      "INFO:__main__:IMT F1 score: 0.333333333333\n"
     ]
    },
    {
     "name": "stdout",
     "output_type": "stream",
     "text": [
      "\n",
      "predicting target prefix: ['Zwei', 'Jungen']"
     ]
    },
    {
     "name": "stderr",
     "output_type": "stream",
     "text": [
      "INFO:__main__:Source: Two boys prepare a small sailboat as two girls watch them from the beach . </S>\n",
      "INFO:__main__:Target Hypothesis: bereiten ein kleines Segelboot aus , während zwei Mädchen ihm zuschauen .\n",
      "INFO:__main__:Target Reference: ['bereiten', 'ein', 'kleines', 'Segelboot', 'vor', ',', 'w\\xc3\\xa4hrend', 'ihnen', 'zwei', 'M\\xc3\\xa4dchen', 'vom', 'Strand', 'aus', 'dabei', 'zusehen', '.']\n",
      "INFO:__main__:IMT F1 score: 0.285714285714\n"
     ]
    },
    {
     "name": "stdout",
     "output_type": "stream",
     "text": [
      "\n",
      "predicting target prefix: ['Zwei', 'Jungen', 'bereiten']"
     ]
    },
    {
     "name": "stderr",
     "output_type": "stream",
     "text": [
      "INFO:__main__:Source: Two boys prepare a small sailboat as two girls watch them from the beach . </S>\n",
      "INFO:__main__:Target Hypothesis: ein kleines Segelboot aus , während zwei Mädchen ihm zuschauen .\n",
      "INFO:__main__:Target Reference: ['ein', 'kleines', 'Segelboot', 'vor', ',', 'w\\xc3\\xa4hrend', 'ihnen', 'zwei', 'M\\xc3\\xa4dchen', 'vom', 'Strand', 'aus', 'dabei', 'zusehen', '.']\n",
      "INFO:__main__:IMT F1 score: 0.230769230769\n"
     ]
    },
    {
     "name": "stdout",
     "output_type": "stream",
     "text": [
      "\n",
      "predicting target prefix: ['Zwei', 'Jungen', 'bereiten', 'ein']"
     ]
    },
    {
     "name": "stderr",
     "output_type": "stream",
     "text": [
      "INFO:__main__:Source: Two boys prepare a small sailboat as two girls watch them from the beach . </S>\n",
      "INFO:__main__:Target Hypothesis: kleines Segelboot aus , während zwei Mädchen ihm zuschauen .\n",
      "INFO:__main__:Target Reference: ['kleines', 'Segelboot', 'vor', ',', 'w\\xc3\\xa4hrend', 'ihnen', 'zwei', 'M\\xc3\\xa4dchen', 'vom', 'Strand', 'aus', 'dabei', 'zusehen', '.']\n",
      "INFO:__main__:IMT F1 score: 0.166666666667\n"
     ]
    },
    {
     "name": "stdout",
     "output_type": "stream",
     "text": [
      "\n",
      "predicting target prefix: ['Zwei', 'Jungen', 'bereiten', 'ein', 'kleines']"
     ]
    },
    {
     "name": "stderr",
     "output_type": "stream",
     "text": [
      "INFO:__main__:Source: Two boys prepare a small sailboat as two girls watch them from the beach . </S>\n",
      "INFO:__main__:Target Hypothesis: Segelboot aus , während zwei Mädchen ihm zuschauen .\n",
      "INFO:__main__:Target Reference: ['Segelboot', 'vor', ',', 'w\\xc3\\xa4hrend', 'ihnen', 'zwei', 'M\\xc3\\xa4dchen', 'vom', 'Strand', 'aus', 'dabei', 'zusehen', '.']\n",
      "INFO:__main__:IMT F1 score: 0.0909090909091\n"
     ]
    },
    {
     "name": "stdout",
     "output_type": "stream",
     "text": [
      "\n",
      "predicting target prefix: ['Zwei', 'Jungen', 'bereiten', 'ein', 'kleines', 'Segelboot']"
     ]
    },
    {
     "name": "stderr",
     "output_type": "stream",
     "text": [
      "INFO:__main__:Source: Two boys prepare a small sailboat as two girls watch them from the beach . </S>\n",
      "INFO:__main__:Target Hypothesis: aus , während zwei Mädchen ihm zuschauen .\n",
      "INFO:__main__:Target Reference: ['vor', ',', 'w\\xc3\\xa4hrend', 'ihnen', 'zwei', 'M\\xc3\\xa4dchen', 'vom', 'Strand', 'aus', 'dabei', 'zusehen', '.']\n",
      "INFO:__main__:IMT F1 score: 0.0\n"
     ]
    },
    {
     "name": "stdout",
     "output_type": "stream",
     "text": [
      "\n",
      "predicting target prefix: ['Zwei', 'Jungen', 'bereiten', 'ein', 'kleines', 'Segelboot', 'vor']"
     ]
    },
    {
     "name": "stderr",
     "output_type": "stream",
     "text": [
      "INFO:__main__:Source: Two boys prepare a small sailboat as two girls watch them from the beach . </S>\n",
      "INFO:__main__:Target Hypothesis: , während zwei Mädchen ihm zuschauen .\n",
      "INFO:__main__:Target Reference: [',', 'w\\xc3\\xa4hrend', 'ihnen', 'zwei', 'M\\xc3\\xa4dchen', 'vom', 'Strand', 'aus', 'dabei', 'zusehen', '.']\n",
      "INFO:__main__:IMT F1 score: 0.222222222222\n"
     ]
    },
    {
     "name": "stdout",
     "output_type": "stream",
     "text": [
      "\n",
      "predicting target prefix: ['Zwei', 'Jungen', 'bereiten', 'ein', 'kleines', 'Segelboot', 'vor', ',']"
     ]
    },
    {
     "name": "stderr",
     "output_type": "stream",
     "text": [
      "INFO:__main__:Source: Two boys prepare a small sailboat as two girls watch them from the beach . </S>\n",
      "INFO:__main__:Target Hypothesis: während zwei Mädchen ihm zuschauen .\n",
      "INFO:__main__:Target Reference: ['w\\xc3\\xa4hrend', 'ihnen', 'zwei', 'M\\xc3\\xa4dchen', 'vom', 'Strand', 'aus', 'dabei', 'zusehen', '.']\n",
      "INFO:__main__:IMT F1 score: 0.125\n"
     ]
    },
    {
     "name": "stdout",
     "output_type": "stream",
     "text": [
      "\n",
      "predicting target prefix: ['Zwei', 'Jungen', 'bereiten', 'ein', 'kleines', 'Segelboot', 'vor', ',', 'w\\xc3\\xa4hrend']"
     ]
    },
    {
     "name": "stderr",
     "output_type": "stream",
     "text": [
      "INFO:__main__:Source: Two boys prepare a small sailboat as two girls watch them from the beach . </S>\n",
      "INFO:__main__:Target Hypothesis: zwei Mädchen ihm zuschauen .\n",
      "INFO:__main__:Target Reference: ['ihnen', 'zwei', 'M\\xc3\\xa4dchen', 'vom', 'Strand', 'aus', 'dabei', 'zusehen', '.']\n",
      "INFO:__main__:IMT F1 score: 0.0\n"
     ]
    },
    {
     "name": "stdout",
     "output_type": "stream",
     "text": [
      "\n",
      "predicting target prefix: ['Zwei', 'Jungen', 'bereiten', 'ein', 'kleines', 'Segelboot', 'vor', ',', 'w\\xc3\\xa4hrend', 'ihnen']"
     ]
    },
    {
     "name": "stderr",
     "output_type": "stream",
     "text": [
      "INFO:__main__:Source: Two boys prepare a small sailboat as two girls watch them from the beach . </S>\n",
      "INFO:__main__:Target Hypothesis: zwei Mädchen ihm zuschauen .\n",
      "INFO:__main__:Target Reference: ['zwei', 'M\\xc3\\xa4dchen', 'vom', 'Strand', 'aus', 'dabei', 'zusehen', '.']\n",
      "INFO:__main__:IMT F1 score: 0.307692307692\n"
     ]
    },
    {
     "name": "stdout",
     "output_type": "stream",
     "text": [
      "\n",
      "predicting target prefix: ['Zwei', 'Jungen', 'bereiten', 'ein', 'kleines', 'Segelboot', 'vor', ',', 'w\\xc3\\xa4hrend', 'ihnen', 'zwei']"
     ]
    },
    {
     "name": "stderr",
     "output_type": "stream",
     "text": [
      "INFO:__main__:Source: Two boys prepare a small sailboat as two girls watch them from the beach . </S>\n",
      "INFO:__main__:Target Hypothesis: Mädchen ihm zuschauen .\n",
      "INFO:__main__:Target Reference: ['M\\xc3\\xa4dchen', 'vom', 'Strand', 'aus', 'dabei', 'zusehen', '.']\n",
      "INFO:__main__:IMT F1 score: 0.181818181818\n"
     ]
    },
    {
     "name": "stdout",
     "output_type": "stream",
     "text": [
      "\n",
      "predicting target prefix: ['Zwei', 'Jungen', 'bereiten', 'ein', 'kleines', 'Segelboot', 'vor', ',', 'w\\xc3\\xa4hrend', 'ihnen', 'zwei', 'M\\xc3\\xa4dchen']"
     ]
    },
    {
     "name": "stderr",
     "output_type": "stream",
     "text": [
      "INFO:__main__:Source: Two boys prepare a small sailboat as two girls watch them from the beach . </S>\n",
      "INFO:__main__:Target Hypothesis: ihm zuschauen .\n",
      "INFO:__main__:Target Reference: ['vom', 'Strand', 'aus', 'dabei', 'zusehen', '.']\n",
      "INFO:__main__:IMT F1 score: 0.0\n"
     ]
    },
    {
     "name": "stdout",
     "output_type": "stream",
     "text": [
      "\n",
      "predicting target prefix: ['Zwei', 'Jungen', 'bereiten', 'ein', 'kleines', 'Segelboot', 'vor', ',', 'w\\xc3\\xa4hrend', 'ihnen', 'zwei', 'M\\xc3\\xa4dchen', 'vom']"
     ]
    },
    {
     "name": "stderr",
     "output_type": "stream",
     "text": [
      "INFO:__main__:Source: Two boys prepare a small sailboat as two girls watch them from the beach . </S>\n",
      "INFO:__main__:Target Hypothesis: Strand zuschauen .\n",
      "INFO:__main__:Target Reference: ['Strand', 'aus', 'dabei', 'zusehen', '.']\n",
      "INFO:__main__:IMT F1 score: 0.25\n"
     ]
    },
    {
     "name": "stdout",
     "output_type": "stream",
     "text": [
      "\n",
      "predicting target prefix: ['Zwei', 'Jungen', 'bereiten', 'ein', 'kleines', 'Segelboot', 'vor', ',', 'w\\xc3\\xa4hrend', 'ihnen', 'zwei', 'M\\xc3\\xa4dchen', 'vom', 'Strand']"
     ]
    },
    {
     "name": "stderr",
     "output_type": "stream",
     "text": [
      "INFO:__main__:Source: Two boys prepare a small sailboat as two girls watch them from the beach . </S>\n",
      "INFO:__main__:Target Hypothesis: zuschauen .\n",
      "INFO:__main__:Target Reference: ['aus', 'dabei', 'zusehen', '.']\n",
      "INFO:__main__:IMT F1 score: 0.0\n"
     ]
    },
    {
     "name": "stdout",
     "output_type": "stream",
     "text": [
      "\n",
      "predicting target prefix: ['Zwei', 'Jungen', 'bereiten', 'ein', 'kleines', 'Segelboot', 'vor', ',', 'w\\xc3\\xa4hrend', 'ihnen', 'zwei', 'M\\xc3\\xa4dchen', 'vom', 'Strand', 'aus']"
     ]
    },
    {
     "name": "stderr",
     "output_type": "stream",
     "text": [
      "INFO:__main__:Source: Two boys prepare a small sailboat as two girls watch them from the beach . </S>\n",
      "INFO:__main__:Target Hypothesis: .\n",
      "INFO:__main__:Target Reference: ['dabei', 'zusehen', '.']\n",
      "INFO:__main__:IMT F1 score: 0.0\n"
     ]
    },
    {
     "name": "stdout",
     "output_type": "stream",
     "text": [
      "\n",
      "predicting target prefix: ['Zwei', 'Jungen', 'bereiten', 'ein', 'kleines', 'Segelboot', 'vor', ',', 'w\\xc3\\xa4hrend', 'ihnen', 'zwei', 'M\\xc3\\xa4dchen', 'vom', 'Strand', 'aus', 'dabei']"
     ]
    },
    {
     "name": "stderr",
     "output_type": "stream",
     "text": [
      "INFO:__main__:Source: Two boys prepare a small sailboat as two girls watch them from the beach . </S>\n",
      "INFO:__main__:Target Hypothesis: zuschauen .\n",
      "INFO:__main__:Target Reference: ['zusehen', '.']\n",
      "INFO:__main__:IMT F1 score: 0.0\n"
     ]
    },
    {
     "name": "stdout",
     "output_type": "stream",
     "text": [
      "\n",
      "predicting target prefix: ['Zwei', 'Jungen', 'bereiten', 'ein', 'kleines', 'Segelboot', 'vor', ',', 'w\\xc3\\xa4hrend', 'ihnen', 'zwei', 'M\\xc3\\xa4dchen', 'vom', 'Strand', 'aus', 'dabei', 'zusehen']"
     ]
    },
    {
     "name": "stderr",
     "output_type": "stream",
     "text": [
      "INFO:__main__:Source: Two boys prepare a small sailboat as two girls watch them from the beach . </S>\n",
      "INFO:__main__:Target Hypothesis: .\n",
      "INFO:__main__:Target Reference: ['.']\n",
      "INFO:__main__:IMT F1 score: 1.0\n"
     ]
    },
    {
     "name": "stdout",
     "output_type": "stream",
     "text": [
      "\n",
      "predicting target prefix: ['Zwei', 'Jungen', 'bereiten', 'ein', 'kleines', 'Segelboot', 'vor', ',', 'w\\xc3\\xa4hrend', 'ihnen', 'zwei', 'M\\xc3\\xa4dchen', 'vom', 'Strand', 'aus', 'dabei', 'zusehen', '.']"
     ]
    },
    {
     "name": "stderr",
     "output_type": "stream",
     "text": [
      "INFO:__main__:Source: Two boys prepare a small sailboat as two girls watch them from the beach . </S>\n",
      "INFO:__main__:Target Hypothesis: </S> .\n",
      "INFO:__main__:Target Reference: []\n",
      "INFO:__main__:IMT F1 score: 0.0\n",
      "INFO:__main__:Translating segment: 37\n"
     ]
    },
    {
     "name": "stdout",
     "output_type": "stream",
     "text": [
      "\n",
      "predicting target prefix: ['Ein']"
     ]
    },
    {
     "name": "stderr",
     "output_type": "stream",
     "text": [
      "INFO:__main__:Source: An old man dressed in med-evil clothing holds an axe while standing on a hill . </S>\n",
      "INFO:__main__:Target Hypothesis: alter Mann in farbenfroher Kleidung hält eine Axt auf einem Hügel .\n",
      "INFO:__main__:Target Reference: ['Mann', 'in', 'mittelalterlicher', 'Kleidung', 'steht', 'auf', 'einem', 'H\\xc3\\xbcgel', 'und', 'h\\xc3\\xa4lt', 'dabei', 'eine', 'Axt', '.']\n",
      "INFO:__main__:IMT F1 score: 0.0\n"
     ]
    },
    {
     "name": "stdout",
     "output_type": "stream",
     "text": [
      "\n",
      "predicting target prefix: ['Ein', 'Mann']"
     ]
    },
    {
     "name": "stderr",
     "output_type": "stream",
     "text": [
      "INFO:__main__:Source: An old man dressed in med-evil clothing holds an axe while standing on a hill . </S>\n",
      "INFO:__main__:Target Hypothesis: in farbenfroher Kleidung hält eine Axt auf einem Hügel .\n",
      "INFO:__main__:Target Reference: ['in', 'mittelalterlicher', 'Kleidung', 'steht', 'auf', 'einem', 'H\\xc3\\xbcgel', 'und', 'h\\xc3\\xa4lt', 'dabei', 'eine', 'Axt', '.']\n",
      "INFO:__main__:IMT F1 score: 0.0869565217391\n"
     ]
    },
    {
     "name": "stdout",
     "output_type": "stream",
     "text": [
      "\n",
      "predicting target prefix: ['Ein', 'Mann', 'in']"
     ]
    },
    {
     "name": "stderr",
     "output_type": "stream",
     "text": [
      "INFO:__main__:Source: An old man dressed in med-evil clothing holds an axe while standing on a hill . </S>\n",
      "INFO:__main__:Target Hypothesis: farbenfroher Kleidung hält eine Axt auf einem Hügel .\n",
      "INFO:__main__:Target Reference: ['mittelalterlicher', 'Kleidung', 'steht', 'auf', 'einem', 'H\\xc3\\xbcgel', 'und', 'h\\xc3\\xa4lt', 'dabei', 'eine', 'Axt', '.']\n",
      "INFO:__main__:IMT F1 score: 0.0\n"
     ]
    },
    {
     "name": "stdout",
     "output_type": "stream",
     "text": [
      "\n",
      "predicting target prefix: ['Ein', 'Mann', 'in', 'mittelalterlicher']"
     ]
    },
    {
     "name": "stderr",
     "output_type": "stream",
     "text": [
      "INFO:__main__:Source: An old man dressed in med-evil clothing holds an axe while standing on a hill . </S>\n",
      "INFO:__main__:Target Hypothesis: Kleidung hält eine Axt auf einem Hügel .\n",
      "INFO:__main__:Target Reference: ['Kleidung', 'steht', 'auf', 'einem', 'H\\xc3\\xbcgel', 'und', 'h\\xc3\\xa4lt', 'dabei', 'eine', 'Axt', '.']\n",
      "INFO:__main__:IMT F1 score: 0.105263157895\n"
     ]
    },
    {
     "name": "stdout",
     "output_type": "stream",
     "text": [
      "\n",
      "predicting target prefix: ['Ein', 'Mann', 'in', 'mittelalterlicher', 'Kleidung']"
     ]
    },
    {
     "name": "stderr",
     "output_type": "stream",
     "text": [
      "INFO:__main__:Source: An old man dressed in med-evil clothing holds an axe while standing on a hill . </S>\n",
      "INFO:__main__:Target Hypothesis: hält eine Axt auf einem Hügel .\n",
      "INFO:__main__:Target Reference: ['steht', 'auf', 'einem', 'H\\xc3\\xbcgel', 'und', 'h\\xc3\\xa4lt', 'dabei', 'eine', 'Axt', '.']\n",
      "INFO:__main__:IMT F1 score: 0.0\n"
     ]
    },
    {
     "name": "stdout",
     "output_type": "stream",
     "text": [
      "\n",
      "predicting target prefix: ['Ein', 'Mann', 'in', 'mittelalterlicher', 'Kleidung', 'steht']"
     ]
    },
    {
     "name": "stderr",
     "output_type": "stream",
     "text": [
      "INFO:__main__:Source: An old man dressed in med-evil clothing holds an axe while standing on a hill . </S>\n",
      "INFO:__main__:Target Hypothesis: auf einem Hügel .\n",
      "INFO:__main__:Target Reference: ['auf', 'einem', 'H\\xc3\\xbcgel', 'und', 'h\\xc3\\xa4lt', 'dabei', 'eine', 'Axt', '.']\n",
      "INFO:__main__:IMT F1 score: 0.461538461538\n"
     ]
    },
    {
     "name": "stdout",
     "output_type": "stream",
     "text": [
      "\n",
      "predicting target prefix: ['Ein', 'Mann', 'in', 'mittelalterlicher', 'Kleidung', 'steht', 'auf']"
     ]
    },
    {
     "name": "stderr",
     "output_type": "stream",
     "text": [
      "INFO:__main__:Source: An old man dressed in med-evil clothing holds an axe while standing on a hill . </S>\n",
      "INFO:__main__:Target Hypothesis: einem Hügel .\n",
      "INFO:__main__:Target Reference: ['einem', 'H\\xc3\\xbcgel', 'und', 'h\\xc3\\xa4lt', 'dabei', 'eine', 'Axt', '.']\n",
      "INFO:__main__:IMT F1 score: 0.363636363636\n"
     ]
    },
    {
     "name": "stdout",
     "output_type": "stream",
     "text": [
      "\n",
      "predicting target prefix: ['Ein', 'Mann', 'in', 'mittelalterlicher', 'Kleidung', 'steht', 'auf', 'einem']"
     ]
    },
    {
     "name": "stderr",
     "output_type": "stream",
     "text": [
      "INFO:__main__:Source: An old man dressed in med-evil clothing holds an axe while standing on a hill . </S>\n",
      "INFO:__main__:Target Hypothesis: Hügel .\n",
      "INFO:__main__:Target Reference: ['H\\xc3\\xbcgel', 'und', 'h\\xc3\\xa4lt', 'dabei', 'eine', 'Axt', '.']\n",
      "INFO:__main__:IMT F1 score: 0.222222222222\n"
     ]
    },
    {
     "name": "stdout",
     "output_type": "stream",
     "text": [
      "\n",
      "predicting target prefix: ['Ein', 'Mann', 'in', 'mittelalterlicher', 'Kleidung', 'steht', 'auf', 'einem', 'H\\xc3\\xbcgel']"
     ]
    },
    {
     "name": "stderr",
     "output_type": "stream",
     "text": [
      "INFO:__main__:Source: An old man dressed in med-evil clothing holds an axe while standing on a hill . </S>\n",
      "INFO:__main__:Target Hypothesis: .\n",
      "INFO:__main__:Target Reference: ['und', 'h\\xc3\\xa4lt', 'dabei', 'eine', 'Axt', '.']\n",
      "INFO:__main__:IMT F1 score: 0.0\n"
     ]
    },
    {
     "name": "stdout",
     "output_type": "stream",
     "text": [
      "\n",
      "predicting target prefix: ['Ein', 'Mann', 'in', 'mittelalterlicher', 'Kleidung', 'steht', 'auf', 'einem', 'H\\xc3\\xbcgel', 'und']"
     ]
    },
    {
     "name": "stderr",
     "output_type": "stream",
     "text": [
      "INFO:__main__:Source: An old man dressed in med-evil clothing holds an axe while standing on a hill . </S>\n",
      "INFO:__main__:Target Hypothesis: eine Axt .\n",
      "INFO:__main__:Target Reference: ['h\\xc3\\xa4lt', 'dabei', 'eine', 'Axt', '.']\n",
      "INFO:__main__:IMT F1 score: 0.0\n"
     ]
    },
    {
     "name": "stdout",
     "output_type": "stream",
     "text": [
      "\n",
      "predicting target prefix: ['Ein', 'Mann', 'in', 'mittelalterlicher', 'Kleidung', 'steht', 'auf', 'einem', 'H\\xc3\\xbcgel', 'und', 'h\\xc3\\xa4lt']"
     ]
    },
    {
     "name": "stderr",
     "output_type": "stream",
     "text": [
      "INFO:__main__:Source: An old man dressed in med-evil clothing holds an axe while standing on a hill . </S>\n",
      "INFO:__main__:Target Hypothesis: eine Axt .\n",
      "INFO:__main__:Target Reference: ['dabei', 'eine', 'Axt', '.']\n",
      "INFO:__main__:IMT F1 score: 0.0\n"
     ]
    },
    {
     "name": "stdout",
     "output_type": "stream",
     "text": [
      "\n",
      "predicting target prefix: ['Ein', 'Mann', 'in', 'mittelalterlicher', 'Kleidung', 'steht', 'auf', 'einem', 'H\\xc3\\xbcgel', 'und', 'h\\xc3\\xa4lt', 'dabei']"
     ]
    },
    {
     "name": "stderr",
     "output_type": "stream",
     "text": [
      "INFO:__main__:Source: An old man dressed in med-evil clothing holds an axe while standing on a hill . </S>\n",
      "INFO:__main__:Target Hypothesis: eine Axt .\n",
      "INFO:__main__:Target Reference: ['eine', 'Axt', '.']\n",
      "INFO:__main__:IMT F1 score: 1.0\n"
     ]
    },
    {
     "name": "stdout",
     "output_type": "stream",
     "text": [
      "\n",
      "predicting target prefix: ['Ein', 'Mann', 'in', 'mittelalterlicher', 'Kleidung', 'steht', 'auf', 'einem', 'H\\xc3\\xbcgel', 'und', 'h\\xc3\\xa4lt', 'dabei', 'eine']"
     ]
    },
    {
     "name": "stderr",
     "output_type": "stream",
     "text": [
      "INFO:__main__:Source: An old man dressed in med-evil clothing holds an axe while standing on a hill . </S>\n",
      "INFO:__main__:Target Hypothesis: Axt .\n",
      "INFO:__main__:Target Reference: ['Axt', '.']\n",
      "INFO:__main__:IMT F1 score: 1.0\n"
     ]
    },
    {
     "name": "stdout",
     "output_type": "stream",
     "text": [
      "\n",
      "predicting target prefix: ['Ein', 'Mann', 'in', 'mittelalterlicher', 'Kleidung', 'steht', 'auf', 'einem', 'H\\xc3\\xbcgel', 'und', 'h\\xc3\\xa4lt', 'dabei', 'eine', 'Axt']"
     ]
    },
    {
     "name": "stderr",
     "output_type": "stream",
     "text": [
      "INFO:__main__:Source: An old man dressed in med-evil clothing holds an axe while standing on a hill . </S>\n",
      "INFO:__main__:Target Hypothesis: .\n",
      "INFO:__main__:Target Reference: ['.']\n",
      "INFO:__main__:IMT F1 score: 1.0\n"
     ]
    },
    {
     "name": "stdout",
     "output_type": "stream",
     "text": [
      "\n",
      "predicting target prefix: ['Ein', 'Mann', 'in', 'mittelalterlicher', 'Kleidung', 'steht', 'auf', 'einem', 'H\\xc3\\xbcgel', 'und', 'h\\xc3\\xa4lt', 'dabei', 'eine', 'Axt', '.']"
     ]
    },
    {
     "name": "stderr",
     "output_type": "stream",
     "text": [
      "INFO:__main__:Source: An old man dressed in med-evil clothing holds an axe while standing on a hill . </S>\n",
      "INFO:__main__:Target Hypothesis: </S> .\n",
      "INFO:__main__:Target Reference: []\n",
      "INFO:__main__:IMT F1 score: 0.0\n",
      "INFO:__main__:Translating segment: 38\n"
     ]
    },
    {
     "name": "stdout",
     "output_type": "stream",
     "text": [
      "\n",
      "predicting target prefix: ['Drei']"
     ]
    },
    {
     "name": "stderr",
     "output_type": "stream",
     "text": [
      "INFO:__main__:Source: Three people are on the beach kneeling or standing near the water . </S>\n",
      "INFO:__main__:Target Hypothesis: Menschen am Strand kniet oder stehen neben dem Wasser .\n",
      "INFO:__main__:Target Reference: ['Menschen', 'knien', 'oder', 'stehen', 'in', 'der', 'N\\xc3\\xa4he', 'des', 'Wassers', 'am', 'Strand', '.']\n",
      "INFO:__main__:IMT F1 score: 0.0909090909091\n"
     ]
    },
    {
     "name": "stdout",
     "output_type": "stream",
     "text": [
      "\n",
      "predicting target prefix: ['Drei', 'Menschen']"
     ]
    },
    {
     "name": "stderr",
     "output_type": "stream",
     "text": [
      "INFO:__main__:Source: Three people are on the beach kneeling or standing near the water . </S>\n",
      "INFO:__main__:Target Hypothesis: am Strand kniet oder stehen neben dem Wasser .\n",
      "INFO:__main__:Target Reference: ['knien', 'oder', 'stehen', 'in', 'der', 'N\\xc3\\xa4he', 'des', 'Wassers', 'am', 'Strand', '.']\n",
      "INFO:__main__:IMT F1 score: 0.0\n"
     ]
    },
    {
     "name": "stdout",
     "output_type": "stream",
     "text": [
      "\n",
      "predicting target prefix: ['Drei', 'Menschen', 'knien']"
     ]
    },
    {
     "name": "stderr",
     "output_type": "stream",
     "text": [
      "INFO:__main__:Source: Three people are on the beach kneeling or standing near the water . </S>\n",
      "INFO:__main__:Target Hypothesis: am Strand und stehen neben dem Wasser .\n",
      "INFO:__main__:Target Reference: ['oder', 'stehen', 'in', 'der', 'N\\xc3\\xa4he', 'des', 'Wassers', 'am', 'Strand', '.']\n",
      "INFO:__main__:IMT F1 score: 0.0\n"
     ]
    },
    {
     "name": "stdout",
     "output_type": "stream",
     "text": [
      "\n",
      "predicting target prefix: ['Drei', 'Menschen', 'knien', 'oder']"
     ]
    },
    {
     "name": "stderr",
     "output_type": "stream",
     "text": [
      "INFO:__main__:Source: Three people are on the beach kneeling or standing near the water . </S>\n",
      "INFO:__main__:Target Hypothesis: stehen neben dem Wasser .\n",
      "INFO:__main__:Target Reference: ['stehen', 'in', 'der', 'N\\xc3\\xa4he', 'des', 'Wassers', 'am', 'Strand', '.']\n",
      "INFO:__main__:IMT F1 score: 0.142857142857\n"
     ]
    },
    {
     "name": "stdout",
     "output_type": "stream",
     "text": [
      "\n",
      "predicting target prefix: ['Drei', 'Menschen', 'knien', 'oder', 'stehen']"
     ]
    },
    {
     "name": "stderr",
     "output_type": "stream",
     "text": [
      "INFO:__main__:Source: Three people are on the beach kneeling or standing near the water . </S>\n",
      "INFO:__main__:Target Hypothesis: neben dem Wasser .\n",
      "INFO:__main__:Target Reference: ['in', 'der', 'N\\xc3\\xa4he', 'des', 'Wassers', 'am', 'Strand', '.']\n",
      "INFO:__main__:IMT F1 score: 0.0\n"
     ]
    },
    {
     "name": "stdout",
     "output_type": "stream",
     "text": [
      "\n",
      "predicting target prefix: ['Drei', 'Menschen', 'knien', 'oder', 'stehen', 'in']"
     ]
    },
    {
     "name": "stderr",
     "output_type": "stream",
     "text": [
      "INFO:__main__:Source: Three people are on the beach kneeling or standing near the water . </S>\n",
      "INFO:__main__:Target Hypothesis: der Nähe von dem Wasser .\n",
      "INFO:__main__:Target Reference: ['der', 'N\\xc3\\xa4he', 'des', 'Wassers', 'am', 'Strand', '.']\n",
      "INFO:__main__:IMT F1 score: 0.307692307692\n"
     ]
    },
    {
     "name": "stdout",
     "output_type": "stream",
     "text": [
      "\n",
      "predicting target prefix: ['Drei', 'Menschen', 'knien', 'oder', 'stehen', 'in', 'der']"
     ]
    },
    {
     "name": "stderr",
     "output_type": "stream",
     "text": [
      "INFO:__main__:Source: Three people are on the beach kneeling or standing near the water . </S>\n",
      "INFO:__main__:Target Hypothesis: Nähe von dem Wasser .\n",
      "INFO:__main__:Target Reference: ['N\\xc3\\xa4he', 'des', 'Wassers', 'am', 'Strand', '.']\n",
      "INFO:__main__:IMT F1 score: 0.181818181818\n"
     ]
    },
    {
     "name": "stdout",
     "output_type": "stream",
     "text": [
      "\n",
      "predicting target prefix: ['Drei', 'Menschen', 'knien', 'oder', 'stehen', 'in', 'der', 'N\\xc3\\xa4he']"
     ]
    },
    {
     "name": "stderr",
     "output_type": "stream",
     "text": [
      "INFO:__main__:Source: Three people are on the beach kneeling or standing near the water . </S>\n",
      "INFO:__main__:Target Hypothesis: von dem Wasser .\n",
      "INFO:__main__:Target Reference: ['des', 'Wassers', 'am', 'Strand', '.']\n",
      "INFO:__main__:IMT F1 score: 0.0\n"
     ]
    },
    {
     "name": "stdout",
     "output_type": "stream",
     "text": [
      "\n",
      "predicting target prefix: ['Drei', 'Menschen', 'knien', 'oder', 'stehen', 'in', 'der', 'N\\xc3\\xa4he', 'des']"
     ]
    },
    {
     "name": "stderr",
     "output_type": "stream",
     "text": [
      "INFO:__main__:Source: Three people are on the beach kneeling or standing near the water . </S>\n",
      "INFO:__main__:Target Hypothesis: Schwimmbeckens auf dem Wasser .\n",
      "INFO:__main__:Target Reference: ['Wassers', 'am', 'Strand', '.']\n",
      "INFO:__main__:IMT F1 score: 0.0\n"
     ]
    },
    {
     "name": "stdout",
     "output_type": "stream",
     "text": [
      "\n",
      "predicting target prefix: ['Drei', 'Menschen', 'knien', 'oder', 'stehen', 'in', 'der', 'N\\xc3\\xa4he', 'des', 'Wassers']"
     ]
    },
    {
     "name": "stderr",
     "output_type": "stream",
     "text": [
      "INFO:__main__:Source: Three people are on the beach kneeling or standing near the water . </S>\n",
      "INFO:__main__:Target Hypothesis: .\n",
      "INFO:__main__:Target Reference: ['am', 'Strand', '.']\n",
      "INFO:__main__:IMT F1 score: 0.0\n"
     ]
    },
    {
     "name": "stdout",
     "output_type": "stream",
     "text": [
      "\n",
      "predicting target prefix: ['Drei', 'Menschen', 'knien', 'oder', 'stehen', 'in', 'der', 'N\\xc3\\xa4he', 'des', 'Wassers', 'am']"
     ]
    },
    {
     "name": "stderr",
     "output_type": "stream",
     "text": [
      "INFO:__main__:Source: Three people are on the beach kneeling or standing near the water . </S>\n",
      "INFO:__main__:Target Hypothesis: Strand .\n",
      "INFO:__main__:Target Reference: ['Strand', '.']\n",
      "INFO:__main__:IMT F1 score: 1.0\n"
     ]
    },
    {
     "name": "stdout",
     "output_type": "stream",
     "text": [
      "\n",
      "predicting target prefix: ['Drei', 'Menschen', 'knien', 'oder', 'stehen', 'in', 'der', 'N\\xc3\\xa4he', 'des', 'Wassers', 'am', 'Strand']"
     ]
    },
    {
     "name": "stderr",
     "output_type": "stream",
     "text": [
      "INFO:__main__:Source: Three people are on the beach kneeling or standing near the water . </S>\n",
      "INFO:__main__:Target Hypothesis: .\n",
      "INFO:__main__:Target Reference: ['.']\n",
      "INFO:__main__:IMT F1 score: 1.0\n"
     ]
    },
    {
     "name": "stdout",
     "output_type": "stream",
     "text": [
      "\n",
      "predicting target prefix: ['Drei', 'Menschen', 'knien', 'oder', 'stehen', 'in', 'der', 'N\\xc3\\xa4he', 'des', 'Wassers', 'am', 'Strand', '.']"
     ]
    },
    {
     "name": "stderr",
     "output_type": "stream",
     "text": [
      "INFO:__main__:Source: Three people are on the beach kneeling or standing near the water . </S>\n",
      "INFO:__main__:Target Hypothesis: </S> .\n",
      "INFO:__main__:Target Reference: []\n",
      "INFO:__main__:IMT F1 score: 0.0\n",
      "INFO:__main__:Translating segment: 39\n"
     ]
    },
    {
     "name": "stdout",
     "output_type": "stream",
     "text": [
      "\n",
      "predicting target prefix: ['Ein']"
     ]
    },
    {
     "name": "stderr",
     "output_type": "stream",
     "text": [
      "INFO:__main__:Source: A man in a yellow top stand in front of a small shack , as viewed from above through wire mesh . </S>\n",
      "INFO:__main__:Target Hypothesis: Mann in einem gelben Oberteil steht vor einem kleinen Acker , die von oben auf Rädern .\n",
      "INFO:__main__:Target Reference: ['Mann', 'in', 'einem', 'gelben', 'Oberteil', ',', 'der', 'vor', 'einer', 'kleinen', 'Baracke', 'steht', ',', 'ist', 'von', 'oben', 'durch', 'ein', 'Drahtgeflecht', 'zu', 'sehen', '.']\n",
      "INFO:__main__:IMT F1 score: 0.25641025641\n"
     ]
    },
    {
     "name": "stdout",
     "output_type": "stream",
     "text": [
      "\n",
      "predicting target prefix: ['Ein', 'Mann']"
     ]
    },
    {
     "name": "stderr",
     "output_type": "stream",
     "text": [
      "INFO:__main__:Source: A man in a yellow top stand in front of a small shack , as viewed from above through wire mesh . </S>\n",
      "INFO:__main__:Target Hypothesis: in einem gelben Oberteil steht vor einem kleinen Acker , die von oben auf Rädern .\n",
      "INFO:__main__:Target Reference: ['in', 'einem', 'gelben', 'Oberteil', ',', 'der', 'vor', 'einer', 'kleinen', 'Baracke', 'steht', ',', 'ist', 'von', 'oben', 'durch', 'ein', 'Drahtgeflecht', 'zu', 'sehen', '.']\n",
      "INFO:__main__:IMT F1 score: 0.216216216216\n"
     ]
    },
    {
     "name": "stdout",
     "output_type": "stream",
     "text": [
      "\n",
      "predicting target prefix: ['Ein', 'Mann', 'in']"
     ]
    },
    {
     "name": "stderr",
     "output_type": "stream",
     "text": [
      "INFO:__main__:Source: A man in a yellow top stand in front of a small shack , as viewed from above through wire mesh . </S>\n",
      "INFO:__main__:Target Hypothesis: einem gelben Oberteil steht vor einem kleinen Acker , die von oben auf Rädern .\n",
      "INFO:__main__:Target Reference: ['einem', 'gelben', 'Oberteil', ',', 'der', 'vor', 'einer', 'kleinen', 'Baracke', 'steht', ',', 'ist', 'von', 'oben', 'durch', 'ein', 'Drahtgeflecht', 'zu', 'sehen', '.']\n",
      "INFO:__main__:IMT F1 score: 0.171428571429\n"
     ]
    },
    {
     "name": "stdout",
     "output_type": "stream",
     "text": [
      "\n",
      "predicting target prefix: ['Ein', 'Mann', 'in', 'einem']"
     ]
    },
    {
     "name": "stderr",
     "output_type": "stream",
     "text": [
      "INFO:__main__:Source: A man in a yellow top stand in front of a small shack , as viewed from above through wire mesh . </S>\n",
      "INFO:__main__:Target Hypothesis: gelben Oberteil steht vor einem kleinen Acker , als sie von oben auf Rädern ausgestellt ist .\n",
      "INFO:__main__:Target Reference: ['gelben', 'Oberteil', ',', 'der', 'vor', 'einer', 'kleinen', 'Baracke', 'steht', ',', 'ist', 'von', 'oben', 'durch', 'ein', 'Drahtgeflecht', 'zu', 'sehen', '.']\n",
      "INFO:__main__:IMT F1 score: 0.111111111111\n"
     ]
    },
    {
     "name": "stdout",
     "output_type": "stream",
     "text": [
      "\n",
      "predicting target prefix: ['Ein', 'Mann', 'in', 'einem', 'gelben']"
     ]
    },
    {
     "name": "stderr",
     "output_type": "stream",
     "text": [
      "INFO:__main__:Source: A man in a yellow top stand in front of a small shack , as viewed from above through wire mesh . </S>\n",
      "INFO:__main__:Target Hypothesis: Oberteil steht vor einem kleinen Acker , als sie von oben auf Rädern ausgestellt ist .\n",
      "INFO:__main__:Target Reference: ['Oberteil', ',', 'der', 'vor', 'einer', 'kleinen', 'Baracke', 'steht', ',', 'ist', 'von', 'oben', 'durch', 'ein', 'Drahtgeflecht', 'zu', 'sehen', '.']\n",
      "INFO:__main__:IMT F1 score: 0.0588235294118\n"
     ]
    },
    {
     "name": "stdout",
     "output_type": "stream",
     "text": [
      "\n",
      "predicting target prefix: ['Ein', 'Mann', 'in', 'einem', 'gelben', 'Oberteil']"
     ]
    },
    {
     "name": "stderr",
     "output_type": "stream",
     "text": [
      "INFO:__main__:Source: A man in a yellow top stand in front of a small shack , as viewed from above through wire mesh . </S>\n",
      "INFO:__main__:Target Hypothesis: steht vor einem kleinen Acker , als sie von oben auf Rädern ausgestellt ist .\n",
      "INFO:__main__:Target Reference: [',', 'der', 'vor', 'einer', 'kleinen', 'Baracke', 'steht', ',', 'ist', 'von', 'oben', 'durch', 'ein', 'Drahtgeflecht', 'zu', 'sehen', '.']\n",
      "INFO:__main__:IMT F1 score: 0.0\n"
     ]
    },
    {
     "name": "stdout",
     "output_type": "stream",
     "text": [
      "\n",
      "predicting target prefix: ['Ein', 'Mann', 'in', 'einem', 'gelben', 'Oberteil', ',']"
     ]
    },
    {
     "name": "stderr",
     "output_type": "stream",
     "text": [
      "INFO:__main__:Source: A man in a yellow top stand in front of a small shack , as viewed from above through wire mesh . </S>\n",
      "INFO:__main__:Target Hypothesis: steht vor einem kleinen Acker , die von oben auf Rädern .\n",
      "INFO:__main__:Target Reference: ['der', 'vor', 'einer', 'kleinen', 'Baracke', 'steht', ',', 'ist', 'von', 'oben', 'durch', 'ein', 'Drahtgeflecht', 'zu', 'sehen', '.']\n",
      "INFO:__main__:IMT F1 score: 0.0\n"
     ]
    },
    {
     "name": "stdout",
     "output_type": "stream",
     "text": [
      "\n",
      "predicting target prefix: ['Ein', 'Mann', 'in', 'einem', 'gelben', 'Oberteil', ',', 'der']"
     ]
    },
    {
     "name": "stderr",
     "output_type": "stream",
     "text": [
      "INFO:__main__:Source: A man in a yellow top stand in front of a small shack , as viewed from above through wire mesh . </S>\n",
      "INFO:__main__:Target Hypothesis: vor einer kleinen Hütte steht , steht vor einem kleinen Lichtern im Rohbau .\n",
      "INFO:__main__:Target Reference: ['vor', 'einer', 'kleinen', 'Baracke', 'steht', ',', 'ist', 'von', 'oben', 'durch', 'ein', 'Drahtgeflecht', 'zu', 'sehen', '.']\n",
      "INFO:__main__:IMT F1 score: 0.206896551724\n"
     ]
    },
    {
     "name": "stdout",
     "output_type": "stream",
     "text": [
      "\n",
      "predicting target prefix: ['Ein', 'Mann', 'in', 'einem', 'gelben', 'Oberteil', ',', 'der', 'vor']"
     ]
    },
    {
     "name": "stderr",
     "output_type": "stream",
     "text": [
      "INFO:__main__:Source: A man in a yellow top stand in front of a small shack , as viewed from above through wire mesh . </S>\n",
      "INFO:__main__:Target Hypothesis: einer kleinen Hütte steht , steht vor einem kleinen Lichtern im Rohbau .\n",
      "INFO:__main__:Target Reference: ['einer', 'kleinen', 'Baracke', 'steht', ',', 'ist', 'von', 'oben', 'durch', 'ein', 'Drahtgeflecht', 'zu', 'sehen', '.']\n",
      "INFO:__main__:IMT F1 score: 0.148148148148\n"
     ]
    },
    {
     "name": "stdout",
     "output_type": "stream",
     "text": [
      "\n",
      "predicting target prefix: ['Ein', 'Mann', 'in', 'einem', 'gelben', 'Oberteil', ',', 'der', 'vor', 'einer']"
     ]
    },
    {
     "name": "stderr",
     "output_type": "stream",
     "text": [
      "INFO:__main__:Source: A man in a yellow top stand in front of a small shack , as viewed from above through wire mesh . </S>\n",
      "INFO:__main__:Target Hypothesis: kleinen Hütte steht und von oben Wildwasser-Rafting ist .\n",
      "INFO:__main__:Target Reference: ['kleinen', 'Baracke', 'steht', ',', 'ist', 'von', 'oben', 'durch', 'ein', 'Drahtgeflecht', 'zu', 'sehen', '.']\n",
      "INFO:__main__:IMT F1 score: 0.0909090909091\n"
     ]
    },
    {
     "name": "stdout",
     "output_type": "stream",
     "text": [
      "\n",
      "predicting target prefix: ['Ein', 'Mann', 'in', 'einem', 'gelben', 'Oberteil', ',', 'der', 'vor', 'einer', 'kleinen']"
     ]
    },
    {
     "name": "stderr",
     "output_type": "stream",
     "text": [
      "INFO:__main__:Source: A man in a yellow top stand in front of a small shack , as viewed from above through wire mesh . </S>\n",
      "INFO:__main__:Target Hypothesis: Hütte steht , steht vor einem kleinen Lichtern im Rohbau .\n",
      "INFO:__main__:Target Reference: ['Baracke', 'steht', ',', 'ist', 'von', 'oben', 'durch', 'ein', 'Drahtgeflecht', 'zu', 'sehen', '.']\n",
      "INFO:__main__:IMT F1 score: 0.0\n"
     ]
    },
    {
     "name": "stdout",
     "output_type": "stream",
     "text": [
      "\n",
      "predicting target prefix: ['Ein', 'Mann', 'in', 'einem', 'gelben', 'Oberteil', ',', 'der', 'vor', 'einer', 'kleinen', 'Baracke']"
     ]
    },
    {
     "name": "stderr",
     "output_type": "stream",
     "text": [
      "INFO:__main__:Source: A man in a yellow top stand in front of a small shack , as viewed from above through wire mesh . </S>\n",
      "INFO:__main__:Target Hypothesis: umgeben ist , steht vor einem kleinen Acker , als sie von oben ausgestellt ist .\n",
      "INFO:__main__:Target Reference: ['steht', ',', 'ist', 'von', 'oben', 'durch', 'ein', 'Drahtgeflecht', 'zu', 'sehen', '.']\n",
      "INFO:__main__:IMT F1 score: 0.0\n"
     ]
    },
    {
     "name": "stdout",
     "output_type": "stream",
     "text": [
      "\n",
      "predicting target prefix: ['Ein', 'Mann', 'in', 'einem', 'gelben', 'Oberteil', ',', 'der', 'vor', 'einer', 'kleinen', 'Baracke', 'steht']"
     ]
    },
    {
     "name": "stderr",
     "output_type": "stream",
     "text": [
      "INFO:__main__:Source: A man in a yellow top stand in front of a small shack , as viewed from above through wire mesh . </S>\n",
      "INFO:__main__:Target Hypothesis: , steht vor einem kleinen Acker , als sie von oben ausgestellt ist .\n",
      "INFO:__main__:Target Reference: [',', 'ist', 'von', 'oben', 'durch', 'ein', 'Drahtgeflecht', 'zu', 'sehen', '.']\n",
      "INFO:__main__:IMT F1 score: 0.0833333333333\n"
     ]
    },
    {
     "name": "stdout",
     "output_type": "stream",
     "text": [
      "\n",
      "predicting target prefix: ['Ein', 'Mann', 'in', 'einem', 'gelben', 'Oberteil', ',', 'der', 'vor', 'einer', 'kleinen', 'Baracke', 'steht', ',']"
     ]
    },
    {
     "name": "stderr",
     "output_type": "stream",
     "text": [
      "INFO:__main__:Source: A man in a yellow top stand in front of a small shack , as viewed from above through wire mesh . </S>\n",
      "INFO:__main__:Target Hypothesis: steht vor einem kleinen Lichtern im Rohbau .\n",
      "INFO:__main__:Target Reference: ['ist', 'von', 'oben', 'durch', 'ein', 'Drahtgeflecht', 'zu', 'sehen', '.']\n",
      "INFO:__main__:IMT F1 score: 0.0\n"
     ]
    },
    {
     "name": "stdout",
     "output_type": "stream",
     "text": [
      "\n",
      "predicting target prefix: ['Ein', 'Mann', 'in', 'einem', 'gelben', 'Oberteil', ',', 'der', 'vor', 'einer', 'kleinen', 'Baracke', 'steht', ',', 'ist']"
     ]
    },
    {
     "name": "stderr",
     "output_type": "stream",
     "text": [
      "INFO:__main__:Source: A man in a yellow top stand in front of a small shack , as viewed from above through wire mesh . </S>\n",
      "INFO:__main__:Target Hypothesis: von einer kleinen Hütte umgeben von parallelen Stangen hindurch .\n",
      "INFO:__main__:Target Reference: ['von', 'oben', 'durch', 'ein', 'Drahtgeflecht', 'zu', 'sehen', '.']\n",
      "INFO:__main__:IMT F1 score: 0.111111111111\n"
     ]
    },
    {
     "name": "stdout",
     "output_type": "stream",
     "text": [
      "\n",
      "predicting target prefix: ['Ein', 'Mann', 'in', 'einem', 'gelben', 'Oberteil', ',', 'der', 'vor', 'einer', 'kleinen', 'Baracke', 'steht', ',', 'ist', 'von']"
     ]
    },
    {
     "name": "stderr",
     "output_type": "stream",
     "text": [
      "INFO:__main__:Source: A man in a yellow top stand in front of a small shack , as viewed from above through wire mesh . </S>\n",
      "INFO:__main__:Target Hypothesis: einer kleinen Hütte umgeben von parallelen Stangen hindurch .\n",
      "INFO:__main__:Target Reference: ['oben', 'durch', 'ein', 'Drahtgeflecht', 'zu', 'sehen', '.']\n",
      "INFO:__main__:IMT F1 score: 0.0\n"
     ]
    },
    {
     "name": "stdout",
     "output_type": "stream",
     "text": [
      "\n",
      "predicting target prefix: ['Ein', 'Mann', 'in', 'einem', 'gelben', 'Oberteil', ',', 'der', 'vor', 'einer', 'kleinen', 'Baracke', 'steht', ',', 'ist', 'von', 'oben']"
     ]
    },
    {
     "name": "stderr",
     "output_type": "stream",
     "text": [
      "INFO:__main__:Source: A man in a yellow top stand in front of a small shack , as viewed from above through wire mesh . </S>\n",
      "INFO:__main__:Target Hypothesis: besteht , umgeben von Stangen hindurch .\n",
      "INFO:__main__:Target Reference: ['durch', 'ein', 'Drahtgeflecht', 'zu', 'sehen', '.']\n",
      "INFO:__main__:IMT F1 score: 0.0\n"
     ]
    },
    {
     "name": "stdout",
     "output_type": "stream",
     "text": [
      "\n",
      "predicting target prefix: ['Ein', 'Mann', 'in', 'einem', 'gelben', 'Oberteil', ',', 'der', 'vor', 'einer', 'kleinen', 'Baracke', 'steht', ',', 'ist', 'von', 'oben', 'durch']"
     ]
    },
    {
     "name": "stderr",
     "output_type": "stream",
     "text": [
      "INFO:__main__:Source: A man in a yellow top stand in front of a small shack , as viewed from above through wire mesh . </S>\n",
      "INFO:__main__:Target Hypothesis: Licht .\n",
      "INFO:__main__:Target Reference: ['ein', 'Drahtgeflecht', 'zu', 'sehen', '.']\n",
      "INFO:__main__:IMT F1 score: 0.0\n"
     ]
    },
    {
     "name": "stdout",
     "output_type": "stream",
     "text": [
      "\n",
      "predicting target prefix: ['Ein', 'Mann', 'in', 'einem', 'gelben', 'Oberteil', ',', 'der', 'vor', 'einer', 'kleinen', 'Baracke', 'steht', ',', 'ist', 'von', 'oben', 'durch', 'ein']"
     ]
    },
    {
     "name": "stderr",
     "output_type": "stream",
     "text": [
      "INFO:__main__:Source: A man in a yellow top stand in front of a small shack , as viewed from above through wire mesh . </S>\n",
      "INFO:__main__:Target Hypothesis: kleines Rohre hindurch .\n",
      "INFO:__main__:Target Reference: ['Drahtgeflecht', 'zu', 'sehen', '.']\n",
      "INFO:__main__:IMT F1 score: 0.0\n"
     ]
    },
    {
     "name": "stdout",
     "output_type": "stream",
     "text": [
      "\n",
      "predicting target prefix: ['Ein', 'Mann', 'in', 'einem', 'gelben', 'Oberteil', ',', 'der', 'vor', 'einer', 'kleinen', 'Baracke', 'steht', ',', 'ist', 'von', 'oben', 'durch', 'ein', 'Drahtgeflecht']"
     ]
    },
    {
     "name": "stderr",
     "output_type": "stream",
     "text": [
      "INFO:__main__:Source: A man in a yellow top stand in front of a small shack , as viewed from above through wire mesh . </S>\n",
      "INFO:__main__:Target Hypothesis: .\n",
      "INFO:__main__:Target Reference: ['zu', 'sehen', '.']\n",
      "INFO:__main__:IMT F1 score: 0.0\n"
     ]
    },
    {
     "name": "stdout",
     "output_type": "stream",
     "text": [
      "\n",
      "predicting target prefix: ['Ein', 'Mann', 'in', 'einem', 'gelben', 'Oberteil', ',', 'der', 'vor', 'einer', 'kleinen', 'Baracke', 'steht', ',', 'ist', 'von', 'oben', 'durch', 'ein', 'Drahtgeflecht', 'zu']"
     ]
    },
    {
     "name": "stderr",
     "output_type": "stream",
     "text": [
      "INFO:__main__:Source: A man in a yellow top stand in front of a small shack , as viewed from above through wire mesh . </S>\n",
      "INFO:__main__:Target Hypothesis: sehen .\n",
      "INFO:__main__:Target Reference: ['sehen', '.']\n",
      "INFO:__main__:IMT F1 score: 1.0\n"
     ]
    },
    {
     "name": "stdout",
     "output_type": "stream",
     "text": [
      "\n",
      "predicting target prefix: ['Ein', 'Mann', 'in', 'einem', 'gelben', 'Oberteil', ',', 'der', 'vor', 'einer', 'kleinen', 'Baracke', 'steht', ',', 'ist', 'von', 'oben', 'durch', 'ein', 'Drahtgeflecht', 'zu', 'sehen']"
     ]
    },
    {
     "name": "stderr",
     "output_type": "stream",
     "text": [
      "INFO:__main__:Source: A man in a yellow top stand in front of a small shack , as viewed from above through wire mesh . </S>\n",
      "INFO:__main__:Target Hypothesis: .\n",
      "INFO:__main__:Target Reference: ['.']\n",
      "INFO:__main__:IMT F1 score: 1.0\n"
     ]
    },
    {
     "name": "stdout",
     "output_type": "stream",
     "text": [
      "\n",
      "predicting target prefix: ['Ein', 'Mann', 'in', 'einem', 'gelben', 'Oberteil', ',', 'der', 'vor', 'einer', 'kleinen', 'Baracke', 'steht', ',', 'ist', 'von', 'oben', 'durch', 'ein', 'Drahtgeflecht', 'zu', 'sehen', '.']"
     ]
    },
    {
     "name": "stderr",
     "output_type": "stream",
     "text": [
      "INFO:__main__:Source: A man in a yellow top stand in front of a small shack , as viewed from above through wire mesh . </S>\n",
      "INFO:__main__:Target Hypothesis: </S> .\n",
      "INFO:__main__:Target Reference: []\n",
      "INFO:__main__:IMT F1 score: 0.0\n",
      "INFO:__main__:Translating segment: 40\n"
     ]
    },
    {
     "name": "stdout",
     "output_type": "stream",
     "text": [
      "\n",
      "predicting target prefix: ['Ein']"
     ]
    },
    {
     "name": "stderr",
     "output_type": "stream",
     "text": [
      "INFO:__main__:Source: A child is reluctantly about to bite into a mushroom . </S>\n",
      "INFO:__main__:Target Hypothesis: Kind kommt gleich in einen Pilz .\n",
      "INFO:__main__:Target Reference: ['Kind', 'ist', 'z\\xc3\\xb6gernd', 'im', 'Begriff', ',', 'in', 'einen', 'Pilz', 'zu', 'bei\\xc3\\x9fen', '.']\n",
      "INFO:__main__:IMT F1 score: 0.105263157895\n"
     ]
    },
    {
     "name": "stdout",
     "output_type": "stream",
     "text": [
      "\n",
      "predicting target prefix: ['Ein', 'Kind']"
     ]
    },
    {
     "name": "stderr",
     "output_type": "stream",
     "text": [
      "INFO:__main__:Source: A child is reluctantly about to bite into a mushroom . </S>\n",
      "INFO:__main__:Target Hypothesis: kommt gleich in einen Pilz .\n",
      "INFO:__main__:Target Reference: ['ist', 'z\\xc3\\xb6gernd', 'im', 'Begriff', ',', 'in', 'einen', 'Pilz', 'zu', 'bei\\xc3\\x9fen', '.']\n",
      "INFO:__main__:IMT F1 score: 0.0\n"
     ]
    },
    {
     "name": "stdout",
     "output_type": "stream",
     "text": [
      "\n",
      "predicting target prefix: ['Ein', 'Kind', 'ist']"
     ]
    },
    {
     "name": "stderr",
     "output_type": "stream",
     "text": [
      "INFO:__main__:Source: A child is reluctantly about to bite into a mushroom . </S>\n",
      "INFO:__main__:Target Hypothesis: gleich in einen Pilz .\n",
      "INFO:__main__:Target Reference: ['z\\xc3\\xb6gernd', 'im', 'Begriff', ',', 'in', 'einen', 'Pilz', 'zu', 'bei\\xc3\\x9fen', '.']\n",
      "INFO:__main__:IMT F1 score: 0.0\n"
     ]
    },
    {
     "name": "stdout",
     "output_type": "stream",
     "text": [
      "\n",
      "predicting target prefix: ['Ein', 'Kind', 'ist', 'z\\xc3\\xb6gernd']"
     ]
    },
    {
     "name": "stderr",
     "output_type": "stream",
     "text": [
      "INFO:__main__:Source: A child is reluctantly about to bite into a mushroom . </S>\n",
      "INFO:__main__:Target Hypothesis: will in einen Pilz zu beißen\n",
      "INFO:__main__:Target Reference: ['im', 'Begriff', ',', 'in', 'einen', 'Pilz', 'zu', 'bei\\xc3\\x9fen', '.']\n",
      "INFO:__main__:IMT F1 score: 0.0\n"
     ]
    },
    {
     "name": "stdout",
     "output_type": "stream",
     "text": [
      "\n",
      "predicting target prefix: ['Ein', 'Kind', 'ist', 'z\\xc3\\xb6gernd', 'im']"
     ]
    },
    {
     "name": "stderr",
     "output_type": "stream",
     "text": [
      "INFO:__main__:Source: A child is reluctantly about to bite into a mushroom . </S>\n",
      "INFO:__main__:Target Hypothesis: Fällen eines Tiers .\n",
      "INFO:__main__:Target Reference: ['Begriff', ',', 'in', 'einen', 'Pilz', 'zu', 'bei\\xc3\\x9fen', '.']\n",
      "INFO:__main__:IMT F1 score: 0.0\n"
     ]
    },
    {
     "name": "stdout",
     "output_type": "stream",
     "text": [
      "\n",
      "predicting target prefix: ['Ein', 'Kind', 'ist', 'z\\xc3\\xb6gernd', 'im', 'Begriff']"
     ]
    },
    {
     "name": "stderr",
     "output_type": "stream",
     "text": [
      "INFO:__main__:Source: A child is reluctantly about to bite into a mushroom . </S>\n",
      "INFO:__main__:Target Hypothesis: zu beißen\n",
      "INFO:__main__:Target Reference: [',', 'in', 'einen', 'Pilz', 'zu', 'bei\\xc3\\x9fen', '.']\n",
      "INFO:__main__:IMT F1 score: 0.0\n"
     ]
    },
    {
     "name": "stdout",
     "output_type": "stream",
     "text": [
      "\n",
      "predicting target prefix: ['Ein', 'Kind', 'ist', 'z\\xc3\\xb6gernd', 'im', 'Begriff', ',']"
     ]
    },
    {
     "name": "stderr",
     "output_type": "stream",
     "text": [
      "INFO:__main__:Source: A child is reluctantly about to bite into a mushroom . </S>\n",
      "INFO:__main__:Target Hypothesis: etwas zu beißen\n",
      "INFO:__main__:Target Reference: ['in', 'einen', 'Pilz', 'zu', 'bei\\xc3\\x9fen', '.']\n",
      "INFO:__main__:IMT F1 score: 0.0\n",
      "INFO:__main__:Source: A child is reluctantly about to bite into a mushroom . </S>\n",
      "INFO:__main__:Target Hypothesis: ein hochzuklettern zu beißen\n",
      "INFO:__main__:Target Reference: ['einen', 'Pilz', 'zu', 'bei\\xc3\\x9fen', '.']\n",
      "INFO:__main__:IMT F1 score: 0.0\n"
     ]
    },
    {
     "name": "stdout",
     "output_type": "stream",
     "text": [
      "\n",
      "predicting target prefix: ['Ein', 'Kind', 'ist', 'z\\xc3\\xb6gernd', 'im', 'Begriff', ',', 'in']\n",
      "predicting target prefix: ['Ein', 'Kind', 'ist', 'z\\xc3\\xb6gernd', 'im', 'Begriff', ',', 'in', 'einen']"
     ]
    },
    {
     "name": "stderr",
     "output_type": "stream",
     "text": [
      "INFO:__main__:Source: A child is reluctantly about to bite into a mushroom . </S>\n",
      "INFO:__main__:Target Hypothesis: Pilz zu beißen\n",
      "INFO:__main__:Target Reference: ['Pilz', 'zu', 'bei\\xc3\\x9fen', '.']\n",
      "INFO:__main__:IMT F1 score: 0.857142857143\n"
     ]
    },
    {
     "name": "stdout",
     "output_type": "stream",
     "text": [
      "\n",
      "predicting target prefix: ['Ein', 'Kind', 'ist', 'z\\xc3\\xb6gernd', 'im', 'Begriff', ',', 'in', 'einen', 'Pilz']"
     ]
    },
    {
     "name": "stderr",
     "output_type": "stream",
     "text": [
      "INFO:__main__:Source: A child is reluctantly about to bite into a mushroom . </S>\n",
      "INFO:__main__:Target Hypothesis: zu beißen\n",
      "INFO:__main__:Target Reference: ['zu', 'bei\\xc3\\x9fen', '.']\n",
      "INFO:__main__:IMT F1 score: 0.8\n"
     ]
    },
    {
     "name": "stdout",
     "output_type": "stream",
     "text": [
      "\n",
      "predicting target prefix: ['Ein', 'Kind', 'ist', 'z\\xc3\\xb6gernd', 'im', 'Begriff', ',', 'in', 'einen', 'Pilz', 'zu']"
     ]
    },
    {
     "name": "stderr",
     "output_type": "stream",
     "text": [
      "INFO:__main__:Source: A child is reluctantly about to bite into a mushroom . </S>\n",
      "INFO:__main__:Target Hypothesis: beißen\n",
      "INFO:__main__:Target Reference: ['bei\\xc3\\x9fen', '.']\n",
      "INFO:__main__:IMT F1 score: 0.666666666667\n"
     ]
    },
    {
     "name": "stdout",
     "output_type": "stream",
     "text": [
      "\n",
      "predicting target prefix: ['Ein', 'Kind', 'ist', 'z\\xc3\\xb6gernd', 'im', 'Begriff', ',', 'in', 'einen', 'Pilz', 'zu', 'bei\\xc3\\x9fen']"
     ]
    },
    {
     "name": "stderr",
     "output_type": "stream",
     "text": [
      "INFO:__main__:Source: A child is reluctantly about to bite into a mushroom . </S>\n",
      "INFO:__main__:Target Hypothesis: </S> .\n",
      "INFO:__main__:Target Reference: ['.']\n",
      "INFO:__main__:IMT F1 score: 0.0\n"
     ]
    },
    {
     "name": "stdout",
     "output_type": "stream",
     "text": [
      "\n",
      "predicting target prefix: ['Ein', 'Kind', 'ist', 'z\\xc3\\xb6gernd', 'im', 'Begriff', ',', 'in', 'einen', 'Pilz', 'zu', 'bei\\xc3\\x9fen', '.']"
     ]
    },
    {
     "name": "stderr",
     "output_type": "stream",
     "text": [
      "INFO:__main__:Source: A child is reluctantly about to bite into a mushroom . </S>\n",
      "INFO:__main__:Target Hypothesis: </S> .\n",
      "INFO:__main__:Target Reference: []\n",
      "INFO:__main__:IMT F1 score: 0.0\n",
      "INFO:__main__:Translating segment: 41\n"
     ]
    },
    {
     "name": "stdout",
     "output_type": "stream",
     "text": [
      "\n",
      "predicting target prefix: ['Zwei']"
     ]
    },
    {
     "name": "stderr",
     "output_type": "stream",
     "text": [
      "INFO:__main__:Source: Two women wearing pink T-shirts and blue jeans converse outside clothing store . </S>\n",
      "INFO:__main__:Target Hypothesis: Frauen mit rosa T-Shirts und Bluejeans stehen im Freien .\n",
      "INFO:__main__:Target Reference: ['Frauen', 'in', 'pinkfarbenen', 'T-Shirts', 'und', 'Bluejeans', 'unterhalten', 'sich', 'vor', 'einem', 'Bekleidungsgesch\\xc3\\xa4ft', '.']\n",
      "INFO:__main__:IMT F1 score: 0.0909090909091\n"
     ]
    },
    {
     "name": "stdout",
     "output_type": "stream",
     "text": [
      "\n",
      "predicting target prefix: ['Zwei', 'Frauen']"
     ]
    },
    {
     "name": "stderr",
     "output_type": "stream",
     "text": [
      "INFO:__main__:Source: Two women wearing pink T-shirts and blue jeans converse outside clothing store . </S>\n",
      "INFO:__main__:Target Hypothesis: mit rosa T-Shirts und Bluejeans stehen im Freien .\n",
      "INFO:__main__:Target Reference: ['in', 'pinkfarbenen', 'T-Shirts', 'und', 'Bluejeans', 'unterhalten', 'sich', 'vor', 'einem', 'Bekleidungsgesch\\xc3\\xa4ft', '.']\n",
      "INFO:__main__:IMT F1 score: 0.0\n"
     ]
    },
    {
     "name": "stdout",
     "output_type": "stream",
     "text": [
      "\n",
      "predicting target prefix: ['Zwei', 'Frauen', 'in']"
     ]
    },
    {
     "name": "stderr",
     "output_type": "stream",
     "text": [
      "INFO:__main__:Source: Two women wearing pink T-shirts and blue jeans converse outside clothing store . </S>\n",
      "INFO:__main__:Target Hypothesis: rosa T-Shirts und Bluejeans unterhalten sich im Freien .\n",
      "INFO:__main__:Target Reference: ['pinkfarbenen', 'T-Shirts', 'und', 'Bluejeans', 'unterhalten', 'sich', 'vor', 'einem', 'Bekleidungsgesch\\xc3\\xa4ft', '.']\n",
      "INFO:__main__:IMT F1 score: 0.0\n"
     ]
    },
    {
     "name": "stdout",
     "output_type": "stream",
     "text": [
      "\n",
      "predicting target prefix: ['Zwei', 'Frauen', 'in', 'pinkfarbenen']"
     ]
    },
    {
     "name": "stderr",
     "output_type": "stream",
     "text": [
      "INFO:__main__:Source: Two women wearing pink T-shirts and blue jeans converse outside clothing store . </S>\n",
      "INFO:__main__:Target Hypothesis: T-Shirts und Bluejeans unterhalten sich im Freien .\n",
      "INFO:__main__:Target Reference: ['T-Shirts', 'und', 'Bluejeans', 'unterhalten', 'sich', 'vor', 'einem', 'Bekleidungsgesch\\xc3\\xa4ft', '.']\n",
      "INFO:__main__:IMT F1 score: 0.588235294118\n"
     ]
    },
    {
     "name": "stdout",
     "output_type": "stream",
     "text": [
      "\n",
      "predicting target prefix: ['Zwei', 'Frauen', 'in', 'pinkfarbenen', 'T-Shirts']"
     ]
    },
    {
     "name": "stderr",
     "output_type": "stream",
     "text": [
      "INFO:__main__:Source: Two women wearing pink T-shirts and blue jeans converse outside clothing store . </S>\n",
      "INFO:__main__:Target Hypothesis: und Bluejeans unterhalten sich im Freien .\n",
      "INFO:__main__:Target Reference: ['und', 'Bluejeans', 'unterhalten', 'sich', 'vor', 'einem', 'Bekleidungsgesch\\xc3\\xa4ft', '.']\n",
      "INFO:__main__:IMT F1 score: 0.533333333333\n"
     ]
    },
    {
     "name": "stdout",
     "output_type": "stream",
     "text": [
      "\n",
      "predicting target prefix: ['Zwei', 'Frauen', 'in', 'pinkfarbenen', 'T-Shirts', 'und']"
     ]
    },
    {
     "name": "stderr",
     "output_type": "stream",
     "text": [
      "INFO:__main__:Source: Two women wearing pink T-shirts and blue jeans converse outside clothing store . </S>\n",
      "INFO:__main__:Target Hypothesis: Bluejeans unterhalten sich im Freien .\n",
      "INFO:__main__:Target Reference: ['Bluejeans', 'unterhalten', 'sich', 'vor', 'einem', 'Bekleidungsgesch\\xc3\\xa4ft', '.']\n",
      "INFO:__main__:IMT F1 score: 0.461538461538\n"
     ]
    },
    {
     "name": "stdout",
     "output_type": "stream",
     "text": [
      "\n",
      "predicting target prefix: ['Zwei', 'Frauen', 'in', 'pinkfarbenen', 'T-Shirts', 'und', 'Bluejeans']"
     ]
    },
    {
     "name": "stderr",
     "output_type": "stream",
     "text": [
      "INFO:__main__:Source: Two women wearing pink T-shirts and blue jeans converse outside clothing store . </S>\n",
      "INFO:__main__:Target Hypothesis: unterhalten sich im Freien .\n",
      "INFO:__main__:Target Reference: ['unterhalten', 'sich', 'vor', 'einem', 'Bekleidungsgesch\\xc3\\xa4ft', '.']\n",
      "INFO:__main__:IMT F1 score: 0.363636363636\n"
     ]
    },
    {
     "name": "stdout",
     "output_type": "stream",
     "text": [
      "\n",
      "predicting target prefix: ['Zwei', 'Frauen', 'in', 'pinkfarbenen', 'T-Shirts', 'und', 'Bluejeans', 'unterhalten']"
     ]
    },
    {
     "name": "stderr",
     "output_type": "stream",
     "text": [
      "INFO:__main__:Source: Two women wearing pink T-shirts and blue jeans converse outside clothing store . </S>\n",
      "INFO:__main__:Target Hypothesis: sich im Freien .\n",
      "INFO:__main__:Target Reference: ['sich', 'vor', 'einem', 'Bekleidungsgesch\\xc3\\xa4ft', '.']\n",
      "INFO:__main__:IMT F1 score: 0.222222222222\n"
     ]
    },
    {
     "name": "stdout",
     "output_type": "stream",
     "text": [
      "\n",
      "predicting target prefix: ['Zwei', 'Frauen', 'in', 'pinkfarbenen', 'T-Shirts', 'und', 'Bluejeans', 'unterhalten', 'sich']"
     ]
    },
    {
     "name": "stderr",
     "output_type": "stream",
     "text": [
      "INFO:__main__:Source: Two women wearing pink T-shirts and blue jeans converse outside clothing store . </S>\n",
      "INFO:__main__:Target Hypothesis: im Freien .\n",
      "INFO:__main__:Target Reference: ['vor', 'einem', 'Bekleidungsgesch\\xc3\\xa4ft', '.']\n",
      "INFO:__main__:IMT F1 score: 0.0\n"
     ]
    },
    {
     "name": "stdout",
     "output_type": "stream",
     "text": [
      "\n",
      "predicting target prefix: ['Zwei', 'Frauen', 'in', 'pinkfarbenen', 'T-Shirts', 'und', 'Bluejeans', 'unterhalten', 'sich', 'vor']"
     ]
    },
    {
     "name": "stderr",
     "output_type": "stream",
     "text": [
      "INFO:__main__:Source: Two women wearing pink T-shirts and blue jeans converse outside clothing store . </S>\n",
      "INFO:__main__:Target Hypothesis: einem Schaufenster .\n",
      "INFO:__main__:Target Reference: ['einem', 'Bekleidungsgesch\\xc3\\xa4ft', '.']\n",
      "INFO:__main__:IMT F1 score: 0.333333333333\n",
      "INFO:__main__:Source: Two women wearing pink T-shirts and blue jeans converse outside clothing store . </S>\n",
      "INFO:__main__:Target Hypothesis: Schaufenster .\n",
      "INFO:__main__:Target Reference: ['Bekleidungsgesch\\xc3\\xa4ft', '.']\n",
      "INFO:__main__:IMT F1 score: 0.0\n"
     ]
    },
    {
     "name": "stdout",
     "output_type": "stream",
     "text": [
      "\n",
      "predicting target prefix: ['Zwei', 'Frauen', 'in', 'pinkfarbenen', 'T-Shirts', 'und', 'Bluejeans', 'unterhalten', 'sich', 'vor', 'einem']\n",
      "predicting target prefix: ['Zwei', 'Frauen', 'in', 'pinkfarbenen', 'T-Shirts', 'und', 'Bluejeans', 'unterhalten', 'sich', 'vor', 'einem', 'Bekleidungsgesch\\xc3\\xa4ft']"
     ]
    },
    {
     "name": "stderr",
     "output_type": "stream",
     "text": [
      "INFO:__main__:Source: Two women wearing pink T-shirts and blue jeans converse outside clothing store . </S>\n",
      "INFO:__main__:Target Hypothesis: .\n",
      "INFO:__main__:Target Reference: ['.']\n",
      "INFO:__main__:IMT F1 score: 1.0\n"
     ]
    },
    {
     "name": "stdout",
     "output_type": "stream",
     "text": [
      "\n",
      "predicting target prefix: ['Zwei', 'Frauen', 'in', 'pinkfarbenen', 'T-Shirts', 'und', 'Bluejeans', 'unterhalten', 'sich', 'vor', 'einem', 'Bekleidungsgesch\\xc3\\xa4ft', '.']"
     ]
    },
    {
     "name": "stderr",
     "output_type": "stream",
     "text": [
      "INFO:__main__:Source: Two women wearing pink T-shirts and blue jeans converse outside clothing store . </S>\n",
      "INFO:__main__:Target Hypothesis: </S> .\n",
      "INFO:__main__:Target Reference: []\n",
      "INFO:__main__:IMT F1 score: 0.0\n",
      "INFO:__main__:Translating segment: 42\n"
     ]
    },
    {
     "name": "stdout",
     "output_type": "stream",
     "text": [
      "\n",
      "predicting target prefix: ['Ein']"
     ]
    },
    {
     "name": "stderr",
     "output_type": "stream",
     "text": [
      "INFO:__main__:Source: A mounted policeman on a dappled horse <UNK> a crowd . </S>\n",
      "INFO:__main__:Target Hypothesis: Polizist auf einem Pferd auf einem Pferd .\n",
      "INFO:__main__:Target Reference: ['berittener', 'Polizist', 'auf', 'einem', 'gescheckten', 'Pferd', 'beaufsichtigt', 'eine', 'Menschenmenge', '.']\n",
      "INFO:__main__:IMT F1 score: 0.0\n"
     ]
    },
    {
     "name": "stdout",
     "output_type": "stream",
     "text": [
      "\n",
      "predicting target prefix: ['Ein', 'berittener']"
     ]
    },
    {
     "name": "stderr",
     "output_type": "stream",
     "text": [
      "INFO:__main__:Source: A mounted policeman on a dappled horse <UNK> a crowd . </S>\n",
      "INFO:__main__:Target Hypothesis: auf einem Pferd ist eine Zuschauermenge .\n",
      "INFO:__main__:Target Reference: ['Polizist', 'auf', 'einem', 'gescheckten', 'Pferd', 'beaufsichtigt', 'eine', 'Menschenmenge', '.']\n",
      "INFO:__main__:IMT F1 score: 0.0\n"
     ]
    },
    {
     "name": "stdout",
     "output_type": "stream",
     "text": [
      "\n",
      "predicting target prefix: ['Ein', 'berittener', 'Polizist']"
     ]
    },
    {
     "name": "stderr",
     "output_type": "stream",
     "text": [
      "INFO:__main__:Source: A mounted policeman on a dappled horse <UNK> a crowd . </S>\n",
      "INFO:__main__:Target Hypothesis: auf einem Pferd auf einem Pferd .\n",
      "INFO:__main__:Target Reference: ['auf', 'einem', 'gescheckten', 'Pferd', 'beaufsichtigt', 'eine', 'Menschenmenge', '.']\n",
      "INFO:__main__:IMT F1 score: 0.266666666667\n"
     ]
    },
    {
     "name": "stdout",
     "output_type": "stream",
     "text": [
      "\n",
      "predicting target prefix: ['Ein', 'berittener', 'Polizist', 'auf']"
     ]
    },
    {
     "name": "stderr",
     "output_type": "stream",
     "text": [
      "INFO:__main__:Source: A mounted policeman on a dappled horse <UNK> a crowd . </S>\n",
      "INFO:__main__:Target Hypothesis: einem Pferd auf einem Pferd .\n",
      "INFO:__main__:Target Reference: ['einem', 'gescheckten', 'Pferd', 'beaufsichtigt', 'eine', 'Menschenmenge', '.']\n",
      "INFO:__main__:IMT F1 score: 0.153846153846\n"
     ]
    },
    {
     "name": "stdout",
     "output_type": "stream",
     "text": [
      "\n",
      "predicting target prefix: ['Ein', 'berittener', 'Polizist', 'auf', 'einem']"
     ]
    },
    {
     "name": "stderr",
     "output_type": "stream",
     "text": [
      "INFO:__main__:Source: A mounted policeman on a dappled horse <UNK> a crowd . </S>\n",
      "INFO:__main__:Target Hypothesis: Pferd auf einem Pferd .\n",
      "INFO:__main__:Target Reference: ['gescheckten', 'Pferd', 'beaufsichtigt', 'eine', 'Menschenmenge', '.']\n",
      "INFO:__main__:IMT F1 score: 0.0\n"
     ]
    },
    {
     "name": "stdout",
     "output_type": "stream",
     "text": [
      "\n",
      "predicting target prefix: ['Ein', 'berittener', 'Polizist', 'auf', 'einem', 'gescheckten']"
     ]
    },
    {
     "name": "stderr",
     "output_type": "stream",
     "text": [
      "INFO:__main__:Source: A mounted policeman on a dappled horse <UNK> a crowd . </S>\n",
      "INFO:__main__:Target Hypothesis: Pferd .\n",
      "INFO:__main__:Target Reference: ['Pferd', 'beaufsichtigt', 'eine', 'Menschenmenge', '.']\n",
      "INFO:__main__:IMT F1 score: 0.285714285714\n"
     ]
    },
    {
     "name": "stdout",
     "output_type": "stream",
     "text": [
      "\n",
      "predicting target prefix: ['Ein', 'berittener', 'Polizist', 'auf', 'einem', 'gescheckten', 'Pferd']"
     ]
    },
    {
     "name": "stderr",
     "output_type": "stream",
     "text": [
      "INFO:__main__:Source: A mounted policeman on a dappled horse <UNK> a crowd . </S>\n",
      "INFO:__main__:Target Hypothesis: .\n",
      "INFO:__main__:Target Reference: ['beaufsichtigt', 'eine', 'Menschenmenge', '.']\n",
      "INFO:__main__:IMT F1 score: 0.0\n"
     ]
    },
    {
     "name": "stdout",
     "output_type": "stream",
     "text": [
      "\n",
      "predicting target prefix: ['Ein', 'berittener', 'Polizist', 'auf', 'einem', 'gescheckten', 'Pferd', 'beaufsichtigt']"
     ]
    },
    {
     "name": "stderr",
     "output_type": "stream",
     "text": [
      "INFO:__main__:Source: A mounted policeman on a dappled horse <UNK> a crowd . </S>\n",
      "INFO:__main__:Target Hypothesis: .\n",
      "INFO:__main__:Target Reference: ['eine', 'Menschenmenge', '.']\n",
      "INFO:__main__:IMT F1 score: 0.0\n"
     ]
    },
    {
     "name": "stdout",
     "output_type": "stream",
     "text": [
      "\n",
      "predicting target prefix: ['Ein', 'berittener', 'Polizist', 'auf', 'einem', 'gescheckten', 'Pferd', 'beaufsichtigt', 'eine']"
     ]
    },
    {
     "name": "stderr",
     "output_type": "stream",
     "text": [
      "INFO:__main__:Source: A mounted policeman on a dappled horse <UNK> a crowd . </S>\n",
      "INFO:__main__:Target Hypothesis: Zuschauermenge .\n",
      "INFO:__main__:Target Reference: ['Menschenmenge', '.']\n",
      "INFO:__main__:IMT F1 score: 0.0\n",
      "INFO:__main__:Source: A mounted policeman on a dappled horse <UNK> a crowd . </S>\n",
      "INFO:__main__:Target Hypothesis: .\n",
      "INFO:__main__:Target Reference: ['.']\n",
      "INFO:__main__:IMT F1 score: 1.0\n"
     ]
    },
    {
     "name": "stdout",
     "output_type": "stream",
     "text": [
      "\n",
      "predicting target prefix: ['Ein', 'berittener', 'Polizist', 'auf', 'einem', 'gescheckten', 'Pferd', 'beaufsichtigt', 'eine', 'Menschenmenge']\n",
      "predicting target prefix: ['Ein', 'berittener', 'Polizist', 'auf', 'einem', 'gescheckten', 'Pferd', 'beaufsichtigt', 'eine', 'Menschenmenge', '.']"
     ]
    },
    {
     "name": "stderr",
     "output_type": "stream",
     "text": [
      "INFO:__main__:Source: A mounted policeman on a dappled horse <UNK> a crowd . </S>\n",
      "INFO:__main__:Target Hypothesis: </S> .\n",
      "INFO:__main__:Target Reference: []\n",
      "INFO:__main__:IMT F1 score: 0.0\n",
      "INFO:__main__:Translating segment: 43\n"
     ]
    },
    {
     "name": "stdout",
     "output_type": "stream",
     "text": [
      "\n",
      "predicting target prefix: ['Ein']"
     ]
    },
    {
     "name": "stderr",
     "output_type": "stream",
     "text": [
      "INFO:__main__:Source: A large black dog is digging in the deep snow . </S>\n",
      "INFO:__main__:Target Hypothesis: großer schwarzer Hund gräbt im tiefblauem Schnee .\n",
      "INFO:__main__:Target Reference: ['gro\\xc3\\x9fer', 'schwarzer', 'Hund', 'buddelt', 'im', 'Tiefschnee', '.']\n",
      "INFO:__main__:IMT F1 score: 0.4\n"
     ]
    },
    {
     "name": "stdout",
     "output_type": "stream",
     "text": [
      "\n",
      "predicting target prefix: ['Ein', 'gro\\xc3\\x9fer']"
     ]
    },
    {
     "name": "stderr",
     "output_type": "stream",
     "text": [
      "INFO:__main__:Source: A large black dog is digging in the deep snow . </S>\n",
      "INFO:__main__:Target Hypothesis: schwarzer Hund gräbt im tiefblauem Schnee .\n",
      "INFO:__main__:Target Reference: ['schwarzer', 'Hund', 'buddelt', 'im', 'Tiefschnee', '.']\n",
      "INFO:__main__:IMT F1 score: 0.307692307692\n"
     ]
    },
    {
     "name": "stdout",
     "output_type": "stream",
     "text": [
      "\n",
      "predicting target prefix: ['Ein', 'gro\\xc3\\x9fer', 'schwarzer']"
     ]
    },
    {
     "name": "stderr",
     "output_type": "stream",
     "text": [
      "INFO:__main__:Source: A large black dog is digging in the deep snow . </S>\n",
      "INFO:__main__:Target Hypothesis: Hund gräbt im tiefblauem Schnee .\n",
      "INFO:__main__:Target Reference: ['Hund', 'buddelt', 'im', 'Tiefschnee', '.']\n",
      "INFO:__main__:IMT F1 score: 0.181818181818\n"
     ]
    },
    {
     "name": "stdout",
     "output_type": "stream",
     "text": [
      "\n",
      "predicting target prefix: ['Ein', 'gro\\xc3\\x9fer', 'schwarzer', 'Hund']"
     ]
    },
    {
     "name": "stderr",
     "output_type": "stream",
     "text": [
      "INFO:__main__:Source: A large black dog is digging in the deep snow . </S>\n",
      "INFO:__main__:Target Hypothesis: gräbt im tiefblauem Schnee .\n",
      "INFO:__main__:Target Reference: ['buddelt', 'im', 'Tiefschnee', '.']\n",
      "INFO:__main__:IMT F1 score: 0.0\n"
     ]
    },
    {
     "name": "stdout",
     "output_type": "stream",
     "text": [
      "\n",
      "predicting target prefix: ['Ein', 'gro\\xc3\\x9fer', 'schwarzer', 'Hund', 'buddelt']"
     ]
    },
    {
     "name": "stderr",
     "output_type": "stream",
     "text": [
      "INFO:__main__:Source: A large black dog is digging in the deep snow . </S>\n",
      "INFO:__main__:Target Hypothesis: im tiefblauem Schnee .\n",
      "INFO:__main__:Target Reference: ['im', 'Tiefschnee', '.']\n",
      "INFO:__main__:IMT F1 score: 0.285714285714\n"
     ]
    },
    {
     "name": "stdout",
     "output_type": "stream",
     "text": [
      "\n",
      "predicting target prefix: ['Ein', 'gro\\xc3\\x9fer', 'schwarzer', 'Hund', 'buddelt', 'im']"
     ]
    },
    {
     "name": "stderr",
     "output_type": "stream",
     "text": [
      "INFO:__main__:Source: A large black dog is digging in the deep snow . </S>\n",
      "INFO:__main__:Target Hypothesis: tiefblauem Schnee .\n",
      "INFO:__main__:Target Reference: ['Tiefschnee', '.']\n",
      "INFO:__main__:IMT F1 score: 0.0\n",
      "INFO:__main__:Source: A large black dog is digging in the deep snow . </S>\n",
      "INFO:__main__:Target Hypothesis: .\n",
      "INFO:__main__:Target Reference: ['.']\n",
      "INFO:__main__:IMT F1 score: 1.0\n"
     ]
    },
    {
     "name": "stdout",
     "output_type": "stream",
     "text": [
      "\n",
      "predicting target prefix: ['Ein', 'gro\\xc3\\x9fer', 'schwarzer', 'Hund', 'buddelt', 'im', 'Tiefschnee']\n",
      "predicting target prefix: ['Ein', 'gro\\xc3\\x9fer', 'schwarzer', 'Hund', 'buddelt', 'im', 'Tiefschnee', '.']"
     ]
    },
    {
     "name": "stderr",
     "output_type": "stream",
     "text": [
      "INFO:__main__:Source: A large black dog is digging in the deep snow . </S>\n",
      "INFO:__main__:Target Hypothesis: </S> .\n",
      "INFO:__main__:Target Reference: []\n",
      "INFO:__main__:IMT F1 score: 0.0\n",
      "INFO:__main__:Translating segment: 44\n"
     ]
    },
    {
     "name": "stdout",
     "output_type": "stream",
     "text": [
      "\n",
      "predicting target prefix: ['Ein']"
     ]
    },
    {
     "name": "stderr",
     "output_type": "stream",
     "text": [
      "INFO:__main__:Source: A man takes a photograph of a lake with mountains in the background . </S>\n",
      "INFO:__main__:Target Hypothesis: Mann macht ein Foto von einem See , im Hintergrund ist Berge .\n",
      "INFO:__main__:Target Reference: ['Mann', 'fotografiert', 'einen', 'See', 'mit', 'Bergen', 'im', 'Hintergrund', '.']\n",
      "INFO:__main__:IMT F1 score: 0.0909090909091\n"
     ]
    },
    {
     "name": "stdout",
     "output_type": "stream",
     "text": [
      "\n",
      "predicting target prefix: ['Ein', 'Mann']"
     ]
    },
    {
     "name": "stderr",
     "output_type": "stream",
     "text": [
      "INFO:__main__:Source: A man takes a photograph of a lake with mountains in the background . </S>\n",
      "INFO:__main__:Target Hypothesis: macht ein Foto von einem See , im Hintergrund ist Berge zu sehen .\n",
      "INFO:__main__:Target Reference: ['fotografiert', 'einen', 'See', 'mit', 'Bergen', 'im', 'Hintergrund', '.']\n",
      "INFO:__main__:IMT F1 score: 0.0\n"
     ]
    },
    {
     "name": "stdout",
     "output_type": "stream",
     "text": [
      "\n",
      "predicting target prefix: ['Ein', 'Mann', 'fotografiert']"
     ]
    },
    {
     "name": "stderr",
     "output_type": "stream",
     "text": [
      "INFO:__main__:Source: A man takes a photograph of a lake with mountains in the background . </S>\n",
      "INFO:__main__:Target Hypothesis: einen See , im Hintergrund ist Berge .\n",
      "INFO:__main__:Target Reference: ['einen', 'See', 'mit', 'Bergen', 'im', 'Hintergrund', '.']\n",
      "INFO:__main__:IMT F1 score: 0.266666666667\n"
     ]
    },
    {
     "name": "stdout",
     "output_type": "stream",
     "text": [
      "\n",
      "predicting target prefix: ['Ein', 'Mann', 'fotografiert', 'einen']"
     ]
    },
    {
     "name": "stderr",
     "output_type": "stream",
     "text": [
      "INFO:__main__:Source: A man takes a photograph of a lake with mountains in the background . </S>\n",
      "INFO:__main__:Target Hypothesis: See , im Hintergrund ist Berge .\n",
      "INFO:__main__:Target Reference: ['See', 'mit', 'Bergen', 'im', 'Hintergrund', '.']\n",
      "INFO:__main__:IMT F1 score: 0.153846153846\n"
     ]
    },
    {
     "name": "stdout",
     "output_type": "stream",
     "text": [
      "\n",
      "predicting target prefix: ['Ein', 'Mann', 'fotografiert', 'einen', 'See']"
     ]
    },
    {
     "name": "stderr",
     "output_type": "stream",
     "text": [
      "INFO:__main__:Source: A man takes a photograph of a lake with mountains in the background . </S>\n",
      "INFO:__main__:Target Hypothesis: , im Hintergrund ist Berge .\n",
      "INFO:__main__:Target Reference: ['mit', 'Bergen', 'im', 'Hintergrund', '.']\n",
      "INFO:__main__:IMT F1 score: 0.0\n"
     ]
    },
    {
     "name": "stdout",
     "output_type": "stream",
     "text": [
      "\n",
      "predicting target prefix: ['Ein', 'Mann', 'fotografiert', 'einen', 'See', 'mit']"
     ]
    },
    {
     "name": "stderr",
     "output_type": "stream",
     "text": [
      "INFO:__main__:Source: A man takes a photograph of a lake with mountains in the background . </S>\n",
      "INFO:__main__:Target Hypothesis: Bergen im Hintergrund .\n",
      "INFO:__main__:Target Reference: ['Bergen', 'im', 'Hintergrund', '.']\n",
      "INFO:__main__:IMT F1 score: 1.0\n"
     ]
    },
    {
     "name": "stdout",
     "output_type": "stream",
     "text": [
      "\n",
      "predicting target prefix: ['Ein', 'Mann', 'fotografiert', 'einen', 'See', 'mit', 'Bergen']"
     ]
    },
    {
     "name": "stderr",
     "output_type": "stream",
     "text": [
      "INFO:__main__:Source: A man takes a photograph of a lake with mountains in the background . </S>\n",
      "INFO:__main__:Target Hypothesis: im Hintergrund .\n",
      "INFO:__main__:Target Reference: ['im', 'Hintergrund', '.']\n",
      "INFO:__main__:IMT F1 score: 1.0\n"
     ]
    },
    {
     "name": "stdout",
     "output_type": "stream",
     "text": [
      "\n",
      "predicting target prefix: ['Ein', 'Mann', 'fotografiert', 'einen', 'See', 'mit', 'Bergen', 'im']"
     ]
    },
    {
     "name": "stderr",
     "output_type": "stream",
     "text": [
      "INFO:__main__:Source: A man takes a photograph of a lake with mountains in the background . </S>\n",
      "INFO:__main__:Target Hypothesis: Hintergrund .\n",
      "INFO:__main__:Target Reference: ['Hintergrund', '.']\n",
      "INFO:__main__:IMT F1 score: 1.0\n"
     ]
    },
    {
     "name": "stdout",
     "output_type": "stream",
     "text": [
      "\n",
      "predicting target prefix: ['Ein', 'Mann', 'fotografiert', 'einen', 'See', 'mit', 'Bergen', 'im', 'Hintergrund']"
     ]
    },
    {
     "name": "stderr",
     "output_type": "stream",
     "text": [
      "INFO:__main__:Source: A man takes a photograph of a lake with mountains in the background . </S>\n",
      "INFO:__main__:Target Hypothesis: .\n",
      "INFO:__main__:Target Reference: ['.']\n",
      "INFO:__main__:IMT F1 score: 1.0\n"
     ]
    },
    {
     "name": "stdout",
     "output_type": "stream",
     "text": [
      "\n",
      "predicting target prefix: ['Ein', 'Mann', 'fotografiert', 'einen', 'See', 'mit', 'Bergen', 'im', 'Hintergrund', '.']"
     ]
    },
    {
     "name": "stderr",
     "output_type": "stream",
     "text": [
      "INFO:__main__:Source: A man takes a photograph of a lake with mountains in the background . </S>\n",
      "INFO:__main__:Target Hypothesis: </S> .\n",
      "INFO:__main__:Target Reference: []\n",
      "INFO:__main__:IMT F1 score: 0.0\n",
      "INFO:__main__:Translating segment: 45\n"
     ]
    },
    {
     "name": "stdout",
     "output_type": "stream",
     "text": [
      "\n",
      "predicting target prefix: ['Eine']"
     ]
    },
    {
     "name": "stderr",
     "output_type": "stream",
     "text": [
      "INFO:__main__:Source: A brunette woman in a <UNK> 's egg blue apron is milking a brown animal . </S>\n",
      "INFO:__main__:Target Hypothesis: braunhaarige Frau in der Hand gemustertem ein braunes Plüschtier .\n",
      "INFO:__main__:Target Reference: ['br\\xc3\\xbcnette', 'Frau', 'mit', 'einer', 'eierschalenblauen', 'Sch\\xc3\\xbcrze', 'melkt', 'ein', 'braunes', 'Tier', '.']\n",
      "INFO:__main__:IMT F1 score: 0.0\n"
     ]
    },
    {
     "name": "stdout",
     "output_type": "stream",
     "text": [
      "\n",
      "predicting target prefix: ['Eine', 'br\\xc3\\xbcnette']"
     ]
    },
    {
     "name": "stderr",
     "output_type": "stream",
     "text": [
      "INFO:__main__:Source: A brunette woman in a <UNK> 's egg blue apron is milking a brown animal . </S>\n",
      "INFO:__main__:Target Hypothesis: Frau in einem Schaumbad ist ein braunes Plüschtier .\n",
      "INFO:__main__:Target Reference: ['Frau', 'mit', 'einer', 'eierschalenblauen', 'Sch\\xc3\\xbcrze', 'melkt', 'ein', 'braunes', 'Tier', '.']\n",
      "INFO:__main__:IMT F1 score: 0.105263157895\n"
     ]
    },
    {
     "name": "stdout",
     "output_type": "stream",
     "text": [
      "\n",
      "predicting target prefix: ['Eine', 'br\\xc3\\xbcnette', 'Frau']"
     ]
    },
    {
     "name": "stderr",
     "output_type": "stream",
     "text": [
      "INFO:__main__:Source: A brunette woman in a <UNK> 's egg blue apron is milking a brown animal . </S>\n",
      "INFO:__main__:Target Hypothesis: in einem Schaumbad ist ein braunes Plüschtier .\n",
      "INFO:__main__:Target Reference: ['mit', 'einer', 'eierschalenblauen', 'Sch\\xc3\\xbcrze', 'melkt', 'ein', 'braunes', 'Tier', '.']\n",
      "INFO:__main__:IMT F1 score: 0.0\n"
     ]
    },
    {
     "name": "stdout",
     "output_type": "stream",
     "text": [
      "\n",
      "predicting target prefix: ['Eine', 'br\\xc3\\xbcnette', 'Frau', 'mit']"
     ]
    },
    {
     "name": "stderr",
     "output_type": "stream",
     "text": [
      "INFO:__main__:Source: A brunette woman in a <UNK> 's egg blue apron is milking a brown animal . </S>\n",
      "INFO:__main__:Target Hypothesis: einem Rauchen nach unten gebogen , während ein braunes Plüschtier .\n",
      "INFO:__main__:Target Reference: ['einer', 'eierschalenblauen', 'Sch\\xc3\\xbcrze', 'melkt', 'ein', 'braunes', 'Tier', '.']\n",
      "INFO:__main__:IMT F1 score: 0.0\n"
     ]
    },
    {
     "name": "stdout",
     "output_type": "stream",
     "text": [
      "\n",
      "predicting target prefix: ['Eine', 'br\\xc3\\xbcnette', 'Frau', 'mit', 'einer']"
     ]
    },
    {
     "name": "stderr",
     "output_type": "stream",
     "text": [
      "INFO:__main__:Source: A brunette woman in a <UNK> 's egg blue apron is milking a brown animal . </S>\n",
      "INFO:__main__:Target Hypothesis: Einkaufstasche befindet sich vor einem braunen Tier .\n",
      "INFO:__main__:Target Reference: ['eierschalenblauen', 'Sch\\xc3\\xbcrze', 'melkt', 'ein', 'braunes', 'Tier', '.']\n",
      "INFO:__main__:IMT F1 score: 0.0\n"
     ]
    },
    {
     "name": "stdout",
     "output_type": "stream",
     "text": [
      "\n",
      "predicting target prefix: ['Eine', 'br\\xc3\\xbcnette', 'Frau', 'mit', 'einer', 'eierschalenblauen']"
     ]
    },
    {
     "name": "stderr",
     "output_type": "stream",
     "text": [
      "INFO:__main__:Source: A brunette woman in a <UNK> 's egg blue apron is milking a brown animal . </S>\n",
      "INFO:__main__:Target Hypothesis: decken den Kopf ist ein braunes Plüschtier .\n",
      "INFO:__main__:Target Reference: ['Sch\\xc3\\xbcrze', 'melkt', 'ein', 'braunes', 'Tier', '.']\n",
      "INFO:__main__:IMT F1 score: 0.0\n"
     ]
    },
    {
     "name": "stdout",
     "output_type": "stream",
     "text": [
      "\n",
      "predicting target prefix: ['Eine', 'br\\xc3\\xbcnette', 'Frau', 'mit', 'einer', 'eierschalenblauen', 'Sch\\xc3\\xbcrze']"
     ]
    },
    {
     "name": "stderr",
     "output_type": "stream",
     "text": [
      "INFO:__main__:Source: A brunette woman in a <UNK> 's egg blue apron is milking a brown animal . </S>\n",
      "INFO:__main__:Target Hypothesis: vor einem braunen Tier stampfen ein braunes Plüschtier .\n",
      "INFO:__main__:Target Reference: ['melkt', 'ein', 'braunes', 'Tier', '.']\n",
      "INFO:__main__:IMT F1 score: 0.0\n"
     ]
    },
    {
     "name": "stdout",
     "output_type": "stream",
     "text": [
      "\n",
      "predicting target prefix: ['Eine', 'br\\xc3\\xbcnette', 'Frau', 'mit', 'einer', 'eierschalenblauen', 'Sch\\xc3\\xbcrze', 'melkt']"
     ]
    },
    {
     "name": "stderr",
     "output_type": "stream",
     "text": [
      "INFO:__main__:Source: A brunette woman in a <UNK> 's egg blue apron is milking a brown animal . </S>\n",
      "INFO:__main__:Target Hypothesis: ein braunes Plüschtier .\n",
      "INFO:__main__:Target Reference: ['ein', 'braunes', 'Tier', '.']\n",
      "INFO:__main__:IMT F1 score: 0.5\n"
     ]
    },
    {
     "name": "stdout",
     "output_type": "stream",
     "text": [
      "\n",
      "predicting target prefix: ['Eine', 'br\\xc3\\xbcnette', 'Frau', 'mit', 'einer', 'eierschalenblauen', 'Sch\\xc3\\xbcrze', 'melkt', 'ein']"
     ]
    },
    {
     "name": "stderr",
     "output_type": "stream",
     "text": [
      "INFO:__main__:Source: A brunette woman in a <UNK> 's egg blue apron is milking a brown animal . </S>\n",
      "INFO:__main__:Target Hypothesis: braunes Plüschtier .\n",
      "INFO:__main__:Target Reference: ['braunes', 'Tier', '.']\n",
      "INFO:__main__:IMT F1 score: 0.333333333333\n"
     ]
    },
    {
     "name": "stdout",
     "output_type": "stream",
     "text": [
      "\n",
      "predicting target prefix: ['Eine', 'br\\xc3\\xbcnette', 'Frau', 'mit', 'einer', 'eierschalenblauen', 'Sch\\xc3\\xbcrze', 'melkt', 'ein', 'braunes']"
     ]
    },
    {
     "name": "stderr",
     "output_type": "stream",
     "text": [
      "INFO:__main__:Source: A brunette woman in a <UNK> 's egg blue apron is milking a brown animal . </S>\n",
      "INFO:__main__:Target Hypothesis: Plüschtier .\n",
      "INFO:__main__:Target Reference: ['Tier', '.']\n",
      "INFO:__main__:IMT F1 score: 0.0\n"
     ]
    },
    {
     "name": "stdout",
     "output_type": "stream",
     "text": [
      "\n",
      "predicting target prefix: ['Eine', 'br\\xc3\\xbcnette', 'Frau', 'mit', 'einer', 'eierschalenblauen', 'Sch\\xc3\\xbcrze', 'melkt', 'ein', 'braunes', 'Tier']"
     ]
    },
    {
     "name": "stderr",
     "output_type": "stream",
     "text": [
      "INFO:__main__:Source: A brunette woman in a <UNK> 's egg blue apron is milking a brown animal . </S>\n",
      "INFO:__main__:Target Hypothesis: .\n",
      "INFO:__main__:Target Reference: ['.']\n",
      "INFO:__main__:IMT F1 score: 1.0\n"
     ]
    },
    {
     "name": "stdout",
     "output_type": "stream",
     "text": [
      "\n",
      "predicting target prefix: ['Eine', 'br\\xc3\\xbcnette', 'Frau', 'mit', 'einer', 'eierschalenblauen', 'Sch\\xc3\\xbcrze', 'melkt', 'ein', 'braunes', 'Tier', '.']"
     ]
    },
    {
     "name": "stderr",
     "output_type": "stream",
     "text": [
      "INFO:__main__:Source: A brunette woman in a <UNK> 's egg blue apron is milking a brown animal . </S>\n",
      "INFO:__main__:Target Hypothesis: </S> .\n",
      "INFO:__main__:Target Reference: []\n",
      "INFO:__main__:IMT F1 score: 0.0\n",
      "INFO:__main__:Translating segment: 46\n"
     ]
    },
    {
     "name": "stdout",
     "output_type": "stream",
     "text": [
      "\n",
      "predicting target prefix: ['Menschen']"
     ]
    },
    {
     "name": "stderr",
     "output_type": "stream",
     "text": [
      "INFO:__main__:Source: People protesting age <UNK> in an organized street rally . </S>\n",
      "INFO:__main__:Target Hypothesis: überqueren in einer Reihe von Lichtern .\n",
      "INFO:__main__:Target Reference: ['protestieren', 'in', 'einer', 'organisierten', 'Stra\\xc3\\x9fenkundgebung', 'gegen', 'die', 'Altersdiskriminierung', '.']\n",
      "INFO:__main__:IMT F1 score: 0.0\n"
     ]
    },
    {
     "name": "stdout",
     "output_type": "stream",
     "text": [
      "\n",
      "predicting target prefix: ['Menschen', 'protestieren']"
     ]
    },
    {
     "name": "stderr",
     "output_type": "stream",
     "text": [
      "INFO:__main__:Source: People protesting age <UNK> in an organized street rally . </S>\n",
      "INFO:__main__:Target Hypothesis: über eine Versammlung .\n",
      "INFO:__main__:Target Reference: ['in', 'einer', 'organisierten', 'Stra\\xc3\\x9fenkundgebung', 'gegen', 'die', 'Altersdiskriminierung', '.']\n",
      "INFO:__main__:IMT F1 score: 0.0\n"
     ]
    },
    {
     "name": "stdout",
     "output_type": "stream",
     "text": [
      "\n",
      "predicting target prefix: ['Menschen', 'protestieren', 'in']"
     ]
    },
    {
     "name": "stderr",
     "output_type": "stream",
     "text": [
      "INFO:__main__:Source: People protesting age <UNK> in an organized street rally . </S>\n",
      "INFO:__main__:Target Hypothesis: einem Schaufenster .\n",
      "INFO:__main__:Target Reference: ['einer', 'organisierten', 'Stra\\xc3\\x9fenkundgebung', 'gegen', 'die', 'Altersdiskriminierung', '.']\n",
      "INFO:__main__:IMT F1 score: 0.0\n"
     ]
    },
    {
     "name": "stdout",
     "output_type": "stream",
     "text": [
      "\n",
      "predicting target prefix: ['Menschen', 'protestieren', 'in', 'einer']"
     ]
    },
    {
     "name": "stderr",
     "output_type": "stream",
     "text": [
      "INFO:__main__:Source: People protesting age <UNK> in an organized street rally . </S>\n",
      "INFO:__main__:Target Hypothesis: Versammlung von Lichtern .\n",
      "INFO:__main__:Target Reference: ['organisierten', 'Stra\\xc3\\x9fenkundgebung', 'gegen', 'die', 'Altersdiskriminierung', '.']\n",
      "INFO:__main__:IMT F1 score: 0.0\n"
     ]
    },
    {
     "name": "stdout",
     "output_type": "stream",
     "text": [
      "\n",
      "predicting target prefix: ['Menschen', 'protestieren', 'in', 'einer', 'organisierten']"
     ]
    },
    {
     "name": "stderr",
     "output_type": "stream",
     "text": [
      "INFO:__main__:Source: People protesting age <UNK> in an organized street rally . </S>\n",
      "INFO:__main__:Target Hypothesis: .\n",
      "INFO:__main__:Target Reference: ['Stra\\xc3\\x9fenkundgebung', 'gegen', 'die', 'Altersdiskriminierung', '.']\n",
      "INFO:__main__:IMT F1 score: 0.0\n",
      "INFO:__main__:Source: People protesting age <UNK> in an organized street rally . </S>\n",
      "INFO:__main__:Target Hypothesis: .\n",
      "INFO:__main__:Target Reference: ['gegen', 'die', 'Altersdiskriminierung', '.']\n",
      "INFO:__main__:IMT F1 score: 0.0\n"
     ]
    },
    {
     "name": "stdout",
     "output_type": "stream",
     "text": [
      "\n",
      "predicting target prefix: ['Menschen', 'protestieren', 'in', 'einer', 'organisierten', 'Stra\\xc3\\x9fenkundgebung']\n",
      "predicting target prefix: ['Menschen', 'protestieren', 'in', 'einer', 'organisierten', 'Stra\\xc3\\x9fenkundgebung', 'gegen']"
     ]
    },
    {
     "name": "stderr",
     "output_type": "stream",
     "text": [
      "INFO:__main__:Source: People protesting age <UNK> in an organized street rally . </S>\n",
      "INFO:__main__:Target Hypothesis: .\n",
      "INFO:__main__:Target Reference: ['die', 'Altersdiskriminierung', '.']\n",
      "INFO:__main__:IMT F1 score: 0.0\n"
     ]
    },
    {
     "name": "stdout",
     "output_type": "stream",
     "text": [
      "\n",
      "predicting target prefix: ['Menschen', 'protestieren', 'in', 'einer', 'organisierten', 'Stra\\xc3\\x9fenkundgebung', 'gegen', 'die']"
     ]
    },
    {
     "name": "stderr",
     "output_type": "stream",
     "text": [
      "INFO:__main__:Source: People protesting age <UNK> in an organized street rally . </S>\n",
      "INFO:__main__:Target Hypothesis: Shop .\n",
      "INFO:__main__:Target Reference: ['Altersdiskriminierung', '.']\n",
      "INFO:__main__:IMT F1 score: 0.0\n",
      "INFO:__main__:Source: People protesting age <UNK> in an organized street rally . </S>\n",
      "INFO:__main__:Target Hypothesis: .\n",
      "INFO:__main__:Target Reference: ['.']\n",
      "INFO:__main__:IMT F1 score: 1.0\n"
     ]
    },
    {
     "name": "stdout",
     "output_type": "stream",
     "text": [
      "\n",
      "predicting target prefix: ['Menschen', 'protestieren', 'in', 'einer', 'organisierten', 'Stra\\xc3\\x9fenkundgebung', 'gegen', 'die', 'Altersdiskriminierung']\n",
      "predicting target prefix: ['Menschen', 'protestieren', 'in', 'einer', 'organisierten', 'Stra\\xc3\\x9fenkundgebung', 'gegen', 'die', 'Altersdiskriminierung', '.']"
     ]
    },
    {
     "name": "stderr",
     "output_type": "stream",
     "text": [
      "INFO:__main__:Source: People protesting age <UNK> in an organized street rally . </S>\n",
      "INFO:__main__:Target Hypothesis: </S> .\n",
      "INFO:__main__:Target Reference: []\n",
      "INFO:__main__:IMT F1 score: 0.0\n",
      "INFO:__main__:Translating segment: 47\n"
     ]
    },
    {
     "name": "stdout",
     "output_type": "stream",
     "text": [
      "\n",
      "predicting target prefix: ['Zwei']"
     ]
    },
    {
     "name": "stderr",
     "output_type": "stream",
     "text": [
      "INFO:__main__:Source: Two young girls playing basketball , one in white attempting a layup while the other in red defends . </S>\n",
      "INFO:__main__:Target Hypothesis: kleine Mädchen spielen Basketball , die andere im Hintergrund sind zu sehen .\n",
      "INFO:__main__:Target Reference: ['junge', 'M\\xc3\\xa4dchen', 'spielen', 'Basketball', ',', 'wobei', 'die', 'eine', 'in', 'Wei\\xc3\\x9f', 'einen', 'Korbleger', 'versucht', 'und', 'die', 'andere', 'in', 'Rot', 'verteidigt', '.']\n",
      "INFO:__main__:IMT F1 score: 0.0\n"
     ]
    },
    {
     "name": "stdout",
     "output_type": "stream",
     "text": [
      "\n",
      "predicting target prefix: ['Zwei', 'junge']"
     ]
    },
    {
     "name": "stderr",
     "output_type": "stream",
     "text": [
      "INFO:__main__:Source: Two young girls playing basketball , one in white attempting a layup while the other in red defends . </S>\n",
      "INFO:__main__:Target Hypothesis: Mädchen spielen Basketball , die andere im Hintergrund sind zu sehen .\n",
      "INFO:__main__:Target Reference: ['M\\xc3\\xa4dchen', 'spielen', 'Basketball', ',', 'wobei', 'die', 'eine', 'in', 'Wei\\xc3\\x9f', 'einen', 'Korbleger', 'versucht', 'und', 'die', 'andere', 'in', 'Rot', 'verteidigt', '.']\n",
      "INFO:__main__:IMT F1 score: 0.258064516129\n"
     ]
    },
    {
     "name": "stdout",
     "output_type": "stream",
     "text": [
      "\n",
      "predicting target prefix: ['Zwei', 'junge', 'M\\xc3\\xa4dchen']"
     ]
    },
    {
     "name": "stderr",
     "output_type": "stream",
     "text": [
      "INFO:__main__:Source: Two young girls playing basketball , one in white attempting a layup while the other in red defends . </S>\n",
      "INFO:__main__:Target Hypothesis: spielen Basketball , die andere im Hintergrund sind zu sehen .\n",
      "INFO:__main__:Target Reference: ['spielen', 'Basketball', ',', 'wobei', 'die', 'eine', 'in', 'Wei\\xc3\\x9f', 'einen', 'Korbleger', 'versucht', 'und', 'die', 'andere', 'in', 'Rot', 'verteidigt', '.']\n",
      "INFO:__main__:IMT F1 score: 0.206896551724\n"
     ]
    },
    {
     "name": "stdout",
     "output_type": "stream",
     "text": [
      "\n",
      "predicting target prefix: ['Zwei', 'junge', 'M\\xc3\\xa4dchen', 'spielen']"
     ]
    },
    {
     "name": "stderr",
     "output_type": "stream",
     "text": [
      "INFO:__main__:Source: Two young girls playing basketball , one in white attempting a layup while the other in red defends . </S>\n",
      "INFO:__main__:Target Hypothesis: Basketball , die andere im Hintergrund sind zu sehen .\n",
      "INFO:__main__:Target Reference: ['Basketball', ',', 'wobei', 'die', 'eine', 'in', 'Wei\\xc3\\x9f', 'einen', 'Korbleger', 'versucht', 'und', 'die', 'andere', 'in', 'Rot', 'verteidigt', '.']\n",
      "INFO:__main__:IMT F1 score: 0.148148148148\n"
     ]
    },
    {
     "name": "stdout",
     "output_type": "stream",
     "text": [
      "\n",
      "predicting target prefix: ['Zwei', 'junge', 'M\\xc3\\xa4dchen', 'spielen', 'Basketball']"
     ]
    },
    {
     "name": "stderr",
     "output_type": "stream",
     "text": [
      "INFO:__main__:Source: Two young girls playing basketball , one in white attempting a layup while the other in red defends . </S>\n",
      "INFO:__main__:Target Hypothesis: , die andere im Hintergrund sind zu sehen .\n",
      "INFO:__main__:Target Reference: [',', 'wobei', 'die', 'eine', 'in', 'Wei\\xc3\\x9f', 'einen', 'Korbleger', 'versucht', 'und', 'die', 'andere', 'in', 'Rot', 'verteidigt', '.']\n",
      "INFO:__main__:IMT F1 score: 0.08\n"
     ]
    },
    {
     "name": "stdout",
     "output_type": "stream",
     "text": [
      "\n",
      "predicting target prefix: ['Zwei', 'junge', 'M\\xc3\\xa4dchen', 'spielen', 'Basketball', ',']"
     ]
    },
    {
     "name": "stderr",
     "output_type": "stream",
     "text": [
      "INFO:__main__:Source: Two young girls playing basketball , one in white attempting a layup while the other in red defends . </S>\n",
      "INFO:__main__:Target Hypothesis: die andere im Hintergrund sind zu sehen .\n",
      "INFO:__main__:Target Reference: ['wobei', 'die', 'eine', 'in', 'Wei\\xc3\\x9f', 'einen', 'Korbleger', 'versucht', 'und', 'die', 'andere', 'in', 'Rot', 'verteidigt', '.']\n",
      "INFO:__main__:IMT F1 score: 0.0\n"
     ]
    },
    {
     "name": "stdout",
     "output_type": "stream",
     "text": [
      "\n",
      "predicting target prefix: ['Zwei', 'junge', 'M\\xc3\\xa4dchen', 'spielen', 'Basketball', ',', 'wobei']"
     ]
    },
    {
     "name": "stderr",
     "output_type": "stream",
     "text": [
      "INFO:__main__:Source: Two young girls playing basketball , one in white attempting a layup while the other in red defends . </S>\n",
      "INFO:__main__:Target Hypothesis: die andere in Rot im Hintergrund sind .\n",
      "INFO:__main__:Target Reference: ['die', 'eine', 'in', 'Wei\\xc3\\x9f', 'einen', 'Korbleger', 'versucht', 'und', 'die', 'andere', 'in', 'Rot', 'verteidigt', '.']\n",
      "INFO:__main__:IMT F1 score: 0.0909090909091\n"
     ]
    },
    {
     "name": "stdout",
     "output_type": "stream",
     "text": [
      "\n",
      "predicting target prefix: ['Zwei', 'junge', 'M\\xc3\\xa4dchen', 'spielen', 'Basketball', ',', 'wobei', 'die']"
     ]
    },
    {
     "name": "stderr",
     "output_type": "stream",
     "text": [
      "INFO:__main__:Source: Two young girls playing basketball , one in white attempting a layup while the other in red defends . </S>\n",
      "INFO:__main__:Target Hypothesis: andere in Rot im Hintergrund sind .\n",
      "INFO:__main__:Target Reference: ['eine', 'in', 'Wei\\xc3\\x9f', 'einen', 'Korbleger', 'versucht', 'und', 'die', 'andere', 'in', 'Rot', 'verteidigt', '.']\n",
      "INFO:__main__:IMT F1 score: 0.0\n"
     ]
    },
    {
     "name": "stdout",
     "output_type": "stream",
     "text": [
      "\n",
      "predicting target prefix: ['Zwei', 'junge', 'M\\xc3\\xa4dchen', 'spielen', 'Basketball', ',', 'wobei', 'die', 'eine']"
     ]
    },
    {
     "name": "stderr",
     "output_type": "stream",
     "text": [
      "INFO:__main__:Source: Two young girls playing basketball , one in white attempting a layup while the other in red defends . </S>\n",
      "INFO:__main__:Target Hypothesis: andere in Rot im Hintergrund sind .\n",
      "INFO:__main__:Target Reference: ['in', 'Wei\\xc3\\x9f', 'einen', 'Korbleger', 'versucht', 'und', 'die', 'andere', 'in', 'Rot', 'verteidigt', '.']\n",
      "INFO:__main__:IMT F1 score: 0.0\n"
     ]
    },
    {
     "name": "stdout",
     "output_type": "stream",
     "text": [
      "\n",
      "predicting target prefix: ['Zwei', 'junge', 'M\\xc3\\xa4dchen', 'spielen', 'Basketball', ',', 'wobei', 'die', 'eine', 'in']"
     ]
    },
    {
     "name": "stderr",
     "output_type": "stream",
     "text": [
      "INFO:__main__:Source: Two young girls playing basketball , one in white attempting a layup while the other in red defends . </S>\n",
      "INFO:__main__:Target Hypothesis: Rot im Hintergrund sind .\n",
      "INFO:__main__:Target Reference: ['Wei\\xc3\\x9f', 'einen', 'Korbleger', 'versucht', 'und', 'die', 'andere', 'in', 'Rot', 'verteidigt', '.']\n",
      "INFO:__main__:IMT F1 score: 0.0\n"
     ]
    },
    {
     "name": "stdout",
     "output_type": "stream",
     "text": [
      "\n",
      "predicting target prefix: ['Zwei', 'junge', 'M\\xc3\\xa4dchen', 'spielen', 'Basketball', ',', 'wobei', 'die', 'eine', 'in', 'Wei\\xc3\\x9f']"
     ]
    },
    {
     "name": "stderr",
     "output_type": "stream",
     "text": [
      "INFO:__main__:Source: Two young girls playing basketball , one in white attempting a layup while the other in red defends . </S>\n",
      "INFO:__main__:Target Hypothesis: gekleidet sind .\n",
      "INFO:__main__:Target Reference: ['einen', 'Korbleger', 'versucht', 'und', 'die', 'andere', 'in', 'Rot', 'verteidigt', '.']\n",
      "INFO:__main__:IMT F1 score: 0.0\n"
     ]
    },
    {
     "name": "stdout",
     "output_type": "stream",
     "text": [
      "\n",
      "predicting target prefix: ['Zwei', 'junge', 'M\\xc3\\xa4dchen', 'spielen', 'Basketball', ',', 'wobei', 'die', 'eine', 'in', 'Wei\\xc3\\x9f', 'einen']"
     ]
    },
    {
     "name": "stderr",
     "output_type": "stream",
     "text": [
      "INFO:__main__:Source: Two young girls playing basketball , one in white attempting a layup while the other in red defends . </S>\n",
      "INFO:__main__:Target Hypothesis: Schlag versetzt .\n",
      "INFO:__main__:Target Reference: ['Korbleger', 'versucht', 'und', 'die', 'andere', 'in', 'Rot', 'verteidigt', '.']\n",
      "INFO:__main__:IMT F1 score: 0.0\n"
     ]
    },
    {
     "name": "stdout",
     "output_type": "stream",
     "text": [
      "\n",
      "predicting target prefix: ['Zwei', 'junge', 'M\\xc3\\xa4dchen', 'spielen', 'Basketball', ',', 'wobei', 'die', 'eine', 'in', 'Wei\\xc3\\x9f', 'einen', 'Korbleger']"
     ]
    },
    {
     "name": "stderr",
     "output_type": "stream",
     "text": [
      "INFO:__main__:Source: Two young girls playing basketball , one in white attempting a layup while the other in red defends . </S>\n",
      "INFO:__main__:Target Hypothesis: gespielt wird .\n",
      "INFO:__main__:Target Reference: ['versucht', 'und', 'die', 'andere', 'in', 'Rot', 'verteidigt', '.']\n",
      "INFO:__main__:IMT F1 score: 0.0\n"
     ]
    },
    {
     "name": "stdout",
     "output_type": "stream",
     "text": [
      "\n",
      "predicting target prefix: ['Zwei', 'junge', 'M\\xc3\\xa4dchen', 'spielen', 'Basketball', ',', 'wobei', 'die', 'eine', 'in', 'Wei\\xc3\\x9f', 'einen', 'Korbleger', 'versucht']"
     ]
    },
    {
     "name": "stderr",
     "output_type": "stream",
     "text": [
      "INFO:__main__:Source: Two young girls playing basketball , one in white attempting a layup while the other in red defends . </S>\n",
      "INFO:__main__:Target Hypothesis: .\n",
      "INFO:__main__:Target Reference: ['und', 'die', 'andere', 'in', 'Rot', 'verteidigt', '.']\n",
      "INFO:__main__:IMT F1 score: 0.0\n"
     ]
    },
    {
     "name": "stdout",
     "output_type": "stream",
     "text": [
      "\n",
      "predicting target prefix: ['Zwei', 'junge', 'M\\xc3\\xa4dchen', 'spielen', 'Basketball', ',', 'wobei', 'die', 'eine', 'in', 'Wei\\xc3\\x9f', 'einen', 'Korbleger', 'versucht', 'und']"
     ]
    },
    {
     "name": "stderr",
     "output_type": "stream",
     "text": [
      "INFO:__main__:Source: Two young girls playing basketball , one in white attempting a layup while the other in red defends . </S>\n",
      "INFO:__main__:Target Hypothesis: im Hintergrund zu sehen sind .\n",
      "INFO:__main__:Target Reference: ['die', 'andere', 'in', 'Rot', 'verteidigt', '.']\n",
      "INFO:__main__:IMT F1 score: 0.0\n"
     ]
    },
    {
     "name": "stdout",
     "output_type": "stream",
     "text": [
      "\n",
      "predicting target prefix: ['Zwei', 'junge', 'M\\xc3\\xa4dchen', 'spielen', 'Basketball', ',', 'wobei', 'die', 'eine', 'in', 'Wei\\xc3\\x9f', 'einen', 'Korbleger', 'versucht', 'und', 'die']"
     ]
    },
    {
     "name": "stderr",
     "output_type": "stream",
     "text": [
      "INFO:__main__:Source: Two young girls playing basketball , one in white attempting a layup while the other in red defends . </S>\n",
      "INFO:__main__:Target Hypothesis: andere im Hintergrund .\n",
      "INFO:__main__:Target Reference: ['andere', 'in', 'Rot', 'verteidigt', '.']\n",
      "INFO:__main__:IMT F1 score: 0.222222222222\n"
     ]
    },
    {
     "name": "stdout",
     "output_type": "stream",
     "text": [
      "\n",
      "predicting target prefix: ['Zwei', 'junge', 'M\\xc3\\xa4dchen', 'spielen', 'Basketball', ',', 'wobei', 'die', 'eine', 'in', 'Wei\\xc3\\x9f', 'einen', 'Korbleger', 'versucht', 'und', 'die', 'andere']"
     ]
    },
    {
     "name": "stderr",
     "output_type": "stream",
     "text": [
      "INFO:__main__:Source: Two young girls playing basketball , one in white attempting a layup while the other in red defends . </S>\n",
      "INFO:__main__:Target Hypothesis: im Hintergrund .\n",
      "INFO:__main__:Target Reference: ['in', 'Rot', 'verteidigt', '.']\n",
      "INFO:__main__:IMT F1 score: 0.0\n"
     ]
    },
    {
     "name": "stdout",
     "output_type": "stream",
     "text": [
      "\n",
      "predicting target prefix: ['Zwei', 'junge', 'M\\xc3\\xa4dchen', 'spielen', 'Basketball', ',', 'wobei', 'die', 'eine', 'in', 'Wei\\xc3\\x9f', 'einen', 'Korbleger', 'versucht', 'und', 'die', 'andere', 'in']"
     ]
    },
    {
     "name": "stderr",
     "output_type": "stream",
     "text": [
      "INFO:__main__:Source: Two young girls playing basketball , one in white attempting a layup while the other in red defends . </S>\n",
      "INFO:__main__:Target Hypothesis: Rot .\n",
      "INFO:__main__:Target Reference: ['Rot', 'verteidigt', '.']\n",
      "INFO:__main__:IMT F1 score: 0.4\n"
     ]
    },
    {
     "name": "stdout",
     "output_type": "stream",
     "text": [
      "\n",
      "predicting target prefix: ['Zwei', 'junge', 'M\\xc3\\xa4dchen', 'spielen', 'Basketball', ',', 'wobei', 'die', 'eine', 'in', 'Wei\\xc3\\x9f', 'einen', 'Korbleger', 'versucht', 'und', 'die', 'andere', 'in', 'Rot']"
     ]
    },
    {
     "name": "stderr",
     "output_type": "stream",
     "text": [
      "INFO:__main__:Source: Two young girls playing basketball , one in white attempting a layup while the other in red defends . </S>\n",
      "INFO:__main__:Target Hypothesis: .\n",
      "INFO:__main__:Target Reference: ['verteidigt', '.']\n",
      "INFO:__main__:IMT F1 score: 0.0\n"
     ]
    },
    {
     "name": "stdout",
     "output_type": "stream",
     "text": [
      "\n",
      "predicting target prefix: ['Zwei', 'junge', 'M\\xc3\\xa4dchen', 'spielen', 'Basketball', ',', 'wobei', 'die', 'eine', 'in', 'Wei\\xc3\\x9f', 'einen', 'Korbleger', 'versucht', 'und', 'die', 'andere', 'in', 'Rot', 'verteidigt']"
     ]
    },
    {
     "name": "stderr",
     "output_type": "stream",
     "text": [
      "INFO:__main__:Source: Two young girls playing basketball , one in white attempting a layup while the other in red defends . </S>\n",
      "INFO:__main__:Target Hypothesis: .\n",
      "INFO:__main__:Target Reference: ['.']\n",
      "INFO:__main__:IMT F1 score: 1.0\n"
     ]
    },
    {
     "name": "stdout",
     "output_type": "stream",
     "text": [
      "\n",
      "predicting target prefix: ['Zwei', 'junge', 'M\\xc3\\xa4dchen', 'spielen', 'Basketball', ',', 'wobei', 'die', 'eine', 'in', 'Wei\\xc3\\x9f', 'einen', 'Korbleger', 'versucht', 'und', 'die', 'andere', 'in', 'Rot', 'verteidigt', '.']"
     ]
    },
    {
     "name": "stderr",
     "output_type": "stream",
     "text": [
      "INFO:__main__:Source: Two young girls playing basketball , one in white attempting a layup while the other in red defends . </S>\n",
      "INFO:__main__:Target Hypothesis: </S> .\n",
      "INFO:__main__:Target Reference: []\n",
      "INFO:__main__:IMT F1 score: 0.0\n",
      "INFO:__main__:Translating segment: 48\n"
     ]
    },
    {
     "name": "stdout",
     "output_type": "stream",
     "text": [
      "\n",
      "predicting target prefix: ['Eine']"
     ]
    },
    {
     "name": "stderr",
     "output_type": "stream",
     "text": [
      "INFO:__main__:Source: A lady in a bikini doing a cartwheel in the sand . </S>\n",
      "INFO:__main__:Target Hypothesis: Frau in einem Bikini macht auf dem Sand ein Rad .\n",
      "INFO:__main__:Target Reference: ['Dame', 'in', 'einem', 'Bikini', 'schl\\xc3\\xa4gt', 'ein', 'Rad', 'im', 'Sand', '.']\n",
      "INFO:__main__:IMT F1 score: 0.0\n"
     ]
    },
    {
     "name": "stdout",
     "output_type": "stream",
     "text": [
      "\n",
      "predicting target prefix: ['Eine', 'Dame']"
     ]
    },
    {
     "name": "stderr",
     "output_type": "stream",
     "text": [
      "INFO:__main__:Source: A lady in a bikini doing a cartwheel in the sand . </S>\n",
      "INFO:__main__:Target Hypothesis: im Bikini macht auf dem Sand ein Rad .\n",
      "INFO:__main__:Target Reference: ['in', 'einem', 'Bikini', 'schl\\xc3\\xa4gt', 'ein', 'Rad', 'im', 'Sand', '.']\n",
      "INFO:__main__:IMT F1 score: 0.0\n"
     ]
    },
    {
     "name": "stdout",
     "output_type": "stream",
     "text": [
      "\n",
      "predicting target prefix: ['Eine', 'Dame', 'in']"
     ]
    },
    {
     "name": "stderr",
     "output_type": "stream",
     "text": [
      "INFO:__main__:Source: A lady in a bikini doing a cartwheel in the sand . </S>\n",
      "INFO:__main__:Target Hypothesis: einem Bikini macht auf dem Sand ein Rad .\n",
      "INFO:__main__:Target Reference: ['einem', 'Bikini', 'schl\\xc3\\xa4gt', 'ein', 'Rad', 'im', 'Sand', '.']\n",
      "INFO:__main__:IMT F1 score: 0.235294117647\n"
     ]
    },
    {
     "name": "stdout",
     "output_type": "stream",
     "text": [
      "\n",
      "predicting target prefix: ['Eine', 'Dame', 'in', 'einem']"
     ]
    },
    {
     "name": "stderr",
     "output_type": "stream",
     "text": [
      "INFO:__main__:Source: A lady in a bikini doing a cartwheel in the sand . </S>\n",
      "INFO:__main__:Target Hypothesis: Bikini macht auf dem Sand ein Rad .\n",
      "INFO:__main__:Target Reference: ['Bikini', 'schl\\xc3\\xa4gt', 'ein', 'Rad', 'im', 'Sand', '.']\n",
      "INFO:__main__:IMT F1 score: 0.133333333333\n"
     ]
    },
    {
     "name": "stdout",
     "output_type": "stream",
     "text": [
      "\n",
      "predicting target prefix: ['Eine', 'Dame', 'in', 'einem', 'Bikini']"
     ]
    },
    {
     "name": "stderr",
     "output_type": "stream",
     "text": [
      "INFO:__main__:Source: A lady in a bikini doing a cartwheel in the sand . </S>\n",
      "INFO:__main__:Target Hypothesis: macht auf dem Sand ein Rad .\n",
      "INFO:__main__:Target Reference: ['schl\\xc3\\xa4gt', 'ein', 'Rad', 'im', 'Sand', '.']\n",
      "INFO:__main__:IMT F1 score: 0.0\n"
     ]
    },
    {
     "name": "stdout",
     "output_type": "stream",
     "text": [
      "\n",
      "predicting target prefix: ['Eine', 'Dame', 'in', 'einem', 'Bikini', 'schl\\xc3\\xa4gt']"
     ]
    },
    {
     "name": "stderr",
     "output_type": "stream",
     "text": [
      "INFO:__main__:Source: A lady in a bikini doing a cartwheel in the sand . </S>\n",
      "INFO:__main__:Target Hypothesis: auf dem Sand ein Rad .\n",
      "INFO:__main__:Target Reference: ['ein', 'Rad', 'im', 'Sand', '.']\n",
      "INFO:__main__:IMT F1 score: 0.0\n"
     ]
    },
    {
     "name": "stdout",
     "output_type": "stream",
     "text": [
      "\n",
      "predicting target prefix: ['Eine', 'Dame', 'in', 'einem', 'Bikini', 'schl\\xc3\\xa4gt', 'ein']"
     ]
    },
    {
     "name": "stderr",
     "output_type": "stream",
     "text": [
      "INFO:__main__:Source: A lady in a bikini doing a cartwheel in the sand . </S>\n",
      "INFO:__main__:Target Hypothesis: Rad im Sand .\n",
      "INFO:__main__:Target Reference: ['Rad', 'im', 'Sand', '.']\n",
      "INFO:__main__:IMT F1 score: 1.0\n"
     ]
    },
    {
     "name": "stdout",
     "output_type": "stream",
     "text": [
      "\n",
      "predicting target prefix: ['Eine', 'Dame', 'in', 'einem', 'Bikini', 'schl\\xc3\\xa4gt', 'ein', 'Rad']"
     ]
    },
    {
     "name": "stderr",
     "output_type": "stream",
     "text": [
      "INFO:__main__:Source: A lady in a bikini doing a cartwheel in the sand . </S>\n",
      "INFO:__main__:Target Hypothesis: im Sand .\n",
      "INFO:__main__:Target Reference: ['im', 'Sand', '.']\n",
      "INFO:__main__:IMT F1 score: 1.0\n"
     ]
    },
    {
     "name": "stdout",
     "output_type": "stream",
     "text": [
      "\n",
      "predicting target prefix: ['Eine', 'Dame', 'in', 'einem', 'Bikini', 'schl\\xc3\\xa4gt', 'ein', 'Rad', 'im']"
     ]
    },
    {
     "name": "stderr",
     "output_type": "stream",
     "text": [
      "INFO:__main__:Source: A lady in a bikini doing a cartwheel in the sand . </S>\n",
      "INFO:__main__:Target Hypothesis: Sand .\n",
      "INFO:__main__:Target Reference: ['Sand', '.']\n",
      "INFO:__main__:IMT F1 score: 1.0\n"
     ]
    },
    {
     "name": "stdout",
     "output_type": "stream",
     "text": [
      "\n",
      "predicting target prefix: ['Eine', 'Dame', 'in', 'einem', 'Bikini', 'schl\\xc3\\xa4gt', 'ein', 'Rad', 'im', 'Sand']"
     ]
    },
    {
     "name": "stderr",
     "output_type": "stream",
     "text": [
      "INFO:__main__:Source: A lady in a bikini doing a cartwheel in the sand . </S>\n",
      "INFO:__main__:Target Hypothesis: .\n",
      "INFO:__main__:Target Reference: ['.']\n",
      "INFO:__main__:IMT F1 score: 1.0\n",
      "INFO:__main__:Source: A lady in a bikini doing a cartwheel in the sand . </S>\n",
      "INFO:__main__:Target Hypothesis: </S> .\n",
      "INFO:__main__:Target Reference: []\n",
      "INFO:__main__:IMT F1 score: 0.0\n",
      "INFO:__main__:Translating segment: 49\n"
     ]
    },
    {
     "name": "stdout",
     "output_type": "stream",
     "text": [
      "\n",
      "predicting target prefix: ['Eine', 'Dame', 'in', 'einem', 'Bikini', 'schl\\xc3\\xa4gt', 'ein', 'Rad', 'im', 'Sand', '.']\n",
      "predicting target prefix: ['Ein']"
     ]
    },
    {
     "name": "stderr",
     "output_type": "stream",
     "text": [
      "INFO:__main__:Source: A man with a brown shirt , gray vest and black cap plays an electric bass . </S>\n",
      "INFO:__main__:Target Hypothesis: Mann mit einem braunen Hemd , grauen Weste und einer schwarzen Kopfbedeckung spielt auf einem E-Gitarre .\n",
      "INFO:__main__:Target Reference: ['Mann', 'mit', 'einem', 'braunen', 'Hemd', ',', 'einer', 'grauen', 'Weste', 'und', 'einer', 'schwarzen', 'M\\xc3\\xbctze', 'spielt', 'E-Bass', '.']\n",
      "INFO:__main__:IMT F1 score: 0.363636363636\n"
     ]
    },
    {
     "name": "stdout",
     "output_type": "stream",
     "text": [
      "\n",
      "predicting target prefix: ['Ein', 'Mann']"
     ]
    },
    {
     "name": "stderr",
     "output_type": "stream",
     "text": [
      "INFO:__main__:Source: A man with a brown shirt , gray vest and black cap plays an electric bass . </S>\n",
      "INFO:__main__:Target Hypothesis: mit einem braunen Hemd , grauen Weste und einer schwarzen Kopfbedeckung spielt auf einem E-Gitarre .\n",
      "INFO:__main__:Target Reference: ['mit', 'einem', 'braunen', 'Hemd', ',', 'einer', 'grauen', 'Weste', 'und', 'einer', 'schwarzen', 'M\\xc3\\xbctze', 'spielt', 'E-Bass', '.']\n",
      "INFO:__main__:IMT F1 score: 0.322580645161\n"
     ]
    },
    {
     "name": "stdout",
     "output_type": "stream",
     "text": [
      "\n",
      "predicting target prefix: ['Ein', 'Mann', 'mit']"
     ]
    },
    {
     "name": "stderr",
     "output_type": "stream",
     "text": [
      "INFO:__main__:Source: A man with a brown shirt , gray vest and black cap plays an electric bass . </S>\n",
      "INFO:__main__:Target Hypothesis: einem braunen Hemd , grauen Weste und einer schwarzen Kopfbedeckung spielt auf einem E-Gitarre .\n",
      "INFO:__main__:Target Reference: ['einem', 'braunen', 'Hemd', ',', 'einer', 'grauen', 'Weste', 'und', 'einer', 'schwarzen', 'M\\xc3\\xbctze', 'spielt', 'E-Bass', '.']\n",
      "INFO:__main__:IMT F1 score: 0.275862068966\n"
     ]
    },
    {
     "name": "stdout",
     "output_type": "stream",
     "text": [
      "\n",
      "predicting target prefix: ['Ein', 'Mann', 'mit', 'einem']"
     ]
    },
    {
     "name": "stderr",
     "output_type": "stream",
     "text": [
      "INFO:__main__:Source: A man with a brown shirt , gray vest and black cap plays an electric bass . </S>\n",
      "INFO:__main__:Target Hypothesis: braunen Hemd , grauen Weste und einer schwarzen Kopfbedeckung spielt auf einem E-Gitarre .\n",
      "INFO:__main__:Target Reference: ['braunen', 'Hemd', ',', 'einer', 'grauen', 'Weste', 'und', 'einer', 'schwarzen', 'M\\xc3\\xbctze', 'spielt', 'E-Bass', '.']\n",
      "INFO:__main__:IMT F1 score: 0.222222222222\n"
     ]
    },
    {
     "name": "stdout",
     "output_type": "stream",
     "text": [
      "\n",
      "predicting target prefix: ['Ein', 'Mann', 'mit', 'einem', 'braunen']"
     ]
    },
    {
     "name": "stderr",
     "output_type": "stream",
     "text": [
      "INFO:__main__:Source: A man with a brown shirt , gray vest and black cap plays an electric bass . </S>\n",
      "INFO:__main__:Target Hypothesis: Hemd , grauen Weste und einer schwarzen Kopfbedeckung spielt auf einem E-Gitarre .\n",
      "INFO:__main__:Target Reference: ['Hemd', ',', 'einer', 'grauen', 'Weste', 'und', 'einer', 'schwarzen', 'M\\xc3\\xbctze', 'spielt', 'E-Bass', '.']\n",
      "INFO:__main__:IMT F1 score: 0.16\n"
     ]
    },
    {
     "name": "stdout",
     "output_type": "stream",
     "text": [
      "\n",
      "predicting target prefix: ['Ein', 'Mann', 'mit', 'einem', 'braunen', 'Hemd']"
     ]
    },
    {
     "name": "stderr",
     "output_type": "stream",
     "text": [
      "INFO:__main__:Source: A man with a brown shirt , gray vest and black cap plays an electric bass . </S>\n",
      "INFO:__main__:Target Hypothesis: , grauen Weste und einer schwarzen Kopfbedeckung spielt auf einem E-Gitarre .\n",
      "INFO:__main__:Target Reference: [',', 'einer', 'grauen', 'Weste', 'und', 'einer', 'schwarzen', 'M\\xc3\\xbctze', 'spielt', 'E-Bass', '.']\n",
      "INFO:__main__:IMT F1 score: 0.0869565217391\n"
     ]
    },
    {
     "name": "stdout",
     "output_type": "stream",
     "text": [
      "\n",
      "predicting target prefix: ['Ein', 'Mann', 'mit', 'einem', 'braunen', 'Hemd', ',']"
     ]
    },
    {
     "name": "stderr",
     "output_type": "stream",
     "text": [
      "INFO:__main__:Source: A man with a brown shirt , gray vest and black cap plays an electric bass . </S>\n",
      "INFO:__main__:Target Hypothesis: grauen Weste und einer schwarzen Kopfbedeckung spielt auf einem E-Gitarre .\n",
      "INFO:__main__:Target Reference: ['einer', 'grauen', 'Weste', 'und', 'einer', 'schwarzen', 'M\\xc3\\xbctze', 'spielt', 'E-Bass', '.']\n",
      "INFO:__main__:IMT F1 score: 0.0\n"
     ]
    },
    {
     "name": "stdout",
     "output_type": "stream",
     "text": [
      "\n",
      "predicting target prefix: ['Ein', 'Mann', 'mit', 'einem', 'braunen', 'Hemd', ',', 'einer']"
     ]
    },
    {
     "name": "stderr",
     "output_type": "stream",
     "text": [
      "INFO:__main__:Source: A man with a brown shirt , gray vest and black cap plays an electric bass . </S>\n",
      "INFO:__main__:Target Hypothesis: grauen Weste und einer schwarzen Kopfbedeckung spielt auf einem E-Gitarre .\n",
      "INFO:__main__:Target Reference: ['grauen', 'Weste', 'und', 'einer', 'schwarzen', 'M\\xc3\\xbctze', 'spielt', 'E-Bass', '.']\n",
      "INFO:__main__:IMT F1 score: 0.5\n"
     ]
    },
    {
     "name": "stdout",
     "output_type": "stream",
     "text": [
      "\n",
      "predicting target prefix: ['Ein', 'Mann', 'mit', 'einem', 'braunen', 'Hemd', ',', 'einer', 'grauen']"
     ]
    },
    {
     "name": "stderr",
     "output_type": "stream",
     "text": [
      "INFO:__main__:Source: A man with a brown shirt , gray vest and black cap plays an electric bass . </S>\n",
      "INFO:__main__:Target Hypothesis: Weste und einer schwarzen Kopfbedeckung spielt auf einem E-Gitarre .\n",
      "INFO:__main__:Target Reference: ['Weste', 'und', 'einer', 'schwarzen', 'M\\xc3\\xbctze', 'spielt', 'E-Bass', '.']\n",
      "INFO:__main__:IMT F1 score: 0.444444444444\n"
     ]
    },
    {
     "name": "stdout",
     "output_type": "stream",
     "text": [
      "\n",
      "predicting target prefix: ['Ein', 'Mann', 'mit', 'einem', 'braunen', 'Hemd', ',', 'einer', 'grauen', 'Weste']"
     ]
    },
    {
     "name": "stderr",
     "output_type": "stream",
     "text": [
      "INFO:__main__:Source: A man with a brown shirt , gray vest and black cap plays an electric bass . </S>\n",
      "INFO:__main__:Target Hypothesis: und einer schwarzen Kopfbedeckung spielt auf einem E-Gitarre .\n",
      "INFO:__main__:Target Reference: ['und', 'einer', 'schwarzen', 'M\\xc3\\xbctze', 'spielt', 'E-Bass', '.']\n",
      "INFO:__main__:IMT F1 score: 0.375\n"
     ]
    },
    {
     "name": "stdout",
     "output_type": "stream",
     "text": [
      "\n",
      "predicting target prefix: ['Ein', 'Mann', 'mit', 'einem', 'braunen', 'Hemd', ',', 'einer', 'grauen', 'Weste', 'und']"
     ]
    },
    {
     "name": "stderr",
     "output_type": "stream",
     "text": [
      "INFO:__main__:Source: A man with a brown shirt , gray vest and black cap plays an electric bass . </S>\n",
      "INFO:__main__:Target Hypothesis: einer schwarzen Kopfbedeckung spielt auf einem E-Gitarre .\n",
      "INFO:__main__:Target Reference: ['einer', 'schwarzen', 'M\\xc3\\xbctze', 'spielt', 'E-Bass', '.']\n",
      "INFO:__main__:IMT F1 score: 0.285714285714\n"
     ]
    },
    {
     "name": "stdout",
     "output_type": "stream",
     "text": [
      "\n",
      "predicting target prefix: ['Ein', 'Mann', 'mit', 'einem', 'braunen', 'Hemd', ',', 'einer', 'grauen', 'Weste', 'und', 'einer']"
     ]
    },
    {
     "name": "stderr",
     "output_type": "stream",
     "text": [
      "INFO:__main__:Source: A man with a brown shirt , gray vest and black cap plays an electric bass . </S>\n",
      "INFO:__main__:Target Hypothesis: schwarzen Kopfbedeckung spielt auf einem E-Gitarre .\n",
      "INFO:__main__:Target Reference: ['schwarzen', 'M\\xc3\\xbctze', 'spielt', 'E-Bass', '.']\n",
      "INFO:__main__:IMT F1 score: 0.166666666667\n"
     ]
    },
    {
     "name": "stdout",
     "output_type": "stream",
     "text": [
      "\n",
      "predicting target prefix: ['Ein', 'Mann', 'mit', 'einem', 'braunen', 'Hemd', ',', 'einer', 'grauen', 'Weste', 'und', 'einer', 'schwarzen']"
     ]
    },
    {
     "name": "stderr",
     "output_type": "stream",
     "text": [
      "INFO:__main__:Source: A man with a brown shirt , gray vest and black cap plays an electric bass . </S>\n",
      "INFO:__main__:Target Hypothesis: Kopfbedeckung spielt auf einem E-Gitarre .\n",
      "INFO:__main__:Target Reference: ['M\\xc3\\xbctze', 'spielt', 'E-Bass', '.']\n",
      "INFO:__main__:IMT F1 score: 0.0\n"
     ]
    },
    {
     "name": "stdout",
     "output_type": "stream",
     "text": [
      "\n",
      "predicting target prefix: ['Ein', 'Mann', 'mit', 'einem', 'braunen', 'Hemd', ',', 'einer', 'grauen', 'Weste', 'und', 'einer', 'schwarzen', 'M\\xc3\\xbctze']"
     ]
    },
    {
     "name": "stderr",
     "output_type": "stream",
     "text": [
      "INFO:__main__:Source: A man with a brown shirt , gray vest and black cap plays an electric bass . </S>\n",
      "INFO:__main__:Target Hypothesis: spielt auf einem E-Gitarre .\n",
      "INFO:__main__:Target Reference: ['spielt', 'E-Bass', '.']\n",
      "INFO:__main__:IMT F1 score: 0.25\n"
     ]
    },
    {
     "name": "stdout",
     "output_type": "stream",
     "text": [
      "\n",
      "predicting target prefix: ['Ein', 'Mann', 'mit', 'einem', 'braunen', 'Hemd', ',', 'einer', 'grauen', 'Weste', 'und', 'einer', 'schwarzen', 'M\\xc3\\xbctze', 'spielt']"
     ]
    },
    {
     "name": "stderr",
     "output_type": "stream",
     "text": [
      "INFO:__main__:Source: A man with a brown shirt , gray vest and black cap plays an electric bass . </S>\n",
      "INFO:__main__:Target Hypothesis: auf einem E-Gitarre .\n",
      "INFO:__main__:Target Reference: ['E-Bass', '.']\n",
      "INFO:__main__:IMT F1 score: 0.0\n"
     ]
    },
    {
     "name": "stdout",
     "output_type": "stream",
     "text": [
      "\n",
      "predicting target prefix: ['Ein', 'Mann', 'mit', 'einem', 'braunen', 'Hemd', ',', 'einer', 'grauen', 'Weste', 'und', 'einer', 'schwarzen', 'M\\xc3\\xbctze', 'spielt', 'E-Bass']"
     ]
    },
    {
     "name": "stderr",
     "output_type": "stream",
     "text": [
      "INFO:__main__:Source: A man with a brown shirt , gray vest and black cap plays an electric bass . </S>\n",
      "INFO:__main__:Target Hypothesis: auf einem E-Gitarre .\n",
      "INFO:__main__:Target Reference: ['.']\n",
      "INFO:__main__:IMT F1 score: 0.0\n"
     ]
    },
    {
     "name": "stdout",
     "output_type": "stream",
     "text": [
      "\n",
      "predicting target prefix: ['Ein', 'Mann', 'mit', 'einem', 'braunen', 'Hemd', ',', 'einer', 'grauen', 'Weste', 'und', 'einer', 'schwarzen', 'M\\xc3\\xbctze', 'spielt', 'E-Bass', '.']"
     ]
    },
    {
     "name": "stderr",
     "output_type": "stream",
     "text": [
      "INFO:__main__:Source: A man with a brown shirt , gray vest and black cap plays an electric bass . </S>\n",
      "INFO:__main__:Target Hypothesis: </S> .\n",
      "INFO:__main__:Target Reference: []\n",
      "INFO:__main__:IMT F1 score: 0.0\n",
      "INFO:__main__:Translating segment: 50\n"
     ]
    },
    {
     "name": "stdout",
     "output_type": "stream",
     "text": [
      "\n",
      "predicting target prefix: ['Eine']"
     ]
    },
    {
     "name": "stderr",
     "output_type": "stream",
     "text": [
      "INFO:__main__:Source: A woman with blond-hair is drinking out of a glass . </S>\n",
      "INFO:__main__:Target Hypothesis: Frau mit blondem Haar trinkt aus einem Glas .\n",
      "INFO:__main__:Target Reference: ['Frau', 'mit', 'blondem', 'Haar', 'trinkt', 'aus', 'einem', 'Glas', '.']\n",
      "INFO:__main__:IMT F1 score: 1.0\n"
     ]
    },
    {
     "name": "stdout",
     "output_type": "stream",
     "text": [
      "\n",
      "predicting target prefix: ['Eine', 'Frau']"
     ]
    },
    {
     "name": "stderr",
     "output_type": "stream",
     "text": [
      "INFO:__main__:Source: A woman with blond-hair is drinking out of a glass . </S>\n",
      "INFO:__main__:Target Hypothesis: mit blondem Haar trinkt aus einem Glas .\n",
      "INFO:__main__:Target Reference: ['mit', 'blondem', 'Haar', 'trinkt', 'aus', 'einem', 'Glas', '.']\n",
      "INFO:__main__:IMT F1 score: 1.0\n"
     ]
    },
    {
     "name": "stdout",
     "output_type": "stream",
     "text": [
      "\n",
      "predicting target prefix: ['Eine', 'Frau', 'mit']"
     ]
    },
    {
     "name": "stderr",
     "output_type": "stream",
     "text": [
      "INFO:__main__:Source: A woman with blond-hair is drinking out of a glass . </S>\n",
      "INFO:__main__:Target Hypothesis: blondem Haar trinkt aus einem Glas .\n",
      "INFO:__main__:Target Reference: ['blondem', 'Haar', 'trinkt', 'aus', 'einem', 'Glas', '.']\n",
      "INFO:__main__:IMT F1 score: 1.0\n"
     ]
    },
    {
     "name": "stdout",
     "output_type": "stream",
     "text": [
      "\n",
      "predicting target prefix: ['Eine', 'Frau', 'mit', 'blondem']"
     ]
    },
    {
     "name": "stderr",
     "output_type": "stream",
     "text": [
      "INFO:__main__:Source: A woman with blond-hair is drinking out of a glass . </S>\n",
      "INFO:__main__:Target Hypothesis: Haar trinkt aus einem Glas .\n",
      "INFO:__main__:Target Reference: ['Haar', 'trinkt', 'aus', 'einem', 'Glas', '.']\n",
      "INFO:__main__:IMT F1 score: 1.0\n"
     ]
    },
    {
     "name": "stdout",
     "output_type": "stream",
     "text": [
      "\n",
      "predicting target prefix: ['Eine', 'Frau', 'mit', 'blondem', 'Haar']"
     ]
    },
    {
     "name": "stderr",
     "output_type": "stream",
     "text": [
      "INFO:__main__:Source: A woman with blond-hair is drinking out of a glass . </S>\n",
      "INFO:__main__:Target Hypothesis: trinkt aus einem Glas .\n",
      "INFO:__main__:Target Reference: ['trinkt', 'aus', 'einem', 'Glas', '.']\n",
      "INFO:__main__:IMT F1 score: 1.0\n"
     ]
    },
    {
     "name": "stdout",
     "output_type": "stream",
     "text": [
      "\n",
      "predicting target prefix: ['Eine', 'Frau', 'mit', 'blondem', 'Haar', 'trinkt']"
     ]
    },
    {
     "name": "stderr",
     "output_type": "stream",
     "text": [
      "INFO:__main__:Source: A woman with blond-hair is drinking out of a glass . </S>\n",
      "INFO:__main__:Target Hypothesis: aus einem Glas .\n",
      "INFO:__main__:Target Reference: ['aus', 'einem', 'Glas', '.']\n",
      "INFO:__main__:IMT F1 score: 1.0\n"
     ]
    },
    {
     "name": "stdout",
     "output_type": "stream",
     "text": [
      "\n",
      "predicting target prefix: ['Eine', 'Frau', 'mit', 'blondem', 'Haar', 'trinkt', 'aus']"
     ]
    },
    {
     "name": "stderr",
     "output_type": "stream",
     "text": [
      "INFO:__main__:Source: A woman with blond-hair is drinking out of a glass . </S>\n",
      "INFO:__main__:Target Hypothesis: einem Glas .\n",
      "INFO:__main__:Target Reference: ['einem', 'Glas', '.']\n",
      "INFO:__main__:IMT F1 score: 1.0\n",
      "INFO:__main__:Source: A woman with blond-hair is drinking out of a glass . </S>\n",
      "INFO:__main__:Target Hypothesis: Glas .\n",
      "INFO:__main__:Target Reference: ['Glas', '.']\n",
      "INFO:__main__:IMT F1 score: 1.0\n"
     ]
    },
    {
     "name": "stdout",
     "output_type": "stream",
     "text": [
      "\n",
      "predicting target prefix: ['Eine', 'Frau', 'mit', 'blondem', 'Haar', 'trinkt', 'aus', 'einem']\n",
      "predicting target prefix: ['Eine', 'Frau', 'mit', 'blondem', 'Haar', 'trinkt', 'aus', 'einem', 'Glas']"
     ]
    },
    {
     "name": "stderr",
     "output_type": "stream",
     "text": [
      "INFO:__main__:Source: A woman with blond-hair is drinking out of a glass . </S>\n",
      "INFO:__main__:Target Hypothesis: .\n",
      "INFO:__main__:Target Reference: ['.']\n",
      "INFO:__main__:IMT F1 score: 1.0\n"
     ]
    },
    {
     "name": "stdout",
     "output_type": "stream",
     "text": [
      "\n",
      "predicting target prefix: ['Eine', 'Frau', 'mit', 'blondem', 'Haar', 'trinkt', 'aus', 'einem', 'Glas', '.']"
     ]
    },
    {
     "name": "stderr",
     "output_type": "stream",
     "text": [
      "INFO:__main__:Source: A woman with blond-hair is drinking out of a glass . </S>\n",
      "INFO:__main__:Target Hypothesis: </S> .\n",
      "INFO:__main__:Target Reference: []\n",
      "INFO:__main__:IMT F1 score: 0.0\n",
      "INFO:__main__:Translating segment: 51\n",
      "INFO:__main__:Source: A young boy laying on a hospital bed with his leg over the side . </S>\n",
      "INFO:__main__:Target Hypothesis: kleiner Junge liegt auf einem Krankenhauszimmer .\n",
      "INFO:__main__:Target Reference: ['kleiner', 'Junge', 'liegt', 'auf', 'einem', 'Krankenhausbett', 'und', 'l\\xc3\\xa4sst', 'ein', 'Bein', 'seitlich', 'herunterh\\xc3\\xa4ngen', '.']\n",
      "INFO:__main__:IMT F1 score: 0.5\n"
     ]
    },
    {
     "name": "stdout",
     "output_type": "stream",
     "text": [
      "\n",
      "predicting target prefix: ['Ein']\n",
      "predicting target prefix: ['Ein', 'kleiner']"
     ]
    },
    {
     "name": "stderr",
     "output_type": "stream",
     "text": [
      "INFO:__main__:Source: A young boy laying on a hospital bed with his leg over the side . </S>\n",
      "INFO:__main__:Target Hypothesis: Junge liegt auf einem Krankenhauszimmer .\n",
      "INFO:__main__:Target Reference: ['Junge', 'liegt', 'auf', 'einem', 'Krankenhausbett', 'und', 'l\\xc3\\xa4sst', 'ein', 'Bein', 'seitlich', 'herunterh\\xc3\\xa4ngen', '.']\n",
      "INFO:__main__:IMT F1 score: 0.444444444444\n"
     ]
    },
    {
     "name": "stdout",
     "output_type": "stream",
     "text": [
      "\n",
      "predicting target prefix: ['Ein', 'kleiner', 'Junge']"
     ]
    },
    {
     "name": "stderr",
     "output_type": "stream",
     "text": [
      "INFO:__main__:Source: A young boy laying on a hospital bed with his leg over the side . </S>\n",
      "INFO:__main__:Target Hypothesis: liegt auf einem Krankenhauszimmer .\n",
      "INFO:__main__:Target Reference: ['liegt', 'auf', 'einem', 'Krankenhausbett', 'und', 'l\\xc3\\xa4sst', 'ein', 'Bein', 'seitlich', 'herunterh\\xc3\\xa4ngen', '.']\n",
      "INFO:__main__:IMT F1 score: 0.375\n"
     ]
    },
    {
     "name": "stdout",
     "output_type": "stream",
     "text": [
      "\n",
      "predicting target prefix: ['Ein', 'kleiner', 'Junge', 'liegt']"
     ]
    },
    {
     "name": "stderr",
     "output_type": "stream",
     "text": [
      "INFO:__main__:Source: A young boy laying on a hospital bed with his leg over the side . </S>\n",
      "INFO:__main__:Target Hypothesis: auf einem Krankenhauszimmer .\n",
      "INFO:__main__:Target Reference: ['auf', 'einem', 'Krankenhausbett', 'und', 'l\\xc3\\xa4sst', 'ein', 'Bein', 'seitlich', 'herunterh\\xc3\\xa4ngen', '.']\n",
      "INFO:__main__:IMT F1 score: 0.285714285714\n"
     ]
    },
    {
     "name": "stdout",
     "output_type": "stream",
     "text": [
      "\n",
      "predicting target prefix: ['Ein', 'kleiner', 'Junge', 'liegt', 'auf']"
     ]
    },
    {
     "name": "stderr",
     "output_type": "stream",
     "text": [
      "INFO:__main__:Source: A young boy laying on a hospital bed with his leg over the side . </S>\n",
      "INFO:__main__:Target Hypothesis: einem Krankenhauszimmer .\n",
      "INFO:__main__:Target Reference: ['einem', 'Krankenhausbett', 'und', 'l\\xc3\\xa4sst', 'ein', 'Bein', 'seitlich', 'herunterh\\xc3\\xa4ngen', '.']\n",
      "INFO:__main__:IMT F1 score: 0.166666666667\n"
     ]
    },
    {
     "name": "stdout",
     "output_type": "stream",
     "text": [
      "\n",
      "predicting target prefix: ['Ein', 'kleiner', 'Junge', 'liegt', 'auf', 'einem']"
     ]
    },
    {
     "name": "stderr",
     "output_type": "stream",
     "text": [
      "INFO:__main__:Source: A young boy laying on a hospital bed with his leg over the side . </S>\n",
      "INFO:__main__:Target Hypothesis: Krankenhauszimmer .\n",
      "INFO:__main__:Target Reference: ['Krankenhausbett', 'und', 'l\\xc3\\xa4sst', 'ein', 'Bein', 'seitlich', 'herunterh\\xc3\\xa4ngen', '.']\n",
      "INFO:__main__:IMT F1 score: 0.0\n"
     ]
    },
    {
     "name": "stdout",
     "output_type": "stream",
     "text": [
      "\n",
      "predicting target prefix: ['Ein', 'kleiner', 'Junge', 'liegt', 'auf', 'einem', 'Krankenhausbett']"
     ]
    },
    {
     "name": "stderr",
     "output_type": "stream",
     "text": [
      "INFO:__main__:Source: A young boy laying on a hospital bed with his leg over the side . </S>\n",
      "INFO:__main__:Target Hypothesis: mit seinem Bein über die Seite .\n",
      "INFO:__main__:Target Reference: ['und', 'l\\xc3\\xa4sst', 'ein', 'Bein', 'seitlich', 'herunterh\\xc3\\xa4ngen', '.']\n",
      "INFO:__main__:IMT F1 score: 0.0\n"
     ]
    },
    {
     "name": "stdout",
     "output_type": "stream",
     "text": [
      "\n",
      "predicting target prefix: ['Ein', 'kleiner', 'Junge', 'liegt', 'auf', 'einem', 'Krankenhausbett', 'und']"
     ]
    },
    {
     "name": "stderr",
     "output_type": "stream",
     "text": [
      "INFO:__main__:Source: A young boy laying on a hospital bed with his leg over the side . </S>\n",
      "INFO:__main__:Target Hypothesis: hat seinen Autotank über die Seite gemalt .\n",
      "INFO:__main__:Target Reference: ['l\\xc3\\xa4sst', 'ein', 'Bein', 'seitlich', 'herunterh\\xc3\\xa4ngen', '.']\n",
      "INFO:__main__:IMT F1 score: 0.0\n"
     ]
    },
    {
     "name": "stdout",
     "output_type": "stream",
     "text": [
      "\n",
      "predicting target prefix: ['Ein', 'kleiner', 'Junge', 'liegt', 'auf', 'einem', 'Krankenhausbett', 'und', 'l\\xc3\\xa4sst']"
     ]
    },
    {
     "name": "stderr",
     "output_type": "stream",
     "text": [
      "INFO:__main__:Source: A young boy laying on a hospital bed with his leg over the side . </S>\n",
      "INFO:__main__:Target Hypothesis: den Reifen gemalt ist .\n",
      "INFO:__main__:Target Reference: ['ein', 'Bein', 'seitlich', 'herunterh\\xc3\\xa4ngen', '.']\n",
      "INFO:__main__:IMT F1 score: 0.0\n"
     ]
    },
    {
     "name": "stdout",
     "output_type": "stream",
     "text": [
      "\n",
      "predicting target prefix: ['Ein', 'kleiner', 'Junge', 'liegt', 'auf', 'einem', 'Krankenhausbett', 'und', 'l\\xc3\\xa4sst', 'ein']"
     ]
    },
    {
     "name": "stderr",
     "output_type": "stream",
     "text": [
      "INFO:__main__:Source: A young boy laying on a hospital bed with his leg over the side . </S>\n",
      "INFO:__main__:Target Hypothesis: Zeichen über den Seite gemalt ist .\n",
      "INFO:__main__:Target Reference: ['Bein', 'seitlich', 'herunterh\\xc3\\xa4ngen', '.']\n",
      "INFO:__main__:IMT F1 score: 0.0\n"
     ]
    },
    {
     "name": "stdout",
     "output_type": "stream",
     "text": [
      "\n",
      "predicting target prefix: ['Ein', 'kleiner', 'Junge', 'liegt', 'auf', 'einem', 'Krankenhausbett', 'und', 'l\\xc3\\xa4sst', 'ein', 'Bein']"
     ]
    },
    {
     "name": "stderr",
     "output_type": "stream",
     "text": [
      "INFO:__main__:Source: A young boy laying on a hospital bed with his leg over the side . </S>\n",
      "INFO:__main__:Target Hypothesis: über den Seiten gemalt ist .\n",
      "INFO:__main__:Target Reference: ['seitlich', 'herunterh\\xc3\\xa4ngen', '.']\n",
      "INFO:__main__:IMT F1 score: 0.0\n"
     ]
    },
    {
     "name": "stdout",
     "output_type": "stream",
     "text": [
      "\n",
      "predicting target prefix: ['Ein', 'kleiner', 'Junge', 'liegt', 'auf', 'einem', 'Krankenhausbett', 'und', 'l\\xc3\\xa4sst', 'ein', 'Bein', 'seitlich']"
     ]
    },
    {
     "name": "stderr",
     "output_type": "stream",
     "text": [
      "INFO:__main__:Source: A young boy laying on a hospital bed with his leg over the side . </S>\n",
      "INFO:__main__:Target Hypothesis: von dem Finger gen Himmel herausragen .\n",
      "INFO:__main__:Target Reference: ['herunterh\\xc3\\xa4ngen', '.']\n",
      "INFO:__main__:IMT F1 score: 0.0\n"
     ]
    },
    {
     "name": "stdout",
     "output_type": "stream",
     "text": [
      "\n",
      "predicting target prefix: ['Ein', 'kleiner', 'Junge', 'liegt', 'auf', 'einem', 'Krankenhausbett', 'und', 'l\\xc3\\xa4sst', 'ein', 'Bein', 'seitlich', 'herunterh\\xc3\\xa4ngen']"
     ]
    },
    {
     "name": "stderr",
     "output_type": "stream",
     "text": [
      "INFO:__main__:Source: A young boy laying on a hospital bed with his leg over the side . </S>\n",
      "INFO:__main__:Target Hypothesis: .\n",
      "INFO:__main__:Target Reference: ['.']\n",
      "INFO:__main__:IMT F1 score: 1.0\n"
     ]
    },
    {
     "name": "stdout",
     "output_type": "stream",
     "text": [
      "\n",
      "predicting target prefix: ['Ein', 'kleiner', 'Junge', 'liegt', 'auf', 'einem', 'Krankenhausbett', 'und', 'l\\xc3\\xa4sst', 'ein', 'Bein', 'seitlich', 'herunterh\\xc3\\xa4ngen', '.']"
     ]
    },
    {
     "name": "stderr",
     "output_type": "stream",
     "text": [
      "INFO:__main__:Source: A young boy laying on a hospital bed with his leg over the side . </S>\n",
      "INFO:__main__:Target Hypothesis: </S> .\n",
      "INFO:__main__:Target Reference: []\n",
      "INFO:__main__:IMT F1 score: 0.0\n",
      "INFO:__main__:Translating segment: 52\n"
     ]
    },
    {
     "name": "stdout",
     "output_type": "stream",
     "text": [
      "\n",
      "predicting target prefix: ['Zwei']"
     ]
    },
    {
     "name": "stderr",
     "output_type": "stream",
     "text": [
      "INFO:__main__:Source: Two middle-aged men in a room with music equipment speak with each other . </S>\n",
      "INFO:__main__:Target Hypothesis: Männer mittleren Alters in einem Raum mit Teppichen unterhalten sich .\n",
      "INFO:__main__:Target Reference: ['M\\xc3\\xa4nner', 'mittleren', 'Alters', 'unterhalten', 'sich', 'miteinander', 'in', 'einem', 'Raum', 'mit', 'Musikausr\\xc3\\xbcstung', '.']\n",
      "INFO:__main__:IMT F1 score: 0.260869565217\n"
     ]
    },
    {
     "name": "stdout",
     "output_type": "stream",
     "text": [
      "\n",
      "predicting target prefix: ['Zwei', 'M\\xc3\\xa4nner']"
     ]
    },
    {
     "name": "stderr",
     "output_type": "stream",
     "text": [
      "INFO:__main__:Source: Two middle-aged men in a room with music equipment speak with each other . </S>\n",
      "INFO:__main__:Target Hypothesis: mittleren Alters in einem Raum mit Teppichen unterhalten sich .\n",
      "INFO:__main__:Target Reference: ['mittleren', 'Alters', 'unterhalten', 'sich', 'miteinander', 'in', 'einem', 'Raum', 'mit', 'Musikausr\\xc3\\xbcstung', '.']\n",
      "INFO:__main__:IMT F1 score: 0.190476190476\n"
     ]
    },
    {
     "name": "stdout",
     "output_type": "stream",
     "text": [
      "\n",
      "predicting target prefix: ['Zwei', 'M\\xc3\\xa4nner', 'mittleren']"
     ]
    },
    {
     "name": "stderr",
     "output_type": "stream",
     "text": [
      "INFO:__main__:Source: Two middle-aged men in a room with music equipment speak with each other . </S>\n",
      "INFO:__main__:Target Hypothesis: Alters in einem Raum mit Teppichen unterhalten sich .\n",
      "INFO:__main__:Target Reference: ['Alters', 'unterhalten', 'sich', 'miteinander', 'in', 'einem', 'Raum', 'mit', 'Musikausr\\xc3\\xbcstung', '.']\n",
      "INFO:__main__:IMT F1 score: 0.105263157895\n"
     ]
    },
    {
     "name": "stdout",
     "output_type": "stream",
     "text": [
      "\n",
      "predicting target prefix: ['Zwei', 'M\\xc3\\xa4nner', 'mittleren', 'Alters']"
     ]
    },
    {
     "name": "stderr",
     "output_type": "stream",
     "text": [
      "INFO:__main__:Source: Two middle-aged men in a room with music equipment speak with each other . </S>\n",
      "INFO:__main__:Target Hypothesis: in einem Raum mit Teppichen unterhalten sich .\n",
      "INFO:__main__:Target Reference: ['unterhalten', 'sich', 'miteinander', 'in', 'einem', 'Raum', 'mit', 'Musikausr\\xc3\\xbcstung', '.']\n",
      "INFO:__main__:IMT F1 score: 0.0\n"
     ]
    },
    {
     "name": "stdout",
     "output_type": "stream",
     "text": [
      "\n",
      "predicting target prefix: ['Zwei', 'M\\xc3\\xa4nner', 'mittleren', 'Alters', 'unterhalten']"
     ]
    },
    {
     "name": "stderr",
     "output_type": "stream",
     "text": [
      "INFO:__main__:Source: Two middle-aged men in a room with music equipment speak with each other . </S>\n",
      "INFO:__main__:Target Hypothesis: sich in einem Raum mit Teppichen im Hintergrund .\n",
      "INFO:__main__:Target Reference: ['sich', 'miteinander', 'in', 'einem', 'Raum', 'mit', 'Musikausr\\xc3\\xbcstung', '.']\n",
      "INFO:__main__:IMT F1 score: 0.117647058824\n"
     ]
    },
    {
     "name": "stdout",
     "output_type": "stream",
     "text": [
      "\n",
      "predicting target prefix: ['Zwei', 'M\\xc3\\xa4nner', 'mittleren', 'Alters', 'unterhalten', 'sich']"
     ]
    },
    {
     "name": "stderr",
     "output_type": "stream",
     "text": [
      "INFO:__main__:Source: Two middle-aged men in a room with music equipment speak with each other . </S>\n",
      "INFO:__main__:Target Hypothesis: in einem Raum mit Teppichen im Hintergrund .\n",
      "INFO:__main__:Target Reference: ['miteinander', 'in', 'einem', 'Raum', 'mit', 'Musikausr\\xc3\\xbcstung', '.']\n",
      "INFO:__main__:IMT F1 score: 0.0\n"
     ]
    },
    {
     "name": "stdout",
     "output_type": "stream",
     "text": [
      "\n",
      "predicting target prefix: ['Zwei', 'M\\xc3\\xa4nner', 'mittleren', 'Alters', 'unterhalten', 'sich', 'miteinander']"
     ]
    },
    {
     "name": "stderr",
     "output_type": "stream",
     "text": [
      "INFO:__main__:Source: Two middle-aged men in a room with music equipment speak with each other . </S>\n",
      "INFO:__main__:Target Hypothesis: im Raum , benutzen Garn in einem Raum .\n",
      "INFO:__main__:Target Reference: ['in', 'einem', 'Raum', 'mit', 'Musikausr\\xc3\\xbcstung', '.']\n",
      "INFO:__main__:IMT F1 score: 0.0\n"
     ]
    },
    {
     "name": "stdout",
     "output_type": "stream",
     "text": [
      "\n",
      "predicting target prefix: ['Zwei', 'M\\xc3\\xa4nner', 'mittleren', 'Alters', 'unterhalten', 'sich', 'miteinander', 'in']"
     ]
    },
    {
     "name": "stderr",
     "output_type": "stream",
     "text": [
      "INFO:__main__:Source: Two middle-aged men in a room with music equipment speak with each other . </S>\n",
      "INFO:__main__:Target Hypothesis: einem Raum mit abgedunkeltem Hintergrund .\n",
      "INFO:__main__:Target Reference: ['einem', 'Raum', 'mit', 'Musikausr\\xc3\\xbcstung', '.']\n",
      "INFO:__main__:IMT F1 score: 0.545454545455\n"
     ]
    },
    {
     "name": "stdout",
     "output_type": "stream",
     "text": [
      "\n",
      "predicting target prefix: ['Zwei', 'M\\xc3\\xa4nner', 'mittleren', 'Alters', 'unterhalten', 'sich', 'miteinander', 'in', 'einem']"
     ]
    },
    {
     "name": "stderr",
     "output_type": "stream",
     "text": [
      "INFO:__main__:Source: Two middle-aged men in a room with music equipment speak with each other . </S>\n",
      "INFO:__main__:Target Hypothesis: Raum mit der Aufschrift PADDINGTON .\n",
      "INFO:__main__:Target Reference: ['Raum', 'mit', 'Musikausr\\xc3\\xbcstung', '.']\n",
      "INFO:__main__:IMT F1 score: 0.4\n"
     ]
    },
    {
     "name": "stdout",
     "output_type": "stream",
     "text": [
      "\n",
      "predicting target prefix: ['Zwei', 'M\\xc3\\xa4nner', 'mittleren', 'Alters', 'unterhalten', 'sich', 'miteinander', 'in', 'einem', 'Raum']"
     ]
    },
    {
     "name": "stderr",
     "output_type": "stream",
     "text": [
      "INFO:__main__:Source: Two middle-aged men in a room with music equipment speak with each other . </S>\n",
      "INFO:__main__:Target Hypothesis: mit der Aufschrift PADDINGTON .\n",
      "INFO:__main__:Target Reference: ['mit', 'Musikausr\\xc3\\xbcstung', '.']\n",
      "INFO:__main__:IMT F1 score: 0.25\n"
     ]
    },
    {
     "name": "stdout",
     "output_type": "stream",
     "text": [
      "\n",
      "predicting target prefix: ['Zwei', 'M\\xc3\\xa4nner', 'mittleren', 'Alters', 'unterhalten', 'sich', 'miteinander', 'in', 'einem', 'Raum', 'mit']"
     ]
    },
    {
     "name": "stderr",
     "output_type": "stream",
     "text": [
      "INFO:__main__:Source: Two middle-aged men in a room with music equipment speak with each other . </S>\n",
      "INFO:__main__:Target Hypothesis: der Aufschrift PADDINGTON .\n",
      "INFO:__main__:Target Reference: ['Musikausr\\xc3\\xbcstung', '.']\n",
      "INFO:__main__:IMT F1 score: 0.0\n"
     ]
    },
    {
     "name": "stdout",
     "output_type": "stream",
     "text": [
      "\n",
      "predicting target prefix: ['Zwei', 'M\\xc3\\xa4nner', 'mittleren', 'Alters', 'unterhalten', 'sich', 'miteinander', 'in', 'einem', 'Raum', 'mit', 'Musikausr\\xc3\\xbcstung']"
     ]
    },
    {
     "name": "stderr",
     "output_type": "stream",
     "text": [
      "INFO:__main__:Source: Two middle-aged men in a room with music equipment speak with each other . </S>\n",
      "INFO:__main__:Target Hypothesis: .\n",
      "INFO:__main__:Target Reference: ['.']\n",
      "INFO:__main__:IMT F1 score: 1.0\n"
     ]
    },
    {
     "name": "stdout",
     "output_type": "stream",
     "text": [
      "\n",
      "predicting target prefix: ['Zwei', 'M\\xc3\\xa4nner', 'mittleren', 'Alters', 'unterhalten', 'sich', 'miteinander', 'in', 'einem', 'Raum', 'mit', 'Musikausr\\xc3\\xbcstung', '.']"
     ]
    },
    {
     "name": "stderr",
     "output_type": "stream",
     "text": [
      "INFO:__main__:Source: Two middle-aged men in a room with music equipment speak with each other . </S>\n",
      "INFO:__main__:Target Hypothesis: </S> .\n",
      "INFO:__main__:Target Reference: []\n",
      "INFO:__main__:IMT F1 score: 0.0\n",
      "INFO:__main__:Translating segment: 53\n"
     ]
    },
    {
     "name": "stdout",
     "output_type": "stream",
     "text": [
      "\n",
      "predicting target prefix: ['Das']"
     ]
    },
    {
     "name": "stderr",
     "output_type": "stream",
     "text": [
      "INFO:__main__:Source: A dog 's mouth opens to <UNK> its sharp teeth . </S>\n",
      "INFO:__main__:Target Hypothesis: Hund öffnet um seine Angelrute .\n",
      "INFO:__main__:Target Reference: ['Maul', 'eines', 'Hundes', '\\xc3\\xb6ffnet', 'sich', 'und', 'entbl\\xc3\\xb6\\xc3\\x9ft', 'dessen', 'scharfe', 'Z\\xc3\\xa4hne', '.']\n",
      "INFO:__main__:IMT F1 score: 0.0\n"
     ]
    },
    {
     "name": "stdout",
     "output_type": "stream",
     "text": [
      "\n",
      "predicting target prefix: ['Das', 'Maul']"
     ]
    },
    {
     "name": "stderr",
     "output_type": "stream",
     "text": [
      "INFO:__main__:Source: A dog 's mouth opens to <UNK> its sharp teeth . </S>\n",
      "INFO:__main__:Target Hypothesis: , um seine Füße herausragen .\n",
      "INFO:__main__:Target Reference: ['eines', 'Hundes', '\\xc3\\xb6ffnet', 'sich', 'und', 'entbl\\xc3\\xb6\\xc3\\x9ft', 'dessen', 'scharfe', 'Z\\xc3\\xa4hne', '.']\n",
      "INFO:__main__:IMT F1 score: 0.0\n"
     ]
    },
    {
     "name": "stdout",
     "output_type": "stream",
     "text": [
      "\n",
      "predicting target prefix: ['Das', 'Maul', 'eines']"
     ]
    },
    {
     "name": "stderr",
     "output_type": "stream",
     "text": [
      "INFO:__main__:Source: A dog 's mouth opens to <UNK> its sharp teeth . </S>\n",
      "INFO:__main__:Target Hypothesis: Sprungs ist bis zur Schau .\n",
      "INFO:__main__:Target Reference: ['Hundes', '\\xc3\\xb6ffnet', 'sich', 'und', 'entbl\\xc3\\xb6\\xc3\\x9ft', 'dessen', 'scharfe', 'Z\\xc3\\xa4hne', '.']\n",
      "INFO:__main__:IMT F1 score: 0.0\n"
     ]
    },
    {
     "name": "stdout",
     "output_type": "stream",
     "text": [
      "\n",
      "predicting target prefix: ['Das', 'Maul', 'eines', 'Hundes']"
     ]
    },
    {
     "name": "stderr",
     "output_type": "stream",
     "text": [
      "INFO:__main__:Source: A dog 's mouth opens to <UNK> its sharp teeth . </S>\n",
      "INFO:__main__:Target Hypothesis: die Angelrute .\n",
      "INFO:__main__:Target Reference: ['\\xc3\\xb6ffnet', 'sich', 'und', 'entbl\\xc3\\xb6\\xc3\\x9ft', 'dessen', 'scharfe', 'Z\\xc3\\xa4hne', '.']\n",
      "INFO:__main__:IMT F1 score: 0.0\n"
     ]
    },
    {
     "name": "stdout",
     "output_type": "stream",
     "text": [
      "\n",
      "predicting target prefix: ['Das', 'Maul', 'eines', 'Hundes', '\\xc3\\xb6ffnet']"
     ]
    },
    {
     "name": "stderr",
     "output_type": "stream",
     "text": [
      "INFO:__main__:Source: A dog 's mouth opens to <UNK> its sharp teeth . </S>\n",
      "INFO:__main__:Target Hypothesis: die Angelrute .\n",
      "INFO:__main__:Target Reference: ['sich', 'und', 'entbl\\xc3\\xb6\\xc3\\x9ft', 'dessen', 'scharfe', 'Z\\xc3\\xa4hne', '.']\n",
      "INFO:__main__:IMT F1 score: 0.0\n"
     ]
    },
    {
     "name": "stdout",
     "output_type": "stream",
     "text": [
      "\n",
      "predicting target prefix: ['Das', 'Maul', 'eines', 'Hundes', '\\xc3\\xb6ffnet', 'sich']"
     ]
    },
    {
     "name": "stderr",
     "output_type": "stream",
     "text": [
      "INFO:__main__:Source: A dog 's mouth opens to <UNK> its sharp teeth . </S>\n",
      "INFO:__main__:Target Hypothesis: um die Angelrute .\n",
      "INFO:__main__:Target Reference: ['und', 'entbl\\xc3\\xb6\\xc3\\x9ft', 'dessen', 'scharfe', 'Z\\xc3\\xa4hne', '.']\n",
      "INFO:__main__:IMT F1 score: 0.0\n"
     ]
    },
    {
     "name": "stdout",
     "output_type": "stream",
     "text": [
      "\n",
      "predicting target prefix: ['Das', 'Maul', 'eines', 'Hundes', '\\xc3\\xb6ffnet', 'sich', 'und']"
     ]
    },
    {
     "name": "stderr",
     "output_type": "stream",
     "text": [
      "INFO:__main__:Source: A dog 's mouth opens to <UNK> its sharp teeth . </S>\n",
      "INFO:__main__:Target Hypothesis: öffnet die Angelrute .\n",
      "INFO:__main__:Target Reference: ['entbl\\xc3\\xb6\\xc3\\x9ft', 'dessen', 'scharfe', 'Z\\xc3\\xa4hne', '.']\n",
      "INFO:__main__:IMT F1 score: 0.0\n"
     ]
    },
    {
     "name": "stdout",
     "output_type": "stream",
     "text": [
      "\n",
      "predicting target prefix: ['Das', 'Maul', 'eines', 'Hundes', '\\xc3\\xb6ffnet', 'sich', 'und', 'entbl\\xc3\\xb6\\xc3\\x9ft']"
     ]
    },
    {
     "name": "stderr",
     "output_type": "stream",
     "text": [
      "INFO:__main__:Source: A dog 's mouth opens to <UNK> its sharp teeth . </S>\n",
      "INFO:__main__:Target Hypothesis: die Angelrute .\n",
      "INFO:__main__:Target Reference: ['dessen', 'scharfe', 'Z\\xc3\\xa4hne', '.']\n",
      "INFO:__main__:IMT F1 score: 0.0\n"
     ]
    },
    {
     "name": "stdout",
     "output_type": "stream",
     "text": [
      "\n",
      "predicting target prefix: ['Das', 'Maul', 'eines', 'Hundes', '\\xc3\\xb6ffnet', 'sich', 'und', 'entbl\\xc3\\xb6\\xc3\\x9ft', 'dessen']"
     ]
    },
    {
     "name": "stderr",
     "output_type": "stream",
     "text": [
      "INFO:__main__:Source: A dog 's mouth opens to <UNK> its sharp teeth . </S>\n",
      "INFO:__main__:Target Hypothesis: Angelrute .\n",
      "INFO:__main__:Target Reference: ['scharfe', 'Z\\xc3\\xa4hne', '.']\n",
      "INFO:__main__:IMT F1 score: 0.0\n"
     ]
    },
    {
     "name": "stdout",
     "output_type": "stream",
     "text": [
      "\n",
      "predicting target prefix: ['Das', 'Maul', 'eines', 'Hundes', '\\xc3\\xb6ffnet', 'sich', 'und', 'entbl\\xc3\\xb6\\xc3\\x9ft', 'dessen', 'scharfe']"
     ]
    },
    {
     "name": "stderr",
     "output_type": "stream",
     "text": [
      "INFO:__main__:Source: A dog 's mouth opens to <UNK> its sharp teeth . </S>\n",
      "INFO:__main__:Target Hypothesis: Base .\n",
      "INFO:__main__:Target Reference: ['Z\\xc3\\xa4hne', '.']\n",
      "INFO:__main__:IMT F1 score: 0.0\n",
      "INFO:__main__:Source: A dog 's mouth opens to <UNK> its sharp teeth . </S>\n",
      "INFO:__main__:Target Hypothesis: .\n",
      "INFO:__main__:Target Reference: ['.']\n",
      "INFO:__main__:IMT F1 score: 1.0\n"
     ]
    },
    {
     "name": "stdout",
     "output_type": "stream",
     "text": [
      "\n",
      "predicting target prefix: ['Das', 'Maul', 'eines', 'Hundes', '\\xc3\\xb6ffnet', 'sich', 'und', 'entbl\\xc3\\xb6\\xc3\\x9ft', 'dessen', 'scharfe', 'Z\\xc3\\xa4hne']\n",
      "predicting target prefix: ['Das', 'Maul', 'eines', 'Hundes', '\\xc3\\xb6ffnet', 'sich', 'und', 'entbl\\xc3\\xb6\\xc3\\x9ft', 'dessen', 'scharfe', 'Z\\xc3\\xa4hne', '.']"
     ]
    },
    {
     "name": "stderr",
     "output_type": "stream",
     "text": [
      "INFO:__main__:Source: A dog 's mouth opens to <UNK> its sharp teeth . </S>\n",
      "INFO:__main__:Target Hypothesis: </S> .\n",
      "INFO:__main__:Target Reference: []\n",
      "INFO:__main__:IMT F1 score: 0.0\n",
      "INFO:__main__:Translating segment: 54\n"
     ]
    },
    {
     "name": "stdout",
     "output_type": "stream",
     "text": [
      "\n",
      "predicting target prefix: ['Ein']"
     ]
    },
    {
     "name": "stderr",
     "output_type": "stream",
     "text": [
      "INFO:__main__:Source: An elderly indian man and woman in their home . </S>\n",
      "INFO:__main__:Target Hypothesis: älterer afroamerikanischer Mann und eine Frau im Haus .\n",
      "INFO:__main__:Target Reference: ['\\xc3\\xa4lterer', 'indischer', 'Mann', 'und', 'eine', 'Frau', 'in', 'ihrem', 'Haus', '.']\n",
      "INFO:__main__:IMT F1 score: 0.105263157895\n"
     ]
    },
    {
     "name": "stdout",
     "output_type": "stream",
     "text": [
      "\n",
      "predicting target prefix: ['Ein', '\\xc3\\xa4lterer']"
     ]
    },
    {
     "name": "stderr",
     "output_type": "stream",
     "text": [
      "INFO:__main__:Source: An elderly indian man and woman in their home . </S>\n",
      "INFO:__main__:Target Hypothesis: afroamerikanischer Mann und eine Frau im Haus .\n",
      "INFO:__main__:Target Reference: ['indischer', 'Mann', 'und', 'eine', 'Frau', 'in', 'ihrem', 'Haus', '.']\n",
      "INFO:__main__:IMT F1 score: 0.0\n"
     ]
    },
    {
     "name": "stdout",
     "output_type": "stream",
     "text": [
      "\n",
      "predicting target prefix: ['Ein', '\\xc3\\xa4lterer', 'indischer']"
     ]
    },
    {
     "name": "stderr",
     "output_type": "stream",
     "text": [
      "INFO:__main__:Source: An elderly indian man and woman in their home . </S>\n",
      "INFO:__main__:Target Hypothesis: Mann und eine Frau im Haus .\n",
      "INFO:__main__:Target Reference: ['Mann', 'und', 'eine', 'Frau', 'in', 'ihrem', 'Haus', '.']\n",
      "INFO:__main__:IMT F1 score: 0.533333333333\n"
     ]
    },
    {
     "name": "stdout",
     "output_type": "stream",
     "text": [
      "\n",
      "predicting target prefix: ['Ein', '\\xc3\\xa4lterer', 'indischer', 'Mann']"
     ]
    },
    {
     "name": "stderr",
     "output_type": "stream",
     "text": [
      "INFO:__main__:Source: An elderly indian man and woman in their home . </S>\n",
      "INFO:__main__:Target Hypothesis: und eine Frau im Haus .\n",
      "INFO:__main__:Target Reference: ['und', 'eine', 'Frau', 'in', 'ihrem', 'Haus', '.']\n",
      "INFO:__main__:IMT F1 score: 0.461538461538\n"
     ]
    },
    {
     "name": "stdout",
     "output_type": "stream",
     "text": [
      "\n",
      "predicting target prefix: ['Ein', '\\xc3\\xa4lterer', 'indischer', 'Mann', 'und']"
     ]
    },
    {
     "name": "stderr",
     "output_type": "stream",
     "text": [
      "INFO:__main__:Source: An elderly indian man and woman in their home . </S>\n",
      "INFO:__main__:Target Hypothesis: eine Frau im Haus .\n",
      "INFO:__main__:Target Reference: ['eine', 'Frau', 'in', 'ihrem', 'Haus', '.']\n",
      "INFO:__main__:IMT F1 score: 0.363636363636\n"
     ]
    },
    {
     "name": "stdout",
     "output_type": "stream",
     "text": [
      "\n",
      "predicting target prefix: ['Ein', '\\xc3\\xa4lterer', 'indischer', 'Mann', 'und', 'eine']"
     ]
    },
    {
     "name": "stderr",
     "output_type": "stream",
     "text": [
      "INFO:__main__:Source: An elderly indian man and woman in their home . </S>\n",
      "INFO:__main__:Target Hypothesis: Frau im Haus .\n",
      "INFO:__main__:Target Reference: ['Frau', 'in', 'ihrem', 'Haus', '.']\n",
      "INFO:__main__:IMT F1 score: 0.222222222222\n"
     ]
    },
    {
     "name": "stdout",
     "output_type": "stream",
     "text": [
      "\n",
      "predicting target prefix: ['Ein', '\\xc3\\xa4lterer', 'indischer', 'Mann', 'und', 'eine', 'Frau']"
     ]
    },
    {
     "name": "stderr",
     "output_type": "stream",
     "text": [
      "INFO:__main__:Source: An elderly indian man and woman in their home . </S>\n",
      "INFO:__main__:Target Hypothesis: im Haus .\n",
      "INFO:__main__:Target Reference: ['in', 'ihrem', 'Haus', '.']\n",
      "INFO:__main__:IMT F1 score: 0.0\n"
     ]
    },
    {
     "name": "stdout",
     "output_type": "stream",
     "text": [
      "\n",
      "predicting target prefix: ['Ein', '\\xc3\\xa4lterer', 'indischer', 'Mann', 'und', 'eine', 'Frau', 'in']"
     ]
    },
    {
     "name": "stderr",
     "output_type": "stream",
     "text": [
      "INFO:__main__:Source: An elderly indian man and woman in their home . </S>\n",
      "INFO:__main__:Target Hypothesis: einem Haus .\n",
      "INFO:__main__:Target Reference: ['ihrem', 'Haus', '.']\n",
      "INFO:__main__:IMT F1 score: 0.0\n"
     ]
    },
    {
     "name": "stdout",
     "output_type": "stream",
     "text": [
      "\n",
      "predicting target prefix: ['Ein', '\\xc3\\xa4lterer', 'indischer', 'Mann', 'und', 'eine', 'Frau', 'in', 'ihrem']"
     ]
    },
    {
     "name": "stderr",
     "output_type": "stream",
     "text": [
      "INFO:__main__:Source: An elderly indian man and woman in their home . </S>\n",
      "INFO:__main__:Target Hypothesis: Pflaster .\n",
      "INFO:__main__:Target Reference: ['Haus', '.']\n",
      "INFO:__main__:IMT F1 score: 0.0\n"
     ]
    },
    {
     "name": "stdout",
     "output_type": "stream",
     "text": [
      "\n",
      "predicting target prefix: ['Ein', '\\xc3\\xa4lterer', 'indischer', 'Mann', 'und', 'eine', 'Frau', 'in', 'ihrem', 'Haus']"
     ]
    },
    {
     "name": "stderr",
     "output_type": "stream",
     "text": [
      "INFO:__main__:Source: An elderly indian man and woman in their home . </S>\n",
      "INFO:__main__:Target Hypothesis: .\n",
      "INFO:__main__:Target Reference: ['.']\n",
      "INFO:__main__:IMT F1 score: 1.0\n"
     ]
    },
    {
     "name": "stdout",
     "output_type": "stream",
     "text": [
      "\n",
      "predicting target prefix: ['Ein', '\\xc3\\xa4lterer', 'indischer', 'Mann', 'und', 'eine', 'Frau', 'in', 'ihrem', 'Haus', '.']"
     ]
    },
    {
     "name": "stderr",
     "output_type": "stream",
     "text": [
      "INFO:__main__:Source: An elderly indian man and woman in their home . </S>\n",
      "INFO:__main__:Target Hypothesis: </S> .\n",
      "INFO:__main__:Target Reference: []\n",
      "INFO:__main__:IMT F1 score: 0.0\n",
      "INFO:__main__:Translating segment: 55\n"
     ]
    },
    {
     "name": "stdout",
     "output_type": "stream",
     "text": [
      "\n",
      "predicting target prefix: ['Ein']"
     ]
    },
    {
     "name": "stderr",
     "output_type": "stream",
     "text": [
      "INFO:__main__:Source: A man lays down on a snowbank that has piled up high around the front door of his house . </S>\n",
      "INFO:__main__:Target Hypothesis: Mann liegt auf einem Schneehaufen , Klettern wäre eine Schneelandschaft .\n",
      "INFO:__main__:Target Reference: ['Mann', 'liegt', 'auf', 'einer', 'Schneewehe', ',', 'die', 'sich', 'hoch', 'um', 'die', 'Vordert\\xc3\\xbcr', 'seines', 'Hauses', 'aufget\\xc3\\xbcrmt', 'hat', '.']\n",
      "INFO:__main__:IMT F1 score: 0.214285714286\n"
     ]
    },
    {
     "name": "stdout",
     "output_type": "stream",
     "text": [
      "\n",
      "predicting target prefix: ['Ein', 'Mann']"
     ]
    },
    {
     "name": "stderr",
     "output_type": "stream",
     "text": [
      "INFO:__main__:Source: A man lays down on a snowbank that has piled up high around the front door of his house . </S>\n",
      "INFO:__main__:Target Hypothesis: liegt auf einem Schneehaufen , Klettern wäre eine Schneelandschaft .\n",
      "INFO:__main__:Target Reference: ['liegt', 'auf', 'einer', 'Schneewehe', ',', 'die', 'sich', 'hoch', 'um', 'die', 'Vordert\\xc3\\xbcr', 'seines', 'Hauses', 'aufget\\xc3\\xbcrmt', 'hat', '.']\n",
      "INFO:__main__:IMT F1 score: 0.153846153846\n"
     ]
    },
    {
     "name": "stdout",
     "output_type": "stream",
     "text": [
      "\n",
      "predicting target prefix: ['Ein', 'Mann', 'liegt']"
     ]
    },
    {
     "name": "stderr",
     "output_type": "stream",
     "text": [
      "INFO:__main__:Source: A man lays down on a snowbank that has piled up high around the front door of his house . </S>\n",
      "INFO:__main__:Target Hypothesis: auf einem Schneehaufen , Klettern wäre eine Schneelandschaft .\n",
      "INFO:__main__:Target Reference: ['auf', 'einer', 'Schneewehe', ',', 'die', 'sich', 'hoch', 'um', 'die', 'Vordert\\xc3\\xbcr', 'seines', 'Hauses', 'aufget\\xc3\\xbcrmt', 'hat', '.']\n",
      "INFO:__main__:IMT F1 score: 0.0833333333333\n"
     ]
    },
    {
     "name": "stdout",
     "output_type": "stream",
     "text": [
      "\n",
      "predicting target prefix: ['Ein', 'Mann', 'liegt', 'auf']"
     ]
    },
    {
     "name": "stderr",
     "output_type": "stream",
     "text": [
      "INFO:__main__:Source: A man lays down on a snowbank that has piled up high around the front door of his house . </S>\n",
      "INFO:__main__:Target Hypothesis: einem Schneehaufen , Klettern wäre eine Schneelandschaft .\n",
      "INFO:__main__:Target Reference: ['einer', 'Schneewehe', ',', 'die', 'sich', 'hoch', 'um', 'die', 'Vordert\\xc3\\xbcr', 'seines', 'Hauses', 'aufget\\xc3\\xbcrmt', 'hat', '.']\n",
      "INFO:__main__:IMT F1 score: 0.0\n"
     ]
    },
    {
     "name": "stdout",
     "output_type": "stream",
     "text": [
      "\n",
      "predicting target prefix: ['Ein', 'Mann', 'liegt', 'auf', 'einer']"
     ]
    },
    {
     "name": "stderr",
     "output_type": "stream",
     "text": [
      "INFO:__main__:Source: A man lays down on a snowbank that has piled up high around the front door of his house . </S>\n",
      "INFO:__main__:Target Hypothesis: Schneehaufen , um den vorderen Türen Akkordeon .\n",
      "INFO:__main__:Target Reference: ['Schneewehe', ',', 'die', 'sich', 'hoch', 'um', 'die', 'Vordert\\xc3\\xbcr', 'seines', 'Hauses', 'aufget\\xc3\\xbcrmt', 'hat', '.']\n",
      "INFO:__main__:IMT F1 score: 0.0\n"
     ]
    },
    {
     "name": "stdout",
     "output_type": "stream",
     "text": [
      "\n",
      "predicting target prefix: ['Ein', 'Mann', 'liegt', 'auf', 'einer', 'Schneewehe']"
     ]
    },
    {
     "name": "stderr",
     "output_type": "stream",
     "text": [
      "INFO:__main__:Source: A man lays down on a snowbank that has piled up high around the front door of his house . </S>\n",
      "INFO:__main__:Target Hypothesis: , um den vorderen Türen Akkordeon .\n",
      "INFO:__main__:Target Reference: [',', 'die', 'sich', 'hoch', 'um', 'die', 'Vordert\\xc3\\xbcr', 'seines', 'Hauses', 'aufget\\xc3\\xbcrmt', 'hat', '.']\n",
      "INFO:__main__:IMT F1 score: 0.105263157895\n"
     ]
    },
    {
     "name": "stdout",
     "output_type": "stream",
     "text": [
      "\n",
      "predicting target prefix: ['Ein', 'Mann', 'liegt', 'auf', 'einer', 'Schneewehe', ',']"
     ]
    },
    {
     "name": "stderr",
     "output_type": "stream",
     "text": [
      "INFO:__main__:Source: A man lays down on a snowbank that has piled up high around the front door of his house . </S>\n",
      "INFO:__main__:Target Hypothesis: um den vorderen Türen Akkordeon .\n",
      "INFO:__main__:Target Reference: ['die', 'sich', 'hoch', 'um', 'die', 'Vordert\\xc3\\xbcr', 'seines', 'Hauses', 'aufget\\xc3\\xbcrmt', 'hat', '.']\n",
      "INFO:__main__:IMT F1 score: 0.0\n"
     ]
    },
    {
     "name": "stdout",
     "output_type": "stream",
     "text": [
      "\n",
      "predicting target prefix: ['Ein', 'Mann', 'liegt', 'auf', 'einer', 'Schneewehe', ',', 'die']"
     ]
    },
    {
     "name": "stderr",
     "output_type": "stream",
     "text": [
      "INFO:__main__:Source: A man lays down on a snowbank that has piled up high around the front door of his house . </S>\n",
      "INFO:__main__:Target Hypothesis: hoch um das vorderen Türen Akkordeon ist .\n",
      "INFO:__main__:Target Reference: ['sich', 'hoch', 'um', 'die', 'Vordert\\xc3\\xbcr', 'seines', 'Hauses', 'aufget\\xc3\\xbcrmt', 'hat', '.']\n",
      "INFO:__main__:IMT F1 score: 0.0\n"
     ]
    },
    {
     "name": "stdout",
     "output_type": "stream",
     "text": [
      "\n",
      "predicting target prefix: ['Ein', 'Mann', 'liegt', 'auf', 'einer', 'Schneewehe', ',', 'die', 'sich']"
     ]
    },
    {
     "name": "stderr",
     "output_type": "stream",
     "text": [
      "INFO:__main__:Source: A man lays down on a snowbank that has piled up high around the front door of his house . </S>\n",
      "INFO:__main__:Target Hypothesis: hoch um die Vorderseite schneebedeckter Türen Akkordeon ist .\n",
      "INFO:__main__:Target Reference: ['hoch', 'um', 'die', 'Vordert\\xc3\\xbcr', 'seines', 'Hauses', 'aufget\\xc3\\xbcrmt', 'hat', '.']\n",
      "INFO:__main__:IMT F1 score: 0.333333333333\n"
     ]
    },
    {
     "name": "stdout",
     "output_type": "stream",
     "text": [
      "\n",
      "predicting target prefix: ['Ein', 'Mann', 'liegt', 'auf', 'einer', 'Schneewehe', ',', 'die', 'sich', 'hoch']"
     ]
    },
    {
     "name": "stderr",
     "output_type": "stream",
     "text": [
      "INFO:__main__:Source: A man lays down on a snowbank that has piled up high around the front door of his house . </S>\n",
      "INFO:__main__:Target Hypothesis: um die Vorderseite schneebedeckter Türen Akkordeon ist .\n",
      "INFO:__main__:Target Reference: ['um', 'die', 'Vordert\\xc3\\xbcr', 'seines', 'Hauses', 'aufget\\xc3\\xbcrmt', 'hat', '.']\n",
      "INFO:__main__:IMT F1 score: 0.25\n"
     ]
    },
    {
     "name": "stdout",
     "output_type": "stream",
     "text": [
      "\n",
      "predicting target prefix: ['Ein', 'Mann', 'liegt', 'auf', 'einer', 'Schneewehe', ',', 'die', 'sich', 'hoch', 'um']"
     ]
    },
    {
     "name": "stderr",
     "output_type": "stream",
     "text": [
      "INFO:__main__:Source: A man lays down on a snowbank that has piled up high around the front door of his house . </S>\n",
      "INFO:__main__:Target Hypothesis: die Vorderseite schneebedeckter Türen Akkordeon ist .\n",
      "INFO:__main__:Target Reference: ['die', 'Vordert\\xc3\\xbcr', 'seines', 'Hauses', 'aufget\\xc3\\xbcrmt', 'hat', '.']\n",
      "INFO:__main__:IMT F1 score: 0.142857142857\n"
     ]
    },
    {
     "name": "stdout",
     "output_type": "stream",
     "text": [
      "\n",
      "predicting target prefix: ['Ein', 'Mann', 'liegt', 'auf', 'einer', 'Schneewehe', ',', 'die', 'sich', 'hoch', 'um', 'die']"
     ]
    },
    {
     "name": "stderr",
     "output_type": "stream",
     "text": [
      "INFO:__main__:Source: A man lays down on a snowbank that has piled up high around the front door of his house . </S>\n",
      "INFO:__main__:Target Hypothesis: Vorderseite schneebedeckter Türen Akkordeon ist .\n",
      "INFO:__main__:Target Reference: ['Vordert\\xc3\\xbcr', 'seines', 'Hauses', 'aufget\\xc3\\xbcrmt', 'hat', '.']\n",
      "INFO:__main__:IMT F1 score: 0.0\n"
     ]
    },
    {
     "name": "stdout",
     "output_type": "stream",
     "text": [
      "\n",
      "predicting target prefix: ['Ein', 'Mann', 'liegt', 'auf', 'einer', 'Schneewehe', ',', 'die', 'sich', 'hoch', 'um', 'die', 'Vordert\\xc3\\xbcr']"
     ]
    },
    {
     "name": "stderr",
     "output_type": "stream",
     "text": [
      "INFO:__main__:Source: A man lays down on a snowbank that has piled up high around the front door of his house . </S>\n",
      "INFO:__main__:Target Hypothesis: gewickelt ist , um die Vorderseite ihres Hauses .\n",
      "INFO:__main__:Target Reference: ['seines', 'Hauses', 'aufget\\xc3\\xbcrmt', 'hat', '.']\n",
      "INFO:__main__:IMT F1 score: 0.0\n"
     ]
    },
    {
     "name": "stdout",
     "output_type": "stream",
     "text": [
      "\n",
      "predicting target prefix: ['Ein', 'Mann', 'liegt', 'auf', 'einer', 'Schneewehe', ',', 'die', 'sich', 'hoch', 'um', 'die', 'Vordert\\xc3\\xbcr', 'seines']"
     ]
    },
    {
     "name": "stderr",
     "output_type": "stream",
     "text": [
      "INFO:__main__:Source: A man lays down on a snowbank that has piled up high around the front door of his house . </S>\n",
      "INFO:__main__:Target Hypothesis: Hauses „ LUCKY “ steht .\n",
      "INFO:__main__:Target Reference: ['Hauses', 'aufget\\xc3\\xbcrmt', 'hat', '.']\n",
      "INFO:__main__:IMT F1 score: 0.2\n"
     ]
    },
    {
     "name": "stdout",
     "output_type": "stream",
     "text": [
      "\n",
      "predicting target prefix: ['Ein', 'Mann', 'liegt', 'auf', 'einer', 'Schneewehe', ',', 'die', 'sich', 'hoch', 'um', 'die', 'Vordert\\xc3\\xbcr', 'seines', 'Hauses']"
     ]
    },
    {
     "name": "stderr",
     "output_type": "stream",
     "text": [
      "INFO:__main__:Source: A man lays down on a snowbank that has piled up high around the front door of his house . </S>\n",
      "INFO:__main__:Target Hypothesis: „ LUCKY “ steht .\n",
      "INFO:__main__:Target Reference: ['aufget\\xc3\\xbcrmt', 'hat', '.']\n",
      "INFO:__main__:IMT F1 score: 0.0\n"
     ]
    },
    {
     "name": "stdout",
     "output_type": "stream",
     "text": [
      "\n",
      "predicting target prefix: ['Ein', 'Mann', 'liegt', 'auf', 'einer', 'Schneewehe', ',', 'die', 'sich', 'hoch', 'um', 'die', 'Vordert\\xc3\\xbcr', 'seines', 'Hauses', 'aufget\\xc3\\xbcrmt']"
     ]
    },
    {
     "name": "stderr",
     "output_type": "stream",
     "text": [
      "INFO:__main__:Source: A man lays down on a snowbank that has piled up high around the front door of his house . </S>\n",
      "INFO:__main__:Target Hypothesis: .\n",
      "INFO:__main__:Target Reference: ['hat', '.']\n",
      "INFO:__main__:IMT F1 score: 0.0\n"
     ]
    },
    {
     "name": "stdout",
     "output_type": "stream",
     "text": [
      "\n",
      "predicting target prefix: ['Ein', 'Mann', 'liegt', 'auf', 'einer', 'Schneewehe', ',', 'die', 'sich', 'hoch', 'um', 'die', 'Vordert\\xc3\\xbcr', 'seines', 'Hauses', 'aufget\\xc3\\xbcrmt', 'hat']"
     ]
    },
    {
     "name": "stderr",
     "output_type": "stream",
     "text": [
      "INFO:__main__:Source: A man lays down on a snowbank that has piled up high around the front door of his house . </S>\n",
      "INFO:__main__:Target Hypothesis: .\n",
      "INFO:__main__:Target Reference: ['.']\n",
      "INFO:__main__:IMT F1 score: 1.0\n"
     ]
    },
    {
     "name": "stdout",
     "output_type": "stream",
     "text": [
      "\n",
      "predicting target prefix: ['Ein', 'Mann', 'liegt', 'auf', 'einer', 'Schneewehe', ',', 'die', 'sich', 'hoch', 'um', 'die', 'Vordert\\xc3\\xbcr', 'seines', 'Hauses', 'aufget\\xc3\\xbcrmt', 'hat', '.']"
     ]
    },
    {
     "name": "stderr",
     "output_type": "stream",
     "text": [
      "INFO:__main__:Source: A man lays down on a snowbank that has piled up high around the front door of his house . </S>\n",
      "INFO:__main__:Target Hypothesis: </S> .\n",
      "INFO:__main__:Target Reference: []\n",
      "INFO:__main__:IMT F1 score: 0.0\n",
      "INFO:__main__:Translating segment: 56\n"
     ]
    },
    {
     "name": "stdout",
     "output_type": "stream",
     "text": [
      "\n",
      "predicting target prefix: ['Ein']"
     ]
    },
    {
     "name": "stderr",
     "output_type": "stream",
     "text": [
      "INFO:__main__:Source: Young girl reaches out to pet a deer . </S>\n",
      "INFO:__main__:Target Hypothesis: junges Mädchen greift ein Reh aus .\n",
      "INFO:__main__:Target Reference: ['kleines', 'M\\xc3\\xa4dchen', 'streckt', 'die', 'Hand', 'aus', ',', 'um', 'ein', 'Reh', 'zu', 'streicheln', '.']\n",
      "INFO:__main__:IMT F1 score: 0.0\n"
     ]
    },
    {
     "name": "stdout",
     "output_type": "stream",
     "text": [
      "\n",
      "predicting target prefix: ['Ein', 'kleines']"
     ]
    },
    {
     "name": "stderr",
     "output_type": "stream",
     "text": [
      "INFO:__main__:Source: Young girl reaches out to pet a deer . </S>\n",
      "INFO:__main__:Target Hypothesis: Mädchen greift ein Reh aus .\n",
      "INFO:__main__:Target Reference: ['M\\xc3\\xa4dchen', 'streckt', 'die', 'Hand', 'aus', ',', 'um', 'ein', 'Reh', 'zu', 'streicheln', '.']\n",
      "INFO:__main__:IMT F1 score: 0.111111111111\n"
     ]
    },
    {
     "name": "stdout",
     "output_type": "stream",
     "text": [
      "\n",
      "predicting target prefix: ['Ein', 'kleines', 'M\\xc3\\xa4dchen']"
     ]
    },
    {
     "name": "stderr",
     "output_type": "stream",
     "text": [
      "INFO:__main__:Source: Young girl reaches out to pet a deer . </S>\n",
      "INFO:__main__:Target Hypothesis: greift ein Reh aus .\n",
      "INFO:__main__:Target Reference: ['streckt', 'die', 'Hand', 'aus', ',', 'um', 'ein', 'Reh', 'zu', 'streicheln', '.']\n",
      "INFO:__main__:IMT F1 score: 0.0\n",
      "INFO:__main__:Source: Young girl reaches out to pet a deer . </S>\n",
      "INFO:__main__:Target Hypothesis: ein Reh aus .\n",
      "INFO:__main__:Target Reference: ['die', 'Hand', 'aus', ',', 'um', 'ein', 'Reh', 'zu', 'streicheln', '.']\n",
      "INFO:__main__:IMT F1 score: 0.0\n"
     ]
    },
    {
     "name": "stdout",
     "output_type": "stream",
     "text": [
      "\n",
      "predicting target prefix: ['Ein', 'kleines', 'M\\xc3\\xa4dchen', 'streckt']\n",
      "predicting target prefix: ['Ein', 'kleines', 'M\\xc3\\xa4dchen', 'streckt', 'die']"
     ]
    },
    {
     "name": "stderr",
     "output_type": "stream",
     "text": [
      "INFO:__main__:Source: Young girl reaches out to pet a deer . </S>\n",
      "INFO:__main__:Target Hypothesis: Spielzeug aus einem Reh aus .\n",
      "INFO:__main__:Target Reference: ['Hand', 'aus', ',', 'um', 'ein', 'Reh', 'zu', 'streicheln', '.']\n",
      "INFO:__main__:IMT F1 score: 0.0\n"
     ]
    },
    {
     "name": "stdout",
     "output_type": "stream",
     "text": [
      "\n",
      "predicting target prefix: ['Ein', 'kleines', 'M\\xc3\\xa4dchen', 'streckt', 'die', 'Hand']"
     ]
    },
    {
     "name": "stderr",
     "output_type": "stream",
     "text": [
      "INFO:__main__:Source: Young girl reaches out to pet a deer . </S>\n",
      "INFO:__main__:Target Hypothesis: aus einem Spielzeug aus .\n",
      "INFO:__main__:Target Reference: ['aus', ',', 'um', 'ein', 'Reh', 'zu', 'streicheln', '.']\n",
      "INFO:__main__:IMT F1 score: 0.153846153846\n",
      "INFO:__main__:Source: Young girl reaches out to pet a deer . </S>\n",
      "INFO:__main__:Target Hypothesis: einem Spielzeug aus .\n",
      "INFO:__main__:Target Reference: [',', 'um', 'ein', 'Reh', 'zu', 'streicheln', '.']\n",
      "INFO:__main__:IMT F1 score: 0.0\n"
     ]
    },
    {
     "name": "stdout",
     "output_type": "stream",
     "text": [
      "\n",
      "predicting target prefix: ['Ein', 'kleines', 'M\\xc3\\xa4dchen', 'streckt', 'die', 'Hand', 'aus']\n",
      "predicting target prefix: ['Ein', 'kleines', 'M\\xc3\\xa4dchen', 'streckt', 'die', 'Hand', 'aus', ',']"
     ]
    },
    {
     "name": "stderr",
     "output_type": "stream",
     "text": [
      "INFO:__main__:Source: Young girl reaches out to pet a deer . </S>\n",
      "INFO:__main__:Target Hypothesis: um ein Reh zu tackeln .\n",
      "INFO:__main__:Target Reference: ['um', 'ein', 'Reh', 'zu', 'streicheln', '.']\n",
      "INFO:__main__:IMT F1 score: 0.666666666667\n"
     ]
    },
    {
     "name": "stdout",
     "output_type": "stream",
     "text": [
      "\n",
      "predicting target prefix: ['Ein', 'kleines', 'M\\xc3\\xa4dchen', 'streckt', 'die', 'Hand', 'aus', ',', 'um']"
     ]
    },
    {
     "name": "stderr",
     "output_type": "stream",
     "text": [
      "INFO:__main__:Source: Young girl reaches out to pet a deer . </S>\n",
      "INFO:__main__:Target Hypothesis: ein Reh zu tackeln .\n",
      "INFO:__main__:Target Reference: ['ein', 'Reh', 'zu', 'streicheln', '.']\n",
      "INFO:__main__:IMT F1 score: 0.6\n"
     ]
    },
    {
     "name": "stdout",
     "output_type": "stream",
     "text": [
      "\n",
      "predicting target prefix: ['Ein', 'kleines', 'M\\xc3\\xa4dchen', 'streckt', 'die', 'Hand', 'aus', ',', 'um', 'ein']"
     ]
    },
    {
     "name": "stderr",
     "output_type": "stream",
     "text": [
      "INFO:__main__:Source: Young girl reaches out to pet a deer . </S>\n",
      "INFO:__main__:Target Hypothesis: Reh zu tackeln .\n",
      "INFO:__main__:Target Reference: ['Reh', 'zu', 'streicheln', '.']\n",
      "INFO:__main__:IMT F1 score: 0.5\n"
     ]
    },
    {
     "name": "stdout",
     "output_type": "stream",
     "text": [
      "\n",
      "predicting target prefix: ['Ein', 'kleines', 'M\\xc3\\xa4dchen', 'streckt', 'die', 'Hand', 'aus', ',', 'um', 'ein', 'Reh']"
     ]
    },
    {
     "name": "stderr",
     "output_type": "stream",
     "text": [
      "INFO:__main__:Source: Young girl reaches out to pet a deer . </S>\n",
      "INFO:__main__:Target Hypothesis: zu tackeln .\n",
      "INFO:__main__:Target Reference: ['zu', 'streicheln', '.']\n",
      "INFO:__main__:IMT F1 score: 0.333333333333\n",
      "INFO:__main__:Source: Young girl reaches out to pet a deer . </S>\n",
      "INFO:__main__:Target Hypothesis: tackeln .\n",
      "INFO:__main__:Target Reference: ['streicheln', '.']\n",
      "INFO:__main__:IMT F1 score: 0.0\n"
     ]
    },
    {
     "name": "stdout",
     "output_type": "stream",
     "text": [
      "\n",
      "predicting target prefix: ['Ein', 'kleines', 'M\\xc3\\xa4dchen', 'streckt', 'die', 'Hand', 'aus', ',', 'um', 'ein', 'Reh', 'zu']\n",
      "predicting target prefix: ['Ein', 'kleines', 'M\\xc3\\xa4dchen', 'streckt', 'die', 'Hand', 'aus', ',', 'um', 'ein', 'Reh', 'zu', 'streicheln']"
     ]
    },
    {
     "name": "stderr",
     "output_type": "stream",
     "text": [
      "INFO:__main__:Source: Young girl reaches out to pet a deer . </S>\n",
      "INFO:__main__:Target Hypothesis: .\n",
      "INFO:__main__:Target Reference: ['.']\n",
      "INFO:__main__:IMT F1 score: 1.0\n"
     ]
    },
    {
     "name": "stdout",
     "output_type": "stream",
     "text": [
      "\n",
      "predicting target prefix: ['Ein', 'kleines', 'M\\xc3\\xa4dchen', 'streckt', 'die', 'Hand', 'aus', ',', 'um', 'ein', 'Reh', 'zu', 'streicheln', '.']"
     ]
    },
    {
     "name": "stderr",
     "output_type": "stream",
     "text": [
      "INFO:__main__:Source: Young girl reaches out to pet a deer . </S>\n",
      "INFO:__main__:Target Hypothesis: </S> .\n",
      "INFO:__main__:Target Reference: []\n",
      "INFO:__main__:IMT F1 score: 0.0\n",
      "INFO:__main__:Translating segment: 57\n"
     ]
    },
    {
     "name": "stdout",
     "output_type": "stream",
     "text": [
      "\n",
      "predicting target prefix: ['Eine']"
     ]
    },
    {
     "name": "stderr",
     "output_type": "stream",
     "text": [
      "INFO:__main__:Source: A woman with black hair , wearing a black top and a red skirt is shaking her fist at somebody . </S>\n",
      "INFO:__main__:Target Hypothesis: Frau mit schwarzem Haar und rotem Rock schüttelt sich die Faust konzentriert .\n",
      "INFO:__main__:Target Reference: ['Frau', 'mit', 'schwarzem', 'Haar', ',', 'schwarzem', 'Oberteil', 'und', 'einem', 'roten', 'Rock', 'droht', 'jemandem', 'mit', 'der', 'Faust', '.']\n",
      "INFO:__main__:IMT F1 score: 0.266666666667\n"
     ]
    },
    {
     "name": "stdout",
     "output_type": "stream",
     "text": [
      "\n",
      "predicting target prefix: ['Eine', 'Frau']"
     ]
    },
    {
     "name": "stderr",
     "output_type": "stream",
     "text": [
      "INFO:__main__:Source: A woman with black hair , wearing a black top and a red skirt is shaking her fist at somebody . </S>\n",
      "INFO:__main__:Target Hypothesis: mit schwarzem Haar und rotem Rock schüttelt sich die Faust konzentriert .\n",
      "INFO:__main__:Target Reference: ['mit', 'schwarzem', 'Haar', ',', 'schwarzem', 'Oberteil', 'und', 'einem', 'roten', 'Rock', 'droht', 'jemandem', 'mit', 'der', 'Faust', '.']\n",
      "INFO:__main__:IMT F1 score: 0.214285714286\n"
     ]
    },
    {
     "name": "stdout",
     "output_type": "stream",
     "text": [
      "\n",
      "predicting target prefix: ['Eine', 'Frau', 'mit']"
     ]
    },
    {
     "name": "stderr",
     "output_type": "stream",
     "text": [
      "INFO:__main__:Source: A woman with black hair , wearing a black top and a red skirt is shaking her fist at somebody . </S>\n",
      "INFO:__main__:Target Hypothesis: schwarzem Haar und rotem Rock schüttelt sich die Faust konzentriert .\n",
      "INFO:__main__:Target Reference: ['schwarzem', 'Haar', ',', 'schwarzem', 'Oberteil', 'und', 'einem', 'roten', 'Rock', 'droht', 'jemandem', 'mit', 'der', 'Faust', '.']\n",
      "INFO:__main__:IMT F1 score: 0.153846153846\n"
     ]
    },
    {
     "name": "stdout",
     "output_type": "stream",
     "text": [
      "\n",
      "predicting target prefix: ['Eine', 'Frau', 'mit', 'schwarzem']"
     ]
    },
    {
     "name": "stderr",
     "output_type": "stream",
     "text": [
      "INFO:__main__:Source: A woman with black hair , wearing a black top and a red skirt is shaking her fist at somebody . </S>\n",
      "INFO:__main__:Target Hypothesis: Haar und rotem Rock schüttelt sich die Faust konzentriert .\n",
      "INFO:__main__:Target Reference: ['Haar', ',', 'schwarzem', 'Oberteil', 'und', 'einem', 'roten', 'Rock', 'droht', 'jemandem', 'mit', 'der', 'Faust', '.']\n",
      "INFO:__main__:IMT F1 score: 0.0833333333333\n"
     ]
    },
    {
     "name": "stdout",
     "output_type": "stream",
     "text": [
      "\n",
      "predicting target prefix: ['Eine', 'Frau', 'mit', 'schwarzem', 'Haar']"
     ]
    },
    {
     "name": "stderr",
     "output_type": "stream",
     "text": [
      "INFO:__main__:Source: A woman with black hair , wearing a black top and a red skirt is shaking her fist at somebody . </S>\n",
      "INFO:__main__:Target Hypothesis: und rotem Rock schüttelt sich die Faust konzentriert .\n",
      "INFO:__main__:Target Reference: [',', 'schwarzem', 'Oberteil', 'und', 'einem', 'roten', 'Rock', 'droht', 'jemandem', 'mit', 'der', 'Faust', '.']\n",
      "INFO:__main__:IMT F1 score: 0.0\n"
     ]
    },
    {
     "name": "stdout",
     "output_type": "stream",
     "text": [
      "\n",
      "predicting target prefix: ['Eine', 'Frau', 'mit', 'schwarzem', 'Haar', ',']"
     ]
    },
    {
     "name": "stderr",
     "output_type": "stream",
     "text": [
      "INFO:__main__:Source: A woman with black hair , wearing a black top and a red skirt is shaking her fist at somebody . </S>\n",
      "INFO:__main__:Target Hypothesis: der ein schwarzes Oberteil und ein rotes Rock trägt , schütteln sich die Faust nach unten auf .\n",
      "INFO:__main__:Target Reference: ['schwarzem', 'Oberteil', 'und', 'einem', 'roten', 'Rock', 'droht', 'jemandem', 'mit', 'der', 'Faust', '.']\n",
      "INFO:__main__:IMT F1 score: 0.0\n"
     ]
    },
    {
     "name": "stdout",
     "output_type": "stream",
     "text": [
      "\n",
      "predicting target prefix: ['Eine', 'Frau', 'mit', 'schwarzem', 'Haar', ',', 'schwarzem']"
     ]
    },
    {
     "name": "stderr",
     "output_type": "stream",
     "text": [
      "INFO:__main__:Source: A woman with black hair , wearing a black top and a red skirt is shaking her fist at somebody . </S>\n",
      "INFO:__main__:Target Hypothesis: Hemd und rotem Rock schüttelt sich die Faust konzentriert .\n",
      "INFO:__main__:Target Reference: ['Oberteil', 'und', 'einem', 'roten', 'Rock', 'droht', 'jemandem', 'mit', 'der', 'Faust', '.']\n",
      "INFO:__main__:IMT F1 score: 0.0\n"
     ]
    },
    {
     "name": "stdout",
     "output_type": "stream",
     "text": [
      "\n",
      "predicting target prefix: ['Eine', 'Frau', 'mit', 'schwarzem', 'Haar', ',', 'schwarzem', 'Oberteil']"
     ]
    },
    {
     "name": "stderr",
     "output_type": "stream",
     "text": [
      "INFO:__main__:Source: A woman with black hair , wearing a black top and a red skirt is shaking her fist at somebody . </S>\n",
      "INFO:__main__:Target Hypothesis: und rotem Rock schüttelt sich die Faust konzentriert .\n",
      "INFO:__main__:Target Reference: ['und', 'einem', 'roten', 'Rock', 'droht', 'jemandem', 'mit', 'der', 'Faust', '.']\n",
      "INFO:__main__:IMT F1 score: 0.105263157895\n"
     ]
    },
    {
     "name": "stdout",
     "output_type": "stream",
     "text": [
      "\n",
      "predicting target prefix: ['Eine', 'Frau', 'mit', 'schwarzem', 'Haar', ',', 'schwarzem', 'Oberteil', 'und']"
     ]
    },
    {
     "name": "stderr",
     "output_type": "stream",
     "text": [
      "INFO:__main__:Source: A woman with black hair , wearing a black top and a red skirt is shaking her fist at somebody . </S>\n",
      "INFO:__main__:Target Hypothesis: rotem Rock schüttelt sich die Faust konzentriert .\n",
      "INFO:__main__:Target Reference: ['einem', 'roten', 'Rock', 'droht', 'jemandem', 'mit', 'der', 'Faust', '.']\n",
      "INFO:__main__:IMT F1 score: 0.0\n"
     ]
    },
    {
     "name": "stdout",
     "output_type": "stream",
     "text": [
      "\n",
      "predicting target prefix: ['Eine', 'Frau', 'mit', 'schwarzem', 'Haar', ',', 'schwarzem', 'Oberteil', 'und', 'einem']"
     ]
    },
    {
     "name": "stderr",
     "output_type": "stream",
     "text": [
      "INFO:__main__:Source: A woman with black hair , wearing a black top and a red skirt is shaking her fist at somebody . </S>\n",
      "INFO:__main__:Target Hypothesis: roten Rock schüttelt sich die Faust konzentriert .\n",
      "INFO:__main__:Target Reference: ['roten', 'Rock', 'droht', 'jemandem', 'mit', 'der', 'Faust', '.']\n",
      "INFO:__main__:IMT F1 score: 0.25\n"
     ]
    },
    {
     "name": "stdout",
     "output_type": "stream",
     "text": [
      "\n",
      "predicting target prefix: ['Eine', 'Frau', 'mit', 'schwarzem', 'Haar', ',', 'schwarzem', 'Oberteil', 'und', 'einem', 'roten']"
     ]
    },
    {
     "name": "stderr",
     "output_type": "stream",
     "text": [
      "INFO:__main__:Source: A woman with black hair , wearing a black top and a red skirt is shaking her fist at somebody . </S>\n",
      "INFO:__main__:Target Hypothesis: Rock schüttelt sich die Faust konzentriert .\n",
      "INFO:__main__:Target Reference: ['Rock', 'droht', 'jemandem', 'mit', 'der', 'Faust', '.']\n",
      "INFO:__main__:IMT F1 score: 0.142857142857\n"
     ]
    },
    {
     "name": "stdout",
     "output_type": "stream",
     "text": [
      "\n",
      "predicting target prefix: ['Eine', 'Frau', 'mit', 'schwarzem', 'Haar', ',', 'schwarzem', 'Oberteil', 'und', 'einem', 'roten', 'Rock']"
     ]
    },
    {
     "name": "stderr",
     "output_type": "stream",
     "text": [
      "INFO:__main__:Source: A woman with black hair , wearing a black top and a red skirt is shaking her fist at somebody . </S>\n",
      "INFO:__main__:Target Hypothesis: schüttelt sich die Faust konzentriert .\n",
      "INFO:__main__:Target Reference: ['droht', 'jemandem', 'mit', 'der', 'Faust', '.']\n",
      "INFO:__main__:IMT F1 score: 0.0\n"
     ]
    },
    {
     "name": "stdout",
     "output_type": "stream",
     "text": [
      "\n",
      "predicting target prefix: ['Eine', 'Frau', 'mit', 'schwarzem', 'Haar', ',', 'schwarzem', 'Oberteil', 'und', 'einem', 'roten', 'Rock', 'droht']"
     ]
    },
    {
     "name": "stderr",
     "output_type": "stream",
     "text": [
      "INFO:__main__:Source: A woman with black hair , wearing a black top and a red skirt is shaking her fist at somebody . </S>\n",
      "INFO:__main__:Target Hypothesis: ihre Faust zur Schau .\n",
      "INFO:__main__:Target Reference: ['jemandem', 'mit', 'der', 'Faust', '.']\n",
      "INFO:__main__:IMT F1 score: 0.0\n"
     ]
    },
    {
     "name": "stdout",
     "output_type": "stream",
     "text": [
      "\n",
      "predicting target prefix: ['Eine', 'Frau', 'mit', 'schwarzem', 'Haar', ',', 'schwarzem', 'Oberteil', 'und', 'einem', 'roten', 'Rock', 'droht', 'jemandem']"
     ]
    },
    {
     "name": "stderr",
     "output_type": "stream",
     "text": [
      "INFO:__main__:Source: A woman with black hair , wearing a black top and a red skirt is shaking her fist at somebody . </S>\n",
      "INFO:__main__:Target Hypothesis: beim Rauchen nach unten .\n",
      "INFO:__main__:Target Reference: ['mit', 'der', 'Faust', '.']\n",
      "INFO:__main__:IMT F1 score: 0.0\n"
     ]
    },
    {
     "name": "stdout",
     "output_type": "stream",
     "text": [
      "\n",
      "predicting target prefix: ['Eine', 'Frau', 'mit', 'schwarzem', 'Haar', ',', 'schwarzem', 'Oberteil', 'und', 'einem', 'roten', 'Rock', 'droht', 'jemandem', 'mit']"
     ]
    },
    {
     "name": "stderr",
     "output_type": "stream",
     "text": [
      "INFO:__main__:Source: A woman with black hair , wearing a black top and a red skirt is shaking her fist at somebody . </S>\n",
      "INFO:__main__:Target Hypothesis: einem roten Rock sorgt für die Faust .\n",
      "INFO:__main__:Target Reference: ['der', 'Faust', '.']\n",
      "INFO:__main__:IMT F1 score: 0.0\n"
     ]
    },
    {
     "name": "stdout",
     "output_type": "stream",
     "text": [
      "\n",
      "predicting target prefix: ['Eine', 'Frau', 'mit', 'schwarzem', 'Haar', ',', 'schwarzem', 'Oberteil', 'und', 'einem', 'roten', 'Rock', 'droht', 'jemandem', 'mit', 'der']"
     ]
    },
    {
     "name": "stderr",
     "output_type": "stream",
     "text": [
      "INFO:__main__:Source: A woman with black hair , wearing a black top and a red skirt is shaking her fist at somebody . </S>\n",
      "INFO:__main__:Target Hypothesis: Menge von parallelen Stangen hindurch .\n",
      "INFO:__main__:Target Reference: ['Faust', '.']\n",
      "INFO:__main__:IMT F1 score: 0.0\n"
     ]
    },
    {
     "name": "stdout",
     "output_type": "stream",
     "text": [
      "\n",
      "predicting target prefix: ['Eine', 'Frau', 'mit', 'schwarzem', 'Haar', ',', 'schwarzem', 'Oberteil', 'und', 'einem', 'roten', 'Rock', 'droht', 'jemandem', 'mit', 'der', 'Faust']"
     ]
    },
    {
     "name": "stderr",
     "output_type": "stream",
     "text": [
      "INFO:__main__:Source: A woman with black hair , wearing a black top and a red skirt is shaking her fist at somebody . </S>\n",
      "INFO:__main__:Target Hypothesis: voneinander .\n",
      "INFO:__main__:Target Reference: ['.']\n",
      "INFO:__main__:IMT F1 score: 0.0\n"
     ]
    },
    {
     "name": "stdout",
     "output_type": "stream",
     "text": [
      "\n",
      "predicting target prefix: ['Eine', 'Frau', 'mit', 'schwarzem', 'Haar', ',', 'schwarzem', 'Oberteil', 'und', 'einem', 'roten', 'Rock', 'droht', 'jemandem', 'mit', 'der', 'Faust', '.']"
     ]
    },
    {
     "name": "stderr",
     "output_type": "stream",
     "text": [
      "INFO:__main__:Source: A woman with black hair , wearing a black top and a red skirt is shaking her fist at somebody . </S>\n",
      "INFO:__main__:Target Hypothesis: </S> .\n",
      "INFO:__main__:Target Reference: []\n",
      "INFO:__main__:IMT F1 score: 0.0\n",
      "INFO:__main__:Translating segment: 58\n"
     ]
    },
    {
     "name": "stdout",
     "output_type": "stream",
     "text": [
      "\n",
      "predicting target prefix: ['Ein']"
     ]
    },
    {
     "name": "stderr",
     "output_type": "stream",
     "text": [
      "INFO:__main__:Source: A man being pushed in a wheelchair through a library . </S>\n",
      "INFO:__main__:Target Hypothesis: Mann wird in einem Rollstuhl durch eine Bibliothek .\n",
      "INFO:__main__:Target Reference: ['Mann', 'wird', 'in', 'einem', 'Rollstuhl', 'durch', 'eine', 'Bibliothek', 'geschoben', '.']\n",
      "INFO:__main__:IMT F1 score: 0.842105263158\n"
     ]
    },
    {
     "name": "stdout",
     "output_type": "stream",
     "text": [
      "\n",
      "predicting target prefix: ['Ein', 'Mann']"
     ]
    },
    {
     "name": "stderr",
     "output_type": "stream",
     "text": [
      "INFO:__main__:Source: A man being pushed in a wheelchair through a library . </S>\n",
      "INFO:__main__:Target Hypothesis: wird in einem Rollstuhl durch eine Bibliothek .\n",
      "INFO:__main__:Target Reference: ['wird', 'in', 'einem', 'Rollstuhl', 'durch', 'eine', 'Bibliothek', 'geschoben', '.']\n",
      "INFO:__main__:IMT F1 score: 0.823529411765\n"
     ]
    },
    {
     "name": "stdout",
     "output_type": "stream",
     "text": [
      "\n",
      "predicting target prefix: ['Ein', 'Mann', 'wird']"
     ]
    },
    {
     "name": "stderr",
     "output_type": "stream",
     "text": [
      "INFO:__main__:Source: A man being pushed in a wheelchair through a library . </S>\n",
      "INFO:__main__:Target Hypothesis: in einem Rollstuhl durch eine Bibliothek .\n",
      "INFO:__main__:Target Reference: ['in', 'einem', 'Rollstuhl', 'durch', 'eine', 'Bibliothek', 'geschoben', '.']\n",
      "INFO:__main__:IMT F1 score: 0.8\n"
     ]
    },
    {
     "name": "stdout",
     "output_type": "stream",
     "text": [
      "\n",
      "predicting target prefix: ['Ein', 'Mann', 'wird', 'in']"
     ]
    },
    {
     "name": "stderr",
     "output_type": "stream",
     "text": [
      "INFO:__main__:Source: A man being pushed in a wheelchair through a library . </S>\n",
      "INFO:__main__:Target Hypothesis: einem Rollstuhl durch eine Bibliothek .\n",
      "INFO:__main__:Target Reference: ['einem', 'Rollstuhl', 'durch', 'eine', 'Bibliothek', 'geschoben', '.']\n",
      "INFO:__main__:IMT F1 score: 0.769230769231\n"
     ]
    },
    {
     "name": "stdout",
     "output_type": "stream",
     "text": [
      "\n",
      "predicting target prefix: ['Ein', 'Mann', 'wird', 'in', 'einem']"
     ]
    },
    {
     "name": "stderr",
     "output_type": "stream",
     "text": [
      "INFO:__main__:Source: A man being pushed in a wheelchair through a library . </S>\n",
      "INFO:__main__:Target Hypothesis: Rollstuhl durch eine Bibliothek .\n",
      "INFO:__main__:Target Reference: ['Rollstuhl', 'durch', 'eine', 'Bibliothek', 'geschoben', '.']\n",
      "INFO:__main__:IMT F1 score: 0.727272727273\n"
     ]
    },
    {
     "name": "stdout",
     "output_type": "stream",
     "text": [
      "\n",
      "predicting target prefix: ['Ein', 'Mann', 'wird', 'in', 'einem', 'Rollstuhl']"
     ]
    },
    {
     "name": "stderr",
     "output_type": "stream",
     "text": [
      "INFO:__main__:Source: A man being pushed in a wheelchair through a library . </S>\n",
      "INFO:__main__:Target Hypothesis: durch eine Bibliothek .\n",
      "INFO:__main__:Target Reference: ['durch', 'eine', 'Bibliothek', 'geschoben', '.']\n",
      "INFO:__main__:IMT F1 score: 0.666666666667\n"
     ]
    },
    {
     "name": "stdout",
     "output_type": "stream",
     "text": [
      "\n",
      "predicting target prefix: ['Ein', 'Mann', 'wird', 'in', 'einem', 'Rollstuhl', 'durch']"
     ]
    },
    {
     "name": "stderr",
     "output_type": "stream",
     "text": [
      "INFO:__main__:Source: A man being pushed in a wheelchair through a library . </S>\n",
      "INFO:__main__:Target Hypothesis: eine Bibliothek .\n",
      "INFO:__main__:Target Reference: ['eine', 'Bibliothek', 'geschoben', '.']\n",
      "INFO:__main__:IMT F1 score: 0.571428571429\n"
     ]
    },
    {
     "name": "stdout",
     "output_type": "stream",
     "text": [
      "\n",
      "predicting target prefix: ['Ein', 'Mann', 'wird', 'in', 'einem', 'Rollstuhl', 'durch', 'eine']"
     ]
    },
    {
     "name": "stderr",
     "output_type": "stream",
     "text": [
      "INFO:__main__:Source: A man being pushed in a wheelchair through a library . </S>\n",
      "INFO:__main__:Target Hypothesis: Bibliothek hindurch .\n",
      "INFO:__main__:Target Reference: ['Bibliothek', 'geschoben', '.']\n",
      "INFO:__main__:IMT F1 score: 0.333333333333\n"
     ]
    },
    {
     "name": "stdout",
     "output_type": "stream",
     "text": [
      "\n",
      "predicting target prefix: ['Ein', 'Mann', 'wird', 'in', 'einem', 'Rollstuhl', 'durch', 'eine', 'Bibliothek']"
     ]
    },
    {
     "name": "stderr",
     "output_type": "stream",
     "text": [
      "INFO:__main__:Source: A man being pushed in a wheelchair through a library . </S>\n",
      "INFO:__main__:Target Hypothesis: hindurch .\n",
      "INFO:__main__:Target Reference: ['geschoben', '.']\n",
      "INFO:__main__:IMT F1 score: 0.0\n",
      "INFO:__main__:Source: A man being pushed in a wheelchair through a library . </S>\n",
      "INFO:__main__:Target Hypothesis: wird .\n",
      "INFO:__main__:Target Reference: ['.']\n",
      "INFO:__main__:IMT F1 score: 0.0\n"
     ]
    },
    {
     "name": "stdout",
     "output_type": "stream",
     "text": [
      "\n",
      "predicting target prefix: ['Ein', 'Mann', 'wird', 'in', 'einem', 'Rollstuhl', 'durch', 'eine', 'Bibliothek', 'geschoben']\n",
      "predicting target prefix: ['Ein', 'Mann', 'wird', 'in', 'einem', 'Rollstuhl', 'durch', 'eine', 'Bibliothek', 'geschoben', '.']"
     ]
    },
    {
     "name": "stderr",
     "output_type": "stream",
     "text": [
      "INFO:__main__:Source: A man being pushed in a wheelchair through a library . </S>\n",
      "INFO:__main__:Target Hypothesis: </S> .\n",
      "INFO:__main__:Target Reference: []\n",
      "INFO:__main__:IMT F1 score: 0.0\n",
      "INFO:__main__:Translating segment: 59\n"
     ]
    },
    {
     "name": "stdout",
     "output_type": "stream",
     "text": [
      "\n",
      "predicting target prefix: ['Zwei']"
     ]
    },
    {
     "name": "stderr",
     "output_type": "stream",
     "text": [
      "INFO:__main__:Source: Two dogs are laying in the snow with their mouths open . </S>\n",
      "INFO:__main__:Target Hypothesis: Hunde liegen im Schnee mit geöffnetem Maul .\n",
      "INFO:__main__:Target Reference: ['Hunde', 'liegen', 'mit', 'offenem', 'Maul', 'im', 'Schnee', '.']\n",
      "INFO:__main__:IMT F1 score: 0.25\n"
     ]
    },
    {
     "name": "stdout",
     "output_type": "stream",
     "text": [
      "\n",
      "predicting target prefix: ['Zwei', 'Hunde']"
     ]
    },
    {
     "name": "stderr",
     "output_type": "stream",
     "text": [
      "INFO:__main__:Source: Two dogs are laying in the snow with their mouths open . </S>\n",
      "INFO:__main__:Target Hypothesis: liegen im Schnee mit geöffnetem Maul .\n",
      "INFO:__main__:Target Reference: ['liegen', 'mit', 'offenem', 'Maul', 'im', 'Schnee', '.']\n",
      "INFO:__main__:IMT F1 score: 0.142857142857\n"
     ]
    },
    {
     "name": "stdout",
     "output_type": "stream",
     "text": [
      "\n",
      "predicting target prefix: ['Zwei', 'Hunde', 'liegen']"
     ]
    },
    {
     "name": "stderr",
     "output_type": "stream",
     "text": [
      "INFO:__main__:Source: Two dogs are laying in the snow with their mouths open . </S>\n",
      "INFO:__main__:Target Hypothesis: im Schnee mit geöffnetem Maul .\n",
      "INFO:__main__:Target Reference: ['mit', 'offenem', 'Maul', 'im', 'Schnee', '.']\n",
      "INFO:__main__:IMT F1 score: 0.0\n"
     ]
    },
    {
     "name": "stdout",
     "output_type": "stream",
     "text": [
      "\n",
      "predicting target prefix: ['Zwei', 'Hunde', 'liegen', 'mit']"
     ]
    },
    {
     "name": "stderr",
     "output_type": "stream",
     "text": [
      "INFO:__main__:Source: Two dogs are laying in the snow with their mouths open . </S>\n",
      "INFO:__main__:Target Hypothesis: geöffnetem Maul Schnee im Schnee .\n",
      "INFO:__main__:Target Reference: ['offenem', 'Maul', 'im', 'Schnee', '.']\n",
      "INFO:__main__:IMT F1 score: 0.0\n"
     ]
    },
    {
     "name": "stdout",
     "output_type": "stream",
     "text": [
      "\n",
      "predicting target prefix: ['Zwei', 'Hunde', 'liegen', 'mit', 'offenem']"
     ]
    },
    {
     "name": "stderr",
     "output_type": "stream",
     "text": [
      "INFO:__main__:Source: Two dogs are laying in the snow with their mouths open . </S>\n",
      "INFO:__main__:Target Hypothesis: Maul im Schnee .\n",
      "INFO:__main__:Target Reference: ['Maul', 'im', 'Schnee', '.']\n",
      "INFO:__main__:IMT F1 score: 1.0\n"
     ]
    },
    {
     "name": "stdout",
     "output_type": "stream",
     "text": [
      "\n",
      "predicting target prefix: ['Zwei', 'Hunde', 'liegen', 'mit', 'offenem', 'Maul']"
     ]
    },
    {
     "name": "stderr",
     "output_type": "stream",
     "text": [
      "INFO:__main__:Source: Two dogs are laying in the snow with their mouths open . </S>\n",
      "INFO:__main__:Target Hypothesis: im Schnee .\n",
      "INFO:__main__:Target Reference: ['im', 'Schnee', '.']\n",
      "INFO:__main__:IMT F1 score: 1.0\n",
      "INFO:__main__:Source: Two dogs are laying in the snow with their mouths open . </S>\n",
      "INFO:__main__:Target Hypothesis: Schnee .\n",
      "INFO:__main__:Target Reference: ['Schnee', '.']\n",
      "INFO:__main__:IMT F1 score: 1.0\n"
     ]
    },
    {
     "name": "stdout",
     "output_type": "stream",
     "text": [
      "\n",
      "predicting target prefix: ['Zwei', 'Hunde', 'liegen', 'mit', 'offenem', 'Maul', 'im']\n",
      "predicting target prefix: ['Zwei', 'Hunde', 'liegen', 'mit', 'offenem', 'Maul', 'im', 'Schnee']"
     ]
    },
    {
     "name": "stderr",
     "output_type": "stream",
     "text": [
      "INFO:__main__:Source: Two dogs are laying in the snow with their mouths open . </S>\n",
      "INFO:__main__:Target Hypothesis: .\n",
      "INFO:__main__:Target Reference: ['.']\n",
      "INFO:__main__:IMT F1 score: 1.0\n"
     ]
    },
    {
     "name": "stdout",
     "output_type": "stream",
     "text": [
      "\n",
      "predicting target prefix: ['Zwei', 'Hunde', 'liegen', 'mit', 'offenem', 'Maul', 'im', 'Schnee', '.']"
     ]
    },
    {
     "name": "stderr",
     "output_type": "stream",
     "text": [
      "INFO:__main__:Source: Two dogs are laying in the snow with their mouths open . </S>\n",
      "INFO:__main__:Target Hypothesis: </S> im Schnee .\n",
      "INFO:__main__:Target Reference: []\n",
      "INFO:__main__:IMT F1 score: 0.0\n",
      "INFO:__main__:Translating segment: 60\n"
     ]
    },
    {
     "name": "stdout",
     "output_type": "stream",
     "text": [
      "\n",
      "predicting target prefix: ['Eine']"
     ]
    },
    {
     "name": "stderr",
     "output_type": "stream",
     "text": [
      "INFO:__main__:Source: A <UNK> faced woman cleans the floor of her living room . </S>\n",
      "INFO:__main__:Target Hypothesis: Frau räumt den Boden ihres Zuges .\n",
      "INFO:__main__:Target Reference: ['Frau', 'mit', 'freundlichem', 'Gesicht', 'reinigt', 'den', 'Boden', 'ihres', 'Wohnzimmers', '.']\n",
      "INFO:__main__:IMT F1 score: 0.117647058824\n"
     ]
    },
    {
     "name": "stdout",
     "output_type": "stream",
     "text": [
      "\n",
      "predicting target prefix: ['Eine', 'Frau']"
     ]
    },
    {
     "name": "stderr",
     "output_type": "stream",
     "text": [
      "INFO:__main__:Source: A <UNK> faced woman cleans the floor of her living room . </S>\n",
      "INFO:__main__:Target Hypothesis: räumt den Boden ihres Zuges .\n",
      "INFO:__main__:Target Reference: ['mit', 'freundlichem', 'Gesicht', 'reinigt', 'den', 'Boden', 'ihres', 'Wohnzimmers', '.']\n",
      "INFO:__main__:IMT F1 score: 0.0\n"
     ]
    },
    {
     "name": "stdout",
     "output_type": "stream",
     "text": [
      "\n",
      "predicting target prefix: ['Eine', 'Frau', 'mit']"
     ]
    },
    {
     "name": "stderr",
     "output_type": "stream",
     "text": [
      "INFO:__main__:Source: A <UNK> faced woman cleans the floor of her living room . </S>\n",
      "INFO:__main__:Target Hypothesis: dem Schaufenster eines Zuges .\n",
      "INFO:__main__:Target Reference: ['freundlichem', 'Gesicht', 'reinigt', 'den', 'Boden', 'ihres', 'Wohnzimmers', '.']\n",
      "INFO:__main__:IMT F1 score: 0.0\n"
     ]
    },
    {
     "name": "stdout",
     "output_type": "stream",
     "text": [
      "\n",
      "predicting target prefix: ['Eine', 'Frau', 'mit', 'freundlichem']"
     ]
    },
    {
     "name": "stderr",
     "output_type": "stream",
     "text": [
      "INFO:__main__:Source: A <UNK> faced woman cleans the floor of her living room . </S>\n",
      "INFO:__main__:Target Hypothesis: Wasser aus dem Schaufenster .\n",
      "INFO:__main__:Target Reference: ['Gesicht', 'reinigt', 'den', 'Boden', 'ihres', 'Wohnzimmers', '.']\n",
      "INFO:__main__:IMT F1 score: 0.0\n"
     ]
    },
    {
     "name": "stdout",
     "output_type": "stream",
     "text": [
      "\n",
      "predicting target prefix: ['Eine', 'Frau', 'mit', 'freundlichem', 'Gesicht']"
     ]
    },
    {
     "name": "stderr",
     "output_type": "stream",
     "text": [
      "INFO:__main__:Source: A <UNK> faced woman cleans the floor of her living room . </S>\n",
      "INFO:__main__:Target Hypothesis: das Schaufenster eines Zuges .\n",
      "INFO:__main__:Target Reference: ['reinigt', 'den', 'Boden', 'ihres', 'Wohnzimmers', '.']\n",
      "INFO:__main__:IMT F1 score: 0.0\n"
     ]
    },
    {
     "name": "stdout",
     "output_type": "stream",
     "text": [
      "\n",
      "predicting target prefix: ['Eine', 'Frau', 'mit', 'freundlichem', 'Gesicht', 'reinigt']"
     ]
    },
    {
     "name": "stderr",
     "output_type": "stream",
     "text": [
      "INFO:__main__:Source: A <UNK> faced woman cleans the floor of her living room . </S>\n",
      "INFO:__main__:Target Hypothesis: den Mund eines Zuges .\n",
      "INFO:__main__:Target Reference: ['den', 'Boden', 'ihres', 'Wohnzimmers', '.']\n",
      "INFO:__main__:IMT F1 score: 0.2\n"
     ]
    },
    {
     "name": "stdout",
     "output_type": "stream",
     "text": [
      "\n",
      "predicting target prefix: ['Eine', 'Frau', 'mit', 'freundlichem', 'Gesicht', 'reinigt', 'den']"
     ]
    },
    {
     "name": "stderr",
     "output_type": "stream",
     "text": [
      "INFO:__main__:Source: A <UNK> faced woman cleans the floor of her living room . </S>\n",
      "INFO:__main__:Target Hypothesis: Verkauf von ihrem Hotelzimmer .\n",
      "INFO:__main__:Target Reference: ['Boden', 'ihres', 'Wohnzimmers', '.']\n",
      "INFO:__main__:IMT F1 score: 0.0\n"
     ]
    },
    {
     "name": "stdout",
     "output_type": "stream",
     "text": [
      "\n",
      "predicting target prefix: ['Eine', 'Frau', 'mit', 'freundlichem', 'Gesicht', 'reinigt', 'den', 'Boden']"
     ]
    },
    {
     "name": "stderr",
     "output_type": "stream",
     "text": [
      "INFO:__main__:Source: A <UNK> faced woman cleans the floor of her living room . </S>\n",
      "INFO:__main__:Target Hypothesis: .\n",
      "INFO:__main__:Target Reference: ['ihres', 'Wohnzimmers', '.']\n",
      "INFO:__main__:IMT F1 score: 0.0\n"
     ]
    },
    {
     "name": "stdout",
     "output_type": "stream",
     "text": [
      "\n",
      "predicting target prefix: ['Eine', 'Frau', 'mit', 'freundlichem', 'Gesicht', 'reinigt', 'den', 'Boden', 'ihres']"
     ]
    },
    {
     "name": "stderr",
     "output_type": "stream",
     "text": [
      "INFO:__main__:Source: A <UNK> faced woman cleans the floor of her living room . </S>\n",
      "INFO:__main__:Target Hypothesis: Zuges .\n",
      "INFO:__main__:Target Reference: ['Wohnzimmers', '.']\n",
      "INFO:__main__:IMT F1 score: 0.0\n"
     ]
    },
    {
     "name": "stdout",
     "output_type": "stream",
     "text": [
      "\n",
      "predicting target prefix: ['Eine', 'Frau', 'mit', 'freundlichem', 'Gesicht', 'reinigt', 'den', 'Boden', 'ihres', 'Wohnzimmers']"
     ]
    },
    {
     "name": "stderr",
     "output_type": "stream",
     "text": [
      "INFO:__main__:Source: A <UNK> faced woman cleans the floor of her living room . </S>\n",
      "INFO:__main__:Target Hypothesis: .\n",
      "INFO:__main__:Target Reference: ['.']\n",
      "INFO:__main__:IMT F1 score: 1.0\n"
     ]
    },
    {
     "name": "stdout",
     "output_type": "stream",
     "text": [
      "\n",
      "predicting target prefix: ['Eine', 'Frau', 'mit', 'freundlichem', 'Gesicht', 'reinigt', 'den', 'Boden', 'ihres', 'Wohnzimmers', '.']"
     ]
    },
    {
     "name": "stderr",
     "output_type": "stream",
     "text": [
      "INFO:__main__:Source: A <UNK> faced woman cleans the floor of her living room . </S>\n",
      "INFO:__main__:Target Hypothesis: </S> .\n",
      "INFO:__main__:Target Reference: []\n",
      "INFO:__main__:IMT F1 score: 0.0\n",
      "INFO:__main__:Translating segment: 61\n"
     ]
    },
    {
     "name": "stdout",
     "output_type": "stream",
     "text": [
      "\n",
      "predicting target prefix: ['Zwei']"
     ]
    },
    {
     "name": "stderr",
     "output_type": "stream",
     "text": [
      "INFO:__main__:Source: Two hockey players ready to start the game with the ref by them about to drop the puck . </S>\n",
      "INFO:__main__:Target Hypothesis: Eishockeyspieler versuchen den Training ein Spiel beginnt , um den Puck zu tackeln .\n",
      "INFO:__main__:Target Reference: ['Eishockeyspieler', 'sind', 'bereit', 'f\\xc3\\xbcr', 'das', 'Spiel', ',', 'w\\xc3\\xa4hrend', 'der', 'Schiri', 'neben', 'ihnen', 'im', 'Begriff', 'ist', ',', 'den', 'Puck', 'zu', 'werfen', '.']\n",
      "INFO:__main__:IMT F1 score: 0.0571428571429\n"
     ]
    },
    {
     "name": "stdout",
     "output_type": "stream",
     "text": [
      "\n",
      "predicting target prefix: ['Zwei', 'Eishockeyspieler']"
     ]
    },
    {
     "name": "stderr",
     "output_type": "stream",
     "text": [
      "INFO:__main__:Source: Two hockey players ready to start the game with the ref by them about to drop the puck . </S>\n",
      "INFO:__main__:Target Hypothesis: versuchen den Training ein Spiel beginnt , um den Puck zu tackeln .\n",
      "INFO:__main__:Target Reference: ['sind', 'bereit', 'f\\xc3\\xbcr', 'das', 'Spiel', ',', 'w\\xc3\\xa4hrend', 'der', 'Schiri', 'neben', 'ihnen', 'im', 'Begriff', 'ist', ',', 'den', 'Puck', 'zu', 'werfen', '.']\n",
      "INFO:__main__:IMT F1 score: 0.0\n"
     ]
    },
    {
     "name": "stdout",
     "output_type": "stream",
     "text": [
      "\n",
      "predicting target prefix: ['Zwei', 'Eishockeyspieler', 'sind']"
     ]
    },
    {
     "name": "stderr",
     "output_type": "stream",
     "text": [
      "INFO:__main__:Source: Two hockey players ready to start the game with the ref by them about to drop the puck . </S>\n",
      "INFO:__main__:Target Hypothesis: zum Training , der ihm geschossen hat , um den Puck zu tackeln .\n",
      "INFO:__main__:Target Reference: ['bereit', 'f\\xc3\\xbcr', 'das', 'Spiel', ',', 'w\\xc3\\xa4hrend', 'der', 'Schiri', 'neben', 'ihnen', 'im', 'Begriff', 'ist', ',', 'den', 'Puck', 'zu', 'werfen', '.']\n",
      "INFO:__main__:IMT F1 score: 0.0\n"
     ]
    },
    {
     "name": "stdout",
     "output_type": "stream",
     "text": [
      "\n",
      "predicting target prefix: ['Zwei', 'Eishockeyspieler', 'sind', 'bereit']"
     ]
    },
    {
     "name": "stderr",
     "output_type": "stream",
     "text": [
      "INFO:__main__:Source: Two hockey players ready to start the game with the ref by them about to drop the puck . </S>\n",
      "INFO:__main__:Target Hypothesis: , den Training zu kämpfen um den Puck zu tackeln .\n",
      "INFO:__main__:Target Reference: ['f\\xc3\\xbcr', 'das', 'Spiel', ',', 'w\\xc3\\xa4hrend', 'der', 'Schiri', 'neben', 'ihnen', 'im', 'Begriff', 'ist', ',', 'den', 'Puck', 'zu', 'werfen', '.']\n",
      "INFO:__main__:IMT F1 score: 0.0\n"
     ]
    },
    {
     "name": "stdout",
     "output_type": "stream",
     "text": [
      "\n",
      "predicting target prefix: ['Zwei', 'Eishockeyspieler', 'sind', 'bereit', 'f\\xc3\\xbcr']"
     ]
    },
    {
     "name": "stderr",
     "output_type": "stream",
     "text": [
      "INFO:__main__:Source: Two hockey players ready to start the game with the ref by them about to drop the puck . </S>\n",
      "INFO:__main__:Target Hypothesis: den Puck , um den Puck zu tackeln .\n",
      "INFO:__main__:Target Reference: ['das', 'Spiel', ',', 'w\\xc3\\xa4hrend', 'der', 'Schiri', 'neben', 'ihnen', 'im', 'Begriff', 'ist', ',', 'den', 'Puck', 'zu', 'werfen', '.']\n",
      "INFO:__main__:IMT F1 score: 0.0\n"
     ]
    },
    {
     "name": "stdout",
     "output_type": "stream",
     "text": [
      "\n",
      "predicting target prefix: ['Zwei', 'Eishockeyspieler', 'sind', 'bereit', 'f\\xc3\\xbcr', 'das']"
     ]
    },
    {
     "name": "stderr",
     "output_type": "stream",
     "text": [
      "INFO:__main__:Source: Two hockey players ready to start the game with the ref by them about to drop the puck . </S>\n",
      "INFO:__main__:Target Hypothesis: Spiel beginnt , den Training den Puck zu tackeln .\n",
      "INFO:__main__:Target Reference: ['Spiel', ',', 'w\\xc3\\xa4hrend', 'der', 'Schiri', 'neben', 'ihnen', 'im', 'Begriff', 'ist', ',', 'den', 'Puck', 'zu', 'werfen', '.']\n",
      "INFO:__main__:IMT F1 score: 0.0769230769231\n"
     ]
    },
    {
     "name": "stdout",
     "output_type": "stream",
     "text": [
      "\n",
      "predicting target prefix: ['Zwei', 'Eishockeyspieler', 'sind', 'bereit', 'f\\xc3\\xbcr', 'das', 'Spiel']"
     ]
    },
    {
     "name": "stderr",
     "output_type": "stream",
     "text": [
      "INFO:__main__:Source: Two hockey players ready to start the game with the ref by them about to drop the puck . </S>\n",
      "INFO:__main__:Target Hypothesis: beginnt , den Training den Puck zu tackeln .\n",
      "INFO:__main__:Target Reference: [',', 'w\\xc3\\xa4hrend', 'der', 'Schiri', 'neben', 'ihnen', 'im', 'Begriff', 'ist', ',', 'den', 'Puck', 'zu', 'werfen', '.']\n",
      "INFO:__main__:IMT F1 score: 0.0\n"
     ]
    },
    {
     "name": "stdout",
     "output_type": "stream",
     "text": [
      "\n",
      "predicting target prefix: ['Zwei', 'Eishockeyspieler', 'sind', 'bereit', 'f\\xc3\\xbcr', 'das', 'Spiel', ',']"
     ]
    },
    {
     "name": "stderr",
     "output_type": "stream",
     "text": [
      "INFO:__main__:Source: Two hockey players ready to start the game with the ref by them about to drop the puck . </S>\n",
      "INFO:__main__:Target Hypothesis: um den Puck zu tackeln .\n",
      "INFO:__main__:Target Reference: ['w\\xc3\\xa4hrend', 'der', 'Schiri', 'neben', 'ihnen', 'im', 'Begriff', 'ist', ',', 'den', 'Puck', 'zu', 'werfen', '.']\n",
      "INFO:__main__:IMT F1 score: 0.0\n"
     ]
    },
    {
     "name": "stdout",
     "output_type": "stream",
     "text": [
      "\n",
      "predicting target prefix: ['Zwei', 'Eishockeyspieler', 'sind', 'bereit', 'f\\xc3\\xbcr', 'das', 'Spiel', ',', 'w\\xc3\\xa4hrend']"
     ]
    },
    {
     "name": "stderr",
     "output_type": "stream",
     "text": [
      "INFO:__main__:Source: Two hockey players ready to start the game with the ref by them about to drop the puck . </S>\n",
      "INFO:__main__:Target Hypothesis: ein Kinderspiel ! Tech „ safe “ zum Training zu tackeln .\n",
      "INFO:__main__:Target Reference: ['der', 'Schiri', 'neben', 'ihnen', 'im', 'Begriff', 'ist', ',', 'den', 'Puck', 'zu', 'werfen', '.']\n",
      "INFO:__main__:IMT F1 score: 0.0\n"
     ]
    },
    {
     "name": "stdout",
     "output_type": "stream",
     "text": [
      "\n",
      "predicting target prefix: ['Zwei', 'Eishockeyspieler', 'sind', 'bereit', 'f\\xc3\\xbcr', 'das', 'Spiel', ',', 'w\\xc3\\xa4hrend', 'der']"
     ]
    },
    {
     "name": "stderr",
     "output_type": "stream",
     "text": [
      "INFO:__main__:Source: Two hockey players ready to start the game with the ref by them about to drop the puck . </S>\n",
      "INFO:__main__:Target Hypothesis: Besitzer hoher Geschwindigkeit dem Puck beginnt .\n",
      "INFO:__main__:Target Reference: ['Schiri', 'neben', 'ihnen', 'im', 'Begriff', 'ist', ',', 'den', 'Puck', 'zu', 'werfen', '.']\n",
      "INFO:__main__:IMT F1 score: 0.0\n"
     ]
    },
    {
     "name": "stdout",
     "output_type": "stream",
     "text": [
      "\n",
      "predicting target prefix: ['Zwei', 'Eishockeyspieler', 'sind', 'bereit', 'f\\xc3\\xbcr', 'das', 'Spiel', ',', 'w\\xc3\\xa4hrend', 'der', 'Schiri']"
     ]
    },
    {
     "name": "stderr",
     "output_type": "stream",
     "text": [
      "INFO:__main__:Source: Two hockey players ready to start the game with the ref by them about to drop the puck . </S>\n",
      "INFO:__main__:Target Hypothesis: Stangen Goalie kann .\n",
      "INFO:__main__:Target Reference: ['neben', 'ihnen', 'im', 'Begriff', 'ist', ',', 'den', 'Puck', 'zu', 'werfen', '.']\n",
      "INFO:__main__:IMT F1 score: 0.0\n"
     ]
    },
    {
     "name": "stdout",
     "output_type": "stream",
     "text": [
      "\n",
      "predicting target prefix: ['Zwei', 'Eishockeyspieler', 'sind', 'bereit', 'f\\xc3\\xbcr', 'das', 'Spiel', ',', 'w\\xc3\\xa4hrend', 'der', 'Schiri', 'neben']"
     ]
    },
    {
     "name": "stderr",
     "output_type": "stream",
     "text": [
      "INFO:__main__:Source: Two hockey players ready to start the game with the ref by them about to drop the puck . </S>\n",
      "INFO:__main__:Target Hypothesis: einem Puck beginnt .\n",
      "INFO:__main__:Target Reference: ['ihnen', 'im', 'Begriff', 'ist', ',', 'den', 'Puck', 'zu', 'werfen', '.']\n",
      "INFO:__main__:IMT F1 score: 0.0\n"
     ]
    },
    {
     "name": "stdout",
     "output_type": "stream",
     "text": [
      "\n",
      "predicting target prefix: ['Zwei', 'Eishockeyspieler', 'sind', 'bereit', 'f\\xc3\\xbcr', 'das', 'Spiel', ',', 'w\\xc3\\xa4hrend', 'der', 'Schiri', 'neben', 'ihnen']"
     ]
    },
    {
     "name": "stderr",
     "output_type": "stream",
     "text": [
      "INFO:__main__:Source: Two hockey players ready to start the game with the ref by them about to drop the puck . </S>\n",
      "INFO:__main__:Target Hypothesis: beginnt den Puck beginnt .\n",
      "INFO:__main__:Target Reference: ['im', 'Begriff', 'ist', ',', 'den', 'Puck', 'zu', 'werfen', '.']\n",
      "INFO:__main__:IMT F1 score: 0.0\n"
     ]
    },
    {
     "name": "stdout",
     "output_type": "stream",
     "text": [
      "\n",
      "predicting target prefix: ['Zwei', 'Eishockeyspieler', 'sind', 'bereit', 'f\\xc3\\xbcr', 'das', 'Spiel', ',', 'w\\xc3\\xa4hrend', 'der', 'Schiri', 'neben', 'ihnen', 'im']"
     ]
    },
    {
     "name": "stderr",
     "output_type": "stream",
     "text": [
      "INFO:__main__:Source: Two hockey players ready to start the game with the ref by them about to drop the puck . </S>\n",
      "INFO:__main__:Target Hypothesis: Schwimmbeckens zu konkurrieren ist .\n",
      "INFO:__main__:Target Reference: ['Begriff', 'ist', ',', 'den', 'Puck', 'zu', 'werfen', '.']\n",
      "INFO:__main__:IMT F1 score: 0.0\n"
     ]
    },
    {
     "name": "stdout",
     "output_type": "stream",
     "text": [
      "\n",
      "predicting target prefix: ['Zwei', 'Eishockeyspieler', 'sind', 'bereit', 'f\\xc3\\xbcr', 'das', 'Spiel', ',', 'w\\xc3\\xa4hrend', 'der', 'Schiri', 'neben', 'ihnen', 'im', 'Begriff']"
     ]
    },
    {
     "name": "stderr",
     "output_type": "stream",
     "text": [
      "INFO:__main__:Source: Two hockey players ready to start the game with the ref by them about to drop the puck . </S>\n",
      "INFO:__main__:Target Hypothesis: beginnt den Besitzer vorhergesagt zu tackeln .\n",
      "INFO:__main__:Target Reference: ['ist', ',', 'den', 'Puck', 'zu', 'werfen', '.']\n",
      "INFO:__main__:IMT F1 score: 0.0\n"
     ]
    },
    {
     "name": "stdout",
     "output_type": "stream",
     "text": [
      "\n",
      "predicting target prefix: ['Zwei', 'Eishockeyspieler', 'sind', 'bereit', 'f\\xc3\\xbcr', 'das', 'Spiel', ',', 'w\\xc3\\xa4hrend', 'der', 'Schiri', 'neben', 'ihnen', 'im', 'Begriff', 'ist']"
     ]
    },
    {
     "name": "stderr",
     "output_type": "stream",
     "text": [
      "INFO:__main__:Source: Two hockey players ready to start the game with the ref by them about to drop the puck . </S>\n",
      "INFO:__main__:Target Hypothesis: beginnt den Training zu tackeln .\n",
      "INFO:__main__:Target Reference: [',', 'den', 'Puck', 'zu', 'werfen', '.']\n",
      "INFO:__main__:IMT F1 score: 0.0\n"
     ]
    },
    {
     "name": "stdout",
     "output_type": "stream",
     "text": [
      "\n",
      "predicting target prefix: ['Zwei', 'Eishockeyspieler', 'sind', 'bereit', 'f\\xc3\\xbcr', 'das', 'Spiel', ',', 'w\\xc3\\xa4hrend', 'der', 'Schiri', 'neben', 'ihnen', 'im', 'Begriff', 'ist', ',']"
     ]
    },
    {
     "name": "stderr",
     "output_type": "stream",
     "text": [
      "INFO:__main__:Source: Two hockey players ready to start the game with the ref by them about to drop the puck . </S>\n",
      "INFO:__main__:Target Hypothesis: vorhergesagt zu tackeln .\n",
      "INFO:__main__:Target Reference: ['den', 'Puck', 'zu', 'werfen', '.']\n",
      "INFO:__main__:IMT F1 score: 0.0\n"
     ]
    },
    {
     "name": "stdout",
     "output_type": "stream",
     "text": [
      "\n",
      "predicting target prefix: ['Zwei', 'Eishockeyspieler', 'sind', 'bereit', 'f\\xc3\\xbcr', 'das', 'Spiel', ',', 'w\\xc3\\xa4hrend', 'der', 'Schiri', 'neben', 'ihnen', 'im', 'Begriff', 'ist', ',', 'den']"
     ]
    },
    {
     "name": "stderr",
     "output_type": "stream",
     "text": [
      "INFO:__main__:Source: Two hockey players ready to start the game with the ref by them about to drop the puck . </S>\n",
      "INFO:__main__:Target Hypothesis: Training zu tackeln .\n",
      "INFO:__main__:Target Reference: ['Puck', 'zu', 'werfen', '.']\n",
      "INFO:__main__:IMT F1 score: 0.0\n"
     ]
    },
    {
     "name": "stdout",
     "output_type": "stream",
     "text": [
      "\n",
      "predicting target prefix: ['Zwei', 'Eishockeyspieler', 'sind', 'bereit', 'f\\xc3\\xbcr', 'das', 'Spiel', ',', 'w\\xc3\\xa4hrend', 'der', 'Schiri', 'neben', 'ihnen', 'im', 'Begriff', 'ist', ',', 'den', 'Puck']"
     ]
    },
    {
     "name": "stderr",
     "output_type": "stream",
     "text": [
      "INFO:__main__:Source: Two hockey players ready to start the game with the ref by them about to drop the puck . </S>\n",
      "INFO:__main__:Target Hypothesis: umgeht .\n",
      "INFO:__main__:Target Reference: ['zu', 'werfen', '.']\n",
      "INFO:__main__:IMT F1 score: 0.0\n"
     ]
    },
    {
     "name": "stdout",
     "output_type": "stream",
     "text": [
      "\n",
      "predicting target prefix: ['Zwei', 'Eishockeyspieler', 'sind', 'bereit', 'f\\xc3\\xbcr', 'das', 'Spiel', ',', 'w\\xc3\\xa4hrend', 'der', 'Schiri', 'neben', 'ihnen', 'im', 'Begriff', 'ist', ',', 'den', 'Puck', 'zu']"
     ]
    },
    {
     "name": "stderr",
     "output_type": "stream",
     "text": [
      "INFO:__main__:Source: Two hockey players ready to start the game with the ref by them about to drop the puck . </S>\n",
      "INFO:__main__:Target Hypothesis: tackeln .\n",
      "INFO:__main__:Target Reference: ['werfen', '.']\n",
      "INFO:__main__:IMT F1 score: 0.0\n"
     ]
    },
    {
     "name": "stdout",
     "output_type": "stream",
     "text": [
      "\n",
      "predicting target prefix: ['Zwei', 'Eishockeyspieler', 'sind', 'bereit', 'f\\xc3\\xbcr', 'das', 'Spiel', ',', 'w\\xc3\\xa4hrend', 'der', 'Schiri', 'neben', 'ihnen', 'im', 'Begriff', 'ist', ',', 'den', 'Puck', 'zu', 'werfen']"
     ]
    },
    {
     "name": "stderr",
     "output_type": "stream",
     "text": [
      "INFO:__main__:Source: Two hockey players ready to start the game with the ref by them about to drop the puck . </S>\n",
      "INFO:__main__:Target Hypothesis: .\n",
      "INFO:__main__:Target Reference: ['.']\n",
      "INFO:__main__:IMT F1 score: 1.0\n"
     ]
    },
    {
     "name": "stdout",
     "output_type": "stream",
     "text": [
      "\n",
      "predicting target prefix: ['Zwei', 'Eishockeyspieler', 'sind', 'bereit', 'f\\xc3\\xbcr', 'das', 'Spiel', ',', 'w\\xc3\\xa4hrend', 'der', 'Schiri', 'neben', 'ihnen', 'im', 'Begriff', 'ist', ',', 'den', 'Puck', 'zu', 'werfen', '.']"
     ]
    },
    {
     "name": "stderr",
     "output_type": "stream",
     "text": [
      "INFO:__main__:Source: Two hockey players ready to start the game with the ref by them about to drop the puck . </S>\n",
      "INFO:__main__:Target Hypothesis: </S> .\n",
      "INFO:__main__:Target Reference: []\n",
      "INFO:__main__:IMT F1 score: 0.0\n",
      "INFO:__main__:Translating segment: 62\n"
     ]
    },
    {
     "name": "stdout",
     "output_type": "stream",
     "text": [
      "\n",
      "predicting target prefix: ['L\\xc3\\xa4ufer']"
     ]
    },
    {
     "name": "stderr",
     "output_type": "stream",
     "text": [
      "INFO:__main__:Source: Runners pass a check point in the city . </S>\n",
      "INFO:__main__:Target Hypothesis: gehen in der Stadt einen überprüfen .\n",
      "INFO:__main__:Target Reference: ['passieren', 'einen', 'Streckenposten', 'in', 'der', 'Stadt', '.']\n",
      "INFO:__main__:IMT F1 score: 0.0\n"
     ]
    },
    {
     "name": "stdout",
     "output_type": "stream",
     "text": [
      "\n",
      "predicting target prefix: ['L\\xc3\\xa4ufer', 'passieren']"
     ]
    },
    {
     "name": "stderr",
     "output_type": "stream",
     "text": [
      "INFO:__main__:Source: Runners pass a check point in the city . </S>\n",
      "INFO:__main__:Target Hypothesis: die in der Stadt einen überprüfen\n",
      "INFO:__main__:Target Reference: ['einen', 'Streckenposten', 'in', 'der', 'Stadt', '.']\n",
      "INFO:__main__:IMT F1 score: 0.0\n"
     ]
    },
    {
     "name": "stdout",
     "output_type": "stream",
     "text": [
      "\n",
      "predicting target prefix: ['L\\xc3\\xa4ufer', 'passieren', 'einen']"
     ]
    },
    {
     "name": "stderr",
     "output_type": "stream",
     "text": [
      "INFO:__main__:Source: Runners pass a check point in the city . </S>\n",
      "INFO:__main__:Target Hypothesis: überprüfen durch die Stadt .\n",
      "INFO:__main__:Target Reference: ['Streckenposten', 'in', 'der', 'Stadt', '.']\n",
      "INFO:__main__:IMT F1 score: 0.0\n"
     ]
    },
    {
     "name": "stdout",
     "output_type": "stream",
     "text": [
      "\n",
      "predicting target prefix: ['L\\xc3\\xa4ufer', 'passieren', 'einen', 'Streckenposten']"
     ]
    },
    {
     "name": "stderr",
     "output_type": "stream",
     "text": [
      "INFO:__main__:Source: Runners pass a check point in the city . </S>\n",
      "INFO:__main__:Target Hypothesis: in der Stadt .\n",
      "INFO:__main__:Target Reference: ['in', 'der', 'Stadt', '.']\n",
      "INFO:__main__:IMT F1 score: 1.0\n"
     ]
    },
    {
     "name": "stdout",
     "output_type": "stream",
     "text": [
      "\n",
      "predicting target prefix: ['L\\xc3\\xa4ufer', 'passieren', 'einen', 'Streckenposten', 'in']"
     ]
    },
    {
     "name": "stderr",
     "output_type": "stream",
     "text": [
      "INFO:__main__:Source: Runners pass a check point in the city . </S>\n",
      "INFO:__main__:Target Hypothesis: der Stadt .\n",
      "INFO:__main__:Target Reference: ['der', 'Stadt', '.']\n",
      "INFO:__main__:IMT F1 score: 1.0\n"
     ]
    },
    {
     "name": "stdout",
     "output_type": "stream",
     "text": [
      "\n",
      "predicting target prefix: ['L\\xc3\\xa4ufer', 'passieren', 'einen', 'Streckenposten', 'in', 'der']"
     ]
    },
    {
     "name": "stderr",
     "output_type": "stream",
     "text": [
      "INFO:__main__:Source: Runners pass a check point in the city . </S>\n",
      "INFO:__main__:Target Hypothesis: Stadt .\n",
      "INFO:__main__:Target Reference: ['Stadt', '.']\n",
      "INFO:__main__:IMT F1 score: 1.0\n",
      "INFO:__main__:Source: Runners pass a check point in the city . </S>\n",
      "INFO:__main__:Target Hypothesis: in der Stadt .\n",
      "INFO:__main__:Target Reference: ['.']\n",
      "INFO:__main__:IMT F1 score: 0.0\n"
     ]
    },
    {
     "name": "stdout",
     "output_type": "stream",
     "text": [
      "\n",
      "predicting target prefix: ['L\\xc3\\xa4ufer', 'passieren', 'einen', 'Streckenposten', 'in', 'der', 'Stadt']\n",
      "predicting target prefix: ['L\\xc3\\xa4ufer', 'passieren', 'einen', 'Streckenposten', 'in', 'der', 'Stadt', '.']"
     ]
    },
    {
     "name": "stderr",
     "output_type": "stream",
     "text": [
      "INFO:__main__:Source: Runners pass a check point in the city . </S>\n",
      "INFO:__main__:Target Hypothesis: </S> .\n",
      "INFO:__main__:Target Reference: []\n",
      "INFO:__main__:IMT F1 score: 0.0\n",
      "INFO:__main__:Translating segment: 63\n"
     ]
    },
    {
     "name": "stdout",
     "output_type": "stream",
     "text": [
      "\n",
      "predicting target prefix: ['Gruppe']"
     ]
    },
    {
     "name": "stderr",
     "output_type": "stream",
     "text": [
      "INFO:__main__:Source: Group of people dancing at a club or party in a costume . </S>\n",
      "INFO:__main__:Target Hypothesis: von Menschen tanzt auf einem Club und eine Party in einem Kostüm .\n",
      "INFO:__main__:Target Reference: ['von', 'Menschen', 'tanzt', 'im', 'Kost\\xc3\\xbcm', 'in', 'einem', 'Club', 'oder', 'bei', 'einer', 'Party', '.']\n",
      "INFO:__main__:IMT F1 score: 0.230769230769\n"
     ]
    },
    {
     "name": "stdout",
     "output_type": "stream",
     "text": [
      "\n",
      "predicting target prefix: ['Gruppe', 'von']"
     ]
    },
    {
     "name": "stderr",
     "output_type": "stream",
     "text": [
      "INFO:__main__:Source: Group of people dancing at a club or party in a costume . </S>\n",
      "INFO:__main__:Target Hypothesis: Menschen tanzt auf einem Club und eine Party in einem Kostüm .\n",
      "INFO:__main__:Target Reference: ['Menschen', 'tanzt', 'im', 'Kost\\xc3\\xbcm', 'in', 'einem', 'Club', 'oder', 'bei', 'einer', 'Party', '.']\n",
      "INFO:__main__:IMT F1 score: 0.166666666667\n"
     ]
    },
    {
     "name": "stdout",
     "output_type": "stream",
     "text": [
      "\n",
      "predicting target prefix: ['Gruppe', 'von', 'Menschen']"
     ]
    },
    {
     "name": "stderr",
     "output_type": "stream",
     "text": [
      "INFO:__main__:Source: Group of people dancing at a club or party in a costume . </S>\n",
      "INFO:__main__:Target Hypothesis: tanzt auf einem Club und eine Party in einem Kostüm .\n",
      "INFO:__main__:Target Reference: ['tanzt', 'im', 'Kost\\xc3\\xbcm', 'in', 'einem', 'Club', 'oder', 'bei', 'einer', 'Party', '.']\n",
      "INFO:__main__:IMT F1 score: 0.0909090909091\n"
     ]
    },
    {
     "name": "stdout",
     "output_type": "stream",
     "text": [
      "\n",
      "predicting target prefix: ['Gruppe', 'von', 'Menschen', 'tanzt']"
     ]
    },
    {
     "name": "stderr",
     "output_type": "stream",
     "text": [
      "INFO:__main__:Source: Group of people dancing at a club or party in a costume . </S>\n",
      "INFO:__main__:Target Hypothesis: auf einem Club und eine Party in einem Kostüm .\n",
      "INFO:__main__:Target Reference: ['im', 'Kost\\xc3\\xbcm', 'in', 'einem', 'Club', 'oder', 'bei', 'einer', 'Party', '.']\n",
      "INFO:__main__:IMT F1 score: 0.0\n"
     ]
    },
    {
     "name": "stdout",
     "output_type": "stream",
     "text": [
      "\n",
      "predicting target prefix: ['Gruppe', 'von', 'Menschen', 'tanzt', 'im']"
     ]
    },
    {
     "name": "stderr",
     "output_type": "stream",
     "text": [
      "INFO:__main__:Source: Group of people dancing at a club or party in a costume . </S>\n",
      "INFO:__main__:Target Hypothesis: Club auf einem Club .\n",
      "INFO:__main__:Target Reference: ['Kost\\xc3\\xbcm', 'in', 'einem', 'Club', 'oder', 'bei', 'einer', 'Party', '.']\n",
      "INFO:__main__:IMT F1 score: 0.0\n"
     ]
    },
    {
     "name": "stdout",
     "output_type": "stream",
     "text": [
      "\n",
      "predicting target prefix: ['Gruppe', 'von', 'Menschen', 'tanzt', 'im', 'Kost\\xc3\\xbcm']"
     ]
    },
    {
     "name": "stderr",
     "output_type": "stream",
     "text": [
      "INFO:__main__:Source: Group of people dancing at a club or party in a costume . </S>\n",
      "INFO:__main__:Target Hypothesis: und Party in einem Kostüm .\n",
      "INFO:__main__:Target Reference: ['in', 'einem', 'Club', 'oder', 'bei', 'einer', 'Party', '.']\n",
      "INFO:__main__:IMT F1 score: 0.0\n"
     ]
    },
    {
     "name": "stdout",
     "output_type": "stream",
     "text": [
      "\n",
      "predicting target prefix: ['Gruppe', 'von', 'Menschen', 'tanzt', 'im', 'Kost\\xc3\\xbcm', 'in']"
     ]
    },
    {
     "name": "stderr",
     "output_type": "stream",
     "text": [
      "INFO:__main__:Source: Group of people dancing at a club or party in a costume . </S>\n",
      "INFO:__main__:Target Hypothesis: einem Kostüm .\n",
      "INFO:__main__:Target Reference: ['einem', 'Club', 'oder', 'bei', 'einer', 'Party', '.']\n",
      "INFO:__main__:IMT F1 score: 0.2\n"
     ]
    },
    {
     "name": "stdout",
     "output_type": "stream",
     "text": [
      "\n",
      "predicting target prefix: ['Gruppe', 'von', 'Menschen', 'tanzt', 'im', 'Kost\\xc3\\xbcm', 'in', 'einem']"
     ]
    },
    {
     "name": "stderr",
     "output_type": "stream",
     "text": [
      "INFO:__main__:Source: Group of people dancing at a club or party in a costume . </S>\n",
      "INFO:__main__:Target Hypothesis: Kostüm .\n",
      "INFO:__main__:Target Reference: ['Club', 'oder', 'bei', 'einer', 'Party', '.']\n",
      "INFO:__main__:IMT F1 score: 0.0\n"
     ]
    },
    {
     "name": "stdout",
     "output_type": "stream",
     "text": [
      "\n",
      "predicting target prefix: ['Gruppe', 'von', 'Menschen', 'tanzt', 'im', 'Kost\\xc3\\xbcm', 'in', 'einem', 'Club']"
     ]
    },
    {
     "name": "stderr",
     "output_type": "stream",
     "text": [
      "INFO:__main__:Source: Group of people dancing at a club or party in a costume . </S>\n",
      "INFO:__main__:Target Hypothesis: auf einem Club .\n",
      "INFO:__main__:Target Reference: ['oder', 'bei', 'einer', 'Party', '.']\n",
      "INFO:__main__:IMT F1 score: 0.0\n"
     ]
    },
    {
     "name": "stdout",
     "output_type": "stream",
     "text": [
      "\n",
      "predicting target prefix: ['Gruppe', 'von', 'Menschen', 'tanzt', 'im', 'Kost\\xc3\\xbcm', 'in', 'einem', 'Club', 'oder']"
     ]
    },
    {
     "name": "stderr",
     "output_type": "stream",
     "text": [
      "INFO:__main__:Source: Group of people dancing at a club or party in a costume . </S>\n",
      "INFO:__main__:Target Hypothesis: eine Party .\n",
      "INFO:__main__:Target Reference: ['bei', 'einer', 'Party', '.']\n",
      "INFO:__main__:IMT F1 score: 0.0\n"
     ]
    },
    {
     "name": "stdout",
     "output_type": "stream",
     "text": [
      "\n",
      "predicting target prefix: ['Gruppe', 'von', 'Menschen', 'tanzt', 'im', 'Kost\\xc3\\xbcm', 'in', 'einem', 'Club', 'oder', 'bei']"
     ]
    },
    {
     "name": "stderr",
     "output_type": "stream",
     "text": [
      "INFO:__main__:Source: Group of people dancing at a club or party in a costume . </S>\n",
      "INFO:__main__:Target Hypothesis: der Braut in einem Kostüm .\n",
      "INFO:__main__:Target Reference: ['einer', 'Party', '.']\n",
      "INFO:__main__:IMT F1 score: 0.0\n"
     ]
    },
    {
     "name": "stdout",
     "output_type": "stream",
     "text": [
      "\n",
      "predicting target prefix: ['Gruppe', 'von', 'Menschen', 'tanzt', 'im', 'Kost\\xc3\\xbcm', 'in', 'einem', 'Club', 'oder', 'bei', 'einer']"
     ]
    },
    {
     "name": "stderr",
     "output_type": "stream",
     "text": [
      "INFO:__main__:Source: Group of people dancing at a club or party in a costume . </S>\n",
      "INFO:__main__:Target Hypothesis: Feier .\n",
      "INFO:__main__:Target Reference: ['Party', '.']\n",
      "INFO:__main__:IMT F1 score: 0.0\n"
     ]
    },
    {
     "name": "stdout",
     "output_type": "stream",
     "text": [
      "\n",
      "predicting target prefix: ['Gruppe', 'von', 'Menschen', 'tanzt', 'im', 'Kost\\xc3\\xbcm', 'in', 'einem', 'Club', 'oder', 'bei', 'einer', 'Party']"
     ]
    },
    {
     "name": "stderr",
     "output_type": "stream",
     "text": [
      "INFO:__main__:Source: Group of people dancing at a club or party in a costume . </S>\n",
      "INFO:__main__:Target Hypothesis: .\n",
      "INFO:__main__:Target Reference: ['.']\n",
      "INFO:__main__:IMT F1 score: 1.0\n"
     ]
    },
    {
     "name": "stdout",
     "output_type": "stream",
     "text": [
      "\n",
      "predicting target prefix: ['Gruppe', 'von', 'Menschen', 'tanzt', 'im', 'Kost\\xc3\\xbcm', 'in', 'einem', 'Club', 'oder', 'bei', 'einer', 'Party', '.']"
     ]
    },
    {
     "name": "stderr",
     "output_type": "stream",
     "text": [
      "INFO:__main__:Source: Group of people dancing at a club or party in a costume . </S>\n",
      "INFO:__main__:Target Hypothesis: </S> .\n",
      "INFO:__main__:Target Reference: []\n",
      "INFO:__main__:IMT F1 score: 0.0\n",
      "INFO:__main__:Translating segment: 64\n"
     ]
    },
    {
     "name": "stdout",
     "output_type": "stream",
     "text": [
      "\n",
      "predicting target prefix: ['Zwei']"
     ]
    },
    {
     "name": "stderr",
     "output_type": "stream",
     "text": [
      "INFO:__main__:Source: Two children are preparing to go on an elephant ride . </S>\n",
      "INFO:__main__:Target Hypothesis: Kinder bereiten sich auf einem Elefanten zu fahren .\n",
      "INFO:__main__:Target Reference: ['Kinder', 'machen', 'sich', 'f\\xc3\\xbcr', 'einen', 'Ritt', 'auf', 'einem', 'Elefanten', 'bereit', '.']\n",
      "INFO:__main__:IMT F1 score: 0.1\n"
     ]
    },
    {
     "name": "stdout",
     "output_type": "stream",
     "text": [
      "\n",
      "predicting target prefix: ['Zwei', 'Kinder']"
     ]
    },
    {
     "name": "stderr",
     "output_type": "stream",
     "text": [
      "INFO:__main__:Source: Two children are preparing to go on an elephant ride . </S>\n",
      "INFO:__main__:Target Hypothesis: bereiten sich auf einem Elefanten zu fahren .\n",
      "INFO:__main__:Target Reference: ['machen', 'sich', 'f\\xc3\\xbcr', 'einen', 'Ritt', 'auf', 'einem', 'Elefanten', 'bereit', '.']\n",
      "INFO:__main__:IMT F1 score: 0.0\n"
     ]
    },
    {
     "name": "stdout",
     "output_type": "stream",
     "text": [
      "\n",
      "predicting target prefix: ['Zwei', 'Kinder', 'machen']"
     ]
    },
    {
     "name": "stderr",
     "output_type": "stream",
     "text": [
      "INFO:__main__:Source: Two children are preparing to go on an elephant ride . </S>\n",
      "INFO:__main__:Target Hypothesis: auf einem Elefanten zu fahren .\n",
      "INFO:__main__:Target Reference: ['sich', 'f\\xc3\\xbcr', 'einen', 'Ritt', 'auf', 'einem', 'Elefanten', 'bereit', '.']\n",
      "INFO:__main__:IMT F1 score: 0.0\n"
     ]
    },
    {
     "name": "stdout",
     "output_type": "stream",
     "text": [
      "\n",
      "predicting target prefix: ['Zwei', 'Kinder', 'machen', 'sich']"
     ]
    },
    {
     "name": "stderr",
     "output_type": "stream",
     "text": [
      "INFO:__main__:Source: Two children are preparing to go on an elephant ride . </S>\n",
      "INFO:__main__:Target Hypothesis: auf einem Elefanten zu fahren .\n",
      "INFO:__main__:Target Reference: ['f\\xc3\\xbcr', 'einen', 'Ritt', 'auf', 'einem', 'Elefanten', 'bereit', '.']\n",
      "INFO:__main__:IMT F1 score: 0.0\n"
     ]
    },
    {
     "name": "stdout",
     "output_type": "stream",
     "text": [
      "\n",
      "predicting target prefix: ['Zwei', 'Kinder', 'machen', 'sich', 'f\\xc3\\xbcr']"
     ]
    },
    {
     "name": "stderr",
     "output_type": "stream",
     "text": [
      "INFO:__main__:Source: Two children are preparing to go on an elephant ride . </S>\n",
      "INFO:__main__:Target Hypothesis: eine Schneelandschaft .\n",
      "INFO:__main__:Target Reference: ['einen', 'Ritt', 'auf', 'einem', 'Elefanten', 'bereit', '.']\n",
      "INFO:__main__:IMT F1 score: 0.0\n"
     ]
    },
    {
     "name": "stdout",
     "output_type": "stream",
     "text": [
      "\n",
      "predicting target prefix: ['Zwei', 'Kinder', 'machen', 'sich', 'f\\xc3\\xbcr', 'einen']"
     ]
    },
    {
     "name": "stderr",
     "output_type": "stream",
     "text": [
      "INFO:__main__:Source: Two children are preparing to go on an elephant ride . </S>\n",
      "INFO:__main__:Target Hypothesis: Karneval auf einem Elefanten zu fahren .\n",
      "INFO:__main__:Target Reference: ['Ritt', 'auf', 'einem', 'Elefanten', 'bereit', '.']\n",
      "INFO:__main__:IMT F1 score: 0.0\n"
     ]
    },
    {
     "name": "stdout",
     "output_type": "stream",
     "text": [
      "\n",
      "predicting target prefix: ['Zwei', 'Kinder', 'machen', 'sich', 'f\\xc3\\xbcr', 'einen', 'Ritt']"
     ]
    },
    {
     "name": "stderr",
     "output_type": "stream",
     "text": [
      "INFO:__main__:Source: Two children are preparing to go on an elephant ride . </S>\n",
      "INFO:__main__:Target Hypothesis: auf einem Elefanten zu fahren .\n",
      "INFO:__main__:Target Reference: ['auf', 'einem', 'Elefanten', 'bereit', '.']\n",
      "INFO:__main__:IMT F1 score: 0.545454545455\n"
     ]
    },
    {
     "name": "stdout",
     "output_type": "stream",
     "text": [
      "\n",
      "predicting target prefix: ['Zwei', 'Kinder', 'machen', 'sich', 'f\\xc3\\xbcr', 'einen', 'Ritt', 'auf']"
     ]
    },
    {
     "name": "stderr",
     "output_type": "stream",
     "text": [
      "INFO:__main__:Source: Two children are preparing to go on an elephant ride . </S>\n",
      "INFO:__main__:Target Hypothesis: einem Elefanten zu fahren .\n",
      "INFO:__main__:Target Reference: ['einem', 'Elefanten', 'bereit', '.']\n",
      "INFO:__main__:IMT F1 score: 0.444444444444\n"
     ]
    },
    {
     "name": "stdout",
     "output_type": "stream",
     "text": [
      "\n",
      "predicting target prefix: ['Zwei', 'Kinder', 'machen', 'sich', 'f\\xc3\\xbcr', 'einen', 'Ritt', 'auf', 'einem']"
     ]
    },
    {
     "name": "stderr",
     "output_type": "stream",
     "text": [
      "INFO:__main__:Source: Two children are preparing to go on an elephant ride . </S>\n",
      "INFO:__main__:Target Hypothesis: Elefanten zu fahren .\n",
      "INFO:__main__:Target Reference: ['Elefanten', 'bereit', '.']\n",
      "INFO:__main__:IMT F1 score: 0.285714285714\n"
     ]
    },
    {
     "name": "stdout",
     "output_type": "stream",
     "text": [
      "\n",
      "predicting target prefix: ['Zwei', 'Kinder', 'machen', 'sich', 'f\\xc3\\xbcr', 'einen', 'Ritt', 'auf', 'einem', 'Elefanten']"
     ]
    },
    {
     "name": "stderr",
     "output_type": "stream",
     "text": [
      "INFO:__main__:Source: Two children are preparing to go on an elephant ride . </S>\n",
      "INFO:__main__:Target Hypothesis: zu fahren .\n",
      "INFO:__main__:Target Reference: ['bereit', '.']\n",
      "INFO:__main__:IMT F1 score: 0.0\n"
     ]
    },
    {
     "name": "stdout",
     "output_type": "stream",
     "text": [
      "\n",
      "predicting target prefix: ['Zwei', 'Kinder', 'machen', 'sich', 'f\\xc3\\xbcr', 'einen', 'Ritt', 'auf', 'einem', 'Elefanten', 'bereit']"
     ]
    },
    {
     "name": "stderr",
     "output_type": "stream",
     "text": [
      "INFO:__main__:Source: Two children are preparing to go on an elephant ride . </S>\n",
      "INFO:__main__:Target Hypothesis: .\n",
      "INFO:__main__:Target Reference: ['.']\n",
      "INFO:__main__:IMT F1 score: 1.0\n"
     ]
    },
    {
     "name": "stdout",
     "output_type": "stream",
     "text": [
      "\n",
      "predicting target prefix: ['Zwei', 'Kinder', 'machen', 'sich', 'f\\xc3\\xbcr', 'einen', 'Ritt', 'auf', 'einem', 'Elefanten', 'bereit', '.']"
     ]
    },
    {
     "name": "stderr",
     "output_type": "stream",
     "text": [
      "INFO:__main__:Source: Two children are preparing to go on an elephant ride . </S>\n",
      "INFO:__main__:Target Hypothesis: </S> .\n",
      "INFO:__main__:Target Reference: []\n",
      "INFO:__main__:IMT F1 score: 0.0\n",
      "INFO:__main__:Translating segment: 65\n"
     ]
    },
    {
     "name": "stdout",
     "output_type": "stream",
     "text": [
      "\n",
      "predicting target prefix: ['Ein']"
     ]
    },
    {
     "name": "stderr",
     "output_type": "stream",
     "text": [
      "INFO:__main__:Source: A young adult wearing jeans and a camouflage t-shirt playing a black electric guitar . </S>\n",
      "INFO:__main__:Target Hypothesis: junger Erwachsener in Jeans und Jeans spielt eine schwarze Gitarre .\n",
      "INFO:__main__:Target Reference: ['junger', 'Erwachsener', 'mit', 'Jeans', 'und', 'Tarn-T-Shirt', 'spielt', 'auf', 'einer', 'schwarzen', 'E-Gitarre', '.']\n",
      "INFO:__main__:IMT F1 score: 0.173913043478\n"
     ]
    },
    {
     "name": "stdout",
     "output_type": "stream",
     "text": [
      "\n",
      "predicting target prefix: ['Ein', 'junger']"
     ]
    },
    {
     "name": "stderr",
     "output_type": "stream",
     "text": [
      "INFO:__main__:Source: A young adult wearing jeans and a camouflage t-shirt playing a black electric guitar . </S>\n",
      "INFO:__main__:Target Hypothesis: Erwachsener in Jeans und Jeans spielt eine schwarze Gitarre .\n",
      "INFO:__main__:Target Reference: ['Erwachsener', 'mit', 'Jeans', 'und', 'Tarn-T-Shirt', 'spielt', 'auf', 'einer', 'schwarzen', 'E-Gitarre', '.']\n",
      "INFO:__main__:IMT F1 score: 0.0952380952381\n"
     ]
    },
    {
     "name": "stdout",
     "output_type": "stream",
     "text": [
      "\n",
      "predicting target prefix: ['Ein', 'junger', 'Erwachsener']"
     ]
    },
    {
     "name": "stderr",
     "output_type": "stream",
     "text": [
      "INFO:__main__:Source: A young adult wearing jeans and a camouflage t-shirt playing a black electric guitar . </S>\n",
      "INFO:__main__:Target Hypothesis: in Jeans und Jeans spielt eine schwarze Gitarre .\n",
      "INFO:__main__:Target Reference: ['mit', 'Jeans', 'und', 'Tarn-T-Shirt', 'spielt', 'auf', 'einer', 'schwarzen', 'E-Gitarre', '.']\n",
      "INFO:__main__:IMT F1 score: 0.0\n"
     ]
    },
    {
     "name": "stdout",
     "output_type": "stream",
     "text": [
      "\n",
      "predicting target prefix: ['Ein', 'junger', 'Erwachsener', 'mit']"
     ]
    },
    {
     "name": "stderr",
     "output_type": "stream",
     "text": [
      "INFO:__main__:Source: A young adult wearing jeans and a camouflage t-shirt playing a black electric guitar . </S>\n",
      "INFO:__main__:Target Hypothesis: Jeans und Jeans spielt eine schwarze Gitarre .\n",
      "INFO:__main__:Target Reference: ['Jeans', 'und', 'Tarn-T-Shirt', 'spielt', 'auf', 'einer', 'schwarzen', 'E-Gitarre', '.']\n",
      "INFO:__main__:IMT F1 score: 0.235294117647\n"
     ]
    },
    {
     "name": "stdout",
     "output_type": "stream",
     "text": [
      "\n",
      "predicting target prefix: ['Ein', 'junger', 'Erwachsener', 'mit', 'Jeans']"
     ]
    },
    {
     "name": "stderr",
     "output_type": "stream",
     "text": [
      "INFO:__main__:Source: A young adult wearing jeans and a camouflage t-shirt playing a black electric guitar . </S>\n",
      "INFO:__main__:Target Hypothesis: und Jeans spielt eine schwarze Gitarre .\n",
      "INFO:__main__:Target Reference: ['und', 'Tarn-T-Shirt', 'spielt', 'auf', 'einer', 'schwarzen', 'E-Gitarre', '.']\n",
      "INFO:__main__:IMT F1 score: 0.133333333333\n"
     ]
    },
    {
     "name": "stdout",
     "output_type": "stream",
     "text": [
      "\n",
      "predicting target prefix: ['Ein', 'junger', 'Erwachsener', 'mit', 'Jeans', 'und']"
     ]
    },
    {
     "name": "stderr",
     "output_type": "stream",
     "text": [
      "INFO:__main__:Source: A young adult wearing jeans and a camouflage t-shirt playing a black electric guitar . </S>\n",
      "INFO:__main__:Target Hypothesis: Jeans spielt eine schwarze Gitarre .\n",
      "INFO:__main__:Target Reference: ['Tarn-T-Shirt', 'spielt', 'auf', 'einer', 'schwarzen', 'E-Gitarre', '.']\n",
      "INFO:__main__:IMT F1 score: 0.0\n"
     ]
    },
    {
     "name": "stdout",
     "output_type": "stream",
     "text": [
      "\n",
      "predicting target prefix: ['Ein', 'junger', 'Erwachsener', 'mit', 'Jeans', 'und', 'Tarn-T-Shirt']"
     ]
    },
    {
     "name": "stderr",
     "output_type": "stream",
     "text": [
      "INFO:__main__:Source: A young adult wearing jeans and a camouflage t-shirt playing a black electric guitar . </S>\n",
      "INFO:__main__:Target Hypothesis: spielt eine schwarze Gitarre .\n",
      "INFO:__main__:Target Reference: ['spielt', 'auf', 'einer', 'schwarzen', 'E-Gitarre', '.']\n",
      "INFO:__main__:IMT F1 score: 0.181818181818\n"
     ]
    },
    {
     "name": "stdout",
     "output_type": "stream",
     "text": [
      "\n",
      "predicting target prefix: ['Ein', 'junger', 'Erwachsener', 'mit', 'Jeans', 'und', 'Tarn-T-Shirt', 'spielt']"
     ]
    },
    {
     "name": "stderr",
     "output_type": "stream",
     "text": [
      "INFO:__main__:Source: A young adult wearing jeans and a camouflage t-shirt playing a black electric guitar . </S>\n",
      "INFO:__main__:Target Hypothesis: eine schwarze Gitarre .\n",
      "INFO:__main__:Target Reference: ['auf', 'einer', 'schwarzen', 'E-Gitarre', '.']\n",
      "INFO:__main__:IMT F1 score: 0.0\n"
     ]
    },
    {
     "name": "stdout",
     "output_type": "stream",
     "text": [
      "\n",
      "predicting target prefix: ['Ein', 'junger', 'Erwachsener', 'mit', 'Jeans', 'und', 'Tarn-T-Shirt', 'spielt', 'auf']"
     ]
    },
    {
     "name": "stderr",
     "output_type": "stream",
     "text": [
      "INFO:__main__:Source: A young adult wearing jeans and a camouflage t-shirt playing a black electric guitar . </S>\n",
      "INFO:__main__:Target Hypothesis: einer Herzen Gitarre .\n",
      "INFO:__main__:Target Reference: ['einer', 'schwarzen', 'E-Gitarre', '.']\n",
      "INFO:__main__:IMT F1 score: 0.25\n"
     ]
    },
    {
     "name": "stdout",
     "output_type": "stream",
     "text": [
      "\n",
      "predicting target prefix: ['Ein', 'junger', 'Erwachsener', 'mit', 'Jeans', 'und', 'Tarn-T-Shirt', 'spielt', 'auf', 'einer']"
     ]
    },
    {
     "name": "stderr",
     "output_type": "stream",
     "text": [
      "INFO:__main__:Source: A young adult wearing jeans and a camouflage t-shirt playing a black electric guitar . </S>\n",
      "INFO:__main__:Target Hypothesis: Herzen Gitarre .\n",
      "INFO:__main__:Target Reference: ['schwarzen', 'E-Gitarre', '.']\n",
      "INFO:__main__:IMT F1 score: 0.0\n"
     ]
    },
    {
     "name": "stdout",
     "output_type": "stream",
     "text": [
      "\n",
      "predicting target prefix: ['Ein', 'junger', 'Erwachsener', 'mit', 'Jeans', 'und', 'Tarn-T-Shirt', 'spielt', 'auf', 'einer', 'schwarzen']"
     ]
    },
    {
     "name": "stderr",
     "output_type": "stream",
     "text": [
      "INFO:__main__:Source: A young adult wearing jeans and a camouflage t-shirt playing a black electric guitar . </S>\n",
      "INFO:__main__:Target Hypothesis: E-Gitarre .\n",
      "INFO:__main__:Target Reference: ['E-Gitarre', '.']\n",
      "INFO:__main__:IMT F1 score: 1.0\n"
     ]
    },
    {
     "name": "stdout",
     "output_type": "stream",
     "text": [
      "\n",
      "predicting target prefix: ['Ein', 'junger', 'Erwachsener', 'mit', 'Jeans', 'und', 'Tarn-T-Shirt', 'spielt', 'auf', 'einer', 'schwarzen', 'E-Gitarre']"
     ]
    },
    {
     "name": "stderr",
     "output_type": "stream",
     "text": [
      "INFO:__main__:Source: A young adult wearing jeans and a camouflage t-shirt playing a black electric guitar . </S>\n",
      "INFO:__main__:Target Hypothesis: .\n",
      "INFO:__main__:Target Reference: ['.']\n",
      "INFO:__main__:IMT F1 score: 1.0\n"
     ]
    },
    {
     "name": "stdout",
     "output_type": "stream",
     "text": [
      "\n",
      "predicting target prefix: ['Ein', 'junger', 'Erwachsener', 'mit', 'Jeans', 'und', 'Tarn-T-Shirt', 'spielt', 'auf', 'einer', 'schwarzen', 'E-Gitarre', '.']"
     ]
    },
    {
     "name": "stderr",
     "output_type": "stream",
     "text": [
      "INFO:__main__:Source: A young adult wearing jeans and a camouflage t-shirt playing a black electric guitar . </S>\n",
      "INFO:__main__:Target Hypothesis: </S> .\n",
      "INFO:__main__:Target Reference: []\n",
      "INFO:__main__:IMT F1 score: 0.0\n",
      "INFO:__main__:Translating segment: 66\n"
     ]
    },
    {
     "name": "stdout",
     "output_type": "stream",
     "text": [
      "\n",
      "predicting target prefix: ['Eine']"
     ]
    },
    {
     "name": "stderr",
     "output_type": "stream",
     "text": [
      "INFO:__main__:Source: A person dressed in a yellow animated costume in a public area . </S>\n",
      "INFO:__main__:Target Hypothesis: Person in einem gelben Theater in einem öffentlichen Ort .\n",
      "INFO:__main__:Target Reference: ['Person', 'in', 'einem', 'gelben', 'Zeichentrickkost\\xc3\\xbcm', 'in', 'einem', '\\xc3\\xb6ffentlichen', 'Bereich', '.']\n",
      "INFO:__main__:IMT F1 score: 0.4\n"
     ]
    },
    {
     "name": "stdout",
     "output_type": "stream",
     "text": [
      "\n",
      "predicting target prefix: ['Eine', 'Person']"
     ]
    },
    {
     "name": "stderr",
     "output_type": "stream",
     "text": [
      "INFO:__main__:Source: A person dressed in a yellow animated costume in a public area . </S>\n",
      "INFO:__main__:Target Hypothesis: in einem gelben Theater in einem öffentlichen Ort .\n",
      "INFO:__main__:Target Reference: ['in', 'einem', 'gelben', 'Zeichentrickkost\\xc3\\xbcm', 'in', 'einem', '\\xc3\\xb6ffentlichen', 'Bereich', '.']\n",
      "INFO:__main__:IMT F1 score: 0.333333333333\n"
     ]
    },
    {
     "name": "stdout",
     "output_type": "stream",
     "text": [
      "\n",
      "predicting target prefix: ['Eine', 'Person', 'in']"
     ]
    },
    {
     "name": "stderr",
     "output_type": "stream",
     "text": [
      "INFO:__main__:Source: A person dressed in a yellow animated costume in a public area . </S>\n",
      "INFO:__main__:Target Hypothesis: einem gelben Theater in einem öffentlichen Ort .\n",
      "INFO:__main__:Target Reference: ['einem', 'gelben', 'Zeichentrickkost\\xc3\\xbcm', 'in', 'einem', '\\xc3\\xb6ffentlichen', 'Bereich', '.']\n",
      "INFO:__main__:IMT F1 score: 0.25\n"
     ]
    },
    {
     "name": "stdout",
     "output_type": "stream",
     "text": [
      "\n",
      "predicting target prefix: ['Eine', 'Person', 'in', 'einem']"
     ]
    },
    {
     "name": "stderr",
     "output_type": "stream",
     "text": [
      "INFO:__main__:Source: A person dressed in a yellow animated costume in a public area . </S>\n",
      "INFO:__main__:Target Hypothesis: gelben Theater in einem öffentlichen Ort .\n",
      "INFO:__main__:Target Reference: ['gelben', 'Zeichentrickkost\\xc3\\xbcm', 'in', 'einem', '\\xc3\\xb6ffentlichen', 'Bereich', '.']\n",
      "INFO:__main__:IMT F1 score: 0.142857142857\n"
     ]
    },
    {
     "name": "stdout",
     "output_type": "stream",
     "text": [
      "\n",
      "predicting target prefix: ['Eine', 'Person', 'in', 'einem', 'gelben']"
     ]
    },
    {
     "name": "stderr",
     "output_type": "stream",
     "text": [
      "INFO:__main__:Source: A person dressed in a yellow animated costume in a public area . </S>\n",
      "INFO:__main__:Target Hypothesis: Theater in einem öffentlichen Ort .\n",
      "INFO:__main__:Target Reference: ['Zeichentrickkost\\xc3\\xbcm', 'in', 'einem', '\\xc3\\xb6ffentlichen', 'Bereich', '.']\n",
      "INFO:__main__:IMT F1 score: 0.0\n"
     ]
    },
    {
     "name": "stdout",
     "output_type": "stream",
     "text": [
      "\n",
      "predicting target prefix: ['Eine', 'Person', 'in', 'einem', 'gelben', 'Zeichentrickkost\\xc3\\xbcm']"
     ]
    },
    {
     "name": "stderr",
     "output_type": "stream",
     "text": [
      "INFO:__main__:Source: A person dressed in a yellow animated costume in a public area . </S>\n",
      "INFO:__main__:Target Hypothesis: in einem öffentlichen Ort .\n",
      "INFO:__main__:Target Reference: ['in', 'einem', '\\xc3\\xb6ffentlichen', 'Bereich', '.']\n",
      "INFO:__main__:IMT F1 score: 0.6\n"
     ]
    },
    {
     "name": "stdout",
     "output_type": "stream",
     "text": [
      "\n",
      "predicting target prefix: ['Eine', 'Person', 'in', 'einem', 'gelben', 'Zeichentrickkost\\xc3\\xbcm', 'in']"
     ]
    },
    {
     "name": "stderr",
     "output_type": "stream",
     "text": [
      "INFO:__main__:Source: A person dressed in a yellow animated costume in a public area . </S>\n",
      "INFO:__main__:Target Hypothesis: einem öffentlichen Ort .\n",
      "INFO:__main__:Target Reference: ['einem', '\\xc3\\xb6ffentlichen', 'Bereich', '.']\n",
      "INFO:__main__:IMT F1 score: 0.5\n"
     ]
    },
    {
     "name": "stdout",
     "output_type": "stream",
     "text": [
      "\n",
      "predicting target prefix: ['Eine', 'Person', 'in', 'einem', 'gelben', 'Zeichentrickkost\\xc3\\xbcm', 'in', 'einem']"
     ]
    },
    {
     "name": "stderr",
     "output_type": "stream",
     "text": [
      "INFO:__main__:Source: A person dressed in a yellow animated costume in a public area . </S>\n",
      "INFO:__main__:Target Hypothesis: öffentlichen Ort .\n",
      "INFO:__main__:Target Reference: ['\\xc3\\xb6ffentlichen', 'Bereich', '.']\n",
      "INFO:__main__:IMT F1 score: 0.333333333333\n"
     ]
    },
    {
     "name": "stdout",
     "output_type": "stream",
     "text": [
      "\n",
      "predicting target prefix: ['Eine', 'Person', 'in', 'einem', 'gelben', 'Zeichentrickkost\\xc3\\xbcm', 'in', 'einem', '\\xc3\\xb6ffentlichen']"
     ]
    },
    {
     "name": "stderr",
     "output_type": "stream",
     "text": [
      "INFO:__main__:Source: A person dressed in a yellow animated costume in a public area . </S>\n",
      "INFO:__main__:Target Hypothesis: Ort .\n",
      "INFO:__main__:Target Reference: ['Bereich', '.']\n",
      "INFO:__main__:IMT F1 score: 0.0\n"
     ]
    },
    {
     "name": "stdout",
     "output_type": "stream",
     "text": [
      "\n",
      "predicting target prefix: ['Eine', 'Person', 'in', 'einem', 'gelben', 'Zeichentrickkost\\xc3\\xbcm', 'in', 'einem', '\\xc3\\xb6ffentlichen', 'Bereich']"
     ]
    },
    {
     "name": "stderr",
     "output_type": "stream",
     "text": [
      "INFO:__main__:Source: A person dressed in a yellow animated costume in a public area . </S>\n",
      "INFO:__main__:Target Hypothesis: .\n",
      "INFO:__main__:Target Reference: ['.']\n",
      "INFO:__main__:IMT F1 score: 1.0\n"
     ]
    },
    {
     "name": "stdout",
     "output_type": "stream",
     "text": [
      "\n",
      "predicting target prefix: ['Eine', 'Person', 'in', 'einem', 'gelben', 'Zeichentrickkost\\xc3\\xbcm', 'in', 'einem', '\\xc3\\xb6ffentlichen', 'Bereich', '.']"
     ]
    },
    {
     "name": "stderr",
     "output_type": "stream",
     "text": [
      "INFO:__main__:Source: A person dressed in a yellow animated costume in a public area . </S>\n",
      "INFO:__main__:Target Hypothesis: </S> .\n",
      "INFO:__main__:Target Reference: []\n",
      "INFO:__main__:IMT F1 score: 0.0\n",
      "INFO:__main__:Translating segment: 67\n"
     ]
    },
    {
     "name": "stdout",
     "output_type": "stream",
     "text": [
      "\n",
      "predicting target prefix: ['Schwimmer']"
     ]
    },
    {
     "name": "stderr",
     "output_type": "stream",
     "text": [
      "INFO:__main__:Source: Swimmers in a lake being watched by a boy sitting on a wall . </S>\n",
      "INFO:__main__:Target Hypothesis: in einem See wird von einem Jungen auf einer Mauer sitzen .\n",
      "INFO:__main__:Target Reference: ['in', 'einem', 'See', 'werden', 'von', 'einem', 'Jungen', 'beobachtet', ',', 'der', 'auf', 'einer', 'Mauer', 'sitzt', '.']\n",
      "INFO:__main__:IMT F1 score: 0.222222222222\n"
     ]
    },
    {
     "name": "stdout",
     "output_type": "stream",
     "text": [
      "\n",
      "predicting target prefix: ['Schwimmer', 'in']"
     ]
    },
    {
     "name": "stderr",
     "output_type": "stream",
     "text": [
      "INFO:__main__:Source: Swimmers in a lake being watched by a boy sitting on a wall . </S>\n",
      "INFO:__main__:Target Hypothesis: einem See wird von einem Jungen auf einer Mauer .\n",
      "INFO:__main__:Target Reference: ['einem', 'See', 'werden', 'von', 'einem', 'Jungen', 'beobachtet', ',', 'der', 'auf', 'einer', 'Mauer', 'sitzt', '.']\n",
      "INFO:__main__:IMT F1 score: 0.166666666667\n"
     ]
    },
    {
     "name": "stdout",
     "output_type": "stream",
     "text": [
      "\n",
      "predicting target prefix: ['Schwimmer', 'in', 'einem']"
     ]
    },
    {
     "name": "stderr",
     "output_type": "stream",
     "text": [
      "INFO:__main__:Source: Swimmers in a lake being watched by a boy sitting on a wall . </S>\n",
      "INFO:__main__:Target Hypothesis: See wird von einem Jungen auf einer Mauer .\n",
      "INFO:__main__:Target Reference: ['See', 'werden', 'von', 'einem', 'Jungen', 'beobachtet', ',', 'der', 'auf', 'einer', 'Mauer', 'sitzt', '.']\n",
      "INFO:__main__:IMT F1 score: 0.0909090909091\n"
     ]
    },
    {
     "name": "stdout",
     "output_type": "stream",
     "text": [
      "\n",
      "predicting target prefix: ['Schwimmer', 'in', 'einem', 'See']"
     ]
    },
    {
     "name": "stderr",
     "output_type": "stream",
     "text": [
      "INFO:__main__:Source: Swimmers in a lake being watched by a boy sitting on a wall . </S>\n",
      "INFO:__main__:Target Hypothesis: wird von einem Jungen , der auf einer Mauer sitzt .\n",
      "INFO:__main__:Target Reference: ['werden', 'von', 'einem', 'Jungen', 'beobachtet', ',', 'der', 'auf', 'einer', 'Mauer', 'sitzt', '.']\n",
      "INFO:__main__:IMT F1 score: 0.0\n"
     ]
    },
    {
     "name": "stdout",
     "output_type": "stream",
     "text": [
      "\n",
      "predicting target prefix: ['Schwimmer', 'in', 'einem', 'See', 'werden']"
     ]
    },
    {
     "name": "stderr",
     "output_type": "stream",
     "text": [
      "INFO:__main__:Source: Swimmers in a lake being watched by a boy sitting on a wall . </S>\n",
      "INFO:__main__:Target Hypothesis: von einem Jungen auf einer Mauer sitzen .\n",
      "INFO:__main__:Target Reference: ['von', 'einem', 'Jungen', 'beobachtet', ',', 'der', 'auf', 'einer', 'Mauer', 'sitzt', '.']\n",
      "INFO:__main__:IMT F1 score: 0.315789473684\n"
     ]
    },
    {
     "name": "stdout",
     "output_type": "stream",
     "text": [
      "\n",
      "predicting target prefix: ['Schwimmer', 'in', 'einem', 'See', 'werden', 'von']"
     ]
    },
    {
     "name": "stderr",
     "output_type": "stream",
     "text": [
      "INFO:__main__:Source: Swimmers in a lake being watched by a boy sitting on a wall . </S>\n",
      "INFO:__main__:Target Hypothesis: einem Jungen auf einer Mauer sitzen .\n",
      "INFO:__main__:Target Reference: ['einem', 'Jungen', 'beobachtet', ',', 'der', 'auf', 'einer', 'Mauer', 'sitzt', '.']\n",
      "INFO:__main__:IMT F1 score: 0.235294117647\n"
     ]
    },
    {
     "name": "stdout",
     "output_type": "stream",
     "text": [
      "\n",
      "predicting target prefix: ['Schwimmer', 'in', 'einem', 'See', 'werden', 'von', 'einem']"
     ]
    },
    {
     "name": "stderr",
     "output_type": "stream",
     "text": [
      "INFO:__main__:Source: Swimmers in a lake being watched by a boy sitting on a wall . </S>\n",
      "INFO:__main__:Target Hypothesis: Jungen auf einer Mauer sitzen .\n",
      "INFO:__main__:Target Reference: ['Jungen', 'beobachtet', ',', 'der', 'auf', 'einer', 'Mauer', 'sitzt', '.']\n",
      "INFO:__main__:IMT F1 score: 0.133333333333\n"
     ]
    },
    {
     "name": "stdout",
     "output_type": "stream",
     "text": [
      "\n",
      "predicting target prefix: ['Schwimmer', 'in', 'einem', 'See', 'werden', 'von', 'einem', 'Jungen']"
     ]
    },
    {
     "name": "stderr",
     "output_type": "stream",
     "text": [
      "INFO:__main__:Source: Swimmers in a lake being watched by a boy sitting on a wall . </S>\n",
      "INFO:__main__:Target Hypothesis: auf einer Mauer sitzen .\n",
      "INFO:__main__:Target Reference: ['beobachtet', ',', 'der', 'auf', 'einer', 'Mauer', 'sitzt', '.']\n",
      "INFO:__main__:IMT F1 score: 0.0\n"
     ]
    },
    {
     "name": "stdout",
     "output_type": "stream",
     "text": [
      "\n",
      "predicting target prefix: ['Schwimmer', 'in', 'einem', 'See', 'werden', 'von', 'einem', 'Jungen', 'beobachtet']"
     ]
    },
    {
     "name": "stderr",
     "output_type": "stream",
     "text": [
      "INFO:__main__:Source: Swimmers in a lake being watched by a boy sitting on a wall . </S>\n",
      "INFO:__main__:Target Hypothesis: , die auf einer Mauer sitzen .\n",
      "INFO:__main__:Target Reference: [',', 'der', 'auf', 'einer', 'Mauer', 'sitzt', '.']\n",
      "INFO:__main__:IMT F1 score: 0.142857142857\n"
     ]
    },
    {
     "name": "stdout",
     "output_type": "stream",
     "text": [
      "\n",
      "predicting target prefix: ['Schwimmer', 'in', 'einem', 'See', 'werden', 'von', 'einem', 'Jungen', 'beobachtet', ',']"
     ]
    },
    {
     "name": "stderr",
     "output_type": "stream",
     "text": [
      "INFO:__main__:Source: Swimmers in a lake being watched by a boy sitting on a wall . </S>\n",
      "INFO:__main__:Target Hypothesis: die auf einer Mauer sitzen .\n",
      "INFO:__main__:Target Reference: ['der', 'auf', 'einer', 'Mauer', 'sitzt', '.']\n",
      "INFO:__main__:IMT F1 score: 0.0\n"
     ]
    },
    {
     "name": "stdout",
     "output_type": "stream",
     "text": [
      "\n",
      "predicting target prefix: ['Schwimmer', 'in', 'einem', 'See', 'werden', 'von', 'einem', 'Jungen', 'beobachtet', ',', 'der']"
     ]
    },
    {
     "name": "stderr",
     "output_type": "stream",
     "text": [
      "INFO:__main__:Source: Swimmers in a lake being watched by a boy sitting on a wall . </S>\n",
      "INFO:__main__:Target Hypothesis: auf einer Mauer sitzt .\n",
      "INFO:__main__:Target Reference: ['auf', 'einer', 'Mauer', 'sitzt', '.']\n",
      "INFO:__main__:IMT F1 score: 1.0\n"
     ]
    },
    {
     "name": "stdout",
     "output_type": "stream",
     "text": [
      "\n",
      "predicting target prefix: ['Schwimmer', 'in', 'einem', 'See', 'werden', 'von', 'einem', 'Jungen', 'beobachtet', ',', 'der', 'auf']"
     ]
    },
    {
     "name": "stderr",
     "output_type": "stream",
     "text": [
      "INFO:__main__:Source: Swimmers in a lake being watched by a boy sitting on a wall . </S>\n",
      "INFO:__main__:Target Hypothesis: einer Mauer sitzt .\n",
      "INFO:__main__:Target Reference: ['einer', 'Mauer', 'sitzt', '.']\n",
      "INFO:__main__:IMT F1 score: 1.0\n"
     ]
    },
    {
     "name": "stdout",
     "output_type": "stream",
     "text": [
      "\n",
      "predicting target prefix: ['Schwimmer', 'in', 'einem', 'See', 'werden', 'von', 'einem', 'Jungen', 'beobachtet', ',', 'der', 'auf', 'einer']"
     ]
    },
    {
     "name": "stderr",
     "output_type": "stream",
     "text": [
      "INFO:__main__:Source: Swimmers in a lake being watched by a boy sitting on a wall . </S>\n",
      "INFO:__main__:Target Hypothesis: Mauer sitzt .\n",
      "INFO:__main__:Target Reference: ['Mauer', 'sitzt', '.']\n",
      "INFO:__main__:IMT F1 score: 1.0\n"
     ]
    },
    {
     "name": "stdout",
     "output_type": "stream",
     "text": [
      "\n",
      "predicting target prefix: ['Schwimmer', 'in', 'einem', 'See', 'werden', 'von', 'einem', 'Jungen', 'beobachtet', ',', 'der', 'auf', 'einer', 'Mauer']"
     ]
    },
    {
     "name": "stderr",
     "output_type": "stream",
     "text": [
      "INFO:__main__:Source: Swimmers in a lake being watched by a boy sitting on a wall . </S>\n",
      "INFO:__main__:Target Hypothesis: sitzt .\n",
      "INFO:__main__:Target Reference: ['sitzt', '.']\n",
      "INFO:__main__:IMT F1 score: 1.0\n"
     ]
    },
    {
     "name": "stdout",
     "output_type": "stream",
     "text": [
      "\n",
      "predicting target prefix: ['Schwimmer', 'in', 'einem', 'See', 'werden', 'von', 'einem', 'Jungen', 'beobachtet', ',', 'der', 'auf', 'einer', 'Mauer', 'sitzt']"
     ]
    },
    {
     "name": "stderr",
     "output_type": "stream",
     "text": [
      "INFO:__main__:Source: Swimmers in a lake being watched by a boy sitting on a wall . </S>\n",
      "INFO:__main__:Target Hypothesis: .\n",
      "INFO:__main__:Target Reference: ['.']\n",
      "INFO:__main__:IMT F1 score: 1.0\n"
     ]
    },
    {
     "name": "stdout",
     "output_type": "stream",
     "text": [
      "\n",
      "predicting target prefix: ['Schwimmer', 'in', 'einem', 'See', 'werden', 'von', 'einem', 'Jungen', 'beobachtet', ',', 'der', 'auf', 'einer', 'Mauer', 'sitzt', '.']"
     ]
    },
    {
     "name": "stderr",
     "output_type": "stream",
     "text": [
      "INFO:__main__:Source: Swimmers in a lake being watched by a boy sitting on a wall . </S>\n",
      "INFO:__main__:Target Hypothesis: </S> .\n",
      "INFO:__main__:Target Reference: []\n",
      "INFO:__main__:IMT F1 score: 0.0\n",
      "INFO:__main__:Translating segment: 68\n"
     ]
    },
    {
     "name": "stdout",
     "output_type": "stream",
     "text": [
      "\n",
      "predicting target prefix: ['Eine']"
     ]
    },
    {
     "name": "stderr",
     "output_type": "stream",
     "text": [
      "INFO:__main__:Source: A crowd of people at a city festival with smoke and fireworks </S>\n",
      "INFO:__main__:Target Hypothesis: Gruppe von Menschen auf einem städtischen Fest mit Rauch und ein nächtliches Feuerwerk hindurch .\n",
      "INFO:__main__:Target Reference: ['Menschenmenge', 'bei', 'einem', 'Stadtfest', 'mit', 'Rauch', 'und', 'Feuerwerk']\n",
      "INFO:__main__:IMT F1 score: 0.0\n"
     ]
    },
    {
     "name": "stdout",
     "output_type": "stream",
     "text": [
      "\n",
      "predicting target prefix: ['Eine', 'Menschenmenge']"
     ]
    },
    {
     "name": "stderr",
     "output_type": "stream",
     "text": [
      "INFO:__main__:Source: A crowd of people at a city festival with smoke and fireworks </S>\n",
      "INFO:__main__:Target Hypothesis: auf einem städtischen Fest mit Rauch und ein nächtliches Feuerwerk hindurch .\n",
      "INFO:__main__:Target Reference: ['bei', 'einem', 'Stadtfest', 'mit', 'Rauch', 'und', 'Feuerwerk']\n",
      "INFO:__main__:IMT F1 score: 0.0\n"
     ]
    },
    {
     "name": "stdout",
     "output_type": "stream",
     "text": [
      "\n",
      "predicting target prefix: ['Eine', 'Menschenmenge', 'bei']"
     ]
    },
    {
     "name": "stderr",
     "output_type": "stream",
     "text": [
      "INFO:__main__:Source: A crowd of people at a city festival with smoke and fireworks </S>\n",
      "INFO:__main__:Target Hypothesis: einem städtischen Fest mit Rauch und Stoßfängern .\n",
      "INFO:__main__:Target Reference: ['einem', 'Stadtfest', 'mit', 'Rauch', 'und', 'Feuerwerk']\n",
      "INFO:__main__:IMT F1 score: 0.142857142857\n"
     ]
    },
    {
     "name": "stdout",
     "output_type": "stream",
     "text": [
      "\n",
      "predicting target prefix: ['Eine', 'Menschenmenge', 'bei', 'einem']"
     ]
    },
    {
     "name": "stderr",
     "output_type": "stream",
     "text": [
      "INFO:__main__:Source: A crowd of people at a city festival with smoke and fireworks </S>\n",
      "INFO:__main__:Target Hypothesis: städtischen Fest mit Rauch und Stoßfängern .\n",
      "INFO:__main__:Target Reference: ['Stadtfest', 'mit', 'Rauch', 'und', 'Feuerwerk']\n",
      "INFO:__main__:IMT F1 score: 0.0\n"
     ]
    },
    {
     "name": "stdout",
     "output_type": "stream",
     "text": [
      "\n",
      "predicting target prefix: ['Eine', 'Menschenmenge', 'bei', 'einem', 'Stadtfest']"
     ]
    },
    {
     "name": "stderr",
     "output_type": "stream",
     "text": [
      "INFO:__main__:Source: A crowd of people at a city festival with smoke and fireworks </S>\n",
      "INFO:__main__:Target Hypothesis: auf einem städtischen Fest mit Rauch und Stoßfängern .\n",
      "INFO:__main__:Target Reference: ['mit', 'Rauch', 'und', 'Feuerwerk']\n",
      "INFO:__main__:IMT F1 score: 0.0\n"
     ]
    },
    {
     "name": "stdout",
     "output_type": "stream",
     "text": [
      "\n",
      "predicting target prefix: ['Eine', 'Menschenmenge', 'bei', 'einem', 'Stadtfest', 'mit']"
     ]
    },
    {
     "name": "stderr",
     "output_type": "stream",
     "text": [
      "INFO:__main__:Source: A crowd of people at a city festival with smoke and fireworks </S>\n",
      "INFO:__main__:Target Hypothesis: Rauch und ein nächtliches Feuerwerk hindurch .\n",
      "INFO:__main__:Target Reference: ['Rauch', 'und', 'Feuerwerk']\n",
      "INFO:__main__:IMT F1 score: 0.4\n"
     ]
    },
    {
     "name": "stdout",
     "output_type": "stream",
     "text": [
      "\n",
      "predicting target prefix: ['Eine', 'Menschenmenge', 'bei', 'einem', 'Stadtfest', 'mit', 'Rauch']"
     ]
    },
    {
     "name": "stderr",
     "output_type": "stream",
     "text": [
      "INFO:__main__:Source: A crowd of people at a city festival with smoke and fireworks </S>\n",
      "INFO:__main__:Target Hypothesis: und ein nächtliches Feuerwerk hindurch .\n",
      "INFO:__main__:Target Reference: ['und', 'Feuerwerk']\n",
      "INFO:__main__:IMT F1 score: 0.25\n"
     ]
    },
    {
     "name": "stdout",
     "output_type": "stream",
     "text": [
      "\n",
      "predicting target prefix: ['Eine', 'Menschenmenge', 'bei', 'einem', 'Stadtfest', 'mit', 'Rauch', 'und']"
     ]
    },
    {
     "name": "stderr",
     "output_type": "stream",
     "text": [
      "INFO:__main__:Source: A crowd of people at a city festival with smoke and fireworks </S>\n",
      "INFO:__main__:Target Hypothesis: ein nächtliches Feuerwerk hindurch .\n",
      "INFO:__main__:Target Reference: ['Feuerwerk']\n",
      "INFO:__main__:IMT F1 score: 0.0\n"
     ]
    },
    {
     "name": "stdout",
     "output_type": "stream",
     "text": [
      "\n",
      "predicting target prefix: ['Eine', 'Menschenmenge', 'bei', 'einem', 'Stadtfest', 'mit', 'Rauch', 'und', 'Feuerwerk']"
     ]
    },
    {
     "name": "stderr",
     "output_type": "stream",
     "text": [
      "INFO:__main__:Source: A crowd of people at a city festival with smoke and fireworks </S>\n",
      "INFO:__main__:Target Hypothesis: im Wasser .\n",
      "INFO:__main__:Target Reference: []\n",
      "INFO:__main__:IMT F1 score: 0.0\n",
      "INFO:__main__:Translating segment: 69\n"
     ]
    },
    {
     "name": "stdout",
     "output_type": "stream",
     "text": [
      "\n",
      "predicting target prefix: ['Hund']"
     ]
    },
    {
     "name": "stderr",
     "output_type": "stream",
     "text": [
      "INFO:__main__:Source: Dog on leash <UNK> into snow in rural area . </S>\n",
      "INFO:__main__:Target Hypothesis: auf der Leine ist in einem Footballfeld hindurch .\n",
      "INFO:__main__:Target Reference: ['an', 'Leine', 'buddelt', 'in', 'l\\xc3\\xa4ndlicher', 'Gegend', 'im', 'Schnee', '.']\n",
      "INFO:__main__:IMT F1 score: 0.0\n"
     ]
    },
    {
     "name": "stdout",
     "output_type": "stream",
     "text": [
      "\n",
      "predicting target prefix: ['Hund', 'an']"
     ]
    },
    {
     "name": "stderr",
     "output_type": "stream",
     "text": [
      "INFO:__main__:Source: Dog on leash <UNK> into snow in rural area . </S>\n",
      "INFO:__main__:Target Hypothesis: der Leine ist in einem Footballfeld hindurch .\n",
      "INFO:__main__:Target Reference: ['Leine', 'buddelt', 'in', 'l\\xc3\\xa4ndlicher', 'Gegend', 'im', 'Schnee', '.']\n",
      "INFO:__main__:IMT F1 score: 0.0\n"
     ]
    },
    {
     "name": "stdout",
     "output_type": "stream",
     "text": [
      "\n",
      "predicting target prefix: ['Hund', 'an', 'Leine']"
     ]
    },
    {
     "name": "stderr",
     "output_type": "stream",
     "text": [
      "INFO:__main__:Source: Dog on leash <UNK> into snow in rural area . </S>\n",
      "INFO:__main__:Target Hypothesis: ist in einem Kürbisfeld .\n",
      "INFO:__main__:Target Reference: ['buddelt', 'in', 'l\\xc3\\xa4ndlicher', 'Gegend', 'im', 'Schnee', '.']\n",
      "INFO:__main__:IMT F1 score: 0.0\n"
     ]
    },
    {
     "name": "stdout",
     "output_type": "stream",
     "text": [
      "\n",
      "predicting target prefix: ['Hund', 'an', 'Leine', 'buddelt']"
     ]
    },
    {
     "name": "stderr",
     "output_type": "stream",
     "text": [
      "INFO:__main__:Source: Dog on leash <UNK> into snow in rural area . </S>\n",
      "INFO:__main__:Target Hypothesis: in einem Kürbisfeld .\n",
      "INFO:__main__:Target Reference: ['in', 'l\\xc3\\xa4ndlicher', 'Gegend', 'im', 'Schnee', '.']\n",
      "INFO:__main__:IMT F1 score: 0.2\n"
     ]
    },
    {
     "name": "stdout",
     "output_type": "stream",
     "text": [
      "\n",
      "predicting target prefix: ['Hund', 'an', 'Leine', 'buddelt', 'in']"
     ]
    },
    {
     "name": "stderr",
     "output_type": "stream",
     "text": [
      "INFO:__main__:Source: Dog on leash <UNK> into snow in rural area . </S>\n",
      "INFO:__main__:Target Hypothesis: einem Kürbisfeld .\n",
      "INFO:__main__:Target Reference: ['l\\xc3\\xa4ndlicher', 'Gegend', 'im', 'Schnee', '.']\n",
      "INFO:__main__:IMT F1 score: 0.0\n"
     ]
    },
    {
     "name": "stdout",
     "output_type": "stream",
     "text": [
      "\n",
      "predicting target prefix: ['Hund', 'an', 'Leine', 'buddelt', 'in', 'l\\xc3\\xa4ndlicher']"
     ]
    },
    {
     "name": "stderr",
     "output_type": "stream",
     "text": [
      "INFO:__main__:Source: Dog on leash <UNK> into snow in rural area . </S>\n",
      "INFO:__main__:Target Hypothesis: ländlichen Umgebung .\n",
      "INFO:__main__:Target Reference: ['Gegend', 'im', 'Schnee', '.']\n",
      "INFO:__main__:IMT F1 score: 0.0\n"
     ]
    },
    {
     "name": "stdout",
     "output_type": "stream",
     "text": [
      "\n",
      "predicting target prefix: ['Hund', 'an', 'Leine', 'buddelt', 'in', 'l\\xc3\\xa4ndlicher', 'Gegend']"
     ]
    },
    {
     "name": "stderr",
     "output_type": "stream",
     "text": [
      "INFO:__main__:Source: Dog on leash <UNK> into snow in rural area . </S>\n",
      "INFO:__main__:Target Hypothesis: .\n",
      "INFO:__main__:Target Reference: ['im', 'Schnee', '.']\n",
      "INFO:__main__:IMT F1 score: 0.0\n"
     ]
    },
    {
     "name": "stdout",
     "output_type": "stream",
     "text": [
      "\n",
      "predicting target prefix: ['Hund', 'an', 'Leine', 'buddelt', 'in', 'l\\xc3\\xa4ndlicher', 'Gegend', 'im']"
     ]
    },
    {
     "name": "stderr",
     "output_type": "stream",
     "text": [
      "INFO:__main__:Source: Dog on leash <UNK> into snow in rural area . </S>\n",
      "INFO:__main__:Target Hypothesis: Schnee .\n",
      "INFO:__main__:Target Reference: ['Schnee', '.']\n",
      "INFO:__main__:IMT F1 score: 1.0\n"
     ]
    },
    {
     "name": "stdout",
     "output_type": "stream",
     "text": [
      "\n",
      "predicting target prefix: ['Hund', 'an', 'Leine', 'buddelt', 'in', 'l\\xc3\\xa4ndlicher', 'Gegend', 'im', 'Schnee']"
     ]
    },
    {
     "name": "stderr",
     "output_type": "stream",
     "text": [
      "INFO:__main__:Source: Dog on leash <UNK> into snow in rural area . </S>\n",
      "INFO:__main__:Target Hypothesis: .\n",
      "INFO:__main__:Target Reference: ['.']\n",
      "INFO:__main__:IMT F1 score: 1.0\n"
     ]
    },
    {
     "name": "stdout",
     "output_type": "stream",
     "text": [
      "\n",
      "predicting target prefix: ['Hund', 'an', 'Leine', 'buddelt', 'in', 'l\\xc3\\xa4ndlicher', 'Gegend', 'im', 'Schnee', '.']"
     ]
    },
    {
     "name": "stderr",
     "output_type": "stream",
     "text": [
      "INFO:__main__:Source: Dog on leash <UNK> into snow in rural area . </S>\n",
      "INFO:__main__:Target Hypothesis: </S> .\n",
      "INFO:__main__:Target Reference: []\n",
      "INFO:__main__:IMT F1 score: 0.0\n",
      "INFO:__main__:Translating segment: 70\n"
     ]
    },
    {
     "name": "stdout",
     "output_type": "stream",
     "text": [
      "\n",
      "predicting target prefix: ['Eine']"
     ]
    },
    {
     "name": "stderr",
     "output_type": "stream",
     "text": [
      "INFO:__main__:Source: A group camps in a desolate area . </S>\n",
      "INFO:__main__:Target Hypothesis: Gruppe Teenager in einem Theater .\n",
      "INFO:__main__:Target Reference: ['Gruppe', 'kampiert', 'in', 'einer', 'einsamen', 'Gegend', '.']\n",
      "INFO:__main__:IMT F1 score: 0.153846153846\n"
     ]
    },
    {
     "name": "stdout",
     "output_type": "stream",
     "text": [
      "\n",
      "predicting target prefix: ['Eine', 'Gruppe']"
     ]
    },
    {
     "name": "stderr",
     "output_type": "stream",
     "text": [
      "INFO:__main__:Source: A group camps in a desolate area . </S>\n",
      "INFO:__main__:Target Hypothesis: Teenager in einem Theater .\n",
      "INFO:__main__:Target Reference: ['kampiert', 'in', 'einer', 'einsamen', 'Gegend', '.']\n",
      "INFO:__main__:IMT F1 score: 0.0\n"
     ]
    },
    {
     "name": "stdout",
     "output_type": "stream",
     "text": [
      "\n",
      "predicting target prefix: ['Eine', 'Gruppe', 'kampiert']"
     ]
    },
    {
     "name": "stderr",
     "output_type": "stream",
     "text": [
      "INFO:__main__:Source: A group camps in a desolate area . </S>\n",
      "INFO:__main__:Target Hypothesis: in einem stillgelegten .\n",
      "INFO:__main__:Target Reference: ['in', 'einer', 'einsamen', 'Gegend', '.']\n",
      "INFO:__main__:IMT F1 score: 0.222222222222\n",
      "INFO:__main__:Source: A group camps in a desolate area . </S>\n",
      "INFO:__main__:Target Hypothesis: einem stillgelegten .\n",
      "INFO:__main__:Target Reference: ['einer', 'einsamen', 'Gegend', '.']\n",
      "INFO:__main__:IMT F1 score: 0.0\n"
     ]
    },
    {
     "name": "stdout",
     "output_type": "stream",
     "text": [
      "\n",
      "predicting target prefix: ['Eine', 'Gruppe', 'kampiert', 'in']\n",
      "predicting target prefix: ['Eine', 'Gruppe', 'kampiert', 'in', 'einer']"
     ]
    },
    {
     "name": "stderr",
     "output_type": "stream",
     "text": [
      "INFO:__main__:Source: A group camps in a desolate area . </S>\n",
      "INFO:__main__:Target Hypothesis: Pflasterstraße .\n",
      "INFO:__main__:Target Reference: ['einsamen', 'Gegend', '.']\n",
      "INFO:__main__:IMT F1 score: 0.0\n",
      "INFO:__main__:Source: A group camps in a desolate area . </S>\n",
      "INFO:__main__:Target Hypothesis: Gegend .\n",
      "INFO:__main__:Target Reference: ['Gegend', '.']\n",
      "INFO:__main__:IMT F1 score: 1.0\n"
     ]
    },
    {
     "name": "stdout",
     "output_type": "stream",
     "text": [
      "\n",
      "predicting target prefix: ['Eine', 'Gruppe', 'kampiert', 'in', 'einer', 'einsamen']\n",
      "predicting target prefix: ['Eine', 'Gruppe', 'kampiert', 'in', 'einer', 'einsamen', 'Gegend']"
     ]
    },
    {
     "name": "stderr",
     "output_type": "stream",
     "text": [
      "INFO:__main__:Source: A group camps in a desolate area . </S>\n",
      "INFO:__main__:Target Hypothesis: .\n",
      "INFO:__main__:Target Reference: ['.']\n",
      "INFO:__main__:IMT F1 score: 1.0\n",
      "INFO:__main__:Source: A group camps in a desolate area . </S>\n",
      "INFO:__main__:Target Hypothesis: </S> .\n",
      "INFO:__main__:Target Reference: []\n",
      "INFO:__main__:IMT F1 score: 0.0\n",
      "INFO:__main__:Translating segment: 71\n"
     ]
    },
    {
     "name": "stdout",
     "output_type": "stream",
     "text": [
      "\n",
      "predicting target prefix: ['Eine', 'Gruppe', 'kampiert', 'in', 'einer', 'einsamen', 'Gegend', '.']\n",
      "predicting target prefix: ['Ein']"
     ]
    },
    {
     "name": "stderr",
     "output_type": "stream",
     "text": [
      "INFO:__main__:Source: A cashier with a black <UNK> sweatshirt is counting change . </S>\n",
      "INFO:__main__:Target Hypothesis: Dalmatiner mit einem schwarzen Rucksack sorgt für die Menge .\n",
      "INFO:__main__:Target Reference: ['Kassierer', 'mit', 'einem', 'schwarzen', 'Goodies-Pullover', 'z\\xc3\\xa4hlt', 'Wechselgeld', '.']\n",
      "INFO:__main__:IMT F1 score: 0.0\n"
     ]
    },
    {
     "name": "stdout",
     "output_type": "stream",
     "text": [
      "\n",
      "predicting target prefix: ['Ein', 'Kassierer']"
     ]
    },
    {
     "name": "stderr",
     "output_type": "stream",
     "text": [
      "INFO:__main__:Source: A cashier with a black <UNK> sweatshirt is counting change . </S>\n",
      "INFO:__main__:Target Hypothesis: mit schwarzem Sweatshirt ist nach unten gebogen .\n",
      "INFO:__main__:Target Reference: ['mit', 'einem', 'schwarzen', 'Goodies-Pullover', 'z\\xc3\\xa4hlt', 'Wechselgeld', '.']\n",
      "INFO:__main__:IMT F1 score: 0.133333333333\n"
     ]
    },
    {
     "name": "stdout",
     "output_type": "stream",
     "text": [
      "\n",
      "predicting target prefix: ['Ein', 'Kassierer', 'mit']"
     ]
    },
    {
     "name": "stderr",
     "output_type": "stream",
     "text": [
      "INFO:__main__:Source: A cashier with a black <UNK> sweatshirt is counting change . </S>\n",
      "INFO:__main__:Target Hypothesis: schwarzem Sweatshirt ist nach unten gebogen .\n",
      "INFO:__main__:Target Reference: ['einem', 'schwarzen', 'Goodies-Pullover', 'z\\xc3\\xa4hlt', 'Wechselgeld', '.']\n",
      "INFO:__main__:IMT F1 score: 0.0\n"
     ]
    },
    {
     "name": "stdout",
     "output_type": "stream",
     "text": [
      "\n",
      "predicting target prefix: ['Ein', 'Kassierer', 'mit', 'einem']"
     ]
    },
    {
     "name": "stderr",
     "output_type": "stream",
     "text": [
      "INFO:__main__:Source: A cashier with a black <UNK> sweatshirt is counting change . </S>\n",
      "INFO:__main__:Target Hypothesis: schwarzen Rucksack sorgt für die Menge .\n",
      "INFO:__main__:Target Reference: ['schwarzen', 'Goodies-Pullover', 'z\\xc3\\xa4hlt', 'Wechselgeld', '.']\n",
      "INFO:__main__:IMT F1 score: 0.166666666667\n"
     ]
    },
    {
     "name": "stdout",
     "output_type": "stream",
     "text": [
      "\n",
      "predicting target prefix: ['Ein', 'Kassierer', 'mit', 'einem', 'schwarzen']"
     ]
    },
    {
     "name": "stderr",
     "output_type": "stream",
     "text": [
      "INFO:__main__:Source: A cashier with a black <UNK> sweatshirt is counting change . </S>\n",
      "INFO:__main__:Target Hypothesis: Rucksack sorgt für die Menge .\n",
      "INFO:__main__:Target Reference: ['Goodies-Pullover', 'z\\xc3\\xa4hlt', 'Wechselgeld', '.']\n",
      "INFO:__main__:IMT F1 score: 0.0\n"
     ]
    },
    {
     "name": "stdout",
     "output_type": "stream",
     "text": [
      "\n",
      "predicting target prefix: ['Ein', 'Kassierer', 'mit', 'einem', 'schwarzen', 'Goodies-Pullover']"
     ]
    },
    {
     "name": "stderr",
     "output_type": "stream",
     "text": [
      "INFO:__main__:Source: A cashier with a black <UNK> sweatshirt is counting change . </S>\n",
      "INFO:__main__:Target Hypothesis: in der Hand .\n",
      "INFO:__main__:Target Reference: ['z\\xc3\\xa4hlt', 'Wechselgeld', '.']\n",
      "INFO:__main__:IMT F1 score: 0.0\n"
     ]
    },
    {
     "name": "stdout",
     "output_type": "stream",
     "text": [
      "\n",
      "predicting target prefix: ['Ein', 'Kassierer', 'mit', 'einem', 'schwarzen', 'Goodies-Pullover', 'z\\xc3\\xa4hlt']"
     ]
    },
    {
     "name": "stderr",
     "output_type": "stream",
     "text": [
      "INFO:__main__:Source: A cashier with a black <UNK> sweatshirt is counting change . </S>\n",
      "INFO:__main__:Target Hypothesis: .\n",
      "INFO:__main__:Target Reference: ['Wechselgeld', '.']\n",
      "INFO:__main__:IMT F1 score: 0.0\n"
     ]
    },
    {
     "name": "stdout",
     "output_type": "stream",
     "text": [
      "\n",
      "predicting target prefix: ['Ein', 'Kassierer', 'mit', 'einem', 'schwarzen', 'Goodies-Pullover', 'z\\xc3\\xa4hlt', 'Wechselgeld']"
     ]
    },
    {
     "name": "stderr",
     "output_type": "stream",
     "text": [
      "INFO:__main__:Source: A cashier with a black <UNK> sweatshirt is counting change . </S>\n",
      "INFO:__main__:Target Hypothesis: .\n",
      "INFO:__main__:Target Reference: ['.']\n",
      "INFO:__main__:IMT F1 score: 1.0\n"
     ]
    },
    {
     "name": "stdout",
     "output_type": "stream",
     "text": [
      "\n",
      "predicting target prefix: ['Ein', 'Kassierer', 'mit', 'einem', 'schwarzen', 'Goodies-Pullover', 'z\\xc3\\xa4hlt', 'Wechselgeld', '.']"
     ]
    },
    {
     "name": "stderr",
     "output_type": "stream",
     "text": [
      "INFO:__main__:Source: A cashier with a black <UNK> sweatshirt is counting change . </S>\n",
      "INFO:__main__:Target Hypothesis: </S> .\n",
      "INFO:__main__:Target Reference: []\n",
      "INFO:__main__:IMT F1 score: 0.0\n",
      "INFO:__main__:Translating segment: 72\n"
     ]
    },
    {
     "name": "stdout",
     "output_type": "stream",
     "text": [
      "\n",
      "predicting target prefix: ['Einem']"
     ]
    },
    {
     "name": "stderr",
     "output_type": "stream",
     "text": [
      "INFO:__main__:Source: A boy getting his hair <UNK> off by another boy . </S>\n",
      "INFO:__main__:Target Hypothesis: Jungen werden von einem anderen Jungen geschnitten .\n",
      "INFO:__main__:Target Reference: ['Jungen', 'werden', 'von', 'einem', 'anderen', 'Jungen', 'die', 'Haare', 'abrasiert', '.']\n",
      "INFO:__main__:IMT F1 score: 0.666666666667\n"
     ]
    },
    {
     "name": "stdout",
     "output_type": "stream",
     "text": [
      "\n",
      "predicting target prefix: ['Einem', 'Jungen']"
     ]
    },
    {
     "name": "stderr",
     "output_type": "stream",
     "text": [
      "INFO:__main__:Source: A boy getting his hair <UNK> off by another boy . </S>\n",
      "INFO:__main__:Target Hypothesis: werden von einem anderen Jungen geschnitten .\n",
      "INFO:__main__:Target Reference: ['werden', 'von', 'einem', 'anderen', 'Jungen', 'die', 'Haare', 'abrasiert', '.']\n",
      "INFO:__main__:IMT F1 score: 0.625\n"
     ]
    },
    {
     "name": "stdout",
     "output_type": "stream",
     "text": [
      "\n",
      "predicting target prefix: ['Einem', 'Jungen', 'werden']"
     ]
    },
    {
     "name": "stderr",
     "output_type": "stream",
     "text": [
      "INFO:__main__:Source: A boy getting his hair <UNK> off by another boy . </S>\n",
      "INFO:__main__:Target Hypothesis: von einem anderen Jungen geschnitten .\n",
      "INFO:__main__:Target Reference: ['von', 'einem', 'anderen', 'Jungen', 'die', 'Haare', 'abrasiert', '.']\n",
      "INFO:__main__:IMT F1 score: 0.571428571429\n"
     ]
    },
    {
     "name": "stdout",
     "output_type": "stream",
     "text": [
      "\n",
      "predicting target prefix: ['Einem', 'Jungen', 'werden', 'von']"
     ]
    },
    {
     "name": "stderr",
     "output_type": "stream",
     "text": [
      "INFO:__main__:Source: A boy getting his hair <UNK> off by another boy . </S>\n",
      "INFO:__main__:Target Hypothesis: einem anderen Jungen geschnitten .\n",
      "INFO:__main__:Target Reference: ['einem', 'anderen', 'Jungen', 'die', 'Haare', 'abrasiert', '.']\n",
      "INFO:__main__:IMT F1 score: 0.5\n"
     ]
    },
    {
     "name": "stdout",
     "output_type": "stream",
     "text": [
      "\n",
      "predicting target prefix: ['Einem', 'Jungen', 'werden', 'von', 'einem']"
     ]
    },
    {
     "name": "stderr",
     "output_type": "stream",
     "text": [
      "INFO:__main__:Source: A boy getting his hair <UNK> off by another boy . </S>\n",
      "INFO:__main__:Target Hypothesis: anderen Jungen geschnitten .\n",
      "INFO:__main__:Target Reference: ['anderen', 'Jungen', 'die', 'Haare', 'abrasiert', '.']\n",
      "INFO:__main__:IMT F1 score: 0.4\n"
     ]
    },
    {
     "name": "stdout",
     "output_type": "stream",
     "text": [
      "\n",
      "predicting target prefix: ['Einem', 'Jungen', 'werden', 'von', 'einem', 'anderen']"
     ]
    },
    {
     "name": "stderr",
     "output_type": "stream",
     "text": [
      "INFO:__main__:Source: A boy getting his hair <UNK> off by another boy . </S>\n",
      "INFO:__main__:Target Hypothesis: Jungen geschnitten .\n",
      "INFO:__main__:Target Reference: ['Jungen', 'die', 'Haare', 'abrasiert', '.']\n",
      "INFO:__main__:IMT F1 score: 0.25\n"
     ]
    },
    {
     "name": "stdout",
     "output_type": "stream",
     "text": [
      "\n",
      "predicting target prefix: ['Einem', 'Jungen', 'werden', 'von', 'einem', 'anderen', 'Jungen']"
     ]
    },
    {
     "name": "stderr",
     "output_type": "stream",
     "text": [
      "INFO:__main__:Source: A boy getting his hair <UNK> off by another boy . </S>\n",
      "INFO:__main__:Target Hypothesis: geschnitten .\n",
      "INFO:__main__:Target Reference: ['die', 'Haare', 'abrasiert', '.']\n",
      "INFO:__main__:IMT F1 score: 0.0\n"
     ]
    },
    {
     "name": "stdout",
     "output_type": "stream",
     "text": [
      "\n",
      "predicting target prefix: ['Einem', 'Jungen', 'werden', 'von', 'einem', 'anderen', 'Jungen', 'die']"
     ]
    },
    {
     "name": "stderr",
     "output_type": "stream",
     "text": [
      "INFO:__main__:Source: A boy getting his hair <UNK> off by another boy . </S>\n",
      "INFO:__main__:Target Hypothesis: Haare geschnitten .\n",
      "INFO:__main__:Target Reference: ['Haare', 'abrasiert', '.']\n",
      "INFO:__main__:IMT F1 score: 0.333333333333\n"
     ]
    },
    {
     "name": "stdout",
     "output_type": "stream",
     "text": [
      "\n",
      "predicting target prefix: ['Einem', 'Jungen', 'werden', 'von', 'einem', 'anderen', 'Jungen', 'die', 'Haare']"
     ]
    },
    {
     "name": "stderr",
     "output_type": "stream",
     "text": [
      "INFO:__main__:Source: A boy getting his hair <UNK> off by another boy . </S>\n",
      "INFO:__main__:Target Hypothesis: geschnitten .\n",
      "INFO:__main__:Target Reference: ['abrasiert', '.']\n",
      "INFO:__main__:IMT F1 score: 0.0\n"
     ]
    },
    {
     "name": "stdout",
     "output_type": "stream",
     "text": [
      "\n",
      "predicting target prefix: ['Einem', 'Jungen', 'werden', 'von', 'einem', 'anderen', 'Jungen', 'die', 'Haare', 'abrasiert']"
     ]
    },
    {
     "name": "stderr",
     "output_type": "stream",
     "text": [
      "INFO:__main__:Source: A boy getting his hair <UNK> off by another boy . </S>\n",
      "INFO:__main__:Target Hypothesis: .\n",
      "INFO:__main__:Target Reference: ['.']\n",
      "INFO:__main__:IMT F1 score: 1.0\n"
     ]
    },
    {
     "name": "stdout",
     "output_type": "stream",
     "text": [
      "\n",
      "predicting target prefix: ['Einem', 'Jungen', 'werden', 'von', 'einem', 'anderen', 'Jungen', 'die', 'Haare', 'abrasiert', '.']"
     ]
    },
    {
     "name": "stderr",
     "output_type": "stream",
     "text": [
      "INFO:__main__:Source: A boy getting his hair <UNK> off by another boy . </S>\n",
      "INFO:__main__:Target Hypothesis: </S> .\n",
      "INFO:__main__:Target Reference: []\n",
      "INFO:__main__:IMT F1 score: 0.0\n",
      "INFO:__main__:Translating segment: 73\n"
     ]
    },
    {
     "name": "stdout",
     "output_type": "stream",
     "text": [
      "\n",
      "predicting target prefix: ['Das']"
     ]
    },
    {
     "name": "stderr",
     "output_type": "stream",
     "text": [
      "INFO:__main__:Source: Here is a picture of a teenager trimming his brother 's head hair . </S>\n",
      "INFO:__main__:Target Hypothesis: Bild eines Sprungs , der seinen Kopf seines Fahrrads schneidet .\n",
      "INFO:__main__:Target Reference: ['ist', 'das', 'Bild', 'eines', 'Teenagers', ',', 'der', 'seinem', 'Bruder', 'die', 'Haare', 'schneidet', '.']\n",
      "INFO:__main__:IMT F1 score: 0.0\n"
     ]
    },
    {
     "name": "stdout",
     "output_type": "stream",
     "text": [
      "\n",
      "predicting target prefix: ['Das', 'ist']"
     ]
    },
    {
     "name": "stderr",
     "output_type": "stream",
     "text": [
      "INFO:__main__:Source: Here is a picture of a teenager trimming his brother 's head hair . </S>\n",
      "INFO:__main__:Target Hypothesis: schneidet sein Haar eines Sprungs , der seinen Kopf seines Fahrrads gibt .\n",
      "INFO:__main__:Target Reference: ['das', 'Bild', 'eines', 'Teenagers', ',', 'der', 'seinem', 'Bruder', 'die', 'Haare', 'schneidet', '.']\n",
      "INFO:__main__:IMT F1 score: 0.0\n"
     ]
    },
    {
     "name": "stdout",
     "output_type": "stream",
     "text": [
      "\n",
      "predicting target prefix: ['Das', 'ist', 'das']"
     ]
    },
    {
     "name": "stderr",
     "output_type": "stream",
     "text": [
      "INFO:__main__:Source: Here is a picture of a teenager trimming his brother 's head hair . </S>\n",
      "INFO:__main__:Target Hypothesis: Kopf eines Sprungs , der seinen Kopf seines Fahrrads schneidet .\n",
      "INFO:__main__:Target Reference: ['Bild', 'eines', 'Teenagers', ',', 'der', 'seinem', 'Bruder', 'die', 'Haare', 'schneidet', '.']\n",
      "INFO:__main__:IMT F1 score: 0.0\n"
     ]
    },
    {
     "name": "stdout",
     "output_type": "stream",
     "text": [
      "\n",
      "predicting target prefix: ['Das', 'ist', 'das', 'Bild']"
     ]
    },
    {
     "name": "stderr",
     "output_type": "stream",
     "text": [
      "INFO:__main__:Source: Here is a picture of a teenager trimming his brother 's head hair . </S>\n",
      "INFO:__main__:Target Hypothesis: eines Sprungs , der seinen Kopf seines Fahrrads schneidet .\n",
      "INFO:__main__:Target Reference: ['eines', 'Teenagers', ',', 'der', 'seinem', 'Bruder', 'die', 'Haare', 'schneidet', '.']\n",
      "INFO:__main__:IMT F1 score: 0.1\n"
     ]
    },
    {
     "name": "stdout",
     "output_type": "stream",
     "text": [
      "\n",
      "predicting target prefix: ['Das', 'ist', 'das', 'Bild', 'eines']"
     ]
    },
    {
     "name": "stderr",
     "output_type": "stream",
     "text": [
      "INFO:__main__:Source: Here is a picture of a teenager trimming his brother 's head hair . </S>\n",
      "INFO:__main__:Target Hypothesis: Sprungs , der seinen Kopf seines Fahrrads schneidet .\n",
      "INFO:__main__:Target Reference: ['Teenagers', ',', 'der', 'seinem', 'Bruder', 'die', 'Haare', 'schneidet', '.']\n",
      "INFO:__main__:IMT F1 score: 0.0\n"
     ]
    },
    {
     "name": "stdout",
     "output_type": "stream",
     "text": [
      "\n",
      "predicting target prefix: ['Das', 'ist', 'das', 'Bild', 'eines', 'Teenagers']"
     ]
    },
    {
     "name": "stderr",
     "output_type": "stream",
     "text": [
      "INFO:__main__:Source: Here is a picture of a teenager trimming his brother 's head hair . </S>\n",
      "INFO:__main__:Target Hypothesis: Mannes , der seinen Kopf seines Fahrrads schneidet .\n",
      "INFO:__main__:Target Reference: [',', 'der', 'seinem', 'Bruder', 'die', 'Haare', 'schneidet', '.']\n",
      "INFO:__main__:IMT F1 score: 0.0\n"
     ]
    },
    {
     "name": "stdout",
     "output_type": "stream",
     "text": [
      "\n",
      "predicting target prefix: ['Das', 'ist', 'das', 'Bild', 'eines', 'Teenagers', ',']"
     ]
    },
    {
     "name": "stderr",
     "output_type": "stream",
     "text": [
      "INFO:__main__:Source: Here is a picture of a teenager trimming his brother 's head hair . </S>\n",
      "INFO:__main__:Target Hypothesis: der seinen Kopf seines Fahrrads schneidet .\n",
      "INFO:__main__:Target Reference: ['der', 'seinem', 'Bruder', 'die', 'Haare', 'schneidet', '.']\n",
      "INFO:__main__:IMT F1 score: 0.142857142857\n"
     ]
    },
    {
     "name": "stdout",
     "output_type": "stream",
     "text": [
      "\n",
      "predicting target prefix: ['Das', 'ist', 'das', 'Bild', 'eines', 'Teenagers', ',', 'der']"
     ]
    },
    {
     "name": "stderr",
     "output_type": "stream",
     "text": [
      "INFO:__main__:Source: Here is a picture of a teenager trimming his brother 's head hair . </S>\n",
      "INFO:__main__:Target Hypothesis: seinen Kopf seines Fahrrads schneidet .\n",
      "INFO:__main__:Target Reference: ['seinem', 'Bruder', 'die', 'Haare', 'schneidet', '.']\n",
      "INFO:__main__:IMT F1 score: 0.0\n"
     ]
    },
    {
     "name": "stdout",
     "output_type": "stream",
     "text": [
      "\n",
      "predicting target prefix: ['Das', 'ist', 'das', 'Bild', 'eines', 'Teenagers', ',', 'der', 'seinem']"
     ]
    },
    {
     "name": "stderr",
     "output_type": "stream",
     "text": [
      "INFO:__main__:Source: Here is a picture of a teenager trimming his brother 's head hair . </S>\n",
      "INFO:__main__:Target Hypothesis: Haar den Kopf seines Fahrrads schneidet .\n",
      "INFO:__main__:Target Reference: ['Bruder', 'die', 'Haare', 'schneidet', '.']\n",
      "INFO:__main__:IMT F1 score: 0.0\n"
     ]
    },
    {
     "name": "stdout",
     "output_type": "stream",
     "text": [
      "\n",
      "predicting target prefix: ['Das', 'ist', 'das', 'Bild', 'eines', 'Teenagers', ',', 'der', 'seinem', 'Bruder']"
     ]
    },
    {
     "name": "stderr",
     "output_type": "stream",
     "text": [
      "INFO:__main__:Source: Here is a picture of a teenager trimming his brother 's head hair . </S>\n",
      "INFO:__main__:Target Hypothesis: seinen Kopf Computerbildschirm wird .\n",
      "INFO:__main__:Target Reference: ['die', 'Haare', 'schneidet', '.']\n",
      "INFO:__main__:IMT F1 score: 0.0\n"
     ]
    },
    {
     "name": "stdout",
     "output_type": "stream",
     "text": [
      "\n",
      "predicting target prefix: ['Das', 'ist', 'das', 'Bild', 'eines', 'Teenagers', ',', 'der', 'seinem', 'Bruder', 'die']"
     ]
    },
    {
     "name": "stderr",
     "output_type": "stream",
     "text": [
      "INFO:__main__:Source: Here is a picture of a teenager trimming his brother 's head hair . </S>\n",
      "INFO:__main__:Target Hypothesis: Vier Müllfahrzeugs .\n",
      "INFO:__main__:Target Reference: ['Haare', 'schneidet', '.']\n",
      "INFO:__main__:IMT F1 score: 0.0\n"
     ]
    },
    {
     "name": "stdout",
     "output_type": "stream",
     "text": [
      "\n",
      "predicting target prefix: ['Das', 'ist', 'das', 'Bild', 'eines', 'Teenagers', ',', 'der', 'seinem', 'Bruder', 'die', 'Haare']"
     ]
    },
    {
     "name": "stderr",
     "output_type": "stream",
     "text": [
      "INFO:__main__:Source: Here is a picture of a teenager trimming his brother 's head hair . </S>\n",
      "INFO:__main__:Target Hypothesis: geschnitten .\n",
      "INFO:__main__:Target Reference: ['schneidet', '.']\n",
      "INFO:__main__:IMT F1 score: 0.0\n"
     ]
    },
    {
     "name": "stdout",
     "output_type": "stream",
     "text": [
      "\n",
      "predicting target prefix: ['Das', 'ist', 'das', 'Bild', 'eines', 'Teenagers', ',', 'der', 'seinem', 'Bruder', 'die', 'Haare', 'schneidet']"
     ]
    },
    {
     "name": "stderr",
     "output_type": "stream",
     "text": [
      "INFO:__main__:Source: Here is a picture of a teenager trimming his brother 's head hair . </S>\n",
      "INFO:__main__:Target Hypothesis: .\n",
      "INFO:__main__:Target Reference: ['.']\n",
      "INFO:__main__:IMT F1 score: 1.0\n"
     ]
    },
    {
     "name": "stdout",
     "output_type": "stream",
     "text": [
      "\n",
      "predicting target prefix: ['Das', 'ist', 'das', 'Bild', 'eines', 'Teenagers', ',', 'der', 'seinem', 'Bruder', 'die', 'Haare', 'schneidet', '.']"
     ]
    },
    {
     "name": "stderr",
     "output_type": "stream",
     "text": [
      "INFO:__main__:Source: Here is a picture of a teenager trimming his brother 's head hair . </S>\n",
      "INFO:__main__:Target Hypothesis: </S> .\n",
      "INFO:__main__:Target Reference: []\n",
      "INFO:__main__:IMT F1 score: 0.0\n",
      "INFO:__main__:Translating segment: 74\n"
     ]
    },
    {
     "name": "stdout",
     "output_type": "stream",
     "text": [
      "\n",
      "predicting target prefix: ['Von']"
     ]
    },
    {
     "name": "stderr",
     "output_type": "stream",
     "text": [
      "INFO:__main__:Source: Tourist taken pictures at a building in China . </S>\n",
      "INFO:__main__:Target Hypothesis: einem Gebäude in China .\n",
      "INFO:__main__:Target Reference: ['Touristen', 'aufgenommene', 'Bilder', 'bei', 'einem', 'Geb\\xc3\\xa4ude', 'in', 'China', '.']\n",
      "INFO:__main__:IMT F1 score: 0.0\n"
     ]
    },
    {
     "name": "stdout",
     "output_type": "stream",
     "text": [
      "\n",
      "predicting target prefix: ['Von', 'Touristen']"
     ]
    },
    {
     "name": "stderr",
     "output_type": "stream",
     "text": [
      "INFO:__main__:Source: Tourist taken pictures at a building in China . </S>\n",
      "INFO:__main__:Target Hypothesis: fotografiert einen Gebäude in China .\n",
      "INFO:__main__:Target Reference: ['aufgenommene', 'Bilder', 'bei', 'einem', 'Geb\\xc3\\xa4ude', 'in', 'China', '.']\n",
      "INFO:__main__:IMT F1 score: 0.0\n"
     ]
    },
    {
     "name": "stdout",
     "output_type": "stream",
     "text": [
      "\n",
      "predicting target prefix: ['Von', 'Touristen', 'aufgenommene']"
     ]
    },
    {
     "name": "stderr",
     "output_type": "stream",
     "text": [
      "INFO:__main__:Source: Tourist taken pictures at a building in China . </S>\n",
      "INFO:__main__:Target Hypothesis: zu einem Gebäude in China .\n",
      "INFO:__main__:Target Reference: ['Bilder', 'bei', 'einem', 'Geb\\xc3\\xa4ude', 'in', 'China', '.']\n",
      "INFO:__main__:IMT F1 score: 0.0\n"
     ]
    },
    {
     "name": "stdout",
     "output_type": "stream",
     "text": [
      "\n",
      "predicting target prefix: ['Von', 'Touristen', 'aufgenommene', 'Bilder']"
     ]
    },
    {
     "name": "stderr",
     "output_type": "stream",
     "text": [
      "INFO:__main__:Source: Tourist taken pictures at a building in China . </S>\n",
      "INFO:__main__:Target Hypothesis: in China .\n",
      "INFO:__main__:Target Reference: ['bei', 'einem', 'Geb\\xc3\\xa4ude', 'in', 'China', '.']\n",
      "INFO:__main__:IMT F1 score: 0.0\n"
     ]
    },
    {
     "name": "stdout",
     "output_type": "stream",
     "text": [
      "\n",
      "predicting target prefix: ['Von', 'Touristen', 'aufgenommene', 'Bilder', 'bei']"
     ]
    },
    {
     "name": "stderr",
     "output_type": "stream",
     "text": [
      "INFO:__main__:Source: Tourist taken pictures at a building in China . </S>\n",
      "INFO:__main__:Target Hypothesis: Licht .\n",
      "INFO:__main__:Target Reference: ['einem', 'Geb\\xc3\\xa4ude', 'in', 'China', '.']\n",
      "INFO:__main__:IMT F1 score: 0.0\n",
      "INFO:__main__:Source: Tourist taken pictures at a building in China . </S>\n",
      "INFO:__main__:Target Hypothesis: Gebäude .\n",
      "INFO:__main__:Target Reference: ['Geb\\xc3\\xa4ude', 'in', 'China', '.']\n",
      "INFO:__main__:IMT F1 score: 0.333333333333\n"
     ]
    },
    {
     "name": "stdout",
     "output_type": "stream",
     "text": [
      "\n",
      "predicting target prefix: ['Von', 'Touristen', 'aufgenommene', 'Bilder', 'bei', 'einem']\n",
      "predicting target prefix: ['Von', 'Touristen', 'aufgenommene', 'Bilder', 'bei', 'einem', 'Geb\\xc3\\xa4ude']"
     ]
    },
    {
     "name": "stderr",
     "output_type": "stream",
     "text": [
      "INFO:__main__:Source: Tourist taken pictures at a building in China . </S>\n",
      "INFO:__main__:Target Hypothesis: .\n",
      "INFO:__main__:Target Reference: ['in', 'China', '.']\n",
      "INFO:__main__:IMT F1 score: 0.0\n",
      "INFO:__main__:Source: Tourist taken pictures at a building in China . </S>\n",
      "INFO:__main__:Target Hypothesis: China .\n",
      "INFO:__main__:Target Reference: ['China', '.']\n",
      "INFO:__main__:IMT F1 score: 1.0\n"
     ]
    },
    {
     "name": "stdout",
     "output_type": "stream",
     "text": [
      "\n",
      "predicting target prefix: ['Von', 'Touristen', 'aufgenommene', 'Bilder', 'bei', 'einem', 'Geb\\xc3\\xa4ude', 'in']\n",
      "predicting target prefix: ['Von', 'Touristen', 'aufgenommene', 'Bilder', 'bei', 'einem', 'Geb\\xc3\\xa4ude', 'in', 'China']"
     ]
    },
    {
     "name": "stderr",
     "output_type": "stream",
     "text": [
      "INFO:__main__:Source: Tourist taken pictures at a building in China . </S>\n",
      "INFO:__main__:Target Hypothesis: .\n",
      "INFO:__main__:Target Reference: ['.']\n",
      "INFO:__main__:IMT F1 score: 1.0\n"
     ]
    },
    {
     "name": "stdout",
     "output_type": "stream",
     "text": [
      "\n",
      "predicting target prefix: ['Von', 'Touristen', 'aufgenommene', 'Bilder', 'bei', 'einem', 'Geb\\xc3\\xa4ude', 'in', 'China', '.']"
     ]
    },
    {
     "name": "stderr",
     "output_type": "stream",
     "text": [
      "INFO:__main__:Source: Tourist taken pictures at a building in China . </S>\n",
      "INFO:__main__:Target Hypothesis: </S> .\n",
      "INFO:__main__:Target Reference: []\n",
      "INFO:__main__:IMT F1 score: 0.0\n",
      "INFO:__main__:Translating segment: 75\n",
      "INFO:__main__:Source: Pottery and cars are shown in a parking lot with a man in a blue outfit is leaning against the front of his car . </S>\n",
      "INFO:__main__:Target Hypothesis: und viele Menschen sind auf einem Parkplatz Aufschlag .\n",
      "INFO:__main__:Target Reference: ['Bild', 'zeigt', 'Tonwaren', 'und', 'Autos', 'auf', 'einem', 'Parkplatz', 'und', 'einen', 'blau', 'gekleideten', 'Mann', ',', 'der', 'an', 'der', 'Vorderseite', 'seines', 'Autos', 'lehnt', '.']\n",
      "INFO:__main__:IMT F1 score: 0.0\n"
     ]
    },
    {
     "name": "stdout",
     "output_type": "stream",
     "text": [
      "\n",
      "predicting target prefix: ['Das']\n",
      "predicting target prefix: ['Das', 'Bild']"
     ]
    },
    {
     "name": "stderr",
     "output_type": "stream",
     "text": [
      "INFO:__main__:Source: Pottery and cars are shown in a parking lot with a man in a blue outfit is leaning against the front of his car . </S>\n",
      "INFO:__main__:Target Hypothesis: zeigt auf einem Parkplatz und ein Mann in einem blauen Outfit steht vor seinem Auto .\n",
      "INFO:__main__:Target Reference: ['zeigt', 'Tonwaren', 'und', 'Autos', 'auf', 'einem', 'Parkplatz', 'und', 'einen', 'blau', 'gekleideten', 'Mann', ',', 'der', 'an', 'der', 'Vorderseite', 'seines', 'Autos', 'lehnt', '.']\n",
      "INFO:__main__:IMT F1 score: 0.0540540540541\n"
     ]
    },
    {
     "name": "stdout",
     "output_type": "stream",
     "text": [
      "\n",
      "predicting target prefix: ['Das', 'Bild', 'zeigt']"
     ]
    },
    {
     "name": "stderr",
     "output_type": "stream",
     "text": [
      "INFO:__main__:Source: Pottery and cars are shown in a parking lot with a man in a blue outfit is leaning against the front of his car . </S>\n",
      "INFO:__main__:Target Hypothesis: auf einem Parkplatz und ein Mann in einem blauen Outfit steht vor seinem Auto .\n",
      "INFO:__main__:Target Reference: ['Tonwaren', 'und', 'Autos', 'auf', 'einem', 'Parkplatz', 'und', 'einen', 'blau', 'gekleideten', 'Mann', ',', 'der', 'an', 'der', 'Vorderseite', 'seines', 'Autos', 'lehnt', '.']\n",
      "INFO:__main__:IMT F1 score: 0.0\n"
     ]
    },
    {
     "name": "stdout",
     "output_type": "stream",
     "text": [
      "\n",
      "predicting target prefix: ['Das', 'Bild', 'zeigt', 'Tonwaren']"
     ]
    },
    {
     "name": "stderr",
     "output_type": "stream",
     "text": [
      "INFO:__main__:Source: Pottery and cars are shown in a parking lot with a man in a blue outfit is leaning against the front of his car . </S>\n",
      "INFO:__main__:Target Hypothesis: auf einem Parkplatz und ein Mann in einem blauen Outfit steht vor seinem Auto .\n",
      "INFO:__main__:Target Reference: ['und', 'Autos', 'auf', 'einem', 'Parkplatz', 'und', 'einen', 'blau', 'gekleideten', 'Mann', ',', 'der', 'an', 'der', 'Vorderseite', 'seines', 'Autos', 'lehnt', '.']\n",
      "INFO:__main__:IMT F1 score: 0.0\n"
     ]
    },
    {
     "name": "stdout",
     "output_type": "stream",
     "text": [
      "\n",
      "predicting target prefix: ['Das', 'Bild', 'zeigt', 'Tonwaren', 'und']"
     ]
    },
    {
     "name": "stderr",
     "output_type": "stream",
     "text": [
      "INFO:__main__:Source: Pottery and cars are shown in a parking lot with a man in a blue outfit is leaning against the front of his car . </S>\n",
      "INFO:__main__:Target Hypothesis: ein Mann in einem blauen Outfit steht vor seinem Auto .\n",
      "INFO:__main__:Target Reference: ['Autos', 'auf', 'einem', 'Parkplatz', 'und', 'einen', 'blau', 'gekleideten', 'Mann', ',', 'der', 'an', 'der', 'Vorderseite', 'seines', 'Autos', 'lehnt', '.']\n",
      "INFO:__main__:IMT F1 score: 0.0\n"
     ]
    },
    {
     "name": "stdout",
     "output_type": "stream",
     "text": [
      "\n",
      "predicting target prefix: ['Das', 'Bild', 'zeigt', 'Tonwaren', 'und', 'Autos']"
     ]
    },
    {
     "name": "stderr",
     "output_type": "stream",
     "text": [
      "INFO:__main__:Source: Pottery and cars are shown in a parking lot with a man in a blue outfit is leaning against the front of his car . </S>\n",
      "INFO:__main__:Target Hypothesis: auf einem Parkplatz .\n",
      "INFO:__main__:Target Reference: ['auf', 'einem', 'Parkplatz', 'und', 'einen', 'blau', 'gekleideten', 'Mann', ',', 'der', 'an', 'der', 'Vorderseite', 'seines', 'Autos', 'lehnt', '.']\n",
      "INFO:__main__:IMT F1 score: 0.285714285714\n"
     ]
    },
    {
     "name": "stdout",
     "output_type": "stream",
     "text": [
      "\n",
      "predicting target prefix: ['Das', 'Bild', 'zeigt', 'Tonwaren', 'und', 'Autos', 'auf']"
     ]
    },
    {
     "name": "stderr",
     "output_type": "stream",
     "text": [
      "INFO:__main__:Source: Pottery and cars are shown in a parking lot with a man in a blue outfit is leaning against the front of his car . </S>\n",
      "INFO:__main__:Target Hypothesis: einem Parkplatz .\n",
      "INFO:__main__:Target Reference: ['einem', 'Parkplatz', 'und', 'einen', 'blau', 'gekleideten', 'Mann', ',', 'der', 'an', 'der', 'Vorderseite', 'seines', 'Autos', 'lehnt', '.']\n",
      "INFO:__main__:IMT F1 score: 0.210526315789\n"
     ]
    },
    {
     "name": "stdout",
     "output_type": "stream",
     "text": [
      "\n",
      "predicting target prefix: ['Das', 'Bild', 'zeigt', 'Tonwaren', 'und', 'Autos', 'auf', 'einem']"
     ]
    },
    {
     "name": "stderr",
     "output_type": "stream",
     "text": [
      "INFO:__main__:Source: Pottery and cars are shown in a parking lot with a man in a blue outfit is leaning against the front of his car . </S>\n",
      "INFO:__main__:Target Hypothesis: Parkplatz .\n",
      "INFO:__main__:Target Reference: ['Parkplatz', 'und', 'einen', 'blau', 'gekleideten', 'Mann', ',', 'der', 'an', 'der', 'Vorderseite', 'seines', 'Autos', 'lehnt', '.']\n",
      "INFO:__main__:IMT F1 score: 0.117647058824\n"
     ]
    },
    {
     "name": "stdout",
     "output_type": "stream",
     "text": [
      "\n",
      "predicting target prefix: ['Das', 'Bild', 'zeigt', 'Tonwaren', 'und', 'Autos', 'auf', 'einem', 'Parkplatz']"
     ]
    },
    {
     "name": "stderr",
     "output_type": "stream",
     "text": [
      "INFO:__main__:Source: Pottery and cars are shown in a parking lot with a man in a blue outfit is leaning against the front of his car . </S>\n",
      "INFO:__main__:Target Hypothesis: , die vor seinem Auto verdeckt sind .\n",
      "INFO:__main__:Target Reference: ['und', 'einen', 'blau', 'gekleideten', 'Mann', ',', 'der', 'an', 'der', 'Vorderseite', 'seines', 'Autos', 'lehnt', '.']\n",
      "INFO:__main__:IMT F1 score: 0.0\n"
     ]
    },
    {
     "name": "stdout",
     "output_type": "stream",
     "text": [
      "\n",
      "predicting target prefix: ['Das', 'Bild', 'zeigt', 'Tonwaren', 'und', 'Autos', 'auf', 'einem', 'Parkplatz', 'und']"
     ]
    },
    {
     "name": "stderr",
     "output_type": "stream",
     "text": [
      "INFO:__main__:Source: Pottery and cars are shown in a parking lot with a man in a blue outfit is leaning against the front of his car . </S>\n",
      "INFO:__main__:Target Hypothesis: steht vor seinem Auto .\n",
      "INFO:__main__:Target Reference: ['einen', 'blau', 'gekleideten', 'Mann', ',', 'der', 'an', 'der', 'Vorderseite', 'seines', 'Autos', 'lehnt', '.']\n",
      "INFO:__main__:IMT F1 score: 0.0\n"
     ]
    },
    {
     "name": "stdout",
     "output_type": "stream",
     "text": [
      "\n",
      "predicting target prefix: ['Das', 'Bild', 'zeigt', 'Tonwaren', 'und', 'Autos', 'auf', 'einem', 'Parkplatz', 'und', 'einen']"
     ]
    },
    {
     "name": "stderr",
     "output_type": "stream",
     "text": [
      "INFO:__main__:Source: Pottery and cars are shown in a parking lot with a man in a blue outfit is leaning against the front of his car . </S>\n",
      "INFO:__main__:Target Hypothesis: Mann in einem blauen Outfit steht vor seinem Auto .\n",
      "INFO:__main__:Target Reference: ['blau', 'gekleideten', 'Mann', ',', 'der', 'an', 'der', 'Vorderseite', 'seines', 'Autos', 'lehnt', '.']\n",
      "INFO:__main__:IMT F1 score: 0.0\n"
     ]
    },
    {
     "name": "stdout",
     "output_type": "stream",
     "text": [
      "\n",
      "predicting target prefix: ['Das', 'Bild', 'zeigt', 'Tonwaren', 'und', 'Autos', 'auf', 'einem', 'Parkplatz', 'und', 'einen', 'blau']"
     ]
    },
    {
     "name": "stderr",
     "output_type": "stream",
     "text": [
      "INFO:__main__:Source: Pottery and cars are shown in a parking lot with a man in a blue outfit is leaning against the front of his car . </S>\n",
      "INFO:__main__:Target Hypothesis: vor seinem Auto .\n",
      "INFO:__main__:Target Reference: ['gekleideten', 'Mann', ',', 'der', 'an', 'der', 'Vorderseite', 'seines', 'Autos', 'lehnt', '.']\n",
      "INFO:__main__:IMT F1 score: 0.0\n"
     ]
    },
    {
     "name": "stdout",
     "output_type": "stream",
     "text": [
      "\n",
      "predicting target prefix: ['Das', 'Bild', 'zeigt', 'Tonwaren', 'und', 'Autos', 'auf', 'einem', 'Parkplatz', 'und', 'einen', 'blau', 'gekleideten']"
     ]
    },
    {
     "name": "stderr",
     "output_type": "stream",
     "text": [
      "INFO:__main__:Source: Pottery and cars are shown in a parking lot with a man in a blue outfit is leaning against the front of his car . </S>\n",
      "INFO:__main__:Target Hypothesis: Mann steht vor seinem Auto .\n",
      "INFO:__main__:Target Reference: ['Mann', ',', 'der', 'an', 'der', 'Vorderseite', 'seines', 'Autos', 'lehnt', '.']\n",
      "INFO:__main__:IMT F1 score: 0.125\n"
     ]
    },
    {
     "name": "stdout",
     "output_type": "stream",
     "text": [
      "\n",
      "predicting target prefix: ['Das', 'Bild', 'zeigt', 'Tonwaren', 'und', 'Autos', 'auf', 'einem', 'Parkplatz', 'und', 'einen', 'blau', 'gekleideten', 'Mann']"
     ]
    },
    {
     "name": "stderr",
     "output_type": "stream",
     "text": [
      "INFO:__main__:Source: Pottery and cars are shown in a parking lot with a man in a blue outfit is leaning against the front of his car . </S>\n",
      "INFO:__main__:Target Hypothesis: steht vor seinem Auto .\n",
      "INFO:__main__:Target Reference: [',', 'der', 'an', 'der', 'Vorderseite', 'seines', 'Autos', 'lehnt', '.']\n",
      "INFO:__main__:IMT F1 score: 0.0\n"
     ]
    },
    {
     "name": "stdout",
     "output_type": "stream",
     "text": [
      "\n",
      "predicting target prefix: ['Das', 'Bild', 'zeigt', 'Tonwaren', 'und', 'Autos', 'auf', 'einem', 'Parkplatz', 'und', 'einen', 'blau', 'gekleideten', 'Mann', ',']"
     ]
    },
    {
     "name": "stderr",
     "output_type": "stream",
     "text": [
      "INFO:__main__:Source: Pottery and cars are shown in a parking lot with a man in a blue outfit is leaning against the front of his car . </S>\n",
      "INFO:__main__:Target Hypothesis: die vor seinem Auto verdeckt sind .\n",
      "INFO:__main__:Target Reference: ['der', 'an', 'der', 'Vorderseite', 'seines', 'Autos', 'lehnt', '.']\n",
      "INFO:__main__:IMT F1 score: 0.0\n"
     ]
    },
    {
     "name": "stdout",
     "output_type": "stream",
     "text": [
      "\n",
      "predicting target prefix: ['Das', 'Bild', 'zeigt', 'Tonwaren', 'und', 'Autos', 'auf', 'einem', 'Parkplatz', 'und', 'einen', 'blau', 'gekleideten', 'Mann', ',', 'der']"
     ]
    },
    {
     "name": "stderr",
     "output_type": "stream",
     "text": [
      "INFO:__main__:Source: Pottery and cars are shown in a parking lot with a man in a blue outfit is leaning against the front of his car . </S>\n",
      "INFO:__main__:Target Hypothesis: vor seinem Auto verdeckt sind .\n",
      "INFO:__main__:Target Reference: ['an', 'der', 'Vorderseite', 'seines', 'Autos', 'lehnt', '.']\n",
      "INFO:__main__:IMT F1 score: 0.0\n"
     ]
    },
    {
     "name": "stdout",
     "output_type": "stream",
     "text": [
      "\n",
      "predicting target prefix: ['Das', 'Bild', 'zeigt', 'Tonwaren', 'und', 'Autos', 'auf', 'einem', 'Parkplatz', 'und', 'einen', 'blau', 'gekleideten', 'Mann', ',', 'der', 'an']"
     ]
    },
    {
     "name": "stderr",
     "output_type": "stream",
     "text": [
      "INFO:__main__:Source: Pottery and cars are shown in a parking lot with a man in a blue outfit is leaning against the front of his car . </S>\n",
      "INFO:__main__:Target Hypothesis: seinem Auto gemalt ist .\n",
      "INFO:__main__:Target Reference: ['der', 'Vorderseite', 'seines', 'Autos', 'lehnt', '.']\n",
      "INFO:__main__:IMT F1 score: 0.0\n"
     ]
    },
    {
     "name": "stdout",
     "output_type": "stream",
     "text": [
      "\n",
      "predicting target prefix: ['Das', 'Bild', 'zeigt', 'Tonwaren', 'und', 'Autos', 'auf', 'einem', 'Parkplatz', 'und', 'einen', 'blau', 'gekleideten', 'Mann', ',', 'der', 'an', 'der']"
     ]
    },
    {
     "name": "stderr",
     "output_type": "stream",
     "text": [
      "INFO:__main__:Source: Pottery and cars are shown in a parking lot with a man in a blue outfit is leaning against the front of his car . </S>\n",
      "INFO:__main__:Target Hypothesis: Vorderseite gemalt ist .\n",
      "INFO:__main__:Target Reference: ['Vorderseite', 'seines', 'Autos', 'lehnt', '.']\n",
      "INFO:__main__:IMT F1 score: 0.222222222222\n"
     ]
    },
    {
     "name": "stdout",
     "output_type": "stream",
     "text": [
      "\n",
      "predicting target prefix: ['Das', 'Bild', 'zeigt', 'Tonwaren', 'und', 'Autos', 'auf', 'einem', 'Parkplatz', 'und', 'einen', 'blau', 'gekleideten', 'Mann', ',', 'der', 'an', 'der', 'Vorderseite']"
     ]
    },
    {
     "name": "stderr",
     "output_type": "stream",
     "text": [
      "INFO:__main__:Source: Pottery and cars are shown in a parking lot with a man in a blue outfit is leaning against the front of his car . </S>\n",
      "INFO:__main__:Target Hypothesis: gemalt ist .\n",
      "INFO:__main__:Target Reference: ['seines', 'Autos', 'lehnt', '.']\n",
      "INFO:__main__:IMT F1 score: 0.0\n"
     ]
    },
    {
     "name": "stdout",
     "output_type": "stream",
     "text": [
      "\n",
      "predicting target prefix: ['Das', 'Bild', 'zeigt', 'Tonwaren', 'und', 'Autos', 'auf', 'einem', 'Parkplatz', 'und', 'einen', 'blau', 'gekleideten', 'Mann', ',', 'der', 'an', 'der', 'Vorderseite', 'seines']"
     ]
    },
    {
     "name": "stderr",
     "output_type": "stream",
     "text": [
      "INFO:__main__:Source: Pottery and cars are shown in a parking lot with a man in a blue outfit is leaning against the front of his car . </S>\n",
      "INFO:__main__:Target Hypothesis: Autos angelehnt sind .\n",
      "INFO:__main__:Target Reference: ['Autos', 'lehnt', '.']\n",
      "INFO:__main__:IMT F1 score: 0.285714285714\n"
     ]
    },
    {
     "name": "stdout",
     "output_type": "stream",
     "text": [
      "\n",
      "predicting target prefix: ['Das', 'Bild', 'zeigt', 'Tonwaren', 'und', 'Autos', 'auf', 'einem', 'Parkplatz', 'und', 'einen', 'blau', 'gekleideten', 'Mann', ',', 'der', 'an', 'der', 'Vorderseite', 'seines', 'Autos']"
     ]
    },
    {
     "name": "stderr",
     "output_type": "stream",
     "text": [
      "INFO:__main__:Source: Pottery and cars are shown in a parking lot with a man in a blue outfit is leaning against the front of his car . </S>\n",
      "INFO:__main__:Target Hypothesis: angelehnt sind .\n",
      "INFO:__main__:Target Reference: ['lehnt', '.']\n",
      "INFO:__main__:IMT F1 score: 0.0\n"
     ]
    },
    {
     "name": "stdout",
     "output_type": "stream",
     "text": [
      "\n",
      "predicting target prefix: ['Das', 'Bild', 'zeigt', 'Tonwaren', 'und', 'Autos', 'auf', 'einem', 'Parkplatz', 'und', 'einen', 'blau', 'gekleideten', 'Mann', ',', 'der', 'an', 'der', 'Vorderseite', 'seines', 'Autos', 'lehnt']"
     ]
    },
    {
     "name": "stderr",
     "output_type": "stream",
     "text": [
      "INFO:__main__:Source: Pottery and cars are shown in a parking lot with a man in a blue outfit is leaning against the front of his car . </S>\n",
      "INFO:__main__:Target Hypothesis: .\n",
      "INFO:__main__:Target Reference: ['.']\n",
      "INFO:__main__:IMT F1 score: 1.0\n"
     ]
    },
    {
     "name": "stdout",
     "output_type": "stream",
     "text": [
      "\n",
      "predicting target prefix: ['Das', 'Bild', 'zeigt', 'Tonwaren', 'und', 'Autos', 'auf', 'einem', 'Parkplatz', 'und', 'einen', 'blau', 'gekleideten', 'Mann', ',', 'der', 'an', 'der', 'Vorderseite', 'seines', 'Autos', 'lehnt', '.']"
     ]
    },
    {
     "name": "stderr",
     "output_type": "stream",
     "text": [
      "INFO:__main__:Source: Pottery and cars are shown in a parking lot with a man in a blue outfit is leaning against the front of his car . </S>\n",
      "INFO:__main__:Target Hypothesis: </S> .\n",
      "INFO:__main__:Target Reference: []\n",
      "INFO:__main__:IMT F1 score: 0.0\n",
      "INFO:__main__:Translating segment: 76\n"
     ]
    },
    {
     "name": "stdout",
     "output_type": "stream",
     "text": [
      "\n",
      "predicting target prefix: ['Zwei']"
     ]
    },
    {
     "name": "stderr",
     "output_type": "stream",
     "text": [
      "INFO:__main__:Source: Two men behind a circular bar in a room filled with people . </S>\n",
      "INFO:__main__:Target Hypothesis: Männer hinter einer runden Bar , der einen Raum voller Menschen gefüllt ist .\n",
      "INFO:__main__:Target Reference: ['M\\xc3\\xa4nner', 'hinter', 'einer', 'kreisf\\xc3\\xb6rmigen', 'Bar', 'in', 'einem', 'Raum', 'voll', 'mit', 'Menschen', '.']\n",
      "INFO:__main__:IMT F1 score: 0.230769230769\n"
     ]
    },
    {
     "name": "stdout",
     "output_type": "stream",
     "text": [
      "\n",
      "predicting target prefix: ['Zwei', 'M\\xc3\\xa4nner']"
     ]
    },
    {
     "name": "stderr",
     "output_type": "stream",
     "text": [
      "INFO:__main__:Source: Two men behind a circular bar in a room filled with people . </S>\n",
      "INFO:__main__:Target Hypothesis: hinter einer runden Bar , der einen Raum voller Menschen gefüllt ist .\n",
      "INFO:__main__:Target Reference: ['hinter', 'einer', 'kreisf\\xc3\\xb6rmigen', 'Bar', 'in', 'einem', 'Raum', 'voll', 'mit', 'Menschen', '.']\n",
      "INFO:__main__:IMT F1 score: 0.166666666667\n"
     ]
    },
    {
     "name": "stdout",
     "output_type": "stream",
     "text": [
      "\n",
      "predicting target prefix: ['Zwei', 'M\\xc3\\xa4nner', 'hinter']"
     ]
    },
    {
     "name": "stderr",
     "output_type": "stream",
     "text": [
      "INFO:__main__:Source: Two men behind a circular bar in a room filled with people . </S>\n",
      "INFO:__main__:Target Hypothesis: einer runden Bar , der einen Raum voller Menschen gefüllt ist .\n",
      "INFO:__main__:Target Reference: ['einer', 'kreisf\\xc3\\xb6rmigen', 'Bar', 'in', 'einem', 'Raum', 'voll', 'mit', 'Menschen', '.']\n",
      "INFO:__main__:IMT F1 score: 0.0909090909091\n"
     ]
    },
    {
     "name": "stdout",
     "output_type": "stream",
     "text": [
      "\n",
      "predicting target prefix: ['Zwei', 'M\\xc3\\xa4nner', 'hinter', 'einer']"
     ]
    },
    {
     "name": "stderr",
     "output_type": "stream",
     "text": [
      "INFO:__main__:Source: Two men behind a circular bar in a room filled with people . </S>\n",
      "INFO:__main__:Target Hypothesis: runden Bar , der einen Raum voller Menschen gefüllt ist .\n",
      "INFO:__main__:Target Reference: ['kreisf\\xc3\\xb6rmigen', 'Bar', 'in', 'einem', 'Raum', 'voll', 'mit', 'Menschen', '.']\n",
      "INFO:__main__:IMT F1 score: 0.0\n"
     ]
    },
    {
     "name": "stdout",
     "output_type": "stream",
     "text": [
      "\n",
      "predicting target prefix: ['Zwei', 'M\\xc3\\xa4nner', 'hinter', 'einer', 'kreisf\\xc3\\xb6rmigen']"
     ]
    },
    {
     "name": "stderr",
     "output_type": "stream",
     "text": [
      "INFO:__main__:Source: Two men behind a circular bar in a room filled with people . </S>\n",
      "INFO:__main__:Target Hypothesis: Allee an einem Raum voller Menschen .\n",
      "INFO:__main__:Target Reference: ['Bar', 'in', 'einem', 'Raum', 'voll', 'mit', 'Menschen', '.']\n",
      "INFO:__main__:IMT F1 score: 0.0\n"
     ]
    },
    {
     "name": "stdout",
     "output_type": "stream",
     "text": [
      "\n",
      "predicting target prefix: ['Zwei', 'M\\xc3\\xa4nner', 'hinter', 'einer', 'kreisf\\xc3\\xb6rmigen', 'Bar']"
     ]
    },
    {
     "name": "stderr",
     "output_type": "stream",
     "text": [
      "INFO:__main__:Source: Two men behind a circular bar in a room filled with people . </S>\n",
      "INFO:__main__:Target Hypothesis: , die in einem Raum voller Menschen gefüllt ist .\n",
      "INFO:__main__:Target Reference: ['in', 'einem', 'Raum', 'voll', 'mit', 'Menschen', '.']\n",
      "INFO:__main__:IMT F1 score: 0.0\n"
     ]
    },
    {
     "name": "stdout",
     "output_type": "stream",
     "text": [
      "\n",
      "predicting target prefix: ['Zwei', 'M\\xc3\\xa4nner', 'hinter', 'einer', 'kreisf\\xc3\\xb6rmigen', 'Bar', 'in']"
     ]
    },
    {
     "name": "stderr",
     "output_type": "stream",
     "text": [
      "INFO:__main__:Source: Two men behind a circular bar in a room filled with people . </S>\n",
      "INFO:__main__:Target Hypothesis: einem Raum voller Menschen .\n",
      "INFO:__main__:Target Reference: ['einem', 'Raum', 'voll', 'mit', 'Menschen', '.']\n",
      "INFO:__main__:IMT F1 score: 0.363636363636\n"
     ]
    },
    {
     "name": "stdout",
     "output_type": "stream",
     "text": [
      "\n",
      "predicting target prefix: ['Zwei', 'M\\xc3\\xa4nner', 'hinter', 'einer', 'kreisf\\xc3\\xb6rmigen', 'Bar', 'in', 'einem']"
     ]
    },
    {
     "name": "stderr",
     "output_type": "stream",
     "text": [
      "INFO:__main__:Source: Two men behind a circular bar in a room filled with people . </S>\n",
      "INFO:__main__:Target Hypothesis: Raum voller Menschen .\n",
      "INFO:__main__:Target Reference: ['Raum', 'voll', 'mit', 'Menschen', '.']\n",
      "INFO:__main__:IMT F1 score: 0.222222222222\n"
     ]
    },
    {
     "name": "stdout",
     "output_type": "stream",
     "text": [
      "\n",
      "predicting target prefix: ['Zwei', 'M\\xc3\\xa4nner', 'hinter', 'einer', 'kreisf\\xc3\\xb6rmigen', 'Bar', 'in', 'einem', 'Raum']"
     ]
    },
    {
     "name": "stderr",
     "output_type": "stream",
     "text": [
      "INFO:__main__:Source: Two men behind a circular bar in a room filled with people . </S>\n",
      "INFO:__main__:Target Hypothesis: voller Menschen .\n",
      "INFO:__main__:Target Reference: ['voll', 'mit', 'Menschen', '.']\n",
      "INFO:__main__:IMT F1 score: 0.0\n"
     ]
    },
    {
     "name": "stdout",
     "output_type": "stream",
     "text": [
      "\n",
      "predicting target prefix: ['Zwei', 'M\\xc3\\xa4nner', 'hinter', 'einer', 'kreisf\\xc3\\xb6rmigen', 'Bar', 'in', 'einem', 'Raum', 'voll']"
     ]
    },
    {
     "name": "stderr",
     "output_type": "stream",
     "text": [
      "INFO:__main__:Source: Two men behind a circular bar in a room filled with people . </S>\n",
      "INFO:__main__:Target Hypothesis: mit Menschen .\n",
      "INFO:__main__:Target Reference: ['mit', 'Menschen', '.']\n",
      "INFO:__main__:IMT F1 score: 1.0\n"
     ]
    },
    {
     "name": "stdout",
     "output_type": "stream",
     "text": [
      "\n",
      "predicting target prefix: ['Zwei', 'M\\xc3\\xa4nner', 'hinter', 'einer', 'kreisf\\xc3\\xb6rmigen', 'Bar', 'in', 'einem', 'Raum', 'voll', 'mit']"
     ]
    },
    {
     "name": "stderr",
     "output_type": "stream",
     "text": [
      "INFO:__main__:Source: Two men behind a circular bar in a room filled with people . </S>\n",
      "INFO:__main__:Target Hypothesis: Menschen .\n",
      "INFO:__main__:Target Reference: ['Menschen', '.']\n",
      "INFO:__main__:IMT F1 score: 1.0\n"
     ]
    },
    {
     "name": "stdout",
     "output_type": "stream",
     "text": [
      "\n",
      "predicting target prefix: ['Zwei', 'M\\xc3\\xa4nner', 'hinter', 'einer', 'kreisf\\xc3\\xb6rmigen', 'Bar', 'in', 'einem', 'Raum', 'voll', 'mit', 'Menschen']"
     ]
    },
    {
     "name": "stderr",
     "output_type": "stream",
     "text": [
      "INFO:__main__:Source: Two men behind a circular bar in a room filled with people . </S>\n",
      "INFO:__main__:Target Hypothesis: .\n",
      "INFO:__main__:Target Reference: ['.']\n",
      "INFO:__main__:IMT F1 score: 1.0\n"
     ]
    },
    {
     "name": "stdout",
     "output_type": "stream",
     "text": [
      "\n",
      "predicting target prefix: ['Zwei', 'M\\xc3\\xa4nner', 'hinter', 'einer', 'kreisf\\xc3\\xb6rmigen', 'Bar', 'in', 'einem', 'Raum', 'voll', 'mit', 'Menschen', '.']"
     ]
    },
    {
     "name": "stderr",
     "output_type": "stream",
     "text": [
      "INFO:__main__:Source: Two men behind a circular bar in a room filled with people . </S>\n",
      "INFO:__main__:Target Hypothesis: </S> .\n",
      "INFO:__main__:Target Reference: []\n",
      "INFO:__main__:IMT F1 score: 0.0\n",
      "INFO:__main__:Translating segment: 77\n"
     ]
    },
    {
     "name": "stdout",
     "output_type": "stream",
     "text": [
      "\n",
      "predicting target prefix: ['M\\xc3\\xa4nner']"
     ]
    },
    {
     "name": "stderr",
     "output_type": "stream",
     "text": [
      "INFO:__main__:Source: Men and women are waiting for a train to stop . </S>\n",
      "INFO:__main__:Target Hypothesis: und Frauen warten auf eine Schlange .\n",
      "INFO:__main__:Target Reference: ['und', 'Frauen', 'warten', 'darauf', ',', 'dass', 'ein', 'Zug', 'h\\xc3\\xa4lt', '.']\n",
      "INFO:__main__:IMT F1 score: 0.352941176471\n"
     ]
    },
    {
     "name": "stdout",
     "output_type": "stream",
     "text": [
      "\n",
      "predicting target prefix: ['M\\xc3\\xa4nner', 'und']"
     ]
    },
    {
     "name": "stderr",
     "output_type": "stream",
     "text": [
      "INFO:__main__:Source: Men and women are waiting for a train to stop . </S>\n",
      "INFO:__main__:Target Hypothesis: Frauen warten auf eine Schlange .\n",
      "INFO:__main__:Target Reference: ['Frauen', 'warten', 'darauf', ',', 'dass', 'ein', 'Zug', 'h\\xc3\\xa4lt', '.']\n",
      "INFO:__main__:IMT F1 score: 0.266666666667\n"
     ]
    },
    {
     "name": "stdout",
     "output_type": "stream",
     "text": [
      "\n",
      "predicting target prefix: ['M\\xc3\\xa4nner', 'und', 'Frauen']"
     ]
    },
    {
     "name": "stderr",
     "output_type": "stream",
     "text": [
      "INFO:__main__:Source: Men and women are waiting for a train to stop . </S>\n",
      "INFO:__main__:Target Hypothesis: warten auf eine Schlange vor .\n",
      "INFO:__main__:Target Reference: ['warten', 'darauf', ',', 'dass', 'ein', 'Zug', 'h\\xc3\\xa4lt', '.']\n",
      "INFO:__main__:IMT F1 score: 0.142857142857\n"
     ]
    },
    {
     "name": "stdout",
     "output_type": "stream",
     "text": [
      "\n",
      "predicting target prefix: ['M\\xc3\\xa4nner', 'und', 'Frauen', 'warten']"
     ]
    },
    {
     "name": "stderr",
     "output_type": "stream",
     "text": [
      "INFO:__main__:Source: Men and women are waiting for a train to stop . </S>\n",
      "INFO:__main__:Target Hypothesis: auf eine Schlange vor .\n",
      "INFO:__main__:Target Reference: ['darauf', ',', 'dass', 'ein', 'Zug', 'h\\xc3\\xa4lt', '.']\n",
      "INFO:__main__:IMT F1 score: 0.0\n"
     ]
    },
    {
     "name": "stdout",
     "output_type": "stream",
     "text": [
      "\n",
      "predicting target prefix: ['M\\xc3\\xa4nner', 'und', 'Frauen', 'warten', 'darauf']"
     ]
    },
    {
     "name": "stderr",
     "output_type": "stream",
     "text": [
      "INFO:__main__:Source: Men and women are waiting for a train to stop . </S>\n",
      "INFO:__main__:Target Hypothesis: , um eine Schlange zu Zug .\n",
      "INFO:__main__:Target Reference: [',', 'dass', 'ein', 'Zug', 'h\\xc3\\xa4lt', '.']\n",
      "INFO:__main__:IMT F1 score: 0.153846153846\n"
     ]
    },
    {
     "name": "stdout",
     "output_type": "stream",
     "text": [
      "\n",
      "predicting target prefix: ['M\\xc3\\xa4nner', 'und', 'Frauen', 'warten', 'darauf', ',']"
     ]
    },
    {
     "name": "stderr",
     "output_type": "stream",
     "text": [
      "INFO:__main__:Source: Men and women are waiting for a train to stop . </S>\n",
      "INFO:__main__:Target Hypothesis: um eine Schlange zu Zug .\n",
      "INFO:__main__:Target Reference: ['dass', 'ein', 'Zug', 'h\\xc3\\xa4lt', '.']\n",
      "INFO:__main__:IMT F1 score: 0.0\n"
     ]
    },
    {
     "name": "stdout",
     "output_type": "stream",
     "text": [
      "\n",
      "predicting target prefix: ['M\\xc3\\xa4nner', 'und', 'Frauen', 'warten', 'darauf', ',', 'dass']"
     ]
    },
    {
     "name": "stderr",
     "output_type": "stream",
     "text": [
      "INFO:__main__:Source: Men and women are waiting for a train to stop . </S>\n",
      "INFO:__main__:Target Hypothesis: eine Schlange vor einem Zug ist .\n",
      "INFO:__main__:Target Reference: ['ein', 'Zug', 'h\\xc3\\xa4lt', '.']\n",
      "INFO:__main__:IMT F1 score: 0.0\n"
     ]
    },
    {
     "name": "stdout",
     "output_type": "stream",
     "text": [
      "\n",
      "predicting target prefix: ['M\\xc3\\xa4nner', 'und', 'Frauen', 'warten', 'darauf', ',', 'dass', 'ein']"
     ]
    },
    {
     "name": "stderr",
     "output_type": "stream",
     "text": [
      "INFO:__main__:Source: Men and women are waiting for a train to stop . </S>\n",
      "INFO:__main__:Target Hypothesis: Zug auf eine Schlange zu sind .\n",
      "INFO:__main__:Target Reference: ['Zug', 'h\\xc3\\xa4lt', '.']\n",
      "INFO:__main__:IMT F1 score: 0.2\n"
     ]
    },
    {
     "name": "stdout",
     "output_type": "stream",
     "text": [
      "\n",
      "predicting target prefix: ['M\\xc3\\xa4nner', 'und', 'Frauen', 'warten', 'darauf', ',', 'dass', 'ein', 'Zug']"
     ]
    },
    {
     "name": "stderr",
     "output_type": "stream",
     "text": [
      "INFO:__main__:Source: Men and women are waiting for a train to stop . </S>\n",
      "INFO:__main__:Target Hypothesis: auf eine Schlange zu sind .\n",
      "INFO:__main__:Target Reference: ['h\\xc3\\xa4lt', '.']\n",
      "INFO:__main__:IMT F1 score: 0.0\n"
     ]
    },
    {
     "name": "stdout",
     "output_type": "stream",
     "text": [
      "\n",
      "predicting target prefix: ['M\\xc3\\xa4nner', 'und', 'Frauen', 'warten', 'darauf', ',', 'dass', 'ein', 'Zug', 'h\\xc3\\xa4lt']"
     ]
    },
    {
     "name": "stderr",
     "output_type": "stream",
     "text": [
      "INFO:__main__:Source: Men and women are waiting for a train to stop . </S>\n",
      "INFO:__main__:Target Hypothesis: .\n",
      "INFO:__main__:Target Reference: ['.']\n",
      "INFO:__main__:IMT F1 score: 1.0\n"
     ]
    },
    {
     "name": "stdout",
     "output_type": "stream",
     "text": [
      "\n",
      "predicting target prefix: ['M\\xc3\\xa4nner', 'und', 'Frauen', 'warten', 'darauf', ',', 'dass', 'ein', 'Zug', 'h\\xc3\\xa4lt', '.']"
     ]
    },
    {
     "name": "stderr",
     "output_type": "stream",
     "text": [
      "INFO:__main__:Source: Men and women are waiting for a train to stop . </S>\n",
      "INFO:__main__:Target Hypothesis: </S> .\n",
      "INFO:__main__:Target Reference: []\n",
      "INFO:__main__:IMT F1 score: 0.0\n",
      "INFO:__main__:Translating segment: 78\n"
     ]
    },
    {
     "name": "stdout",
     "output_type": "stream",
     "text": [
      "\n",
      "predicting target prefix: ['Kinder']"
     ]
    },
    {
     "name": "stderr",
     "output_type": "stream",
     "text": [
      "INFO:__main__:Source: Kids conversing and learning in class . </S>\n",
      "INFO:__main__:Target Hypothesis: unterhalten sich und lernen .\n",
      "INFO:__main__:Target Reference: ['einer', 'Schulklasse', 'sprechen', 'miteinander', 'und', 'lernen', '.']\n",
      "INFO:__main__:IMT F1 score: 0.0\n"
     ]
    },
    {
     "name": "stdout",
     "output_type": "stream",
     "text": [
      "\n",
      "predicting target prefix: ['Kinder', 'einer']"
     ]
    },
    {
     "name": "stderr",
     "output_type": "stream",
     "text": [
      "INFO:__main__:Source: Kids conversing and learning in class . </S>\n",
      "INFO:__main__:Target Hypothesis: singt und lernen im Kleider .\n",
      "INFO:__main__:Target Reference: ['Schulklasse', 'sprechen', 'miteinander', 'und', 'lernen', '.']\n",
      "INFO:__main__:IMT F1 score: 0.0\n"
     ]
    },
    {
     "name": "stdout",
     "output_type": "stream",
     "text": [
      "\n",
      "predicting target prefix: ['Kinder', 'einer', 'Schulklasse']"
     ]
    },
    {
     "name": "stderr",
     "output_type": "stream",
     "text": [
      "INFO:__main__:Source: Kids conversing and learning in class . </S>\n",
      "INFO:__main__:Target Hypothesis: , die im Kleider lernen .\n",
      "INFO:__main__:Target Reference: ['sprechen', 'miteinander', 'und', 'lernen', '.']\n",
      "INFO:__main__:IMT F1 score: 0.0\n"
     ]
    },
    {
     "name": "stdout",
     "output_type": "stream",
     "text": [
      "\n",
      "predicting target prefix: ['Kinder', 'einer', 'Schulklasse', 'sprechen']"
     ]
    },
    {
     "name": "stderr",
     "output_type": "stream",
     "text": [
      "INFO:__main__:Source: Kids conversing and learning in class . </S>\n",
      "INFO:__main__:Target Hypothesis: und lernen im Musik .\n",
      "INFO:__main__:Target Reference: ['miteinander', 'und', 'lernen', '.']\n",
      "INFO:__main__:IMT F1 score: 0.0\n"
     ]
    },
    {
     "name": "stdout",
     "output_type": "stream",
     "text": [
      "\n",
      "predicting target prefix: ['Kinder', 'einer', 'Schulklasse', 'sprechen', 'miteinander']"
     ]
    },
    {
     "name": "stderr",
     "output_type": "stream",
     "text": [
      "INFO:__main__:Source: Kids conversing and learning in class . </S>\n",
      "INFO:__main__:Target Hypothesis: im Werkunterricht .\n",
      "INFO:__main__:Target Reference: ['und', 'lernen', '.']\n",
      "INFO:__main__:IMT F1 score: 0.0\n",
      "INFO:__main__:Source: Kids conversing and learning in class . </S>\n",
      "INFO:__main__:Target Hypothesis: lernen .\n",
      "INFO:__main__:Target Reference: ['lernen', '.']\n",
      "INFO:__main__:IMT F1 score: 1.0\n"
     ]
    },
    {
     "name": "stdout",
     "output_type": "stream",
     "text": [
      "\n",
      "predicting target prefix: ['Kinder', 'einer', 'Schulklasse', 'sprechen', 'miteinander', 'und']\n",
      "predicting target prefix: ['Kinder', 'einer', 'Schulklasse', 'sprechen', 'miteinander', 'und', 'lernen']"
     ]
    },
    {
     "name": "stderr",
     "output_type": "stream",
     "text": [
      "INFO:__main__:Source: Kids conversing and learning in class . </S>\n",
      "INFO:__main__:Target Hypothesis: .\n",
      "INFO:__main__:Target Reference: ['.']\n",
      "INFO:__main__:IMT F1 score: 1.0\n",
      "INFO:__main__:Source: Kids conversing and learning in class . </S>\n",
      "INFO:__main__:Target Hypothesis: </S> .\n",
      "INFO:__main__:Target Reference: []\n",
      "INFO:__main__:IMT F1 score: 0.0\n",
      "INFO:__main__:Translating segment: 79\n"
     ]
    },
    {
     "name": "stdout",
     "output_type": "stream",
     "text": [
      "\n",
      "predicting target prefix: ['Kinder', 'einer', 'Schulklasse', 'sprechen', 'miteinander', 'und', 'lernen', '.']\n",
      "predicting target prefix: ['Ein']"
     ]
    },
    {
     "name": "stderr",
     "output_type": "stream",
     "text": [
      "INFO:__main__:Source: A man is singing into a microphone while his band plays . </S>\n",
      "INFO:__main__:Target Hypothesis: Mann singt in ein Mikrofon , während sein Band spielt .\n",
      "INFO:__main__:Target Reference: ['Mann', 'singt', 'in', 'ein', 'Mikrofon', ',', 'w\\xc3\\xa4hrend', 'seine', 'Band', 'spielt', '.']\n",
      "INFO:__main__:IMT F1 score: 0.636363636364\n"
     ]
    },
    {
     "name": "stdout",
     "output_type": "stream",
     "text": [
      "\n",
      "predicting target prefix: ['Ein', 'Mann']"
     ]
    },
    {
     "name": "stderr",
     "output_type": "stream",
     "text": [
      "INFO:__main__:Source: A man is singing into a microphone while his band plays . </S>\n",
      "INFO:__main__:Target Hypothesis: singt in ein Mikrofon , während sein Band spielt .\n",
      "INFO:__main__:Target Reference: ['singt', 'in', 'ein', 'Mikrofon', ',', 'w\\xc3\\xa4hrend', 'seine', 'Band', 'spielt', '.']\n",
      "INFO:__main__:IMT F1 score: 0.6\n"
     ]
    },
    {
     "name": "stdout",
     "output_type": "stream",
     "text": [
      "\n",
      "predicting target prefix: ['Ein', 'Mann', 'singt']"
     ]
    },
    {
     "name": "stderr",
     "output_type": "stream",
     "text": [
      "INFO:__main__:Source: A man is singing into a microphone while his band plays . </S>\n",
      "INFO:__main__:Target Hypothesis: in ein Mikrofon , während sein Band spielt .\n",
      "INFO:__main__:Target Reference: ['in', 'ein', 'Mikrofon', ',', 'w\\xc3\\xa4hrend', 'seine', 'Band', 'spielt', '.']\n",
      "INFO:__main__:IMT F1 score: 0.555555555556\n"
     ]
    },
    {
     "name": "stdout",
     "output_type": "stream",
     "text": [
      "\n",
      "predicting target prefix: ['Ein', 'Mann', 'singt', 'in']"
     ]
    },
    {
     "name": "stderr",
     "output_type": "stream",
     "text": [
      "INFO:__main__:Source: A man is singing into a microphone while his band plays . </S>\n",
      "INFO:__main__:Target Hypothesis: ein Mikrofon , während sein Band spielt .\n",
      "INFO:__main__:Target Reference: ['ein', 'Mikrofon', ',', 'w\\xc3\\xa4hrend', 'seine', 'Band', 'spielt', '.']\n",
      "INFO:__main__:IMT F1 score: 0.5\n"
     ]
    },
    {
     "name": "stdout",
     "output_type": "stream",
     "text": [
      "\n",
      "predicting target prefix: ['Ein', 'Mann', 'singt', 'in', 'ein']"
     ]
    },
    {
     "name": "stderr",
     "output_type": "stream",
     "text": [
      "INFO:__main__:Source: A man is singing into a microphone while his band plays . </S>\n",
      "INFO:__main__:Target Hypothesis: Mikrofon , während sein Band spielt .\n",
      "INFO:__main__:Target Reference: ['Mikrofon', ',', 'w\\xc3\\xa4hrend', 'seine', 'Band', 'spielt', '.']\n",
      "INFO:__main__:IMT F1 score: 0.428571428571\n"
     ]
    },
    {
     "name": "stdout",
     "output_type": "stream",
     "text": [
      "\n",
      "predicting target prefix: ['Ein', 'Mann', 'singt', 'in', 'ein', 'Mikrofon']"
     ]
    },
    {
     "name": "stderr",
     "output_type": "stream",
     "text": [
      "INFO:__main__:Source: A man is singing into a microphone while his band plays . </S>\n",
      "INFO:__main__:Target Hypothesis: , während sein Band spielt .\n",
      "INFO:__main__:Target Reference: [',', 'w\\xc3\\xa4hrend', 'seine', 'Band', 'spielt', '.']\n",
      "INFO:__main__:IMT F1 score: 0.333333333333\n"
     ]
    },
    {
     "name": "stdout",
     "output_type": "stream",
     "text": [
      "\n",
      "predicting target prefix: ['Ein', 'Mann', 'singt', 'in', 'ein', 'Mikrofon', ',']"
     ]
    },
    {
     "name": "stderr",
     "output_type": "stream",
     "text": [
      "INFO:__main__:Source: A man is singing into a microphone while his band plays . </S>\n",
      "INFO:__main__:Target Hypothesis: während sein Band spielt .\n",
      "INFO:__main__:Target Reference: ['w\\xc3\\xa4hrend', 'seine', 'Band', 'spielt', '.']\n",
      "INFO:__main__:IMT F1 score: 0.2\n"
     ]
    },
    {
     "name": "stdout",
     "output_type": "stream",
     "text": [
      "\n",
      "predicting target prefix: ['Ein', 'Mann', 'singt', 'in', 'ein', 'Mikrofon', ',', 'w\\xc3\\xa4hrend']"
     ]
    },
    {
     "name": "stderr",
     "output_type": "stream",
     "text": [
      "INFO:__main__:Source: A man is singing into a microphone while his band plays . </S>\n",
      "INFO:__main__:Target Hypothesis: sein Band spielt .\n",
      "INFO:__main__:Target Reference: ['seine', 'Band', 'spielt', '.']\n",
      "INFO:__main__:IMT F1 score: 0.0\n"
     ]
    },
    {
     "name": "stdout",
     "output_type": "stream",
     "text": [
      "\n",
      "predicting target prefix: ['Ein', 'Mann', 'singt', 'in', 'ein', 'Mikrofon', ',', 'w\\xc3\\xa4hrend', 'seine']"
     ]
    },
    {
     "name": "stderr",
     "output_type": "stream",
     "text": [
      "INFO:__main__:Source: A man is singing into a microphone while his band plays . </S>\n",
      "INFO:__main__:Target Hypothesis: Band Tennis singt .\n",
      "INFO:__main__:Target Reference: ['Band', 'spielt', '.']\n",
      "INFO:__main__:IMT F1 score: 0.285714285714\n"
     ]
    },
    {
     "name": "stdout",
     "output_type": "stream",
     "text": [
      "\n",
      "predicting target prefix: ['Ein', 'Mann', 'singt', 'in', 'ein', 'Mikrofon', ',', 'w\\xc3\\xa4hrend', 'seine', 'Band']"
     ]
    },
    {
     "name": "stderr",
     "output_type": "stream",
     "text": [
      "INFO:__main__:Source: A man is singing into a microphone while his band plays . </S>\n",
      "INFO:__main__:Target Hypothesis: Tennis singt .\n",
      "INFO:__main__:Target Reference: ['spielt', '.']\n",
      "INFO:__main__:IMT F1 score: 0.0\n"
     ]
    },
    {
     "name": "stdout",
     "output_type": "stream",
     "text": [
      "\n",
      "predicting target prefix: ['Ein', 'Mann', 'singt', 'in', 'ein', 'Mikrofon', ',', 'w\\xc3\\xa4hrend', 'seine', 'Band', 'spielt']"
     ]
    },
    {
     "name": "stderr",
     "output_type": "stream",
     "text": [
      "INFO:__main__:Source: A man is singing into a microphone while his band plays . </S>\n",
      "INFO:__main__:Target Hypothesis: .\n",
      "INFO:__main__:Target Reference: ['.']\n",
      "INFO:__main__:IMT F1 score: 1.0\n"
     ]
    },
    {
     "name": "stdout",
     "output_type": "stream",
     "text": [
      "\n",
      "predicting target prefix: ['Ein', 'Mann', 'singt', 'in', 'ein', 'Mikrofon', ',', 'w\\xc3\\xa4hrend', 'seine', 'Band', 'spielt', '.']"
     ]
    },
    {
     "name": "stderr",
     "output_type": "stream",
     "text": [
      "INFO:__main__:Source: A man is singing into a microphone while his band plays . </S>\n",
      "INFO:__main__:Target Hypothesis: </S> .\n",
      "INFO:__main__:Target Reference: []\n",
      "INFO:__main__:IMT F1 score: 0.0\n",
      "INFO:__main__:Translating segment: 80\n"
     ]
    },
    {
     "name": "stdout",
     "output_type": "stream",
     "text": [
      "\n",
      "predicting target prefix: ['Ein']"
     ]
    },
    {
     "name": "stderr",
     "output_type": "stream",
     "text": [
      "INFO:__main__:Source: A singer performing along with the crowd . </S>\n",
      "INFO:__main__:Target Hypothesis: Sänger tritt mit der Zuschauermenge vor .\n",
      "INFO:__main__:Target Reference: ['S\\xc3\\xa4nger', 'singt', 'zusammen', 'mit', 'dem', 'Publikum', 'bei', 'einem', 'Auftritt', '.']\n",
      "INFO:__main__:IMT F1 score: 0.117647058824\n"
     ]
    },
    {
     "name": "stdout",
     "output_type": "stream",
     "text": [
      "\n",
      "predicting target prefix: ['Ein', 'S\\xc3\\xa4nger']"
     ]
    },
    {
     "name": "stderr",
     "output_type": "stream",
     "text": [
      "INFO:__main__:Source: A singer performing along with the crowd . </S>\n",
      "INFO:__main__:Target Hypothesis: tritt mit der Zuschauermenge vor .\n",
      "INFO:__main__:Target Reference: ['singt', 'zusammen', 'mit', 'dem', 'Publikum', 'bei', 'einem', 'Auftritt', '.']\n",
      "INFO:__main__:IMT F1 score: 0.0\n"
     ]
    },
    {
     "name": "stdout",
     "output_type": "stream",
     "text": [
      "\n",
      "predicting target prefix: ['Ein', 'S\\xc3\\xa4nger', 'singt']"
     ]
    },
    {
     "name": "stderr",
     "output_type": "stream",
     "text": [
      "INFO:__main__:Source: A singer performing along with the crowd . </S>\n",
      "INFO:__main__:Target Hypothesis: mit der Zuschauermenge .\n",
      "INFO:__main__:Target Reference: ['zusammen', 'mit', 'dem', 'Publikum', 'bei', 'einem', 'Auftritt', '.']\n",
      "INFO:__main__:IMT F1 score: 0.0\n"
     ]
    },
    {
     "name": "stdout",
     "output_type": "stream",
     "text": [
      "\n",
      "predicting target prefix: ['Ein', 'S\\xc3\\xa4nger', 'singt', 'zusammen']"
     ]
    },
    {
     "name": "stderr",
     "output_type": "stream",
     "text": [
      "INFO:__main__:Source: A singer performing along with the crowd . </S>\n",
      "INFO:__main__:Target Hypothesis: mit der Zuschauermenge .\n",
      "INFO:__main__:Target Reference: ['mit', 'dem', 'Publikum', 'bei', 'einem', 'Auftritt', '.']\n",
      "INFO:__main__:IMT F1 score: 0.181818181818\n",
      "INFO:__main__:Source: A singer performing along with the crowd . </S>\n",
      "INFO:__main__:Target Hypothesis: der Zuschauermenge .\n",
      "INFO:__main__:Target Reference: ['dem', 'Publikum', 'bei', 'einem', 'Auftritt', '.']\n",
      "INFO:__main__:IMT F1 score: 0.0\n"
     ]
    },
    {
     "name": "stdout",
     "output_type": "stream",
     "text": [
      "\n",
      "predicting target prefix: ['Ein', 'S\\xc3\\xa4nger', 'singt', 'zusammen', 'mit']\n",
      "predicting target prefix: ['Ein', 'S\\xc3\\xa4nger', 'singt', 'zusammen', 'mit', 'dem']"
     ]
    },
    {
     "name": "stderr",
     "output_type": "stream",
     "text": [
      "INFO:__main__:Source: A singer performing along with the crowd . </S>\n",
      "INFO:__main__:Target Hypothesis: Publikum .\n",
      "INFO:__main__:Target Reference: ['Publikum', 'bei', 'einem', 'Auftritt', '.']\n",
      "INFO:__main__:IMT F1 score: 0.285714285714\n",
      "INFO:__main__:Source: A singer performing along with the crowd . </S>\n",
      "INFO:__main__:Target Hypothesis: .\n",
      "INFO:__main__:Target Reference: ['bei', 'einem', 'Auftritt', '.']\n",
      "INFO:__main__:IMT F1 score: 0.0\n"
     ]
    },
    {
     "name": "stdout",
     "output_type": "stream",
     "text": [
      "\n",
      "predicting target prefix: ['Ein', 'S\\xc3\\xa4nger', 'singt', 'zusammen', 'mit', 'dem', 'Publikum']\n",
      "predicting target prefix: ['Ein', 'S\\xc3\\xa4nger', 'singt', 'zusammen', 'mit', 'dem', 'Publikum', 'bei']"
     ]
    },
    {
     "name": "stderr",
     "output_type": "stream",
     "text": [
      "INFO:__main__:Source: A singer performing along with the crowd . </S>\n",
      "INFO:__main__:Target Hypothesis: .\n",
      "INFO:__main__:Target Reference: ['einem', 'Auftritt', '.']\n",
      "INFO:__main__:IMT F1 score: 0.0\n",
      "INFO:__main__:Source: A singer performing along with the crowd . </S>\n",
      "INFO:__main__:Target Hypothesis: .\n",
      "INFO:__main__:Target Reference: ['Auftritt', '.']\n",
      "INFO:__main__:IMT F1 score: 0.0\n"
     ]
    },
    {
     "name": "stdout",
     "output_type": "stream",
     "text": [
      "\n",
      "predicting target prefix: ['Ein', 'S\\xc3\\xa4nger', 'singt', 'zusammen', 'mit', 'dem', 'Publikum', 'bei', 'einem']\n",
      "predicting target prefix: ['Ein', 'S\\xc3\\xa4nger', 'singt', 'zusammen', 'mit', 'dem', 'Publikum', 'bei', 'einem', 'Auftritt']"
     ]
    },
    {
     "name": "stderr",
     "output_type": "stream",
     "text": [
      "INFO:__main__:Source: A singer performing along with the crowd . </S>\n",
      "INFO:__main__:Target Hypothesis: .\n",
      "INFO:__main__:Target Reference: ['.']\n",
      "INFO:__main__:IMT F1 score: 1.0\n",
      "INFO:__main__:Source: A singer performing along with the crowd . </S>\n",
      "INFO:__main__:Target Hypothesis: </S> .\n",
      "INFO:__main__:Target Reference: []\n",
      "INFO:__main__:IMT F1 score: 0.0\n",
      "INFO:__main__:Translating segment: 81\n"
     ]
    },
    {
     "name": "stdout",
     "output_type": "stream",
     "text": [
      "\n",
      "predicting target prefix: ['Ein', 'S\\xc3\\xa4nger', 'singt', 'zusammen', 'mit', 'dem', 'Publikum', 'bei', 'einem', 'Auftritt', '.']\n",
      "predicting target prefix: ['Eine']"
     ]
    },
    {
     "name": "stderr",
     "output_type": "stream",
     "text": [
      "INFO:__main__:Source: An elderly woman wearing a blue hat is sitting on the sidewalk chopping something yellow on a board beside her . </S>\n",
      "INFO:__main__:Target Hypothesis: ältere Frau mit einem blauen Hut sitzt auf dem Bürgersteig und schneidet etwas auf einem Brett neben ihr Gesicht .\n",
      "INFO:__main__:Target Reference: ['\\xc3\\xa4ltere', 'Frau', 'mit', 'einer', 'blauen', 'M\\xc3\\xbctze', 'sitzt', 'auf', 'dem', 'Gehweg', 'und', 'hackt', 'etwas', 'Gelbes', 'auf', 'einem', 'Brett', 'neben', 'sich', '.']\n",
      "INFO:__main__:IMT F1 score: 0.15\n"
     ]
    },
    {
     "name": "stdout",
     "output_type": "stream",
     "text": [
      "\n",
      "predicting target prefix: ['Eine', '\\xc3\\xa4ltere']"
     ]
    },
    {
     "name": "stderr",
     "output_type": "stream",
     "text": [
      "INFO:__main__:Source: An elderly woman wearing a blue hat is sitting on the sidewalk chopping something yellow on a board beside her . </S>\n",
      "INFO:__main__:Target Hypothesis: Frau mit einem blauen Hut sitzt auf dem Bürgersteig und schneidet etwas auf einem Brett neben ihr Gesicht .\n",
      "INFO:__main__:Target Reference: ['Frau', 'mit', 'einer', 'blauen', 'M\\xc3\\xbctze', 'sitzt', 'auf', 'dem', 'Gehweg', 'und', 'hackt', 'etwas', 'Gelbes', 'auf', 'einem', 'Brett', 'neben', 'sich', '.']\n",
      "INFO:__main__:IMT F1 score: 0.105263157895\n"
     ]
    },
    {
     "name": "stdout",
     "output_type": "stream",
     "text": [
      "\n",
      "predicting target prefix: ['Eine', '\\xc3\\xa4ltere', 'Frau']"
     ]
    },
    {
     "name": "stderr",
     "output_type": "stream",
     "text": [
      "INFO:__main__:Source: An elderly woman wearing a blue hat is sitting on the sidewalk chopping something yellow on a board beside her . </S>\n",
      "INFO:__main__:Target Hypothesis: mit einem blauen Hut sitzt auf dem Bürgersteig und schneidet etwas auf einem Brett neben ihr Gesicht .\n",
      "INFO:__main__:Target Reference: ['mit', 'einer', 'blauen', 'M\\xc3\\xbctze', 'sitzt', 'auf', 'dem', 'Gehweg', 'und', 'hackt', 'etwas', 'Gelbes', 'auf', 'einem', 'Brett', 'neben', 'sich', '.']\n",
      "INFO:__main__:IMT F1 score: 0.0555555555556\n"
     ]
    },
    {
     "name": "stdout",
     "output_type": "stream",
     "text": [
      "\n",
      "predicting target prefix: ['Eine', '\\xc3\\xa4ltere', 'Frau', 'mit']"
     ]
    },
    {
     "name": "stderr",
     "output_type": "stream",
     "text": [
      "INFO:__main__:Source: An elderly woman wearing a blue hat is sitting on the sidewalk chopping something yellow on a board beside her . </S>\n",
      "INFO:__main__:Target Hypothesis: einem blauen Hut sitzt auf dem Bürgersteig und schneidet etwas auf einem Brett neben ihr Gesicht .\n",
      "INFO:__main__:Target Reference: ['einer', 'blauen', 'M\\xc3\\xbctze', 'sitzt', 'auf', 'dem', 'Gehweg', 'und', 'hackt', 'etwas', 'Gelbes', 'auf', 'einem', 'Brett', 'neben', 'sich', '.']\n",
      "INFO:__main__:IMT F1 score: 0.0\n"
     ]
    },
    {
     "name": "stdout",
     "output_type": "stream",
     "text": [
      "\n",
      "predicting target prefix: ['Eine', '\\xc3\\xa4ltere', 'Frau', 'mit', 'einer']"
     ]
    },
    {
     "name": "stderr",
     "output_type": "stream",
     "text": [
      "INFO:__main__:Source: An elderly woman wearing a blue hat is sitting on the sidewalk chopping something yellow on a board beside her . </S>\n",
      "INFO:__main__:Target Hypothesis: blauen Kopfbedeckung sitzt auf dem Bürgersteig und schneidet etwas auf einem Brett neben ihr Gesicht .\n",
      "INFO:__main__:Target Reference: ['blauen', 'M\\xc3\\xbctze', 'sitzt', 'auf', 'dem', 'Gehweg', 'und', 'hackt', 'etwas', 'Gelbes', 'auf', 'einem', 'Brett', 'neben', 'sich', '.']\n",
      "INFO:__main__:IMT F1 score: 0.0625\n"
     ]
    },
    {
     "name": "stdout",
     "output_type": "stream",
     "text": [
      "\n",
      "predicting target prefix: ['Eine', '\\xc3\\xa4ltere', 'Frau', 'mit', 'einer', 'blauen']"
     ]
    },
    {
     "name": "stderr",
     "output_type": "stream",
     "text": [
      "INFO:__main__:Source: An elderly woman wearing a blue hat is sitting on the sidewalk chopping something yellow on a board beside her . </S>\n",
      "INFO:__main__:Target Hypothesis: Kopfbedeckung sitzt auf dem Bürgersteig und schneidet etwas auf einem Brett neben ihr Gesicht .\n",
      "INFO:__main__:Target Reference: ['M\\xc3\\xbctze', 'sitzt', 'auf', 'dem', 'Gehweg', 'und', 'hackt', 'etwas', 'Gelbes', 'auf', 'einem', 'Brett', 'neben', 'sich', '.']\n",
      "INFO:__main__:IMT F1 score: 0.0\n"
     ]
    },
    {
     "name": "stdout",
     "output_type": "stream",
     "text": [
      "\n",
      "predicting target prefix: ['Eine', '\\xc3\\xa4ltere', 'Frau', 'mit', 'einer', 'blauen', 'M\\xc3\\xbctze']"
     ]
    },
    {
     "name": "stderr",
     "output_type": "stream",
     "text": [
      "INFO:__main__:Source: An elderly woman wearing a blue hat is sitting on the sidewalk chopping something yellow on a board beside her . </S>\n",
      "INFO:__main__:Target Hypothesis: sitzt auf dem Bürgersteig und schneidet etwas auf einem Brett neben ihr Gesicht .\n",
      "INFO:__main__:Target Reference: ['sitzt', 'auf', 'dem', 'Gehweg', 'und', 'hackt', 'etwas', 'Gelbes', 'auf', 'einem', 'Brett', 'neben', 'sich', '.']\n",
      "INFO:__main__:IMT F1 score: 0.214285714286\n"
     ]
    },
    {
     "name": "stdout",
     "output_type": "stream",
     "text": [
      "\n",
      "predicting target prefix: ['Eine', '\\xc3\\xa4ltere', 'Frau', 'mit', 'einer', 'blauen', 'M\\xc3\\xbctze', 'sitzt']"
     ]
    },
    {
     "name": "stderr",
     "output_type": "stream",
     "text": [
      "INFO:__main__:Source: An elderly woman wearing a blue hat is sitting on the sidewalk chopping something yellow on a board beside her . </S>\n",
      "INFO:__main__:Target Hypothesis: auf dem Bürgersteig und schneidet etwas auf einem Brett neben ihr Gesicht .\n",
      "INFO:__main__:Target Reference: ['auf', 'dem', 'Gehweg', 'und', 'hackt', 'etwas', 'Gelbes', 'auf', 'einem', 'Brett', 'neben', 'sich', '.']\n",
      "INFO:__main__:IMT F1 score: 0.153846153846\n"
     ]
    },
    {
     "name": "stdout",
     "output_type": "stream",
     "text": [
      "\n",
      "predicting target prefix: ['Eine', '\\xc3\\xa4ltere', 'Frau', 'mit', 'einer', 'blauen', 'M\\xc3\\xbctze', 'sitzt', 'auf']"
     ]
    },
    {
     "name": "stderr",
     "output_type": "stream",
     "text": [
      "INFO:__main__:Source: An elderly woman wearing a blue hat is sitting on the sidewalk chopping something yellow on a board beside her . </S>\n",
      "INFO:__main__:Target Hypothesis: dem Bürgersteig und schneidet etwas auf einem Brett neben ihr Gesicht .\n",
      "INFO:__main__:Target Reference: ['dem', 'Gehweg', 'und', 'hackt', 'etwas', 'Gelbes', 'auf', 'einem', 'Brett', 'neben', 'sich', '.']\n",
      "INFO:__main__:IMT F1 score: 0.0833333333333\n"
     ]
    },
    {
     "name": "stdout",
     "output_type": "stream",
     "text": [
      "\n",
      "predicting target prefix: ['Eine', '\\xc3\\xa4ltere', 'Frau', 'mit', 'einer', 'blauen', 'M\\xc3\\xbctze', 'sitzt', 'auf', 'dem']"
     ]
    },
    {
     "name": "stderr",
     "output_type": "stream",
     "text": [
      "INFO:__main__:Source: An elderly woman wearing a blue hat is sitting on the sidewalk chopping something yellow on a board beside her . </S>\n",
      "INFO:__main__:Target Hypothesis: Bürgersteig und schneidet etwas auf einem Brett neben ihr Gesicht .\n",
      "INFO:__main__:Target Reference: ['Gehweg', 'und', 'hackt', 'etwas', 'Gelbes', 'auf', 'einem', 'Brett', 'neben', 'sich', '.']\n",
      "INFO:__main__:IMT F1 score: 0.0\n"
     ]
    },
    {
     "name": "stdout",
     "output_type": "stream",
     "text": [
      "\n",
      "predicting target prefix: ['Eine', '\\xc3\\xa4ltere', 'Frau', 'mit', 'einer', 'blauen', 'M\\xc3\\xbctze', 'sitzt', 'auf', 'dem', 'Gehweg']"
     ]
    },
    {
     "name": "stderr",
     "output_type": "stream",
     "text": [
      "INFO:__main__:Source: An elderly woman wearing a blue hat is sitting on the sidewalk chopping something yellow on a board beside her . </S>\n",
      "INFO:__main__:Target Hypothesis: und schneidet etwas auf einem Brett neben ihr Gesicht .\n",
      "INFO:__main__:Target Reference: ['und', 'hackt', 'etwas', 'Gelbes', 'auf', 'einem', 'Brett', 'neben', 'sich', '.']\n",
      "INFO:__main__:IMT F1 score: 0.1\n"
     ]
    },
    {
     "name": "stdout",
     "output_type": "stream",
     "text": [
      "\n",
      "predicting target prefix: ['Eine', '\\xc3\\xa4ltere', 'Frau', 'mit', 'einer', 'blauen', 'M\\xc3\\xbctze', 'sitzt', 'auf', 'dem', 'Gehweg', 'und']"
     ]
    },
    {
     "name": "stderr",
     "output_type": "stream",
     "text": [
      "INFO:__main__:Source: An elderly woman wearing a blue hat is sitting on the sidewalk chopping something yellow on a board beside her . </S>\n",
      "INFO:__main__:Target Hypothesis: schneidet etwas auf einem Brett neben ihr Gesicht .\n",
      "INFO:__main__:Target Reference: ['hackt', 'etwas', 'Gelbes', 'auf', 'einem', 'Brett', 'neben', 'sich', '.']\n",
      "INFO:__main__:IMT F1 score: 0.0\n"
     ]
    },
    {
     "name": "stdout",
     "output_type": "stream",
     "text": [
      "\n",
      "predicting target prefix: ['Eine', '\\xc3\\xa4ltere', 'Frau', 'mit', 'einer', 'blauen', 'M\\xc3\\xbctze', 'sitzt', 'auf', 'dem', 'Gehweg', 'und', 'hackt']"
     ]
    },
    {
     "name": "stderr",
     "output_type": "stream",
     "text": [
      "INFO:__main__:Source: An elderly woman wearing a blue hat is sitting on the sidewalk chopping something yellow on a board beside her . </S>\n",
      "INFO:__main__:Target Hypothesis: etwas akustische Gitarre neben ihr .\n",
      "INFO:__main__:Target Reference: ['etwas', 'Gelbes', 'auf', 'einem', 'Brett', 'neben', 'sich', '.']\n",
      "INFO:__main__:IMT F1 score: 0.142857142857\n"
     ]
    },
    {
     "name": "stdout",
     "output_type": "stream",
     "text": [
      "\n",
      "predicting target prefix: ['Eine', '\\xc3\\xa4ltere', 'Frau', 'mit', 'einer', 'blauen', 'M\\xc3\\xbctze', 'sitzt', 'auf', 'dem', 'Gehweg', 'und', 'hackt', 'etwas']"
     ]
    },
    {
     "name": "stderr",
     "output_type": "stream",
     "text": [
      "INFO:__main__:Source: An elderly woman wearing a blue hat is sitting on the sidewalk chopping something yellow on a board beside her . </S>\n",
      "INFO:__main__:Target Hypothesis: akustische Gitarre neben ihr .\n",
      "INFO:__main__:Target Reference: ['Gelbes', 'auf', 'einem', 'Brett', 'neben', 'sich', '.']\n",
      "INFO:__main__:IMT F1 score: 0.0\n"
     ]
    },
    {
     "name": "stdout",
     "output_type": "stream",
     "text": [
      "\n",
      "predicting target prefix: ['Eine', '\\xc3\\xa4ltere', 'Frau', 'mit', 'einer', 'blauen', 'M\\xc3\\xbctze', 'sitzt', 'auf', 'dem', 'Gehweg', 'und', 'hackt', 'etwas', 'Gelbes']"
     ]
    },
    {
     "name": "stderr",
     "output_type": "stream",
     "text": [
      "INFO:__main__:Source: An elderly woman wearing a blue hat is sitting on the sidewalk chopping something yellow on a board beside her . </S>\n",
      "INFO:__main__:Target Hypothesis: neben ihr Gesicht .\n",
      "INFO:__main__:Target Reference: ['auf', 'einem', 'Brett', 'neben', 'sich', '.']\n",
      "INFO:__main__:IMT F1 score: 0.0\n"
     ]
    },
    {
     "name": "stdout",
     "output_type": "stream",
     "text": [
      "\n",
      "predicting target prefix: ['Eine', '\\xc3\\xa4ltere', 'Frau', 'mit', 'einer', 'blauen', 'M\\xc3\\xbctze', 'sitzt', 'auf', 'dem', 'Gehweg', 'und', 'hackt', 'etwas', 'Gelbes', 'auf']"
     ]
    },
    {
     "name": "stderr",
     "output_type": "stream",
     "text": [
      "INFO:__main__:Source: An elderly woman wearing a blue hat is sitting on the sidewalk chopping something yellow on a board beside her . </S>\n",
      "INFO:__main__:Target Hypothesis: einem Brett neben ihr .\n",
      "INFO:__main__:Target Reference: ['einem', 'Brett', 'neben', 'sich', '.']\n",
      "INFO:__main__:IMT F1 score: 0.6\n"
     ]
    },
    {
     "name": "stdout",
     "output_type": "stream",
     "text": [
      "\n",
      "predicting target prefix: ['Eine', '\\xc3\\xa4ltere', 'Frau', 'mit', 'einer', 'blauen', 'M\\xc3\\xbctze', 'sitzt', 'auf', 'dem', 'Gehweg', 'und', 'hackt', 'etwas', 'Gelbes', 'auf', 'einem']"
     ]
    },
    {
     "name": "stderr",
     "output_type": "stream",
     "text": [
      "INFO:__main__:Source: An elderly woman wearing a blue hat is sitting on the sidewalk chopping something yellow on a board beside her . </S>\n",
      "INFO:__main__:Target Hypothesis: Brett neben ihr .\n",
      "INFO:__main__:Target Reference: ['Brett', 'neben', 'sich', '.']\n",
      "INFO:__main__:IMT F1 score: 0.5\n"
     ]
    },
    {
     "name": "stdout",
     "output_type": "stream",
     "text": [
      "\n",
      "predicting target prefix: ['Eine', '\\xc3\\xa4ltere', 'Frau', 'mit', 'einer', 'blauen', 'M\\xc3\\xbctze', 'sitzt', 'auf', 'dem', 'Gehweg', 'und', 'hackt', 'etwas', 'Gelbes', 'auf', 'einem', 'Brett']"
     ]
    },
    {
     "name": "stderr",
     "output_type": "stream",
     "text": [
      "INFO:__main__:Source: An elderly woman wearing a blue hat is sitting on the sidewalk chopping something yellow on a board beside her . </S>\n",
      "INFO:__main__:Target Hypothesis: neben ihr .\n",
      "INFO:__main__:Target Reference: ['neben', 'sich', '.']\n",
      "INFO:__main__:IMT F1 score: 0.333333333333\n"
     ]
    },
    {
     "name": "stdout",
     "output_type": "stream",
     "text": [
      "\n",
      "predicting target prefix: ['Eine', '\\xc3\\xa4ltere', 'Frau', 'mit', 'einer', 'blauen', 'M\\xc3\\xbctze', 'sitzt', 'auf', 'dem', 'Gehweg', 'und', 'hackt', 'etwas', 'Gelbes', 'auf', 'einem', 'Brett', 'neben']"
     ]
    },
    {
     "name": "stderr",
     "output_type": "stream",
     "text": [
      "INFO:__main__:Source: An elderly woman wearing a blue hat is sitting on the sidewalk chopping something yellow on a board beside her . </S>\n",
      "INFO:__main__:Target Hypothesis: ihr .\n",
      "INFO:__main__:Target Reference: ['sich', '.']\n",
      "INFO:__main__:IMT F1 score: 0.0\n"
     ]
    },
    {
     "name": "stdout",
     "output_type": "stream",
     "text": [
      "\n",
      "predicting target prefix: ['Eine', '\\xc3\\xa4ltere', 'Frau', 'mit', 'einer', 'blauen', 'M\\xc3\\xbctze', 'sitzt', 'auf', 'dem', 'Gehweg', 'und', 'hackt', 'etwas', 'Gelbes', 'auf', 'einem', 'Brett', 'neben', 'sich']"
     ]
    },
    {
     "name": "stderr",
     "output_type": "stream",
     "text": [
      "INFO:__main__:Source: An elderly woman wearing a blue hat is sitting on the sidewalk chopping something yellow on a board beside her . </S>\n",
      "INFO:__main__:Target Hypothesis: .\n",
      "INFO:__main__:Target Reference: ['.']\n",
      "INFO:__main__:IMT F1 score: 1.0\n"
     ]
    },
    {
     "name": "stdout",
     "output_type": "stream",
     "text": [
      "\n",
      "predicting target prefix: ['Eine', '\\xc3\\xa4ltere', 'Frau', 'mit', 'einer', 'blauen', 'M\\xc3\\xbctze', 'sitzt', 'auf', 'dem', 'Gehweg', 'und', 'hackt', 'etwas', 'Gelbes', 'auf', 'einem', 'Brett', 'neben', 'sich', '.']"
     ]
    },
    {
     "name": "stderr",
     "output_type": "stream",
     "text": [
      "INFO:__main__:Source: An elderly woman wearing a blue hat is sitting on the sidewalk chopping something yellow on a board beside her . </S>\n",
      "INFO:__main__:Target Hypothesis: </S> .\n",
      "INFO:__main__:Target Reference: []\n",
      "INFO:__main__:IMT F1 score: 0.0\n",
      "INFO:__main__:Translating segment: 82\n"
     ]
    },
    {
     "name": "stdout",
     "output_type": "stream",
     "text": [
      "\n",
      "predicting target prefix: ['Ein']"
     ]
    },
    {
     "name": "stderr",
     "output_type": "stream",
     "text": [
      "INFO:__main__:Source: A construction worker wearing a black shirt and jeans , sets up his ladder . </S>\n",
      "INFO:__main__:Target Hypothesis: Bauarbeiter in einem schwarzen Hemd und Jeans sorgt für die Leiter .\n",
      "INFO:__main__:Target Reference: ['Bauarbeiter', 'in', 'einem', 'schwarzen', 'T-Shirt', 'und', 'Jeans', 'stellt', 'seine', 'Leiter', 'auf', '.']\n",
      "INFO:__main__:IMT F1 score: 0.333333333333\n"
     ]
    },
    {
     "name": "stdout",
     "output_type": "stream",
     "text": [
      "\n",
      "predicting target prefix: ['Ein', 'Bauarbeiter']"
     ]
    },
    {
     "name": "stderr",
     "output_type": "stream",
     "text": [
      "INFO:__main__:Source: A construction worker wearing a black shirt and jeans , sets up his ladder . </S>\n",
      "INFO:__main__:Target Hypothesis: in einem schwarzen Hemd und Jeans sorgt für die Leiter .\n",
      "INFO:__main__:Target Reference: ['in', 'einem', 'schwarzen', 'T-Shirt', 'und', 'Jeans', 'stellt', 'seine', 'Leiter', 'auf', '.']\n",
      "INFO:__main__:IMT F1 score: 0.272727272727\n"
     ]
    },
    {
     "name": "stdout",
     "output_type": "stream",
     "text": [
      "\n",
      "predicting target prefix: ['Ein', 'Bauarbeiter', 'in']"
     ]
    },
    {
     "name": "stderr",
     "output_type": "stream",
     "text": [
      "INFO:__main__:Source: A construction worker wearing a black shirt and jeans , sets up his ladder . </S>\n",
      "INFO:__main__:Target Hypothesis: einem schwarzen Hemd und Jeans sorgt für die Leiter .\n",
      "INFO:__main__:Target Reference: ['einem', 'schwarzen', 'T-Shirt', 'und', 'Jeans', 'stellt', 'seine', 'Leiter', 'auf', '.']\n",
      "INFO:__main__:IMT F1 score: 0.2\n"
     ]
    },
    {
     "name": "stdout",
     "output_type": "stream",
     "text": [
      "\n",
      "predicting target prefix: ['Ein', 'Bauarbeiter', 'in', 'einem']"
     ]
    },
    {
     "name": "stderr",
     "output_type": "stream",
     "text": [
      "INFO:__main__:Source: A construction worker wearing a black shirt and jeans , sets up his ladder . </S>\n",
      "INFO:__main__:Target Hypothesis: schwarzen Hemd und Jeans sorgt für die Leiter .\n",
      "INFO:__main__:Target Reference: ['schwarzen', 'T-Shirt', 'und', 'Jeans', 'stellt', 'seine', 'Leiter', 'auf', '.']\n",
      "INFO:__main__:IMT F1 score: 0.111111111111\n"
     ]
    },
    {
     "name": "stdout",
     "output_type": "stream",
     "text": [
      "\n",
      "predicting target prefix: ['Ein', 'Bauarbeiter', 'in', 'einem', 'schwarzen']"
     ]
    },
    {
     "name": "stderr",
     "output_type": "stream",
     "text": [
      "INFO:__main__:Source: A construction worker wearing a black shirt and jeans , sets up his ladder . </S>\n",
      "INFO:__main__:Target Hypothesis: Hemd und Jeans sorgt für die Leiter .\n",
      "INFO:__main__:Target Reference: ['T-Shirt', 'und', 'Jeans', 'stellt', 'seine', 'Leiter', 'auf', '.']\n",
      "INFO:__main__:IMT F1 score: 0.0\n"
     ]
    },
    {
     "name": "stdout",
     "output_type": "stream",
     "text": [
      "\n",
      "predicting target prefix: ['Ein', 'Bauarbeiter', 'in', 'einem', 'schwarzen', 'T-Shirt']"
     ]
    },
    {
     "name": "stderr",
     "output_type": "stream",
     "text": [
      "INFO:__main__:Source: A construction worker wearing a black shirt and jeans , sets up his ladder . </S>\n",
      "INFO:__main__:Target Hypothesis: und Jeans sorgt für die Leiter .\n",
      "INFO:__main__:Target Reference: ['und', 'Jeans', 'stellt', 'seine', 'Leiter', 'auf', '.']\n",
      "INFO:__main__:IMT F1 score: 0.285714285714\n"
     ]
    },
    {
     "name": "stdout",
     "output_type": "stream",
     "text": [
      "\n",
      "predicting target prefix: ['Ein', 'Bauarbeiter', 'in', 'einem', 'schwarzen', 'T-Shirt', 'und']"
     ]
    },
    {
     "name": "stderr",
     "output_type": "stream",
     "text": [
      "INFO:__main__:Source: A construction worker wearing a black shirt and jeans , sets up his ladder . </S>\n",
      "INFO:__main__:Target Hypothesis: Jeans sorgt für die Leiter .\n",
      "INFO:__main__:Target Reference: ['Jeans', 'stellt', 'seine', 'Leiter', 'auf', '.']\n",
      "INFO:__main__:IMT F1 score: 0.166666666667\n"
     ]
    },
    {
     "name": "stdout",
     "output_type": "stream",
     "text": [
      "\n",
      "predicting target prefix: ['Ein', 'Bauarbeiter', 'in', 'einem', 'schwarzen', 'T-Shirt', 'und', 'Jeans']"
     ]
    },
    {
     "name": "stderr",
     "output_type": "stream",
     "text": [
      "INFO:__main__:Source: A construction worker wearing a black shirt and jeans , sets up his ladder . </S>\n",
      "INFO:__main__:Target Hypothesis: sorgt für die Leiter .\n",
      "INFO:__main__:Target Reference: ['stellt', 'seine', 'Leiter', 'auf', '.']\n",
      "INFO:__main__:IMT F1 score: 0.0\n"
     ]
    },
    {
     "name": "stdout",
     "output_type": "stream",
     "text": [
      "\n",
      "predicting target prefix: ['Ein', 'Bauarbeiter', 'in', 'einem', 'schwarzen', 'T-Shirt', 'und', 'Jeans', 'stellt']"
     ]
    },
    {
     "name": "stderr",
     "output_type": "stream",
     "text": [
      "INFO:__main__:Source: A construction worker wearing a black shirt and jeans , sets up his ladder . </S>\n",
      "INFO:__main__:Target Hypothesis: seine Leiter auf .\n",
      "INFO:__main__:Target Reference: ['seine', 'Leiter', 'auf', '.']\n",
      "INFO:__main__:IMT F1 score: 1.0\n"
     ]
    },
    {
     "name": "stdout",
     "output_type": "stream",
     "text": [
      "\n",
      "predicting target prefix: ['Ein', 'Bauarbeiter', 'in', 'einem', 'schwarzen', 'T-Shirt', 'und', 'Jeans', 'stellt', 'seine']"
     ]
    },
    {
     "name": "stderr",
     "output_type": "stream",
     "text": [
      "INFO:__main__:Source: A construction worker wearing a black shirt and jeans , sets up his ladder . </S>\n",
      "INFO:__main__:Target Hypothesis: Leiter auf .\n",
      "INFO:__main__:Target Reference: ['Leiter', 'auf', '.']\n",
      "INFO:__main__:IMT F1 score: 1.0\n"
     ]
    },
    {
     "name": "stdout",
     "output_type": "stream",
     "text": [
      "\n",
      "predicting target prefix: ['Ein', 'Bauarbeiter', 'in', 'einem', 'schwarzen', 'T-Shirt', 'und', 'Jeans', 'stellt', 'seine', 'Leiter']"
     ]
    },
    {
     "name": "stderr",
     "output_type": "stream",
     "text": [
      "INFO:__main__:Source: A construction worker wearing a black shirt and jeans , sets up his ladder . </S>\n",
      "INFO:__main__:Target Hypothesis: auf .\n",
      "INFO:__main__:Target Reference: ['auf', '.']\n",
      "INFO:__main__:IMT F1 score: 1.0\n"
     ]
    },
    {
     "name": "stdout",
     "output_type": "stream",
     "text": [
      "\n",
      "predicting target prefix: ['Ein', 'Bauarbeiter', 'in', 'einem', 'schwarzen', 'T-Shirt', 'und', 'Jeans', 'stellt', 'seine', 'Leiter', 'auf']"
     ]
    },
    {
     "name": "stderr",
     "output_type": "stream",
     "text": [
      "INFO:__main__:Source: A construction worker wearing a black shirt and jeans , sets up his ladder . </S>\n",
      "INFO:__main__:Target Hypothesis: .\n",
      "INFO:__main__:Target Reference: ['.']\n",
      "INFO:__main__:IMT F1 score: 1.0\n"
     ]
    },
    {
     "name": "stdout",
     "output_type": "stream",
     "text": [
      "\n",
      "predicting target prefix: ['Ein', 'Bauarbeiter', 'in', 'einem', 'schwarzen', 'T-Shirt', 'und', 'Jeans', 'stellt', 'seine', 'Leiter', 'auf', '.']"
     ]
    },
    {
     "name": "stderr",
     "output_type": "stream",
     "text": [
      "INFO:__main__:Source: A construction worker wearing a black shirt and jeans , sets up his ladder . </S>\n",
      "INFO:__main__:Target Hypothesis: </S> .\n",
      "INFO:__main__:Target Reference: []\n",
      "INFO:__main__:IMT F1 score: 0.0\n",
      "INFO:__main__:Translating segment: 83\n"
     ]
    },
    {
     "name": "stdout",
     "output_type": "stream",
     "text": [
      "\n",
      "predicting target prefix: ['Eine']"
     ]
    },
    {
     "name": "stderr",
     "output_type": "stream",
     "text": [
      "INFO:__main__:Source: A waitress in a white t-shirt serving guests at a restaurant . </S>\n",
      "INFO:__main__:Target Hypothesis: Bedienung in einem weißen T-Shirt untersucht scheinbar in einem Restaurant .\n",
      "INFO:__main__:Target Reference: ['Kellnerin', 'in', 'einem', 'wei\\xc3\\x9fen', 'T-Shirt', 'bedient', 'die', 'G\\xc3\\xa4ste', 'in', 'einem', 'Restaurant', '.']\n",
      "INFO:__main__:IMT F1 score: 0.0\n"
     ]
    },
    {
     "name": "stdout",
     "output_type": "stream",
     "text": [
      "\n",
      "predicting target prefix: ['Eine', 'Kellnerin']"
     ]
    },
    {
     "name": "stderr",
     "output_type": "stream",
     "text": [
      "INFO:__main__:Source: A waitress in a white t-shirt serving guests at a restaurant . </S>\n",
      "INFO:__main__:Target Hypothesis: mit einem weißen T-Shirt untersucht scheinbar in einem Restaurant .\n",
      "INFO:__main__:Target Reference: ['in', 'einem', 'wei\\xc3\\x9fen', 'T-Shirt', 'bedient', 'die', 'G\\xc3\\xa4ste', 'in', 'einem', 'Restaurant', '.']\n",
      "INFO:__main__:IMT F1 score: 0.0\n"
     ]
    },
    {
     "name": "stdout",
     "output_type": "stream",
     "text": [
      "\n",
      "predicting target prefix: ['Eine', 'Kellnerin', 'in']"
     ]
    },
    {
     "name": "stderr",
     "output_type": "stream",
     "text": [
      "INFO:__main__:Source: A waitress in a white t-shirt serving guests at a restaurant . </S>\n",
      "INFO:__main__:Target Hypothesis: einem weißen T-Shirt schlägt unter einem Restaurant in einem Restaurant .\n",
      "INFO:__main__:Target Reference: ['einem', 'wei\\xc3\\x9fen', 'T-Shirt', 'bedient', 'die', 'G\\xc3\\xa4ste', 'in', 'einem', 'Restaurant', '.']\n",
      "INFO:__main__:IMT F1 score: 0.285714285714\n"
     ]
    },
    {
     "name": "stdout",
     "output_type": "stream",
     "text": [
      "\n",
      "predicting target prefix: ['Eine', 'Kellnerin', 'in', 'einem']"
     ]
    },
    {
     "name": "stderr",
     "output_type": "stream",
     "text": [
      "INFO:__main__:Source: A waitress in a white t-shirt serving guests at a restaurant . </S>\n",
      "INFO:__main__:Target Hypothesis: weißen T-Shirt schlägt unter einem Restaurant in einem Restaurant .\n",
      "INFO:__main__:Target Reference: ['wei\\xc3\\x9fen', 'T-Shirt', 'bedient', 'die', 'G\\xc3\\xa4ste', 'in', 'einem', 'Restaurant', '.']\n",
      "INFO:__main__:IMT F1 score: 0.210526315789\n"
     ]
    },
    {
     "name": "stdout",
     "output_type": "stream",
     "text": [
      "\n",
      "predicting target prefix: ['Eine', 'Kellnerin', 'in', 'einem', 'wei\\xc3\\x9fen']"
     ]
    },
    {
     "name": "stderr",
     "output_type": "stream",
     "text": [
      "INFO:__main__:Source: A waitress in a white t-shirt serving guests at a restaurant . </S>\n",
      "INFO:__main__:Target Hypothesis: T-Shirt schlägt unter einem Restaurant in einem Restaurant .\n",
      "INFO:__main__:Target Reference: ['T-Shirt', 'bedient', 'die', 'G\\xc3\\xa4ste', 'in', 'einem', 'Restaurant', '.']\n",
      "INFO:__main__:IMT F1 score: 0.117647058824\n"
     ]
    },
    {
     "name": "stdout",
     "output_type": "stream",
     "text": [
      "\n",
      "predicting target prefix: ['Eine', 'Kellnerin', 'in', 'einem', 'wei\\xc3\\x9fen', 'T-Shirt']"
     ]
    },
    {
     "name": "stderr",
     "output_type": "stream",
     "text": [
      "INFO:__main__:Source: A waitress in a white t-shirt serving guests at a restaurant . </S>\n",
      "INFO:__main__:Target Hypothesis: schlägt unter einem Restaurant in einem Restaurant .\n",
      "INFO:__main__:Target Reference: ['bedient', 'die', 'G\\xc3\\xa4ste', 'in', 'einem', 'Restaurant', '.']\n",
      "INFO:__main__:IMT F1 score: 0.0\n"
     ]
    },
    {
     "name": "stdout",
     "output_type": "stream",
     "text": [
      "\n",
      "predicting target prefix: ['Eine', 'Kellnerin', 'in', 'einem', 'wei\\xc3\\x9fen', 'T-Shirt', 'bedient']"
     ]
    },
    {
     "name": "stderr",
     "output_type": "stream",
     "text": [
      "INFO:__main__:Source: A waitress in a white t-shirt serving guests at a restaurant . </S>\n",
      "INFO:__main__:Target Hypothesis: einen Restaurant in einem Restaurant .\n",
      "INFO:__main__:Target Reference: ['die', 'G\\xc3\\xa4ste', 'in', 'einem', 'Restaurant', '.']\n",
      "INFO:__main__:IMT F1 score: 0.0\n"
     ]
    },
    {
     "name": "stdout",
     "output_type": "stream",
     "text": [
      "\n",
      "predicting target prefix: ['Eine', 'Kellnerin', 'in', 'einem', 'wei\\xc3\\x9fen', 'T-Shirt', 'bedient', 'die']"
     ]
    },
    {
     "name": "stderr",
     "output_type": "stream",
     "text": [
      "INFO:__main__:Source: A waitress in a white t-shirt serving guests at a restaurant . </S>\n",
      "INFO:__main__:Target Hypothesis: Hände an einem Restaurant .\n",
      "INFO:__main__:Target Reference: ['G\\xc3\\xa4ste', 'in', 'einem', 'Restaurant', '.']\n",
      "INFO:__main__:IMT F1 score: 0.0\n"
     ]
    },
    {
     "name": "stdout",
     "output_type": "stream",
     "text": [
      "\n",
      "predicting target prefix: ['Eine', 'Kellnerin', 'in', 'einem', 'wei\\xc3\\x9fen', 'T-Shirt', 'bedient', 'die', 'G\\xc3\\xa4ste']"
     ]
    },
    {
     "name": "stderr",
     "output_type": "stream",
     "text": [
      "INFO:__main__:Source: A waitress in a white t-shirt serving guests at a restaurant . </S>\n",
      "INFO:__main__:Target Hypothesis: in einem Restaurant .\n",
      "INFO:__main__:Target Reference: ['in', 'einem', 'Restaurant', '.']\n",
      "INFO:__main__:IMT F1 score: 1.0\n"
     ]
    },
    {
     "name": "stdout",
     "output_type": "stream",
     "text": [
      "\n",
      "predicting target prefix: ['Eine', 'Kellnerin', 'in', 'einem', 'wei\\xc3\\x9fen', 'T-Shirt', 'bedient', 'die', 'G\\xc3\\xa4ste', 'in']"
     ]
    },
    {
     "name": "stderr",
     "output_type": "stream",
     "text": [
      "INFO:__main__:Source: A waitress in a white t-shirt serving guests at a restaurant . </S>\n",
      "INFO:__main__:Target Hypothesis: einem Restaurant .\n",
      "INFO:__main__:Target Reference: ['einem', 'Restaurant', '.']\n",
      "INFO:__main__:IMT F1 score: 1.0\n"
     ]
    },
    {
     "name": "stdout",
     "output_type": "stream",
     "text": [
      "\n",
      "predicting target prefix: ['Eine', 'Kellnerin', 'in', 'einem', 'wei\\xc3\\x9fen', 'T-Shirt', 'bedient', 'die', 'G\\xc3\\xa4ste', 'in', 'einem']"
     ]
    },
    {
     "name": "stderr",
     "output_type": "stream",
     "text": [
      "INFO:__main__:Source: A waitress in a white t-shirt serving guests at a restaurant . </S>\n",
      "INFO:__main__:Target Hypothesis: Restaurant .\n",
      "INFO:__main__:Target Reference: ['Restaurant', '.']\n",
      "INFO:__main__:IMT F1 score: 1.0\n"
     ]
    },
    {
     "name": "stdout",
     "output_type": "stream",
     "text": [
      "\n",
      "predicting target prefix: ['Eine', 'Kellnerin', 'in', 'einem', 'wei\\xc3\\x9fen', 'T-Shirt', 'bedient', 'die', 'G\\xc3\\xa4ste', 'in', 'einem', 'Restaurant']"
     ]
    },
    {
     "name": "stderr",
     "output_type": "stream",
     "text": [
      "INFO:__main__:Source: A waitress in a white t-shirt serving guests at a restaurant . </S>\n",
      "INFO:__main__:Target Hypothesis: .\n",
      "INFO:__main__:Target Reference: ['.']\n",
      "INFO:__main__:IMT F1 score: 1.0\n"
     ]
    },
    {
     "name": "stdout",
     "output_type": "stream",
     "text": [
      "\n",
      "predicting target prefix: ['Eine', 'Kellnerin', 'in', 'einem', 'wei\\xc3\\x9fen', 'T-Shirt', 'bedient', 'die', 'G\\xc3\\xa4ste', 'in', 'einem', 'Restaurant', '.']"
     ]
    },
    {
     "name": "stderr",
     "output_type": "stream",
     "text": [
      "INFO:__main__:Source: A waitress in a white t-shirt serving guests at a restaurant . </S>\n",
      "INFO:__main__:Target Hypothesis: </S> .\n",
      "INFO:__main__:Target Reference: []\n",
      "INFO:__main__:IMT F1 score: 0.0\n",
      "INFO:__main__:Translating segment: 84\n"
     ]
    },
    {
     "name": "stdout",
     "output_type": "stream",
     "text": [
      "\n",
      "predicting target prefix: ['Blonder']"
     ]
    },
    {
     "name": "stderr",
     "output_type": "stream",
     "text": [
      "INFO:__main__:Source: Blond-haired man wearing a black fleece jacket sculpting . </S>\n",
      "INFO:__main__:Target Hypothesis: Mann in einem schwarzen namens Subway .\n",
      "INFO:__main__:Target Reference: ['Mann', 'in', 'einer', 'schwarzen', 'Fleecejacke', 'formt', 'eine', 'Skulptur', '.']\n",
      "INFO:__main__:IMT F1 score: 0.25\n"
     ]
    },
    {
     "name": "stdout",
     "output_type": "stream",
     "text": [
      "\n",
      "predicting target prefix: ['Blonder', 'Mann']"
     ]
    },
    {
     "name": "stderr",
     "output_type": "stream",
     "text": [
      "INFO:__main__:Source: Blond-haired man wearing a black fleece jacket sculpting . </S>\n",
      "INFO:__main__:Target Hypothesis: in einem schwarzen namens Subway .\n",
      "INFO:__main__:Target Reference: ['in', 'einer', 'schwarzen', 'Fleecejacke', 'formt', 'eine', 'Skulptur', '.']\n",
      "INFO:__main__:IMT F1 score: 0.142857142857\n"
     ]
    },
    {
     "name": "stdout",
     "output_type": "stream",
     "text": [
      "\n",
      "predicting target prefix: ['Blonder', 'Mann', 'in']"
     ]
    },
    {
     "name": "stderr",
     "output_type": "stream",
     "text": [
      "INFO:__main__:Source: Blond-haired man wearing a black fleece jacket sculpting . </S>\n",
      "INFO:__main__:Target Hypothesis: einem schwarzen namens Subway .\n",
      "INFO:__main__:Target Reference: ['einer', 'schwarzen', 'Fleecejacke', 'formt', 'eine', 'Skulptur', '.']\n",
      "INFO:__main__:IMT F1 score: 0.0\n"
     ]
    },
    {
     "name": "stdout",
     "output_type": "stream",
     "text": [
      "\n",
      "predicting target prefix: ['Blonder', 'Mann', 'in', 'einer']"
     ]
    },
    {
     "name": "stderr",
     "output_type": "stream",
     "text": [
      "INFO:__main__:Source: Blond-haired man wearing a black fleece jacket sculpting . </S>\n",
      "INFO:__main__:Target Hypothesis: schwarzen Windjacke , die formt Ton .\n",
      "INFO:__main__:Target Reference: ['schwarzen', 'Fleecejacke', 'formt', 'eine', 'Skulptur', '.']\n",
      "INFO:__main__:IMT F1 score: 0.153846153846\n"
     ]
    },
    {
     "name": "stdout",
     "output_type": "stream",
     "text": [
      "\n",
      "predicting target prefix: ['Blonder', 'Mann', 'in', 'einer', 'schwarzen']"
     ]
    },
    {
     "name": "stderr",
     "output_type": "stream",
     "text": [
      "INFO:__main__:Source: Blond-haired man wearing a black fleece jacket sculpting . </S>\n",
      "INFO:__main__:Target Hypothesis: Windjacke , die formt Ton .\n",
      "INFO:__main__:Target Reference: ['Fleecejacke', 'formt', 'eine', 'Skulptur', '.']\n",
      "INFO:__main__:IMT F1 score: 0.0\n"
     ]
    },
    {
     "name": "stdout",
     "output_type": "stream",
     "text": [
      "\n",
      "predicting target prefix: ['Blonder', 'Mann', 'in', 'einer', 'schwarzen', 'Fleecejacke']"
     ]
    },
    {
     "name": "stderr",
     "output_type": "stream",
     "text": [
      "INFO:__main__:Source: Blond-haired man wearing a black fleece jacket sculpting . </S>\n",
      "INFO:__main__:Target Hypothesis: Ebene Ebene .\n",
      "INFO:__main__:Target Reference: ['formt', 'eine', 'Skulptur', '.']\n",
      "INFO:__main__:IMT F1 score: 0.0\n",
      "INFO:__main__:Source: Blond-haired man wearing a black fleece jacket sculpting . </S>\n",
      "INFO:__main__:Target Hypothesis: Ton .\n",
      "INFO:__main__:Target Reference: ['eine', 'Skulptur', '.']\n",
      "INFO:__main__:IMT F1 score: 0.0\n"
     ]
    },
    {
     "name": "stdout",
     "output_type": "stream",
     "text": [
      "\n",
      "predicting target prefix: ['Blonder', 'Mann', 'in', 'einer', 'schwarzen', 'Fleecejacke', 'formt']\n",
      "predicting target prefix: ['Blonder', 'Mann', 'in', 'einer', 'schwarzen', 'Fleecejacke', 'formt', 'eine']"
     ]
    },
    {
     "name": "stderr",
     "output_type": "stream",
     "text": [
      "INFO:__main__:Source: Blond-haired man wearing a black fleece jacket sculpting . </S>\n",
      "INFO:__main__:Target Hypothesis: Ebene .\n",
      "INFO:__main__:Target Reference: ['Skulptur', '.']\n",
      "INFO:__main__:IMT F1 score: 0.0\n",
      "INFO:__main__:Source: Blond-haired man wearing a black fleece jacket sculpting . </S>\n",
      "INFO:__main__:Target Hypothesis: .\n",
      "INFO:__main__:Target Reference: ['.']\n",
      "INFO:__main__:IMT F1 score: 1.0\n"
     ]
    },
    {
     "name": "stdout",
     "output_type": "stream",
     "text": [
      "\n",
      "predicting target prefix: ['Blonder', 'Mann', 'in', 'einer', 'schwarzen', 'Fleecejacke', 'formt', 'eine', 'Skulptur']\n",
      "predicting target prefix: ['Blonder', 'Mann', 'in', 'einer', 'schwarzen', 'Fleecejacke', 'formt', 'eine', 'Skulptur', '.']"
     ]
    },
    {
     "name": "stderr",
     "output_type": "stream",
     "text": [
      "INFO:__main__:Source: Blond-haired man wearing a black fleece jacket sculpting . </S>\n",
      "INFO:__main__:Target Hypothesis: </S> .\n",
      "INFO:__main__:Target Reference: []\n",
      "INFO:__main__:IMT F1 score: 0.0\n",
      "INFO:__main__:Translating segment: 85\n",
      "INFO:__main__:Source: A girl competing in gymnastics performs a <UNK> routine as she <UNK> the audience . </S>\n",
      "INFO:__main__:Target Hypothesis: Mädchen macht eine Atemschutzmaske .\n",
      "INFO:__main__:Target Reference: ['M\\xc3\\xa4dchen', 'bei', 'einem', 'Gymnastikwettkampf', 'vollf\\xc3\\xbchrt', 'eine', 'k\\xc3\\xbchne', '\\xc3\\x9cbung', 'und', 'beeindruckt', 'dadurch', 'das', 'Publikum', '.']\n",
      "INFO:__main__:IMT F1 score: 0.105263157895\n"
     ]
    },
    {
     "name": "stdout",
     "output_type": "stream",
     "text": [
      "\n",
      "predicting target prefix: ['Ein']\n",
      "predicting target prefix: ['Ein', 'M\\xc3\\xa4dchen']"
     ]
    },
    {
     "name": "stderr",
     "output_type": "stream",
     "text": [
      "INFO:__main__:Source: A girl competing in gymnastics performs a <UNK> routine as she <UNK> the audience . </S>\n",
      "INFO:__main__:Target Hypothesis: macht ein Nickerchen auf einem Oldtimer vor dem Publikum .\n",
      "INFO:__main__:Target Reference: ['bei', 'einem', 'Gymnastikwettkampf', 'vollf\\xc3\\xbchrt', 'eine', 'k\\xc3\\xbchne', '\\xc3\\x9cbung', 'und', 'beeindruckt', 'dadurch', 'das', 'Publikum', '.']\n",
      "INFO:__main__:IMT F1 score: 0.0\n"
     ]
    },
    {
     "name": "stdout",
     "output_type": "stream",
     "text": [
      "\n",
      "predicting target prefix: ['Ein', 'M\\xc3\\xa4dchen', 'bei']"
     ]
    },
    {
     "name": "stderr",
     "output_type": "stream",
     "text": [
      "INFO:__main__:Source: A girl competing in gymnastics performs a <UNK> routine as she <UNK> the audience . </S>\n",
      "INFO:__main__:Target Hypothesis: einem Auftritt vor dem Publikum .\n",
      "INFO:__main__:Target Reference: ['einem', 'Gymnastikwettkampf', 'vollf\\xc3\\xbchrt', 'eine', 'k\\xc3\\xbchne', '\\xc3\\x9cbung', 'und', 'beeindruckt', 'dadurch', 'das', 'Publikum', '.']\n",
      "INFO:__main__:IMT F1 score: 0.111111111111\n"
     ]
    },
    {
     "name": "stdout",
     "output_type": "stream",
     "text": [
      "\n",
      "predicting target prefix: ['Ein', 'M\\xc3\\xa4dchen', 'bei', 'einem']"
     ]
    },
    {
     "name": "stderr",
     "output_type": "stream",
     "text": [
      "INFO:__main__:Source: A girl competing in gymnastics performs a <UNK> routine as she <UNK> the audience . </S>\n",
      "INFO:__main__:Target Hypothesis: Orchester spielt auf einem Publikum .\n",
      "INFO:__main__:Target Reference: ['Gymnastikwettkampf', 'vollf\\xc3\\xbchrt', 'eine', 'k\\xc3\\xbchne', '\\xc3\\x9cbung', 'und', 'beeindruckt', 'dadurch', 'das', 'Publikum', '.']\n",
      "INFO:__main__:IMT F1 score: 0.0\n"
     ]
    },
    {
     "name": "stdout",
     "output_type": "stream",
     "text": [
      "\n",
      "predicting target prefix: ['Ein', 'M\\xc3\\xa4dchen', 'bei', 'einem', 'Gymnastikwettkampf']"
     ]
    },
    {
     "name": "stderr",
     "output_type": "stream",
     "text": [
      "INFO:__main__:Source: A girl competing in gymnastics performs a <UNK> routine as she <UNK> the audience . </S>\n",
      "INFO:__main__:Target Hypothesis: macht eine Atemschutzmaske .\n",
      "INFO:__main__:Target Reference: ['vollf\\xc3\\xbchrt', 'eine', 'k\\xc3\\xbchne', '\\xc3\\x9cbung', 'und', 'beeindruckt', 'dadurch', 'das', 'Publikum', '.']\n",
      "INFO:__main__:IMT F1 score: 0.0\n"
     ]
    },
    {
     "name": "stdout",
     "output_type": "stream",
     "text": [
      "\n",
      "predicting target prefix: ['Ein', 'M\\xc3\\xa4dchen', 'bei', 'einem', 'Gymnastikwettkampf', 'vollf\\xc3\\xbchrt']"
     ]
    },
    {
     "name": "stderr",
     "output_type": "stream",
     "text": [
      "INFO:__main__:Source: A girl competing in gymnastics performs a <UNK> routine as she <UNK> the audience . </S>\n",
      "INFO:__main__:Target Hypothesis: in einem Publikum sorgt für das Publikum .\n",
      "INFO:__main__:Target Reference: ['eine', 'k\\xc3\\xbchne', '\\xc3\\x9cbung', 'und', 'beeindruckt', 'dadurch', 'das', 'Publikum', '.']\n",
      "INFO:__main__:IMT F1 score: 0.0\n"
     ]
    },
    {
     "name": "stdout",
     "output_type": "stream",
     "text": [
      "\n",
      "predicting target prefix: ['Ein', 'M\\xc3\\xa4dchen', 'bei', 'einem', 'Gymnastikwettkampf', 'vollf\\xc3\\xbchrt', 'eine']"
     ]
    },
    {
     "name": "stderr",
     "output_type": "stream",
     "text": [
      "INFO:__main__:Source: A girl competing in gymnastics performs a <UNK> routine as she <UNK> the audience . </S>\n",
      "INFO:__main__:Target Hypothesis: Atemschutzmaske .\n",
      "INFO:__main__:Target Reference: ['k\\xc3\\xbchne', '\\xc3\\x9cbung', 'und', 'beeindruckt', 'dadurch', 'das', 'Publikum', '.']\n",
      "INFO:__main__:IMT F1 score: 0.0\n"
     ]
    },
    {
     "name": "stdout",
     "output_type": "stream",
     "text": [
      "\n",
      "predicting target prefix: ['Ein', 'M\\xc3\\xa4dchen', 'bei', 'einem', 'Gymnastikwettkampf', 'vollf\\xc3\\xbchrt', 'eine', 'k\\xc3\\xbchne']"
     ]
    },
    {
     "name": "stderr",
     "output_type": "stream",
     "text": [
      "INFO:__main__:Source: A girl competing in gymnastics performs a <UNK> routine as she <UNK> the audience . </S>\n",
      "INFO:__main__:Target Hypothesis: , während sie das Publikum zuschauen .\n",
      "INFO:__main__:Target Reference: ['\\xc3\\x9cbung', 'und', 'beeindruckt', 'dadurch', 'das', 'Publikum', '.']\n",
      "INFO:__main__:IMT F1 score: 0.0\n"
     ]
    },
    {
     "name": "stdout",
     "output_type": "stream",
     "text": [
      "\n",
      "predicting target prefix: ['Ein', 'M\\xc3\\xa4dchen', 'bei', 'einem', 'Gymnastikwettkampf', 'vollf\\xc3\\xbchrt', 'eine', 'k\\xc3\\xbchne', '\\xc3\\x9cbung']"
     ]
    },
    {
     "name": "stderr",
     "output_type": "stream",
     "text": [
      "INFO:__main__:Source: A girl competing in gymnastics performs a <UNK> routine as she <UNK> the audience . </S>\n",
      "INFO:__main__:Target Hypothesis: .\n",
      "INFO:__main__:Target Reference: ['und', 'beeindruckt', 'dadurch', 'das', 'Publikum', '.']\n",
      "INFO:__main__:IMT F1 score: 0.0\n"
     ]
    },
    {
     "name": "stdout",
     "output_type": "stream",
     "text": [
      "\n",
      "predicting target prefix: ['Ein', 'M\\xc3\\xa4dchen', 'bei', 'einem', 'Gymnastikwettkampf', 'vollf\\xc3\\xbchrt', 'eine', 'k\\xc3\\xbchne', '\\xc3\\x9cbung', 'und']"
     ]
    },
    {
     "name": "stderr",
     "output_type": "stream",
     "text": [
      "INFO:__main__:Source: A girl competing in gymnastics performs a <UNK> routine as she <UNK> the audience . </S>\n",
      "INFO:__main__:Target Hypothesis: vor dem Publikum .\n",
      "INFO:__main__:Target Reference: ['beeindruckt', 'dadurch', 'das', 'Publikum', '.']\n",
      "INFO:__main__:IMT F1 score: 0.0\n"
     ]
    },
    {
     "name": "stdout",
     "output_type": "stream",
     "text": [
      "\n",
      "predicting target prefix: ['Ein', 'M\\xc3\\xa4dchen', 'bei', 'einem', 'Gymnastikwettkampf', 'vollf\\xc3\\xbchrt', 'eine', 'k\\xc3\\xbchne', '\\xc3\\x9cbung', 'und', 'beeindruckt']"
     ]
    },
    {
     "name": "stderr",
     "output_type": "stream",
     "text": [
      "INFO:__main__:Source: A girl competing in gymnastics performs a <UNK> routine as she <UNK> the audience . </S>\n",
      "INFO:__main__:Target Hypothesis: vor dem Publikum .\n",
      "INFO:__main__:Target Reference: ['dadurch', 'das', 'Publikum', '.']\n",
      "INFO:__main__:IMT F1 score: 0.0\n"
     ]
    },
    {
     "name": "stdout",
     "output_type": "stream",
     "text": [
      "\n",
      "predicting target prefix: ['Ein', 'M\\xc3\\xa4dchen', 'bei', 'einem', 'Gymnastikwettkampf', 'vollf\\xc3\\xbchrt', 'eine', 'k\\xc3\\xbchne', '\\xc3\\x9cbung', 'und', 'beeindruckt', 'dadurch']"
     ]
    },
    {
     "name": "stderr",
     "output_type": "stream",
     "text": [
      "INFO:__main__:Source: A girl competing in gymnastics performs a <UNK> routine as she <UNK> the audience . </S>\n",
      "INFO:__main__:Target Hypothesis: .\n",
      "INFO:__main__:Target Reference: ['das', 'Publikum', '.']\n",
      "INFO:__main__:IMT F1 score: 0.0\n"
     ]
    },
    {
     "name": "stdout",
     "output_type": "stream",
     "text": [
      "\n",
      "predicting target prefix: ['Ein', 'M\\xc3\\xa4dchen', 'bei', 'einem', 'Gymnastikwettkampf', 'vollf\\xc3\\xbchrt', 'eine', 'k\\xc3\\xbchne', '\\xc3\\x9cbung', 'und', 'beeindruckt', 'dadurch', 'das']"
     ]
    },
    {
     "name": "stderr",
     "output_type": "stream",
     "text": [
      "INFO:__main__:Source: A girl competing in gymnastics performs a <UNK> routine as she <UNK> the audience . </S>\n",
      "INFO:__main__:Target Hypothesis: Publikum .\n",
      "INFO:__main__:Target Reference: ['Publikum', '.']\n",
      "INFO:__main__:IMT F1 score: 1.0\n"
     ]
    },
    {
     "name": "stdout",
     "output_type": "stream",
     "text": [
      "\n",
      "predicting target prefix: ['Ein', 'M\\xc3\\xa4dchen', 'bei', 'einem', 'Gymnastikwettkampf', 'vollf\\xc3\\xbchrt', 'eine', 'k\\xc3\\xbchne', '\\xc3\\x9cbung', 'und', 'beeindruckt', 'dadurch', 'das', 'Publikum']"
     ]
    },
    {
     "name": "stderr",
     "output_type": "stream",
     "text": [
      "INFO:__main__:Source: A girl competing in gymnastics performs a <UNK> routine as she <UNK> the audience . </S>\n",
      "INFO:__main__:Target Hypothesis: .\n",
      "INFO:__main__:Target Reference: ['.']\n",
      "INFO:__main__:IMT F1 score: 1.0\n"
     ]
    },
    {
     "name": "stdout",
     "output_type": "stream",
     "text": [
      "\n",
      "predicting target prefix: ['Ein', 'M\\xc3\\xa4dchen', 'bei', 'einem', 'Gymnastikwettkampf', 'vollf\\xc3\\xbchrt', 'eine', 'k\\xc3\\xbchne', '\\xc3\\x9cbung', 'und', 'beeindruckt', 'dadurch', 'das', 'Publikum', '.']"
     ]
    },
    {
     "name": "stderr",
     "output_type": "stream",
     "text": [
      "INFO:__main__:Source: A girl competing in gymnastics performs a <UNK> routine as she <UNK> the audience . </S>\n",
      "INFO:__main__:Target Hypothesis: </S> .\n",
      "INFO:__main__:Target Reference: []\n",
      "INFO:__main__:IMT F1 score: 0.0\n",
      "INFO:__main__:Translating segment: 86\n"
     ]
    },
    {
     "name": "stdout",
     "output_type": "stream",
     "text": [
      "\n",
      "predicting target prefix: ['Ein']"
     ]
    },
    {
     "name": "stderr",
     "output_type": "stream",
     "text": [
      "INFO:__main__:Source: An artist working on an ice sculpture </S>\n",
      "INFO:__main__:Target Hypothesis: Künstler arbeitet an einer brechenden von Männern .\n",
      "INFO:__main__:Target Reference: ['K\\xc3\\xbcnstler', 'arbeitet', 'an', 'einer', 'Eisskulptur']\n",
      "INFO:__main__:IMT F1 score: 0.615384615385\n"
     ]
    },
    {
     "name": "stdout",
     "output_type": "stream",
     "text": [
      "\n",
      "predicting target prefix: ['Ein', 'K\\xc3\\xbcnstler']"
     ]
    },
    {
     "name": "stderr",
     "output_type": "stream",
     "text": [
      "INFO:__main__:Source: An artist working on an ice sculpture </S>\n",
      "INFO:__main__:Target Hypothesis: arbeitet an einer brechenden von Männern .\n",
      "INFO:__main__:Target Reference: ['arbeitet', 'an', 'einer', 'Eisskulptur']\n",
      "INFO:__main__:IMT F1 score: 0.545454545455\n"
     ]
    },
    {
     "name": "stdout",
     "output_type": "stream",
     "text": [
      "\n",
      "predicting target prefix: ['Ein', 'K\\xc3\\xbcnstler', 'arbeitet']"
     ]
    },
    {
     "name": "stderr",
     "output_type": "stream",
     "text": [
      "INFO:__main__:Source: An artist working on an ice sculpture </S>\n",
      "INFO:__main__:Target Hypothesis: an einer brechenden von Männern .\n",
      "INFO:__main__:Target Reference: ['an', 'einer', 'Eisskulptur']\n",
      "INFO:__main__:IMT F1 score: 0.444444444444\n",
      "INFO:__main__:Source: An artist working on an ice sculpture </S>\n",
      "INFO:__main__:Target Hypothesis: einer brechenden von Männern .\n",
      "INFO:__main__:Target Reference: ['einer', 'Eisskulptur']\n",
      "INFO:__main__:IMT F1 score: 0.285714285714\n"
     ]
    },
    {
     "name": "stdout",
     "output_type": "stream",
     "text": [
      "\n",
      "predicting target prefix: ['Ein', 'K\\xc3\\xbcnstler', 'arbeitet', 'an']\n",
      "predicting target prefix: ['Ein', 'K\\xc3\\xbcnstler', 'arbeitet', 'an', 'einer']"
     ]
    },
    {
     "name": "stderr",
     "output_type": "stream",
     "text": [
      "INFO:__main__:Source: An artist working on an ice sculpture </S>\n",
      "INFO:__main__:Target Hypothesis: brechenden von Männern .\n",
      "INFO:__main__:Target Reference: ['Eisskulptur']\n",
      "INFO:__main__:IMT F1 score: 0.0\n",
      "INFO:__main__:Source: An artist working on an ice sculpture </S>\n",
      "INFO:__main__:Target Hypothesis: .\n",
      "INFO:__main__:Target Reference: []\n",
      "INFO:__main__:IMT F1 score: 0.0\n",
      "INFO:__main__:Translating segment: 87\n"
     ]
    },
    {
     "name": "stdout",
     "output_type": "stream",
     "text": [
      "\n",
      "predicting target prefix: ['Ein', 'K\\xc3\\xbcnstler', 'arbeitet', 'an', 'einer', 'Eisskulptur']\n",
      "predicting target prefix: ['Ein']"
     ]
    },
    {
     "name": "stderr",
     "output_type": "stream",
     "text": [
      "INFO:__main__:Source: A man in a blue coat is <UNK> on his sled by two dogs . </S>\n",
      "INFO:__main__:Target Hypothesis: Mann in einem blauen Mantel setzt sich auf seinem Schlitten an zwei Stangen hindurch .\n",
      "INFO:__main__:Target Reference: ['Mann', 'in', 'einer', 'blauen', 'Jacke', 'wird', 'auf', 'seinem', 'Schlitten', 'von', 'zwei', 'Hunden', 'gezogen', '.']\n",
      "INFO:__main__:IMT F1 score: 0.137931034483\n"
     ]
    },
    {
     "name": "stdout",
     "output_type": "stream",
     "text": [
      "\n",
      "predicting target prefix: ['Ein', 'Mann']"
     ]
    },
    {
     "name": "stderr",
     "output_type": "stream",
     "text": [
      "INFO:__main__:Source: A man in a blue coat is <UNK> on his sled by two dogs . </S>\n",
      "INFO:__main__:Target Hypothesis: in einem blauen Mantel setzt sich auf seinem Schlitten an zwei Stangen hindurch .\n",
      "INFO:__main__:Target Reference: ['in', 'einer', 'blauen', 'Jacke', 'wird', 'auf', 'seinem', 'Schlitten', 'von', 'zwei', 'Hunden', 'gezogen', '.']\n",
      "INFO:__main__:IMT F1 score: 0.0740740740741\n"
     ]
    },
    {
     "name": "stdout",
     "output_type": "stream",
     "text": [
      "\n",
      "predicting target prefix: ['Ein', 'Mann', 'in']"
     ]
    },
    {
     "name": "stderr",
     "output_type": "stream",
     "text": [
      "INFO:__main__:Source: A man in a blue coat is <UNK> on his sled by two dogs . </S>\n",
      "INFO:__main__:Target Hypothesis: einem blauen Mantel setzt sich auf seinem Schlitten an zwei Stangen hindurch .\n",
      "INFO:__main__:Target Reference: ['einer', 'blauen', 'Jacke', 'wird', 'auf', 'seinem', 'Schlitten', 'von', 'zwei', 'Hunden', 'gezogen', '.']\n",
      "INFO:__main__:IMT F1 score: 0.0\n"
     ]
    },
    {
     "name": "stdout",
     "output_type": "stream",
     "text": [
      "\n",
      "predicting target prefix: ['Ein', 'Mann', 'in', 'einer']"
     ]
    },
    {
     "name": "stderr",
     "output_type": "stream",
     "text": [
      "INFO:__main__:Source: A man in a blue coat is <UNK> on his sled by two dogs . </S>\n",
      "INFO:__main__:Target Hypothesis: blauen Jacke befindet sich auf seinem Schlitten an zwei Hunde .\n",
      "INFO:__main__:Target Reference: ['blauen', 'Jacke', 'wird', 'auf', 'seinem', 'Schlitten', 'von', 'zwei', 'Hunden', 'gezogen', '.']\n",
      "INFO:__main__:IMT F1 score: 0.181818181818\n"
     ]
    },
    {
     "name": "stdout",
     "output_type": "stream",
     "text": [
      "\n",
      "predicting target prefix: ['Ein', 'Mann', 'in', 'einer', 'blauen']"
     ]
    },
    {
     "name": "stderr",
     "output_type": "stream",
     "text": [
      "INFO:__main__:Source: A man in a blue coat is <UNK> on his sled by two dogs . </S>\n",
      "INFO:__main__:Target Hypothesis: Jacke befindet sich auf seinem Schlitten an zwei Hunde .\n",
      "INFO:__main__:Target Reference: ['Jacke', 'wird', 'auf', 'seinem', 'Schlitten', 'von', 'zwei', 'Hunden', 'gezogen', '.']\n",
      "INFO:__main__:IMT F1 score: 0.1\n"
     ]
    },
    {
     "name": "stdout",
     "output_type": "stream",
     "text": [
      "\n",
      "predicting target prefix: ['Ein', 'Mann', 'in', 'einer', 'blauen', 'Jacke']"
     ]
    },
    {
     "name": "stderr",
     "output_type": "stream",
     "text": [
      "INFO:__main__:Source: A man in a blue coat is <UNK> on his sled by two dogs . </S>\n",
      "INFO:__main__:Target Hypothesis: befindet sich auf seinem Schlitten an zwei Hunde .\n",
      "INFO:__main__:Target Reference: ['wird', 'auf', 'seinem', 'Schlitten', 'von', 'zwei', 'Hunden', 'gezogen', '.']\n",
      "INFO:__main__:IMT F1 score: 0.0\n"
     ]
    },
    {
     "name": "stdout",
     "output_type": "stream",
     "text": [
      "\n",
      "predicting target prefix: ['Ein', 'Mann', 'in', 'einer', 'blauen', 'Jacke', 'wird']"
     ]
    },
    {
     "name": "stderr",
     "output_type": "stream",
     "text": [
      "INFO:__main__:Source: A man in a blue coat is <UNK> on his sled by two dogs . </S>\n",
      "INFO:__main__:Target Hypothesis: von zwei Hunden Gassi .\n",
      "INFO:__main__:Target Reference: ['auf', 'seinem', 'Schlitten', 'von', 'zwei', 'Hunden', 'gezogen', '.']\n",
      "INFO:__main__:IMT F1 score: 0.0\n"
     ]
    },
    {
     "name": "stdout",
     "output_type": "stream",
     "text": [
      "\n",
      "predicting target prefix: ['Ein', 'Mann', 'in', 'einer', 'blauen', 'Jacke', 'wird', 'auf']"
     ]
    },
    {
     "name": "stderr",
     "output_type": "stream",
     "text": [
      "INFO:__main__:Source: A man in a blue coat is <UNK> on his sled by two dogs . </S>\n",
      "INFO:__main__:Target Hypothesis: seinem Schlitten an zwei Hunde vorbei .\n",
      "INFO:__main__:Target Reference: ['seinem', 'Schlitten', 'von', 'zwei', 'Hunden', 'gezogen', '.']\n",
      "INFO:__main__:IMT F1 score: 0.285714285714\n"
     ]
    },
    {
     "name": "stdout",
     "output_type": "stream",
     "text": [
      "\n",
      "predicting target prefix: ['Ein', 'Mann', 'in', 'einer', 'blauen', 'Jacke', 'wird', 'auf', 'seinem']"
     ]
    },
    {
     "name": "stderr",
     "output_type": "stream",
     "text": [
      "INFO:__main__:Source: A man in a blue coat is <UNK> on his sled by two dogs . </S>\n",
      "INFO:__main__:Target Hypothesis: Schlitten an zwei Hunde vorbei .\n",
      "INFO:__main__:Target Reference: ['Schlitten', 'von', 'zwei', 'Hunden', 'gezogen', '.']\n",
      "INFO:__main__:IMT F1 score: 0.166666666667\n"
     ]
    },
    {
     "name": "stdout",
     "output_type": "stream",
     "text": [
      "\n",
      "predicting target prefix: ['Ein', 'Mann', 'in', 'einer', 'blauen', 'Jacke', 'wird', 'auf', 'seinem', 'Schlitten']"
     ]
    },
    {
     "name": "stderr",
     "output_type": "stream",
     "text": [
      "INFO:__main__:Source: A man in a blue coat is <UNK> on his sled by two dogs . </S>\n",
      "INFO:__main__:Target Hypothesis: an zwei Hunde vorbei .\n",
      "INFO:__main__:Target Reference: ['von', 'zwei', 'Hunden', 'gezogen', '.']\n",
      "INFO:__main__:IMT F1 score: 0.0\n"
     ]
    },
    {
     "name": "stdout",
     "output_type": "stream",
     "text": [
      "\n",
      "predicting target prefix: ['Ein', 'Mann', 'in', 'einer', 'blauen', 'Jacke', 'wird', 'auf', 'seinem', 'Schlitten', 'von']"
     ]
    },
    {
     "name": "stderr",
     "output_type": "stream",
     "text": [
      "INFO:__main__:Source: A man in a blue coat is <UNK> on his sled by two dogs . </S>\n",
      "INFO:__main__:Target Hypothesis: zwei Hunden verdeckt .\n",
      "INFO:__main__:Target Reference: ['zwei', 'Hunden', 'gezogen', '.']\n",
      "INFO:__main__:IMT F1 score: 0.5\n"
     ]
    },
    {
     "name": "stdout",
     "output_type": "stream",
     "text": [
      "\n",
      "predicting target prefix: ['Ein', 'Mann', 'in', 'einer', 'blauen', 'Jacke', 'wird', 'auf', 'seinem', 'Schlitten', 'von', 'zwei']"
     ]
    },
    {
     "name": "stderr",
     "output_type": "stream",
     "text": [
      "INFO:__main__:Source: A man in a blue coat is <UNK> on his sled by two dogs . </S>\n",
      "INFO:__main__:Target Hypothesis: Hunden verdeckt .\n",
      "INFO:__main__:Target Reference: ['Hunden', 'gezogen', '.']\n",
      "INFO:__main__:IMT F1 score: 0.333333333333\n"
     ]
    },
    {
     "name": "stdout",
     "output_type": "stream",
     "text": [
      "\n",
      "predicting target prefix: ['Ein', 'Mann', 'in', 'einer', 'blauen', 'Jacke', 'wird', 'auf', 'seinem', 'Schlitten', 'von', 'zwei', 'Hunden']"
     ]
    },
    {
     "name": "stderr",
     "output_type": "stream",
     "text": [
      "INFO:__main__:Source: A man in a blue coat is <UNK> on his sled by two dogs . </S>\n",
      "INFO:__main__:Target Hypothesis: verdeckt .\n",
      "INFO:__main__:Target Reference: ['gezogen', '.']\n",
      "INFO:__main__:IMT F1 score: 0.0\n"
     ]
    },
    {
     "name": "stdout",
     "output_type": "stream",
     "text": [
      "\n",
      "predicting target prefix: ['Ein', 'Mann', 'in', 'einer', 'blauen', 'Jacke', 'wird', 'auf', 'seinem', 'Schlitten', 'von', 'zwei', 'Hunden', 'gezogen']"
     ]
    },
    {
     "name": "stderr",
     "output_type": "stream",
     "text": [
      "INFO:__main__:Source: A man in a blue coat is <UNK> on his sled by two dogs . </S>\n",
      "INFO:__main__:Target Hypothesis: .\n",
      "INFO:__main__:Target Reference: ['.']\n",
      "INFO:__main__:IMT F1 score: 1.0\n"
     ]
    },
    {
     "name": "stdout",
     "output_type": "stream",
     "text": [
      "\n",
      "predicting target prefix: ['Ein', 'Mann', 'in', 'einer', 'blauen', 'Jacke', 'wird', 'auf', 'seinem', 'Schlitten', 'von', 'zwei', 'Hunden', 'gezogen', '.']"
     ]
    },
    {
     "name": "stderr",
     "output_type": "stream",
     "text": [
      "INFO:__main__:Source: A man in a blue coat is <UNK> on his sled by two dogs . </S>\n",
      "INFO:__main__:Target Hypothesis: </S> .\n",
      "INFO:__main__:Target Reference: []\n",
      "INFO:__main__:IMT F1 score: 0.0\n",
      "INFO:__main__:Translating segment: 88\n"
     ]
    },
    {
     "name": "stdout",
     "output_type": "stream",
     "text": [
      "\n",
      "predicting target prefix: ['Das']"
     ]
    },
    {
     "name": "stderr",
     "output_type": "stream",
     "text": [
      "INFO:__main__:Source: This is some sort of band or symphony practicing . </S>\n",
      "INFO:__main__:Target Hypothesis: ist lebhafte Band oder üben .\n",
      "INFO:__main__:Target Reference: ['ist', 'eine', 'Art', 'Band', 'oder', 'Orchester', 'beim', '\\xc3\\x9cben', '.']\n",
      "INFO:__main__:IMT F1 score: 0.133333333333\n"
     ]
    },
    {
     "name": "stdout",
     "output_type": "stream",
     "text": [
      "\n",
      "predicting target prefix: ['Das', 'ist']"
     ]
    },
    {
     "name": "stderr",
     "output_type": "stream",
     "text": [
      "INFO:__main__:Source: This is some sort of band or symphony practicing . </S>\n",
      "INFO:__main__:Target Hypothesis: lebhafte Band oder üben .\n",
      "INFO:__main__:Target Reference: ['eine', 'Art', 'Band', 'oder', 'Orchester', 'beim', '\\xc3\\x9cben', '.']\n",
      "INFO:__main__:IMT F1 score: 0.0\n"
     ]
    },
    {
     "name": "stdout",
     "output_type": "stream",
     "text": [
      "\n",
      "predicting target prefix: ['Das', 'ist', 'eine']"
     ]
    },
    {
     "name": "stderr",
     "output_type": "stream",
     "text": [
      "INFO:__main__:Source: This is some sort of band or symphony practicing . </S>\n",
      "INFO:__main__:Target Hypothesis: Band singt oder üben .\n",
      "INFO:__main__:Target Reference: ['Art', 'Band', 'oder', 'Orchester', 'beim', '\\xc3\\x9cben', '.']\n",
      "INFO:__main__:IMT F1 score: 0.0\n"
     ]
    },
    {
     "name": "stdout",
     "output_type": "stream",
     "text": [
      "\n",
      "predicting target prefix: ['Das', 'ist', 'eine', 'Art']"
     ]
    },
    {
     "name": "stderr",
     "output_type": "stream",
     "text": [
      "INFO:__main__:Source: This is some sort of band or symphony practicing . </S>\n",
      "INFO:__main__:Target Hypothesis: Band oder üben .\n",
      "INFO:__main__:Target Reference: ['Band', 'oder', 'Orchester', 'beim', '\\xc3\\x9cben', '.']\n",
      "INFO:__main__:IMT F1 score: 0.4\n"
     ]
    },
    {
     "name": "stdout",
     "output_type": "stream",
     "text": [
      "\n",
      "predicting target prefix: ['Das', 'ist', 'eine', 'Art', 'Band']"
     ]
    },
    {
     "name": "stderr",
     "output_type": "stream",
     "text": [
      "INFO:__main__:Source: This is some sort of band or symphony practicing . </S>\n",
      "INFO:__main__:Target Hypothesis: oder üben .\n",
      "INFO:__main__:Target Reference: ['oder', 'Orchester', 'beim', '\\xc3\\x9cben', '.']\n",
      "INFO:__main__:IMT F1 score: 0.25\n"
     ]
    },
    {
     "name": "stdout",
     "output_type": "stream",
     "text": [
      "\n",
      "predicting target prefix: ['Das', 'ist', 'eine', 'Art', 'Band', 'oder']"
     ]
    },
    {
     "name": "stderr",
     "output_type": "stream",
     "text": [
      "INFO:__main__:Source: This is some sort of band or symphony practicing . </S>\n",
      "INFO:__main__:Target Hypothesis: üben .\n",
      "INFO:__main__:Target Reference: ['Orchester', 'beim', '\\xc3\\x9cben', '.']\n",
      "INFO:__main__:IMT F1 score: 0.0\n"
     ]
    },
    {
     "name": "stdout",
     "output_type": "stream",
     "text": [
      "\n",
      "predicting target prefix: ['Das', 'ist', 'eine', 'Art', 'Band', 'oder', 'Orchester']"
     ]
    },
    {
     "name": "stderr",
     "output_type": "stream",
     "text": [
      "INFO:__main__:Source: This is some sort of band or symphony practicing . </S>\n",
      "INFO:__main__:Target Hypothesis: kocht .\n",
      "INFO:__main__:Target Reference: ['beim', '\\xc3\\x9cben', '.']\n",
      "INFO:__main__:IMT F1 score: 0.0\n",
      "INFO:__main__:Source: This is some sort of band or symphony practicing . </S>\n",
      "INFO:__main__:Target Hypothesis: üben .\n",
      "INFO:__main__:Target Reference: ['\\xc3\\x9cben', '.']\n",
      "INFO:__main__:IMT F1 score: 0.0\n"
     ]
    },
    {
     "name": "stdout",
     "output_type": "stream",
     "text": [
      "\n",
      "predicting target prefix: ['Das', 'ist', 'eine', 'Art', 'Band', 'oder', 'Orchester', 'beim']\n",
      "predicting target prefix: ['Das', 'ist', 'eine', 'Art', 'Band', 'oder', 'Orchester', 'beim', '\\xc3\\x9cben']"
     ]
    },
    {
     "name": "stderr",
     "output_type": "stream",
     "text": [
      "INFO:__main__:Source: This is some sort of band or symphony practicing . </S>\n",
      "INFO:__main__:Target Hypothesis: .\n",
      "INFO:__main__:Target Reference: ['.']\n",
      "INFO:__main__:IMT F1 score: 1.0\n",
      "INFO:__main__:Source: This is some sort of band or symphony practicing . </S>\n",
      "INFO:__main__:Target Hypothesis: </S> .\n",
      "INFO:__main__:Target Reference: []\n",
      "INFO:__main__:IMT F1 score: 0.0\n",
      "INFO:__main__:Translating segment: 89\n"
     ]
    },
    {
     "name": "stdout",
     "output_type": "stream",
     "text": [
      "\n",
      "predicting target prefix: ['Das', 'ist', 'eine', 'Art', 'Band', 'oder', 'Orchester', 'beim', '\\xc3\\x9cben', '.']\n",
      "predicting target prefix: ['Zwei']"
     ]
    },
    {
     "name": "stderr",
     "output_type": "stream",
     "text": [
      "INFO:__main__:Source: Two people playing a game facing each other . </S>\n",
      "INFO:__main__:Target Hypothesis: Menschen spielen in einem Spiel gegenüber .\n",
      "INFO:__main__:Target Reference: ['einander', 'zugewandte', 'Menschen', 'spielen', 'ein', 'Spiel', '.']\n",
      "INFO:__main__:IMT F1 score: 0.0\n"
     ]
    },
    {
     "name": "stdout",
     "output_type": "stream",
     "text": [
      "\n",
      "predicting target prefix: ['Zwei', 'einander']"
     ]
    },
    {
     "name": "stderr",
     "output_type": "stream",
     "text": [
      "INFO:__main__:Source: Two people playing a game facing each other . </S>\n",
      "INFO:__main__:Target Hypothesis: auf einem Spiel sind gegenüber .\n",
      "INFO:__main__:Target Reference: ['zugewandte', 'Menschen', 'spielen', 'ein', 'Spiel', '.']\n",
      "INFO:__main__:IMT F1 score: 0.0\n"
     ]
    },
    {
     "name": "stdout",
     "output_type": "stream",
     "text": [
      "\n",
      "predicting target prefix: ['Zwei', 'einander', 'zugewandte']"
     ]
    },
    {
     "name": "stderr",
     "output_type": "stream",
     "text": [
      "INFO:__main__:Source: Two people playing a game facing each other . </S>\n",
      "INFO:__main__:Target Hypothesis: Kampfsport .\n",
      "INFO:__main__:Target Reference: ['Menschen', 'spielen', 'ein', 'Spiel', '.']\n",
      "INFO:__main__:IMT F1 score: 0.0\n",
      "INFO:__main__:Source: Two people playing a game facing each other . </S>\n",
      "INFO:__main__:Target Hypothesis: im Stadion .\n",
      "INFO:__main__:Target Reference: ['spielen', 'ein', 'Spiel', '.']\n",
      "INFO:__main__:IMT F1 score: 0.0\n"
     ]
    },
    {
     "name": "stdout",
     "output_type": "stream",
     "text": [
      "\n",
      "predicting target prefix: ['Zwei', 'einander', 'zugewandte', 'Menschen']\n",
      "predicting target prefix: ['Zwei', 'einander', 'zugewandte', 'Menschen', 'spielen']"
     ]
    },
    {
     "name": "stderr",
     "output_type": "stream",
     "text": [
      "INFO:__main__:Source: Two people playing a game facing each other . </S>\n",
      "INFO:__main__:Target Hypothesis: gegenüber .\n",
      "INFO:__main__:Target Reference: ['ein', 'Spiel', '.']\n",
      "INFO:__main__:IMT F1 score: 0.0\n",
      "INFO:__main__:Source: Two people playing a game facing each other . </S>\n",
      "INFO:__main__:Target Hypothesis: Spiel .\n",
      "INFO:__main__:Target Reference: ['Spiel', '.']\n",
      "INFO:__main__:IMT F1 score: 1.0\n"
     ]
    },
    {
     "name": "stdout",
     "output_type": "stream",
     "text": [
      "\n",
      "predicting target prefix: ['Zwei', 'einander', 'zugewandte', 'Menschen', 'spielen', 'ein']\n",
      "predicting target prefix: ['Zwei', 'einander', 'zugewandte', 'Menschen', 'spielen', 'ein', 'Spiel']"
     ]
    },
    {
     "name": "stderr",
     "output_type": "stream",
     "text": [
      "INFO:__main__:Source: Two people playing a game facing each other . </S>\n",
      "INFO:__main__:Target Hypothesis: .\n",
      "INFO:__main__:Target Reference: ['.']\n",
      "INFO:__main__:IMT F1 score: 1.0\n",
      "INFO:__main__:Source: Two people playing a game facing each other . </S>\n",
      "INFO:__main__:Target Hypothesis: </S> .\n",
      "INFO:__main__:Target Reference: []\n",
      "INFO:__main__:IMT F1 score: 0.0\n",
      "INFO:__main__:Translating segment: 90\n"
     ]
    },
    {
     "name": "stdout",
     "output_type": "stream",
     "text": [
      "\n",
      "predicting target prefix: ['Zwei', 'einander', 'zugewandte', 'Menschen', 'spielen', 'ein', 'Spiel', '.']\n",
      "predicting target prefix: ['Mehrere']"
     ]
    },
    {
     "name": "stderr",
     "output_type": "stream",
     "text": [
      "INFO:__main__:Source: Several girls are playing with flour . </S>\n",
      "INFO:__main__:Target Hypothesis: Mädchen spielen mit Holz .\n",
      "INFO:__main__:Target Reference: ['M\\xc3\\xa4dchen', 'spielen', 'mit', 'Mehl', '.']\n",
      "INFO:__main__:IMT F1 score: 0.6\n"
     ]
    },
    {
     "name": "stdout",
     "output_type": "stream",
     "text": [
      "\n",
      "predicting target prefix: ['Mehrere', 'M\\xc3\\xa4dchen']"
     ]
    },
    {
     "name": "stderr",
     "output_type": "stream",
     "text": [
      "INFO:__main__:Source: Several girls are playing with flour . </S>\n",
      "INFO:__main__:Target Hypothesis: spielen mit Holz .\n",
      "INFO:__main__:Target Reference: ['spielen', 'mit', 'Mehl', '.']\n",
      "INFO:__main__:IMT F1 score: 0.5\n",
      "INFO:__main__:Source: Several girls are playing with flour . </S>\n",
      "INFO:__main__:Target Hypothesis: mit Holz .\n",
      "INFO:__main__:Target Reference: ['mit', 'Mehl', '.']\n",
      "INFO:__main__:IMT F1 score: 0.333333333333\n"
     ]
    },
    {
     "name": "stdout",
     "output_type": "stream",
     "text": [
      "\n",
      "predicting target prefix: ['Mehrere', 'M\\xc3\\xa4dchen', 'spielen']\n",
      "predicting target prefix: ['Mehrere', 'M\\xc3\\xa4dchen', 'spielen', 'mit']"
     ]
    },
    {
     "name": "stderr",
     "output_type": "stream",
     "text": [
      "INFO:__main__:Source: Several girls are playing with flour . </S>\n",
      "INFO:__main__:Target Hypothesis: Holz .\n",
      "INFO:__main__:Target Reference: ['Mehl', '.']\n",
      "INFO:__main__:IMT F1 score: 0.0\n",
      "INFO:__main__:Source: Several girls are playing with flour . </S>\n",
      "INFO:__main__:Target Hypothesis: .\n",
      "INFO:__main__:Target Reference: ['.']\n",
      "INFO:__main__:IMT F1 score: 1.0\n"
     ]
    },
    {
     "name": "stdout",
     "output_type": "stream",
     "text": [
      "\n",
      "predicting target prefix: ['Mehrere', 'M\\xc3\\xa4dchen', 'spielen', 'mit', 'Mehl']\n",
      "predicting target prefix: ['Mehrere', 'M\\xc3\\xa4dchen', 'spielen', 'mit', 'Mehl', '.']"
     ]
    },
    {
     "name": "stderr",
     "output_type": "stream",
     "text": [
      "INFO:__main__:Source: Several girls are playing with flour . </S>\n",
      "INFO:__main__:Target Hypothesis: </S> .\n",
      "INFO:__main__:Target Reference: []\n",
      "INFO:__main__:IMT F1 score: 0.0\n",
      "INFO:__main__:Translating segment: 91\n",
      "INFO:__main__:Source: A young girl is playing a musical instrument and singing into a microphone . </S>\n",
      "INFO:__main__:Target Hypothesis: junges Mädchen spielt ein Musikinstrument und singt in ein Mikrofon .\n",
      "INFO:__main__:Target Reference: ['junges', 'M\\xc3\\xa4dchen', 'spielt', 'ein', 'Musikinstrument', 'und', 'singt', 'in', 'ein', 'Mikrofon', '.']\n",
      "INFO:__main__:IMT F1 score: 1.0\n"
     ]
    },
    {
     "name": "stdout",
     "output_type": "stream",
     "text": [
      "\n",
      "predicting target prefix: ['Ein']\n",
      "predicting target prefix: ['Ein', 'junges']"
     ]
    },
    {
     "name": "stderr",
     "output_type": "stream",
     "text": [
      "INFO:__main__:Source: A young girl is playing a musical instrument and singing into a microphone . </S>\n",
      "INFO:__main__:Target Hypothesis: Mädchen spielt ein Musikinstrument und singt in ein Mikrofon .\n",
      "INFO:__main__:Target Reference: ['M\\xc3\\xa4dchen', 'spielt', 'ein', 'Musikinstrument', 'und', 'singt', 'in', 'ein', 'Mikrofon', '.']\n",
      "INFO:__main__:IMT F1 score: 1.0\n"
     ]
    },
    {
     "name": "stdout",
     "output_type": "stream",
     "text": [
      "\n",
      "predicting target prefix: ['Ein', 'junges', 'M\\xc3\\xa4dchen']"
     ]
    },
    {
     "name": "stderr",
     "output_type": "stream",
     "text": [
      "INFO:__main__:Source: A young girl is playing a musical instrument and singing into a microphone . </S>\n",
      "INFO:__main__:Target Hypothesis: spielt ein Musikinstrument und singt in ein Mikrofon .\n",
      "INFO:__main__:Target Reference: ['spielt', 'ein', 'Musikinstrument', 'und', 'singt', 'in', 'ein', 'Mikrofon', '.']\n",
      "INFO:__main__:IMT F1 score: 1.0\n"
     ]
    },
    {
     "name": "stdout",
     "output_type": "stream",
     "text": [
      "\n",
      "predicting target prefix: ['Ein', 'junges', 'M\\xc3\\xa4dchen', 'spielt']"
     ]
    },
    {
     "name": "stderr",
     "output_type": "stream",
     "text": [
      "INFO:__main__:Source: A young girl is playing a musical instrument and singing into a microphone . </S>\n",
      "INFO:__main__:Target Hypothesis: ein Musikinstrument und singt in ein Mikrofon .\n",
      "INFO:__main__:Target Reference: ['ein', 'Musikinstrument', 'und', 'singt', 'in', 'ein', 'Mikrofon', '.']\n",
      "INFO:__main__:IMT F1 score: 1.0\n"
     ]
    },
    {
     "name": "stdout",
     "output_type": "stream",
     "text": [
      "\n",
      "predicting target prefix: ['Ein', 'junges', 'M\\xc3\\xa4dchen', 'spielt', 'ein']"
     ]
    },
    {
     "name": "stderr",
     "output_type": "stream",
     "text": [
      "INFO:__main__:Source: A young girl is playing a musical instrument and singing into a microphone . </S>\n",
      "INFO:__main__:Target Hypothesis: Musikinstrument und singt in ein Mikrofon .\n",
      "INFO:__main__:Target Reference: ['Musikinstrument', 'und', 'singt', 'in', 'ein', 'Mikrofon', '.']\n",
      "INFO:__main__:IMT F1 score: 1.0\n"
     ]
    },
    {
     "name": "stdout",
     "output_type": "stream",
     "text": [
      "\n",
      "predicting target prefix: ['Ein', 'junges', 'M\\xc3\\xa4dchen', 'spielt', 'ein', 'Musikinstrument']"
     ]
    },
    {
     "name": "stderr",
     "output_type": "stream",
     "text": [
      "INFO:__main__:Source: A young girl is playing a musical instrument and singing into a microphone . </S>\n",
      "INFO:__main__:Target Hypothesis: und singt in ein Mikrofon .\n",
      "INFO:__main__:Target Reference: ['und', 'singt', 'in', 'ein', 'Mikrofon', '.']\n",
      "INFO:__main__:IMT F1 score: 1.0\n"
     ]
    },
    {
     "name": "stdout",
     "output_type": "stream",
     "text": [
      "\n",
      "predicting target prefix: ['Ein', 'junges', 'M\\xc3\\xa4dchen', 'spielt', 'ein', 'Musikinstrument', 'und']"
     ]
    },
    {
     "name": "stderr",
     "output_type": "stream",
     "text": [
      "INFO:__main__:Source: A young girl is playing a musical instrument and singing into a microphone . </S>\n",
      "INFO:__main__:Target Hypothesis: singt in ein Mikrofon .\n",
      "INFO:__main__:Target Reference: ['singt', 'in', 'ein', 'Mikrofon', '.']\n",
      "INFO:__main__:IMT F1 score: 1.0\n"
     ]
    },
    {
     "name": "stdout",
     "output_type": "stream",
     "text": [
      "\n",
      "predicting target prefix: ['Ein', 'junges', 'M\\xc3\\xa4dchen', 'spielt', 'ein', 'Musikinstrument', 'und', 'singt']"
     ]
    },
    {
     "name": "stderr",
     "output_type": "stream",
     "text": [
      "INFO:__main__:Source: A young girl is playing a musical instrument and singing into a microphone . </S>\n",
      "INFO:__main__:Target Hypothesis: in ein Mikrofon .\n",
      "INFO:__main__:Target Reference: ['in', 'ein', 'Mikrofon', '.']\n",
      "INFO:__main__:IMT F1 score: 1.0\n"
     ]
    },
    {
     "name": "stdout",
     "output_type": "stream",
     "text": [
      "\n",
      "predicting target prefix: ['Ein', 'junges', 'M\\xc3\\xa4dchen', 'spielt', 'ein', 'Musikinstrument', 'und', 'singt', 'in']"
     ]
    },
    {
     "name": "stderr",
     "output_type": "stream",
     "text": [
      "INFO:__main__:Source: A young girl is playing a musical instrument and singing into a microphone . </S>\n",
      "INFO:__main__:Target Hypothesis: ein Mikrofon .\n",
      "INFO:__main__:Target Reference: ['ein', 'Mikrofon', '.']\n",
      "INFO:__main__:IMT F1 score: 1.0\n",
      "INFO:__main__:Source: A young girl is playing a musical instrument and singing into a microphone . </S>\n",
      "INFO:__main__:Target Hypothesis: Mikrofon .\n",
      "INFO:__main__:Target Reference: ['Mikrofon', '.']\n",
      "INFO:__main__:IMT F1 score: 1.0\n"
     ]
    },
    {
     "name": "stdout",
     "output_type": "stream",
     "text": [
      "\n",
      "predicting target prefix: ['Ein', 'junges', 'M\\xc3\\xa4dchen', 'spielt', 'ein', 'Musikinstrument', 'und', 'singt', 'in', 'ein']\n",
      "predicting target prefix: ['Ein', 'junges', 'M\\xc3\\xa4dchen', 'spielt', 'ein', 'Musikinstrument', 'und', 'singt', 'in', 'ein', 'Mikrofon']"
     ]
    },
    {
     "name": "stderr",
     "output_type": "stream",
     "text": [
      "INFO:__main__:Source: A young girl is playing a musical instrument and singing into a microphone . </S>\n",
      "INFO:__main__:Target Hypothesis: .\n",
      "INFO:__main__:Target Reference: ['.']\n",
      "INFO:__main__:IMT F1 score: 1.0\n"
     ]
    },
    {
     "name": "stdout",
     "output_type": "stream",
     "text": [
      "\n",
      "predicting target prefix: ['Ein', 'junges', 'M\\xc3\\xa4dchen', 'spielt', 'ein', 'Musikinstrument', 'und', 'singt', 'in', 'ein', 'Mikrofon', '.']"
     ]
    },
    {
     "name": "stderr",
     "output_type": "stream",
     "text": [
      "INFO:__main__:Source: A young girl is playing a musical instrument and singing into a microphone . </S>\n",
      "INFO:__main__:Target Hypothesis: </S> .\n",
      "INFO:__main__:Target Reference: []\n",
      "INFO:__main__:IMT F1 score: 0.0\n",
      "INFO:__main__:Translating segment: 92\n"
     ]
    },
    {
     "name": "stdout",
     "output_type": "stream",
     "text": [
      "\n",
      "predicting target prefix: ['Ein']"
     ]
    },
    {
     "name": "stderr",
     "output_type": "stream",
     "text": [
      "INFO:__main__:Source: A man playing Mike <UNK> 's <UNK> on his computer . </S>\n",
      "INFO:__main__:Target Hypothesis: Mann spielt auf seinem Computer .\n",
      "INFO:__main__:Target Reference: ['Mann', 'spielt', 'Mike', 'Tyson', \"'\", 's', 'Punch-Out', 'auf', 'seinem', 'Computer', '.']\n",
      "INFO:__main__:IMT F1 score: 0.235294117647\n"
     ]
    },
    {
     "name": "stdout",
     "output_type": "stream",
     "text": [
      "\n",
      "predicting target prefix: ['Ein', 'Mann']"
     ]
    },
    {
     "name": "stderr",
     "output_type": "stream",
     "text": [
      "INFO:__main__:Source: A man playing Mike <UNK> 's <UNK> on his computer . </S>\n",
      "INFO:__main__:Target Hypothesis: spielt auf seinem Computer .\n",
      "INFO:__main__:Target Reference: ['spielt', 'Mike', 'Tyson', \"'\", 's', 'Punch-Out', 'auf', 'seinem', 'Computer', '.']\n",
      "INFO:__main__:IMT F1 score: 0.133333333333\n"
     ]
    },
    {
     "name": "stdout",
     "output_type": "stream",
     "text": [
      "\n",
      "predicting target prefix: ['Ein', 'Mann', 'spielt']"
     ]
    },
    {
     "name": "stderr",
     "output_type": "stream",
     "text": [
      "INFO:__main__:Source: A man playing Mike <UNK> 's <UNK> on his computer . </S>\n",
      "INFO:__main__:Target Hypothesis: auf seinem Computer .\n",
      "INFO:__main__:Target Reference: ['Mike', 'Tyson', \"'\", 's', 'Punch-Out', 'auf', 'seinem', 'Computer', '.']\n",
      "INFO:__main__:IMT F1 score: 0.0\n"
     ]
    },
    {
     "name": "stdout",
     "output_type": "stream",
     "text": [
      "\n",
      "predicting target prefix: ['Ein', 'Mann', 'spielt', 'Mike']"
     ]
    },
    {
     "name": "stderr",
     "output_type": "stream",
     "text": [
      "INFO:__main__:Source: A man playing Mike <UNK> 's <UNK> on his computer . </S>\n",
      "INFO:__main__:Target Hypothesis: Videospiele auf seinem Computer .\n",
      "INFO:__main__:Target Reference: ['Tyson', \"'\", 's', 'Punch-Out', 'auf', 'seinem', 'Computer', '.']\n",
      "INFO:__main__:IMT F1 score: 0.0\n"
     ]
    },
    {
     "name": "stdout",
     "output_type": "stream",
     "text": [
      "\n",
      "predicting target prefix: ['Ein', 'Mann', 'spielt', 'Mike', 'Tyson']"
     ]
    },
    {
     "name": "stderr",
     "output_type": "stream",
     "text": [
      "INFO:__main__:Source: A man playing Mike <UNK> 's <UNK> on his computer . </S>\n",
      "INFO:__main__:Target Hypothesis: auf seinem Computer .\n",
      "INFO:__main__:Target Reference: [\"'\", 's', 'Punch-Out', 'auf', 'seinem', 'Computer', '.']\n",
      "INFO:__main__:IMT F1 score: 0.0\n"
     ]
    },
    {
     "name": "stdout",
     "output_type": "stream",
     "text": [
      "\n",
      "predicting target prefix: ['Ein', 'Mann', 'spielt', 'Mike', 'Tyson', \"'\"]"
     ]
    },
    {
     "name": "stderr",
     "output_type": "stream",
     "text": [
      "INFO:__main__:Source: A man playing Mike <UNK> 's <UNK> on his computer . </S>\n",
      "INFO:__main__:Target Hypothesis: s Computer .\n",
      "INFO:__main__:Target Reference: ['s', 'Punch-Out', 'auf', 'seinem', 'Computer', '.']\n",
      "INFO:__main__:IMT F1 score: 0.222222222222\n"
     ]
    },
    {
     "name": "stdout",
     "output_type": "stream",
     "text": [
      "\n",
      "predicting target prefix: ['Ein', 'Mann', 'spielt', 'Mike', 'Tyson', \"'\", 's']"
     ]
    },
    {
     "name": "stderr",
     "output_type": "stream",
     "text": [
      "INFO:__main__:Source: A man playing Mike <UNK> 's <UNK> on his computer . </S>\n",
      "INFO:__main__:Target Hypothesis: Computer .\n",
      "INFO:__main__:Target Reference: ['Punch-Out', 'auf', 'seinem', 'Computer', '.']\n",
      "INFO:__main__:IMT F1 score: 0.0\n"
     ]
    },
    {
     "name": "stdout",
     "output_type": "stream",
     "text": [
      "\n",
      "predicting target prefix: ['Ein', 'Mann', 'spielt', 'Mike', 'Tyson', \"'\", 's', 'Punch-Out']"
     ]
    },
    {
     "name": "stderr",
     "output_type": "stream",
     "text": [
      "INFO:__main__:Source: A man playing Mike <UNK> 's <UNK> on his computer . </S>\n",
      "INFO:__main__:Target Hypothesis: .\n",
      "INFO:__main__:Target Reference: ['auf', 'seinem', 'Computer', '.']\n",
      "INFO:__main__:IMT F1 score: 0.0\n"
     ]
    },
    {
     "name": "stdout",
     "output_type": "stream",
     "text": [
      "\n",
      "predicting target prefix: ['Ein', 'Mann', 'spielt', 'Mike', 'Tyson', \"'\", 's', 'Punch-Out', 'auf']"
     ]
    },
    {
     "name": "stderr",
     "output_type": "stream",
     "text": [
      "INFO:__main__:Source: A man playing Mike <UNK> 's <UNK> on his computer . </S>\n",
      "INFO:__main__:Target Hypothesis: seinem Computer .\n",
      "INFO:__main__:Target Reference: ['seinem', 'Computer', '.']\n",
      "INFO:__main__:IMT F1 score: 1.0\n"
     ]
    },
    {
     "name": "stdout",
     "output_type": "stream",
     "text": [
      "\n",
      "predicting target prefix: ['Ein', 'Mann', 'spielt', 'Mike', 'Tyson', \"'\", 's', 'Punch-Out', 'auf', 'seinem']"
     ]
    },
    {
     "name": "stderr",
     "output_type": "stream",
     "text": [
      "INFO:__main__:Source: A man playing Mike <UNK> 's <UNK> on his computer . </S>\n",
      "INFO:__main__:Target Hypothesis: Computer .\n",
      "INFO:__main__:Target Reference: ['Computer', '.']\n",
      "INFO:__main__:IMT F1 score: 1.0\n"
     ]
    },
    {
     "name": "stdout",
     "output_type": "stream",
     "text": [
      "\n",
      "predicting target prefix: ['Ein', 'Mann', 'spielt', 'Mike', 'Tyson', \"'\", 's', 'Punch-Out', 'auf', 'seinem', 'Computer']"
     ]
    },
    {
     "name": "stderr",
     "output_type": "stream",
     "text": [
      "INFO:__main__:Source: A man playing Mike <UNK> 's <UNK> on his computer . </S>\n",
      "INFO:__main__:Target Hypothesis: .\n",
      "INFO:__main__:Target Reference: ['.']\n",
      "INFO:__main__:IMT F1 score: 1.0\n"
     ]
    },
    {
     "name": "stdout",
     "output_type": "stream",
     "text": [
      "\n",
      "predicting target prefix: ['Ein', 'Mann', 'spielt', 'Mike', 'Tyson', \"'\", 's', 'Punch-Out', 'auf', 'seinem', 'Computer', '.']"
     ]
    },
    {
     "name": "stderr",
     "output_type": "stream",
     "text": [
      "INFO:__main__:Source: A man playing Mike <UNK> 's <UNK> on his computer . </S>\n",
      "INFO:__main__:Target Hypothesis: </S> .\n",
      "INFO:__main__:Target Reference: []\n",
      "INFO:__main__:IMT F1 score: 0.0\n",
      "INFO:__main__:Translating segment: 93\n"
     ]
    },
    {
     "name": "stdout",
     "output_type": "stream",
     "text": [
      "\n",
      "predicting target prefix: ['Ein']"
     ]
    },
    {
     "name": "stderr",
     "output_type": "stream",
     "text": [
      "INFO:__main__:Source: A man that looks like he has been hit is lying on the ground in front of some junk . </S>\n",
      "INFO:__main__:Target Hypothesis: als Schwimmer tanzt aus Holz .\n",
      "INFO:__main__:Target Reference: ['Mann', ',', 'der', 'aussieht', ',', 'als', 'ob', 'er', 'geschlagen', 'worden', 'w\\xc3\\xa4re', ',', 'liegt', 'vor', 'irgendwelchem', 'Ger\\xc3\\xbcmpel', 'auf', 'dem', 'Boden', '.']\n",
      "INFO:__main__:IMT F1 score: 0.0\n"
     ]
    },
    {
     "name": "stdout",
     "output_type": "stream",
     "text": [
      "\n",
      "predicting target prefix: ['Ein', 'Mann']"
     ]
    },
    {
     "name": "stderr",
     "output_type": "stream",
     "text": [
      "INFO:__main__:Source: A man that looks like he has been hit is lying on the ground in front of some junk . </S>\n",
      "INFO:__main__:Target Hypothesis: wird von tiefstem Balls gesichert ist , ist auf dem Boden gefallen ist .\n",
      "INFO:__main__:Target Reference: [',', 'der', 'aussieht', ',', 'als', 'ob', 'er', 'geschlagen', 'worden', 'w\\xc3\\xa4re', ',', 'liegt', 'vor', 'irgendwelchem', 'Ger\\xc3\\xbcmpel', 'auf', 'dem', 'Boden', '.']\n",
      "INFO:__main__:IMT F1 score: 0.0\n"
     ]
    },
    {
     "name": "stdout",
     "output_type": "stream",
     "text": [
      "\n",
      "predicting target prefix: ['Ein', 'Mann', ',']"
     ]
    },
    {
     "name": "stderr",
     "output_type": "stream",
     "text": [
      "INFO:__main__:Source: A man that looks like he has been hit is lying on the ground in front of some junk . </S>\n",
      "INFO:__main__:Target Hypothesis: der gleich verkleidet ist , ist auf dem Boden und vor ihm brennt .\n",
      "INFO:__main__:Target Reference: ['der', 'aussieht', ',', 'als', 'ob', 'er', 'geschlagen', 'worden', 'w\\xc3\\xa4re', ',', 'liegt', 'vor', 'irgendwelchem', 'Ger\\xc3\\xbcmpel', 'auf', 'dem', 'Boden', '.']\n",
      "INFO:__main__:IMT F1 score: 0.0625\n"
     ]
    },
    {
     "name": "stdout",
     "output_type": "stream",
     "text": [
      "\n",
      "predicting target prefix: ['Ein', 'Mann', ',', 'der']"
     ]
    },
    {
     "name": "stderr",
     "output_type": "stream",
     "text": [
      "INFO:__main__:Source: A man that looks like he has been hit is lying on the ground in front of some junk . </S>\n",
      "INFO:__main__:Target Hypothesis: gleich verkleidet ist , tanzt auf dem Boden .\n",
      "INFO:__main__:Target Reference: ['aussieht', ',', 'als', 'ob', 'er', 'geschlagen', 'worden', 'w\\xc3\\xa4re', ',', 'liegt', 'vor', 'irgendwelchem', 'Ger\\xc3\\xbcmpel', 'auf', 'dem', 'Boden', '.']\n",
      "INFO:__main__:IMT F1 score: 0.0\n"
     ]
    },
    {
     "name": "stdout",
     "output_type": "stream",
     "text": [
      "\n",
      "predicting target prefix: ['Ein', 'Mann', ',', 'der', 'aussieht']"
     ]
    },
    {
     "name": "stderr",
     "output_type": "stream",
     "text": [
      "INFO:__main__:Source: A man that looks like he has been hit is lying on the ground in front of some junk . </S>\n",
      "INFO:__main__:Target Hypothesis: wie er auf dem Boden ist aus Holz ist .\n",
      "INFO:__main__:Target Reference: [',', 'als', 'ob', 'er', 'geschlagen', 'worden', 'w\\xc3\\xa4re', ',', 'liegt', 'vor', 'irgendwelchem', 'Ger\\xc3\\xbcmpel', 'auf', 'dem', 'Boden', '.']\n",
      "INFO:__main__:IMT F1 score: 0.0\n"
     ]
    },
    {
     "name": "stdout",
     "output_type": "stream",
     "text": [
      "\n",
      "predicting target prefix: ['Ein', 'Mann', ',', 'der', 'aussieht', ',']"
     ]
    },
    {
     "name": "stderr",
     "output_type": "stream",
     "text": [
      "INFO:__main__:Source: A man that looks like he has been hit is lying on the ground in front of some junk . </S>\n",
      "INFO:__main__:Target Hypothesis: ist gerade etwas auf dem Boden ist .\n",
      "INFO:__main__:Target Reference: ['als', 'ob', 'er', 'geschlagen', 'worden', 'w\\xc3\\xa4re', ',', 'liegt', 'vor', 'irgendwelchem', 'Ger\\xc3\\xbcmpel', 'auf', 'dem', 'Boden', '.']\n",
      "INFO:__main__:IMT F1 score: 0.0\n"
     ]
    },
    {
     "name": "stdout",
     "output_type": "stream",
     "text": [
      "\n",
      "predicting target prefix: ['Ein', 'Mann', ',', 'der', 'aussieht', ',', 'als']"
     ]
    },
    {
     "name": "stderr",
     "output_type": "stream",
     "text": [
      "INFO:__main__:Source: A man that looks like he has been hit is lying on the ground in front of some junk . </S>\n",
      "INFO:__main__:Target Hypothesis: ob es gleich auf dem Boden liegt .\n",
      "INFO:__main__:Target Reference: ['ob', 'er', 'geschlagen', 'worden', 'w\\xc3\\xa4re', ',', 'liegt', 'vor', 'irgendwelchem', 'Ger\\xc3\\xbcmpel', 'auf', 'dem', 'Boden', '.']\n",
      "INFO:__main__:IMT F1 score: 0.0909090909091\n"
     ]
    },
    {
     "name": "stdout",
     "output_type": "stream",
     "text": [
      "\n",
      "predicting target prefix: ['Ein', 'Mann', ',', 'der', 'aussieht', ',', 'als', 'ob']"
     ]
    },
    {
     "name": "stderr",
     "output_type": "stream",
     "text": [
      "INFO:__main__:Source: A man that looks like he has been hit is lying on the ground in front of some junk . </S>\n",
      "INFO:__main__:Target Hypothesis: es gleich auf dem Boden liegt .\n",
      "INFO:__main__:Target Reference: ['er', 'geschlagen', 'worden', 'w\\xc3\\xa4re', ',', 'liegt', 'vor', 'irgendwelchem', 'Ger\\xc3\\xbcmpel', 'auf', 'dem', 'Boden', '.']\n",
      "INFO:__main__:IMT F1 score: 0.0\n"
     ]
    },
    {
     "name": "stdout",
     "output_type": "stream",
     "text": [
      "\n",
      "predicting target prefix: ['Ein', 'Mann', ',', 'der', 'aussieht', ',', 'als', 'ob', 'er']"
     ]
    },
    {
     "name": "stderr",
     "output_type": "stream",
     "text": [
      "INFO:__main__:Source: A man that looks like he has been hit is lying on the ground in front of some junk . </S>\n",
      "INFO:__main__:Target Hypothesis: auf dem Boden GNU \" GNU \" GNU \" GNU \" bewachsen ist .\n",
      "INFO:__main__:Target Reference: ['geschlagen', 'worden', 'w\\xc3\\xa4re', ',', 'liegt', 'vor', 'irgendwelchem', 'Ger\\xc3\\xbcmpel', 'auf', 'dem', 'Boden', '.']\n",
      "INFO:__main__:IMT F1 score: 0.0\n"
     ]
    },
    {
     "name": "stdout",
     "output_type": "stream",
     "text": [
      "\n",
      "predicting target prefix: ['Ein', 'Mann', ',', 'der', 'aussieht', ',', 'als', 'ob', 'er', 'geschlagen']"
     ]
    },
    {
     "name": "stderr",
     "output_type": "stream",
     "text": [
      "INFO:__main__:Source: A man that looks like he has been hit is lying on the ground in front of some junk . </S>\n",
      "INFO:__main__:Target Hypothesis: hat .\n",
      "INFO:__main__:Target Reference: ['worden', 'w\\xc3\\xa4re', ',', 'liegt', 'vor', 'irgendwelchem', 'Ger\\xc3\\xbcmpel', 'auf', 'dem', 'Boden', '.']\n",
      "INFO:__main__:IMT F1 score: 0.0\n"
     ]
    },
    {
     "name": "stdout",
     "output_type": "stream",
     "text": [
      "\n",
      "predicting target prefix: ['Ein', 'Mann', ',', 'der', 'aussieht', ',', 'als', 'ob', 'er', 'geschlagen', 'worden']"
     ]
    },
    {
     "name": "stderr",
     "output_type": "stream",
     "text": [
      "INFO:__main__:Source: A man that looks like he has been hit is lying on the ground in front of some junk . </S>\n",
      "INFO:__main__:Target Hypothesis: ist auf dem Boden ist .\n",
      "INFO:__main__:Target Reference: ['w\\xc3\\xa4re', ',', 'liegt', 'vor', 'irgendwelchem', 'Ger\\xc3\\xbcmpel', 'auf', 'dem', 'Boden', '.']\n",
      "INFO:__main__:IMT F1 score: 0.0\n"
     ]
    },
    {
     "name": "stdout",
     "output_type": "stream",
     "text": [
      "\n",
      "predicting target prefix: ['Ein', 'Mann', ',', 'der', 'aussieht', ',', 'als', 'ob', 'er', 'geschlagen', 'worden', 'w\\xc3\\xa4re']"
     ]
    },
    {
     "name": "stderr",
     "output_type": "stream",
     "text": [
      "INFO:__main__:Source: A man that looks like he has been hit is lying on the ground in front of some junk . </S>\n",
      "INFO:__main__:Target Hypothesis: ein Fass auf dem Boden ist .\n",
      "INFO:__main__:Target Reference: [',', 'liegt', 'vor', 'irgendwelchem', 'Ger\\xc3\\xbcmpel', 'auf', 'dem', 'Boden', '.']\n",
      "INFO:__main__:IMT F1 score: 0.0\n"
     ]
    },
    {
     "name": "stdout",
     "output_type": "stream",
     "text": [
      "\n",
      "predicting target prefix: ['Ein', 'Mann', ',', 'der', 'aussieht', ',', 'als', 'ob', 'er', 'geschlagen', 'worden', 'w\\xc3\\xa4re', ',']"
     ]
    },
    {
     "name": "stderr",
     "output_type": "stream",
     "text": [
      "INFO:__main__:Source: A man that looks like he has been hit is lying on the ground in front of some junk . </S>\n",
      "INFO:__main__:Target Hypothesis: bevor es ruhig beschmiert ist .\n",
      "INFO:__main__:Target Reference: ['liegt', 'vor', 'irgendwelchem', 'Ger\\xc3\\xbcmpel', 'auf', 'dem', 'Boden', '.']\n",
      "INFO:__main__:IMT F1 score: 0.0\n"
     ]
    },
    {
     "name": "stdout",
     "output_type": "stream",
     "text": [
      "\n",
      "predicting target prefix: ['Ein', 'Mann', ',', 'der', 'aussieht', ',', 'als', 'ob', 'er', 'geschlagen', 'worden', 'w\\xc3\\xa4re', ',', 'liegt']"
     ]
    },
    {
     "name": "stderr",
     "output_type": "stream",
     "text": [
      "INFO:__main__:Source: A man that looks like he has been hit is lying on the ground in front of some junk . </S>\n",
      "INFO:__main__:Target Hypothesis: auf dem Boden .\n",
      "INFO:__main__:Target Reference: ['vor', 'irgendwelchem', 'Ger\\xc3\\xbcmpel', 'auf', 'dem', 'Boden', '.']\n",
      "INFO:__main__:IMT F1 score: 0.0\n"
     ]
    },
    {
     "name": "stdout",
     "output_type": "stream",
     "text": [
      "\n",
      "predicting target prefix: ['Ein', 'Mann', ',', 'der', 'aussieht', ',', 'als', 'ob', 'er', 'geschlagen', 'worden', 'w\\xc3\\xa4re', ',', 'liegt', 'vor']"
     ]
    },
    {
     "name": "stderr",
     "output_type": "stream",
     "text": [
      "INFO:__main__:Source: A man that looks like he has been hit is lying on the ground in front of some junk . </S>\n",
      "INFO:__main__:Target Hypothesis: ihm gefüllten Urinal .\n",
      "INFO:__main__:Target Reference: ['irgendwelchem', 'Ger\\xc3\\xbcmpel', 'auf', 'dem', 'Boden', '.']\n",
      "INFO:__main__:IMT F1 score: 0.0\n"
     ]
    },
    {
     "name": "stdout",
     "output_type": "stream",
     "text": [
      "\n",
      "predicting target prefix: ['Ein', 'Mann', ',', 'der', 'aussieht', ',', 'als', 'ob', 'er', 'geschlagen', 'worden', 'w\\xc3\\xa4re', ',', 'liegt', 'vor', 'irgendwelchem']"
     ]
    },
    {
     "name": "stderr",
     "output_type": "stream",
     "text": [
      "INFO:__main__:Source: A man that looks like he has been hit is lying on the ground in front of some junk . </S>\n",
      "INFO:__main__:Target Hypothesis: Müll hindurch .\n",
      "INFO:__main__:Target Reference: ['Ger\\xc3\\xbcmpel', 'auf', 'dem', 'Boden', '.']\n",
      "INFO:__main__:IMT F1 score: 0.0\n"
     ]
    },
    {
     "name": "stdout",
     "output_type": "stream",
     "text": [
      "\n",
      "predicting target prefix: ['Ein', 'Mann', ',', 'der', 'aussieht', ',', 'als', 'ob', 'er', 'geschlagen', 'worden', 'w\\xc3\\xa4re', ',', 'liegt', 'vor', 'irgendwelchem', 'Ger\\xc3\\xbcmpel']"
     ]
    },
    {
     "name": "stderr",
     "output_type": "stream",
     "text": [
      "INFO:__main__:Source: A man that looks like he has been hit is lying on the ground in front of some junk . </S>\n",
      "INFO:__main__:Target Hypothesis: .\n",
      "INFO:__main__:Target Reference: ['auf', 'dem', 'Boden', '.']\n",
      "INFO:__main__:IMT F1 score: 0.0\n"
     ]
    },
    {
     "name": "stdout",
     "output_type": "stream",
     "text": [
      "\n",
      "predicting target prefix: ['Ein', 'Mann', ',', 'der', 'aussieht', ',', 'als', 'ob', 'er', 'geschlagen', 'worden', 'w\\xc3\\xa4re', ',', 'liegt', 'vor', 'irgendwelchem', 'Ger\\xc3\\xbcmpel', 'auf']"
     ]
    },
    {
     "name": "stderr",
     "output_type": "stream",
     "text": [
      "INFO:__main__:Source: A man that looks like he has been hit is lying on the ground in front of some junk . </S>\n",
      "INFO:__main__:Target Hypothesis: dem Boden .\n",
      "INFO:__main__:Target Reference: ['dem', 'Boden', '.']\n",
      "INFO:__main__:IMT F1 score: 1.0\n"
     ]
    },
    {
     "name": "stdout",
     "output_type": "stream",
     "text": [
      "\n",
      "predicting target prefix: ['Ein', 'Mann', ',', 'der', 'aussieht', ',', 'als', 'ob', 'er', 'geschlagen', 'worden', 'w\\xc3\\xa4re', ',', 'liegt', 'vor', 'irgendwelchem', 'Ger\\xc3\\xbcmpel', 'auf', 'dem']"
     ]
    },
    {
     "name": "stderr",
     "output_type": "stream",
     "text": [
      "INFO:__main__:Source: A man that looks like he has been hit is lying on the ground in front of some junk . </S>\n",
      "INFO:__main__:Target Hypothesis: Boden .\n",
      "INFO:__main__:Target Reference: ['Boden', '.']\n",
      "INFO:__main__:IMT F1 score: 1.0\n"
     ]
    },
    {
     "name": "stdout",
     "output_type": "stream",
     "text": [
      "\n",
      "predicting target prefix: ['Ein', 'Mann', ',', 'der', 'aussieht', ',', 'als', 'ob', 'er', 'geschlagen', 'worden', 'w\\xc3\\xa4re', ',', 'liegt', 'vor', 'irgendwelchem', 'Ger\\xc3\\xbcmpel', 'auf', 'dem', 'Boden']"
     ]
    },
    {
     "name": "stderr",
     "output_type": "stream",
     "text": [
      "INFO:__main__:Source: A man that looks like he has been hit is lying on the ground in front of some junk . </S>\n",
      "INFO:__main__:Target Hypothesis: .\n",
      "INFO:__main__:Target Reference: ['.']\n",
      "INFO:__main__:IMT F1 score: 1.0\n"
     ]
    },
    {
     "name": "stdout",
     "output_type": "stream",
     "text": [
      "\n",
      "predicting target prefix: ['Ein', 'Mann', ',', 'der', 'aussieht', ',', 'als', 'ob', 'er', 'geschlagen', 'worden', 'w\\xc3\\xa4re', ',', 'liegt', 'vor', 'irgendwelchem', 'Ger\\xc3\\xbcmpel', 'auf', 'dem', 'Boden', '.']"
     ]
    },
    {
     "name": "stderr",
     "output_type": "stream",
     "text": [
      "INFO:__main__:Source: A man that looks like he has been hit is lying on the ground in front of some junk . </S>\n",
      "INFO:__main__:Target Hypothesis: </S> .\n",
      "INFO:__main__:Target Reference: []\n",
      "INFO:__main__:IMT F1 score: 0.0\n",
      "INFO:__main__:Translating segment: 94\n"
     ]
    },
    {
     "name": "stdout",
     "output_type": "stream",
     "text": [
      "\n",
      "predicting target prefix: ['Szene']"
     ]
    },
    {
     "name": "stderr",
     "output_type": "stream",
     "text": [
      "INFO:__main__:Source: <UNK> of a person shoveling snow citizens walking around in a cold winter environment </S>\n",
      "INFO:__main__:Target Hypothesis: einer Person schaufelt in einem kalten Wintertag im Schnee .\n",
      "INFO:__main__:Target Reference: ['eines', 'Mannes', 'beim', 'Schneeschippen', ',', 'B\\xc3\\xbcrger', ',', 'die', 'in', 'einer', 'kalten', ',', 'winterlichen', 'Umgebung', 'herumlaufen']\n",
      "INFO:__main__:IMT F1 score: 0.0\n"
     ]
    },
    {
     "name": "stdout",
     "output_type": "stream",
     "text": [
      "\n",
      "predicting target prefix: ['Szene', 'eines']"
     ]
    },
    {
     "name": "stderr",
     "output_type": "stream",
     "text": [
      "INFO:__main__:Source: <UNK> of a person shoveling snow citizens walking around in a cold winter environment </S>\n",
      "INFO:__main__:Target Hypothesis: Mensch schaufelt in einem kalten Wintertag im Schnee .\n",
      "INFO:__main__:Target Reference: ['Mannes', 'beim', 'Schneeschippen', ',', 'B\\xc3\\xbcrger', ',', 'die', 'in', 'einer', 'kalten', ',', 'winterlichen', 'Umgebung', 'herumlaufen']\n",
      "INFO:__main__:IMT F1 score: 0.0\n"
     ]
    },
    {
     "name": "stdout",
     "output_type": "stream",
     "text": [
      "\n",
      "predicting target prefix: ['Szene', 'eines', 'Mannes']"
     ]
    },
    {
     "name": "stderr",
     "output_type": "stream",
     "text": [
      "INFO:__main__:Source: <UNK> of a person shoveling snow citizens walking around in a cold winter environment </S>\n",
      "INFO:__main__:Target Hypothesis: schaufelt in einem kalten Wintertag im Schnee .\n",
      "INFO:__main__:Target Reference: ['beim', 'Schneeschippen', ',', 'B\\xc3\\xbcrger', ',', 'die', 'in', 'einer', 'kalten', ',', 'winterlichen', 'Umgebung', 'herumlaufen']\n",
      "INFO:__main__:IMT F1 score: 0.0\n"
     ]
    },
    {
     "name": "stdout",
     "output_type": "stream",
     "text": [
      "\n",
      "predicting target prefix: ['Szene', 'eines', 'Mannes', 'beim']"
     ]
    },
    {
     "name": "stderr",
     "output_type": "stream",
     "text": [
      "INFO:__main__:Source: <UNK> of a person shoveling snow citizens walking around in a cold winter environment </S>\n",
      "INFO:__main__:Target Hypothesis: Saubermachen .\n",
      "INFO:__main__:Target Reference: ['Schneeschippen', ',', 'B\\xc3\\xbcrger', ',', 'die', 'in', 'einer', 'kalten', ',', 'winterlichen', 'Umgebung', 'herumlaufen']\n",
      "INFO:__main__:IMT F1 score: 0.0\n"
     ]
    },
    {
     "name": "stdout",
     "output_type": "stream",
     "text": [
      "\n",
      "predicting target prefix: ['Szene', 'eines', 'Mannes', 'beim', 'Schneeschippen']"
     ]
    },
    {
     "name": "stderr",
     "output_type": "stream",
     "text": [
      "INFO:__main__:Source: <UNK> of a person shoveling snow citizens walking around in a cold winter environment </S>\n",
      "INFO:__main__:Target Hypothesis: schaufelt in einem kalten Wintertag im Schnee .\n",
      "INFO:__main__:Target Reference: [',', 'B\\xc3\\xbcrger', ',', 'die', 'in', 'einer', 'kalten', ',', 'winterlichen', 'Umgebung', 'herumlaufen']\n",
      "INFO:__main__:IMT F1 score: 0.0\n"
     ]
    },
    {
     "name": "stdout",
     "output_type": "stream",
     "text": [
      "\n",
      "predicting target prefix: ['Szene', 'eines', 'Mannes', 'beim', 'Schneeschippen', ',']"
     ]
    },
    {
     "name": "stderr",
     "output_type": "stream",
     "text": [
      "INFO:__main__:Source: <UNK> of a person shoveling snow citizens walking around in a cold winter environment </S>\n",
      "INFO:__main__:Target Hypothesis: der auf einem kalten Wintertag im Schnee gewickelt ist .\n",
      "INFO:__main__:Target Reference: ['B\\xc3\\xbcrger', ',', 'die', 'in', 'einer', 'kalten', ',', 'winterlichen', 'Umgebung', 'herumlaufen']\n",
      "INFO:__main__:IMT F1 score: 0.0\n"
     ]
    },
    {
     "name": "stdout",
     "output_type": "stream",
     "text": [
      "\n",
      "predicting target prefix: ['Szene', 'eines', 'Mannes', 'beim', 'Schneeschippen', ',', 'B\\xc3\\xbcrger']"
     ]
    },
    {
     "name": "stderr",
     "output_type": "stream",
     "text": [
      "INFO:__main__:Source: <UNK> of a person shoveling snow citizens walking around in a cold winter environment </S>\n",
      "INFO:__main__:Target Hypothesis: in einem kalten Wintertag im Schnee .\n",
      "INFO:__main__:Target Reference: [',', 'die', 'in', 'einer', 'kalten', ',', 'winterlichen', 'Umgebung', 'herumlaufen']\n",
      "INFO:__main__:IMT F1 score: 0.0\n"
     ]
    },
    {
     "name": "stdout",
     "output_type": "stream",
     "text": [
      "\n",
      "predicting target prefix: ['Szene', 'eines', 'Mannes', 'beim', 'Schneeschippen', ',', 'B\\xc3\\xbcrger', ',']"
     ]
    },
    {
     "name": "stderr",
     "output_type": "stream",
     "text": [
      "INFO:__main__:Source: <UNK> of a person shoveling snow citizens walking around in a cold winter environment </S>\n",
      "INFO:__main__:Target Hypothesis: der auf einem kalten Wintertag im Schnee gewickelt ist .\n",
      "INFO:__main__:Target Reference: ['die', 'in', 'einer', 'kalten', ',', 'winterlichen', 'Umgebung', 'herumlaufen']\n",
      "INFO:__main__:IMT F1 score: 0.0\n"
     ]
    },
    {
     "name": "stdout",
     "output_type": "stream",
     "text": [
      "\n",
      "predicting target prefix: ['Szene', 'eines', 'Mannes', 'beim', 'Schneeschippen', ',', 'B\\xc3\\xbcrger', ',', 'die']"
     ]
    },
    {
     "name": "stderr",
     "output_type": "stream",
     "text": [
      "INFO:__main__:Source: <UNK> of a person shoveling snow citizens walking around in a cold winter environment </S>\n",
      "INFO:__main__:Target Hypothesis: in einem kalten Wintertag im Schnee gewickelt ist .\n",
      "INFO:__main__:Target Reference: ['in', 'einer', 'kalten', ',', 'winterlichen', 'Umgebung', 'herumlaufen']\n",
      "INFO:__main__:IMT F1 score: 0.125\n"
     ]
    },
    {
     "name": "stdout",
     "output_type": "stream",
     "text": [
      "\n",
      "predicting target prefix: ['Szene', 'eines', 'Mannes', 'beim', 'Schneeschippen', ',', 'B\\xc3\\xbcrger', ',', 'die', 'in']"
     ]
    },
    {
     "name": "stderr",
     "output_type": "stream",
     "text": [
      "INFO:__main__:Source: <UNK> of a person shoveling snow citizens walking around in a cold winter environment </S>\n",
      "INFO:__main__:Target Hypothesis: einem kalten Wintertag im Schnee gewickelt ist .\n",
      "INFO:__main__:Target Reference: ['einer', 'kalten', ',', 'winterlichen', 'Umgebung', 'herumlaufen']\n",
      "INFO:__main__:IMT F1 score: 0.0\n"
     ]
    },
    {
     "name": "stdout",
     "output_type": "stream",
     "text": [
      "\n",
      "predicting target prefix: ['Szene', 'eines', 'Mannes', 'beim', 'Schneeschippen', ',', 'B\\xc3\\xbcrger', ',', 'die', 'in', 'einer']"
     ]
    },
    {
     "name": "stderr",
     "output_type": "stream",
     "text": [
      "INFO:__main__:Source: <UNK> of a person shoveling snow citizens walking around in a cold winter environment </S>\n",
      "INFO:__main__:Target Hypothesis: kalten Wintertag im Schnee gewickelt ist .\n",
      "INFO:__main__:Target Reference: ['kalten', ',', 'winterlichen', 'Umgebung', 'herumlaufen']\n",
      "INFO:__main__:IMT F1 score: 0.166666666667\n"
     ]
    },
    {
     "name": "stdout",
     "output_type": "stream",
     "text": [
      "\n",
      "predicting target prefix: ['Szene', 'eines', 'Mannes', 'beim', 'Schneeschippen', ',', 'B\\xc3\\xbcrger', ',', 'die', 'in', 'einer', 'kalten']"
     ]
    },
    {
     "name": "stderr",
     "output_type": "stream",
     "text": [
      "INFO:__main__:Source: <UNK> of a person shoveling snow citizens walking around in a cold winter environment </S>\n",
      "INFO:__main__:Target Hypothesis: Wintertag im Schnee gewickelt ist .\n",
      "INFO:__main__:Target Reference: [',', 'winterlichen', 'Umgebung', 'herumlaufen']\n",
      "INFO:__main__:IMT F1 score: 0.0\n"
     ]
    },
    {
     "name": "stdout",
     "output_type": "stream",
     "text": [
      "\n",
      "predicting target prefix: ['Szene', 'eines', 'Mannes', 'beim', 'Schneeschippen', ',', 'B\\xc3\\xbcrger', ',', 'die', 'in', 'einer', 'kalten', ',']"
     ]
    },
    {
     "name": "stderr",
     "output_type": "stream",
     "text": [
      "INFO:__main__:Source: <UNK> of a person shoveling snow citizens walking around in a cold winter environment </S>\n",
      "INFO:__main__:Target Hypothesis: umgeben ist .\n",
      "INFO:__main__:Target Reference: ['winterlichen', 'Umgebung', 'herumlaufen']\n",
      "INFO:__main__:IMT F1 score: 0.0\n"
     ]
    },
    {
     "name": "stdout",
     "output_type": "stream",
     "text": [
      "\n",
      "predicting target prefix: ['Szene', 'eines', 'Mannes', 'beim', 'Schneeschippen', ',', 'B\\xc3\\xbcrger', ',', 'die', 'in', 'einer', 'kalten', ',', 'winterlichen']"
     ]
    },
    {
     "name": "stderr",
     "output_type": "stream",
     "text": [
      "INFO:__main__:Source: <UNK> of a person shoveling snow citizens walking around in a cold winter environment </S>\n",
      "INFO:__main__:Target Hypothesis: Nacht gewickelt ist .\n",
      "INFO:__main__:Target Reference: ['Umgebung', 'herumlaufen']\n",
      "INFO:__main__:IMT F1 score: 0.0\n"
     ]
    },
    {
     "name": "stdout",
     "output_type": "stream",
     "text": [
      "\n",
      "predicting target prefix: ['Szene', 'eines', 'Mannes', 'beim', 'Schneeschippen', ',', 'B\\xc3\\xbcrger', ',', 'die', 'in', 'einer', 'kalten', ',', 'winterlichen', 'Umgebung']"
     ]
    },
    {
     "name": "stderr",
     "output_type": "stream",
     "text": [
      "INFO:__main__:Source: <UNK> of a person shoveling snow citizens walking around in a cold winter environment </S>\n",
      "INFO:__main__:Target Hypothesis: liegt .\n",
      "INFO:__main__:Target Reference: ['herumlaufen']\n",
      "INFO:__main__:IMT F1 score: 0.0\n"
     ]
    },
    {
     "name": "stdout",
     "output_type": "stream",
     "text": [
      "\n",
      "predicting target prefix: ['Szene', 'eines', 'Mannes', 'beim', 'Schneeschippen', ',', 'B\\xc3\\xbcrger', ',', 'die', 'in', 'einer', 'kalten', ',', 'winterlichen', 'Umgebung', 'herumlaufen']"
     ]
    },
    {
     "name": "stderr",
     "output_type": "stream",
     "text": [
      "INFO:__main__:Source: <UNK> of a person shoveling snow citizens walking around in a cold winter environment </S>\n",
      "INFO:__main__:Target Hypothesis: .\n",
      "INFO:__main__:Target Reference: []\n",
      "INFO:__main__:IMT F1 score: 0.0\n",
      "INFO:__main__:Translating segment: 95\n"
     ]
    },
    {
     "name": "stdout",
     "output_type": "stream",
     "text": [
      "\n",
      "predicting target prefix: ['Eine']"
     ]
    },
    {
     "name": "stderr",
     "output_type": "stream",
     "text": [
      "INFO:__main__:Source: A group of people in plaid skirts , black vests and <UNK> shirts are playing drums . </S>\n",
      "INFO:__main__:Target Hypothesis: Gruppe von Menschen in karierter Röcken und T-Shirts spielt Schlagzeug .\n",
      "INFO:__main__:Target Reference: ['Gruppe', 'von', 'Menschen', 'in', 'Schottenr\\xc3\\xb6cken', ',', 'schwarzen', 'Westen', 'und', 'Hemden', 'mit', 'wei\\xc3\\x9fem', 'Kragen', 'trommelt', '.']\n",
      "INFO:__main__:IMT F1 score: 0.307692307692\n"
     ]
    },
    {
     "name": "stdout",
     "output_type": "stream",
     "text": [
      "\n",
      "predicting target prefix: ['Eine', 'Gruppe']"
     ]
    },
    {
     "name": "stderr",
     "output_type": "stream",
     "text": [
      "INFO:__main__:Source: A group of people in plaid skirts , black vests and <UNK> shirts are playing drums . </S>\n",
      "INFO:__main__:Target Hypothesis: von Menschen in karierter Röcken und T-Shirts spielt Schlagzeug .\n",
      "INFO:__main__:Target Reference: ['von', 'Menschen', 'in', 'Schottenr\\xc3\\xb6cken', ',', 'schwarzen', 'Westen', 'und', 'Hemden', 'mit', 'wei\\xc3\\x9fem', 'Kragen', 'trommelt', '.']\n",
      "INFO:__main__:IMT F1 score: 0.25\n"
     ]
    },
    {
     "name": "stdout",
     "output_type": "stream",
     "text": [
      "\n",
      "predicting target prefix: ['Eine', 'Gruppe', 'von']"
     ]
    },
    {
     "name": "stderr",
     "output_type": "stream",
     "text": [
      "INFO:__main__:Source: A group of people in plaid skirts , black vests and <UNK> shirts are playing drums . </S>\n",
      "INFO:__main__:Target Hypothesis: Menschen in karierter Röcken und T-Shirts spielt Schlagzeug .\n",
      "INFO:__main__:Target Reference: ['Menschen', 'in', 'Schottenr\\xc3\\xb6cken', ',', 'schwarzen', 'Westen', 'und', 'Hemden', 'mit', 'wei\\xc3\\x9fem', 'Kragen', 'trommelt', '.']\n",
      "INFO:__main__:IMT F1 score: 0.181818181818\n"
     ]
    },
    {
     "name": "stdout",
     "output_type": "stream",
     "text": [
      "\n",
      "predicting target prefix: ['Eine', 'Gruppe', 'von', 'Menschen']"
     ]
    },
    {
     "name": "stderr",
     "output_type": "stream",
     "text": [
      "INFO:__main__:Source: A group of people in plaid skirts , black vests and <UNK> shirts are playing drums . </S>\n",
      "INFO:__main__:Target Hypothesis: in karierter Röcken und T-Shirts spielt Schlagzeug .\n",
      "INFO:__main__:Target Reference: ['in', 'Schottenr\\xc3\\xb6cken', ',', 'schwarzen', 'Westen', 'und', 'Hemden', 'mit', 'wei\\xc3\\x9fem', 'Kragen', 'trommelt', '.']\n",
      "INFO:__main__:IMT F1 score: 0.1\n"
     ]
    },
    {
     "name": "stdout",
     "output_type": "stream",
     "text": [
      "\n",
      "predicting target prefix: ['Eine', 'Gruppe', 'von', 'Menschen', 'in']"
     ]
    },
    {
     "name": "stderr",
     "output_type": "stream",
     "text": [
      "INFO:__main__:Source: A group of people in plaid skirts , black vests and <UNK> shirts are playing drums . </S>\n",
      "INFO:__main__:Target Hypothesis: karierter Röcken und T-Shirts spielt Schlagzeug .\n",
      "INFO:__main__:Target Reference: ['Schottenr\\xc3\\xb6cken', ',', 'schwarzen', 'Westen', 'und', 'Hemden', 'mit', 'wei\\xc3\\x9fem', 'Kragen', 'trommelt', '.']\n",
      "INFO:__main__:IMT F1 score: 0.0\n"
     ]
    },
    {
     "name": "stdout",
     "output_type": "stream",
     "text": [
      "\n",
      "predicting target prefix: ['Eine', 'Gruppe', 'von', 'Menschen', 'in', 'Schottenr\\xc3\\xb6cken']"
     ]
    },
    {
     "name": "stderr",
     "output_type": "stream",
     "text": [
      "INFO:__main__:Source: A group of people in plaid skirts , black vests and <UNK> shirts are playing drums . </S>\n",
      "INFO:__main__:Target Hypothesis: , schwarzen Westen und T-Shirts spielt Schlagzeug .\n",
      "INFO:__main__:Target Reference: [',', 'schwarzen', 'Westen', 'und', 'Hemden', 'mit', 'wei\\xc3\\x9fem', 'Kragen', 'trommelt', '.']\n",
      "INFO:__main__:IMT F1 score: 0.444444444444\n"
     ]
    },
    {
     "name": "stdout",
     "output_type": "stream",
     "text": [
      "\n",
      "predicting target prefix: ['Eine', 'Gruppe', 'von', 'Menschen', 'in', 'Schottenr\\xc3\\xb6cken', ',']"
     ]
    },
    {
     "name": "stderr",
     "output_type": "stream",
     "text": [
      "INFO:__main__:Source: A group of people in plaid skirts , black vests and <UNK> shirts are playing drums . </S>\n",
      "INFO:__main__:Target Hypothesis: schwarzen Westen und T-Shirts spielt Schlagzeug .\n",
      "INFO:__main__:Target Reference: ['schwarzen', 'Westen', 'und', 'Hemden', 'mit', 'wei\\xc3\\x9fem', 'Kragen', 'trommelt', '.']\n",
      "INFO:__main__:IMT F1 score: 0.375\n"
     ]
    },
    {
     "name": "stdout",
     "output_type": "stream",
     "text": [
      "\n",
      "predicting target prefix: ['Eine', 'Gruppe', 'von', 'Menschen', 'in', 'Schottenr\\xc3\\xb6cken', ',', 'schwarzen']"
     ]
    },
    {
     "name": "stderr",
     "output_type": "stream",
     "text": [
      "INFO:__main__:Source: A group of people in plaid skirts , black vests and <UNK> shirts are playing drums . </S>\n",
      "INFO:__main__:Target Hypothesis: Westen und T-Shirts spielt Schlagzeug .\n",
      "INFO:__main__:Target Reference: ['Westen', 'und', 'Hemden', 'mit', 'wei\\xc3\\x9fem', 'Kragen', 'trommelt', '.']\n",
      "INFO:__main__:IMT F1 score: 0.285714285714\n"
     ]
    },
    {
     "name": "stdout",
     "output_type": "stream",
     "text": [
      "\n",
      "predicting target prefix: ['Eine', 'Gruppe', 'von', 'Menschen', 'in', 'Schottenr\\xc3\\xb6cken', ',', 'schwarzen', 'Westen']"
     ]
    },
    {
     "name": "stderr",
     "output_type": "stream",
     "text": [
      "INFO:__main__:Source: A group of people in plaid skirts , black vests and <UNK> shirts are playing drums . </S>\n",
      "INFO:__main__:Target Hypothesis: und T-Shirts spielt Schlagzeug .\n",
      "INFO:__main__:Target Reference: ['und', 'Hemden', 'mit', 'wei\\xc3\\x9fem', 'Kragen', 'trommelt', '.']\n",
      "INFO:__main__:IMT F1 score: 0.166666666667\n"
     ]
    },
    {
     "name": "stdout",
     "output_type": "stream",
     "text": [
      "\n",
      "predicting target prefix: ['Eine', 'Gruppe', 'von', 'Menschen', 'in', 'Schottenr\\xc3\\xb6cken', ',', 'schwarzen', 'Westen', 'und']"
     ]
    },
    {
     "name": "stderr",
     "output_type": "stream",
     "text": [
      "INFO:__main__:Source: A group of people in plaid skirts , black vests and <UNK> shirts are playing drums . </S>\n",
      "INFO:__main__:Target Hypothesis: T-Shirts spielt Schlagzeug .\n",
      "INFO:__main__:Target Reference: ['Hemden', 'mit', 'wei\\xc3\\x9fem', 'Kragen', 'trommelt', '.']\n",
      "INFO:__main__:IMT F1 score: 0.0\n"
     ]
    },
    {
     "name": "stdout",
     "output_type": "stream",
     "text": [
      "\n",
      "predicting target prefix: ['Eine', 'Gruppe', 'von', 'Menschen', 'in', 'Schottenr\\xc3\\xb6cken', ',', 'schwarzen', 'Westen', 'und', 'Hemden']"
     ]
    },
    {
     "name": "stderr",
     "output_type": "stream",
     "text": [
      "INFO:__main__:Source: A group of people in plaid skirts , black vests and <UNK> shirts are playing drums . </S>\n",
      "INFO:__main__:Target Hypothesis: , die Schlagzeug gestellt sind .\n",
      "INFO:__main__:Target Reference: ['mit', 'wei\\xc3\\x9fem', 'Kragen', 'trommelt', '.']\n",
      "INFO:__main__:IMT F1 score: 0.0\n"
     ]
    },
    {
     "name": "stdout",
     "output_type": "stream",
     "text": [
      "\n",
      "predicting target prefix: ['Eine', 'Gruppe', 'von', 'Menschen', 'in', 'Schottenr\\xc3\\xb6cken', ',', 'schwarzen', 'Westen', 'und', 'Hemden', 'mit']"
     ]
    },
    {
     "name": "stderr",
     "output_type": "stream",
     "text": [
      "INFO:__main__:Source: A group of people in plaid skirts , black vests and <UNK> shirts are playing drums . </S>\n",
      "INFO:__main__:Target Hypothesis: Hemden spielt Schlagzeug .\n",
      "INFO:__main__:Target Reference: ['wei\\xc3\\x9fem', 'Kragen', 'trommelt', '.']\n",
      "INFO:__main__:IMT F1 score: 0.0\n"
     ]
    },
    {
     "name": "stdout",
     "output_type": "stream",
     "text": [
      "\n",
      "predicting target prefix: ['Eine', 'Gruppe', 'von', 'Menschen', 'in', 'Schottenr\\xc3\\xb6cken', ',', 'schwarzen', 'Westen', 'und', 'Hemden', 'mit', 'wei\\xc3\\x9fem']"
     ]
    },
    {
     "name": "stderr",
     "output_type": "stream",
     "text": [
      "INFO:__main__:Source: A group of people in plaid skirts , black vests and <UNK> shirts are playing drums . </S>\n",
      "INFO:__main__:Target Hypothesis: Hemd spielen Schlagzeug .\n",
      "INFO:__main__:Target Reference: ['Kragen', 'trommelt', '.']\n",
      "INFO:__main__:IMT F1 score: 0.0\n"
     ]
    },
    {
     "name": "stdout",
     "output_type": "stream",
     "text": [
      "\n",
      "predicting target prefix: ['Eine', 'Gruppe', 'von', 'Menschen', 'in', 'Schottenr\\xc3\\xb6cken', ',', 'schwarzen', 'Westen', 'und', 'Hemden', 'mit', 'wei\\xc3\\x9fem', 'Kragen']"
     ]
    },
    {
     "name": "stderr",
     "output_type": "stream",
     "text": [
      "INFO:__main__:Source: A group of people in plaid skirts , black vests and <UNK> shirts are playing drums . </S>\n",
      "INFO:__main__:Target Hypothesis: spielen Schlagzeug .\n",
      "INFO:__main__:Target Reference: ['trommelt', '.']\n",
      "INFO:__main__:IMT F1 score: 0.0\n"
     ]
    },
    {
     "name": "stdout",
     "output_type": "stream",
     "text": [
      "\n",
      "predicting target prefix: ['Eine', 'Gruppe', 'von', 'Menschen', 'in', 'Schottenr\\xc3\\xb6cken', ',', 'schwarzen', 'Westen', 'und', 'Hemden', 'mit', 'wei\\xc3\\x9fem', 'Kragen', 'trommelt']"
     ]
    },
    {
     "name": "stderr",
     "output_type": "stream",
     "text": [
      "INFO:__main__:Source: A group of people in plaid skirts , black vests and <UNK> shirts are playing drums . </S>\n",
      "INFO:__main__:Target Hypothesis: .\n",
      "INFO:__main__:Target Reference: ['.']\n",
      "INFO:__main__:IMT F1 score: 1.0\n"
     ]
    },
    {
     "name": "stdout",
     "output_type": "stream",
     "text": [
      "\n",
      "predicting target prefix: ['Eine', 'Gruppe', 'von', 'Menschen', 'in', 'Schottenr\\xc3\\xb6cken', ',', 'schwarzen', 'Westen', 'und', 'Hemden', 'mit', 'wei\\xc3\\x9fem', 'Kragen', 'trommelt', '.']"
     ]
    },
    {
     "name": "stderr",
     "output_type": "stream",
     "text": [
      "INFO:__main__:Source: A group of people in plaid skirts , black vests and <UNK> shirts are playing drums . </S>\n",
      "INFO:__main__:Target Hypothesis: </S> .\n",
      "INFO:__main__:Target Reference: []\n",
      "INFO:__main__:IMT F1 score: 0.0\n",
      "INFO:__main__:Translating segment: 96\n"
     ]
    },
    {
     "name": "stdout",
     "output_type": "stream",
     "text": [
      "\n",
      "predicting target prefix: ['Eine']"
     ]
    },
    {
     "name": "stderr",
     "output_type": "stream",
     "text": [
      "INFO:__main__:Source: A female figure skater in a red jacket is practicing her moves . </S>\n",
      "INFO:__main__:Target Hypothesis: weibliche Person in einer roten Jacke übt ihre Runden .\n",
      "INFO:__main__:Target Reference: ['Eiskunstl\\xc3\\xa4uferin', 'in', 'einer', 'roten', 'Jacke', '\\xc3\\xbcbt', 'ihre', 'Schritte', '.']\n",
      "INFO:__main__:IMT F1 score: 0.0\n"
     ]
    },
    {
     "name": "stdout",
     "output_type": "stream",
     "text": [
      "\n",
      "predicting target prefix: ['Eine', 'Eiskunstl\\xc3\\xa4uferin']"
     ]
    },
    {
     "name": "stderr",
     "output_type": "stream",
     "text": [
      "INFO:__main__:Source: A female figure skater in a red jacket is practicing her moves . </S>\n",
      "INFO:__main__:Target Hypothesis: in einer roten Jacke übt ihre Runden .\n",
      "INFO:__main__:Target Reference: ['in', 'einer', 'roten', 'Jacke', '\\xc3\\xbcbt', 'ihre', 'Schritte', '.']\n",
      "INFO:__main__:IMT F1 score: 0.75\n"
     ]
    },
    {
     "name": "stdout",
     "output_type": "stream",
     "text": [
      "\n",
      "predicting target prefix: ['Eine', 'Eiskunstl\\xc3\\xa4uferin', 'in']"
     ]
    },
    {
     "name": "stderr",
     "output_type": "stream",
     "text": [
      "INFO:__main__:Source: A female figure skater in a red jacket is practicing her moves . </S>\n",
      "INFO:__main__:Target Hypothesis: einer roten Jacke übt ihre Runden .\n",
      "INFO:__main__:Target Reference: ['einer', 'roten', 'Jacke', '\\xc3\\xbcbt', 'ihre', 'Schritte', '.']\n",
      "INFO:__main__:IMT F1 score: 0.714285714286\n"
     ]
    },
    {
     "name": "stdout",
     "output_type": "stream",
     "text": [
      "\n",
      "predicting target prefix: ['Eine', 'Eiskunstl\\xc3\\xa4uferin', 'in', 'einer']"
     ]
    },
    {
     "name": "stderr",
     "output_type": "stream",
     "text": [
      "INFO:__main__:Source: A female figure skater in a red jacket is practicing her moves . </S>\n",
      "INFO:__main__:Target Hypothesis: roten Jacke übt ihre Runden .\n",
      "INFO:__main__:Target Reference: ['roten', 'Jacke', '\\xc3\\xbcbt', 'ihre', 'Schritte', '.']\n",
      "INFO:__main__:IMT F1 score: 0.666666666667\n"
     ]
    },
    {
     "name": "stdout",
     "output_type": "stream",
     "text": [
      "\n",
      "predicting target prefix: ['Eine', 'Eiskunstl\\xc3\\xa4uferin', 'in', 'einer', 'roten']"
     ]
    },
    {
     "name": "stderr",
     "output_type": "stream",
     "text": [
      "INFO:__main__:Source: A female figure skater in a red jacket is practicing her moves . </S>\n",
      "INFO:__main__:Target Hypothesis: Jacke übt ihre Runden .\n",
      "INFO:__main__:Target Reference: ['Jacke', '\\xc3\\xbcbt', 'ihre', 'Schritte', '.']\n",
      "INFO:__main__:IMT F1 score: 0.6\n"
     ]
    },
    {
     "name": "stdout",
     "output_type": "stream",
     "text": [
      "\n",
      "predicting target prefix: ['Eine', 'Eiskunstl\\xc3\\xa4uferin', 'in', 'einer', 'roten', 'Jacke']"
     ]
    },
    {
     "name": "stderr",
     "output_type": "stream",
     "text": [
      "INFO:__main__:Source: A female figure skater in a red jacket is practicing her moves . </S>\n",
      "INFO:__main__:Target Hypothesis: übt ihre Runden .\n",
      "INFO:__main__:Target Reference: ['\\xc3\\xbcbt', 'ihre', 'Schritte', '.']\n",
      "INFO:__main__:IMT F1 score: 0.5\n"
     ]
    },
    {
     "name": "stdout",
     "output_type": "stream",
     "text": [
      "\n",
      "predicting target prefix: ['Eine', 'Eiskunstl\\xc3\\xa4uferin', 'in', 'einer', 'roten', 'Jacke', '\\xc3\\xbcbt']"
     ]
    },
    {
     "name": "stderr",
     "output_type": "stream",
     "text": [
      "INFO:__main__:Source: A female figure skater in a red jacket is practicing her moves . </S>\n",
      "INFO:__main__:Target Hypothesis: ihre Runden .\n",
      "INFO:__main__:Target Reference: ['ihre', 'Schritte', '.']\n",
      "INFO:__main__:IMT F1 score: 0.333333333333\n"
     ]
    },
    {
     "name": "stdout",
     "output_type": "stream",
     "text": [
      "\n",
      "predicting target prefix: ['Eine', 'Eiskunstl\\xc3\\xa4uferin', 'in', 'einer', 'roten', 'Jacke', '\\xc3\\xbcbt', 'ihre']"
     ]
    },
    {
     "name": "stderr",
     "output_type": "stream",
     "text": [
      "INFO:__main__:Source: A female figure skater in a red jacket is practicing her moves . </S>\n",
      "INFO:__main__:Target Hypothesis: Runden .\n",
      "INFO:__main__:Target Reference: ['Schritte', '.']\n",
      "INFO:__main__:IMT F1 score: 0.0\n",
      "INFO:__main__:Source: A female figure skater in a red jacket is practicing her moves . </S>\n",
      "INFO:__main__:Target Hypothesis: .\n",
      "INFO:__main__:Target Reference: ['.']\n",
      "INFO:__main__:IMT F1 score: 1.0\n"
     ]
    },
    {
     "name": "stdout",
     "output_type": "stream",
     "text": [
      "\n",
      "predicting target prefix: ['Eine', 'Eiskunstl\\xc3\\xa4uferin', 'in', 'einer', 'roten', 'Jacke', '\\xc3\\xbcbt', 'ihre', 'Schritte']\n",
      "predicting target prefix: ['Eine', 'Eiskunstl\\xc3\\xa4uferin', 'in', 'einer', 'roten', 'Jacke', '\\xc3\\xbcbt', 'ihre', 'Schritte', '.']"
     ]
    },
    {
     "name": "stderr",
     "output_type": "stream",
     "text": [
      "INFO:__main__:Source: A female figure skater in a red jacket is practicing her moves . </S>\n",
      "INFO:__main__:Target Hypothesis: </S> .\n",
      "INFO:__main__:Target Reference: []\n",
      "INFO:__main__:IMT F1 score: 0.0\n",
      "INFO:__main__:Translating segment: 97\n"
     ]
    },
    {
     "name": "stdout",
     "output_type": "stream",
     "text": [
      "\n",
      "predicting target prefix: ['Eine']"
     ]
    },
    {
     "name": "stderr",
     "output_type": "stream",
     "text": [
      "INFO:__main__:Source: A group of people running a marathon in the winter . </S>\n",
      "INFO:__main__:Target Hypothesis: Gruppe von Menschen läuft im Winter an einem Marathon .\n",
      "INFO:__main__:Target Reference: ['Gruppe', 'von', 'Menschen', 'l\\xc3\\xa4uft', 'bei', 'einem', 'Marathon', 'im', 'Winter', '.']\n",
      "INFO:__main__:IMT F1 score: 0.4\n"
     ]
    },
    {
     "name": "stdout",
     "output_type": "stream",
     "text": [
      "\n",
      "predicting target prefix: ['Eine', 'Gruppe']"
     ]
    },
    {
     "name": "stderr",
     "output_type": "stream",
     "text": [
      "INFO:__main__:Source: A group of people running a marathon in the winter . </S>\n",
      "INFO:__main__:Target Hypothesis: von Menschen läuft im Winter an einem Marathon .\n",
      "INFO:__main__:Target Reference: ['von', 'Menschen', 'l\\xc3\\xa4uft', 'bei', 'einem', 'Marathon', 'im', 'Winter', '.']\n",
      "INFO:__main__:IMT F1 score: 0.333333333333\n"
     ]
    },
    {
     "name": "stdout",
     "output_type": "stream",
     "text": [
      "\n",
      "predicting target prefix: ['Eine', 'Gruppe', 'von']"
     ]
    },
    {
     "name": "stderr",
     "output_type": "stream",
     "text": [
      "INFO:__main__:Source: A group of people running a marathon in the winter . </S>\n",
      "INFO:__main__:Target Hypothesis: Menschen läuft im Winter an einem Marathon .\n",
      "INFO:__main__:Target Reference: ['Menschen', 'l\\xc3\\xa4uft', 'bei', 'einem', 'Marathon', 'im', 'Winter', '.']\n",
      "INFO:__main__:IMT F1 score: 0.25\n"
     ]
    },
    {
     "name": "stdout",
     "output_type": "stream",
     "text": [
      "\n",
      "predicting target prefix: ['Eine', 'Gruppe', 'von', 'Menschen']"
     ]
    },
    {
     "name": "stderr",
     "output_type": "stream",
     "text": [
      "INFO:__main__:Source: A group of people running a marathon in the winter . </S>\n",
      "INFO:__main__:Target Hypothesis: läuft im Winter an einem Marathon .\n",
      "INFO:__main__:Target Reference: ['l\\xc3\\xa4uft', 'bei', 'einem', 'Marathon', 'im', 'Winter', '.']\n",
      "INFO:__main__:IMT F1 score: 0.142857142857\n"
     ]
    },
    {
     "name": "stdout",
     "output_type": "stream",
     "text": [
      "\n",
      "predicting target prefix: ['Eine', 'Gruppe', 'von', 'Menschen', 'l\\xc3\\xa4uft']"
     ]
    },
    {
     "name": "stderr",
     "output_type": "stream",
     "text": [
      "INFO:__main__:Source: A group of people running a marathon in the winter . </S>\n",
      "INFO:__main__:Target Hypothesis: im Winter an einem Marathon .\n",
      "INFO:__main__:Target Reference: ['bei', 'einem', 'Marathon', 'im', 'Winter', '.']\n",
      "INFO:__main__:IMT F1 score: 0.0\n"
     ]
    },
    {
     "name": "stdout",
     "output_type": "stream",
     "text": [
      "\n",
      "predicting target prefix: ['Eine', 'Gruppe', 'von', 'Menschen', 'l\\xc3\\xa4uft', 'bei']"
     ]
    },
    {
     "name": "stderr",
     "output_type": "stream",
     "text": [
      "INFO:__main__:Source: A group of people running a marathon in the winter . </S>\n",
      "INFO:__main__:Target Hypothesis: einem Marathon im Winter .\n",
      "INFO:__main__:Target Reference: ['einem', 'Marathon', 'im', 'Winter', '.']\n",
      "INFO:__main__:IMT F1 score: 1.0\n"
     ]
    },
    {
     "name": "stdout",
     "output_type": "stream",
     "text": [
      "\n",
      "predicting target prefix: ['Eine', 'Gruppe', 'von', 'Menschen', 'l\\xc3\\xa4uft', 'bei', 'einem']"
     ]
    },
    {
     "name": "stderr",
     "output_type": "stream",
     "text": [
      "INFO:__main__:Source: A group of people running a marathon in the winter . </S>\n",
      "INFO:__main__:Target Hypothesis: Marathon im Winter .\n",
      "INFO:__main__:Target Reference: ['Marathon', 'im', 'Winter', '.']\n",
      "INFO:__main__:IMT F1 score: 1.0\n"
     ]
    },
    {
     "name": "stdout",
     "output_type": "stream",
     "text": [
      "\n",
      "predicting target prefix: ['Eine', 'Gruppe', 'von', 'Menschen', 'l\\xc3\\xa4uft', 'bei', 'einem', 'Marathon']"
     ]
    },
    {
     "name": "stderr",
     "output_type": "stream",
     "text": [
      "INFO:__main__:Source: A group of people running a marathon in the winter . </S>\n",
      "INFO:__main__:Target Hypothesis: im Winter .\n",
      "INFO:__main__:Target Reference: ['im', 'Winter', '.']\n",
      "INFO:__main__:IMT F1 score: 1.0\n"
     ]
    },
    {
     "name": "stdout",
     "output_type": "stream",
     "text": [
      "\n",
      "predicting target prefix: ['Eine', 'Gruppe', 'von', 'Menschen', 'l\\xc3\\xa4uft', 'bei', 'einem', 'Marathon', 'im']"
     ]
    },
    {
     "name": "stderr",
     "output_type": "stream",
     "text": [
      "INFO:__main__:Source: A group of people running a marathon in the winter . </S>\n",
      "INFO:__main__:Target Hypothesis: Winter .\n",
      "INFO:__main__:Target Reference: ['Winter', '.']\n",
      "INFO:__main__:IMT F1 score: 1.0\n"
     ]
    },
    {
     "name": "stdout",
     "output_type": "stream",
     "text": [
      "\n",
      "predicting target prefix: ['Eine', 'Gruppe', 'von', 'Menschen', 'l\\xc3\\xa4uft', 'bei', 'einem', 'Marathon', 'im', 'Winter']"
     ]
    },
    {
     "name": "stderr",
     "output_type": "stream",
     "text": [
      "INFO:__main__:Source: A group of people running a marathon in the winter . </S>\n",
      "INFO:__main__:Target Hypothesis: .\n",
      "INFO:__main__:Target Reference: ['.']\n",
      "INFO:__main__:IMT F1 score: 1.0\n"
     ]
    },
    {
     "name": "stdout",
     "output_type": "stream",
     "text": [
      "\n",
      "predicting target prefix: ['Eine', 'Gruppe', 'von', 'Menschen', 'l\\xc3\\xa4uft', 'bei', 'einem', 'Marathon', 'im', 'Winter', '.']"
     ]
    },
    {
     "name": "stderr",
     "output_type": "stream",
     "text": [
      "INFO:__main__:Source: A group of people running a marathon in the winter . </S>\n",
      "INFO:__main__:Target Hypothesis: </S> .\n",
      "INFO:__main__:Target Reference: []\n",
      "INFO:__main__:IMT F1 score: 0.0\n",
      "INFO:__main__:Translating segment: 98\n"
     ]
    },
    {
     "name": "stdout",
     "output_type": "stream",
     "text": [
      "\n",
      "predicting target prefix: ['Eine']"
     ]
    },
    {
     "name": "stderr",
     "output_type": "stream",
     "text": [
      "INFO:__main__:Source: A woman and a boy on stage laughing with a tent in the background . </S>\n",
      "INFO:__main__:Target Hypothesis: Frau und ein Junge auf der Bühne lachen mit einem Zelt im Hintergrund .\n",
      "INFO:__main__:Target Reference: ['Frau', 'und', 'ein', 'Junge', 'auf', 'einer', 'B\\xc3\\xbchne', 'lachen', 'mit', 'einem', 'Zelt', 'im', 'Hintergrund', '.']\n",
      "INFO:__main__:IMT F1 score: 0.357142857143\n"
     ]
    },
    {
     "name": "stdout",
     "output_type": "stream",
     "text": [
      "\n",
      "predicting target prefix: ['Eine', 'Frau']"
     ]
    },
    {
     "name": "stderr",
     "output_type": "stream",
     "text": [
      "INFO:__main__:Source: A woman and a boy on stage laughing with a tent in the background . </S>\n",
      "INFO:__main__:Target Hypothesis: und ein Junge auf der Bühne lachen mit einem Zelt im Hintergrund .\n",
      "INFO:__main__:Target Reference: ['und', 'ein', 'Junge', 'auf', 'einer', 'B\\xc3\\xbchne', 'lachen', 'mit', 'einem', 'Zelt', 'im', 'Hintergrund', '.']\n",
      "INFO:__main__:IMT F1 score: 0.307692307692\n"
     ]
    },
    {
     "name": "stdout",
     "output_type": "stream",
     "text": [
      "\n",
      "predicting target prefix: ['Eine', 'Frau', 'und']"
     ]
    },
    {
     "name": "stderr",
     "output_type": "stream",
     "text": [
      "INFO:__main__:Source: A woman and a boy on stage laughing with a tent in the background . </S>\n",
      "INFO:__main__:Target Hypothesis: ein Junge auf der Bühne lachen mit einem Zelt im Hintergrund .\n",
      "INFO:__main__:Target Reference: ['ein', 'Junge', 'auf', 'einer', 'B\\xc3\\xbchne', 'lachen', 'mit', 'einem', 'Zelt', 'im', 'Hintergrund', '.']\n",
      "INFO:__main__:IMT F1 score: 0.25\n"
     ]
    },
    {
     "name": "stdout",
     "output_type": "stream",
     "text": [
      "\n",
      "predicting target prefix: ['Eine', 'Frau', 'und', 'ein']"
     ]
    },
    {
     "name": "stderr",
     "output_type": "stream",
     "text": [
      "INFO:__main__:Source: A woman and a boy on stage laughing with a tent in the background . </S>\n",
      "INFO:__main__:Target Hypothesis: Junge auf der Bühne lachen mit einem Zelt im Hintergrund .\n",
      "INFO:__main__:Target Reference: ['Junge', 'auf', 'einer', 'B\\xc3\\xbchne', 'lachen', 'mit', 'einem', 'Zelt', 'im', 'Hintergrund', '.']\n",
      "INFO:__main__:IMT F1 score: 0.181818181818\n"
     ]
    },
    {
     "name": "stdout",
     "output_type": "stream",
     "text": [
      "\n",
      "predicting target prefix: ['Eine', 'Frau', 'und', 'ein', 'Junge']"
     ]
    },
    {
     "name": "stderr",
     "output_type": "stream",
     "text": [
      "INFO:__main__:Source: A woman and a boy on stage laughing with a tent in the background . </S>\n",
      "INFO:__main__:Target Hypothesis: auf der Bühne lachen mit einem Zelt im Hintergrund .\n",
      "INFO:__main__:Target Reference: ['auf', 'einer', 'B\\xc3\\xbchne', 'lachen', 'mit', 'einem', 'Zelt', 'im', 'Hintergrund', '.']\n",
      "INFO:__main__:IMT F1 score: 0.1\n"
     ]
    },
    {
     "name": "stdout",
     "output_type": "stream",
     "text": [
      "\n",
      "predicting target prefix: ['Eine', 'Frau', 'und', 'ein', 'Junge', 'auf']"
     ]
    },
    {
     "name": "stderr",
     "output_type": "stream",
     "text": [
      "INFO:__main__:Source: A woman and a boy on stage laughing with a tent in the background . </S>\n",
      "INFO:__main__:Target Hypothesis: der Bühne lachen mit einem Zelt im Hintergrund .\n",
      "INFO:__main__:Target Reference: ['einer', 'B\\xc3\\xbchne', 'lachen', 'mit', 'einem', 'Zelt', 'im', 'Hintergrund', '.']\n",
      "INFO:__main__:IMT F1 score: 0.0\n"
     ]
    },
    {
     "name": "stdout",
     "output_type": "stream",
     "text": [
      "\n",
      "predicting target prefix: ['Eine', 'Frau', 'und', 'ein', 'Junge', 'auf', 'einer']"
     ]
    },
    {
     "name": "stderr",
     "output_type": "stream",
     "text": [
      "INFO:__main__:Source: A woman and a boy on stage laughing with a tent in the background . </S>\n",
      "INFO:__main__:Target Hypothesis: Bühne lachen mit einem Zelt im Hintergrund .\n",
      "INFO:__main__:Target Reference: ['B\\xc3\\xbchne', 'lachen', 'mit', 'einem', 'Zelt', 'im', 'Hintergrund', '.']\n",
      "INFO:__main__:IMT F1 score: 1.0\n"
     ]
    },
    {
     "name": "stdout",
     "output_type": "stream",
     "text": [
      "\n",
      "predicting target prefix: ['Eine', 'Frau', 'und', 'ein', 'Junge', 'auf', 'einer', 'B\\xc3\\xbchne']"
     ]
    },
    {
     "name": "stderr",
     "output_type": "stream",
     "text": [
      "INFO:__main__:Source: A woman and a boy on stage laughing with a tent in the background . </S>\n",
      "INFO:__main__:Target Hypothesis: lachen mit einem Zelt im Hintergrund .\n",
      "INFO:__main__:Target Reference: ['lachen', 'mit', 'einem', 'Zelt', 'im', 'Hintergrund', '.']\n",
      "INFO:__main__:IMT F1 score: 1.0\n"
     ]
    },
    {
     "name": "stdout",
     "output_type": "stream",
     "text": [
      "\n",
      "predicting target prefix: ['Eine', 'Frau', 'und', 'ein', 'Junge', 'auf', 'einer', 'B\\xc3\\xbchne', 'lachen']"
     ]
    },
    {
     "name": "stderr",
     "output_type": "stream",
     "text": [
      "INFO:__main__:Source: A woman and a boy on stage laughing with a tent in the background . </S>\n",
      "INFO:__main__:Target Hypothesis: mit einem Zelt im Hintergrund .\n",
      "INFO:__main__:Target Reference: ['mit', 'einem', 'Zelt', 'im', 'Hintergrund', '.']\n",
      "INFO:__main__:IMT F1 score: 1.0\n"
     ]
    },
    {
     "name": "stdout",
     "output_type": "stream",
     "text": [
      "\n",
      "predicting target prefix: ['Eine', 'Frau', 'und', 'ein', 'Junge', 'auf', 'einer', 'B\\xc3\\xbchne', 'lachen', 'mit']"
     ]
    },
    {
     "name": "stderr",
     "output_type": "stream",
     "text": [
      "INFO:__main__:Source: A woman and a boy on stage laughing with a tent in the background . </S>\n",
      "INFO:__main__:Target Hypothesis: einem Zelt im Hintergrund .\n",
      "INFO:__main__:Target Reference: ['einem', 'Zelt', 'im', 'Hintergrund', '.']\n",
      "INFO:__main__:IMT F1 score: 1.0\n"
     ]
    },
    {
     "name": "stdout",
     "output_type": "stream",
     "text": [
      "\n",
      "predicting target prefix: ['Eine', 'Frau', 'und', 'ein', 'Junge', 'auf', 'einer', 'B\\xc3\\xbchne', 'lachen', 'mit', 'einem']"
     ]
    },
    {
     "name": "stderr",
     "output_type": "stream",
     "text": [
      "INFO:__main__:Source: A woman and a boy on stage laughing with a tent in the background . </S>\n",
      "INFO:__main__:Target Hypothesis: Zelt im Hintergrund .\n",
      "INFO:__main__:Target Reference: ['Zelt', 'im', 'Hintergrund', '.']\n",
      "INFO:__main__:IMT F1 score: 1.0\n"
     ]
    },
    {
     "name": "stdout",
     "output_type": "stream",
     "text": [
      "\n",
      "predicting target prefix: ['Eine', 'Frau', 'und', 'ein', 'Junge', 'auf', 'einer', 'B\\xc3\\xbchne', 'lachen', 'mit', 'einem', 'Zelt']"
     ]
    },
    {
     "name": "stderr",
     "output_type": "stream",
     "text": [
      "INFO:__main__:Source: A woman and a boy on stage laughing with a tent in the background . </S>\n",
      "INFO:__main__:Target Hypothesis: im Hintergrund .\n",
      "INFO:__main__:Target Reference: ['im', 'Hintergrund', '.']\n",
      "INFO:__main__:IMT F1 score: 1.0\n"
     ]
    },
    {
     "name": "stdout",
     "output_type": "stream",
     "text": [
      "\n",
      "predicting target prefix: ['Eine', 'Frau', 'und', 'ein', 'Junge', 'auf', 'einer', 'B\\xc3\\xbchne', 'lachen', 'mit', 'einem', 'Zelt', 'im']"
     ]
    },
    {
     "name": "stderr",
     "output_type": "stream",
     "text": [
      "INFO:__main__:Source: A woman and a boy on stage laughing with a tent in the background . </S>\n",
      "INFO:__main__:Target Hypothesis: Hintergrund .\n",
      "INFO:__main__:Target Reference: ['Hintergrund', '.']\n",
      "INFO:__main__:IMT F1 score: 1.0\n"
     ]
    },
    {
     "name": "stdout",
     "output_type": "stream",
     "text": [
      "\n",
      "predicting target prefix: ['Eine', 'Frau', 'und', 'ein', 'Junge', 'auf', 'einer', 'B\\xc3\\xbchne', 'lachen', 'mit', 'einem', 'Zelt', 'im', 'Hintergrund']"
     ]
    },
    {
     "name": "stderr",
     "output_type": "stream",
     "text": [
      "INFO:__main__:Source: A woman and a boy on stage laughing with a tent in the background . </S>\n",
      "INFO:__main__:Target Hypothesis: .\n",
      "INFO:__main__:Target Reference: ['.']\n",
      "INFO:__main__:IMT F1 score: 1.0\n"
     ]
    },
    {
     "name": "stdout",
     "output_type": "stream",
     "text": [
      "\n",
      "predicting target prefix: ['Eine', 'Frau', 'und', 'ein', 'Junge', 'auf', 'einer', 'B\\xc3\\xbchne', 'lachen', 'mit', 'einem', 'Zelt', 'im', 'Hintergrund', '.']"
     ]
    },
    {
     "name": "stderr",
     "output_type": "stream",
     "text": [
      "INFO:__main__:Source: A woman and a boy on stage laughing with a tent in the background . </S>\n",
      "INFO:__main__:Target Hypothesis: </S> .\n",
      "INFO:__main__:Target Reference: []\n",
      "INFO:__main__:IMT F1 score: 0.0\n",
      "INFO:__main__:Translating segment: 99\n"
     ]
    },
    {
     "name": "stdout",
     "output_type": "stream",
     "text": [
      "\n",
      "predicting target prefix: ['Ein']"
     ]
    },
    {
     "name": "stderr",
     "output_type": "stream",
     "text": [
      "INFO:__main__:Source: A black man in a chef 's coat is on the phone while two other men in aprons laugh . </S>\n",
      "INFO:__main__:Target Hypothesis: dunkelhäutiger Mann in einem Chefkoch setzt zum Telefon , während zwei andere Männer Sonnenbrillen lachen .\n",
      "INFO:__main__:Target Reference: ['schwarzer', 'Mann', 'in', 'einer', 'Kochjacke', 'telefoniert', ',', 'w\\xc3\\xa4hrend', 'zwei', 'andere', 'M\\xc3\\xa4nner', 'mit', 'Sch\\xc3\\xbcrzen', 'lachen', '.']\n",
      "INFO:__main__:IMT F1 score: 0.0\n"
     ]
    },
    {
     "name": "stdout",
     "output_type": "stream",
     "text": [
      "\n",
      "predicting target prefix: ['Ein', 'schwarzer']"
     ]
    },
    {
     "name": "stderr",
     "output_type": "stream",
     "text": [
      "INFO:__main__:Source: A black man in a chef 's coat is on the phone while two other men in aprons laugh . </S>\n",
      "INFO:__main__:Target Hypothesis: Mann in einem Chefkoch setzt zum Telefon , während zwei andere Männer Sonnenbrillen lachen .\n",
      "INFO:__main__:Target Reference: ['Mann', 'in', 'einer', 'Kochjacke', 'telefoniert', ',', 'w\\xc3\\xa4hrend', 'zwei', 'andere', 'M\\xc3\\xa4nner', 'mit', 'Sch\\xc3\\xbcrzen', 'lachen', '.']\n",
      "INFO:__main__:IMT F1 score: 0.137931034483\n"
     ]
    },
    {
     "name": "stdout",
     "output_type": "stream",
     "text": [
      "\n",
      "predicting target prefix: ['Ein', 'schwarzer', 'Mann']"
     ]
    },
    {
     "name": "stderr",
     "output_type": "stream",
     "text": [
      "INFO:__main__:Source: A black man in a chef 's coat is on the phone while two other men in aprons laugh . </S>\n",
      "INFO:__main__:Target Hypothesis: in einem Chefkoch setzt zum Telefon , während zwei andere Männer Sonnenbrillen lachen .\n",
      "INFO:__main__:Target Reference: ['in', 'einer', 'Kochjacke', 'telefoniert', ',', 'w\\xc3\\xa4hrend', 'zwei', 'andere', 'M\\xc3\\xa4nner', 'mit', 'Sch\\xc3\\xbcrzen', 'lachen', '.']\n",
      "INFO:__main__:IMT F1 score: 0.0740740740741\n"
     ]
    },
    {
     "name": "stdout",
     "output_type": "stream",
     "text": [
      "\n",
      "predicting target prefix: ['Ein', 'schwarzer', 'Mann', 'in']"
     ]
    },
    {
     "name": "stderr",
     "output_type": "stream",
     "text": [
      "INFO:__main__:Source: A black man in a chef 's coat is on the phone while two other men in aprons laugh . </S>\n",
      "INFO:__main__:Target Hypothesis: einem Chefkoch setzt zum Telefon , während zwei andere Männer Sonnenbrillen lachen .\n",
      "INFO:__main__:Target Reference: ['einer', 'Kochjacke', 'telefoniert', ',', 'w\\xc3\\xa4hrend', 'zwei', 'andere', 'M\\xc3\\xa4nner', 'mit', 'Sch\\xc3\\xbcrzen', 'lachen', '.']\n",
      "INFO:__main__:IMT F1 score: 0.0\n"
     ]
    },
    {
     "name": "stdout",
     "output_type": "stream",
     "text": [
      "\n",
      "predicting target prefix: ['Ein', 'schwarzer', 'Mann', 'in', 'einer']"
     ]
    },
    {
     "name": "stderr",
     "output_type": "stream",
     "text": [
      "INFO:__main__:Source: A black man in a chef 's coat is on the phone while two other men in aprons laugh . </S>\n",
      "INFO:__main__:Target Hypothesis: Atemschutzmaske . zwei andere Männer im Schürzen lachen .\n",
      "INFO:__main__:Target Reference: ['Kochjacke', 'telefoniert', ',', 'w\\xc3\\xa4hrend', 'zwei', 'andere', 'M\\xc3\\xa4nner', 'mit', 'Sch\\xc3\\xbcrzen', 'lachen', '.']\n",
      "INFO:__main__:IMT F1 score: 0.0\n"
     ]
    },
    {
     "name": "stdout",
     "output_type": "stream",
     "text": [
      "\n",
      "predicting target prefix: ['Ein', 'schwarzer', 'Mann', 'in', 'einer', 'Kochjacke']"
     ]
    },
    {
     "name": "stderr",
     "output_type": "stream",
     "text": [
      "INFO:__main__:Source: A black man in a chef 's coat is on the phone while two other men in aprons laugh . </S>\n",
      "INFO:__main__:Target Hypothesis: , zwei andere Männer mit Schürzen lachen .\n",
      "INFO:__main__:Target Reference: ['telefoniert', ',', 'w\\xc3\\xa4hrend', 'zwei', 'andere', 'M\\xc3\\xa4nner', 'mit', 'Sch\\xc3\\xbcrzen', 'lachen', '.']\n",
      "INFO:__main__:IMT F1 score: 0.0\n"
     ]
    },
    {
     "name": "stdout",
     "output_type": "stream",
     "text": [
      "\n",
      "predicting target prefix: ['Ein', 'schwarzer', 'Mann', 'in', 'einer', 'Kochjacke', 'telefoniert']"
     ]
    },
    {
     "name": "stderr",
     "output_type": "stream",
     "text": [
      "INFO:__main__:Source: A black man in a chef 's coat is on the phone while two other men in aprons laugh . </S>\n",
      "INFO:__main__:Target Hypothesis: , während zwei andere Männer im Schürzen lachen .\n",
      "INFO:__main__:Target Reference: [',', 'w\\xc3\\xa4hrend', 'zwei', 'andere', 'M\\xc3\\xa4nner', 'mit', 'Sch\\xc3\\xbcrzen', 'lachen', '.']\n",
      "INFO:__main__:IMT F1 score: 0.555555555556\n"
     ]
    },
    {
     "name": "stdout",
     "output_type": "stream",
     "text": [
      "\n",
      "predicting target prefix: ['Ein', 'schwarzer', 'Mann', 'in', 'einer', 'Kochjacke', 'telefoniert', ',']"
     ]
    }
   ],
   "source": [
    "# create the control function which will run evaluation\n",
    "config_obj = exp_config\n",
    "\n",
    "\n",
    "# elif mode == 'evaluate':\n",
    "#     logger.info(\"Started Evaluation: \")\n",
    "#     val_start_time = time.time()\n",
    "\n",
    "# translate if necessary, write output file, call external evaluation tools and show output\n",
    "translated_output_file = config_obj.get('translated_output_file', None)\n",
    "#     if translated_output_file is not None and os.path.isfile(translated_output_file):\n",
    "#             logger.info('{} already exists, so I\\'m evaluating the BLEU score of this file with respect to the ' +\n",
    "#                         'reference that you provided: {}'.format(translated_output_file,\n",
    "#                                                                  config_obj['test_gold_refs']))\n",
    "#     else:\n",
    "\n",
    "\n",
    "predictor = IMTPredictor(config_obj)\n",
    "logger.info('Translating: {}'.format(config_obj['test_set']))\n",
    "translated_output_file = predictor.predict_files(config_obj['test_set'],\n",
    "                                                 config_obj['test_gold_refs'],\n",
    "                                                 translated_output_file)\n",
    "logger.info('Translated: {}, output was written to: {}'.format(config_obj['test_set'],\n",
    "                                                               translated_output_file))"
   ]
  },
  {
   "cell_type": "code",
   "execution_count": null,
   "metadata": {
    "collapsed": false
   },
   "outputs": [],
   "source": [
    "# TESTS\n",
    "\n",
    "# with BOS and EOS\n",
    "s_test1 = ['<S>', 'He', 'is', 'a', 'nice', 'boy', '.', '</S>']\n",
    "t_test1 = ['<S>', 'Er', 'ist', 'ein', 'netter', 'Junge', '.', '</S>']\n",
    "\n",
    "# without BOS and EOS\n",
    "s_test2 = ['He', 'is', 'a', 'nice', 'boy', '.']\n",
    "t_test2 = ['Er', 'ist', 'ein', 'netter', 'Junge', '.']\n",
    "\n",
    "# map_pair_to_imt_triples(s_test1, t_test1, bos_token='<S>', eos_token='</S>')\n",
    "map_pair_to_imt_triples(s_test2, t_test2)"
   ]
  },
  {
   "cell_type": "code",
   "execution_count": null,
   "metadata": {
    "collapsed": true
   },
   "outputs": [],
   "source": [
    "# coding: utf-8\n",
    "\n",
    "import os\n",
    "import codecs\n",
    "import subprocess\n",
    "from pprint import pprint\n",
    "from subprocess import Popen, PIPE, STDOUT\n",
    "\n",
    "import logging\n",
    "logger = logging.getLogger()\n",
    "logger.setLevel(logging.DEBUG)\n",
    "logging.debug(\"test\")\n",
    "\n",
    "import numpy\n",
    "import codecs\n",
    "import tempfile\n",
    "import cPickle\n",
    "import copy\n",
    "from collections import OrderedDict\n",
    "import itertools\n",
    "from theano import tensor\n",
    "\n",
    "from fuel.datasets import Dataset\n",
    "from fuel.datasets import TextFile\n",
    "from fuel.schemes import ConstantScheme\n",
    "from fuel.streams import DataStream\n",
    "from fuel.transformers import (\n",
    "    Merge, Batch, Filter, Padding, SortMapping, Unpack, Mapping)\n",
    "from fuel.transformers import Transformer\n",
    "\n",
    "from blocks.algorithms import (GradientDescent, StepClipping,\n",
    "                               CompositeRule, Adam, AdaDelta)\n",
    "from blocks.extensions import FinishAfter, Printing, Timing\n",
    "from blocks.extensions.monitoring import TrainingDataMonitoring\n",
    "from blocks.filter import VariableFilter\n",
    "from blocks.graph import ComputationGraph, apply_noise, apply_dropout\n",
    "from blocks.initialization import IsotropicGaussian, Orthogonal, Constant\n",
    "from blocks.main_loop import MainLoop\n",
    "from blocks.model import Model\n",
    "from blocks.select import Selector\n",
    "from blocks.search import BeamSearch\n",
    "from blocks_extras.extensions.plot import Plot\n",
    "\n",
    "from machine_translation.checkpoint import CheckpointNMT, LoadNMT\n",
    "from machine_translation.model import BidirectionalEncoder, Decoder\n",
    "from machine_translation.sampling import BleuValidator, Sampler, SamplingBase\n",
    "from machine_translation.stream import (get_tr_stream, get_dev_stream,\n",
    "                                        _ensure_special_tokens, MTSampleStreamTransformer,\n",
    "                                        get_textfile_stream, _too_long, _length, PaddingWithEOS,\n",
    "                                        _oov_to_unk)\n",
    "\n",
    "\n",
    "from machine_translation.evaluation import sentence_level_bleu\n",
    "\n",
    "try:\n",
    "    from blocks_extras.extensions.plot import Plot\n",
    "    BOKEH_AVAILABLE = True\n",
    "except ImportError:\n",
    "    BOKEH_AVAILABLE = False\n",
    "\n",
    "\n",
    "# build the training and sampling graphs for minimum risk training\n",
    "# Intialize the MTSampleStreamTransformer with the sampling function\n",
    "\n",
    "# load a model that's already trained, and start tuning it with minimum-risk\n",
    "# mock-up training using the blocks main loop\n",
    "\n",
    "# TODO: Integrate configuration so min-risk training is a single line in the config file\n",
    "# TODO: this requires handling both the data stream and the Model cost function\n",
    "\n",
    "# create the graph which can sample from our model\n",
    "# Note that we must sample instead of getting the 1-best or N-best, because we need the randomness to make the expected\n",
    "# BLEU score make sense\n",
    "\n",
    "BASEDIR = '/media/1tb_drive/multilingual-multimodal/flickr30k/train/processed/' +\\ \n",
    "              'BERTHA-TEST_Adam_wmt-multimodal_internal_data_dropout'+\\\n",
    "              '0.3_ff_noiseFalse_search_model_en2es_vocab20000_emb300_rec800_batch15/'\n",
    "#best_bleu_model_1455464992_BLEU31.61.npz\n",
    "\n",
    "exp_config = {\n",
    "    'src_vocab_size': 20000,\n",
    "    'trg_vocab_size': 20000,\n",
    "    'enc_embed': 300,\n",
    "    'dec_embed': 300,\n",
    "    'enc_nhids': 800,\n",
    "    'dec_nhids': 800,\n",
    "    'saved_parameters': '/media/1tb_drive/multilingual-multimodal/flickr30k/train/processed/' +\\\n",
    "        'BERTHA-TEST_wmt-multimodal_internal_data_dropout0.3_ff_noiseFalse_search_model_en2es_vocab20000' +\\ \n",
    "        '_emb300_rec800_batch15/best_bleu_model_1455410311_BLEU30.38.npz',\n",
    "    'src_vocab': os.path.join(BASEDIR, 'vocab.en-de.en.pkl'),\n",
    "    'trg_vocab': os.path.join(BASEDIR, 'vocab.en-de.de.pkl'),\n",
    "    'src_data': os.path.join(BASEDIR, 'training_data/train.en.tok.shuf'),\n",
    "    'trg_data': os.path.join(BASEDIR, 'training_data/train.de.tok.shuf'),\n",
    "    'unk_id':1,\n",
    "    # Bleu script that will be used (moses multi-perl in this case)\n",
    "    'bleu_script': os.path.join(os.path.dirname(os.path.realpath(__file__)),\n",
    "                                '../test_data/sample_experiment/tiny_demo_dataset/multi-bleu.perl'),\n",
    "\n",
    "    # Optimization related ----------------------------------------------------\n",
    "    # Batch size\n",
    "    'batch_size': 8,\n",
    "    # This many batches will be read ahead and sorted\n",
    "    'sort_k_batches': 2,\n",
    "    # Optimization step rule\n",
    "    'step_rule': 'AdaDelta',\n",
    "    # Gradient clipping threshold\n",
    "    'step_clipping': 1.,\n",
    "    # Std of weight initialization\n",
    "    'weight_scale': 0.01,\n",
    "    'seq_len': 40,\n",
    "    # Beam-size\n",
    "    'beam_size': 10,\n",
    "\n",
    "    # Maximum number of updates\n",
    "    'finish_after': 1000000,\n",
    "\n",
    "    # Reload model from files if exist\n",
    "    'reload': False,\n",
    "\n",
    "    # Save model after this many updates\n",
    "    'save_freq': 500,\n",
    "\n",
    "    # Show samples from model after this many updates\n",
    "    'sampling_freq': 1000,\n",
    "\n",
    "    # Show this many samples at each sampling\n",
    "    'hook_samples': 5,\n",
    "\n",
    "    # Validate bleu after this many updates\n",
    "    'bleu_val_freq': 10,\n",
    "    # Normalize cost according to sequence length after beam-search\n",
    "    'normalized_bleu': True,\n",
    "    \n",
    "    'saveto': '/media/1tb_drive/test_min_risk_model_save',\n",
    "    'model_save_directory': 'test_min_risk_model_save',\n",
    "    # Validation set source file\n",
    "    'val_set': '/media/1tb_drive/multilingual-multimodal/flickr30k/train/processed/dev.en.tok',\n",
    "\n",
    "    # Validation set gold file\n",
    "    'val_set_grndtruth': '/media/1tb_drive/multilingual-multimodal/flickr30k/train/processed/dev.de.tok',\n",
    "\n",
    "    # Print validation output to file\n",
    "    'output_val_set': True,\n",
    "\n",
    "    # Validation output file\n",
    "    'val_set_out': '/media/1tb_drive/test_min_risk_model_save/validation_out.txt',\n",
    "    'val_burn_in': 0,\n",
    "\n",
    "    # NEW PARAM FOR MIN RISK TRAINING\n",
    "    'n_samples': 100\n",
    "\n",
    "}\n",
    "\n",
    "# this returns the function for sampling from the model\n",
    "def get_sampling_model_and_input(exp_config):\n",
    "    # Create Theano variables\n",
    "    encoder = BidirectionalEncoder(\n",
    "        exp_config['src_vocab_size'], exp_config['enc_embed'], exp_config['enc_nhids'])\n",
    "\n",
    "#   TODO: decoder with special generate function which can take a prefix as input\n",
    "    decoder = Decoder(\n",
    "        exp_config['trg_vocab_size'], exp_config['dec_embed'], exp_config['dec_nhids'],\n",
    "        exp_config['enc_nhids'] * 2, loss_function='min_risk')\n",
    "\n",
    "    # Create Theano variables\n",
    "    logger.info('Creating theano variables')\n",
    "    sampling_input = tensor.lmatrix('source')\n",
    "\n",
    "    # TODO: beam search which can take (source, prefix) as input\n",
    "    # Get beam search\n",
    "    logger.info(\"Building sampling model\")\n",
    "    sampling_representation = encoder.apply(\n",
    "        sampling_input, tensor.ones(sampling_input.shape))\n",
    "    generated = decoder.generate(sampling_input, sampling_representation)\n",
    "\n",
    "#     _, samples = VariableFilter(\n",
    "#         bricks=[decoder.sequence_generator], name=\"outputs\")(\n",
    "#                  ComputationGraph(generated[1]))  # generated[1] is next_outputs\n",
    "#     beam_search = BeamSearch(samples=samples)\n",
    "\n",
    "    # build the model that will let us get a theano function from the sampling graph\n",
    "    logger.info(\"Creating Sampling Model...\")\n",
    "    sampling_model = Model(generated)\n",
    "\n",
    "    return sampling_model, sampling_input, encoder, decoder\n",
    "\n",
    "sample_model, theano_sampling_input, train_encoder, train_decoder = get_sampling_model_and_input(exp_config)"
   ]
  },
  {
   "cell_type": "code",
   "execution_count": null,
   "metadata": {
    "collapsed": true
   },
   "outputs": [],
   "source": [
    "# test that we can pull samples from the model\n",
    "trg_vocab = cPickle.load(open(exp_config['trg_vocab']))\n",
    "trg_vocab_size = exp_config['trg_vocab_size'] - 1\n",
    "src_vocab = cPickle.load(open(exp_config['src_vocab']))\n",
    "src_vocab_size = exp_config['src_vocab_size'] - 1\n",
    "\n",
    "src_vocab = _ensure_special_tokens(src_vocab, bos_idx=0,\n",
    "                                   eos_idx=src_vocab_size, unk_idx=exp_config['unk_id'])\n",
    "trg_vocab = _ensure_special_tokens(trg_vocab, bos_idx=0,\n",
    "                                   eos_idx=trg_vocab_size, unk_idx=exp_config['unk_id'])\n",
    "\n",
    "theano_sample_func = sample_model.get_theano_function()\n",
    "\n",
    "# note: we close over the sampling func and the trg_vocab to standardize the interface\n",
    "# TODO: actually this should be a callable class with params (sampling_func, trg_vocab)\n",
    "# TODO: we may be able to make this function faster by passing multiple sources for sampling at the same damn time\n",
    "# TODO: or by avoiding the for loop somehow\n",
    "def sampling_func(source_seq, num_samples=1):\n",
    "\n",
    "    def _get_true_length(seqs, vocab):\n",
    "        try:\n",
    "            lens = []\n",
    "            for r in seqs.tolist():\n",
    "                lens.append(r.index(vocab['</S>']) + 1)\n",
    "            return lens\n",
    "        except ValueError:\n",
    "            return [seqs.shape[1] for _ in range(seqs.shape[0])]\n",
    "\n",
    "    # samples = []\n",
    "    # for _ in range(num_samples):\n",
    "        # outputs of self.sampling_fn = outputs of sequence_generator.generate: next_states + [next_outputs] +\n",
    "        #                 list(next_glimpses.values()) + [next_costs])\n",
    "        # _1, outputs, _2, _3, costs = theano_sample_func(source_seq[None, :])\n",
    "        # if we are generating a single sample, the length of the output will be len(source_seq)*2\n",
    "        # see decoder.generate\n",
    "        # the output is a [seq_len, 1] array\n",
    "        # outputs = outputs.reshape(outputs.shape[0])\n",
    "        # outputs = outputs[:_get_true_length(outputs, trg_vocab)]\n",
    "        # samples.append(outputs)\n",
    "\n",
    "    inputs = numpy.tile(source_seq[None, :], (num_samples, 1))\n",
    "    # the output is [seq_len, batch]\n",
    "    _1, outputs, _2, _3, costs = theano_sample_func(inputs)\n",
    "    outputs = outputs.T\n",
    "\n",
    "    # TODO: this step could be avoided by computing the samples mask in a different way\n",
    "    lens = _get_true_length(outputs, trg_vocab)\n",
    "    samples = [s[:l] for s,l in zip(outputs.tolist(), lens)]\n",
    "\n",
    "    return samples"
   ]
  },
  {
   "cell_type": "code",
   "execution_count": null,
   "metadata": {
    "collapsed": true
   },
   "outputs": [],
   "source": [
    "src_stream = get_textfile_stream(source_file=exp_config['src_data'], src_vocab=exp_config['src_vocab'],\n",
    "                                         src_vocab_size=exp_config['src_vocab_size'])\n",
    "\n",
    "# test_source_stream.sources = ('sources',)\n",
    "trg_stream = get_textfile_stream(source_file=exp_config['trg_data'], src_vocab=exp_config['trg_vocab'],\n",
    "                                         src_vocab_size=exp_config['trg_vocab_size'])\n",
    "\n",
    "# Merge them to get a source, target pair\n",
    "training_stream = Merge([src_stream,\n",
    "                         trg_stream],\n",
    "                         ('source', 'target'))\n",
    "\n",
    "# Filter sequences that are too long\n",
    "training_stream = Filter(training_stream,\n",
    "                         predicate=_too_long(seq_len=exp_config['seq_len']))\n",
    "\n",
    "# sampling_transformer = MTSampleStreamTransformer(sampling_func, fake_score, num_samples=5)\n",
    "sampling_transformer = MTSampleStreamTransformer(sampling_func, sentence_level_bleu, num_samples=exp_config['n_samples'])\n",
    "\n",
    "training_stream = Mapping(training_stream, sampling_transformer, add_sources=('samples', 'scores'))\n",
    "\n",
    "# TODO: this method connects the data stream with the decoder cost function, is there a better way to decouple?\n",
    "class FlattenSamples(Transformer):\n",
    "    \"\"\"Flatten one dimension from the samples, the reshaping for cost computation\n",
    "    is done inside the cost function\n",
    "\n",
    "    Parameters\n",
    "    ----------\n",
    "    data_stream : :class:`AbstractDataStream` instance\n",
    "        The data stream to wrap\n",
    "\n",
    "    \"\"\"\n",
    "    def __init__(self, data_stream, **kwargs):\n",
    "        if data_stream.produces_examples:\n",
    "            raise ValueError('the wrapped data stream must produce batches of '\n",
    "                             'examples, not examples')\n",
    "        super(FlattenSamples, self).__init__(\n",
    "            data_stream, produces_examples=False, **kwargs)\n",
    "\n",
    "#         if mask_dtype is None:\n",
    "#             self.mask_dtype = config.floatX\n",
    "#         else:\n",
    "#             self.mask_dtype = mask_dtype\n",
    "\n",
    "    @property\n",
    "    def sources(self):\n",
    "        return self.data_stream.sources\n",
    "#         sources = []\n",
    "#         for source in self.data_stream.sources:\n",
    "#             sources.append(source)\n",
    "#             if source in self.mask_sources:\n",
    "#                 sources.append(source + '_mask')\n",
    "#         return tuple(sources)\n",
    "\n",
    "    def transform_batch(self, batch):\n",
    "        batch_with_flattened_samples = []\n",
    "        for i, (source, source_batch) in enumerate(\n",
    "                zip(self.data_stream.sources, batch)):\n",
    "#             if source not in self.mask_sources:\n",
    "#                 batch_with_masks.append(source_batch)\n",
    "#                 continue\n",
    "            if source == 'samples':\n",
    "                flattened_samples = []\n",
    "                for ins in source_batch:\n",
    "                    for sample in ins:\n",
    "                        flattened_samples.append(sample)\n",
    "                batch_with_flattened_samples.append(flattened_samples)\n",
    "            else:\n",
    "                batch_with_flattened_samples.append(source_batch)\n",
    "\n",
    "        return tuple(batch_with_flattened_samples)\n",
    "\n",
    "# TODO: modify this transformer to split a (source, target) stream into (source, prefix, completion) triples\n",
    "class CopySourceNTimes(Transformer):\n",
    "    \"\"\"Duplicate the source N times to match the number of samples\n",
    "\n",
    "    We need this transformer because the attention model expects one source sequence for each\n",
    "    target sequence, but in the sampling case there are effectively (instances*sample_size) target sequences\n",
    "\n",
    "    Parameters\n",
    "    ----------\n",
    "    data_stream : :class:`AbstractDataStream` instance\n",
    "        The data stream to wrap\n",
    "    n_samples : int -- the number of samples that were generated for each source sequence\n",
    "\n",
    "    \"\"\"\n",
    "    def __init__(self, data_stream, n_samples=5, **kwargs):\n",
    "        if data_stream.produces_examples:\n",
    "            raise ValueError('the wrapped data stream must produce batches of '\n",
    "                             'examples, not examples')\n",
    "        self.n_samples = n_samples\n",
    "\n",
    "        super(CopySourceNTimes, self).__init__(\n",
    "            data_stream, produces_examples=False, **kwargs)\n",
    "\n",
    "\n",
    "    @property\n",
    "    def sources(self):\n",
    "        return self.data_stream.sources\n",
    "\n",
    "    def transform_batch(self, batch):\n",
    "        batch_with_expanded_source = []\n",
    "        for i, (source, source_batch) in enumerate(\n",
    "                zip(self.data_stream.sources, batch)):\n",
    "            if source == 'source':\n",
    "#                 copy each source seqoyuence self.n_samples times, but keep the tensor 2d\n",
    "\n",
    "                expanded_source = []\n",
    "                for ins in source_batch:\n",
    "                    expanded_source.extend([ins for _ in range(self.n_samples)])\n",
    "\n",
    "                batch_with_expanded_source.append(expanded_source)\n",
    "            else:\n",
    "                batch_with_expanded_source.append(source_batch)\n",
    "\n",
    "        return tuple(batch_with_expanded_source)\n",
    "\n",
    "\n",
    "\n",
    "# Replace out of vocabulary tokens with unk token\n",
    "# training_stream = Mapping(training_stream,\n",
    "#                  _oov_to_unk(src_vocab_size=exp_config['src_vocab_size'],\n",
    "#                              trg_vocab_size=exp_config['trg_vocab_size'],\n",
    "#                              unk_id=exp_config['unk_id']))\n",
    "\n",
    "# Build a batched version of stream to read k batches ahead\n",
    "training_stream = Batch(training_stream,\n",
    "               iteration_scheme=ConstantScheme(\n",
    "                   exp_config['batch_size']*exp_config['sort_k_batches']))\n",
    "\n",
    "# Sort all samples in the read-ahead batch\n",
    "training_stream = Mapping(training_stream, SortMapping(_length))\n",
    "\n",
    "# Convert it into a stream again\n",
    "training_stream = Unpack(training_stream)\n",
    "\n",
    "# Construct batches from the stream with specified batch size\n",
    "training_stream = Batch(\n",
    "    training_stream, iteration_scheme=ConstantScheme(exp_config['batch_size']))\n",
    "\n",
    "# Pad sequences that are short\n",
    "# IDEA: add a transformer which flattens the target samples before we add the mask\n",
    "flat_sample_stream = FlattenSamples(training_stream)\n",
    "\n",
    "expanded_source_stream = CopySourceNTimes(flat_sample_stream, n_samples=exp_config['n_samples'])\n",
    "\n",
    "# TODO: some sources can be excluded from the padding Op, but since blocks matches sources with input variable\n",
    "# TODO: names, it's not critical\n",
    "masked_stream = PaddingWithEOS(\n",
    "    expanded_source_stream, [exp_config['src_vocab_size'] - 1, exp_config['trg_vocab_size'] - 1])\n",
    "\n",
    "\n",
    "def create_model(encoder, decoder):\n",
    "\n",
    "    # Create Theano variables\n",
    "    logger.info('Creating theano variables')\n",
    "    source_sentence = tensor.lmatrix('source')\n",
    "    source_sentence_mask = tensor.matrix('source_mask')\n",
    "\n",
    "#     target_samples = tensor.tensor3('samples').astype('int64')\n",
    "#     target_samples_mask = tensor.tensor3('target_samples_mask').astype('int64')\n",
    "    samples = tensor.lmatrix('samples')\n",
    "    samples_mask = tensor.matrix('samples_mask')\n",
    "\n",
    "    # scores is (batch, samples)\n",
    "    scores = tensor.matrix('scores')\n",
    "    # We don't need a scores mask because there should be the same number of scores for each instance\n",
    "    # num samples is a hyperparameter of the model\n",
    "\n",
    "    # the name is important to make sure pre-trained params get loaded correctly\n",
    "#     decoder.name = 'decoder'\n",
    "\n",
    "    # This is the part that is different for the MinimumRiskSequenceGenerator\n",
    "    cost = decoder.expected_cost(\n",
    "        encoder.apply(source_sentence, source_sentence_mask),\n",
    "        source_sentence_mask, samples, samples_mask, scores)\n",
    "\n",
    "\n",
    "    return cost\n",
    "\n",
    "\n",
    "def main(model, cost, config, tr_stream, dev_stream, use_bokeh=False):\n",
    "\n",
    "    # Set the parameters from a trained models (.npz file)\n",
    "    logger.info(\"Loading parameters from model: {}\".format(exp_config['saved_parameters']))\n",
    "    # Note the brick delimeter='-' is here for legacy reasons because blocks changed the serialization API\n",
    "    param_values = LoadNMT.load_parameter_values(config['saved_parameters'], brick_delimiter='-')\n",
    "    LoadNMT.set_model_parameters(model, param_values)\n",
    "\n",
    "    logger.info('Creating computational graph')\n",
    "    cg = ComputationGraph(cost)\n",
    "\n",
    "    # create the training directory, and copy this config there if directory doesn't exist\n",
    "#     if not os.path.isdir(config['saveto']):\n",
    "#         os.makedirs(config['saveto'])\n",
    "#         shutil.copy(config['config_file'], config['saveto'])\n",
    "\n",
    "    # Set extensions\n",
    "    logger.info(\"Initializing extensions\")\n",
    "    extensions = [\n",
    "        FinishAfter(after_n_batches=config['finish_after']),\n",
    "        TrainingDataMonitoring([cost], after_batch=True),\n",
    "        Printing(after_batch=True),\n",
    "         CheckpointNMT(config['saveto'],\n",
    "                       every_n_batches=config['save_freq'])\n",
    "    ]\n",
    "\n",
    "\n",
    "    # Set up beam search and sampling computation graphs if necessary\n",
    "\n",
    "    if config['hook_samples'] >= 1 or config['bleu_script'] is not None:\n",
    "        logger.info(\"Building sampling model\")\n",
    "        sampling_representation = train_encoder.apply(\n",
    "            theano_sampling_input, tensor.ones(theano_sampling_input.shape))\n",
    "        # TODO: the generated output actually contains several more values, ipdb to see what they are\n",
    "        generated = train_decoder.generate(theano_sampling_input, sampling_representation)\n",
    "        search_model = Model(generated)\n",
    "        _, samples = VariableFilter(\n",
    "            bricks=[train_decoder.sequence_generator], name=\"outputs\")(\n",
    "                ComputationGraph(generated[1]))  # generated[1] is next_outputs\n",
    "\n",
    "    # Add sampling\n",
    "    if config['hook_samples'] >= 1:\n",
    "        logger.info(\"Building sampler\")\n",
    "        extensions.append(\n",
    "            Sampler(model=search_model, data_stream=tr_stream,\n",
    "                    hook_samples=config['hook_samples'],\n",
    "                    every_n_batches=config['sampling_freq'],\n",
    "                    src_vocab_size=config['src_vocab_size']))\n",
    "\n",
    "    # Add early stopping based on bleu\n",
    "    if config['bleu_script'] is not None:\n",
    "        logger.info(\"Building bleu validator\")\n",
    "        extensions.append(\n",
    "            BleuValidator(theano_sampling_input, samples=samples, config=config,\n",
    "                          model=search_model, data_stream=dev_stream,\n",
    "                          normalize=config['normalized_bleu'],\n",
    "                          every_n_batches=config['bleu_val_freq']))\n",
    "\n",
    "    # Reload model if necessary\n",
    "    if config['reload']:\n",
    "        extensions.append(LoadNMT(config['saveto']))\n",
    "\n",
    "    # Plot cost in bokeh if necessary\n",
    "    if use_bokeh and BOKEH_AVAILABLE:\n",
    "        extensions.append(\n",
    "            Plot(config['model_save_directory'], channels=[['decoder_cost_cost'], ['validation_set_bleu_score']],\n",
    "                 every_n_batches=10))\n",
    "\n",
    "    # Set up training algorithm\n",
    "    logger.info(\"Initializing training algorithm\")\n",
    "    # if there is dropout or random noise, we need to use the output of the modified graph\n",
    "#     if config['dropout'] < 1.0 or config['weight_noise_ff'] > 0.0:\n",
    "#         algorithm = GradientDescent(\n",
    "#             cost=cg.outputs[0], parameters=cg.parameters,\n",
    "#             step_rule=CompositeRule([StepClipping(config['step_clipping']),\n",
    "#                                      eval(config['step_rule'])()])\n",
    "#         )\n",
    "#     else:\n",
    "#         algorithm = GradientDescent(\n",
    "#             cost=cost, parameters=cg.parameters,\n",
    "#             step_rule=CompositeRule([StepClipping(config['step_clipping']),\n",
    "#                                      eval(config['step_rule'])()])\n",
    "#         )\n",
    "\n",
    "    algorithm = GradientDescent(\n",
    "        cost=cost, parameters=cg.parameters,\n",
    "        step_rule=CompositeRule([StepClipping(config['step_clipping']),\n",
    "                                 eval(config['step_rule'])()],\n",
    "                               ),\n",
    "        on_unused_sources='warn'\n",
    "    )\n",
    "\n",
    "    # enrich the logged information\n",
    "    extensions.append(\n",
    "        Timing(every_n_batches=100)\n",
    "    )\n",
    "\n",
    "    # Initialize main loop\n",
    "    logger.info(\"Initializing main loop\")\n",
    "    main_loop = MainLoop(\n",
    "        model=model,\n",
    "        algorithm=algorithm,\n",
    "        data_stream=tr_stream,\n",
    "        extensions=extensions\n",
    "    )\n",
    "\n",
    "    # Train!\n",
    "    main_loop.run()\n",
    "\n",
    "\n",
    "training_cost = create_model(train_encoder, train_decoder)\n",
    "\n",
    "\n",
    "# Set up training model\n",
    "logger.info(\"Building model\")\n",
    "train_model = Model(training_cost)\n",
    "\n",
    "\n",
    "# test_iter = masked_stream.get_epoch_iterator()\n",
    "\n",
    "# source, source_mask, target, target_mask, samples, samples_mask, scores, scores_mask = test_iter.next()\n",
    "\n",
    "# train_model.inputs\n",
    "\n",
    "# test_func = train_model.get_theano_function()\n",
    "\n",
    "# scores = scores.astype('float32')\n",
    "# out = test_func(scores, samples_mask, source_mask, source, samples)\n",
    "\n",
    "\n",
    "# numpy.exp(out)\n",
    "# out[0].shape\n",
    "# out\n",
    "# scores\n",
    "# src_ivocab = {v:k for k,v in src_vocab.items()}\n",
    "\n",
    "dev_stream = get_dev_stream(**exp_config)\n",
    "\n",
    "main(train_model, training_cost, exp_config, masked_stream, dev_stream=dev_stream, use_bokeh=True)"
   ]
  }
 ],
 "metadata": {
  "kernelspec": {
   "display_name": "Python 2",
   "language": "python",
   "name": "python2"
  },
  "language_info": {
   "codemirror_mode": {
    "name": "ipython",
    "version": 2.0
   },
   "file_extension": ".py",
   "mimetype": "text/x-python",
   "name": "python",
   "nbconvert_exporter": "python",
   "pygments_lexer": "ipython2",
   "version": "2.7.11"
  }
 },
 "nbformat": 4,
 "nbformat_minor": 0
}