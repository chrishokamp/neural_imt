{
 "cells": [
  {
   "cell_type": "code",
   "execution_count": 1,
   "metadata": {
    "collapsed": true
   },
   "outputs": [],
   "source": [
    "import codecs \n",
    "import numpy as np\n",
    "import os"
   ]
  },
  {
   "cell_type": "code",
   "execution_count": 3,
   "metadata": {
    "collapsed": false
   },
   "outputs": [],
   "source": [
    "NUM_SAMPLES = 1000\n",
    "\n",
    "# newstest 2013\n",
    "source_file=\"/media/1tb_drive/imt_models/newstest_2013_evaluation/reference_prefixes.generated.sources\"\n",
    "prefix_file=\"/media/1tb_drive/imt_models/newstest_2013_evaluation/reference_prefixes.generated\"\n",
    "suffix_file=\"/media/1tb_drive/imt_models/newstest_2013_evaluation/reference_suffixes.generated\"\n",
    "\n",
    "output_dir = '/media/1tb_drive/imt_models/newstest_2013_evaluation/newstest2013_{}_samples'.format(NUM_SAMPLES)\n",
    "output_suffix = '{}.samples'.format(NUM_SAMPLES)\n",
    "\n",
    "# newstest 2014\n",
    "#source_file=\"/media/1tb_drive/imt_models/newstest_2014_evaluation/newstest2014_all_data/reference_prefixes.generated.sources\"\n",
    "#prefix_file=\"/media/1tb_drive/imt_models/newstest_2014_evaluation/newstest2014_all_data/reference_prefixes.generated\"\n",
    "#suffix_file=\"/media/1tb_drive/imt_models/newstest_2014_evaluation/newstest2014_all_data/reference_suffixes.generated\"\n",
    "#output_dir = '/media/1tb_drive/imt_models/newstest_2014_evaluation/newstest2014_{}_samples'.format(NUM_SAMPLES)\n",
    "#output_suffix = '{}.samples'.format(NUM_SAMPLES)"
   ]
  },
  {
   "cell_type": "code",
   "execution_count": 4,
   "metadata": {
    "collapsed": true
   },
   "outputs": [],
   "source": [
    "def prep(file_obj):\n",
    "    return [l for l in file_obj.read().strip().split('\\n')]"
   ]
  },
  {
   "cell_type": "code",
   "execution_count": 5,
   "metadata": {
    "collapsed": true
   },
   "outputs": [],
   "source": [
    "with codecs.open(source_file, encoding='utf8') as srcs:\n",
    "    with codecs.open(prefix_file, encoding='utf8') as prefixes:\n",
    "        with codecs.open(suffix_file, encoding='utf8') as suffixes:\n",
    "            lines = zip(*[prep(f) for f in [srcs,prefixes,suffixes]])\n",
    "            "
   ]
  },
  {
   "cell_type": "code",
   "execution_count": 6,
   "metadata": {
    "collapsed": false
   },
   "outputs": [
    {
     "data": {
      "text/plain": [
       "75838"
      ]
     },
     "execution_count": 6,
     "metadata": {},
     "output_type": "execute_result"
    }
   ],
   "source": [
    "len(lines)"
   ]
  },
  {
   "cell_type": "code",
   "execution_count": 7,
   "metadata": {
    "collapsed": true
   },
   "outputs": [],
   "source": [
    "# deterministic sampling\n",
    "seed = 42\n",
    "np.random.seed(seed)"
   ]
  },
  {
   "cell_type": "code",
   "execution_count": 8,
   "metadata": {
    "collapsed": true
   },
   "outputs": [],
   "source": [
    "arr_lines = np.array(lines)"
   ]
  },
  {
   "cell_type": "code",
   "execution_count": 9,
   "metadata": {
    "collapsed": false
   },
   "outputs": [],
   "source": [
    "samples = arr_lines[np.random.choice(arr_lines.shape[0], size=NUM_SAMPLES, replace=False),:]"
   ]
  },
  {
   "cell_type": "code",
   "execution_count": 10,
   "metadata": {
    "collapsed": true
   },
   "outputs": [],
   "source": [
    "if not os.path.isdir(output_dir):\n",
    "    os.mkdir(output_dir)"
   ]
  },
  {
   "cell_type": "code",
   "execution_count": 11,
   "metadata": {
    "collapsed": true
   },
   "outputs": [],
   "source": [
    "# sampled_srcs, sampled_prefixes, sampled_suffixes = zip(*samples)"
   ]
  },
  {
   "cell_type": "code",
   "execution_count": 12,
   "metadata": {
    "collapsed": true
   },
   "outputs": [],
   "source": [
    "output_files = ['{}.{}'.format(f.split('/')[-1], output_suffix) for f in [source_file, prefix_file, suffix_file]] "
   ]
  },
  {
   "cell_type": "code",
   "execution_count": 13,
   "metadata": {
    "collapsed": false
   },
   "outputs": [
    {
     "data": {
      "text/plain": [
       "['reference_prefixes.generated.sources.1000.samples',\n",
       " 'reference_prefixes.generated.1000.samples',\n",
       " 'reference_suffixes.generated.1000.samples']"
      ]
     },
     "execution_count": 13,
     "metadata": {},
     "output_type": "execute_result"
    }
   ],
   "source": [
    "output_files"
   ]
  },
  {
   "cell_type": "code",
   "execution_count": 14,
   "metadata": {
    "collapsed": true
   },
   "outputs": [],
   "source": [
    "for out_lines, out_file in zip(zip(*samples), output_files):\n",
    "    with codecs.open(os.path.join(output_dir, out_file), 'w', encoding='utf8') as out:\n",
    "        out.write('\\n'.join(out_lines))"
   ]
  },
  {
   "cell_type": "code",
   "execution_count": null,
   "metadata": {
    "collapsed": true
   },
   "outputs": [],
   "source": []
  }
 ],
 "metadata": {
  "kernelspec": {
   "display_name": "Python 2",
   "language": "python",
   "name": "python2"
  },
  "language_info": {
   "codemirror_mode": {
    "name": "ipython",
    "version": 2
   },
   "file_extension": ".py",
   "mimetype": "text/x-python",
   "name": "python",
   "nbconvert_exporter": "python",
   "pygments_lexer": "ipython2",
   "version": "2.7.11"
  }
 },
 "nbformat": 4,
 "nbformat_minor": 0
}
