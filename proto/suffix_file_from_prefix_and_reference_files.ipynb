{
 "cells": [
  {
   "cell_type": "code",
   "execution_count": 10,
   "metadata": {
    "collapsed": true
   },
   "outputs": [],
   "source": [
    "# the Phrasal deterministic extraction script extracts (prefix, reference) files, \n",
    "# but our implementations use (prefix, suffix) files, so we need to chop the reference up to the prefix\n",
    "# and write a new file"
   ]
  },
  {
   "cell_type": "code",
   "execution_count": 11,
   "metadata": {
    "collapsed": true
   },
   "outputs": [],
   "source": [
    "import codecs"
   ]
  },
  {
   "cell_type": "code",
   "execution_count": 12,
   "metadata": {
    "collapsed": true
   },
   "outputs": [],
   "source": [
    "# start_token = u'<S>'\n",
    "# end_token = u'<\\S>'"
   ]
  },
  {
   "cell_type": "code",
   "execution_count": 13,
   "metadata": {
    "collapsed": true
   },
   "outputs": [],
   "source": [
    "# NOTE: does this need to be done AFTER BPE, or is the end result the same? -- words will be the same,\n",
    "# but <S> and <\\S> tags need to be added after, because they will also get segmented by the model, and the references will be wrong\n",
    "# TODO: <\\S> tag should be added in a separate script\n",
    "# NOTE: ... since segementation only happens inside words\n",
    "\n",
    "# Phrasal en-fr DEV\n",
    "# PREFIX_FILE = '/media/1tb_drive/parallel_data/en-fr/phrasal_acl/devtest/autodesk_fra_mt_pe.fr.cleaned.tok.first10k.prefix'\n",
    "# REFERENCE_FILE = '/media/1tb_drive/parallel_data/en-fr/phrasal_acl/devtest/autodesk_fra_mt_pe.fr.cleaned.tok.first10k.out'\n",
    "# SUFFIX_OUTPUT_FILE = '/media/1tb_drive/parallel_data/en-fr/phrasal_acl/devtest/autodesk_fra_mt_pe.fr.cleaned.tok.first10k.suffix'\n",
    "\n",
    "# Phrasal en-fr TEST\n",
    "PREFIX_FILE = '/media/1tb_drive/parallel_data/en-fr/phrasal_acl/devtest/autodesk_fra_mt_pe.fr.cleaned.tok.test02.prefix'\n",
    "REFERENCE_FILE = '/media/1tb_drive/parallel_data/en-fr/phrasal_acl/devtest/autodesk_fra_mt_pe.fr.cleaned.tok.test02.out'\n",
    "SUFFIX_OUTPUT_FILE = '/media/1tb_drive/parallel_data/en-fr/phrasal_acl/devtest/autodesk_fra_mt_pe.fr.cleaned.tok.test02.suffix'"
   ]
  },
  {
   "cell_type": "code",
   "execution_count": 14,
   "metadata": {
    "collapsed": true
   },
   "outputs": [],
   "source": [
    "# NOTE: we assume whitespace tokenisation\n",
    "with codecs.open(REFERENCE_FILE, encoding='utf8') as refs:\n",
    "    ref_lines = [l.split() for l in refs.read().strip().split('\\n')]\n",
    "    \n",
    "with codecs.open(PREFIX_FILE, encoding='utf8') as prefixes:\n",
    "    prefix_lines = [l.split() for l in prefixes.read().strip().split('\\n')]\n",
    "    \n",
    "# add the start and end tokens\n",
    "# ref_lines = [[start_token] + l + [end_token] for l in ref_lines]\n",
    "# prefix_lines = [[start_token] + l for l in prefix_lines]"
   ]
  },
  {
   "cell_type": "code",
   "execution_count": 15,
   "metadata": {
    "collapsed": true
   },
   "outputs": [],
   "source": [
    "assert len(ref_lines) == len(prefix_lines)"
   ]
  },
  {
   "cell_type": "code",
   "execution_count": 16,
   "metadata": {
    "collapsed": false
   },
   "outputs": [],
   "source": [
    "# build the suffixes\n",
    "\n",
    "suffix_lines = []\n",
    "\n",
    "for prefix, ref in zip(prefix_lines, ref_lines):\n",
    "    suffix = ref[len(prefix):]\n",
    "    p_copy = list(prefix)\n",
    "    p_copy.extend(suffix)\n",
    "    assert len(p_copy) == len(ref)\n",
    "    assert all(t[0] == t[1] for t in zip(p_copy, ref))\n",
    "    \n",
    "    suffix_lines.append(suffix)"
   ]
  },
  {
   "cell_type": "code",
   "execution_count": 17,
   "metadata": {
    "collapsed": false
   },
   "outputs": [],
   "source": [
    "assert len(ref_lines) == len(prefix_lines) == len(suffix_lines)"
   ]
  },
  {
   "cell_type": "code",
   "execution_count": 18,
   "metadata": {
    "collapsed": true
   },
   "outputs": [],
   "source": [
    "with codecs.open(SUFFIX_OUTPUT_FILE, 'w', encoding='utf8') as suffs:\n",
    "    suffs.write(u'\\n'.join([u' '.join(l) for l in suffix_lines]))"
   ]
  }
 ],
 "metadata": {
  "kernelspec": {
   "display_name": "Python 2",
   "language": "python",
   "name": "python2"
  },
  "language_info": {
   "codemirror_mode": {
    "name": "ipython",
    "version": 2
   },
   "file_extension": ".py",
   "mimetype": "text/x-python",
   "name": "python",
   "nbconvert_exporter": "python",
   "pygments_lexer": "ipython2",
   "version": "2.7.11"
  }
 },
 "nbformat": 4,
 "nbformat_minor": 0
}
